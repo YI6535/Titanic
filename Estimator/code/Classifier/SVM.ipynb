{
 "cells": [
  {
   "cell_type": "code",
   "execution_count": 8,
   "metadata": {
    "collapsed": true
   },
   "outputs": [],
   "source": [
    "import pandas as pd\n",
    "from matplotlib import pyplot as plt\n",
    "import matplotlib\n",
    "import numpy as np"
   ]
  },
  {
   "cell_type": "code",
   "execution_count": 9,
   "metadata": {
    "collapsed": true
   },
   "outputs": [],
   "source": [
    "X_train = np.load(\"../../../Processing/data/X_train.npy\")\n",
    "y_train = np.load(\"../../../Processing/data/y_train.npy\")\n",
    "X_test = np.load(\"../../../Processing/data/X_test.npy\")\n",
    "y_test = np.load(\"../../../Processing/data/y_test.npy\")\n",
    "real_test = np.load(\"../../../Processing/data/real_test.npy\")\n",
    "targets = np.load(\"../../../Processing/data/targets.npy\")\n",
    "all_train = np.load(\"../../../Processing/data/all_train.npy\")"
   ]
  },
  {
   "cell_type": "code",
   "execution_count": 10,
   "metadata": {
    "collapsed": false
   },
   "outputs": [],
   "source": [
    "from sklearn.svm import SVC\n",
    "from sklearn.grid_search import GridSearchCV\n",
    "from sklearn.cross_validation import StratifiedKFold\n",
    "parameter_grid = {\n",
    "                  \"C\":[1]\n",
    "                  }\n",
    "cross_validation = StratifiedKFold(y_train, n_folds=5)\n",
    "gs = GridSearchCV(estimator = SVC(kernel=\"linear\"),\n",
    "                   param_grid = parameter_grid,\n",
    "                  cv = cross_validation)"
   ]
  },
  {
   "cell_type": "code",
   "execution_count": 11,
   "metadata": {
    "collapsed": false
   },
   "outputs": [
    {
     "name": "stdout",
     "output_type": "stream",
     "text": [
      "0.824438202247191\n",
      "{'C': 1}\n"
     ]
    }
   ],
   "source": [
    "gs = gs.fit(X_train, y_train)\n",
    "print(gs.best_score_)\n",
    "print(gs.best_params_)"
   ]
  },
  {
   "cell_type": "code",
   "execution_count": 12,
   "metadata": {
    "collapsed": false
   },
   "outputs": [
    {
     "name": "stdout",
     "output_type": "stream",
     "text": [
      "Test accuracy: 0.788\n"
     ]
    }
   ],
   "source": [
    "clf = gs.best_estimator_\n",
    "clf.fit(X_train, y_train)\n",
    "print('Test accuracy: %.3f' % clf.score(X_test, y_test))"
   ]
  },
  {
   "cell_type": "markdown",
   "metadata": {},
   "source": [
    "全データをfitさせてテストデータに対する出力を求める"
   ]
  },
  {
   "cell_type": "code",
   "execution_count": 13,
   "metadata": {
    "collapsed": false
   },
   "outputs": [],
   "source": [
    "clf.fit(all_train, targets)\n",
    "test = pd.read_csv(\"../../../Training_test_data/test.csv\")\n",
    "output = clf.predict(real_test).astype(int)\n",
    "df_output = pd.DataFrame()\n",
    "df_output['PassengerId'] = test['PassengerId']\n",
    "df_output['Survived'] = output\n",
    "df_output[['PassengerId','Survived']].to_csv('../../../Submission/svm_only_output.csv',index=False)"
   ]
  },
  {
   "cell_type": "markdown",
   "metadata": {
    "collapsed": true
   },
   "source": [
    "Kernel SVM"
   ]
  },
  {
   "cell_type": "code",
   "execution_count": 14,
   "metadata": {
    "collapsed": false
   },
   "outputs": [],
   "source": [
    "from sklearn.svm import SVC\n",
    "from sklearn.cross_validation import cross_val_score\n",
    "from sklearn.pipeline import Pipeline\n",
    "from sklearn.preprocessing import StandardScaler\n",
    "\n",
    "best_score = 0.857\n",
    "for i in range(5,20):\n",
    "    i = i / 100    \n",
    "    for j in range(100,250):\n",
    "        j = j / 100\n",
    "        clf_svm = SVC(kernel='linear',random_state=0,gamma=i,C=j)\n",
    "        pipe_svm = Pipeline([['sc', StandardScaler()],['clf', clf_svm]])\n",
    "        scores = cross_val_score(estimator=clf_svm,\n",
    "                                 X=X_train,\n",
    "                                 y=y_train,\n",
    "                                 cv=10,\n",
    "                                 scoring='roc_auc')\n",
    "        if scores.mean() > best_score:\n",
    "            print(\"gamma:\",i,\"C:\",j,scores.mean(),\"+-\",scores.std())\n"
   ]
  },
  {
   "cell_type": "code",
   "execution_count": 15,
   "metadata": {
    "collapsed": true
   },
   "outputs": [],
   "source": [
    "clf = SVC(kernel='rbf',random_state=0,gamma=0.06,C=1.01)"
   ]
  },
  {
   "cell_type": "code",
   "execution_count": 16,
   "metadata": {
    "collapsed": false
   },
   "outputs": [
    {
     "name": "stdout",
     "output_type": "stream",
     "text": [
      "Test accuracy: 0.827\n"
     ]
    }
   ],
   "source": [
    "clf.fit(X_train, y_train)\n",
    "print('Test accuracy: %.3f' % clf.score(X_test, y_test))"
   ]
  },
  {
   "cell_type": "code",
   "execution_count": 17,
   "metadata": {
    "collapsed": true
   },
   "outputs": [],
   "source": [
    "clf.fit(all_train, targets)\n",
    "test = pd.read_csv(\"../../../Training_test_data/test.csv\")\n",
    "output = clf.predict(real_test).astype(int)\n",
    "df_output = pd.DataFrame()\n",
    "df_output['PassengerId'] = test['PassengerId']\n",
    "df_output['Survived'] = output\n",
    "df_output[['PassengerId','Survived']].to_csv('../../../Submission/kernel_svm_only_output.csv',index=False)"
   ]
  },
  {
   "cell_type": "code",
   "execution_count": null,
   "metadata": {
    "collapsed": true
   },
   "outputs": [],
   "source": []
  }
 ],
 "metadata": {
  "anaconda-cloud": {},
  "kernelspec": {
   "display_name": "Python 3",
   "language": "python",
   "name": "python3"
  },
  "language_info": {
   "codemirror_mode": {
    "name": "ipython",
    "version": 3
   },
   "file_extension": ".py",
   "mimetype": "text/x-python",
   "name": "python",
   "nbconvert_exporter": "python",
   "pygments_lexer": "ipython3",
   "version": "3.5.2"
  }
 },
 "nbformat": 4,
 "nbformat_minor": 1
}
