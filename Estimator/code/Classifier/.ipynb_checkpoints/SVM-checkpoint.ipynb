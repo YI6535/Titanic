{
 "cells": [
  {
   "cell_type": "code",
   "execution_count": 1,
   "metadata": {
    "collapsed": true
   },
   "outputs": [],
   "source": [
    "import pandas as pd\n",
    "from matplotlib import pyplot as plt\n",
    "import matplotlib\n",
    "import numpy as np"
   ]
  },
  {
   "cell_type": "code",
   "execution_count": 2,
   "metadata": {
    "collapsed": true
   },
   "outputs": [],
   "source": [
    "X_train = np.load(\"../../../Processing/data/X_train.npy\")\n",
    "y_train = np.load(\"../../../Processing/data/y_train.npy\")\n",
    "X_test = np.load(\"../../../Processing/data/X_test.npy\")\n",
    "y_test = np.load(\"../../../Processing/data/y_test.npy\")\n",
    "real_test = np.load(\"../../../Processing/data/real_test.npy\")\n",
    "targets = np.load(\"../../../Processing/data/targets.npy\")\n",
    "all_train = np.load(\"../../../Processing/data/all_train.npy\")"
   ]
  },
  {
   "cell_type": "code",
   "execution_count": 3,
   "metadata": {
    "collapsed": false
   },
   "outputs": [
    {
     "name": "stderr",
     "output_type": "stream",
     "text": [
      "C:\\Users\\Takashi\\Miniconda3\\lib\\site-packages\\sklearn\\cross_validation.py:44: DeprecationWarning: This module was deprecated in version 0.18 in favor of the model_selection module into which all the refactored classes and functions are moved. Also note that the interface of the new CV iterators are different from that of this module. This module will be removed in 0.20.\n",
      "  \"This module will be removed in 0.20.\", DeprecationWarning)\n",
      "C:\\Users\\Takashi\\Miniconda3\\lib\\site-packages\\sklearn\\grid_search.py:43: DeprecationWarning: This module was deprecated in version 0.18 in favor of the model_selection module into which all the refactored classes and functions are moved. This module will be removed in 0.20.\n",
      "  DeprecationWarning)\n"
     ]
    }
   ],
   "source": [
    "from sklearn.svm import SVC\n",
    "from sklearn.grid_search import GridSearchCV\n",
    "from sklearn.cross_validation import StratifiedKFold\n",
    "parameter_grid = {\n",
    "                  \"C\":[1]\n",
    "                  }\n",
    "cross_validation = StratifiedKFold(y_train, n_folds=5)\n",
    "gs = GridSearchCV(estimator = SVC(kernel=\"linear\"),\n",
    "                   param_grid = parameter_grid,\n",
    "                  cv = cross_validation)"
   ]
  },
  {
   "cell_type": "code",
   "execution_count": 8,
   "metadata": {
    "collapsed": false
   },
   "outputs": [
    {
     "name": "stdout",
     "output_type": "stream",
     "text": [
      "0.831460674157\n",
      "{'C': 1}\n"
     ]
    }
   ],
   "source": [
    "gs = gs.fit(X_train, y_train)\n",
    "print(gs.best_score_)\n",
    "print(gs.best_params_)"
   ]
  },
  {
   "cell_type": "code",
   "execution_count": null,
   "metadata": {
    "collapsed": false
   },
   "outputs": [],
   "source": [
    "clf = gs.best_estimator_\n",
    "clf.fit(X_train, y_train)\n",
    "print('Test accuracy: %.3f' % clf.score(X_test, y_test))"
   ]
  },
  {
   "cell_type": "markdown",
   "metadata": {},
   "source": [
    "全データをfitさせてテストデータに対する出力を求める"
   ]
  },
  {
   "cell_type": "code",
   "execution_count": 14,
   "metadata": {
    "collapsed": false
   },
   "outputs": [],
   "source": [
    "clf.fit(all_train, targets)\n",
    "test = pd.read_csv(\"../../../Training_test_data/test.csv\")\n",
    "output = clf.predict(real_test).astype(int)\n",
    "df_output = pd.DataFrame()\n",
    "df_output['PassengerId'] = test['PassengerId']\n",
    "df_output['Survived'] = output\n",
    "df_output[['PassengerId','Survived']].to_csv('../../../Submission/svm_only_output.csv',index=False)"
   ]
  },
  {
   "cell_type": "code",
   "execution_count": null,
   "metadata": {
    "collapsed": true
   },
   "outputs": [],
   "source": []
  },
  {
   "cell_type": "code",
   "execution_count": null,
   "metadata": {
    "collapsed": false
   },
   "outputs": [
    {
     "name": "stdout",
     "output_type": "stream",
     "text": [
      "gamma: 0.05 C: 1.0 0.857230431849 +- 0.0425550479522\n",
      "gamma: 0.05 C: 1.01 0.857337381916 +- 0.0419560954129\n",
      "gamma: 0.05 C: 1.02 0.857226045884 +- 0.0424280664862\n",
      "gamma: 0.06 C: 1.0 0.85764608637 +- 0.0418392352979\n",
      "gamma: 0.06 C: 1.01 0.85784851552 +- 0.0414869287944\n",
      "gamma: 0.06 C: 1.02 0.857760121457 +- 0.0417602152495\n",
      "gamma: 0.06 C: 1.03 0.857554993252 +- 0.0420974930612\n",
      "gamma: 0.06 C: 1.04 0.857122469636 +- 0.0415609063462\n",
      "gamma: 0.06 C: 1.06 0.857631916329 +- 0.0419633129424\n",
      "gamma: 0.06 C: 1.07 0.857311740891 +- 0.0417363172329\n",
      "gamma: 0.06 C: 1.08 0.85709682861 +- 0.041538968903\n",
      "gamma: 0.06 C: 1.11 0.857109311741 +- 0.0422826199527\n",
      "gamma: 0.06 C: 1.13 0.857442645074 +- 0.0412875914074\n",
      "gamma: 0.06 C: 1.14 0.857135964912 +- 0.0426509686701\n",
      "gamma: 0.06 C: 1.15 0.857359649123 +- 0.0426473817365\n",
      "gamma: 0.07 C: 1.0 0.85747537112 +- 0.0406149588571\n",
      "gamma: 0.07 C: 1.01 0.857074898785 +- 0.0416101802584\n",
      "gamma: 0.07 C: 1.02 0.857179149798 +- 0.0409908893831\n",
      "gamma: 0.07 C: 1.03 0.857172064777 +- 0.0410602162264\n"
     ]
    }
   ],
   "source": [
    "from sklearn.svm import SVC\n",
    "from sklearn.cross_validation import cross_val_score\n",
    "from sklearn.pipeline import Pipeline\n",
    "from sklearn.preprocessing import StandardScaler\n",
    "\n",
    "best_score = 0.857\n",
    "for i in range(5,20):\n",
    "    i = i / 100    \n",
    "    for j in range(100,250):\n",
    "        j = j / 100\n",
    "        clf_svm = SVC(kernel='rbf',random_state=0,gamma=i,C=j)\n",
    "        pipe_svm = Pipeline([['sc', StandardScaler()],['clf', clf_svm]])\n",
    "        scores = cross_val_score(estimator=clf_svm,\n",
    "                                 X=X_train,\n",
    "                                 y=y_train,\n",
    "                                 cv=10,\n",
    "                                 scoring='roc_auc')\n",
    "        if scores.mean() > best_score:\n",
    "            print(\"gamma:\",i,\"C:\",j,scores.mean(),\"+-\",scores.std())\n"
   ]
  },
  {
   "cell_type": "code",
   "execution_count": 4,
   "metadata": {
    "collapsed": true
   },
   "outputs": [],
   "source": [
    "clf = SVC(kernel='rbf',random_state=0,gamma=0.06,C=1.01)"
   ]
  },
  {
   "cell_type": "code",
   "execution_count": 5,
   "metadata": {
    "collapsed": false
   },
   "outputs": [
    {
     "name": "stdout",
     "output_type": "stream",
     "text": [
      "Test accuracy: 0.825\n"
     ]
    }
   ],
   "source": [
    "clf.fit(X_train, y_train)\n",
    "print('Test accuracy: %.3f' % clf.score(X_test, y_test))"
   ]
  },
  {
   "cell_type": "code",
   "execution_count": 6,
   "metadata": {
    "collapsed": true
   },
   "outputs": [],
   "source": [
    "clf.fit(all_train, targets)\n",
    "test = pd.read_csv(\"../../../Training_test_data/test.csv\")\n",
    "output = clf.predict(real_test).astype(int)\n",
    "df_output = pd.DataFrame()\n",
    "df_output['PassengerId'] = test['PassengerId']\n",
    "df_output['Survived'] = output\n",
    "df_output[['PassengerId','Survived']].to_csv('../../../Submission/kernel_svm_only_output.csv',index=False)"
   ]
  },
  {
   "cell_type": "code",
   "execution_count": null,
   "metadata": {
    "collapsed": true
   },
   "outputs": [],
   "source": []
  }
 ],
 "metadata": {
  "anaconda-cloud": {},
  "kernelspec": {
   "display_name": "Python 3",
   "language": "python",
   "name": "python3"
  },
  "language_info": {
   "codemirror_mode": {
    "name": "ipython",
    "version": 3
   },
   "file_extension": ".py",
   "mimetype": "text/x-python",
   "name": "python",
   "nbconvert_exporter": "python",
   "pygments_lexer": "ipython3",
   "version": "3.5.2"
  }
 },
 "nbformat": 4,
 "nbformat_minor": 1
}
