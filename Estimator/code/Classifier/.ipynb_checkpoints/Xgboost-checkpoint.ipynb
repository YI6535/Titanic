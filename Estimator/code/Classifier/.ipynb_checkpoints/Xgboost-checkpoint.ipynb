{
 "cells": [
  {
   "cell_type": "code",
   "execution_count": 2,
   "metadata": {
    "collapsed": true
   },
   "outputs": [],
   "source": [
    "import pandas as pd\n",
    "from matplotlib import pyplot as plt\n",
    "import matplotlib\n",
    "import numpy as np"
   ]
  },
  {
   "cell_type": "code",
   "execution_count": 3,
   "metadata": {
    "collapsed": false
   },
   "outputs": [],
   "source": [
    "X_train = np.load(\"../../../Processing/data/X_train.npy\")\n",
    "y_train = np.load(\"../../../Processing/data/y_train.npy\")\n",
    "X_test = np.load(\"../../../Processing/data/X_test.npy\")\n",
    "y_test = np.load(\"../../../Processing/data/y_test.npy\")\n",
    "real_test = np.load(\"../../../Processing/data/real_test.npy\")\n",
    "targets = np.load(\"../../../Processing/data/targets.npy\")\n",
    "all_train = np.load(\"../../../Processing/data/all_train.npy\")"
   ]
  },
  {
   "cell_type": "code",
   "execution_count": 5,
   "metadata": {
    "collapsed": false
   },
   "outputs": [],
   "source": [
    "from sklearn.grid_search import GridSearchCV\n",
    "import xgboost as xgb\n",
    "from sklearn.cross_validation import StratifiedKFold\n",
    "parameter_grid={'max_depth': [8],\n",
    "                'subsample': [0.3],\n",
    "                'colsample_bytree': [0.4]\n",
    "                }\n",
    "xgb_model = xgb.XGBClassifier()\n",
    "cross_validation = StratifiedKFold(y_train, n_folds=5, random_state=7)\n",
    "\n",
    "gs = GridSearchCV(estimator = xgb_model,\n",
    "                  param_grid=parameter_grid,\n",
    "                  cv = cross_validation)"
   ]
  },
  {
   "cell_type": "code",
   "execution_count": 6,
   "metadata": {
    "collapsed": false
   },
   "outputs": [
    {
     "name": "stdout",
     "output_type": "stream",
     "text": [
      "0.8282694848084544\n",
      "{'max_depth': 8, 'colsample_bytree': 0.4, 'subsample': 0.3}\n"
     ]
    }
   ],
   "source": [
    "gs = gs.fit(X_train, y_train)\n",
    "print(gs.best_score_)\n",
    "print(gs.best_params_)"
   ]
  },
  {
   "cell_type": "code",
   "execution_count": 7,
   "metadata": {
    "collapsed": false
   },
   "outputs": [
    {
     "name": "stdout",
     "output_type": "stream",
     "text": [
      "Test accuracy: 0.821\n"
     ]
    }
   ],
   "source": [
    "clf = gs.best_estimator_\n",
    "clf.fit(X_train, y_train)\n",
    "print('Test accuracy: %.3f' % clf.score(X_test, y_test))"
   ]
  },
  {
   "cell_type": "code",
   "execution_count": 8,
   "metadata": {
    "collapsed": true
   },
   "outputs": [],
   "source": [
    "clf.fit(all_train, targets)\n",
    "test = pd.read_csv(\"../../../Training_test_data/test.csv\")\n",
    "output = clf.predict(real_test).astype(int)\n",
    "df_output = pd.DataFrame()\n",
    "df_output['PassengerId'] = test['PassengerId']\n",
    "df_output['Survived'] = output\n",
    "df_output[['PassengerId','Survived']].to_csv('../../../Submission/XGB_only_output.csv',index=False)"
   ]
  },
  {
   "cell_type": "markdown",
   "metadata": {},
   "source": [
    "ランダムサーチもテストしてみる"
   ]
  },
  {
   "cell_type": "code",
   "execution_count": 9,
   "metadata": {
    "collapsed": false
   },
   "outputs": [],
   "source": [
    "import scipy as sp\n",
    "from sklearn.grid_search import RandomizedSearchCV\n",
    "param_distributions={'max_depth': sp.stats.randint(1,11),\n",
    "                     'subsample': sp.stats.uniform(0.5,0.5),\n",
    "                     'colsample_bytree': sp.stats.uniform(0.5,0.5)\n",
    "}\n",
    "rs = RandomizedSearchCV(xgb_model,\n",
    "                        param_distributions,\n",
    "                        cv=10,\n",
    "                        n_iter=200,\n",
    "                        scoring=\"log_loss\",\n",
    "                        n_jobs=1,\n",
    "                        verbose=2)"
   ]
  },
  {
   "cell_type": "code",
   "execution_count": 10,
   "metadata": {
    "collapsed": false
   },
   "outputs": [
    {
     "name": "stdout",
     "output_type": "stream",
     "text": [
      "Fitting 10 folds for each of 200 candidates, totalling 2000 fits\n",
      "[CV] max_depth=2, colsample_bytree=0.909702673302, subsample=0.979780419805 \n",
      "[CV]  max_depth=2, colsample_bytree=0.909702673302, subsample=0.979780419805 -   0.0s\n",
      "[CV] max_depth=2, colsample_bytree=0.909702673302, subsample=0.979780419805 \n",
      "[CV]  max_depth=2, colsample_bytree=0.909702673302, subsample=0.979780419805 -   0.0s\n",
      "[CV] max_depth=2, colsample_bytree=0.909702673302, subsample=0.979780419805 \n",
      "[CV]  max_depth=2, colsample_bytree=0.909702673302, subsample=0.979780419805 -   0.0s\n",
      "[CV] max_depth=2, colsample_bytree=0.909702673302, subsample=0.979780419805 \n",
      "[CV]  max_depth=2, colsample_bytree=0.909702673302, subsample=0.979780419805 -   0.0s\n",
      "[CV] max_depth=2, colsample_bytree=0.909702673302, subsample=0.979780419805 \n",
      "[CV]  max_depth=2, colsample_bytree=0.909702673302, subsample=0.979780419805 -   0.0s\n",
      "[CV] max_depth=2, colsample_bytree=0.909702673302, subsample=0.979780419805 \n"
     ]
    },
    {
     "name": "stderr",
     "output_type": "stream",
     "text": [
      "C:\\Users\\Takashi\\Miniconda3\\lib\\site-packages\\sklearn\\metrics\\scorer.py:127: DeprecationWarning: Scoring method log_loss was renamed to neg_log_loss in version 0.18 and will be removed in 0.20.\n",
      "  sample_weight=sample_weight)\n",
      "[Parallel(n_jobs=1)]: Done   1 out of   1 | elapsed:    0.0s remaining:    0.0s\n",
      "C:\\Users\\Takashi\\Miniconda3\\lib\\site-packages\\sklearn\\metrics\\scorer.py:127: DeprecationWarning: Scoring method log_loss was renamed to neg_log_loss in version 0.18 and will be removed in 0.20.\n",
      "  sample_weight=sample_weight)\n",
      "C:\\Users\\Takashi\\Miniconda3\\lib\\site-packages\\sklearn\\metrics\\scorer.py:127: DeprecationWarning: Scoring method log_loss was renamed to neg_log_loss in version 0.18 and will be removed in 0.20.\n",
      "  sample_weight=sample_weight)\n",
      "C:\\Users\\Takashi\\Miniconda3\\lib\\site-packages\\sklearn\\metrics\\scorer.py:127: DeprecationWarning: Scoring method log_loss was renamed to neg_log_loss in version 0.18 and will be removed in 0.20.\n",
      "  sample_weight=sample_weight)\n",
      "C:\\Users\\Takashi\\Miniconda3\\lib\\site-packages\\sklearn\\metrics\\scorer.py:127: DeprecationWarning: Scoring method log_loss was renamed to neg_log_loss in version 0.18 and will be removed in 0.20.\n",
      "  sample_weight=sample_weight)\n",
      "C:\\Users\\Takashi\\Miniconda3\\lib\\site-packages\\sklearn\\metrics\\scorer.py:127: DeprecationWarning: Scoring method log_loss was renamed to neg_log_loss in version 0.18 and will be removed in 0.20.\n",
      "  sample_weight=sample_weight)\n"
     ]
    },
    {
     "name": "stdout",
     "output_type": "stream",
     "text": [
      "[CV]  max_depth=2, colsample_bytree=0.909702673302, subsample=0.979780419805 -   0.0s\n",
      "[CV] max_depth=2, colsample_bytree=0.909702673302, subsample=0.979780419805 \n",
      "[CV]  max_depth=2, colsample_bytree=0.909702673302, subsample=0.979780419805 -   0.0s\n",
      "[CV] max_depth=2, colsample_bytree=0.909702673302, subsample=0.979780419805 \n",
      "[CV]  max_depth=2, colsample_bytree=0.909702673302, subsample=0.979780419805 -   0.0s\n",
      "[CV] max_depth=2, colsample_bytree=0.909702673302, subsample=0.979780419805 \n",
      "[CV]  max_depth=2, colsample_bytree=0.909702673302, subsample=0.979780419805 -   0.0s\n",
      "[CV] max_depth=2, colsample_bytree=0.909702673302, subsample=0.979780419805 \n",
      "[CV]  max_depth=2, colsample_bytree=0.909702673302, subsample=0.979780419805 -   0.0s\n",
      "[CV] max_depth=8, colsample_bytree=0.637011428341, subsample=0.962191771684 \n"
     ]
    },
    {
     "name": "stderr",
     "output_type": "stream",
     "text": [
      "C:\\Users\\Takashi\\Miniconda3\\lib\\site-packages\\sklearn\\metrics\\scorer.py:127: DeprecationWarning: Scoring method log_loss was renamed to neg_log_loss in version 0.18 and will be removed in 0.20.\n",
      "  sample_weight=sample_weight)\n",
      "C:\\Users\\Takashi\\Miniconda3\\lib\\site-packages\\sklearn\\metrics\\scorer.py:127: DeprecationWarning: Scoring method log_loss was renamed to neg_log_loss in version 0.18 and will be removed in 0.20.\n",
      "  sample_weight=sample_weight)\n",
      "C:\\Users\\Takashi\\Miniconda3\\lib\\site-packages\\sklearn\\metrics\\scorer.py:127: DeprecationWarning: Scoring method log_loss was renamed to neg_log_loss in version 0.18 and will be removed in 0.20.\n",
      "  sample_weight=sample_weight)\n",
      "C:\\Users\\Takashi\\Miniconda3\\lib\\site-packages\\sklearn\\metrics\\scorer.py:127: DeprecationWarning: Scoring method log_loss was renamed to neg_log_loss in version 0.18 and will be removed in 0.20.\n",
      "  sample_weight=sample_weight)\n",
      "C:\\Users\\Takashi\\Miniconda3\\lib\\site-packages\\sklearn\\metrics\\scorer.py:127: DeprecationWarning: Scoring method log_loss was renamed to neg_log_loss in version 0.18 and will be removed in 0.20.\n",
      "  sample_weight=sample_weight)\n",
      "C:\\Users\\Takashi\\Miniconda3\\lib\\site-packages\\sklearn\\metrics\\scorer.py:127: DeprecationWarning: Scoring method log_loss was renamed to neg_log_loss in version 0.18 and will be removed in 0.20.\n",
      "  sample_weight=sample_weight)\n",
      "C:\\Users\\Takashi\\Miniconda3\\lib\\site-packages\\sklearn\\metrics\\scorer.py:127: DeprecationWarning: Scoring method log_loss was renamed to neg_log_loss in version 0.18 and will be removed in 0.20.\n",
      "  sample_weight=sample_weight)\n"
     ]
    },
    {
     "name": "stdout",
     "output_type": "stream",
     "text": [
      "[CV]  max_depth=8, colsample_bytree=0.637011428341, subsample=0.962191771684 -   0.0s\n",
      "[CV] max_depth=8, colsample_bytree=0.637011428341, subsample=0.962191771684 \n",
      "[CV]  max_depth=8, colsample_bytree=0.637011428341, subsample=0.962191771684 -   0.0s\n",
      "[CV] max_depth=8, colsample_bytree=0.637011428341, subsample=0.962191771684 \n",
      "[CV]  max_depth=8, colsample_bytree=0.637011428341, subsample=0.962191771684 -   0.0s\n",
      "[CV] max_depth=8, colsample_bytree=0.637011428341, subsample=0.962191771684 \n"
     ]
    },
    {
     "name": "stderr",
     "output_type": "stream",
     "text": [
      "C:\\Users\\Takashi\\Miniconda3\\lib\\site-packages\\sklearn\\metrics\\scorer.py:127: DeprecationWarning: Scoring method log_loss was renamed to neg_log_loss in version 0.18 and will be removed in 0.20.\n",
      "  sample_weight=sample_weight)\n",
      "C:\\Users\\Takashi\\Miniconda3\\lib\\site-packages\\sklearn\\metrics\\scorer.py:127: DeprecationWarning: Scoring method log_loss was renamed to neg_log_loss in version 0.18 and will be removed in 0.20.\n",
      "  sample_weight=sample_weight)\n",
      "C:\\Users\\Takashi\\Miniconda3\\lib\\site-packages\\sklearn\\metrics\\scorer.py:127: DeprecationWarning: Scoring method log_loss was renamed to neg_log_loss in version 0.18 and will be removed in 0.20.\n",
      "  sample_weight=sample_weight)\n"
     ]
    },
    {
     "name": "stdout",
     "output_type": "stream",
     "text": [
      "[CV]  max_depth=8, colsample_bytree=0.637011428341, subsample=0.962191771684 -   0.0s\n",
      "[CV] max_depth=8, colsample_bytree=0.637011428341, subsample=0.962191771684 \n",
      "[CV]  max_depth=8, colsample_bytree=0.637011428341, subsample=0.962191771684 -   0.0s\n",
      "[CV] max_depth=8, colsample_bytree=0.637011428341, subsample=0.962191771684 \n",
      "[CV]  max_depth=8, colsample_bytree=0.637011428341, subsample=0.962191771684 -   0.0s\n",
      "[CV] max_depth=8, colsample_bytree=0.637011428341, subsample=0.962191771684 \n"
     ]
    },
    {
     "name": "stderr",
     "output_type": "stream",
     "text": [
      "C:\\Users\\Takashi\\Miniconda3\\lib\\site-packages\\sklearn\\metrics\\scorer.py:127: DeprecationWarning: Scoring method log_loss was renamed to neg_log_loss in version 0.18 and will be removed in 0.20.\n",
      "  sample_weight=sample_weight)\n",
      "C:\\Users\\Takashi\\Miniconda3\\lib\\site-packages\\sklearn\\metrics\\scorer.py:127: DeprecationWarning: Scoring method log_loss was renamed to neg_log_loss in version 0.18 and will be removed in 0.20.\n",
      "  sample_weight=sample_weight)\n"
     ]
    },
    {
     "name": "stdout",
     "output_type": "stream",
     "text": [
      "[CV]  max_depth=8, colsample_bytree=0.637011428341, subsample=0.962191771684 -   0.0s\n",
      "[CV] max_depth=8, colsample_bytree=0.637011428341, subsample=0.962191771684 \n",
      "[CV]  max_depth=8, colsample_bytree=0.637011428341, subsample=0.962191771684 -   0.0s\n",
      "[CV] max_depth=8, colsample_bytree=0.637011428341, subsample=0.962191771684 \n"
     ]
    },
    {
     "name": "stderr",
     "output_type": "stream",
     "text": [
      "C:\\Users\\Takashi\\Miniconda3\\lib\\site-packages\\sklearn\\metrics\\scorer.py:127: DeprecationWarning: Scoring method log_loss was renamed to neg_log_loss in version 0.18 and will be removed in 0.20.\n",
      "  sample_weight=sample_weight)\n",
      "C:\\Users\\Takashi\\Miniconda3\\lib\\site-packages\\sklearn\\metrics\\scorer.py:127: DeprecationWarning: Scoring method log_loss was renamed to neg_log_loss in version 0.18 and will be removed in 0.20.\n",
      "  sample_weight=sample_weight)\n",
      "C:\\Users\\Takashi\\Miniconda3\\lib\\site-packages\\sklearn\\metrics\\scorer.py:127: DeprecationWarning: Scoring method log_loss was renamed to neg_log_loss in version 0.18 and will be removed in 0.20.\n",
      "  sample_weight=sample_weight)\n"
     ]
    },
    {
     "name": "stdout",
     "output_type": "stream",
     "text": [
      "[CV]  max_depth=8, colsample_bytree=0.637011428341, subsample=0.962191771684 -   0.0s\n",
      "[CV] max_depth=8, colsample_bytree=0.637011428341, subsample=0.962191771684 \n",
      "[CV]  max_depth=8, colsample_bytree=0.637011428341, subsample=0.962191771684 -   0.0s\n",
      "[CV] max_depth=4, colsample_bytree=0.846370223396, subsample=0.952874654653 \n",
      "[CV]  max_depth=4, colsample_bytree=0.846370223396, subsample=0.952874654653 -   0.0s\n",
      "[CV] max_depth=4, colsample_bytree=0.846370223396, subsample=0.952874654653 \n"
     ]
    },
    {
     "name": "stderr",
     "output_type": "stream",
     "text": [
      "C:\\Users\\Takashi\\Miniconda3\\lib\\site-packages\\sklearn\\metrics\\scorer.py:127: DeprecationWarning: Scoring method log_loss was renamed to neg_log_loss in version 0.18 and will be removed in 0.20.\n",
      "  sample_weight=sample_weight)\n",
      "C:\\Users\\Takashi\\Miniconda3\\lib\\site-packages\\sklearn\\metrics\\scorer.py:127: DeprecationWarning: Scoring method log_loss was renamed to neg_log_loss in version 0.18 and will be removed in 0.20.\n",
      "  sample_weight=sample_weight)\n",
      "C:\\Users\\Takashi\\Miniconda3\\lib\\site-packages\\sklearn\\metrics\\scorer.py:127: DeprecationWarning: Scoring method log_loss was renamed to neg_log_loss in version 0.18 and will be removed in 0.20.\n",
      "  sample_weight=sample_weight)\n"
     ]
    },
    {
     "name": "stdout",
     "output_type": "stream",
     "text": [
      "[CV]  max_depth=4, colsample_bytree=0.846370223396, subsample=0.952874654653 -   0.0s\n",
      "[CV] max_depth=4, colsample_bytree=0.846370223396, subsample=0.952874654653 \n",
      "[CV]  max_depth=4, colsample_bytree=0.846370223396, subsample=0.952874654653 -   0.0s\n",
      "[CV] max_depth=4, colsample_bytree=0.846370223396, subsample=0.952874654653 \n",
      "[CV]  max_depth=4, colsample_bytree=0.846370223396, subsample=0.952874654653 -   0.0s\n",
      "[CV] max_depth=4, colsample_bytree=0.846370223396, subsample=0.952874654653 \n"
     ]
    },
    {
     "name": "stderr",
     "output_type": "stream",
     "text": [
      "C:\\Users\\Takashi\\Miniconda3\\lib\\site-packages\\sklearn\\metrics\\scorer.py:127: DeprecationWarning: Scoring method log_loss was renamed to neg_log_loss in version 0.18 and will be removed in 0.20.\n",
      "  sample_weight=sample_weight)\n",
      "C:\\Users\\Takashi\\Miniconda3\\lib\\site-packages\\sklearn\\metrics\\scorer.py:127: DeprecationWarning: Scoring method log_loss was renamed to neg_log_loss in version 0.18 and will be removed in 0.20.\n",
      "  sample_weight=sample_weight)\n",
      "C:\\Users\\Takashi\\Miniconda3\\lib\\site-packages\\sklearn\\metrics\\scorer.py:127: DeprecationWarning: Scoring method log_loss was renamed to neg_log_loss in version 0.18 and will be removed in 0.20.\n",
      "  sample_weight=sample_weight)\n",
      "C:\\Users\\Takashi\\Miniconda3\\lib\\site-packages\\sklearn\\metrics\\scorer.py:127: DeprecationWarning: Scoring method log_loss was renamed to neg_log_loss in version 0.18 and will be removed in 0.20.\n",
      "  sample_weight=sample_weight)\n"
     ]
    },
    {
     "name": "stdout",
     "output_type": "stream",
     "text": [
      "[CV]  max_depth=4, colsample_bytree=0.846370223396, subsample=0.952874654653 -   0.0s\n",
      "[CV] max_depth=4, colsample_bytree=0.846370223396, subsample=0.952874654653 \n",
      "[CV]  max_depth=4, colsample_bytree=0.846370223396, subsample=0.952874654653 -   0.0s\n",
      "[CV] max_depth=4, colsample_bytree=0.846370223396, subsample=0.952874654653 \n",
      "[CV]  max_depth=4, colsample_bytree=0.846370223396, subsample=0.952874654653 -   0.0s\n",
      "[CV] max_depth=4, colsample_bytree=0.846370223396, subsample=0.952874654653 \n",
      "[CV]  max_depth=4, colsample_bytree=0.846370223396, subsample=0.952874654653 -   0.0s\n",
      "[CV] max_depth=4, colsample_bytree=0.846370223396, subsample=0.952874654653 \n"
     ]
    },
    {
     "name": "stderr",
     "output_type": "stream",
     "text": [
      "C:\\Users\\Takashi\\Miniconda3\\lib\\site-packages\\sklearn\\metrics\\scorer.py:127: DeprecationWarning: Scoring method log_loss was renamed to neg_log_loss in version 0.18 and will be removed in 0.20.\n",
      "  sample_weight=sample_weight)\n",
      "C:\\Users\\Takashi\\Miniconda3\\lib\\site-packages\\sklearn\\metrics\\scorer.py:127: DeprecationWarning: Scoring method log_loss was renamed to neg_log_loss in version 0.18 and will be removed in 0.20.\n",
      "  sample_weight=sample_weight)\n",
      "C:\\Users\\Takashi\\Miniconda3\\lib\\site-packages\\sklearn\\metrics\\scorer.py:127: DeprecationWarning: Scoring method log_loss was renamed to neg_log_loss in version 0.18 and will be removed in 0.20.\n",
      "  sample_weight=sample_weight)\n"
     ]
    },
    {
     "name": "stdout",
     "output_type": "stream",
     "text": [
      "[CV]  max_depth=4, colsample_bytree=0.846370223396, subsample=0.952874654653 -   0.0s\n",
      "[CV] max_depth=4, colsample_bytree=0.846370223396, subsample=0.952874654653 \n",
      "[CV]  max_depth=4, colsample_bytree=0.846370223396, subsample=0.952874654653 -   0.0s\n",
      "[CV] max_depth=8, colsample_bytree=0.578848758212, subsample=0.737706525386 \n",
      "[CV]  max_depth=8, colsample_bytree=0.578848758212, subsample=0.737706525386 -   0.0s\n",
      "[CV] max_depth=8, colsample_bytree=0.578848758212, subsample=0.737706525386 \n"
     ]
    },
    {
     "name": "stderr",
     "output_type": "stream",
     "text": [
      "C:\\Users\\Takashi\\Miniconda3\\lib\\site-packages\\sklearn\\metrics\\scorer.py:127: DeprecationWarning: Scoring method log_loss was renamed to neg_log_loss in version 0.18 and will be removed in 0.20.\n",
      "  sample_weight=sample_weight)\n",
      "C:\\Users\\Takashi\\Miniconda3\\lib\\site-packages\\sklearn\\metrics\\scorer.py:127: DeprecationWarning: Scoring method log_loss was renamed to neg_log_loss in version 0.18 and will be removed in 0.20.\n",
      "  sample_weight=sample_weight)\n",
      "C:\\Users\\Takashi\\Miniconda3\\lib\\site-packages\\sklearn\\metrics\\scorer.py:127: DeprecationWarning: Scoring method log_loss was renamed to neg_log_loss in version 0.18 and will be removed in 0.20.\n",
      "  sample_weight=sample_weight)\n"
     ]
    },
    {
     "name": "stdout",
     "output_type": "stream",
     "text": [
      "[CV]  max_depth=8, colsample_bytree=0.578848758212, subsample=0.737706525386 -   0.0s\n",
      "[CV] max_depth=8, colsample_bytree=0.578848758212, subsample=0.737706525386 \n",
      "[CV]  max_depth=8, colsample_bytree=0.578848758212, subsample=0.737706525386 -   0.0s\n",
      "[CV] max_depth=8, colsample_bytree=0.578848758212, subsample=0.737706525386 \n",
      "[CV]  max_depth=8, colsample_bytree=0.578848758212, subsample=0.737706525386 -   0.0s\n",
      "[CV] max_depth=8, colsample_bytree=0.578848758212, subsample=0.737706525386 \n"
     ]
    },
    {
     "name": "stderr",
     "output_type": "stream",
     "text": [
      "C:\\Users\\Takashi\\Miniconda3\\lib\\site-packages\\sklearn\\metrics\\scorer.py:127: DeprecationWarning: Scoring method log_loss was renamed to neg_log_loss in version 0.18 and will be removed in 0.20.\n",
      "  sample_weight=sample_weight)\n",
      "C:\\Users\\Takashi\\Miniconda3\\lib\\site-packages\\sklearn\\metrics\\scorer.py:127: DeprecationWarning: Scoring method log_loss was renamed to neg_log_loss in version 0.18 and will be removed in 0.20.\n",
      "  sample_weight=sample_weight)\n",
      "C:\\Users\\Takashi\\Miniconda3\\lib\\site-packages\\sklearn\\metrics\\scorer.py:127: DeprecationWarning: Scoring method log_loss was renamed to neg_log_loss in version 0.18 and will be removed in 0.20.\n",
      "  sample_weight=sample_weight)\n"
     ]
    },
    {
     "name": "stdout",
     "output_type": "stream",
     "text": [
      "[CV]  max_depth=8, colsample_bytree=0.578848758212, subsample=0.737706525386 -   0.0s\n",
      "[CV] max_depth=8, colsample_bytree=0.578848758212, subsample=0.737706525386 \n",
      "[CV]  max_depth=8, colsample_bytree=0.578848758212, subsample=0.737706525386 -   0.0s\n",
      "[CV] max_depth=8, colsample_bytree=0.578848758212, subsample=0.737706525386 \n",
      "[CV]  max_depth=8, colsample_bytree=0.578848758212, subsample=0.737706525386 -   0.0s\n",
      "[CV] max_depth=8, colsample_bytree=0.578848758212, subsample=0.737706525386 \n"
     ]
    },
    {
     "name": "stderr",
     "output_type": "stream",
     "text": [
      "C:\\Users\\Takashi\\Miniconda3\\lib\\site-packages\\sklearn\\metrics\\scorer.py:127: DeprecationWarning: Scoring method log_loss was renamed to neg_log_loss in version 0.18 and will be removed in 0.20.\n",
      "  sample_weight=sample_weight)\n",
      "C:\\Users\\Takashi\\Miniconda3\\lib\\site-packages\\sklearn\\metrics\\scorer.py:127: DeprecationWarning: Scoring method log_loss was renamed to neg_log_loss in version 0.18 and will be removed in 0.20.\n",
      "  sample_weight=sample_weight)\n",
      "C:\\Users\\Takashi\\Miniconda3\\lib\\site-packages\\sklearn\\metrics\\scorer.py:127: DeprecationWarning: Scoring method log_loss was renamed to neg_log_loss in version 0.18 and will be removed in 0.20.\n",
      "  sample_weight=sample_weight)\n"
     ]
    },
    {
     "name": "stdout",
     "output_type": "stream",
     "text": [
      "[CV]  max_depth=8, colsample_bytree=0.578848758212, subsample=0.737706525386 -   0.0s\n",
      "[CV] max_depth=8, colsample_bytree=0.578848758212, subsample=0.737706525386 \n",
      "[CV]  max_depth=8, colsample_bytree=0.578848758212, subsample=0.737706525386 -   0.0s\n",
      "[CV] max_depth=8, colsample_bytree=0.578848758212, subsample=0.737706525386 \n",
      "[CV]  max_depth=8, colsample_bytree=0.578848758212, subsample=0.737706525386 -   0.0s\n",
      "[CV] max_depth=10, colsample_bytree=0.633104698265, subsample=0.704220802535 \n"
     ]
    },
    {
     "name": "stderr",
     "output_type": "stream",
     "text": [
      "C:\\Users\\Takashi\\Miniconda3\\lib\\site-packages\\sklearn\\metrics\\scorer.py:127: DeprecationWarning: Scoring method log_loss was renamed to neg_log_loss in version 0.18 and will be removed in 0.20.\n",
      "  sample_weight=sample_weight)\n",
      "C:\\Users\\Takashi\\Miniconda3\\lib\\site-packages\\sklearn\\metrics\\scorer.py:127: DeprecationWarning: Scoring method log_loss was renamed to neg_log_loss in version 0.18 and will be removed in 0.20.\n",
      "  sample_weight=sample_weight)\n"
     ]
    },
    {
     "name": "stdout",
     "output_type": "stream",
     "text": [
      "[CV]  max_depth=10, colsample_bytree=0.633104698265, subsample=0.704220802535 -   0.0s\n",
      "[CV] max_depth=10, colsample_bytree=0.633104698265, subsample=0.704220802535 \n",
      "[CV]  max_depth=10, colsample_bytree=0.633104698265, subsample=0.704220802535 -   0.0s\n",
      "[CV] max_depth=10, colsample_bytree=0.633104698265, subsample=0.704220802535 \n"
     ]
    },
    {
     "name": "stderr",
     "output_type": "stream",
     "text": [
      "C:\\Users\\Takashi\\Miniconda3\\lib\\site-packages\\sklearn\\metrics\\scorer.py:127: DeprecationWarning: Scoring method log_loss was renamed to neg_log_loss in version 0.18 and will be removed in 0.20.\n",
      "  sample_weight=sample_weight)\n",
      "C:\\Users\\Takashi\\Miniconda3\\lib\\site-packages\\sklearn\\metrics\\scorer.py:127: DeprecationWarning: Scoring method log_loss was renamed to neg_log_loss in version 0.18 and will be removed in 0.20.\n",
      "  sample_weight=sample_weight)\n"
     ]
    },
    {
     "name": "stdout",
     "output_type": "stream",
     "text": [
      "[CV]  max_depth=10, colsample_bytree=0.633104698265, subsample=0.704220802535 -   0.0s\n",
      "[CV] max_depth=10, colsample_bytree=0.633104698265, subsample=0.704220802535 \n",
      "[CV]  max_depth=10, colsample_bytree=0.633104698265, subsample=0.704220802535 -   0.0s\n",
      "[CV] max_depth=10, colsample_bytree=0.633104698265, subsample=0.704220802535 \n"
     ]
    },
    {
     "name": "stderr",
     "output_type": "stream",
     "text": [
      "C:\\Users\\Takashi\\Miniconda3\\lib\\site-packages\\sklearn\\metrics\\scorer.py:127: DeprecationWarning: Scoring method log_loss was renamed to neg_log_loss in version 0.18 and will be removed in 0.20.\n",
      "  sample_weight=sample_weight)\n",
      "C:\\Users\\Takashi\\Miniconda3\\lib\\site-packages\\sklearn\\metrics\\scorer.py:127: DeprecationWarning: Scoring method log_loss was renamed to neg_log_loss in version 0.18 and will be removed in 0.20.\n",
      "  sample_weight=sample_weight)\n"
     ]
    },
    {
     "name": "stdout",
     "output_type": "stream",
     "text": [
      "[CV]  max_depth=10, colsample_bytree=0.633104698265, subsample=0.704220802535 -   0.0s\n",
      "[CV] max_depth=10, colsample_bytree=0.633104698265, subsample=0.704220802535 \n",
      "[CV]  max_depth=10, colsample_bytree=0.633104698265, subsample=0.704220802535 -   0.0s\n",
      "[CV] max_depth=10, colsample_bytree=0.633104698265, subsample=0.704220802535 \n"
     ]
    },
    {
     "name": "stderr",
     "output_type": "stream",
     "text": [
      "C:\\Users\\Takashi\\Miniconda3\\lib\\site-packages\\sklearn\\metrics\\scorer.py:127: DeprecationWarning: Scoring method log_loss was renamed to neg_log_loss in version 0.18 and will be removed in 0.20.\n",
      "  sample_weight=sample_weight)\n",
      "C:\\Users\\Takashi\\Miniconda3\\lib\\site-packages\\sklearn\\metrics\\scorer.py:127: DeprecationWarning: Scoring method log_loss was renamed to neg_log_loss in version 0.18 and will be removed in 0.20.\n",
      "  sample_weight=sample_weight)\n"
     ]
    },
    {
     "name": "stdout",
     "output_type": "stream",
     "text": [
      "[CV]  max_depth=10, colsample_bytree=0.633104698265, subsample=0.704220802535 -   0.0s\n",
      "[CV] max_depth=10, colsample_bytree=0.633104698265, subsample=0.704220802535 \n",
      "[CV]  max_depth=10, colsample_bytree=0.633104698265, subsample=0.704220802535 -   0.0s\n",
      "[CV] max_depth=10, colsample_bytree=0.633104698265, subsample=0.704220802535 \n"
     ]
    },
    {
     "name": "stderr",
     "output_type": "stream",
     "text": [
      "C:\\Users\\Takashi\\Miniconda3\\lib\\site-packages\\sklearn\\metrics\\scorer.py:127: DeprecationWarning: Scoring method log_loss was renamed to neg_log_loss in version 0.18 and will be removed in 0.20.\n",
      "  sample_weight=sample_weight)\n",
      "C:\\Users\\Takashi\\Miniconda3\\lib\\site-packages\\sklearn\\metrics\\scorer.py:127: DeprecationWarning: Scoring method log_loss was renamed to neg_log_loss in version 0.18 and will be removed in 0.20.\n",
      "  sample_weight=sample_weight)\n",
      "C:\\Users\\Takashi\\Miniconda3\\lib\\site-packages\\sklearn\\metrics\\scorer.py:127: DeprecationWarning: Scoring method log_loss was renamed to neg_log_loss in version 0.18 and will be removed in 0.20.\n",
      "  sample_weight=sample_weight)\n"
     ]
    },
    {
     "name": "stdout",
     "output_type": "stream",
     "text": [
      "[CV]  max_depth=10, colsample_bytree=0.633104698265, subsample=0.704220802535 -   0.0s\n",
      "[CV] max_depth=10, colsample_bytree=0.633104698265, subsample=0.704220802535 \n",
      "[CV]  max_depth=10, colsample_bytree=0.633104698265, subsample=0.704220802535 -   0.0s\n",
      "[CV] max_depth=7, colsample_bytree=0.725243873979, subsample=0.960353432601 \n",
      "[CV]  max_depth=7, colsample_bytree=0.725243873979, subsample=0.960353432601 -   0.0s\n",
      "[CV] max_depth=7, colsample_bytree=0.725243873979, subsample=0.960353432601 \n"
     ]
    },
    {
     "name": "stderr",
     "output_type": "stream",
     "text": [
      "C:\\Users\\Takashi\\Miniconda3\\lib\\site-packages\\sklearn\\metrics\\scorer.py:127: DeprecationWarning: Scoring method log_loss was renamed to neg_log_loss in version 0.18 and will be removed in 0.20.\n",
      "  sample_weight=sample_weight)\n",
      "C:\\Users\\Takashi\\Miniconda3\\lib\\site-packages\\sklearn\\metrics\\scorer.py:127: DeprecationWarning: Scoring method log_loss was renamed to neg_log_loss in version 0.18 and will be removed in 0.20.\n",
      "  sample_weight=sample_weight)\n",
      "C:\\Users\\Takashi\\Miniconda3\\lib\\site-packages\\sklearn\\metrics\\scorer.py:127: DeprecationWarning: Scoring method log_loss was renamed to neg_log_loss in version 0.18 and will be removed in 0.20.\n",
      "  sample_weight=sample_weight)\n"
     ]
    },
    {
     "name": "stdout",
     "output_type": "stream",
     "text": [
      "[CV]  max_depth=7, colsample_bytree=0.725243873979, subsample=0.960353432601 -   0.0s\n",
      "[CV] max_depth=7, colsample_bytree=0.725243873979, subsample=0.960353432601 \n",
      "[CV]  max_depth=7, colsample_bytree=0.725243873979, subsample=0.960353432601 -   0.0s\n",
      "[CV] max_depth=7, colsample_bytree=0.725243873979, subsample=0.960353432601 \n",
      "[CV]  max_depth=7, colsample_bytree=0.725243873979, subsample=0.960353432601 -   0.0s\n",
      "[CV] max_depth=7, colsample_bytree=0.725243873979, subsample=0.960353432601 \n"
     ]
    },
    {
     "name": "stderr",
     "output_type": "stream",
     "text": [
      "C:\\Users\\Takashi\\Miniconda3\\lib\\site-packages\\sklearn\\metrics\\scorer.py:127: DeprecationWarning: Scoring method log_loss was renamed to neg_log_loss in version 0.18 and will be removed in 0.20.\n",
      "  sample_weight=sample_weight)\n",
      "C:\\Users\\Takashi\\Miniconda3\\lib\\site-packages\\sklearn\\metrics\\scorer.py:127: DeprecationWarning: Scoring method log_loss was renamed to neg_log_loss in version 0.18 and will be removed in 0.20.\n",
      "  sample_weight=sample_weight)\n",
      "C:\\Users\\Takashi\\Miniconda3\\lib\\site-packages\\sklearn\\metrics\\scorer.py:127: DeprecationWarning: Scoring method log_loss was renamed to neg_log_loss in version 0.18 and will be removed in 0.20.\n",
      "  sample_weight=sample_weight)\n"
     ]
    },
    {
     "name": "stdout",
     "output_type": "stream",
     "text": [
      "[CV]  max_depth=7, colsample_bytree=0.725243873979, subsample=0.960353432601 -   0.0s\n",
      "[CV] max_depth=7, colsample_bytree=0.725243873979, subsample=0.960353432601 \n",
      "[CV]  max_depth=7, colsample_bytree=0.725243873979, subsample=0.960353432601 -   0.0s\n",
      "[CV] max_depth=7, colsample_bytree=0.725243873979, subsample=0.960353432601 \n",
      "[CV]  max_depth=7, colsample_bytree=0.725243873979, subsample=0.960353432601 -   0.0s\n",
      "[CV] max_depth=7, colsample_bytree=0.725243873979, subsample=0.960353432601 \n"
     ]
    },
    {
     "name": "stderr",
     "output_type": "stream",
     "text": [
      "C:\\Users\\Takashi\\Miniconda3\\lib\\site-packages\\sklearn\\metrics\\scorer.py:127: DeprecationWarning: Scoring method log_loss was renamed to neg_log_loss in version 0.18 and will be removed in 0.20.\n",
      "  sample_weight=sample_weight)\n",
      "C:\\Users\\Takashi\\Miniconda3\\lib\\site-packages\\sklearn\\metrics\\scorer.py:127: DeprecationWarning: Scoring method log_loss was renamed to neg_log_loss in version 0.18 and will be removed in 0.20.\n",
      "  sample_weight=sample_weight)\n",
      "C:\\Users\\Takashi\\Miniconda3\\lib\\site-packages\\sklearn\\metrics\\scorer.py:127: DeprecationWarning: Scoring method log_loss was renamed to neg_log_loss in version 0.18 and will be removed in 0.20.\n",
      "  sample_weight=sample_weight)\n"
     ]
    },
    {
     "name": "stdout",
     "output_type": "stream",
     "text": [
      "[CV]  max_depth=7, colsample_bytree=0.725243873979, subsample=0.960353432601 -   0.0s\n",
      "[CV] max_depth=7, colsample_bytree=0.725243873979, subsample=0.960353432601 \n",
      "[CV]  max_depth=7, colsample_bytree=0.725243873979, subsample=0.960353432601 -   0.0s\n",
      "[CV] max_depth=7, colsample_bytree=0.725243873979, subsample=0.960353432601 \n",
      "[CV]  max_depth=7, colsample_bytree=0.725243873979, subsample=0.960353432601 -   0.0s\n",
      "[CV] max_depth=1, colsample_bytree=0.605695459045, subsample=0.98409116156 \n"
     ]
    },
    {
     "name": "stderr",
     "output_type": "stream",
     "text": [
      "C:\\Users\\Takashi\\Miniconda3\\lib\\site-packages\\sklearn\\metrics\\scorer.py:127: DeprecationWarning: Scoring method log_loss was renamed to neg_log_loss in version 0.18 and will be removed in 0.20.\n",
      "  sample_weight=sample_weight)\n",
      "C:\\Users\\Takashi\\Miniconda3\\lib\\site-packages\\sklearn\\metrics\\scorer.py:127: DeprecationWarning: Scoring method log_loss was renamed to neg_log_loss in version 0.18 and will be removed in 0.20.\n",
      "  sample_weight=sample_weight)\n",
      "C:\\Users\\Takashi\\Miniconda3\\lib\\site-packages\\sklearn\\metrics\\scorer.py:127: DeprecationWarning: Scoring method log_loss was renamed to neg_log_loss in version 0.18 and will be removed in 0.20.\n",
      "  sample_weight=sample_weight)\n",
      "C:\\Users\\Takashi\\Miniconda3\\lib\\site-packages\\sklearn\\metrics\\scorer.py:127: DeprecationWarning: Scoring method log_loss was renamed to neg_log_loss in version 0.18 and will be removed in 0.20.\n",
      "  sample_weight=sample_weight)\n",
      "C:\\Users\\Takashi\\Miniconda3\\lib\\site-packages\\sklearn\\metrics\\scorer.py:127: DeprecationWarning: Scoring method log_loss was renamed to neg_log_loss in version 0.18 and will be removed in 0.20.\n",
      "  sample_weight=sample_weight)\n",
      "C:\\Users\\Takashi\\Miniconda3\\lib\\site-packages\\sklearn\\metrics\\scorer.py:127: DeprecationWarning: Scoring method log_loss was renamed to neg_log_loss in version 0.18 and will be removed in 0.20.\n",
      "  sample_weight=sample_weight)\n",
      "C:\\Users\\Takashi\\Miniconda3\\lib\\site-packages\\sklearn\\metrics\\scorer.py:127: DeprecationWarning: Scoring method log_loss was renamed to neg_log_loss in version 0.18 and will be removed in 0.20.\n",
      "  sample_weight=sample_weight)\n",
      "C:\\Users\\Takashi\\Miniconda3\\lib\\site-packages\\sklearn\\metrics\\scorer.py:127: DeprecationWarning: Scoring method log_loss was renamed to neg_log_loss in version 0.18 and will be removed in 0.20.\n",
      "  sample_weight=sample_weight)\n"
     ]
    },
    {
     "name": "stdout",
     "output_type": "stream",
     "text": [
      "[CV]  max_depth=1, colsample_bytree=0.605695459045, subsample=0.98409116156 -   0.0s\n",
      "[CV] max_depth=1, colsample_bytree=0.605695459045, subsample=0.98409116156 \n",
      "[CV]  max_depth=1, colsample_bytree=0.605695459045, subsample=0.98409116156 -   0.0s\n",
      "[CV] max_depth=1, colsample_bytree=0.605695459045, subsample=0.98409116156 \n",
      "[CV]  max_depth=1, colsample_bytree=0.605695459045, subsample=0.98409116156 -   0.0s\n",
      "[CV] max_depth=1, colsample_bytree=0.605695459045, subsample=0.98409116156 \n",
      "[CV]  max_depth=1, colsample_bytree=0.605695459045, subsample=0.98409116156 -   0.0s\n",
      "[CV] max_depth=1, colsample_bytree=0.605695459045, subsample=0.98409116156 \n",
      "[CV]  max_depth=1, colsample_bytree=0.605695459045, subsample=0.98409116156 -   0.0s\n",
      "[CV] max_depth=1, colsample_bytree=0.605695459045, subsample=0.98409116156 \n",
      "[CV]  max_depth=1, colsample_bytree=0.605695459045, subsample=0.98409116156 -   0.0s\n",
      "[CV] max_depth=1, colsample_bytree=0.605695459045, subsample=0.98409116156 \n",
      "[CV]  max_depth=1, colsample_bytree=0.605695459045, subsample=0.98409116156 -   0.0s\n",
      "[CV] max_depth=1, colsample_bytree=0.605695459045, subsample=0.98409116156 \n",
      "[CV]  max_depth=1, colsample_bytree=0.605695459045, subsample=0.98409116156 -   0.0s\n",
      "[CV] max_depth=1, colsample_bytree=0.605695459045, subsample=0.98409116156 \n"
     ]
    },
    {
     "name": "stderr",
     "output_type": "stream",
     "text": [
      "C:\\Users\\Takashi\\Miniconda3\\lib\\site-packages\\sklearn\\metrics\\scorer.py:127: DeprecationWarning: Scoring method log_loss was renamed to neg_log_loss in version 0.18 and will be removed in 0.20.\n",
      "  sample_weight=sample_weight)\n",
      "C:\\Users\\Takashi\\Miniconda3\\lib\\site-packages\\sklearn\\metrics\\scorer.py:127: DeprecationWarning: Scoring method log_loss was renamed to neg_log_loss in version 0.18 and will be removed in 0.20.\n",
      "  sample_weight=sample_weight)\n",
      "C:\\Users\\Takashi\\Miniconda3\\lib\\site-packages\\sklearn\\metrics\\scorer.py:127: DeprecationWarning: Scoring method log_loss was renamed to neg_log_loss in version 0.18 and will be removed in 0.20.\n",
      "  sample_weight=sample_weight)\n",
      "C:\\Users\\Takashi\\Miniconda3\\lib\\site-packages\\sklearn\\metrics\\scorer.py:127: DeprecationWarning: Scoring method log_loss was renamed to neg_log_loss in version 0.18 and will be removed in 0.20.\n",
      "  sample_weight=sample_weight)\n",
      "C:\\Users\\Takashi\\Miniconda3\\lib\\site-packages\\sklearn\\metrics\\scorer.py:127: DeprecationWarning: Scoring method log_loss was renamed to neg_log_loss in version 0.18 and will be removed in 0.20.\n",
      "  sample_weight=sample_weight)\n",
      "C:\\Users\\Takashi\\Miniconda3\\lib\\site-packages\\sklearn\\metrics\\scorer.py:127: DeprecationWarning: Scoring method log_loss was renamed to neg_log_loss in version 0.18 and will be removed in 0.20.\n",
      "  sample_weight=sample_weight)\n",
      "C:\\Users\\Takashi\\Miniconda3\\lib\\site-packages\\sklearn\\metrics\\scorer.py:127: DeprecationWarning: Scoring method log_loss was renamed to neg_log_loss in version 0.18 and will be removed in 0.20.\n",
      "  sample_weight=sample_weight)\n",
      "C:\\Users\\Takashi\\Miniconda3\\lib\\site-packages\\sklearn\\metrics\\scorer.py:127: DeprecationWarning: Scoring method log_loss was renamed to neg_log_loss in version 0.18 and will be removed in 0.20.\n",
      "  sample_weight=sample_weight)\n"
     ]
    },
    {
     "name": "stdout",
     "output_type": "stream",
     "text": [
      "[CV]  max_depth=1, colsample_bytree=0.605695459045, subsample=0.98409116156 -   0.0s\n",
      "[CV] max_depth=1, colsample_bytree=0.605695459045, subsample=0.98409116156 \n",
      "[CV]  max_depth=1, colsample_bytree=0.605695459045, subsample=0.98409116156 -   0.0s\n",
      "[CV] max_depth=1, colsample_bytree=0.563549365567, subsample=0.819032753011 \n",
      "[CV]  max_depth=1, colsample_bytree=0.563549365567, subsample=0.819032753011 -   0.0s\n",
      "[CV] max_depth=1, colsample_bytree=0.563549365567, subsample=0.819032753011 \n",
      "[CV]  max_depth=1, colsample_bytree=0.563549365567, subsample=0.819032753011 -   0.0s\n",
      "[CV] max_depth=1, colsample_bytree=0.563549365567, subsample=0.819032753011 \n",
      "[CV]  max_depth=1, colsample_bytree=0.563549365567, subsample=0.819032753011 -   0.0s\n",
      "[CV] max_depth=1, colsample_bytree=0.563549365567, subsample=0.819032753011 \n",
      "[CV]  max_depth=1, colsample_bytree=0.563549365567, subsample=0.819032753011 -   0.0s\n",
      "[CV] max_depth=1, colsample_bytree=0.563549365567, subsample=0.819032753011 \n",
      "[CV]  max_depth=1, colsample_bytree=0.563549365567, subsample=0.819032753011 -   0.0s\n",
      "[CV] max_depth=1, colsample_bytree=0.563549365567, subsample=0.819032753011 \n",
      "[CV]  max_depth=1, colsample_bytree=0.563549365567, subsample=0.819032753011 -   0.0s\n",
      "[CV] max_depth=1, colsample_bytree=0.563549365567, subsample=0.819032753011 \n"
     ]
    },
    {
     "name": "stderr",
     "output_type": "stream",
     "text": [
      "C:\\Users\\Takashi\\Miniconda3\\lib\\site-packages\\sklearn\\metrics\\scorer.py:127: DeprecationWarning: Scoring method log_loss was renamed to neg_log_loss in version 0.18 and will be removed in 0.20.\n",
      "  sample_weight=sample_weight)\n",
      "C:\\Users\\Takashi\\Miniconda3\\lib\\site-packages\\sklearn\\metrics\\scorer.py:127: DeprecationWarning: Scoring method log_loss was renamed to neg_log_loss in version 0.18 and will be removed in 0.20.\n",
      "  sample_weight=sample_weight)\n",
      "C:\\Users\\Takashi\\Miniconda3\\lib\\site-packages\\sklearn\\metrics\\scorer.py:127: DeprecationWarning: Scoring method log_loss was renamed to neg_log_loss in version 0.18 and will be removed in 0.20.\n",
      "  sample_weight=sample_weight)\n",
      "C:\\Users\\Takashi\\Miniconda3\\lib\\site-packages\\sklearn\\metrics\\scorer.py:127: DeprecationWarning: Scoring method log_loss was renamed to neg_log_loss in version 0.18 and will be removed in 0.20.\n",
      "  sample_weight=sample_weight)\n",
      "C:\\Users\\Takashi\\Miniconda3\\lib\\site-packages\\sklearn\\metrics\\scorer.py:127: DeprecationWarning: Scoring method log_loss was renamed to neg_log_loss in version 0.18 and will be removed in 0.20.\n",
      "  sample_weight=sample_weight)\n",
      "C:\\Users\\Takashi\\Miniconda3\\lib\\site-packages\\sklearn\\metrics\\scorer.py:127: DeprecationWarning: Scoring method log_loss was renamed to neg_log_loss in version 0.18 and will be removed in 0.20.\n",
      "  sample_weight=sample_weight)\n",
      "C:\\Users\\Takashi\\Miniconda3\\lib\\site-packages\\sklearn\\metrics\\scorer.py:127: DeprecationWarning: Scoring method log_loss was renamed to neg_log_loss in version 0.18 and will be removed in 0.20.\n",
      "  sample_weight=sample_weight)\n"
     ]
    },
    {
     "name": "stdout",
     "output_type": "stream",
     "text": [
      "[CV]  max_depth=1, colsample_bytree=0.563549365567, subsample=0.819032753011 -   0.0s\n",
      "[CV] max_depth=1, colsample_bytree=0.563549365567, subsample=0.819032753011 \n",
      "[CV]  max_depth=1, colsample_bytree=0.563549365567, subsample=0.819032753011 -   0.0s\n",
      "[CV] max_depth=1, colsample_bytree=0.563549365567, subsample=0.819032753011 \n",
      "[CV]  max_depth=1, colsample_bytree=0.563549365567, subsample=0.819032753011 -   0.0s\n",
      "[CV] max_depth=1, colsample_bytree=0.563549365567, subsample=0.819032753011 \n",
      "[CV]  max_depth=1, colsample_bytree=0.563549365567, subsample=0.819032753011 -   0.0s\n",
      "[CV] max_depth=2, colsample_bytree=0.764625641493, subsample=0.789628636516 \n",
      "[CV]  max_depth=2, colsample_bytree=0.764625641493, subsample=0.789628636516 -   0.0s\n",
      "[CV] max_depth=2, colsample_bytree=0.764625641493, subsample=0.789628636516 \n",
      "[CV]  max_depth=2, colsample_bytree=0.764625641493, subsample=0.789628636516 -   0.0s\n",
      "[CV] max_depth=2, colsample_bytree=0.764625641493, subsample=0.789628636516 \n",
      "[CV]  max_depth=2, colsample_bytree=0.764625641493, subsample=0.789628636516 -   0.0s\n",
      "[CV] max_depth=2, colsample_bytree=0.764625641493, subsample=0.789628636516 \n"
     ]
    },
    {
     "name": "stderr",
     "output_type": "stream",
     "text": [
      "C:\\Users\\Takashi\\Miniconda3\\lib\\site-packages\\sklearn\\metrics\\scorer.py:127: DeprecationWarning: Scoring method log_loss was renamed to neg_log_loss in version 0.18 and will be removed in 0.20.\n",
      "  sample_weight=sample_weight)\n",
      "C:\\Users\\Takashi\\Miniconda3\\lib\\site-packages\\sklearn\\metrics\\scorer.py:127: DeprecationWarning: Scoring method log_loss was renamed to neg_log_loss in version 0.18 and will be removed in 0.20.\n",
      "  sample_weight=sample_weight)\n",
      "C:\\Users\\Takashi\\Miniconda3\\lib\\site-packages\\sklearn\\metrics\\scorer.py:127: DeprecationWarning: Scoring method log_loss was renamed to neg_log_loss in version 0.18 and will be removed in 0.20.\n",
      "  sample_weight=sample_weight)\n",
      "C:\\Users\\Takashi\\Miniconda3\\lib\\site-packages\\sklearn\\metrics\\scorer.py:127: DeprecationWarning: Scoring method log_loss was renamed to neg_log_loss in version 0.18 and will be removed in 0.20.\n",
      "  sample_weight=sample_weight)\n",
      "C:\\Users\\Takashi\\Miniconda3\\lib\\site-packages\\sklearn\\metrics\\scorer.py:127: DeprecationWarning: Scoring method log_loss was renamed to neg_log_loss in version 0.18 and will be removed in 0.20.\n",
      "  sample_weight=sample_weight)\n",
      "C:\\Users\\Takashi\\Miniconda3\\lib\\site-packages\\sklearn\\metrics\\scorer.py:127: DeprecationWarning: Scoring method log_loss was renamed to neg_log_loss in version 0.18 and will be removed in 0.20.\n",
      "  sample_weight=sample_weight)\n"
     ]
    },
    {
     "name": "stdout",
     "output_type": "stream",
     "text": [
      "[CV]  max_depth=2, colsample_bytree=0.764625641493, subsample=0.789628636516 -   0.0s\n",
      "[CV] max_depth=2, colsample_bytree=0.764625641493, subsample=0.789628636516 \n",
      "[CV]  max_depth=2, colsample_bytree=0.764625641493, subsample=0.789628636516 -   0.0s\n",
      "[CV] max_depth=2, colsample_bytree=0.764625641493, subsample=0.789628636516 \n",
      "[CV]  max_depth=2, colsample_bytree=0.764625641493, subsample=0.789628636516 -   0.0s\n",
      "[CV] max_depth=2, colsample_bytree=0.764625641493, subsample=0.789628636516 \n",
      "[CV]  max_depth=2, colsample_bytree=0.764625641493, subsample=0.789628636516 -   0.0s\n",
      "[CV] max_depth=2, colsample_bytree=0.764625641493, subsample=0.789628636516 \n",
      "[CV]  max_depth=2, colsample_bytree=0.764625641493, subsample=0.789628636516 -   0.0s\n",
      "[CV] max_depth=2, colsample_bytree=0.764625641493, subsample=0.789628636516 \n",
      "[CV]  max_depth=2, colsample_bytree=0.764625641493, subsample=0.789628636516 -   0.0s\n",
      "[CV] max_depth=2, colsample_bytree=0.764625641493, subsample=0.789628636516 \n"
     ]
    },
    {
     "name": "stderr",
     "output_type": "stream",
     "text": [
      "C:\\Users\\Takashi\\Miniconda3\\lib\\site-packages\\sklearn\\metrics\\scorer.py:127: DeprecationWarning: Scoring method log_loss was renamed to neg_log_loss in version 0.18 and will be removed in 0.20.\n",
      "  sample_weight=sample_weight)\n",
      "C:\\Users\\Takashi\\Miniconda3\\lib\\site-packages\\sklearn\\metrics\\scorer.py:127: DeprecationWarning: Scoring method log_loss was renamed to neg_log_loss in version 0.18 and will be removed in 0.20.\n",
      "  sample_weight=sample_weight)\n"
     ]
    },
    {
     "name": "stdout",
     "output_type": "stream",
     "text": [
      "[CV]  max_depth=2, colsample_bytree=0.764625641493, subsample=0.789628636516 -   0.0s\n",
      "[CV] max_depth=10, colsample_bytree=0.981675723455, subsample=0.521794945394 \n",
      "[CV]  max_depth=10, colsample_bytree=0.981675723455, subsample=0.521794945394 -   0.0s\n",
      "[CV] max_depth=10, colsample_bytree=0.981675723455, subsample=0.521794945394 \n"
     ]
    },
    {
     "name": "stderr",
     "output_type": "stream",
     "text": [
      "C:\\Users\\Takashi\\Miniconda3\\lib\\site-packages\\sklearn\\metrics\\scorer.py:127: DeprecationWarning: Scoring method log_loss was renamed to neg_log_loss in version 0.18 and will be removed in 0.20.\n",
      "  sample_weight=sample_weight)\n",
      "C:\\Users\\Takashi\\Miniconda3\\lib\\site-packages\\sklearn\\metrics\\scorer.py:127: DeprecationWarning: Scoring method log_loss was renamed to neg_log_loss in version 0.18 and will be removed in 0.20.\n",
      "  sample_weight=sample_weight)\n"
     ]
    },
    {
     "name": "stdout",
     "output_type": "stream",
     "text": [
      "[CV]  max_depth=10, colsample_bytree=0.981675723455, subsample=0.521794945394 -   0.0s\n",
      "[CV] max_depth=10, colsample_bytree=0.981675723455, subsample=0.521794945394 \n",
      "[CV]  max_depth=10, colsample_bytree=0.981675723455, subsample=0.521794945394 -   0.0s\n",
      "[CV] max_depth=10, colsample_bytree=0.981675723455, subsample=0.521794945394 \n"
     ]
    },
    {
     "name": "stderr",
     "output_type": "stream",
     "text": [
      "C:\\Users\\Takashi\\Miniconda3\\lib\\site-packages\\sklearn\\metrics\\scorer.py:127: DeprecationWarning: Scoring method log_loss was renamed to neg_log_loss in version 0.18 and will be removed in 0.20.\n",
      "  sample_weight=sample_weight)\n",
      "C:\\Users\\Takashi\\Miniconda3\\lib\\site-packages\\sklearn\\metrics\\scorer.py:127: DeprecationWarning: Scoring method log_loss was renamed to neg_log_loss in version 0.18 and will be removed in 0.20.\n",
      "  sample_weight=sample_weight)\n"
     ]
    },
    {
     "name": "stdout",
     "output_type": "stream",
     "text": [
      "[CV]  max_depth=10, colsample_bytree=0.981675723455, subsample=0.521794945394 -   0.0s\n",
      "[CV] max_depth=10, colsample_bytree=0.981675723455, subsample=0.521794945394 \n",
      "[CV]  max_depth=10, colsample_bytree=0.981675723455, subsample=0.521794945394 -   0.0s\n",
      "[CV] max_depth=10, colsample_bytree=0.981675723455, subsample=0.521794945394 \n"
     ]
    },
    {
     "name": "stderr",
     "output_type": "stream",
     "text": [
      "C:\\Users\\Takashi\\Miniconda3\\lib\\site-packages\\sklearn\\metrics\\scorer.py:127: DeprecationWarning: Scoring method log_loss was renamed to neg_log_loss in version 0.18 and will be removed in 0.20.\n",
      "  sample_weight=sample_weight)\n",
      "C:\\Users\\Takashi\\Miniconda3\\lib\\site-packages\\sklearn\\metrics\\scorer.py:127: DeprecationWarning: Scoring method log_loss was renamed to neg_log_loss in version 0.18 and will be removed in 0.20.\n",
      "  sample_weight=sample_weight)\n"
     ]
    },
    {
     "name": "stdout",
     "output_type": "stream",
     "text": [
      "[CV]  max_depth=10, colsample_bytree=0.981675723455, subsample=0.521794945394 -   0.0s\n",
      "[CV] max_depth=10, colsample_bytree=0.981675723455, subsample=0.521794945394 \n",
      "[CV]  max_depth=10, colsample_bytree=0.981675723455, subsample=0.521794945394 -   0.0s\n",
      "[CV] max_depth=10, colsample_bytree=0.981675723455, subsample=0.521794945394 \n"
     ]
    },
    {
     "name": "stderr",
     "output_type": "stream",
     "text": [
      "C:\\Users\\Takashi\\Miniconda3\\lib\\site-packages\\sklearn\\metrics\\scorer.py:127: DeprecationWarning: Scoring method log_loss was renamed to neg_log_loss in version 0.18 and will be removed in 0.20.\n",
      "  sample_weight=sample_weight)\n",
      "C:\\Users\\Takashi\\Miniconda3\\lib\\site-packages\\sklearn\\metrics\\scorer.py:127: DeprecationWarning: Scoring method log_loss was renamed to neg_log_loss in version 0.18 and will be removed in 0.20.\n",
      "  sample_weight=sample_weight)\n"
     ]
    },
    {
     "name": "stdout",
     "output_type": "stream",
     "text": [
      "[CV]  max_depth=10, colsample_bytree=0.981675723455, subsample=0.521794945394 -   0.0s\n",
      "[CV] max_depth=10, colsample_bytree=0.981675723455, subsample=0.521794945394 \n",
      "[CV]  max_depth=10, colsample_bytree=0.981675723455, subsample=0.521794945394 -   0.0s\n",
      "[CV] max_depth=10, colsample_bytree=0.981675723455, subsample=0.521794945394 \n"
     ]
    },
    {
     "name": "stderr",
     "output_type": "stream",
     "text": [
      "C:\\Users\\Takashi\\Miniconda3\\lib\\site-packages\\sklearn\\metrics\\scorer.py:127: DeprecationWarning: Scoring method log_loss was renamed to neg_log_loss in version 0.18 and will be removed in 0.20.\n",
      "  sample_weight=sample_weight)\n",
      "C:\\Users\\Takashi\\Miniconda3\\lib\\site-packages\\sklearn\\metrics\\scorer.py:127: DeprecationWarning: Scoring method log_loss was renamed to neg_log_loss in version 0.18 and will be removed in 0.20.\n",
      "  sample_weight=sample_weight)\n",
      "C:\\Users\\Takashi\\Miniconda3\\lib\\site-packages\\sklearn\\metrics\\scorer.py:127: DeprecationWarning: Scoring method log_loss was renamed to neg_log_loss in version 0.18 and will be removed in 0.20.\n",
      "  sample_weight=sample_weight)\n",
      "C:\\Users\\Takashi\\Miniconda3\\lib\\site-packages\\sklearn\\metrics\\scorer.py:127: DeprecationWarning: Scoring method log_loss was renamed to neg_log_loss in version 0.18 and will be removed in 0.20.\n",
      "  sample_weight=sample_weight)\n"
     ]
    },
    {
     "name": "stdout",
     "output_type": "stream",
     "text": [
      "[CV]  max_depth=10, colsample_bytree=0.981675723455, subsample=0.521794945394 -   0.0s\n",
      "[CV] max_depth=3, colsample_bytree=0.901627437232, subsample=0.669431448766 \n",
      "[CV]  max_depth=3, colsample_bytree=0.901627437232, subsample=0.669431448766 -   0.0s\n",
      "[CV] max_depth=3, colsample_bytree=0.901627437232, subsample=0.669431448766 \n",
      "[CV]  max_depth=3, colsample_bytree=0.901627437232, subsample=0.669431448766 -   0.0s\n",
      "[CV] max_depth=3, colsample_bytree=0.901627437232, subsample=0.669431448766 \n",
      "[CV]  max_depth=3, colsample_bytree=0.901627437232, subsample=0.669431448766 -   0.0s\n",
      "[CV] max_depth=3, colsample_bytree=0.901627437232, subsample=0.669431448766 \n"
     ]
    },
    {
     "name": "stderr",
     "output_type": "stream",
     "text": [
      "C:\\Users\\Takashi\\Miniconda3\\lib\\site-packages\\sklearn\\metrics\\scorer.py:127: DeprecationWarning: Scoring method log_loss was renamed to neg_log_loss in version 0.18 and will be removed in 0.20.\n",
      "  sample_weight=sample_weight)\n",
      "C:\\Users\\Takashi\\Miniconda3\\lib\\site-packages\\sklearn\\metrics\\scorer.py:127: DeprecationWarning: Scoring method log_loss was renamed to neg_log_loss in version 0.18 and will be removed in 0.20.\n",
      "  sample_weight=sample_weight)\n",
      "C:\\Users\\Takashi\\Miniconda3\\lib\\site-packages\\sklearn\\metrics\\scorer.py:127: DeprecationWarning: Scoring method log_loss was renamed to neg_log_loss in version 0.18 and will be removed in 0.20.\n",
      "  sample_weight=sample_weight)\n",
      "C:\\Users\\Takashi\\Miniconda3\\lib\\site-packages\\sklearn\\metrics\\scorer.py:127: DeprecationWarning: Scoring method log_loss was renamed to neg_log_loss in version 0.18 and will be removed in 0.20.\n",
      "  sample_weight=sample_weight)\n"
     ]
    },
    {
     "name": "stdout",
     "output_type": "stream",
     "text": [
      "[CV]  max_depth=3, colsample_bytree=0.901627437232, subsample=0.669431448766 -   0.0s\n",
      "[CV] max_depth=3, colsample_bytree=0.901627437232, subsample=0.669431448766 \n",
      "[CV]  max_depth=3, colsample_bytree=0.901627437232, subsample=0.669431448766 -   0.0s\n",
      "[CV] max_depth=3, colsample_bytree=0.901627437232, subsample=0.669431448766 \n",
      "[CV]  max_depth=3, colsample_bytree=0.901627437232, subsample=0.669431448766 -   0.0s\n",
      "[CV] max_depth=3, colsample_bytree=0.901627437232, subsample=0.669431448766 \n",
      "[CV]  max_depth=3, colsample_bytree=0.901627437232, subsample=0.669431448766 -   0.0s\n",
      "[CV] max_depth=3, colsample_bytree=0.901627437232, subsample=0.669431448766 \n"
     ]
    },
    {
     "name": "stderr",
     "output_type": "stream",
     "text": [
      "C:\\Users\\Takashi\\Miniconda3\\lib\\site-packages\\sklearn\\metrics\\scorer.py:127: DeprecationWarning: Scoring method log_loss was renamed to neg_log_loss in version 0.18 and will be removed in 0.20.\n",
      "  sample_weight=sample_weight)\n",
      "C:\\Users\\Takashi\\Miniconda3\\lib\\site-packages\\sklearn\\metrics\\scorer.py:127: DeprecationWarning: Scoring method log_loss was renamed to neg_log_loss in version 0.18 and will be removed in 0.20.\n",
      "  sample_weight=sample_weight)\n",
      "C:\\Users\\Takashi\\Miniconda3\\lib\\site-packages\\sklearn\\metrics\\scorer.py:127: DeprecationWarning: Scoring method log_loss was renamed to neg_log_loss in version 0.18 and will be removed in 0.20.\n",
      "  sample_weight=sample_weight)\n"
     ]
    },
    {
     "name": "stdout",
     "output_type": "stream",
     "text": [
      "[CV]  max_depth=3, colsample_bytree=0.901627437232, subsample=0.669431448766 -   0.0s\n",
      "[CV] max_depth=3, colsample_bytree=0.901627437232, subsample=0.669431448766 \n",
      "[CV]  max_depth=3, colsample_bytree=0.901627437232, subsample=0.669431448766 -   0.0s\n",
      "[CV] max_depth=3, colsample_bytree=0.901627437232, subsample=0.669431448766 \n",
      "[CV]  max_depth=3, colsample_bytree=0.901627437232, subsample=0.669431448766 -   0.0s\n",
      "[CV] max_depth=10, colsample_bytree=0.580396592502, subsample=0.669172342682 \n"
     ]
    },
    {
     "name": "stderr",
     "output_type": "stream",
     "text": [
      "C:\\Users\\Takashi\\Miniconda3\\lib\\site-packages\\sklearn\\metrics\\scorer.py:127: DeprecationWarning: Scoring method log_loss was renamed to neg_log_loss in version 0.18 and will be removed in 0.20.\n",
      "  sample_weight=sample_weight)\n",
      "C:\\Users\\Takashi\\Miniconda3\\lib\\site-packages\\sklearn\\metrics\\scorer.py:127: DeprecationWarning: Scoring method log_loss was renamed to neg_log_loss in version 0.18 and will be removed in 0.20.\n",
      "  sample_weight=sample_weight)\n"
     ]
    },
    {
     "name": "stdout",
     "output_type": "stream",
     "text": [
      "[CV]  max_depth=10, colsample_bytree=0.580396592502, subsample=0.669172342682 -   0.0s\n",
      "[CV] max_depth=10, colsample_bytree=0.580396592502, subsample=0.669172342682 \n",
      "[CV]  max_depth=10, colsample_bytree=0.580396592502, subsample=0.669172342682 -   0.0s\n",
      "[CV] max_depth=10, colsample_bytree=0.580396592502, subsample=0.669172342682 \n"
     ]
    },
    {
     "name": "stderr",
     "output_type": "stream",
     "text": [
      "C:\\Users\\Takashi\\Miniconda3\\lib\\site-packages\\sklearn\\metrics\\scorer.py:127: DeprecationWarning: Scoring method log_loss was renamed to neg_log_loss in version 0.18 and will be removed in 0.20.\n",
      "  sample_weight=sample_weight)\n",
      "C:\\Users\\Takashi\\Miniconda3\\lib\\site-packages\\sklearn\\metrics\\scorer.py:127: DeprecationWarning: Scoring method log_loss was renamed to neg_log_loss in version 0.18 and will be removed in 0.20.\n",
      "  sample_weight=sample_weight)\n"
     ]
    },
    {
     "name": "stdout",
     "output_type": "stream",
     "text": [
      "[CV]  max_depth=10, colsample_bytree=0.580396592502, subsample=0.669172342682 -   0.0s\n",
      "[CV] max_depth=10, colsample_bytree=0.580396592502, subsample=0.669172342682 \n",
      "[CV]  max_depth=10, colsample_bytree=0.580396592502, subsample=0.669172342682 -   0.0s\n",
      "[CV] max_depth=10, colsample_bytree=0.580396592502, subsample=0.669172342682 \n"
     ]
    },
    {
     "name": "stderr",
     "output_type": "stream",
     "text": [
      "C:\\Users\\Takashi\\Miniconda3\\lib\\site-packages\\sklearn\\metrics\\scorer.py:127: DeprecationWarning: Scoring method log_loss was renamed to neg_log_loss in version 0.18 and will be removed in 0.20.\n",
      "  sample_weight=sample_weight)\n",
      "C:\\Users\\Takashi\\Miniconda3\\lib\\site-packages\\sklearn\\metrics\\scorer.py:127: DeprecationWarning: Scoring method log_loss was renamed to neg_log_loss in version 0.18 and will be removed in 0.20.\n",
      "  sample_weight=sample_weight)\n"
     ]
    },
    {
     "name": "stdout",
     "output_type": "stream",
     "text": [
      "[CV]  max_depth=10, colsample_bytree=0.580396592502, subsample=0.669172342682 -   0.1s\n",
      "[CV] max_depth=10, colsample_bytree=0.580396592502, subsample=0.669172342682 \n",
      "[CV]  max_depth=10, colsample_bytree=0.580396592502, subsample=0.669172342682 -   0.1s\n",
      "[CV] max_depth=10, colsample_bytree=0.580396592502, subsample=0.669172342682 \n"
     ]
    },
    {
     "name": "stderr",
     "output_type": "stream",
     "text": [
      "C:\\Users\\Takashi\\Miniconda3\\lib\\site-packages\\sklearn\\metrics\\scorer.py:127: DeprecationWarning: Scoring method log_loss was renamed to neg_log_loss in version 0.18 and will be removed in 0.20.\n",
      "  sample_weight=sample_weight)\n",
      "C:\\Users\\Takashi\\Miniconda3\\lib\\site-packages\\sklearn\\metrics\\scorer.py:127: DeprecationWarning: Scoring method log_loss was renamed to neg_log_loss in version 0.18 and will be removed in 0.20.\n",
      "  sample_weight=sample_weight)\n"
     ]
    },
    {
     "name": "stdout",
     "output_type": "stream",
     "text": [
      "[CV]  max_depth=10, colsample_bytree=0.580396592502, subsample=0.669172342682 -   0.1s\n",
      "[CV] max_depth=10, colsample_bytree=0.580396592502, subsample=0.669172342682 \n",
      "[CV]  max_depth=10, colsample_bytree=0.580396592502, subsample=0.669172342682 -   0.1s\n",
      "[CV] max_depth=10, colsample_bytree=0.580396592502, subsample=0.669172342682 \n"
     ]
    },
    {
     "name": "stderr",
     "output_type": "stream",
     "text": [
      "C:\\Users\\Takashi\\Miniconda3\\lib\\site-packages\\sklearn\\metrics\\scorer.py:127: DeprecationWarning: Scoring method log_loss was renamed to neg_log_loss in version 0.18 and will be removed in 0.20.\n",
      "  sample_weight=sample_weight)\n",
      "C:\\Users\\Takashi\\Miniconda3\\lib\\site-packages\\sklearn\\metrics\\scorer.py:127: DeprecationWarning: Scoring method log_loss was renamed to neg_log_loss in version 0.18 and will be removed in 0.20.\n",
      "  sample_weight=sample_weight)\n"
     ]
    },
    {
     "name": "stdout",
     "output_type": "stream",
     "text": [
      "[CV]  max_depth=10, colsample_bytree=0.580396592502, subsample=0.669172342682 -   0.0s\n",
      "[CV] max_depth=10, colsample_bytree=0.580396592502, subsample=0.669172342682 \n",
      "[CV]  max_depth=10, colsample_bytree=0.580396592502, subsample=0.669172342682 -   0.0s\n",
      "[CV] max_depth=5, colsample_bytree=0.598012476848, subsample=0.688673747819 \n"
     ]
    },
    {
     "name": "stderr",
     "output_type": "stream",
     "text": [
      "C:\\Users\\Takashi\\Miniconda3\\lib\\site-packages\\sklearn\\metrics\\scorer.py:127: DeprecationWarning: Scoring method log_loss was renamed to neg_log_loss in version 0.18 and will be removed in 0.20.\n",
      "  sample_weight=sample_weight)\n",
      "C:\\Users\\Takashi\\Miniconda3\\lib\\site-packages\\sklearn\\metrics\\scorer.py:127: DeprecationWarning: Scoring method log_loss was renamed to neg_log_loss in version 0.18 and will be removed in 0.20.\n",
      "  sample_weight=sample_weight)\n",
      "C:\\Users\\Takashi\\Miniconda3\\lib\\site-packages\\sklearn\\metrics\\scorer.py:127: DeprecationWarning: Scoring method log_loss was renamed to neg_log_loss in version 0.18 and will be removed in 0.20.\n",
      "  sample_weight=sample_weight)\n"
     ]
    },
    {
     "name": "stdout",
     "output_type": "stream",
     "text": [
      "[CV]  max_depth=5, colsample_bytree=0.598012476848, subsample=0.688673747819 -   0.0s\n",
      "[CV] max_depth=5, colsample_bytree=0.598012476848, subsample=0.688673747819 \n",
      "[CV]  max_depth=5, colsample_bytree=0.598012476848, subsample=0.688673747819 -   0.0s\n",
      "[CV] max_depth=5, colsample_bytree=0.598012476848, subsample=0.688673747819 \n",
      "[CV]  max_depth=5, colsample_bytree=0.598012476848, subsample=0.688673747819 -   0.0s\n",
      "[CV] max_depth=5, colsample_bytree=0.598012476848, subsample=0.688673747819 \n"
     ]
    },
    {
     "name": "stderr",
     "output_type": "stream",
     "text": [
      "C:\\Users\\Takashi\\Miniconda3\\lib\\site-packages\\sklearn\\metrics\\scorer.py:127: DeprecationWarning: Scoring method log_loss was renamed to neg_log_loss in version 0.18 and will be removed in 0.20.\n",
      "  sample_weight=sample_weight)\n",
      "C:\\Users\\Takashi\\Miniconda3\\lib\\site-packages\\sklearn\\metrics\\scorer.py:127: DeprecationWarning: Scoring method log_loss was renamed to neg_log_loss in version 0.18 and will be removed in 0.20.\n",
      "  sample_weight=sample_weight)\n",
      "C:\\Users\\Takashi\\Miniconda3\\lib\\site-packages\\sklearn\\metrics\\scorer.py:127: DeprecationWarning: Scoring method log_loss was renamed to neg_log_loss in version 0.18 and will be removed in 0.20.\n",
      "  sample_weight=sample_weight)\n"
     ]
    },
    {
     "name": "stdout",
     "output_type": "stream",
     "text": [
      "[CV]  max_depth=5, colsample_bytree=0.598012476848, subsample=0.688673747819 -   0.0s\n",
      "[CV] max_depth=5, colsample_bytree=0.598012476848, subsample=0.688673747819 \n",
      "[CV]  max_depth=5, colsample_bytree=0.598012476848, subsample=0.688673747819 -   0.0s\n",
      "[CV] max_depth=5, colsample_bytree=0.598012476848, subsample=0.688673747819 \n",
      "[CV]  max_depth=5, colsample_bytree=0.598012476848, subsample=0.688673747819 -   0.0s\n",
      "[CV] max_depth=5, colsample_bytree=0.598012476848, subsample=0.688673747819 \n"
     ]
    },
    {
     "name": "stderr",
     "output_type": "stream",
     "text": [
      "C:\\Users\\Takashi\\Miniconda3\\lib\\site-packages\\sklearn\\metrics\\scorer.py:127: DeprecationWarning: Scoring method log_loss was renamed to neg_log_loss in version 0.18 and will be removed in 0.20.\n",
      "  sample_weight=sample_weight)\n",
      "C:\\Users\\Takashi\\Miniconda3\\lib\\site-packages\\sklearn\\metrics\\scorer.py:127: DeprecationWarning: Scoring method log_loss was renamed to neg_log_loss in version 0.18 and will be removed in 0.20.\n",
      "  sample_weight=sample_weight)\n",
      "C:\\Users\\Takashi\\Miniconda3\\lib\\site-packages\\sklearn\\metrics\\scorer.py:127: DeprecationWarning: Scoring method log_loss was renamed to neg_log_loss in version 0.18 and will be removed in 0.20.\n",
      "  sample_weight=sample_weight)\n"
     ]
    },
    {
     "name": "stdout",
     "output_type": "stream",
     "text": [
      "[CV]  max_depth=5, colsample_bytree=0.598012476848, subsample=0.688673747819 -   0.0s\n",
      "[CV] max_depth=5, colsample_bytree=0.598012476848, subsample=0.688673747819 \n",
      "[CV]  max_depth=5, colsample_bytree=0.598012476848, subsample=0.688673747819 -   0.0s\n",
      "[CV] max_depth=5, colsample_bytree=0.598012476848, subsample=0.688673747819 \n",
      "[CV]  max_depth=5, colsample_bytree=0.598012476848, subsample=0.688673747819 -   0.0s\n",
      "[CV] max_depth=5, colsample_bytree=0.598012476848, subsample=0.688673747819 \n"
     ]
    },
    {
     "name": "stderr",
     "output_type": "stream",
     "text": [
      "C:\\Users\\Takashi\\Miniconda3\\lib\\site-packages\\sklearn\\metrics\\scorer.py:127: DeprecationWarning: Scoring method log_loss was renamed to neg_log_loss in version 0.18 and will be removed in 0.20.\n",
      "  sample_weight=sample_weight)\n",
      "C:\\Users\\Takashi\\Miniconda3\\lib\\site-packages\\sklearn\\metrics\\scorer.py:127: DeprecationWarning: Scoring method log_loss was renamed to neg_log_loss in version 0.18 and will be removed in 0.20.\n",
      "  sample_weight=sample_weight)\n",
      "C:\\Users\\Takashi\\Miniconda3\\lib\\site-packages\\sklearn\\metrics\\scorer.py:127: DeprecationWarning: Scoring method log_loss was renamed to neg_log_loss in version 0.18 and will be removed in 0.20.\n",
      "  sample_weight=sample_weight)\n"
     ]
    },
    {
     "name": "stdout",
     "output_type": "stream",
     "text": [
      "[CV]  max_depth=5, colsample_bytree=0.598012476848, subsample=0.688673747819 -   0.0s\n",
      "[CV] max_depth=5, colsample_bytree=0.650969310827, subsample=0.977843249212 \n",
      "[CV]  max_depth=5, colsample_bytree=0.650969310827, subsample=0.977843249212 -   0.0s\n",
      "[CV] max_depth=5, colsample_bytree=0.650969310827, subsample=0.977843249212 \n",
      "[CV]  max_depth=5, colsample_bytree=0.650969310827, subsample=0.977843249212 -   0.0s\n",
      "[CV] max_depth=5, colsample_bytree=0.650969310827, subsample=0.977843249212 \n"
     ]
    },
    {
     "name": "stderr",
     "output_type": "stream",
     "text": [
      "C:\\Users\\Takashi\\Miniconda3\\lib\\site-packages\\sklearn\\metrics\\scorer.py:127: DeprecationWarning: Scoring method log_loss was renamed to neg_log_loss in version 0.18 and will be removed in 0.20.\n",
      "  sample_weight=sample_weight)\n",
      "C:\\Users\\Takashi\\Miniconda3\\lib\\site-packages\\sklearn\\metrics\\scorer.py:127: DeprecationWarning: Scoring method log_loss was renamed to neg_log_loss in version 0.18 and will be removed in 0.20.\n",
      "  sample_weight=sample_weight)\n",
      "C:\\Users\\Takashi\\Miniconda3\\lib\\site-packages\\sklearn\\metrics\\scorer.py:127: DeprecationWarning: Scoring method log_loss was renamed to neg_log_loss in version 0.18 and will be removed in 0.20.\n",
      "  sample_weight=sample_weight)\n"
     ]
    },
    {
     "name": "stdout",
     "output_type": "stream",
     "text": [
      "[CV]  max_depth=5, colsample_bytree=0.650969310827, subsample=0.977843249212 -   0.0s\n",
      "[CV] max_depth=5, colsample_bytree=0.650969310827, subsample=0.977843249212 \n",
      "[CV]  max_depth=5, colsample_bytree=0.650969310827, subsample=0.977843249212 -   0.0s\n",
      "[CV] max_depth=5, colsample_bytree=0.650969310827, subsample=0.977843249212 \n",
      "[CV]  max_depth=5, colsample_bytree=0.650969310827, subsample=0.977843249212 -   0.0s\n",
      "[CV] max_depth=5, colsample_bytree=0.650969310827, subsample=0.977843249212 \n"
     ]
    },
    {
     "name": "stderr",
     "output_type": "stream",
     "text": [
      "C:\\Users\\Takashi\\Miniconda3\\lib\\site-packages\\sklearn\\metrics\\scorer.py:127: DeprecationWarning: Scoring method log_loss was renamed to neg_log_loss in version 0.18 and will be removed in 0.20.\n",
      "  sample_weight=sample_weight)\n",
      "C:\\Users\\Takashi\\Miniconda3\\lib\\site-packages\\sklearn\\metrics\\scorer.py:127: DeprecationWarning: Scoring method log_loss was renamed to neg_log_loss in version 0.18 and will be removed in 0.20.\n",
      "  sample_weight=sample_weight)\n",
      "C:\\Users\\Takashi\\Miniconda3\\lib\\site-packages\\sklearn\\metrics\\scorer.py:127: DeprecationWarning: Scoring method log_loss was renamed to neg_log_loss in version 0.18 and will be removed in 0.20.\n",
      "  sample_weight=sample_weight)\n"
     ]
    },
    {
     "name": "stdout",
     "output_type": "stream",
     "text": [
      "[CV]  max_depth=5, colsample_bytree=0.650969310827, subsample=0.977843249212 -   0.0s\n",
      "[CV] max_depth=5, colsample_bytree=0.650969310827, subsample=0.977843249212 \n",
      "[CV]  max_depth=5, colsample_bytree=0.650969310827, subsample=0.977843249212 -   0.0s\n",
      "[CV] max_depth=5, colsample_bytree=0.650969310827, subsample=0.977843249212 \n",
      "[CV]  max_depth=5, colsample_bytree=0.650969310827, subsample=0.977843249212 -   0.0s\n",
      "[CV] max_depth=5, colsample_bytree=0.650969310827, subsample=0.977843249212 \n"
     ]
    },
    {
     "name": "stderr",
     "output_type": "stream",
     "text": [
      "C:\\Users\\Takashi\\Miniconda3\\lib\\site-packages\\sklearn\\metrics\\scorer.py:127: DeprecationWarning: Scoring method log_loss was renamed to neg_log_loss in version 0.18 and will be removed in 0.20.\n",
      "  sample_weight=sample_weight)\n",
      "C:\\Users\\Takashi\\Miniconda3\\lib\\site-packages\\sklearn\\metrics\\scorer.py:127: DeprecationWarning: Scoring method log_loss was renamed to neg_log_loss in version 0.18 and will be removed in 0.20.\n",
      "  sample_weight=sample_weight)\n",
      "C:\\Users\\Takashi\\Miniconda3\\lib\\site-packages\\sklearn\\metrics\\scorer.py:127: DeprecationWarning: Scoring method log_loss was renamed to neg_log_loss in version 0.18 and will be removed in 0.20.\n",
      "  sample_weight=sample_weight)\n",
      "C:\\Users\\Takashi\\Miniconda3\\lib\\site-packages\\sklearn\\metrics\\scorer.py:127: DeprecationWarning: Scoring method log_loss was renamed to neg_log_loss in version 0.18 and will be removed in 0.20.\n",
      "  sample_weight=sample_weight)\n"
     ]
    },
    {
     "name": "stdout",
     "output_type": "stream",
     "text": [
      "[CV]  max_depth=5, colsample_bytree=0.650969310827, subsample=0.977843249212 -   0.0s\n",
      "[CV] max_depth=5, colsample_bytree=0.650969310827, subsample=0.977843249212 \n",
      "[CV]  max_depth=5, colsample_bytree=0.650969310827, subsample=0.977843249212 -   0.0s\n",
      "[CV] max_depth=3, colsample_bytree=0.750827449109, subsample=0.54804960654 \n",
      "[CV]  max_depth=3, colsample_bytree=0.750827449109, subsample=0.54804960654 -   0.0s\n",
      "[CV] max_depth=3, colsample_bytree=0.750827449109, subsample=0.54804960654 \n",
      "[CV]  max_depth=3, colsample_bytree=0.750827449109, subsample=0.54804960654 -   0.0s\n",
      "[CV] max_depth=3, colsample_bytree=0.750827449109, subsample=0.54804960654 \n"
     ]
    },
    {
     "name": "stderr",
     "output_type": "stream",
     "text": [
      "C:\\Users\\Takashi\\Miniconda3\\lib\\site-packages\\sklearn\\metrics\\scorer.py:127: DeprecationWarning: Scoring method log_loss was renamed to neg_log_loss in version 0.18 and will be removed in 0.20.\n",
      "  sample_weight=sample_weight)\n",
      "C:\\Users\\Takashi\\Miniconda3\\lib\\site-packages\\sklearn\\metrics\\scorer.py:127: DeprecationWarning: Scoring method log_loss was renamed to neg_log_loss in version 0.18 and will be removed in 0.20.\n",
      "  sample_weight=sample_weight)\n",
      "C:\\Users\\Takashi\\Miniconda3\\lib\\site-packages\\sklearn\\metrics\\scorer.py:127: DeprecationWarning: Scoring method log_loss was renamed to neg_log_loss in version 0.18 and will be removed in 0.20.\n",
      "  sample_weight=sample_weight)\n",
      "C:\\Users\\Takashi\\Miniconda3\\lib\\site-packages\\sklearn\\metrics\\scorer.py:127: DeprecationWarning: Scoring method log_loss was renamed to neg_log_loss in version 0.18 and will be removed in 0.20.\n",
      "  sample_weight=sample_weight)\n"
     ]
    },
    {
     "name": "stdout",
     "output_type": "stream",
     "text": [
      "[CV]  max_depth=3, colsample_bytree=0.750827449109, subsample=0.54804960654 -   0.0s\n",
      "[CV] max_depth=3, colsample_bytree=0.750827449109, subsample=0.54804960654 \n",
      "[CV]  max_depth=3, colsample_bytree=0.750827449109, subsample=0.54804960654 -   0.0s\n",
      "[CV] max_depth=3, colsample_bytree=0.750827449109, subsample=0.54804960654 \n",
      "[CV]  max_depth=3, colsample_bytree=0.750827449109, subsample=0.54804960654 -   0.0s\n",
      "[CV] max_depth=3, colsample_bytree=0.750827449109, subsample=0.54804960654 \n",
      "[CV]  max_depth=3, colsample_bytree=0.750827449109, subsample=0.54804960654 -   0.0s\n",
      "[CV] max_depth=3, colsample_bytree=0.750827449109, subsample=0.54804960654 \n"
     ]
    },
    {
     "name": "stderr",
     "output_type": "stream",
     "text": [
      "C:\\Users\\Takashi\\Miniconda3\\lib\\site-packages\\sklearn\\metrics\\scorer.py:127: DeprecationWarning: Scoring method log_loss was renamed to neg_log_loss in version 0.18 and will be removed in 0.20.\n",
      "  sample_weight=sample_weight)\n",
      "C:\\Users\\Takashi\\Miniconda3\\lib\\site-packages\\sklearn\\metrics\\scorer.py:127: DeprecationWarning: Scoring method log_loss was renamed to neg_log_loss in version 0.18 and will be removed in 0.20.\n",
      "  sample_weight=sample_weight)\n",
      "C:\\Users\\Takashi\\Miniconda3\\lib\\site-packages\\sklearn\\metrics\\scorer.py:127: DeprecationWarning: Scoring method log_loss was renamed to neg_log_loss in version 0.18 and will be removed in 0.20.\n",
      "  sample_weight=sample_weight)\n",
      "C:\\Users\\Takashi\\Miniconda3\\lib\\site-packages\\sklearn\\metrics\\scorer.py:127: DeprecationWarning: Scoring method log_loss was renamed to neg_log_loss in version 0.18 and will be removed in 0.20.\n",
      "  sample_weight=sample_weight)\n"
     ]
    },
    {
     "name": "stdout",
     "output_type": "stream",
     "text": [
      "[CV]  max_depth=3, colsample_bytree=0.750827449109, subsample=0.54804960654 -   0.0s\n",
      "[CV] max_depth=3, colsample_bytree=0.750827449109, subsample=0.54804960654 \n",
      "[CV]  max_depth=3, colsample_bytree=0.750827449109, subsample=0.54804960654 -   0.0s\n",
      "[CV] max_depth=3, colsample_bytree=0.750827449109, subsample=0.54804960654 \n",
      "[CV]  max_depth=3, colsample_bytree=0.750827449109, subsample=0.54804960654 -   0.0s\n",
      "[CV] max_depth=3, colsample_bytree=0.750827449109, subsample=0.54804960654 \n",
      "[CV]  max_depth=3, colsample_bytree=0.750827449109, subsample=0.54804960654 -   0.0s\n",
      "[CV] max_depth=6, colsample_bytree=0.725268876866, subsample=0.924144824797 \n"
     ]
    },
    {
     "name": "stderr",
     "output_type": "stream",
     "text": [
      "C:\\Users\\Takashi\\Miniconda3\\lib\\site-packages\\sklearn\\metrics\\scorer.py:127: DeprecationWarning: Scoring method log_loss was renamed to neg_log_loss in version 0.18 and will be removed in 0.20.\n",
      "  sample_weight=sample_weight)\n",
      "C:\\Users\\Takashi\\Miniconda3\\lib\\site-packages\\sklearn\\metrics\\scorer.py:127: DeprecationWarning: Scoring method log_loss was renamed to neg_log_loss in version 0.18 and will be removed in 0.20.\n",
      "  sample_weight=sample_weight)\n",
      "C:\\Users\\Takashi\\Miniconda3\\lib\\site-packages\\sklearn\\metrics\\scorer.py:127: DeprecationWarning: Scoring method log_loss was renamed to neg_log_loss in version 0.18 and will be removed in 0.20.\n",
      "  sample_weight=sample_weight)\n"
     ]
    },
    {
     "name": "stdout",
     "output_type": "stream",
     "text": [
      "[CV]  max_depth=6, colsample_bytree=0.725268876866, subsample=0.924144824797 -   0.0s\n",
      "[CV] max_depth=6, colsample_bytree=0.725268876866, subsample=0.924144824797 \n",
      "[CV]  max_depth=6, colsample_bytree=0.725268876866, subsample=0.924144824797 -   0.0s\n",
      "[CV] max_depth=6, colsample_bytree=0.725268876866, subsample=0.924144824797 \n",
      "[CV]  max_depth=6, colsample_bytree=0.725268876866, subsample=0.924144824797 -   0.0s\n",
      "[CV] max_depth=6, colsample_bytree=0.725268876866, subsample=0.924144824797 \n"
     ]
    },
    {
     "name": "stderr",
     "output_type": "stream",
     "text": [
      "C:\\Users\\Takashi\\Miniconda3\\lib\\site-packages\\sklearn\\metrics\\scorer.py:127: DeprecationWarning: Scoring method log_loss was renamed to neg_log_loss in version 0.18 and will be removed in 0.20.\n",
      "  sample_weight=sample_weight)\n",
      "C:\\Users\\Takashi\\Miniconda3\\lib\\site-packages\\sklearn\\metrics\\scorer.py:127: DeprecationWarning: Scoring method log_loss was renamed to neg_log_loss in version 0.18 and will be removed in 0.20.\n",
      "  sample_weight=sample_weight)\n",
      "C:\\Users\\Takashi\\Miniconda3\\lib\\site-packages\\sklearn\\metrics\\scorer.py:127: DeprecationWarning: Scoring method log_loss was renamed to neg_log_loss in version 0.18 and will be removed in 0.20.\n",
      "  sample_weight=sample_weight)\n"
     ]
    },
    {
     "name": "stdout",
     "output_type": "stream",
     "text": [
      "[CV]  max_depth=6, colsample_bytree=0.725268876866, subsample=0.924144824797 -   0.0s\n",
      "[CV] max_depth=6, colsample_bytree=0.725268876866, subsample=0.924144824797 \n",
      "[CV]  max_depth=6, colsample_bytree=0.725268876866, subsample=0.924144824797 -   0.0s\n",
      "[CV] max_depth=6, colsample_bytree=0.725268876866, subsample=0.924144824797 \n",
      "[CV]  max_depth=6, colsample_bytree=0.725268876866, subsample=0.924144824797 -   0.0s\n",
      "[CV] max_depth=6, colsample_bytree=0.725268876866, subsample=0.924144824797 \n"
     ]
    },
    {
     "name": "stderr",
     "output_type": "stream",
     "text": [
      "C:\\Users\\Takashi\\Miniconda3\\lib\\site-packages\\sklearn\\metrics\\scorer.py:127: DeprecationWarning: Scoring method log_loss was renamed to neg_log_loss in version 0.18 and will be removed in 0.20.\n",
      "  sample_weight=sample_weight)\n",
      "C:\\Users\\Takashi\\Miniconda3\\lib\\site-packages\\sklearn\\metrics\\scorer.py:127: DeprecationWarning: Scoring method log_loss was renamed to neg_log_loss in version 0.18 and will be removed in 0.20.\n",
      "  sample_weight=sample_weight)\n",
      "C:\\Users\\Takashi\\Miniconda3\\lib\\site-packages\\sklearn\\metrics\\scorer.py:127: DeprecationWarning: Scoring method log_loss was renamed to neg_log_loss in version 0.18 and will be removed in 0.20.\n",
      "  sample_weight=sample_weight)\n"
     ]
    },
    {
     "name": "stdout",
     "output_type": "stream",
     "text": [
      "[CV]  max_depth=6, colsample_bytree=0.725268876866, subsample=0.924144824797 -   0.0s\n",
      "[CV] max_depth=6, colsample_bytree=0.725268876866, subsample=0.924144824797 \n",
      "[CV]  max_depth=6, colsample_bytree=0.725268876866, subsample=0.924144824797 -   0.0s\n",
      "[CV] max_depth=6, colsample_bytree=0.725268876866, subsample=0.924144824797 \n",
      "[CV]  max_depth=6, colsample_bytree=0.725268876866, subsample=0.924144824797 -   0.0s\n",
      "[CV] max_depth=6, colsample_bytree=0.725268876866, subsample=0.924144824797 \n"
     ]
    },
    {
     "name": "stderr",
     "output_type": "stream",
     "text": [
      "C:\\Users\\Takashi\\Miniconda3\\lib\\site-packages\\sklearn\\metrics\\scorer.py:127: DeprecationWarning: Scoring method log_loss was renamed to neg_log_loss in version 0.18 and will be removed in 0.20.\n",
      "  sample_weight=sample_weight)\n",
      "C:\\Users\\Takashi\\Miniconda3\\lib\\site-packages\\sklearn\\metrics\\scorer.py:127: DeprecationWarning: Scoring method log_loss was renamed to neg_log_loss in version 0.18 and will be removed in 0.20.\n",
      "  sample_weight=sample_weight)\n",
      "C:\\Users\\Takashi\\Miniconda3\\lib\\site-packages\\sklearn\\metrics\\scorer.py:127: DeprecationWarning: Scoring method log_loss was renamed to neg_log_loss in version 0.18 and will be removed in 0.20.\n",
      "  sample_weight=sample_weight)\n",
      "C:\\Users\\Takashi\\Miniconda3\\lib\\site-packages\\sklearn\\metrics\\scorer.py:127: DeprecationWarning: Scoring method log_loss was renamed to neg_log_loss in version 0.18 and will be removed in 0.20.\n",
      "  sample_weight=sample_weight)\n",
      "C:\\Users\\Takashi\\Miniconda3\\lib\\site-packages\\sklearn\\metrics\\scorer.py:127: DeprecationWarning: Scoring method log_loss was renamed to neg_log_loss in version 0.18 and will be removed in 0.20.\n",
      "  sample_weight=sample_weight)\n",
      "C:\\Users\\Takashi\\Miniconda3\\lib\\site-packages\\sklearn\\metrics\\scorer.py:127: DeprecationWarning: Scoring method log_loss was renamed to neg_log_loss in version 0.18 and will be removed in 0.20.\n",
      "  sample_weight=sample_weight)\n",
      "C:\\Users\\Takashi\\Miniconda3\\lib\\site-packages\\sklearn\\metrics\\scorer.py:127: DeprecationWarning: Scoring method log_loss was renamed to neg_log_loss in version 0.18 and will be removed in 0.20.\n",
      "  sample_weight=sample_weight)\n",
      "C:\\Users\\Takashi\\Miniconda3\\lib\\site-packages\\sklearn\\metrics\\scorer.py:127: DeprecationWarning: Scoring method log_loss was renamed to neg_log_loss in version 0.18 and will be removed in 0.20.\n",
      "  sample_weight=sample_weight)\n"
     ]
    },
    {
     "name": "stdout",
     "output_type": "stream",
     "text": [
      "[CV]  max_depth=6, colsample_bytree=0.725268876866, subsample=0.924144824797 -   0.0s\n",
      "[CV] max_depth=1, colsample_bytree=0.839492888454, subsample=0.573398179271 \n",
      "[CV]  max_depth=1, colsample_bytree=0.839492888454, subsample=0.573398179271 -   0.0s\n",
      "[CV] max_depth=1, colsample_bytree=0.839492888454, subsample=0.573398179271 \n",
      "[CV]  max_depth=1, colsample_bytree=0.839492888454, subsample=0.573398179271 -   0.0s\n",
      "[CV] max_depth=1, colsample_bytree=0.839492888454, subsample=0.573398179271 \n",
      "[CV]  max_depth=1, colsample_bytree=0.839492888454, subsample=0.573398179271 -   0.0s\n",
      "[CV] max_depth=1, colsample_bytree=0.839492888454, subsample=0.573398179271 \n",
      "[CV]  max_depth=1, colsample_bytree=0.839492888454, subsample=0.573398179271 -   0.0s\n",
      "[CV] max_depth=1, colsample_bytree=0.839492888454, subsample=0.573398179271 \n",
      "[CV]  max_depth=1, colsample_bytree=0.839492888454, subsample=0.573398179271 -   0.0s\n",
      "[CV] max_depth=1, colsample_bytree=0.839492888454, subsample=0.573398179271 \n",
      "[CV]  max_depth=1, colsample_bytree=0.839492888454, subsample=0.573398179271 -   0.0s\n",
      "[CV] max_depth=1, colsample_bytree=0.839492888454, subsample=0.573398179271 \n",
      "[CV]  max_depth=1, colsample_bytree=0.839492888454, subsample=0.573398179271 -   0.0s\n",
      "[CV] max_depth=1, colsample_bytree=0.839492888454, subsample=0.573398179271 \n"
     ]
    },
    {
     "name": "stderr",
     "output_type": "stream",
     "text": [
      "C:\\Users\\Takashi\\Miniconda3\\lib\\site-packages\\sklearn\\metrics\\scorer.py:127: DeprecationWarning: Scoring method log_loss was renamed to neg_log_loss in version 0.18 and will be removed in 0.20.\n",
      "  sample_weight=sample_weight)\n",
      "C:\\Users\\Takashi\\Miniconda3\\lib\\site-packages\\sklearn\\metrics\\scorer.py:127: DeprecationWarning: Scoring method log_loss was renamed to neg_log_loss in version 0.18 and will be removed in 0.20.\n",
      "  sample_weight=sample_weight)\n",
      "C:\\Users\\Takashi\\Miniconda3\\lib\\site-packages\\sklearn\\metrics\\scorer.py:127: DeprecationWarning: Scoring method log_loss was renamed to neg_log_loss in version 0.18 and will be removed in 0.20.\n",
      "  sample_weight=sample_weight)\n",
      "C:\\Users\\Takashi\\Miniconda3\\lib\\site-packages\\sklearn\\metrics\\scorer.py:127: DeprecationWarning: Scoring method log_loss was renamed to neg_log_loss in version 0.18 and will be removed in 0.20.\n",
      "  sample_weight=sample_weight)\n",
      "C:\\Users\\Takashi\\Miniconda3\\lib\\site-packages\\sklearn\\metrics\\scorer.py:127: DeprecationWarning: Scoring method log_loss was renamed to neg_log_loss in version 0.18 and will be removed in 0.20.\n",
      "  sample_weight=sample_weight)\n",
      "C:\\Users\\Takashi\\Miniconda3\\lib\\site-packages\\sklearn\\metrics\\scorer.py:127: DeprecationWarning: Scoring method log_loss was renamed to neg_log_loss in version 0.18 and will be removed in 0.20.\n",
      "  sample_weight=sample_weight)\n"
     ]
    },
    {
     "name": "stdout",
     "output_type": "stream",
     "text": [
      "[CV]  max_depth=1, colsample_bytree=0.839492888454, subsample=0.573398179271 -   0.0s\n",
      "[CV] max_depth=1, colsample_bytree=0.839492888454, subsample=0.573398179271 \n",
      "[CV]  max_depth=1, colsample_bytree=0.839492888454, subsample=0.573398179271 -   0.0s\n",
      "[CV] max_depth=1, colsample_bytree=0.839492888454, subsample=0.573398179271 \n",
      "[CV]  max_depth=1, colsample_bytree=0.839492888454, subsample=0.573398179271 -   0.0s\n",
      "[CV] max_depth=3, colsample_bytree=0.854668672583, subsample=0.935625794786 \n",
      "[CV]  max_depth=3, colsample_bytree=0.854668672583, subsample=0.935625794786 -   0.0s\n",
      "[CV] max_depth=3, colsample_bytree=0.854668672583, subsample=0.935625794786 \n",
      "[CV]  max_depth=3, colsample_bytree=0.854668672583, subsample=0.935625794786 -   0.0s\n",
      "[CV] max_depth=3, colsample_bytree=0.854668672583, subsample=0.935625794786 \n",
      "[CV]  max_depth=3, colsample_bytree=0.854668672583, subsample=0.935625794786 -   0.0s\n",
      "[CV] max_depth=3, colsample_bytree=0.854668672583, subsample=0.935625794786 \n"
     ]
    },
    {
     "name": "stderr",
     "output_type": "stream",
     "text": [
      "C:\\Users\\Takashi\\Miniconda3\\lib\\site-packages\\sklearn\\metrics\\scorer.py:127: DeprecationWarning: Scoring method log_loss was renamed to neg_log_loss in version 0.18 and will be removed in 0.20.\n",
      "  sample_weight=sample_weight)\n",
      "C:\\Users\\Takashi\\Miniconda3\\lib\\site-packages\\sklearn\\metrics\\scorer.py:127: DeprecationWarning: Scoring method log_loss was renamed to neg_log_loss in version 0.18 and will be removed in 0.20.\n",
      "  sample_weight=sample_weight)\n",
      "C:\\Users\\Takashi\\Miniconda3\\lib\\site-packages\\sklearn\\metrics\\scorer.py:127: DeprecationWarning: Scoring method log_loss was renamed to neg_log_loss in version 0.18 and will be removed in 0.20.\n",
      "  sample_weight=sample_weight)\n",
      "C:\\Users\\Takashi\\Miniconda3\\lib\\site-packages\\sklearn\\metrics\\scorer.py:127: DeprecationWarning: Scoring method log_loss was renamed to neg_log_loss in version 0.18 and will be removed in 0.20.\n",
      "  sample_weight=sample_weight)\n",
      "C:\\Users\\Takashi\\Miniconda3\\lib\\site-packages\\sklearn\\metrics\\scorer.py:127: DeprecationWarning: Scoring method log_loss was renamed to neg_log_loss in version 0.18 and will be removed in 0.20.\n",
      "  sample_weight=sample_weight)\n"
     ]
    },
    {
     "name": "stdout",
     "output_type": "stream",
     "text": [
      "[CV]  max_depth=3, colsample_bytree=0.854668672583, subsample=0.935625794786 -   0.0s\n",
      "[CV] max_depth=3, colsample_bytree=0.854668672583, subsample=0.935625794786 \n",
      "[CV]  max_depth=3, colsample_bytree=0.854668672583, subsample=0.935625794786 -   0.0s\n",
      "[CV] max_depth=3, colsample_bytree=0.854668672583, subsample=0.935625794786 \n",
      "[CV]  max_depth=3, colsample_bytree=0.854668672583, subsample=0.935625794786 -   0.0s\n",
      "[CV] max_depth=3, colsample_bytree=0.854668672583, subsample=0.935625794786 \n",
      "[CV]  max_depth=3, colsample_bytree=0.854668672583, subsample=0.935625794786 -   0.0s\n",
      "[CV] max_depth=3, colsample_bytree=0.854668672583, subsample=0.935625794786 \n",
      "[CV]  max_depth=3, colsample_bytree=0.854668672583, subsample=0.935625794786 -   0.0s\n",
      "[CV] max_depth=3, colsample_bytree=0.854668672583, subsample=0.935625794786 \n"
     ]
    },
    {
     "name": "stderr",
     "output_type": "stream",
     "text": [
      "C:\\Users\\Takashi\\Miniconda3\\lib\\site-packages\\sklearn\\metrics\\scorer.py:127: DeprecationWarning: Scoring method log_loss was renamed to neg_log_loss in version 0.18 and will be removed in 0.20.\n",
      "  sample_weight=sample_weight)\n",
      "C:\\Users\\Takashi\\Miniconda3\\lib\\site-packages\\sklearn\\metrics\\scorer.py:127: DeprecationWarning: Scoring method log_loss was renamed to neg_log_loss in version 0.18 and will be removed in 0.20.\n",
      "  sample_weight=sample_weight)\n",
      "C:\\Users\\Takashi\\Miniconda3\\lib\\site-packages\\sklearn\\metrics\\scorer.py:127: DeprecationWarning: Scoring method log_loss was renamed to neg_log_loss in version 0.18 and will be removed in 0.20.\n",
      "  sample_weight=sample_weight)\n"
     ]
    },
    {
     "name": "stdout",
     "output_type": "stream",
     "text": [
      "[CV]  max_depth=3, colsample_bytree=0.854668672583, subsample=0.935625794786 -   0.0s\n",
      "[CV] max_depth=3, colsample_bytree=0.854668672583, subsample=0.935625794786 \n",
      "[CV]  max_depth=3, colsample_bytree=0.854668672583, subsample=0.935625794786 -   0.0s\n",
      "[CV] max_depth=8, colsample_bytree=0.694411615869, subsample=0.915030737875 \n",
      "[CV]  max_depth=8, colsample_bytree=0.694411615869, subsample=0.915030737875 -   0.0s\n",
      "[CV] max_depth=8, colsample_bytree=0.694411615869, subsample=0.915030737875 \n"
     ]
    },
    {
     "name": "stderr",
     "output_type": "stream",
     "text": [
      "C:\\Users\\Takashi\\Miniconda3\\lib\\site-packages\\sklearn\\metrics\\scorer.py:127: DeprecationWarning: Scoring method log_loss was renamed to neg_log_loss in version 0.18 and will be removed in 0.20.\n",
      "  sample_weight=sample_weight)\n",
      "C:\\Users\\Takashi\\Miniconda3\\lib\\site-packages\\sklearn\\metrics\\scorer.py:127: DeprecationWarning: Scoring method log_loss was renamed to neg_log_loss in version 0.18 and will be removed in 0.20.\n",
      "  sample_weight=sample_weight)\n"
     ]
    },
    {
     "name": "stdout",
     "output_type": "stream",
     "text": [
      "[CV]  max_depth=8, colsample_bytree=0.694411615869, subsample=0.915030737875 -   0.0s\n",
      "[CV] max_depth=8, colsample_bytree=0.694411615869, subsample=0.915030737875 \n",
      "[CV]  max_depth=8, colsample_bytree=0.694411615869, subsample=0.915030737875 -   0.0s\n",
      "[CV] max_depth=8, colsample_bytree=0.694411615869, subsample=0.915030737875 \n"
     ]
    },
    {
     "name": "stderr",
     "output_type": "stream",
     "text": [
      "C:\\Users\\Takashi\\Miniconda3\\lib\\site-packages\\sklearn\\metrics\\scorer.py:127: DeprecationWarning: Scoring method log_loss was renamed to neg_log_loss in version 0.18 and will be removed in 0.20.\n",
      "  sample_weight=sample_weight)\n",
      "C:\\Users\\Takashi\\Miniconda3\\lib\\site-packages\\sklearn\\metrics\\scorer.py:127: DeprecationWarning: Scoring method log_loss was renamed to neg_log_loss in version 0.18 and will be removed in 0.20.\n",
      "  sample_weight=sample_weight)\n",
      "C:\\Users\\Takashi\\Miniconda3\\lib\\site-packages\\sklearn\\metrics\\scorer.py:127: DeprecationWarning: Scoring method log_loss was renamed to neg_log_loss in version 0.18 and will be removed in 0.20.\n",
      "  sample_weight=sample_weight)\n"
     ]
    },
    {
     "name": "stdout",
     "output_type": "stream",
     "text": [
      "[CV]  max_depth=8, colsample_bytree=0.694411615869, subsample=0.915030737875 -   0.0s\n",
      "[CV] max_depth=8, colsample_bytree=0.694411615869, subsample=0.915030737875 \n",
      "[CV]  max_depth=8, colsample_bytree=0.694411615869, subsample=0.915030737875 -   0.0s\n",
      "[CV] max_depth=8, colsample_bytree=0.694411615869, subsample=0.915030737875 \n",
      "[CV]  max_depth=8, colsample_bytree=0.694411615869, subsample=0.915030737875 -   0.0s\n",
      "[CV] max_depth=8, colsample_bytree=0.694411615869, subsample=0.915030737875 \n"
     ]
    },
    {
     "name": "stderr",
     "output_type": "stream",
     "text": [
      "C:\\Users\\Takashi\\Miniconda3\\lib\\site-packages\\sklearn\\metrics\\scorer.py:127: DeprecationWarning: Scoring method log_loss was renamed to neg_log_loss in version 0.18 and will be removed in 0.20.\n",
      "  sample_weight=sample_weight)\n",
      "C:\\Users\\Takashi\\Miniconda3\\lib\\site-packages\\sklearn\\metrics\\scorer.py:127: DeprecationWarning: Scoring method log_loss was renamed to neg_log_loss in version 0.18 and will be removed in 0.20.\n",
      "  sample_weight=sample_weight)\n",
      "C:\\Users\\Takashi\\Miniconda3\\lib\\site-packages\\sklearn\\metrics\\scorer.py:127: DeprecationWarning: Scoring method log_loss was renamed to neg_log_loss in version 0.18 and will be removed in 0.20.\n",
      "  sample_weight=sample_weight)\n"
     ]
    },
    {
     "name": "stdout",
     "output_type": "stream",
     "text": [
      "[CV]  max_depth=8, colsample_bytree=0.694411615869, subsample=0.915030737875 -   0.0s\n",
      "[CV] max_depth=8, colsample_bytree=0.694411615869, subsample=0.915030737875 \n",
      "[CV]  max_depth=8, colsample_bytree=0.694411615869, subsample=0.915030737875 -   0.0s\n",
      "[CV] max_depth=8, colsample_bytree=0.694411615869, subsample=0.915030737875 \n",
      "[CV]  max_depth=8, colsample_bytree=0.694411615869, subsample=0.915030737875 -   0.0s\n",
      "[CV] max_depth=8, colsample_bytree=0.694411615869, subsample=0.915030737875 \n",
      "[CV]  max_depth=8, colsample_bytree=0.694411615869, subsample=0.915030737875 -   0.0s\n",
      "[CV] max_depth=2, colsample_bytree=0.615430114335, subsample=0.53850268686 \n",
      "[CV]  max_depth=2, colsample_bytree=0.615430114335, subsample=0.53850268686 -   0.0s\n",
      "[CV] max_depth=2, colsample_bytree=0.615430114335, subsample=0.53850268686 \n"
     ]
    },
    {
     "name": "stderr",
     "output_type": "stream",
     "text": [
      "C:\\Users\\Takashi\\Miniconda3\\lib\\site-packages\\sklearn\\metrics\\scorer.py:127: DeprecationWarning: Scoring method log_loss was renamed to neg_log_loss in version 0.18 and will be removed in 0.20.\n",
      "  sample_weight=sample_weight)\n",
      "C:\\Users\\Takashi\\Miniconda3\\lib\\site-packages\\sklearn\\metrics\\scorer.py:127: DeprecationWarning: Scoring method log_loss was renamed to neg_log_loss in version 0.18 and will be removed in 0.20.\n",
      "  sample_weight=sample_weight)\n",
      "C:\\Users\\Takashi\\Miniconda3\\lib\\site-packages\\sklearn\\metrics\\scorer.py:127: DeprecationWarning: Scoring method log_loss was renamed to neg_log_loss in version 0.18 and will be removed in 0.20.\n",
      "  sample_weight=sample_weight)\n",
      "C:\\Users\\Takashi\\Miniconda3\\lib\\site-packages\\sklearn\\metrics\\scorer.py:127: DeprecationWarning: Scoring method log_loss was renamed to neg_log_loss in version 0.18 and will be removed in 0.20.\n",
      "  sample_weight=sample_weight)\n"
     ]
    },
    {
     "name": "stdout",
     "output_type": "stream",
     "text": [
      "[CV]  max_depth=2, colsample_bytree=0.615430114335, subsample=0.53850268686 -   0.0s\n",
      "[CV] max_depth=2, colsample_bytree=0.615430114335, subsample=0.53850268686 \n",
      "[CV]  max_depth=2, colsample_bytree=0.615430114335, subsample=0.53850268686 -   0.0s\n",
      "[CV] max_depth=2, colsample_bytree=0.615430114335, subsample=0.53850268686 \n",
      "[CV]  max_depth=2, colsample_bytree=0.615430114335, subsample=0.53850268686 -   0.0s\n",
      "[CV] max_depth=2, colsample_bytree=0.615430114335, subsample=0.53850268686 \n",
      "[CV]  max_depth=2, colsample_bytree=0.615430114335, subsample=0.53850268686 -   0.0s\n",
      "[CV] max_depth=2, colsample_bytree=0.615430114335, subsample=0.53850268686 \n"
     ]
    },
    {
     "name": "stderr",
     "output_type": "stream",
     "text": [
      "C:\\Users\\Takashi\\Miniconda3\\lib\\site-packages\\sklearn\\metrics\\scorer.py:127: DeprecationWarning: Scoring method log_loss was renamed to neg_log_loss in version 0.18 and will be removed in 0.20.\n",
      "  sample_weight=sample_weight)\n",
      "C:\\Users\\Takashi\\Miniconda3\\lib\\site-packages\\sklearn\\metrics\\scorer.py:127: DeprecationWarning: Scoring method log_loss was renamed to neg_log_loss in version 0.18 and will be removed in 0.20.\n",
      "  sample_weight=sample_weight)\n",
      "C:\\Users\\Takashi\\Miniconda3\\lib\\site-packages\\sklearn\\metrics\\scorer.py:127: DeprecationWarning: Scoring method log_loss was renamed to neg_log_loss in version 0.18 and will be removed in 0.20.\n",
      "  sample_weight=sample_weight)\n",
      "C:\\Users\\Takashi\\Miniconda3\\lib\\site-packages\\sklearn\\metrics\\scorer.py:127: DeprecationWarning: Scoring method log_loss was renamed to neg_log_loss in version 0.18 and will be removed in 0.20.\n",
      "  sample_weight=sample_weight)\n"
     ]
    },
    {
     "name": "stdout",
     "output_type": "stream",
     "text": [
      "[CV]  max_depth=2, colsample_bytree=0.615430114335, subsample=0.53850268686 -   0.0s\n",
      "[CV] max_depth=2, colsample_bytree=0.615430114335, subsample=0.53850268686 \n",
      "[CV]  max_depth=2, colsample_bytree=0.615430114335, subsample=0.53850268686 -   0.0s\n",
      "[CV] max_depth=2, colsample_bytree=0.615430114335, subsample=0.53850268686 \n",
      "[CV]  max_depth=2, colsample_bytree=0.615430114335, subsample=0.53850268686 -   0.0s\n",
      "[CV] max_depth=2, colsample_bytree=0.615430114335, subsample=0.53850268686 \n",
      "[CV]  max_depth=2, colsample_bytree=0.615430114335, subsample=0.53850268686 -   0.0s\n",
      "[CV] max_depth=2, colsample_bytree=0.615430114335, subsample=0.53850268686 \n",
      "[CV]  max_depth=2, colsample_bytree=0.615430114335, subsample=0.53850268686 -   0.0s\n",
      "[CV] max_depth=10, colsample_bytree=0.989094417989, subsample=0.809340283295 \n"
     ]
    },
    {
     "name": "stderr",
     "output_type": "stream",
     "text": [
      "C:\\Users\\Takashi\\Miniconda3\\lib\\site-packages\\sklearn\\metrics\\scorer.py:127: DeprecationWarning: Scoring method log_loss was renamed to neg_log_loss in version 0.18 and will be removed in 0.20.\n",
      "  sample_weight=sample_weight)\n",
      "C:\\Users\\Takashi\\Miniconda3\\lib\\site-packages\\sklearn\\metrics\\scorer.py:127: DeprecationWarning: Scoring method log_loss was renamed to neg_log_loss in version 0.18 and will be removed in 0.20.\n",
      "  sample_weight=sample_weight)\n",
      "C:\\Users\\Takashi\\Miniconda3\\lib\\site-packages\\sklearn\\metrics\\scorer.py:127: DeprecationWarning: Scoring method log_loss was renamed to neg_log_loss in version 0.18 and will be removed in 0.20.\n",
      "  sample_weight=sample_weight)\n",
      "C:\\Users\\Takashi\\Miniconda3\\lib\\site-packages\\sklearn\\metrics\\scorer.py:127: DeprecationWarning: Scoring method log_loss was renamed to neg_log_loss in version 0.18 and will be removed in 0.20.\n",
      "  sample_weight=sample_weight)\n"
     ]
    },
    {
     "name": "stdout",
     "output_type": "stream",
     "text": [
      "[CV]  max_depth=10, colsample_bytree=0.989094417989, subsample=0.809340283295 -   0.0s\n",
      "[CV] max_depth=10, colsample_bytree=0.989094417989, subsample=0.809340283295 \n",
      "[CV]  max_depth=10, colsample_bytree=0.989094417989, subsample=0.809340283295 -   0.0s\n",
      "[CV] max_depth=10, colsample_bytree=0.989094417989, subsample=0.809340283295 \n"
     ]
    },
    {
     "name": "stderr",
     "output_type": "stream",
     "text": [
      "C:\\Users\\Takashi\\Miniconda3\\lib\\site-packages\\sklearn\\metrics\\scorer.py:127: DeprecationWarning: Scoring method log_loss was renamed to neg_log_loss in version 0.18 and will be removed in 0.20.\n",
      "  sample_weight=sample_weight)\n",
      "C:\\Users\\Takashi\\Miniconda3\\lib\\site-packages\\sklearn\\metrics\\scorer.py:127: DeprecationWarning: Scoring method log_loss was renamed to neg_log_loss in version 0.18 and will be removed in 0.20.\n",
      "  sample_weight=sample_weight)\n"
     ]
    },
    {
     "name": "stdout",
     "output_type": "stream",
     "text": [
      "[CV]  max_depth=10, colsample_bytree=0.989094417989, subsample=0.809340283295 -   0.0s\n",
      "[CV] max_depth=10, colsample_bytree=0.989094417989, subsample=0.809340283295 \n",
      "[CV]  max_depth=10, colsample_bytree=0.989094417989, subsample=0.809340283295 -   0.0s\n",
      "[CV] max_depth=10, colsample_bytree=0.989094417989, subsample=0.809340283295 \n"
     ]
    },
    {
     "name": "stderr",
     "output_type": "stream",
     "text": [
      "C:\\Users\\Takashi\\Miniconda3\\lib\\site-packages\\sklearn\\metrics\\scorer.py:127: DeprecationWarning: Scoring method log_loss was renamed to neg_log_loss in version 0.18 and will be removed in 0.20.\n",
      "  sample_weight=sample_weight)\n",
      "C:\\Users\\Takashi\\Miniconda3\\lib\\site-packages\\sklearn\\metrics\\scorer.py:127: DeprecationWarning: Scoring method log_loss was renamed to neg_log_loss in version 0.18 and will be removed in 0.20.\n",
      "  sample_weight=sample_weight)\n"
     ]
    },
    {
     "name": "stdout",
     "output_type": "stream",
     "text": [
      "[CV]  max_depth=10, colsample_bytree=0.989094417989, subsample=0.809340283295 -   0.0s\n",
      "[CV] max_depth=10, colsample_bytree=0.989094417989, subsample=0.809340283295 \n",
      "[CV]  max_depth=10, colsample_bytree=0.989094417989, subsample=0.809340283295 -   0.0s\n",
      "[CV] max_depth=10, colsample_bytree=0.989094417989, subsample=0.809340283295 \n"
     ]
    },
    {
     "name": "stderr",
     "output_type": "stream",
     "text": [
      "C:\\Users\\Takashi\\Miniconda3\\lib\\site-packages\\sklearn\\metrics\\scorer.py:127: DeprecationWarning: Scoring method log_loss was renamed to neg_log_loss in version 0.18 and will be removed in 0.20.\n",
      "  sample_weight=sample_weight)\n",
      "C:\\Users\\Takashi\\Miniconda3\\lib\\site-packages\\sklearn\\metrics\\scorer.py:127: DeprecationWarning: Scoring method log_loss was renamed to neg_log_loss in version 0.18 and will be removed in 0.20.\n",
      "  sample_weight=sample_weight)\n"
     ]
    },
    {
     "name": "stdout",
     "output_type": "stream",
     "text": [
      "[CV]  max_depth=10, colsample_bytree=0.989094417989, subsample=0.809340283295 -   0.0s\n",
      "[CV] max_depth=10, colsample_bytree=0.989094417989, subsample=0.809340283295 \n",
      "[CV]  max_depth=10, colsample_bytree=0.989094417989, subsample=0.809340283295 -   0.0s\n",
      "[CV] max_depth=10, colsample_bytree=0.989094417989, subsample=0.809340283295 \n"
     ]
    },
    {
     "name": "stderr",
     "output_type": "stream",
     "text": [
      "C:\\Users\\Takashi\\Miniconda3\\lib\\site-packages\\sklearn\\metrics\\scorer.py:127: DeprecationWarning: Scoring method log_loss was renamed to neg_log_loss in version 0.18 and will be removed in 0.20.\n",
      "  sample_weight=sample_weight)\n",
      "C:\\Users\\Takashi\\Miniconda3\\lib\\site-packages\\sklearn\\metrics\\scorer.py:127: DeprecationWarning: Scoring method log_loss was renamed to neg_log_loss in version 0.18 and will be removed in 0.20.\n",
      "  sample_weight=sample_weight)\n"
     ]
    },
    {
     "name": "stdout",
     "output_type": "stream",
     "text": [
      "[CV]  max_depth=10, colsample_bytree=0.989094417989, subsample=0.809340283295 -   0.0s\n",
      "[CV] max_depth=10, colsample_bytree=0.989094417989, subsample=0.809340283295 \n",
      "[CV]  max_depth=10, colsample_bytree=0.989094417989, subsample=0.809340283295 -   0.0s\n",
      "[CV] max_depth=8, colsample_bytree=0.899943275924, subsample=0.659720190293 \n"
     ]
    },
    {
     "name": "stderr",
     "output_type": "stream",
     "text": [
      "C:\\Users\\Takashi\\Miniconda3\\lib\\site-packages\\sklearn\\metrics\\scorer.py:127: DeprecationWarning: Scoring method log_loss was renamed to neg_log_loss in version 0.18 and will be removed in 0.20.\n",
      "  sample_weight=sample_weight)\n",
      "C:\\Users\\Takashi\\Miniconda3\\lib\\site-packages\\sklearn\\metrics\\scorer.py:127: DeprecationWarning: Scoring method log_loss was renamed to neg_log_loss in version 0.18 and will be removed in 0.20.\n",
      "  sample_weight=sample_weight)\n"
     ]
    },
    {
     "name": "stdout",
     "output_type": "stream",
     "text": [
      "[CV]  max_depth=8, colsample_bytree=0.899943275924, subsample=0.659720190293 -   0.0s\n",
      "[CV] max_depth=8, colsample_bytree=0.899943275924, subsample=0.659720190293 \n",
      "[CV]  max_depth=8, colsample_bytree=0.899943275924, subsample=0.659720190293 -   0.0s\n",
      "[CV] max_depth=8, colsample_bytree=0.899943275924, subsample=0.659720190293 \n",
      "[CV]  max_depth=8, colsample_bytree=0.899943275924, subsample=0.659720190293 -   0.0s\n",
      "[CV] max_depth=8, colsample_bytree=0.899943275924, subsample=0.659720190293 \n"
     ]
    },
    {
     "name": "stderr",
     "output_type": "stream",
     "text": [
      "C:\\Users\\Takashi\\Miniconda3\\lib\\site-packages\\sklearn\\metrics\\scorer.py:127: DeprecationWarning: Scoring method log_loss was renamed to neg_log_loss in version 0.18 and will be removed in 0.20.\n",
      "  sample_weight=sample_weight)\n",
      "C:\\Users\\Takashi\\Miniconda3\\lib\\site-packages\\sklearn\\metrics\\scorer.py:127: DeprecationWarning: Scoring method log_loss was renamed to neg_log_loss in version 0.18 and will be removed in 0.20.\n",
      "  sample_weight=sample_weight)\n",
      "C:\\Users\\Takashi\\Miniconda3\\lib\\site-packages\\sklearn\\metrics\\scorer.py:127: DeprecationWarning: Scoring method log_loss was renamed to neg_log_loss in version 0.18 and will be removed in 0.20.\n",
      "  sample_weight=sample_weight)\n"
     ]
    },
    {
     "name": "stdout",
     "output_type": "stream",
     "text": [
      "[CV]  max_depth=8, colsample_bytree=0.899943275924, subsample=0.659720190293 -   0.0s\n",
      "[CV] max_depth=8, colsample_bytree=0.899943275924, subsample=0.659720190293 \n",
      "[CV]  max_depth=8, colsample_bytree=0.899943275924, subsample=0.659720190293 -   0.0s\n",
      "[CV] max_depth=8, colsample_bytree=0.899943275924, subsample=0.659720190293 \n",
      "[CV]  max_depth=8, colsample_bytree=0.899943275924, subsample=0.659720190293 -   0.0s\n",
      "[CV] max_depth=8, colsample_bytree=0.899943275924, subsample=0.659720190293 \n"
     ]
    },
    {
     "name": "stderr",
     "output_type": "stream",
     "text": [
      "C:\\Users\\Takashi\\Miniconda3\\lib\\site-packages\\sklearn\\metrics\\scorer.py:127: DeprecationWarning: Scoring method log_loss was renamed to neg_log_loss in version 0.18 and will be removed in 0.20.\n",
      "  sample_weight=sample_weight)\n",
      "C:\\Users\\Takashi\\Miniconda3\\lib\\site-packages\\sklearn\\metrics\\scorer.py:127: DeprecationWarning: Scoring method log_loss was renamed to neg_log_loss in version 0.18 and will be removed in 0.20.\n",
      "  sample_weight=sample_weight)\n",
      "C:\\Users\\Takashi\\Miniconda3\\lib\\site-packages\\sklearn\\metrics\\scorer.py:127: DeprecationWarning: Scoring method log_loss was renamed to neg_log_loss in version 0.18 and will be removed in 0.20.\n",
      "  sample_weight=sample_weight)\n"
     ]
    },
    {
     "name": "stdout",
     "output_type": "stream",
     "text": [
      "[CV]  max_depth=8, colsample_bytree=0.899943275924, subsample=0.659720190293 -   0.0s\n",
      "[CV] max_depth=8, colsample_bytree=0.899943275924, subsample=0.659720190293 \n",
      "[CV]  max_depth=8, colsample_bytree=0.899943275924, subsample=0.659720190293 -   0.0s\n",
      "[CV] max_depth=8, colsample_bytree=0.899943275924, subsample=0.659720190293 \n"
     ]
    },
    {
     "name": "stderr",
     "output_type": "stream",
     "text": [
      "C:\\Users\\Takashi\\Miniconda3\\lib\\site-packages\\sklearn\\metrics\\scorer.py:127: DeprecationWarning: Scoring method log_loss was renamed to neg_log_loss in version 0.18 and will be removed in 0.20.\n",
      "  sample_weight=sample_weight)\n",
      "C:\\Users\\Takashi\\Miniconda3\\lib\\site-packages\\sklearn\\metrics\\scorer.py:127: DeprecationWarning: Scoring method log_loss was renamed to neg_log_loss in version 0.18 and will be removed in 0.20.\n",
      "  sample_weight=sample_weight)\n"
     ]
    },
    {
     "name": "stdout",
     "output_type": "stream",
     "text": [
      "[CV]  max_depth=8, colsample_bytree=0.899943275924, subsample=0.659720190293 -   0.0s\n",
      "[CV] max_depth=8, colsample_bytree=0.899943275924, subsample=0.659720190293 \n",
      "[CV]  max_depth=8, colsample_bytree=0.899943275924, subsample=0.659720190293 -   0.0s\n",
      "[CV] max_depth=6, colsample_bytree=0.791224738418, subsample=0.779708517296 \n",
      "[CV]  max_depth=6, colsample_bytree=0.791224738418, subsample=0.779708517296 -   0.0s\n",
      "[CV] max_depth=6, colsample_bytree=0.791224738418, subsample=0.779708517296 \n"
     ]
    },
    {
     "name": "stderr",
     "output_type": "stream",
     "text": [
      "C:\\Users\\Takashi\\Miniconda3\\lib\\site-packages\\sklearn\\metrics\\scorer.py:127: DeprecationWarning: Scoring method log_loss was renamed to neg_log_loss in version 0.18 and will be removed in 0.20.\n",
      "  sample_weight=sample_weight)\n",
      "C:\\Users\\Takashi\\Miniconda3\\lib\\site-packages\\sklearn\\metrics\\scorer.py:127: DeprecationWarning: Scoring method log_loss was renamed to neg_log_loss in version 0.18 and will be removed in 0.20.\n",
      "  sample_weight=sample_weight)\n",
      "C:\\Users\\Takashi\\Miniconda3\\lib\\site-packages\\sklearn\\metrics\\scorer.py:127: DeprecationWarning: Scoring method log_loss was renamed to neg_log_loss in version 0.18 and will be removed in 0.20.\n",
      "  sample_weight=sample_weight)\n"
     ]
    },
    {
     "name": "stdout",
     "output_type": "stream",
     "text": [
      "[CV]  max_depth=6, colsample_bytree=0.791224738418, subsample=0.779708517296 -   0.0s\n",
      "[CV] max_depth=6, colsample_bytree=0.791224738418, subsample=0.779708517296 \n",
      "[CV]  max_depth=6, colsample_bytree=0.791224738418, subsample=0.779708517296 -   0.0s\n",
      "[CV] max_depth=6, colsample_bytree=0.791224738418, subsample=0.779708517296 \n",
      "[CV]  max_depth=6, colsample_bytree=0.791224738418, subsample=0.779708517296 -   0.0s\n",
      "[CV] max_depth=6, colsample_bytree=0.791224738418, subsample=0.779708517296 \n"
     ]
    },
    {
     "name": "stderr",
     "output_type": "stream",
     "text": [
      "C:\\Users\\Takashi\\Miniconda3\\lib\\site-packages\\sklearn\\metrics\\scorer.py:127: DeprecationWarning: Scoring method log_loss was renamed to neg_log_loss in version 0.18 and will be removed in 0.20.\n",
      "  sample_weight=sample_weight)\n",
      "C:\\Users\\Takashi\\Miniconda3\\lib\\site-packages\\sklearn\\metrics\\scorer.py:127: DeprecationWarning: Scoring method log_loss was renamed to neg_log_loss in version 0.18 and will be removed in 0.20.\n",
      "  sample_weight=sample_weight)\n",
      "C:\\Users\\Takashi\\Miniconda3\\lib\\site-packages\\sklearn\\metrics\\scorer.py:127: DeprecationWarning: Scoring method log_loss was renamed to neg_log_loss in version 0.18 and will be removed in 0.20.\n",
      "  sample_weight=sample_weight)\n"
     ]
    },
    {
     "name": "stdout",
     "output_type": "stream",
     "text": [
      "[CV]  max_depth=6, colsample_bytree=0.791224738418, subsample=0.779708517296 -   0.0s\n",
      "[CV] max_depth=6, colsample_bytree=0.791224738418, subsample=0.779708517296 \n",
      "[CV]  max_depth=6, colsample_bytree=0.791224738418, subsample=0.779708517296 -   0.0s\n",
      "[CV] max_depth=6, colsample_bytree=0.791224738418, subsample=0.779708517296 \n",
      "[CV]  max_depth=6, colsample_bytree=0.791224738418, subsample=0.779708517296 -   0.0s\n",
      "[CV] max_depth=6, colsample_bytree=0.791224738418, subsample=0.779708517296 \n"
     ]
    },
    {
     "name": "stderr",
     "output_type": "stream",
     "text": [
      "C:\\Users\\Takashi\\Miniconda3\\lib\\site-packages\\sklearn\\metrics\\scorer.py:127: DeprecationWarning: Scoring method log_loss was renamed to neg_log_loss in version 0.18 and will be removed in 0.20.\n",
      "  sample_weight=sample_weight)\n",
      "C:\\Users\\Takashi\\Miniconda3\\lib\\site-packages\\sklearn\\metrics\\scorer.py:127: DeprecationWarning: Scoring method log_loss was renamed to neg_log_loss in version 0.18 and will be removed in 0.20.\n",
      "  sample_weight=sample_weight)\n",
      "C:\\Users\\Takashi\\Miniconda3\\lib\\site-packages\\sklearn\\metrics\\scorer.py:127: DeprecationWarning: Scoring method log_loss was renamed to neg_log_loss in version 0.18 and will be removed in 0.20.\n",
      "  sample_weight=sample_weight)\n"
     ]
    },
    {
     "name": "stdout",
     "output_type": "stream",
     "text": [
      "[CV]  max_depth=6, colsample_bytree=0.791224738418, subsample=0.779708517296 -   0.0s\n",
      "[CV] max_depth=6, colsample_bytree=0.791224738418, subsample=0.779708517296 \n",
      "[CV]  max_depth=6, colsample_bytree=0.791224738418, subsample=0.779708517296 -   0.0s\n",
      "[CV] max_depth=6, colsample_bytree=0.791224738418, subsample=0.779708517296 \n",
      "[CV]  max_depth=6, colsample_bytree=0.791224738418, subsample=0.779708517296 -   0.0s\n",
      "[CV] max_depth=1, colsample_bytree=0.942829942014, subsample=0.653323373274 \n",
      "[CV]  max_depth=1, colsample_bytree=0.942829942014, subsample=0.653323373274 -   0.0s\n",
      "[CV] max_depth=1, colsample_bytree=0.942829942014, subsample=0.653323373274 \n"
     ]
    },
    {
     "name": "stderr",
     "output_type": "stream",
     "text": [
      "C:\\Users\\Takashi\\Miniconda3\\lib\\site-packages\\sklearn\\metrics\\scorer.py:127: DeprecationWarning: Scoring method log_loss was renamed to neg_log_loss in version 0.18 and will be removed in 0.20.\n",
      "  sample_weight=sample_weight)\n",
      "C:\\Users\\Takashi\\Miniconda3\\lib\\site-packages\\sklearn\\metrics\\scorer.py:127: DeprecationWarning: Scoring method log_loss was renamed to neg_log_loss in version 0.18 and will be removed in 0.20.\n",
      "  sample_weight=sample_weight)\n",
      "C:\\Users\\Takashi\\Miniconda3\\lib\\site-packages\\sklearn\\metrics\\scorer.py:127: DeprecationWarning: Scoring method log_loss was renamed to neg_log_loss in version 0.18 and will be removed in 0.20.\n",
      "  sample_weight=sample_weight)\n",
      "C:\\Users\\Takashi\\Miniconda3\\lib\\site-packages\\sklearn\\metrics\\scorer.py:127: DeprecationWarning: Scoring method log_loss was renamed to neg_log_loss in version 0.18 and will be removed in 0.20.\n",
      "  sample_weight=sample_weight)\n",
      "C:\\Users\\Takashi\\Miniconda3\\lib\\site-packages\\sklearn\\metrics\\scorer.py:127: DeprecationWarning: Scoring method log_loss was renamed to neg_log_loss in version 0.18 and will be removed in 0.20.\n",
      "  sample_weight=sample_weight)\n",
      "C:\\Users\\Takashi\\Miniconda3\\lib\\site-packages\\sklearn\\metrics\\scorer.py:127: DeprecationWarning: Scoring method log_loss was renamed to neg_log_loss in version 0.18 and will be removed in 0.20.\n",
      "  sample_weight=sample_weight)\n"
     ]
    },
    {
     "name": "stdout",
     "output_type": "stream",
     "text": [
      "[CV]  max_depth=1, colsample_bytree=0.942829942014, subsample=0.653323373274 -   0.0s\n",
      "[CV] max_depth=1, colsample_bytree=0.942829942014, subsample=0.653323373274 \n",
      "[CV]  max_depth=1, colsample_bytree=0.942829942014, subsample=0.653323373274 -   0.0s\n",
      "[CV] max_depth=1, colsample_bytree=0.942829942014, subsample=0.653323373274 \n",
      "[CV]  max_depth=1, colsample_bytree=0.942829942014, subsample=0.653323373274 -   0.0s\n",
      "[CV] max_depth=1, colsample_bytree=0.942829942014, subsample=0.653323373274 \n",
      "[CV]  max_depth=1, colsample_bytree=0.942829942014, subsample=0.653323373274 -   0.0s\n",
      "[CV] max_depth=1, colsample_bytree=0.942829942014, subsample=0.653323373274 \n",
      "[CV]  max_depth=1, colsample_bytree=0.942829942014, subsample=0.653323373274 -   0.0s\n",
      "[CV] max_depth=1, colsample_bytree=0.942829942014, subsample=0.653323373274 \n",
      "[CV]  max_depth=1, colsample_bytree=0.942829942014, subsample=0.653323373274 -   0.0s\n",
      "[CV] max_depth=1, colsample_bytree=0.942829942014, subsample=0.653323373274 \n",
      "[CV]  max_depth=1, colsample_bytree=0.942829942014, subsample=0.653323373274 -   0.0s\n",
      "[CV] max_depth=1, colsample_bytree=0.942829942014, subsample=0.653323373274 \n",
      "[CV]  max_depth=1, colsample_bytree=0.942829942014, subsample=0.653323373274 -   0.0s\n",
      "[CV] max_depth=1, colsample_bytree=0.942829942014, subsample=0.653323373274 \n"
     ]
    },
    {
     "name": "stderr",
     "output_type": "stream",
     "text": [
      "C:\\Users\\Takashi\\Miniconda3\\lib\\site-packages\\sklearn\\metrics\\scorer.py:127: DeprecationWarning: Scoring method log_loss was renamed to neg_log_loss in version 0.18 and will be removed in 0.20.\n",
      "  sample_weight=sample_weight)\n",
      "C:\\Users\\Takashi\\Miniconda3\\lib\\site-packages\\sklearn\\metrics\\scorer.py:127: DeprecationWarning: Scoring method log_loss was renamed to neg_log_loss in version 0.18 and will be removed in 0.20.\n",
      "  sample_weight=sample_weight)\n",
      "C:\\Users\\Takashi\\Miniconda3\\lib\\site-packages\\sklearn\\metrics\\scorer.py:127: DeprecationWarning: Scoring method log_loss was renamed to neg_log_loss in version 0.18 and will be removed in 0.20.\n",
      "  sample_weight=sample_weight)\n",
      "C:\\Users\\Takashi\\Miniconda3\\lib\\site-packages\\sklearn\\metrics\\scorer.py:127: DeprecationWarning: Scoring method log_loss was renamed to neg_log_loss in version 0.18 and will be removed in 0.20.\n",
      "  sample_weight=sample_weight)\n",
      "C:\\Users\\Takashi\\Miniconda3\\lib\\site-packages\\sklearn\\metrics\\scorer.py:127: DeprecationWarning: Scoring method log_loss was renamed to neg_log_loss in version 0.18 and will be removed in 0.20.\n",
      "  sample_weight=sample_weight)\n",
      "C:\\Users\\Takashi\\Miniconda3\\lib\\site-packages\\sklearn\\metrics\\scorer.py:127: DeprecationWarning: Scoring method log_loss was renamed to neg_log_loss in version 0.18 and will be removed in 0.20.\n",
      "  sample_weight=sample_weight)\n",
      "C:\\Users\\Takashi\\Miniconda3\\lib\\site-packages\\sklearn\\metrics\\scorer.py:127: DeprecationWarning: Scoring method log_loss was renamed to neg_log_loss in version 0.18 and will be removed in 0.20.\n",
      "  sample_weight=sample_weight)\n"
     ]
    },
    {
     "name": "stdout",
     "output_type": "stream",
     "text": [
      "[CV]  max_depth=1, colsample_bytree=0.942829942014, subsample=0.653323373274 -   0.0s\n",
      "[CV] max_depth=2, colsample_bytree=0.506175136747, subsample=0.80779148233 \n",
      "[CV]  max_depth=2, colsample_bytree=0.506175136747, subsample=0.80779148233 -   0.0s\n",
      "[CV] max_depth=2, colsample_bytree=0.506175136747, subsample=0.80779148233 \n",
      "[CV]  max_depth=2, colsample_bytree=0.506175136747, subsample=0.80779148233 -   0.0s\n",
      "[CV] max_depth=2, colsample_bytree=0.506175136747, subsample=0.80779148233 \n",
      "[CV]  max_depth=2, colsample_bytree=0.506175136747, subsample=0.80779148233 -   0.0s\n",
      "[CV] max_depth=2, colsample_bytree=0.506175136747, subsample=0.80779148233 \n",
      "[CV]  max_depth=2, colsample_bytree=0.506175136747, subsample=0.80779148233 -   0.0s\n",
      "[CV] max_depth=2, colsample_bytree=0.506175136747, subsample=0.80779148233 \n",
      "[CV]  max_depth=2, colsample_bytree=0.506175136747, subsample=0.80779148233 -   0.0s\n",
      "[CV] max_depth=2, colsample_bytree=0.506175136747, subsample=0.80779148233 \n"
     ]
    },
    {
     "name": "stderr",
     "output_type": "stream",
     "text": [
      "C:\\Users\\Takashi\\Miniconda3\\lib\\site-packages\\sklearn\\metrics\\scorer.py:127: DeprecationWarning: Scoring method log_loss was renamed to neg_log_loss in version 0.18 and will be removed in 0.20.\n",
      "  sample_weight=sample_weight)\n",
      "C:\\Users\\Takashi\\Miniconda3\\lib\\site-packages\\sklearn\\metrics\\scorer.py:127: DeprecationWarning: Scoring method log_loss was renamed to neg_log_loss in version 0.18 and will be removed in 0.20.\n",
      "  sample_weight=sample_weight)\n",
      "C:\\Users\\Takashi\\Miniconda3\\lib\\site-packages\\sklearn\\metrics\\scorer.py:127: DeprecationWarning: Scoring method log_loss was renamed to neg_log_loss in version 0.18 and will be removed in 0.20.\n",
      "  sample_weight=sample_weight)\n",
      "C:\\Users\\Takashi\\Miniconda3\\lib\\site-packages\\sklearn\\metrics\\scorer.py:127: DeprecationWarning: Scoring method log_loss was renamed to neg_log_loss in version 0.18 and will be removed in 0.20.\n",
      "  sample_weight=sample_weight)\n",
      "C:\\Users\\Takashi\\Miniconda3\\lib\\site-packages\\sklearn\\metrics\\scorer.py:127: DeprecationWarning: Scoring method log_loss was renamed to neg_log_loss in version 0.18 and will be removed in 0.20.\n",
      "  sample_weight=sample_weight)\n",
      "C:\\Users\\Takashi\\Miniconda3\\lib\\site-packages\\sklearn\\metrics\\scorer.py:127: DeprecationWarning: Scoring method log_loss was renamed to neg_log_loss in version 0.18 and will be removed in 0.20.\n",
      "  sample_weight=sample_weight)\n"
     ]
    },
    {
     "name": "stdout",
     "output_type": "stream",
     "text": [
      "[CV]  max_depth=2, colsample_bytree=0.506175136747, subsample=0.80779148233 -   0.0s\n",
      "[CV] max_depth=2, colsample_bytree=0.506175136747, subsample=0.80779148233 \n",
      "[CV]  max_depth=2, colsample_bytree=0.506175136747, subsample=0.80779148233 -   0.0s\n",
      "[CV] max_depth=2, colsample_bytree=0.506175136747, subsample=0.80779148233 \n",
      "[CV]  max_depth=2, colsample_bytree=0.506175136747, subsample=0.80779148233 -   0.0s\n",
      "[CV] max_depth=2, colsample_bytree=0.506175136747, subsample=0.80779148233 \n",
      "[CV]  max_depth=2, colsample_bytree=0.506175136747, subsample=0.80779148233 -   0.0s\n",
      "[CV] max_depth=2, colsample_bytree=0.506175136747, subsample=0.80779148233 \n",
      "[CV]  max_depth=2, colsample_bytree=0.506175136747, subsample=0.80779148233 -   0.0s\n",
      "[CV] max_depth=7, colsample_bytree=0.846991779925, subsample=0.914778503537 \n"
     ]
    },
    {
     "name": "stderr",
     "output_type": "stream",
     "text": [
      "C:\\Users\\Takashi\\Miniconda3\\lib\\site-packages\\sklearn\\metrics\\scorer.py:127: DeprecationWarning: Scoring method log_loss was renamed to neg_log_loss in version 0.18 and will be removed in 0.20.\n",
      "  sample_weight=sample_weight)\n",
      "C:\\Users\\Takashi\\Miniconda3\\lib\\site-packages\\sklearn\\metrics\\scorer.py:127: DeprecationWarning: Scoring method log_loss was renamed to neg_log_loss in version 0.18 and will be removed in 0.20.\n",
      "  sample_weight=sample_weight)\n",
      "C:\\Users\\Takashi\\Miniconda3\\lib\\site-packages\\sklearn\\metrics\\scorer.py:127: DeprecationWarning: Scoring method log_loss was renamed to neg_log_loss in version 0.18 and will be removed in 0.20.\n",
      "  sample_weight=sample_weight)\n",
      "C:\\Users\\Takashi\\Miniconda3\\lib\\site-packages\\sklearn\\metrics\\scorer.py:127: DeprecationWarning: Scoring method log_loss was renamed to neg_log_loss in version 0.18 and will be removed in 0.20.\n",
      "  sample_weight=sample_weight)\n"
     ]
    },
    {
     "name": "stdout",
     "output_type": "stream",
     "text": [
      "[CV]  max_depth=7, colsample_bytree=0.846991779925, subsample=0.914778503537 -   0.0s\n",
      "[CV] max_depth=7, colsample_bytree=0.846991779925, subsample=0.914778503537 \n",
      "[CV]  max_depth=7, colsample_bytree=0.846991779925, subsample=0.914778503537 -   0.0s\n",
      "[CV] max_depth=7, colsample_bytree=0.846991779925, subsample=0.914778503537 \n",
      "[CV]  max_depth=7, colsample_bytree=0.846991779925, subsample=0.914778503537 -   0.0s\n",
      "[CV] max_depth=7, colsample_bytree=0.846991779925, subsample=0.914778503537 \n"
     ]
    },
    {
     "name": "stderr",
     "output_type": "stream",
     "text": [
      "C:\\Users\\Takashi\\Miniconda3\\lib\\site-packages\\sklearn\\metrics\\scorer.py:127: DeprecationWarning: Scoring method log_loss was renamed to neg_log_loss in version 0.18 and will be removed in 0.20.\n",
      "  sample_weight=sample_weight)\n",
      "C:\\Users\\Takashi\\Miniconda3\\lib\\site-packages\\sklearn\\metrics\\scorer.py:127: DeprecationWarning: Scoring method log_loss was renamed to neg_log_loss in version 0.18 and will be removed in 0.20.\n",
      "  sample_weight=sample_weight)\n",
      "C:\\Users\\Takashi\\Miniconda3\\lib\\site-packages\\sklearn\\metrics\\scorer.py:127: DeprecationWarning: Scoring method log_loss was renamed to neg_log_loss in version 0.18 and will be removed in 0.20.\n",
      "  sample_weight=sample_weight)\n"
     ]
    },
    {
     "name": "stdout",
     "output_type": "stream",
     "text": [
      "[CV]  max_depth=7, colsample_bytree=0.846991779925, subsample=0.914778503537 -   0.0s\n",
      "[CV] max_depth=7, colsample_bytree=0.846991779925, subsample=0.914778503537 \n",
      "[CV]  max_depth=7, colsample_bytree=0.846991779925, subsample=0.914778503537 -   0.0s\n",
      "[CV] max_depth=7, colsample_bytree=0.846991779925, subsample=0.914778503537 \n",
      "[CV]  max_depth=7, colsample_bytree=0.846991779925, subsample=0.914778503537 -   0.0s\n",
      "[CV] max_depth=7, colsample_bytree=0.846991779925, subsample=0.914778503537 \n"
     ]
    },
    {
     "name": "stderr",
     "output_type": "stream",
     "text": [
      "C:\\Users\\Takashi\\Miniconda3\\lib\\site-packages\\sklearn\\metrics\\scorer.py:127: DeprecationWarning: Scoring method log_loss was renamed to neg_log_loss in version 0.18 and will be removed in 0.20.\n",
      "  sample_weight=sample_weight)\n",
      "C:\\Users\\Takashi\\Miniconda3\\lib\\site-packages\\sklearn\\metrics\\scorer.py:127: DeprecationWarning: Scoring method log_loss was renamed to neg_log_loss in version 0.18 and will be removed in 0.20.\n",
      "  sample_weight=sample_weight)\n",
      "C:\\Users\\Takashi\\Miniconda3\\lib\\site-packages\\sklearn\\metrics\\scorer.py:127: DeprecationWarning: Scoring method log_loss was renamed to neg_log_loss in version 0.18 and will be removed in 0.20.\n",
      "  sample_weight=sample_weight)\n"
     ]
    },
    {
     "name": "stdout",
     "output_type": "stream",
     "text": [
      "[CV]  max_depth=7, colsample_bytree=0.846991779925, subsample=0.914778503537 -   0.0s\n",
      "[CV] max_depth=7, colsample_bytree=0.846991779925, subsample=0.914778503537 \n",
      "[CV]  max_depth=7, colsample_bytree=0.846991779925, subsample=0.914778503537 -   0.0s\n",
      "[CV] max_depth=7, colsample_bytree=0.846991779925, subsample=0.914778503537 \n",
      "[CV]  max_depth=7, colsample_bytree=0.846991779925, subsample=0.914778503537 -   0.0s\n",
      "[CV] max_depth=7, colsample_bytree=0.846991779925, subsample=0.914778503537 \n"
     ]
    },
    {
     "name": "stderr",
     "output_type": "stream",
     "text": [
      "C:\\Users\\Takashi\\Miniconda3\\lib\\site-packages\\sklearn\\metrics\\scorer.py:127: DeprecationWarning: Scoring method log_loss was renamed to neg_log_loss in version 0.18 and will be removed in 0.20.\n",
      "  sample_weight=sample_weight)\n",
      "C:\\Users\\Takashi\\Miniconda3\\lib\\site-packages\\sklearn\\metrics\\scorer.py:127: DeprecationWarning: Scoring method log_loss was renamed to neg_log_loss in version 0.18 and will be removed in 0.20.\n",
      "  sample_weight=sample_weight)\n",
      "C:\\Users\\Takashi\\Miniconda3\\lib\\site-packages\\sklearn\\metrics\\scorer.py:127: DeprecationWarning: Scoring method log_loss was renamed to neg_log_loss in version 0.18 and will be removed in 0.20.\n",
      "  sample_weight=sample_weight)\n"
     ]
    },
    {
     "name": "stdout",
     "output_type": "stream",
     "text": [
      "[CV]  max_depth=7, colsample_bytree=0.846991779925, subsample=0.914778503537 -   0.0s\n",
      "[CV] max_depth=10, colsample_bytree=0.999910931353, subsample=0.647061376523 \n",
      "[CV]  max_depth=10, colsample_bytree=0.999910931353, subsample=0.647061376523 -   0.0s\n",
      "[CV] max_depth=10, colsample_bytree=0.999910931353, subsample=0.647061376523 \n"
     ]
    },
    {
     "name": "stderr",
     "output_type": "stream",
     "text": [
      "C:\\Users\\Takashi\\Miniconda3\\lib\\site-packages\\sklearn\\metrics\\scorer.py:127: DeprecationWarning: Scoring method log_loss was renamed to neg_log_loss in version 0.18 and will be removed in 0.20.\n",
      "  sample_weight=sample_weight)\n",
      "C:\\Users\\Takashi\\Miniconda3\\lib\\site-packages\\sklearn\\metrics\\scorer.py:127: DeprecationWarning: Scoring method log_loss was renamed to neg_log_loss in version 0.18 and will be removed in 0.20.\n",
      "  sample_weight=sample_weight)\n"
     ]
    },
    {
     "name": "stdout",
     "output_type": "stream",
     "text": [
      "[CV]  max_depth=10, colsample_bytree=0.999910931353, subsample=0.647061376523 -   0.0s\n",
      "[CV] max_depth=10, colsample_bytree=0.999910931353, subsample=0.647061376523 \n",
      "[CV]  max_depth=10, colsample_bytree=0.999910931353, subsample=0.647061376523 -   0.0s\n",
      "[CV] max_depth=10, colsample_bytree=0.999910931353, subsample=0.647061376523 \n"
     ]
    },
    {
     "name": "stderr",
     "output_type": "stream",
     "text": [
      "C:\\Users\\Takashi\\Miniconda3\\lib\\site-packages\\sklearn\\metrics\\scorer.py:127: DeprecationWarning: Scoring method log_loss was renamed to neg_log_loss in version 0.18 and will be removed in 0.20.\n",
      "  sample_weight=sample_weight)\n",
      "C:\\Users\\Takashi\\Miniconda3\\lib\\site-packages\\sklearn\\metrics\\scorer.py:127: DeprecationWarning: Scoring method log_loss was renamed to neg_log_loss in version 0.18 and will be removed in 0.20.\n",
      "  sample_weight=sample_weight)\n"
     ]
    },
    {
     "name": "stdout",
     "output_type": "stream",
     "text": [
      "[CV]  max_depth=10, colsample_bytree=0.999910931353, subsample=0.647061376523 -   0.0s\n",
      "[CV] max_depth=10, colsample_bytree=0.999910931353, subsample=0.647061376523 \n",
      "[CV]  max_depth=10, colsample_bytree=0.999910931353, subsample=0.647061376523 -   0.0s\n",
      "[CV] max_depth=10, colsample_bytree=0.999910931353, subsample=0.647061376523 \n"
     ]
    },
    {
     "name": "stderr",
     "output_type": "stream",
     "text": [
      "C:\\Users\\Takashi\\Miniconda3\\lib\\site-packages\\sklearn\\metrics\\scorer.py:127: DeprecationWarning: Scoring method log_loss was renamed to neg_log_loss in version 0.18 and will be removed in 0.20.\n",
      "  sample_weight=sample_weight)\n",
      "C:\\Users\\Takashi\\Miniconda3\\lib\\site-packages\\sklearn\\metrics\\scorer.py:127: DeprecationWarning: Scoring method log_loss was renamed to neg_log_loss in version 0.18 and will be removed in 0.20.\n",
      "  sample_weight=sample_weight)\n"
     ]
    },
    {
     "name": "stdout",
     "output_type": "stream",
     "text": [
      "[CV]  max_depth=10, colsample_bytree=0.999910931353, subsample=0.647061376523 -   0.0s\n",
      "[CV] max_depth=10, colsample_bytree=0.999910931353, subsample=0.647061376523 \n",
      "[CV]  max_depth=10, colsample_bytree=0.999910931353, subsample=0.647061376523 -   0.0s\n",
      "[CV] max_depth=10, colsample_bytree=0.999910931353, subsample=0.647061376523 \n"
     ]
    },
    {
     "name": "stderr",
     "output_type": "stream",
     "text": [
      "C:\\Users\\Takashi\\Miniconda3\\lib\\site-packages\\sklearn\\metrics\\scorer.py:127: DeprecationWarning: Scoring method log_loss was renamed to neg_log_loss in version 0.18 and will be removed in 0.20.\n",
      "  sample_weight=sample_weight)\n",
      "C:\\Users\\Takashi\\Miniconda3\\lib\\site-packages\\sklearn\\metrics\\scorer.py:127: DeprecationWarning: Scoring method log_loss was renamed to neg_log_loss in version 0.18 and will be removed in 0.20.\n",
      "  sample_weight=sample_weight)\n"
     ]
    },
    {
     "name": "stdout",
     "output_type": "stream",
     "text": [
      "[CV]  max_depth=10, colsample_bytree=0.999910931353, subsample=0.647061376523 -   0.0s\n",
      "[CV] max_depth=10, colsample_bytree=0.999910931353, subsample=0.647061376523 \n",
      "[CV]  max_depth=10, colsample_bytree=0.999910931353, subsample=0.647061376523 -   0.0s\n",
      "[CV] max_depth=10, colsample_bytree=0.999910931353, subsample=0.647061376523 \n"
     ]
    },
    {
     "name": "stderr",
     "output_type": "stream",
     "text": [
      "C:\\Users\\Takashi\\Miniconda3\\lib\\site-packages\\sklearn\\metrics\\scorer.py:127: DeprecationWarning: Scoring method log_loss was renamed to neg_log_loss in version 0.18 and will be removed in 0.20.\n",
      "  sample_weight=sample_weight)\n",
      "C:\\Users\\Takashi\\Miniconda3\\lib\\site-packages\\sklearn\\metrics\\scorer.py:127: DeprecationWarning: Scoring method log_loss was renamed to neg_log_loss in version 0.18 and will be removed in 0.20.\n",
      "  sample_weight=sample_weight)\n"
     ]
    },
    {
     "name": "stdout",
     "output_type": "stream",
     "text": [
      "[CV]  max_depth=10, colsample_bytree=0.999910931353, subsample=0.647061376523 -   0.0s\n",
      "[CV] max_depth=8, colsample_bytree=0.598441488447, subsample=0.670481077222 \n",
      "[CV]  max_depth=8, colsample_bytree=0.598441488447, subsample=0.670481077222 -   0.0s\n",
      "[CV] max_depth=8, colsample_bytree=0.598441488447, subsample=0.670481077222 \n"
     ]
    },
    {
     "name": "stderr",
     "output_type": "stream",
     "text": [
      "C:\\Users\\Takashi\\Miniconda3\\lib\\site-packages\\sklearn\\metrics\\scorer.py:127: DeprecationWarning: Scoring method log_loss was renamed to neg_log_loss in version 0.18 and will be removed in 0.20.\n",
      "  sample_weight=sample_weight)\n",
      "C:\\Users\\Takashi\\Miniconda3\\lib\\site-packages\\sklearn\\metrics\\scorer.py:127: DeprecationWarning: Scoring method log_loss was renamed to neg_log_loss in version 0.18 and will be removed in 0.20.\n",
      "  sample_weight=sample_weight)\n"
     ]
    },
    {
     "name": "stdout",
     "output_type": "stream",
     "text": [
      "[CV]  max_depth=8, colsample_bytree=0.598441488447, subsample=0.670481077222 -   0.0s\n",
      "[CV] max_depth=8, colsample_bytree=0.598441488447, subsample=0.670481077222 \n",
      "[CV]  max_depth=8, colsample_bytree=0.598441488447, subsample=0.670481077222 -   0.0s\n",
      "[CV] max_depth=8, colsample_bytree=0.598441488447, subsample=0.670481077222 \n"
     ]
    },
    {
     "name": "stderr",
     "output_type": "stream",
     "text": [
      "C:\\Users\\Takashi\\Miniconda3\\lib\\site-packages\\sklearn\\metrics\\scorer.py:127: DeprecationWarning: Scoring method log_loss was renamed to neg_log_loss in version 0.18 and will be removed in 0.20.\n",
      "  sample_weight=sample_weight)\n",
      "C:\\Users\\Takashi\\Miniconda3\\lib\\site-packages\\sklearn\\metrics\\scorer.py:127: DeprecationWarning: Scoring method log_loss was renamed to neg_log_loss in version 0.18 and will be removed in 0.20.\n",
      "  sample_weight=sample_weight)\n"
     ]
    },
    {
     "name": "stdout",
     "output_type": "stream",
     "text": [
      "[CV]  max_depth=8, colsample_bytree=0.598441488447, subsample=0.670481077222 -   0.0s\n",
      "[CV] max_depth=8, colsample_bytree=0.598441488447, subsample=0.670481077222 \n",
      "[CV]  max_depth=8, colsample_bytree=0.598441488447, subsample=0.670481077222 -   0.0s\n",
      "[CV] max_depth=8, colsample_bytree=0.598441488447, subsample=0.670481077222 \n",
      "[CV]  max_depth=8, colsample_bytree=0.598441488447, subsample=0.670481077222 -   0.0s\n",
      "[CV] max_depth=8, colsample_bytree=0.598441488447, subsample=0.670481077222 \n"
     ]
    },
    {
     "name": "stderr",
     "output_type": "stream",
     "text": [
      "C:\\Users\\Takashi\\Miniconda3\\lib\\site-packages\\sklearn\\metrics\\scorer.py:127: DeprecationWarning: Scoring method log_loss was renamed to neg_log_loss in version 0.18 and will be removed in 0.20.\n",
      "  sample_weight=sample_weight)\n",
      "C:\\Users\\Takashi\\Miniconda3\\lib\\site-packages\\sklearn\\metrics\\scorer.py:127: DeprecationWarning: Scoring method log_loss was renamed to neg_log_loss in version 0.18 and will be removed in 0.20.\n",
      "  sample_weight=sample_weight)\n",
      "C:\\Users\\Takashi\\Miniconda3\\lib\\site-packages\\sklearn\\metrics\\scorer.py:127: DeprecationWarning: Scoring method log_loss was renamed to neg_log_loss in version 0.18 and will be removed in 0.20.\n",
      "  sample_weight=sample_weight)\n"
     ]
    },
    {
     "name": "stdout",
     "output_type": "stream",
     "text": [
      "[CV]  max_depth=8, colsample_bytree=0.598441488447, subsample=0.670481077222 -   0.0s\n",
      "[CV] max_depth=8, colsample_bytree=0.598441488447, subsample=0.670481077222 \n",
      "[CV]  max_depth=8, colsample_bytree=0.598441488447, subsample=0.670481077222 -   0.0s\n",
      "[CV] max_depth=8, colsample_bytree=0.598441488447, subsample=0.670481077222 \n",
      "[CV]  max_depth=8, colsample_bytree=0.598441488447, subsample=0.670481077222 -   0.0s\n",
      "[CV] max_depth=8, colsample_bytree=0.598441488447, subsample=0.670481077222 \n"
     ]
    },
    {
     "name": "stderr",
     "output_type": "stream",
     "text": [
      "C:\\Users\\Takashi\\Miniconda3\\lib\\site-packages\\sklearn\\metrics\\scorer.py:127: DeprecationWarning: Scoring method log_loss was renamed to neg_log_loss in version 0.18 and will be removed in 0.20.\n",
      "  sample_weight=sample_weight)\n",
      "C:\\Users\\Takashi\\Miniconda3\\lib\\site-packages\\sklearn\\metrics\\scorer.py:127: DeprecationWarning: Scoring method log_loss was renamed to neg_log_loss in version 0.18 and will be removed in 0.20.\n",
      "  sample_weight=sample_weight)\n",
      "C:\\Users\\Takashi\\Miniconda3\\lib\\site-packages\\sklearn\\metrics\\scorer.py:127: DeprecationWarning: Scoring method log_loss was renamed to neg_log_loss in version 0.18 and will be removed in 0.20.\n",
      "  sample_weight=sample_weight)\n"
     ]
    },
    {
     "name": "stdout",
     "output_type": "stream",
     "text": [
      "[CV]  max_depth=8, colsample_bytree=0.598441488447, subsample=0.670481077222 -   0.0s\n",
      "[CV] max_depth=10, colsample_bytree=0.840266781957, subsample=0.599258205569 \n",
      "[CV]  max_depth=10, colsample_bytree=0.840266781957, subsample=0.599258205569 -   0.0s\n",
      "[CV] max_depth=10, colsample_bytree=0.840266781957, subsample=0.599258205569 \n",
      "[CV]  max_depth=10, colsample_bytree=0.840266781957, subsample=0.599258205569 -   0.0s\n",
      "[CV] max_depth=10, colsample_bytree=0.840266781957, subsample=0.599258205569 \n"
     ]
    },
    {
     "name": "stderr",
     "output_type": "stream",
     "text": [
      "C:\\Users\\Takashi\\Miniconda3\\lib\\site-packages\\sklearn\\metrics\\scorer.py:127: DeprecationWarning: Scoring method log_loss was renamed to neg_log_loss in version 0.18 and will be removed in 0.20.\n",
      "  sample_weight=sample_weight)\n",
      "C:\\Users\\Takashi\\Miniconda3\\lib\\site-packages\\sklearn\\metrics\\scorer.py:127: DeprecationWarning: Scoring method log_loss was renamed to neg_log_loss in version 0.18 and will be removed in 0.20.\n",
      "  sample_weight=sample_weight)\n",
      "C:\\Users\\Takashi\\Miniconda3\\lib\\site-packages\\sklearn\\metrics\\scorer.py:127: DeprecationWarning: Scoring method log_loss was renamed to neg_log_loss in version 0.18 and will be removed in 0.20.\n",
      "  sample_weight=sample_weight)\n",
      "C:\\Users\\Takashi\\Miniconda3\\lib\\site-packages\\sklearn\\metrics\\scorer.py:127: DeprecationWarning: Scoring method log_loss was renamed to neg_log_loss in version 0.18 and will be removed in 0.20.\n",
      "  sample_weight=sample_weight)\n"
     ]
    },
    {
     "name": "stdout",
     "output_type": "stream",
     "text": [
      "[CV]  max_depth=10, colsample_bytree=0.840266781957, subsample=0.599258205569 -   0.0s\n",
      "[CV] max_depth=10, colsample_bytree=0.840266781957, subsample=0.599258205569 \n",
      "[CV]  max_depth=10, colsample_bytree=0.840266781957, subsample=0.599258205569 -   0.0s\n",
      "[CV] max_depth=10, colsample_bytree=0.840266781957, subsample=0.599258205569 \n"
     ]
    },
    {
     "name": "stderr",
     "output_type": "stream",
     "text": [
      "C:\\Users\\Takashi\\Miniconda3\\lib\\site-packages\\sklearn\\metrics\\scorer.py:127: DeprecationWarning: Scoring method log_loss was renamed to neg_log_loss in version 0.18 and will be removed in 0.20.\n",
      "  sample_weight=sample_weight)\n",
      "C:\\Users\\Takashi\\Miniconda3\\lib\\site-packages\\sklearn\\metrics\\scorer.py:127: DeprecationWarning: Scoring method log_loss was renamed to neg_log_loss in version 0.18 and will be removed in 0.20.\n",
      "  sample_weight=sample_weight)\n"
     ]
    },
    {
     "name": "stdout",
     "output_type": "stream",
     "text": [
      "[CV]  max_depth=10, colsample_bytree=0.840266781957, subsample=0.599258205569 -   0.0s\n",
      "[CV] max_depth=10, colsample_bytree=0.840266781957, subsample=0.599258205569 \n",
      "[CV]  max_depth=10, colsample_bytree=0.840266781957, subsample=0.599258205569 -   0.0s\n",
      "[CV] max_depth=10, colsample_bytree=0.840266781957, subsample=0.599258205569 \n"
     ]
    },
    {
     "name": "stderr",
     "output_type": "stream",
     "text": [
      "C:\\Users\\Takashi\\Miniconda3\\lib\\site-packages\\sklearn\\metrics\\scorer.py:127: DeprecationWarning: Scoring method log_loss was renamed to neg_log_loss in version 0.18 and will be removed in 0.20.\n",
      "  sample_weight=sample_weight)\n",
      "C:\\Users\\Takashi\\Miniconda3\\lib\\site-packages\\sklearn\\metrics\\scorer.py:127: DeprecationWarning: Scoring method log_loss was renamed to neg_log_loss in version 0.18 and will be removed in 0.20.\n",
      "  sample_weight=sample_weight)\n"
     ]
    },
    {
     "name": "stdout",
     "output_type": "stream",
     "text": [
      "[CV]  max_depth=10, colsample_bytree=0.840266781957, subsample=0.599258205569 -   0.0s\n",
      "[CV] max_depth=10, colsample_bytree=0.840266781957, subsample=0.599258205569 \n",
      "[CV]  max_depth=10, colsample_bytree=0.840266781957, subsample=0.599258205569 -   0.0s\n",
      "[CV] max_depth=10, colsample_bytree=0.840266781957, subsample=0.599258205569 \n"
     ]
    },
    {
     "name": "stderr",
     "output_type": "stream",
     "text": [
      "C:\\Users\\Takashi\\Miniconda3\\lib\\site-packages\\sklearn\\metrics\\scorer.py:127: DeprecationWarning: Scoring method log_loss was renamed to neg_log_loss in version 0.18 and will be removed in 0.20.\n",
      "  sample_weight=sample_weight)\n",
      "C:\\Users\\Takashi\\Miniconda3\\lib\\site-packages\\sklearn\\metrics\\scorer.py:127: DeprecationWarning: Scoring method log_loss was renamed to neg_log_loss in version 0.18 and will be removed in 0.20.\n",
      "  sample_weight=sample_weight)\n",
      "C:\\Users\\Takashi\\Miniconda3\\lib\\site-packages\\sklearn\\metrics\\scorer.py:127: DeprecationWarning: Scoring method log_loss was renamed to neg_log_loss in version 0.18 and will be removed in 0.20.\n",
      "  sample_weight=sample_weight)\n",
      "C:\\Users\\Takashi\\Miniconda3\\lib\\site-packages\\sklearn\\metrics\\scorer.py:127: DeprecationWarning: Scoring method log_loss was renamed to neg_log_loss in version 0.18 and will be removed in 0.20.\n",
      "  sample_weight=sample_weight)\n"
     ]
    },
    {
     "name": "stdout",
     "output_type": "stream",
     "text": [
      "[CV]  max_depth=10, colsample_bytree=0.840266781957, subsample=0.599258205569 -   0.0s\n",
      "[CV] max_depth=10, colsample_bytree=0.840266781957, subsample=0.599258205569 \n",
      "[CV]  max_depth=10, colsample_bytree=0.840266781957, subsample=0.599258205569 -   0.0s\n",
      "[CV] max_depth=3, colsample_bytree=0.689855039573, subsample=0.779357077795 \n",
      "[CV]  max_depth=3, colsample_bytree=0.689855039573, subsample=0.779357077795 -   0.0s\n",
      "[CV] max_depth=3, colsample_bytree=0.689855039573, subsample=0.779357077795 \n",
      "[CV]  max_depth=3, colsample_bytree=0.689855039573, subsample=0.779357077795 -   0.0s\n",
      "[CV] max_depth=3, colsample_bytree=0.689855039573, subsample=0.779357077795 \n"
     ]
    },
    {
     "name": "stderr",
     "output_type": "stream",
     "text": [
      "C:\\Users\\Takashi\\Miniconda3\\lib\\site-packages\\sklearn\\metrics\\scorer.py:127: DeprecationWarning: Scoring method log_loss was renamed to neg_log_loss in version 0.18 and will be removed in 0.20.\n",
      "  sample_weight=sample_weight)\n",
      "C:\\Users\\Takashi\\Miniconda3\\lib\\site-packages\\sklearn\\metrics\\scorer.py:127: DeprecationWarning: Scoring method log_loss was renamed to neg_log_loss in version 0.18 and will be removed in 0.20.\n",
      "  sample_weight=sample_weight)\n",
      "C:\\Users\\Takashi\\Miniconda3\\lib\\site-packages\\sklearn\\metrics\\scorer.py:127: DeprecationWarning: Scoring method log_loss was renamed to neg_log_loss in version 0.18 and will be removed in 0.20.\n",
      "  sample_weight=sample_weight)\n",
      "C:\\Users\\Takashi\\Miniconda3\\lib\\site-packages\\sklearn\\metrics\\scorer.py:127: DeprecationWarning: Scoring method log_loss was renamed to neg_log_loss in version 0.18 and will be removed in 0.20.\n",
      "  sample_weight=sample_weight)\n",
      "C:\\Users\\Takashi\\Miniconda3\\lib\\site-packages\\sklearn\\metrics\\scorer.py:127: DeprecationWarning: Scoring method log_loss was renamed to neg_log_loss in version 0.18 and will be removed in 0.20.\n",
      "  sample_weight=sample_weight)\n"
     ]
    },
    {
     "name": "stdout",
     "output_type": "stream",
     "text": [
      "[CV]  max_depth=3, colsample_bytree=0.689855039573, subsample=0.779357077795 -   0.0s\n",
      "[CV] max_depth=3, colsample_bytree=0.689855039573, subsample=0.779357077795 \n",
      "[CV]  max_depth=3, colsample_bytree=0.689855039573, subsample=0.779357077795 -   0.0s\n",
      "[CV] max_depth=3, colsample_bytree=0.689855039573, subsample=0.779357077795 \n",
      "[CV]  max_depth=3, colsample_bytree=0.689855039573, subsample=0.779357077795 -   0.0s\n",
      "[CV] max_depth=3, colsample_bytree=0.689855039573, subsample=0.779357077795 \n",
      "[CV]  max_depth=3, colsample_bytree=0.689855039573, subsample=0.779357077795 -   0.0s\n",
      "[CV] max_depth=3, colsample_bytree=0.689855039573, subsample=0.779357077795 \n",
      "[CV]  max_depth=3, colsample_bytree=0.689855039573, subsample=0.779357077795 -   0.0s\n",
      "[CV] max_depth=3, colsample_bytree=0.689855039573, subsample=0.779357077795 \n"
     ]
    },
    {
     "name": "stderr",
     "output_type": "stream",
     "text": [
      "C:\\Users\\Takashi\\Miniconda3\\lib\\site-packages\\sklearn\\metrics\\scorer.py:127: DeprecationWarning: Scoring method log_loss was renamed to neg_log_loss in version 0.18 and will be removed in 0.20.\n",
      "  sample_weight=sample_weight)\n",
      "C:\\Users\\Takashi\\Miniconda3\\lib\\site-packages\\sklearn\\metrics\\scorer.py:127: DeprecationWarning: Scoring method log_loss was renamed to neg_log_loss in version 0.18 and will be removed in 0.20.\n",
      "  sample_weight=sample_weight)\n",
      "C:\\Users\\Takashi\\Miniconda3\\lib\\site-packages\\sklearn\\metrics\\scorer.py:127: DeprecationWarning: Scoring method log_loss was renamed to neg_log_loss in version 0.18 and will be removed in 0.20.\n",
      "  sample_weight=sample_weight)\n"
     ]
    },
    {
     "name": "stdout",
     "output_type": "stream",
     "text": [
      "[CV]  max_depth=3, colsample_bytree=0.689855039573, subsample=0.779357077795 -   0.0s\n",
      "[CV] max_depth=3, colsample_bytree=0.689855039573, subsample=0.779357077795 \n",
      "[CV]  max_depth=3, colsample_bytree=0.689855039573, subsample=0.779357077795 -   0.0s\n",
      "[CV] max_depth=3, colsample_bytree=0.689855039573, subsample=0.779357077795 \n",
      "[CV]  max_depth=3, colsample_bytree=0.689855039573, subsample=0.779357077795 -   0.0s\n",
      "[CV] max_depth=10, colsample_bytree=0.789549080492, subsample=0.912479730127 \n"
     ]
    },
    {
     "name": "stderr",
     "output_type": "stream",
     "text": [
      "C:\\Users\\Takashi\\Miniconda3\\lib\\site-packages\\sklearn\\metrics\\scorer.py:127: DeprecationWarning: Scoring method log_loss was renamed to neg_log_loss in version 0.18 and will be removed in 0.20.\n",
      "  sample_weight=sample_weight)\n",
      "C:\\Users\\Takashi\\Miniconda3\\lib\\site-packages\\sklearn\\metrics\\scorer.py:127: DeprecationWarning: Scoring method log_loss was renamed to neg_log_loss in version 0.18 and will be removed in 0.20.\n",
      "  sample_weight=sample_weight)\n"
     ]
    },
    {
     "name": "stdout",
     "output_type": "stream",
     "text": [
      "[CV]  max_depth=10, colsample_bytree=0.789549080492, subsample=0.912479730127 -   0.0s\n",
      "[CV] max_depth=10, colsample_bytree=0.789549080492, subsample=0.912479730127 \n",
      "[CV]  max_depth=10, colsample_bytree=0.789549080492, subsample=0.912479730127 -   0.0s\n",
      "[CV] max_depth=10, colsample_bytree=0.789549080492, subsample=0.912479730127 \n"
     ]
    },
    {
     "name": "stderr",
     "output_type": "stream",
     "text": [
      "C:\\Users\\Takashi\\Miniconda3\\lib\\site-packages\\sklearn\\metrics\\scorer.py:127: DeprecationWarning: Scoring method log_loss was renamed to neg_log_loss in version 0.18 and will be removed in 0.20.\n",
      "  sample_weight=sample_weight)\n",
      "C:\\Users\\Takashi\\Miniconda3\\lib\\site-packages\\sklearn\\metrics\\scorer.py:127: DeprecationWarning: Scoring method log_loss was renamed to neg_log_loss in version 0.18 and will be removed in 0.20.\n",
      "  sample_weight=sample_weight)\n"
     ]
    },
    {
     "name": "stdout",
     "output_type": "stream",
     "text": [
      "[CV]  max_depth=10, colsample_bytree=0.789549080492, subsample=0.912479730127 -   0.1s\n",
      "[CV] max_depth=10, colsample_bytree=0.789549080492, subsample=0.912479730127 \n",
      "[CV]  max_depth=10, colsample_bytree=0.789549080492, subsample=0.912479730127 -   0.0s\n",
      "[CV] max_depth=10, colsample_bytree=0.789549080492, subsample=0.912479730127 \n"
     ]
    },
    {
     "name": "stderr",
     "output_type": "stream",
     "text": [
      "C:\\Users\\Takashi\\Miniconda3\\lib\\site-packages\\sklearn\\metrics\\scorer.py:127: DeprecationWarning: Scoring method log_loss was renamed to neg_log_loss in version 0.18 and will be removed in 0.20.\n",
      "  sample_weight=sample_weight)\n",
      "C:\\Users\\Takashi\\Miniconda3\\lib\\site-packages\\sklearn\\metrics\\scorer.py:127: DeprecationWarning: Scoring method log_loss was renamed to neg_log_loss in version 0.18 and will be removed in 0.20.\n",
      "  sample_weight=sample_weight)\n"
     ]
    },
    {
     "name": "stdout",
     "output_type": "stream",
     "text": [
      "[CV]  max_depth=10, colsample_bytree=0.789549080492, subsample=0.912479730127 -   0.1s\n",
      "[CV] max_depth=10, colsample_bytree=0.789549080492, subsample=0.912479730127 \n",
      "[CV]  max_depth=10, colsample_bytree=0.789549080492, subsample=0.912479730127 -   0.1s\n",
      "[CV] max_depth=10, colsample_bytree=0.789549080492, subsample=0.912479730127 \n"
     ]
    },
    {
     "name": "stderr",
     "output_type": "stream",
     "text": [
      "C:\\Users\\Takashi\\Miniconda3\\lib\\site-packages\\sklearn\\metrics\\scorer.py:127: DeprecationWarning: Scoring method log_loss was renamed to neg_log_loss in version 0.18 and will be removed in 0.20.\n",
      "  sample_weight=sample_weight)\n",
      "C:\\Users\\Takashi\\Miniconda3\\lib\\site-packages\\sklearn\\metrics\\scorer.py:127: DeprecationWarning: Scoring method log_loss was renamed to neg_log_loss in version 0.18 and will be removed in 0.20.\n",
      "  sample_weight=sample_weight)\n"
     ]
    },
    {
     "name": "stdout",
     "output_type": "stream",
     "text": [
      "[CV]  max_depth=10, colsample_bytree=0.789549080492, subsample=0.912479730127 -   0.1s\n",
      "[CV] max_depth=10, colsample_bytree=0.789549080492, subsample=0.912479730127 \n",
      "[CV]  max_depth=10, colsample_bytree=0.789549080492, subsample=0.912479730127 -   0.0s\n",
      "[CV] max_depth=10, colsample_bytree=0.789549080492, subsample=0.912479730127 \n"
     ]
    },
    {
     "name": "stderr",
     "output_type": "stream",
     "text": [
      "C:\\Users\\Takashi\\Miniconda3\\lib\\site-packages\\sklearn\\metrics\\scorer.py:127: DeprecationWarning: Scoring method log_loss was renamed to neg_log_loss in version 0.18 and will be removed in 0.20.\n",
      "  sample_weight=sample_weight)\n",
      "C:\\Users\\Takashi\\Miniconda3\\lib\\site-packages\\sklearn\\metrics\\scorer.py:127: DeprecationWarning: Scoring method log_loss was renamed to neg_log_loss in version 0.18 and will be removed in 0.20.\n",
      "  sample_weight=sample_weight)\n"
     ]
    },
    {
     "name": "stdout",
     "output_type": "stream",
     "text": [
      "[CV]  max_depth=10, colsample_bytree=0.789549080492, subsample=0.912479730127 -   0.1s\n",
      "[CV] max_depth=10, colsample_bytree=0.789549080492, subsample=0.912479730127 \n",
      "[CV]  max_depth=10, colsample_bytree=0.789549080492, subsample=0.912479730127 -   0.1s\n",
      "[CV] max_depth=2, colsample_bytree=0.812388122079, subsample=0.648401296696 \n"
     ]
    },
    {
     "name": "stderr",
     "output_type": "stream",
     "text": [
      "C:\\Users\\Takashi\\Miniconda3\\lib\\site-packages\\sklearn\\metrics\\scorer.py:127: DeprecationWarning: Scoring method log_loss was renamed to neg_log_loss in version 0.18 and will be removed in 0.20.\n",
      "  sample_weight=sample_weight)\n",
      "C:\\Users\\Takashi\\Miniconda3\\lib\\site-packages\\sklearn\\metrics\\scorer.py:127: DeprecationWarning: Scoring method log_loss was renamed to neg_log_loss in version 0.18 and will be removed in 0.20.\n",
      "  sample_weight=sample_weight)\n",
      "C:\\Users\\Takashi\\Miniconda3\\lib\\site-packages\\sklearn\\metrics\\scorer.py:127: DeprecationWarning: Scoring method log_loss was renamed to neg_log_loss in version 0.18 and will be removed in 0.20.\n",
      "  sample_weight=sample_weight)\n"
     ]
    },
    {
     "name": "stdout",
     "output_type": "stream",
     "text": [
      "[CV]  max_depth=2, colsample_bytree=0.812388122079, subsample=0.648401296696 -   0.0s\n",
      "[CV] max_depth=2, colsample_bytree=0.812388122079, subsample=0.648401296696 \n",
      "[CV]  max_depth=2, colsample_bytree=0.812388122079, subsample=0.648401296696 -   0.0s\n",
      "[CV] max_depth=2, colsample_bytree=0.812388122079, subsample=0.648401296696 \n",
      "[CV]  max_depth=2, colsample_bytree=0.812388122079, subsample=0.648401296696 -   0.0s\n",
      "[CV] max_depth=2, colsample_bytree=0.812388122079, subsample=0.648401296696 \n"
     ]
    },
    {
     "name": "stderr",
     "output_type": "stream",
     "text": [
      "C:\\Users\\Takashi\\Miniconda3\\lib\\site-packages\\sklearn\\metrics\\scorer.py:127: DeprecationWarning: Scoring method log_loss was renamed to neg_log_loss in version 0.18 and will be removed in 0.20.\n",
      "  sample_weight=sample_weight)\n",
      "C:\\Users\\Takashi\\Miniconda3\\lib\\site-packages\\sklearn\\metrics\\scorer.py:127: DeprecationWarning: Scoring method log_loss was renamed to neg_log_loss in version 0.18 and will be removed in 0.20.\n",
      "  sample_weight=sample_weight)\n",
      "C:\\Users\\Takashi\\Miniconda3\\lib\\site-packages\\sklearn\\metrics\\scorer.py:127: DeprecationWarning: Scoring method log_loss was renamed to neg_log_loss in version 0.18 and will be removed in 0.20.\n",
      "  sample_weight=sample_weight)\n",
      "C:\\Users\\Takashi\\Miniconda3\\lib\\site-packages\\sklearn\\metrics\\scorer.py:127: DeprecationWarning: Scoring method log_loss was renamed to neg_log_loss in version 0.18 and will be removed in 0.20.\n",
      "  sample_weight=sample_weight)\n",
      "C:\\Users\\Takashi\\Miniconda3\\lib\\site-packages\\sklearn\\metrics\\scorer.py:127: DeprecationWarning: Scoring method log_loss was renamed to neg_log_loss in version 0.18 and will be removed in 0.20.\n",
      "  sample_weight=sample_weight)\n"
     ]
    },
    {
     "name": "stdout",
     "output_type": "stream",
     "text": [
      "[CV]  max_depth=2, colsample_bytree=0.812388122079, subsample=0.648401296696 -   0.0s\n",
      "[CV] max_depth=2, colsample_bytree=0.812388122079, subsample=0.648401296696 \n",
      "[CV]  max_depth=2, colsample_bytree=0.812388122079, subsample=0.648401296696 -   0.0s\n",
      "[CV] max_depth=2, colsample_bytree=0.812388122079, subsample=0.648401296696 \n",
      "[CV]  max_depth=2, colsample_bytree=0.812388122079, subsample=0.648401296696 -   0.0s\n",
      "[CV] max_depth=2, colsample_bytree=0.812388122079, subsample=0.648401296696 \n",
      "[CV]  max_depth=2, colsample_bytree=0.812388122079, subsample=0.648401296696 -   0.0s\n",
      "[CV] max_depth=2, colsample_bytree=0.812388122079, subsample=0.648401296696 \n",
      "[CV]  max_depth=2, colsample_bytree=0.812388122079, subsample=0.648401296696 -   0.0s\n",
      "[CV] max_depth=2, colsample_bytree=0.812388122079, subsample=0.648401296696 \n"
     ]
    },
    {
     "name": "stderr",
     "output_type": "stream",
     "text": [
      "C:\\Users\\Takashi\\Miniconda3\\lib\\site-packages\\sklearn\\metrics\\scorer.py:127: DeprecationWarning: Scoring method log_loss was renamed to neg_log_loss in version 0.18 and will be removed in 0.20.\n",
      "  sample_weight=sample_weight)\n",
      "C:\\Users\\Takashi\\Miniconda3\\lib\\site-packages\\sklearn\\metrics\\scorer.py:127: DeprecationWarning: Scoring method log_loss was renamed to neg_log_loss in version 0.18 and will be removed in 0.20.\n",
      "  sample_weight=sample_weight)\n",
      "C:\\Users\\Takashi\\Miniconda3\\lib\\site-packages\\sklearn\\metrics\\scorer.py:127: DeprecationWarning: Scoring method log_loss was renamed to neg_log_loss in version 0.18 and will be removed in 0.20.\n",
      "  sample_weight=sample_weight)\n",
      "C:\\Users\\Takashi\\Miniconda3\\lib\\site-packages\\sklearn\\metrics\\scorer.py:127: DeprecationWarning: Scoring method log_loss was renamed to neg_log_loss in version 0.18 and will be removed in 0.20.\n",
      "  sample_weight=sample_weight)\n",
      "C:\\Users\\Takashi\\Miniconda3\\lib\\site-packages\\sklearn\\metrics\\scorer.py:127: DeprecationWarning: Scoring method log_loss was renamed to neg_log_loss in version 0.18 and will be removed in 0.20.\n",
      "  sample_weight=sample_weight)\n",
      "C:\\Users\\Takashi\\Miniconda3\\lib\\site-packages\\sklearn\\metrics\\scorer.py:127: DeprecationWarning: Scoring method log_loss was renamed to neg_log_loss in version 0.18 and will be removed in 0.20.\n",
      "  sample_weight=sample_weight)\n"
     ]
    },
    {
     "name": "stdout",
     "output_type": "stream",
     "text": [
      "[CV]  max_depth=2, colsample_bytree=0.812388122079, subsample=0.648401296696 -   0.0s\n",
      "[CV] max_depth=2, colsample_bytree=0.812388122079, subsample=0.648401296696 \n",
      "[CV]  max_depth=2, colsample_bytree=0.812388122079, subsample=0.648401296696 -   0.0s\n",
      "[CV] max_depth=1, colsample_bytree=0.947453688908, subsample=0.642012701357 \n",
      "[CV]  max_depth=1, colsample_bytree=0.947453688908, subsample=0.642012701357 -   0.0s\n",
      "[CV] max_depth=1, colsample_bytree=0.947453688908, subsample=0.642012701357 \n",
      "[CV]  max_depth=1, colsample_bytree=0.947453688908, subsample=0.642012701357 -   0.0s\n",
      "[CV] max_depth=1, colsample_bytree=0.947453688908, subsample=0.642012701357 \n",
      "[CV]  max_depth=1, colsample_bytree=0.947453688908, subsample=0.642012701357 -   0.0s\n",
      "[CV] max_depth=1, colsample_bytree=0.947453688908, subsample=0.642012701357 \n",
      "[CV]  max_depth=1, colsample_bytree=0.947453688908, subsample=0.642012701357 -   0.0s\n",
      "[CV] max_depth=1, colsample_bytree=0.947453688908, subsample=0.642012701357 \n"
     ]
    },
    {
     "name": "stderr",
     "output_type": "stream",
     "text": [
      "C:\\Users\\Takashi\\Miniconda3\\lib\\site-packages\\sklearn\\metrics\\scorer.py:127: DeprecationWarning: Scoring method log_loss was renamed to neg_log_loss in version 0.18 and will be removed in 0.20.\n",
      "  sample_weight=sample_weight)\n",
      "C:\\Users\\Takashi\\Miniconda3\\lib\\site-packages\\sklearn\\metrics\\scorer.py:127: DeprecationWarning: Scoring method log_loss was renamed to neg_log_loss in version 0.18 and will be removed in 0.20.\n",
      "  sample_weight=sample_weight)\n",
      "C:\\Users\\Takashi\\Miniconda3\\lib\\site-packages\\sklearn\\metrics\\scorer.py:127: DeprecationWarning: Scoring method log_loss was renamed to neg_log_loss in version 0.18 and will be removed in 0.20.\n",
      "  sample_weight=sample_weight)\n",
      "C:\\Users\\Takashi\\Miniconda3\\lib\\site-packages\\sklearn\\metrics\\scorer.py:127: DeprecationWarning: Scoring method log_loss was renamed to neg_log_loss in version 0.18 and will be removed in 0.20.\n",
      "  sample_weight=sample_weight)\n",
      "C:\\Users\\Takashi\\Miniconda3\\lib\\site-packages\\sklearn\\metrics\\scorer.py:127: DeprecationWarning: Scoring method log_loss was renamed to neg_log_loss in version 0.18 and will be removed in 0.20.\n",
      "  sample_weight=sample_weight)\n",
      "C:\\Users\\Takashi\\Miniconda3\\lib\\site-packages\\sklearn\\metrics\\scorer.py:127: DeprecationWarning: Scoring method log_loss was renamed to neg_log_loss in version 0.18 and will be removed in 0.20.\n",
      "  sample_weight=sample_weight)\n"
     ]
    },
    {
     "name": "stdout",
     "output_type": "stream",
     "text": [
      "[CV]  max_depth=1, colsample_bytree=0.947453688908, subsample=0.642012701357 -   0.0s\n",
      "[CV] max_depth=1, colsample_bytree=0.947453688908, subsample=0.642012701357 \n",
      "[CV]  max_depth=1, colsample_bytree=0.947453688908, subsample=0.642012701357 -   0.0s\n",
      "[CV] max_depth=1, colsample_bytree=0.947453688908, subsample=0.642012701357 \n",
      "[CV]  max_depth=1, colsample_bytree=0.947453688908, subsample=0.642012701357 -   0.0s\n",
      "[CV] max_depth=1, colsample_bytree=0.947453688908, subsample=0.642012701357 \n",
      "[CV]  max_depth=1, colsample_bytree=0.947453688908, subsample=0.642012701357 -   0.0s\n",
      "[CV] max_depth=1, colsample_bytree=0.947453688908, subsample=0.642012701357 \n",
      "[CV]  max_depth=1, colsample_bytree=0.947453688908, subsample=0.642012701357 -   0.0s\n",
      "[CV] max_depth=1, colsample_bytree=0.947453688908, subsample=0.642012701357 \n",
      "[CV]  max_depth=1, colsample_bytree=0.947453688908, subsample=0.642012701357 -   0.0s\n",
      "[CV] max_depth=5, colsample_bytree=0.65318821073, subsample=0.573499680567 \n"
     ]
    },
    {
     "name": "stderr",
     "output_type": "stream",
     "text": [
      "C:\\Users\\Takashi\\Miniconda3\\lib\\site-packages\\sklearn\\metrics\\scorer.py:127: DeprecationWarning: Scoring method log_loss was renamed to neg_log_loss in version 0.18 and will be removed in 0.20.\n",
      "  sample_weight=sample_weight)\n",
      "C:\\Users\\Takashi\\Miniconda3\\lib\\site-packages\\sklearn\\metrics\\scorer.py:127: DeprecationWarning: Scoring method log_loss was renamed to neg_log_loss in version 0.18 and will be removed in 0.20.\n",
      "  sample_weight=sample_weight)\n",
      "C:\\Users\\Takashi\\Miniconda3\\lib\\site-packages\\sklearn\\metrics\\scorer.py:127: DeprecationWarning: Scoring method log_loss was renamed to neg_log_loss in version 0.18 and will be removed in 0.20.\n",
      "  sample_weight=sample_weight)\n"
     ]
    },
    {
     "name": "stdout",
     "output_type": "stream",
     "text": [
      "[CV]  max_depth=5, colsample_bytree=0.65318821073, subsample=0.573499680567 -   0.0s\n",
      "[CV] max_depth=5, colsample_bytree=0.65318821073, subsample=0.573499680567 \n",
      "[CV]  max_depth=5, colsample_bytree=0.65318821073, subsample=0.573499680567 -   0.0s\n",
      "[CV] max_depth=5, colsample_bytree=0.65318821073, subsample=0.573499680567 \n",
      "[CV]  max_depth=5, colsample_bytree=0.65318821073, subsample=0.573499680567 -   0.0s\n",
      "[CV] max_depth=5, colsample_bytree=0.65318821073, subsample=0.573499680567 \n"
     ]
    },
    {
     "name": "stderr",
     "output_type": "stream",
     "text": [
      "C:\\Users\\Takashi\\Miniconda3\\lib\\site-packages\\sklearn\\metrics\\scorer.py:127: DeprecationWarning: Scoring method log_loss was renamed to neg_log_loss in version 0.18 and will be removed in 0.20.\n",
      "  sample_weight=sample_weight)\n",
      "C:\\Users\\Takashi\\Miniconda3\\lib\\site-packages\\sklearn\\metrics\\scorer.py:127: DeprecationWarning: Scoring method log_loss was renamed to neg_log_loss in version 0.18 and will be removed in 0.20.\n",
      "  sample_weight=sample_weight)\n",
      "C:\\Users\\Takashi\\Miniconda3\\lib\\site-packages\\sklearn\\metrics\\scorer.py:127: DeprecationWarning: Scoring method log_loss was renamed to neg_log_loss in version 0.18 and will be removed in 0.20.\n",
      "  sample_weight=sample_weight)\n"
     ]
    },
    {
     "name": "stdout",
     "output_type": "stream",
     "text": [
      "[CV]  max_depth=5, colsample_bytree=0.65318821073, subsample=0.573499680567 -   0.0s\n",
      "[CV] max_depth=5, colsample_bytree=0.65318821073, subsample=0.573499680567 \n",
      "[CV]  max_depth=5, colsample_bytree=0.65318821073, subsample=0.573499680567 -   0.0s\n",
      "[CV] max_depth=5, colsample_bytree=0.65318821073, subsample=0.573499680567 \n",
      "[CV]  max_depth=5, colsample_bytree=0.65318821073, subsample=0.573499680567 -   0.0s\n",
      "[CV] max_depth=5, colsample_bytree=0.65318821073, subsample=0.573499680567 \n"
     ]
    },
    {
     "name": "stderr",
     "output_type": "stream",
     "text": [
      "C:\\Users\\Takashi\\Miniconda3\\lib\\site-packages\\sklearn\\metrics\\scorer.py:127: DeprecationWarning: Scoring method log_loss was renamed to neg_log_loss in version 0.18 and will be removed in 0.20.\n",
      "  sample_weight=sample_weight)\n",
      "C:\\Users\\Takashi\\Miniconda3\\lib\\site-packages\\sklearn\\metrics\\scorer.py:127: DeprecationWarning: Scoring method log_loss was renamed to neg_log_loss in version 0.18 and will be removed in 0.20.\n",
      "  sample_weight=sample_weight)\n",
      "C:\\Users\\Takashi\\Miniconda3\\lib\\site-packages\\sklearn\\metrics\\scorer.py:127: DeprecationWarning: Scoring method log_loss was renamed to neg_log_loss in version 0.18 and will be removed in 0.20.\n",
      "  sample_weight=sample_weight)\n"
     ]
    },
    {
     "name": "stdout",
     "output_type": "stream",
     "text": [
      "[CV]  max_depth=5, colsample_bytree=0.65318821073, subsample=0.573499680567 -   0.0s\n",
      "[CV] max_depth=5, colsample_bytree=0.65318821073, subsample=0.573499680567 \n",
      "[CV]  max_depth=5, colsample_bytree=0.65318821073, subsample=0.573499680567 -   0.0s\n",
      "[CV] max_depth=5, colsample_bytree=0.65318821073, subsample=0.573499680567 \n",
      "[CV]  max_depth=5, colsample_bytree=0.65318821073, subsample=0.573499680567 -   0.0s\n",
      "[CV] max_depth=5, colsample_bytree=0.65318821073, subsample=0.573499680567 \n"
     ]
    },
    {
     "name": "stderr",
     "output_type": "stream",
     "text": [
      "C:\\Users\\Takashi\\Miniconda3\\lib\\site-packages\\sklearn\\metrics\\scorer.py:127: DeprecationWarning: Scoring method log_loss was renamed to neg_log_loss in version 0.18 and will be removed in 0.20.\n",
      "  sample_weight=sample_weight)\n",
      "C:\\Users\\Takashi\\Miniconda3\\lib\\site-packages\\sklearn\\metrics\\scorer.py:127: DeprecationWarning: Scoring method log_loss was renamed to neg_log_loss in version 0.18 and will be removed in 0.20.\n",
      "  sample_weight=sample_weight)\n"
     ]
    },
    {
     "name": "stdout",
     "output_type": "stream",
     "text": [
      "[CV]  max_depth=5, colsample_bytree=0.65318821073, subsample=0.573499680567 -   0.0s\n",
      "[CV] max_depth=7, colsample_bytree=0.710050505982, subsample=0.839588862939 \n",
      "[CV]  max_depth=7, colsample_bytree=0.710050505982, subsample=0.839588862939 -   0.0s\n",
      "[CV] max_depth=7, colsample_bytree=0.710050505982, subsample=0.839588862939 \n"
     ]
    },
    {
     "name": "stderr",
     "output_type": "stream",
     "text": [
      "C:\\Users\\Takashi\\Miniconda3\\lib\\site-packages\\sklearn\\metrics\\scorer.py:127: DeprecationWarning: Scoring method log_loss was renamed to neg_log_loss in version 0.18 and will be removed in 0.20.\n",
      "  sample_weight=sample_weight)\n",
      "C:\\Users\\Takashi\\Miniconda3\\lib\\site-packages\\sklearn\\metrics\\scorer.py:127: DeprecationWarning: Scoring method log_loss was renamed to neg_log_loss in version 0.18 and will be removed in 0.20.\n",
      "  sample_weight=sample_weight)\n"
     ]
    },
    {
     "name": "stdout",
     "output_type": "stream",
     "text": [
      "[CV]  max_depth=7, colsample_bytree=0.710050505982, subsample=0.839588862939 -   0.0s\n",
      "[CV] max_depth=7, colsample_bytree=0.710050505982, subsample=0.839588862939 \n",
      "[CV]  max_depth=7, colsample_bytree=0.710050505982, subsample=0.839588862939 -   0.0s\n",
      "[CV] max_depth=7, colsample_bytree=0.710050505982, subsample=0.839588862939 \n"
     ]
    },
    {
     "name": "stderr",
     "output_type": "stream",
     "text": [
      "C:\\Users\\Takashi\\Miniconda3\\lib\\site-packages\\sklearn\\metrics\\scorer.py:127: DeprecationWarning: Scoring method log_loss was renamed to neg_log_loss in version 0.18 and will be removed in 0.20.\n",
      "  sample_weight=sample_weight)\n",
      "C:\\Users\\Takashi\\Miniconda3\\lib\\site-packages\\sklearn\\metrics\\scorer.py:127: DeprecationWarning: Scoring method log_loss was renamed to neg_log_loss in version 0.18 and will be removed in 0.20.\n",
      "  sample_weight=sample_weight)\n"
     ]
    },
    {
     "name": "stdout",
     "output_type": "stream",
     "text": [
      "[CV]  max_depth=7, colsample_bytree=0.710050505982, subsample=0.839588862939 -   0.0s\n",
      "[CV] max_depth=7, colsample_bytree=0.710050505982, subsample=0.839588862939 \n",
      "[CV]  max_depth=7, colsample_bytree=0.710050505982, subsample=0.839588862939 -   0.0s\n",
      "[CV] max_depth=7, colsample_bytree=0.710050505982, subsample=0.839588862939 \n"
     ]
    },
    {
     "name": "stderr",
     "output_type": "stream",
     "text": [
      "C:\\Users\\Takashi\\Miniconda3\\lib\\site-packages\\sklearn\\metrics\\scorer.py:127: DeprecationWarning: Scoring method log_loss was renamed to neg_log_loss in version 0.18 and will be removed in 0.20.\n",
      "  sample_weight=sample_weight)\n",
      "C:\\Users\\Takashi\\Miniconda3\\lib\\site-packages\\sklearn\\metrics\\scorer.py:127: DeprecationWarning: Scoring method log_loss was renamed to neg_log_loss in version 0.18 and will be removed in 0.20.\n",
      "  sample_weight=sample_weight)\n"
     ]
    },
    {
     "name": "stdout",
     "output_type": "stream",
     "text": [
      "[CV]  max_depth=7, colsample_bytree=0.710050505982, subsample=0.839588862939 -   0.0s\n",
      "[CV] max_depth=7, colsample_bytree=0.710050505982, subsample=0.839588862939 \n",
      "[CV]  max_depth=7, colsample_bytree=0.710050505982, subsample=0.839588862939 -   0.0s\n",
      "[CV] max_depth=7, colsample_bytree=0.710050505982, subsample=0.839588862939 \n"
     ]
    },
    {
     "name": "stderr",
     "output_type": "stream",
     "text": [
      "C:\\Users\\Takashi\\Miniconda3\\lib\\site-packages\\sklearn\\metrics\\scorer.py:127: DeprecationWarning: Scoring method log_loss was renamed to neg_log_loss in version 0.18 and will be removed in 0.20.\n",
      "  sample_weight=sample_weight)\n",
      "C:\\Users\\Takashi\\Miniconda3\\lib\\site-packages\\sklearn\\metrics\\scorer.py:127: DeprecationWarning: Scoring method log_loss was renamed to neg_log_loss in version 0.18 and will be removed in 0.20.\n",
      "  sample_weight=sample_weight)\n",
      "C:\\Users\\Takashi\\Miniconda3\\lib\\site-packages\\sklearn\\metrics\\scorer.py:127: DeprecationWarning: Scoring method log_loss was renamed to neg_log_loss in version 0.18 and will be removed in 0.20.\n",
      "  sample_weight=sample_weight)\n"
     ]
    },
    {
     "name": "stdout",
     "output_type": "stream",
     "text": [
      "[CV]  max_depth=7, colsample_bytree=0.710050505982, subsample=0.839588862939 -   0.0s\n",
      "[CV] max_depth=7, colsample_bytree=0.710050505982, subsample=0.839588862939 \n",
      "[CV]  max_depth=7, colsample_bytree=0.710050505982, subsample=0.839588862939 -   0.0s\n",
      "[CV] max_depth=7, colsample_bytree=0.710050505982, subsample=0.839588862939 \n",
      "[CV]  max_depth=7, colsample_bytree=0.710050505982, subsample=0.839588862939 -   0.0s\n",
      "[CV] max_depth=8, colsample_bytree=0.878100775539, subsample=0.800593703924 \n"
     ]
    },
    {
     "name": "stderr",
     "output_type": "stream",
     "text": [
      "C:\\Users\\Takashi\\Miniconda3\\lib\\site-packages\\sklearn\\metrics\\scorer.py:127: DeprecationWarning: Scoring method log_loss was renamed to neg_log_loss in version 0.18 and will be removed in 0.20.\n",
      "  sample_weight=sample_weight)\n",
      "C:\\Users\\Takashi\\Miniconda3\\lib\\site-packages\\sklearn\\metrics\\scorer.py:127: DeprecationWarning: Scoring method log_loss was renamed to neg_log_loss in version 0.18 and will be removed in 0.20.\n",
      "  sample_weight=sample_weight)\n",
      "C:\\Users\\Takashi\\Miniconda3\\lib\\site-packages\\sklearn\\metrics\\scorer.py:127: DeprecationWarning: Scoring method log_loss was renamed to neg_log_loss in version 0.18 and will be removed in 0.20.\n",
      "  sample_weight=sample_weight)\n"
     ]
    },
    {
     "name": "stdout",
     "output_type": "stream",
     "text": [
      "[CV]  max_depth=8, colsample_bytree=0.878100775539, subsample=0.800593703924 -   0.0s\n",
      "[CV] max_depth=8, colsample_bytree=0.878100775539, subsample=0.800593703924 \n",
      "[CV]  max_depth=8, colsample_bytree=0.878100775539, subsample=0.800593703924 -   0.0s\n",
      "[CV] max_depth=8, colsample_bytree=0.878100775539, subsample=0.800593703924 \n",
      "[CV]  max_depth=8, colsample_bytree=0.878100775539, subsample=0.800593703924 -   0.0s\n",
      "[CV] max_depth=8, colsample_bytree=0.878100775539, subsample=0.800593703924 \n"
     ]
    },
    {
     "name": "stderr",
     "output_type": "stream",
     "text": [
      "C:\\Users\\Takashi\\Miniconda3\\lib\\site-packages\\sklearn\\metrics\\scorer.py:127: DeprecationWarning: Scoring method log_loss was renamed to neg_log_loss in version 0.18 and will be removed in 0.20.\n",
      "  sample_weight=sample_weight)\n",
      "C:\\Users\\Takashi\\Miniconda3\\lib\\site-packages\\sklearn\\metrics\\scorer.py:127: DeprecationWarning: Scoring method log_loss was renamed to neg_log_loss in version 0.18 and will be removed in 0.20.\n",
      "  sample_weight=sample_weight)\n"
     ]
    },
    {
     "name": "stdout",
     "output_type": "stream",
     "text": [
      "[CV]  max_depth=8, colsample_bytree=0.878100775539, subsample=0.800593703924 -   0.0s\n",
      "[CV] max_depth=8, colsample_bytree=0.878100775539, subsample=0.800593703924 \n",
      "[CV]  max_depth=8, colsample_bytree=0.878100775539, subsample=0.800593703924 -   0.0s\n",
      "[CV] max_depth=8, colsample_bytree=0.878100775539, subsample=0.800593703924 \n"
     ]
    },
    {
     "name": "stderr",
     "output_type": "stream",
     "text": [
      "C:\\Users\\Takashi\\Miniconda3\\lib\\site-packages\\sklearn\\metrics\\scorer.py:127: DeprecationWarning: Scoring method log_loss was renamed to neg_log_loss in version 0.18 and will be removed in 0.20.\n",
      "  sample_weight=sample_weight)\n",
      "C:\\Users\\Takashi\\Miniconda3\\lib\\site-packages\\sklearn\\metrics\\scorer.py:127: DeprecationWarning: Scoring method log_loss was renamed to neg_log_loss in version 0.18 and will be removed in 0.20.\n",
      "  sample_weight=sample_weight)\n"
     ]
    },
    {
     "name": "stdout",
     "output_type": "stream",
     "text": [
      "[CV]  max_depth=8, colsample_bytree=0.878100775539, subsample=0.800593703924 -   0.0s\n",
      "[CV] max_depth=8, colsample_bytree=0.878100775539, subsample=0.800593703924 \n",
      "[CV]  max_depth=8, colsample_bytree=0.878100775539, subsample=0.800593703924 -   0.0s\n",
      "[CV] max_depth=8, colsample_bytree=0.878100775539, subsample=0.800593703924 \n"
     ]
    },
    {
     "name": "stderr",
     "output_type": "stream",
     "text": [
      "C:\\Users\\Takashi\\Miniconda3\\lib\\site-packages\\sklearn\\metrics\\scorer.py:127: DeprecationWarning: Scoring method log_loss was renamed to neg_log_loss in version 0.18 and will be removed in 0.20.\n",
      "  sample_weight=sample_weight)\n",
      "C:\\Users\\Takashi\\Miniconda3\\lib\\site-packages\\sklearn\\metrics\\scorer.py:127: DeprecationWarning: Scoring method log_loss was renamed to neg_log_loss in version 0.18 and will be removed in 0.20.\n",
      "  sample_weight=sample_weight)\n"
     ]
    },
    {
     "name": "stdout",
     "output_type": "stream",
     "text": [
      "[CV]  max_depth=8, colsample_bytree=0.878100775539, subsample=0.800593703924 -   0.0s\n",
      "[CV] max_depth=8, colsample_bytree=0.878100775539, subsample=0.800593703924 \n",
      "[CV]  max_depth=8, colsample_bytree=0.878100775539, subsample=0.800593703924 -   0.0s\n",
      "[CV] max_depth=8, colsample_bytree=0.878100775539, subsample=0.800593703924 \n"
     ]
    },
    {
     "name": "stderr",
     "output_type": "stream",
     "text": [
      "C:\\Users\\Takashi\\Miniconda3\\lib\\site-packages\\sklearn\\metrics\\scorer.py:127: DeprecationWarning: Scoring method log_loss was renamed to neg_log_loss in version 0.18 and will be removed in 0.20.\n",
      "  sample_weight=sample_weight)\n",
      "C:\\Users\\Takashi\\Miniconda3\\lib\\site-packages\\sklearn\\metrics\\scorer.py:127: DeprecationWarning: Scoring method log_loss was renamed to neg_log_loss in version 0.18 and will be removed in 0.20.\n",
      "  sample_weight=sample_weight)\n"
     ]
    },
    {
     "name": "stdout",
     "output_type": "stream",
     "text": [
      "[CV]  max_depth=8, colsample_bytree=0.878100775539, subsample=0.800593703924 -   0.0s\n",
      "[CV] max_depth=7, colsample_bytree=0.886303436443, subsample=0.976504993407 \n",
      "[CV]  max_depth=7, colsample_bytree=0.886303436443, subsample=0.976504993407 -   0.0s\n",
      "[CV] max_depth=7, colsample_bytree=0.886303436443, subsample=0.976504993407 \n"
     ]
    },
    {
     "name": "stderr",
     "output_type": "stream",
     "text": [
      "C:\\Users\\Takashi\\Miniconda3\\lib\\site-packages\\sklearn\\metrics\\scorer.py:127: DeprecationWarning: Scoring method log_loss was renamed to neg_log_loss in version 0.18 and will be removed in 0.20.\n",
      "  sample_weight=sample_weight)\n",
      "C:\\Users\\Takashi\\Miniconda3\\lib\\site-packages\\sklearn\\metrics\\scorer.py:127: DeprecationWarning: Scoring method log_loss was renamed to neg_log_loss in version 0.18 and will be removed in 0.20.\n",
      "  sample_weight=sample_weight)\n",
      "C:\\Users\\Takashi\\Miniconda3\\lib\\site-packages\\sklearn\\metrics\\scorer.py:127: DeprecationWarning: Scoring method log_loss was renamed to neg_log_loss in version 0.18 and will be removed in 0.20.\n",
      "  sample_weight=sample_weight)\n"
     ]
    },
    {
     "name": "stdout",
     "output_type": "stream",
     "text": [
      "[CV]  max_depth=7, colsample_bytree=0.886303436443, subsample=0.976504993407 -   0.0s\n",
      "[CV] max_depth=7, colsample_bytree=0.886303436443, subsample=0.976504993407 \n",
      "[CV]  max_depth=7, colsample_bytree=0.886303436443, subsample=0.976504993407 -   0.0s\n",
      "[CV] max_depth=7, colsample_bytree=0.886303436443, subsample=0.976504993407 \n",
      "[CV]  max_depth=7, colsample_bytree=0.886303436443, subsample=0.976504993407 -   0.0s\n",
      "[CV] max_depth=7, colsample_bytree=0.886303436443, subsample=0.976504993407 \n"
     ]
    },
    {
     "name": "stderr",
     "output_type": "stream",
     "text": [
      "C:\\Users\\Takashi\\Miniconda3\\lib\\site-packages\\sklearn\\metrics\\scorer.py:127: DeprecationWarning: Scoring method log_loss was renamed to neg_log_loss in version 0.18 and will be removed in 0.20.\n",
      "  sample_weight=sample_weight)\n",
      "C:\\Users\\Takashi\\Miniconda3\\lib\\site-packages\\sklearn\\metrics\\scorer.py:127: DeprecationWarning: Scoring method log_loss was renamed to neg_log_loss in version 0.18 and will be removed in 0.20.\n",
      "  sample_weight=sample_weight)\n"
     ]
    },
    {
     "name": "stdout",
     "output_type": "stream",
     "text": [
      "[CV]  max_depth=7, colsample_bytree=0.886303436443, subsample=0.976504993407 -   0.0s\n",
      "[CV] max_depth=7, colsample_bytree=0.886303436443, subsample=0.976504993407 \n",
      "[CV]  max_depth=7, colsample_bytree=0.886303436443, subsample=0.976504993407 -   0.0s\n",
      "[CV] max_depth=7, colsample_bytree=0.886303436443, subsample=0.976504993407 \n"
     ]
    },
    {
     "name": "stderr",
     "output_type": "stream",
     "text": [
      "C:\\Users\\Takashi\\Miniconda3\\lib\\site-packages\\sklearn\\metrics\\scorer.py:127: DeprecationWarning: Scoring method log_loss was renamed to neg_log_loss in version 0.18 and will be removed in 0.20.\n",
      "  sample_weight=sample_weight)\n",
      "C:\\Users\\Takashi\\Miniconda3\\lib\\site-packages\\sklearn\\metrics\\scorer.py:127: DeprecationWarning: Scoring method log_loss was renamed to neg_log_loss in version 0.18 and will be removed in 0.20.\n",
      "  sample_weight=sample_weight)\n",
      "C:\\Users\\Takashi\\Miniconda3\\lib\\site-packages\\sklearn\\metrics\\scorer.py:127: DeprecationWarning: Scoring method log_loss was renamed to neg_log_loss in version 0.18 and will be removed in 0.20.\n",
      "  sample_weight=sample_weight)\n"
     ]
    },
    {
     "name": "stdout",
     "output_type": "stream",
     "text": [
      "[CV]  max_depth=7, colsample_bytree=0.886303436443, subsample=0.976504993407 -   0.0s\n",
      "[CV] max_depth=7, colsample_bytree=0.886303436443, subsample=0.976504993407 \n",
      "[CV]  max_depth=7, colsample_bytree=0.886303436443, subsample=0.976504993407 -   0.0s\n",
      "[CV] max_depth=7, colsample_bytree=0.886303436443, subsample=0.976504993407 \n",
      "[CV]  max_depth=7, colsample_bytree=0.886303436443, subsample=0.976504993407 -   0.0s\n",
      "[CV] max_depth=7, colsample_bytree=0.886303436443, subsample=0.976504993407 \n"
     ]
    },
    {
     "name": "stderr",
     "output_type": "stream",
     "text": [
      "C:\\Users\\Takashi\\Miniconda3\\lib\\site-packages\\sklearn\\metrics\\scorer.py:127: DeprecationWarning: Scoring method log_loss was renamed to neg_log_loss in version 0.18 and will be removed in 0.20.\n",
      "  sample_weight=sample_weight)\n",
      "C:\\Users\\Takashi\\Miniconda3\\lib\\site-packages\\sklearn\\metrics\\scorer.py:127: DeprecationWarning: Scoring method log_loss was renamed to neg_log_loss in version 0.18 and will be removed in 0.20.\n",
      "  sample_weight=sample_weight)\n",
      "C:\\Users\\Takashi\\Miniconda3\\lib\\site-packages\\sklearn\\metrics\\scorer.py:127: DeprecationWarning: Scoring method log_loss was renamed to neg_log_loss in version 0.18 and will be removed in 0.20.\n",
      "  sample_weight=sample_weight)\n",
      "C:\\Users\\Takashi\\Miniconda3\\lib\\site-packages\\sklearn\\metrics\\scorer.py:127: DeprecationWarning: Scoring method log_loss was renamed to neg_log_loss in version 0.18 and will be removed in 0.20.\n",
      "  sample_weight=sample_weight)\n"
     ]
    },
    {
     "name": "stdout",
     "output_type": "stream",
     "text": [
      "[CV]  max_depth=7, colsample_bytree=0.886303436443, subsample=0.976504993407 -   0.0s\n",
      "[CV] max_depth=4, colsample_bytree=0.652855372525, subsample=0.595107924267 \n",
      "[CV]  max_depth=4, colsample_bytree=0.652855372525, subsample=0.595107924267 -   0.0s\n",
      "[CV] max_depth=4, colsample_bytree=0.652855372525, subsample=0.595107924267 \n",
      "[CV]  max_depth=4, colsample_bytree=0.652855372525, subsample=0.595107924267 -   0.0s\n",
      "[CV] max_depth=4, colsample_bytree=0.652855372525, subsample=0.595107924267 \n",
      "[CV]  max_depth=4, colsample_bytree=0.652855372525, subsample=0.595107924267 -   0.0s\n",
      "[CV] max_depth=4, colsample_bytree=0.652855372525, subsample=0.595107924267 \n"
     ]
    },
    {
     "name": "stderr",
     "output_type": "stream",
     "text": [
      "C:\\Users\\Takashi\\Miniconda3\\lib\\site-packages\\sklearn\\metrics\\scorer.py:127: DeprecationWarning: Scoring method log_loss was renamed to neg_log_loss in version 0.18 and will be removed in 0.20.\n",
      "  sample_weight=sample_weight)\n",
      "C:\\Users\\Takashi\\Miniconda3\\lib\\site-packages\\sklearn\\metrics\\scorer.py:127: DeprecationWarning: Scoring method log_loss was renamed to neg_log_loss in version 0.18 and will be removed in 0.20.\n",
      "  sample_weight=sample_weight)\n",
      "C:\\Users\\Takashi\\Miniconda3\\lib\\site-packages\\sklearn\\metrics\\scorer.py:127: DeprecationWarning: Scoring method log_loss was renamed to neg_log_loss in version 0.18 and will be removed in 0.20.\n",
      "  sample_weight=sample_weight)\n",
      "C:\\Users\\Takashi\\Miniconda3\\lib\\site-packages\\sklearn\\metrics\\scorer.py:127: DeprecationWarning: Scoring method log_loss was renamed to neg_log_loss in version 0.18 and will be removed in 0.20.\n",
      "  sample_weight=sample_weight)\n"
     ]
    },
    {
     "name": "stdout",
     "output_type": "stream",
     "text": [
      "[CV]  max_depth=4, colsample_bytree=0.652855372525, subsample=0.595107924267 -   0.0s\n",
      "[CV] max_depth=4, colsample_bytree=0.652855372525, subsample=0.595107924267 \n",
      "[CV]  max_depth=4, colsample_bytree=0.652855372525, subsample=0.595107924267 -   0.0s\n",
      "[CV] max_depth=4, colsample_bytree=0.652855372525, subsample=0.595107924267 \n",
      "[CV]  max_depth=4, colsample_bytree=0.652855372525, subsample=0.595107924267 -   0.0s\n",
      "[CV] max_depth=4, colsample_bytree=0.652855372525, subsample=0.595107924267 \n",
      "[CV]  max_depth=4, colsample_bytree=0.652855372525, subsample=0.595107924267 -   0.0s\n",
      "[CV] max_depth=4, colsample_bytree=0.652855372525, subsample=0.595107924267 \n"
     ]
    },
    {
     "name": "stderr",
     "output_type": "stream",
     "text": [
      "C:\\Users\\Takashi\\Miniconda3\\lib\\site-packages\\sklearn\\metrics\\scorer.py:127: DeprecationWarning: Scoring method log_loss was renamed to neg_log_loss in version 0.18 and will be removed in 0.20.\n",
      "  sample_weight=sample_weight)\n",
      "C:\\Users\\Takashi\\Miniconda3\\lib\\site-packages\\sklearn\\metrics\\scorer.py:127: DeprecationWarning: Scoring method log_loss was renamed to neg_log_loss in version 0.18 and will be removed in 0.20.\n",
      "  sample_weight=sample_weight)\n",
      "C:\\Users\\Takashi\\Miniconda3\\lib\\site-packages\\sklearn\\metrics\\scorer.py:127: DeprecationWarning: Scoring method log_loss was renamed to neg_log_loss in version 0.18 and will be removed in 0.20.\n",
      "  sample_weight=sample_weight)\n",
      "C:\\Users\\Takashi\\Miniconda3\\lib\\site-packages\\sklearn\\metrics\\scorer.py:127: DeprecationWarning: Scoring method log_loss was renamed to neg_log_loss in version 0.18 and will be removed in 0.20.\n",
      "  sample_weight=sample_weight)\n"
     ]
    },
    {
     "name": "stdout",
     "output_type": "stream",
     "text": [
      "[CV]  max_depth=4, colsample_bytree=0.652855372525, subsample=0.595107924267 -   0.0s\n",
      "[CV] max_depth=4, colsample_bytree=0.652855372525, subsample=0.595107924267 \n",
      "[CV]  max_depth=4, colsample_bytree=0.652855372525, subsample=0.595107924267 -   0.0s\n",
      "[CV] max_depth=4, colsample_bytree=0.652855372525, subsample=0.595107924267 \n",
      "[CV]  max_depth=4, colsample_bytree=0.652855372525, subsample=0.595107924267 -   0.0s\n",
      "[CV] max_depth=6, colsample_bytree=0.913122075137, subsample=0.699020638607 \n",
      "[CV]  max_depth=6, colsample_bytree=0.913122075137, subsample=0.699020638607 -   0.0s\n",
      "[CV] max_depth=6, colsample_bytree=0.913122075137, subsample=0.699020638607 \n"
     ]
    },
    {
     "name": "stderr",
     "output_type": "stream",
     "text": [
      "C:\\Users\\Takashi\\Miniconda3\\lib\\site-packages\\sklearn\\metrics\\scorer.py:127: DeprecationWarning: Scoring method log_loss was renamed to neg_log_loss in version 0.18 and will be removed in 0.20.\n",
      "  sample_weight=sample_weight)\n",
      "C:\\Users\\Takashi\\Miniconda3\\lib\\site-packages\\sklearn\\metrics\\scorer.py:127: DeprecationWarning: Scoring method log_loss was renamed to neg_log_loss in version 0.18 and will be removed in 0.20.\n",
      "  sample_weight=sample_weight)\n",
      "C:\\Users\\Takashi\\Miniconda3\\lib\\site-packages\\sklearn\\metrics\\scorer.py:127: DeprecationWarning: Scoring method log_loss was renamed to neg_log_loss in version 0.18 and will be removed in 0.20.\n",
      "  sample_weight=sample_weight)\n"
     ]
    },
    {
     "name": "stdout",
     "output_type": "stream",
     "text": [
      "[CV]  max_depth=6, colsample_bytree=0.913122075137, subsample=0.699020638607 -   0.0s\n",
      "[CV] max_depth=6, colsample_bytree=0.913122075137, subsample=0.699020638607 \n",
      "[CV]  max_depth=6, colsample_bytree=0.913122075137, subsample=0.699020638607 -   0.0s\n",
      "[CV] max_depth=6, colsample_bytree=0.913122075137, subsample=0.699020638607 \n",
      "[CV]  max_depth=6, colsample_bytree=0.913122075137, subsample=0.699020638607 -   0.0s\n",
      "[CV] max_depth=6, colsample_bytree=0.913122075137, subsample=0.699020638607 \n"
     ]
    },
    {
     "name": "stderr",
     "output_type": "stream",
     "text": [
      "C:\\Users\\Takashi\\Miniconda3\\lib\\site-packages\\sklearn\\metrics\\scorer.py:127: DeprecationWarning: Scoring method log_loss was renamed to neg_log_loss in version 0.18 and will be removed in 0.20.\n",
      "  sample_weight=sample_weight)\n",
      "C:\\Users\\Takashi\\Miniconda3\\lib\\site-packages\\sklearn\\metrics\\scorer.py:127: DeprecationWarning: Scoring method log_loss was renamed to neg_log_loss in version 0.18 and will be removed in 0.20.\n",
      "  sample_weight=sample_weight)\n",
      "C:\\Users\\Takashi\\Miniconda3\\lib\\site-packages\\sklearn\\metrics\\scorer.py:127: DeprecationWarning: Scoring method log_loss was renamed to neg_log_loss in version 0.18 and will be removed in 0.20.\n",
      "  sample_weight=sample_weight)\n"
     ]
    },
    {
     "name": "stdout",
     "output_type": "stream",
     "text": [
      "[CV]  max_depth=6, colsample_bytree=0.913122075137, subsample=0.699020638607 -   0.0s\n",
      "[CV] max_depth=6, colsample_bytree=0.913122075137, subsample=0.699020638607 \n",
      "[CV]  max_depth=6, colsample_bytree=0.913122075137, subsample=0.699020638607 -   0.0s\n",
      "[CV] max_depth=6, colsample_bytree=0.913122075137, subsample=0.699020638607 \n",
      "[CV]  max_depth=6, colsample_bytree=0.913122075137, subsample=0.699020638607 -   0.0s\n",
      "[CV] max_depth=6, colsample_bytree=0.913122075137, subsample=0.699020638607 \n"
     ]
    },
    {
     "name": "stderr",
     "output_type": "stream",
     "text": [
      "C:\\Users\\Takashi\\Miniconda3\\lib\\site-packages\\sklearn\\metrics\\scorer.py:127: DeprecationWarning: Scoring method log_loss was renamed to neg_log_loss in version 0.18 and will be removed in 0.20.\n",
      "  sample_weight=sample_weight)\n",
      "C:\\Users\\Takashi\\Miniconda3\\lib\\site-packages\\sklearn\\metrics\\scorer.py:127: DeprecationWarning: Scoring method log_loss was renamed to neg_log_loss in version 0.18 and will be removed in 0.20.\n",
      "  sample_weight=sample_weight)\n",
      "C:\\Users\\Takashi\\Miniconda3\\lib\\site-packages\\sklearn\\metrics\\scorer.py:127: DeprecationWarning: Scoring method log_loss was renamed to neg_log_loss in version 0.18 and will be removed in 0.20.\n",
      "  sample_weight=sample_weight)\n",
      "C:\\Users\\Takashi\\Miniconda3\\lib\\site-packages\\sklearn\\metrics\\scorer.py:127: DeprecationWarning: Scoring method log_loss was renamed to neg_log_loss in version 0.18 and will be removed in 0.20.\n",
      "  sample_weight=sample_weight)\n"
     ]
    },
    {
     "name": "stdout",
     "output_type": "stream",
     "text": [
      "[CV]  max_depth=6, colsample_bytree=0.913122075137, subsample=0.699020638607 -   0.0s\n",
      "[CV] max_depth=6, colsample_bytree=0.913122075137, subsample=0.699020638607 \n",
      "[CV]  max_depth=6, colsample_bytree=0.913122075137, subsample=0.699020638607 -   0.0s\n",
      "[CV] max_depth=6, colsample_bytree=0.913122075137, subsample=0.699020638607 \n",
      "[CV]  max_depth=6, colsample_bytree=0.913122075137, subsample=0.699020638607 -   0.0s\n",
      "[CV] max_depth=2, colsample_bytree=0.616148400644, subsample=0.838848076413 \n",
      "[CV]  max_depth=2, colsample_bytree=0.616148400644, subsample=0.838848076413 -   0.0s\n",
      "[CV] max_depth=2, colsample_bytree=0.616148400644, subsample=0.838848076413 \n"
     ]
    },
    {
     "name": "stderr",
     "output_type": "stream",
     "text": [
      "C:\\Users\\Takashi\\Miniconda3\\lib\\site-packages\\sklearn\\metrics\\scorer.py:127: DeprecationWarning: Scoring method log_loss was renamed to neg_log_loss in version 0.18 and will be removed in 0.20.\n",
      "  sample_weight=sample_weight)\n",
      "C:\\Users\\Takashi\\Miniconda3\\lib\\site-packages\\sklearn\\metrics\\scorer.py:127: DeprecationWarning: Scoring method log_loss was renamed to neg_log_loss in version 0.18 and will be removed in 0.20.\n",
      "  sample_weight=sample_weight)\n",
      "C:\\Users\\Takashi\\Miniconda3\\lib\\site-packages\\sklearn\\metrics\\scorer.py:127: DeprecationWarning: Scoring method log_loss was renamed to neg_log_loss in version 0.18 and will be removed in 0.20.\n",
      "  sample_weight=sample_weight)\n",
      "C:\\Users\\Takashi\\Miniconda3\\lib\\site-packages\\sklearn\\metrics\\scorer.py:127: DeprecationWarning: Scoring method log_loss was renamed to neg_log_loss in version 0.18 and will be removed in 0.20.\n",
      "  sample_weight=sample_weight)\n",
      "C:\\Users\\Takashi\\Miniconda3\\lib\\site-packages\\sklearn\\metrics\\scorer.py:127: DeprecationWarning: Scoring method log_loss was renamed to neg_log_loss in version 0.18 and will be removed in 0.20.\n",
      "  sample_weight=sample_weight)\n",
      "C:\\Users\\Takashi\\Miniconda3\\lib\\site-packages\\sklearn\\metrics\\scorer.py:127: DeprecationWarning: Scoring method log_loss was renamed to neg_log_loss in version 0.18 and will be removed in 0.20.\n",
      "  sample_weight=sample_weight)\n"
     ]
    },
    {
     "name": "stdout",
     "output_type": "stream",
     "text": [
      "[CV]  max_depth=2, colsample_bytree=0.616148400644, subsample=0.838848076413 -   0.0s\n",
      "[CV] max_depth=2, colsample_bytree=0.616148400644, subsample=0.838848076413 \n",
      "[CV]  max_depth=2, colsample_bytree=0.616148400644, subsample=0.838848076413 -   0.0s\n",
      "[CV] max_depth=2, colsample_bytree=0.616148400644, subsample=0.838848076413 \n",
      "[CV]  max_depth=2, colsample_bytree=0.616148400644, subsample=0.838848076413 -   0.0s\n",
      "[CV] max_depth=2, colsample_bytree=0.616148400644, subsample=0.838848076413 \n",
      "[CV]  max_depth=2, colsample_bytree=0.616148400644, subsample=0.838848076413 -   0.0s\n",
      "[CV] max_depth=2, colsample_bytree=0.616148400644, subsample=0.838848076413 \n",
      "[CV]  max_depth=2, colsample_bytree=0.616148400644, subsample=0.838848076413 -   0.0s\n",
      "[CV] max_depth=2, colsample_bytree=0.616148400644, subsample=0.838848076413 \n",
      "[CV]  max_depth=2, colsample_bytree=0.616148400644, subsample=0.838848076413 -   0.0s\n",
      "[CV] max_depth=2, colsample_bytree=0.616148400644, subsample=0.838848076413 \n"
     ]
    },
    {
     "name": "stderr",
     "output_type": "stream",
     "text": [
      "C:\\Users\\Takashi\\Miniconda3\\lib\\site-packages\\sklearn\\metrics\\scorer.py:127: DeprecationWarning: Scoring method log_loss was renamed to neg_log_loss in version 0.18 and will be removed in 0.20.\n",
      "  sample_weight=sample_weight)\n",
      "C:\\Users\\Takashi\\Miniconda3\\lib\\site-packages\\sklearn\\metrics\\scorer.py:127: DeprecationWarning: Scoring method log_loss was renamed to neg_log_loss in version 0.18 and will be removed in 0.20.\n",
      "  sample_weight=sample_weight)\n",
      "C:\\Users\\Takashi\\Miniconda3\\lib\\site-packages\\sklearn\\metrics\\scorer.py:127: DeprecationWarning: Scoring method log_loss was renamed to neg_log_loss in version 0.18 and will be removed in 0.20.\n",
      "  sample_weight=sample_weight)\n",
      "C:\\Users\\Takashi\\Miniconda3\\lib\\site-packages\\sklearn\\metrics\\scorer.py:127: DeprecationWarning: Scoring method log_loss was renamed to neg_log_loss in version 0.18 and will be removed in 0.20.\n",
      "  sample_weight=sample_weight)\n",
      "C:\\Users\\Takashi\\Miniconda3\\lib\\site-packages\\sklearn\\metrics\\scorer.py:127: DeprecationWarning: Scoring method log_loss was renamed to neg_log_loss in version 0.18 and will be removed in 0.20.\n",
      "  sample_weight=sample_weight)\n",
      "C:\\Users\\Takashi\\Miniconda3\\lib\\site-packages\\sklearn\\metrics\\scorer.py:127: DeprecationWarning: Scoring method log_loss was renamed to neg_log_loss in version 0.18 and will be removed in 0.20.\n",
      "  sample_weight=sample_weight)\n",
      "C:\\Users\\Takashi\\Miniconda3\\lib\\site-packages\\sklearn\\metrics\\scorer.py:127: DeprecationWarning: Scoring method log_loss was renamed to neg_log_loss in version 0.18 and will be removed in 0.20.\n",
      "  sample_weight=sample_weight)\n",
      "C:\\Users\\Takashi\\Miniconda3\\lib\\site-packages\\sklearn\\metrics\\scorer.py:127: DeprecationWarning: Scoring method log_loss was renamed to neg_log_loss in version 0.18 and will be removed in 0.20.\n",
      "  sample_weight=sample_weight)\n"
     ]
    },
    {
     "name": "stdout",
     "output_type": "stream",
     "text": [
      "[CV]  max_depth=2, colsample_bytree=0.616148400644, subsample=0.838848076413 -   0.0s\n",
      "[CV] max_depth=2, colsample_bytree=0.616148400644, subsample=0.838848076413 \n",
      "[CV]  max_depth=2, colsample_bytree=0.616148400644, subsample=0.838848076413 -   0.0s\n",
      "[CV] max_depth=2, colsample_bytree=0.616148400644, subsample=0.838848076413 \n",
      "[CV]  max_depth=2, colsample_bytree=0.616148400644, subsample=0.838848076413 -   0.0s\n",
      "[CV] max_depth=1, colsample_bytree=0.815501070094, subsample=0.948625869685 \n",
      "[CV]  max_depth=1, colsample_bytree=0.815501070094, subsample=0.948625869685 -   0.0s\n",
      "[CV] max_depth=1, colsample_bytree=0.815501070094, subsample=0.948625869685 \n",
      "[CV]  max_depth=1, colsample_bytree=0.815501070094, subsample=0.948625869685 -   0.0s\n",
      "[CV] max_depth=1, colsample_bytree=0.815501070094, subsample=0.948625869685 \n",
      "[CV]  max_depth=1, colsample_bytree=0.815501070094, subsample=0.948625869685 -   0.0s\n",
      "[CV] max_depth=1, colsample_bytree=0.815501070094, subsample=0.948625869685 \n",
      "[CV]  max_depth=1, colsample_bytree=0.815501070094, subsample=0.948625869685 -   0.0s\n",
      "[CV] max_depth=1, colsample_bytree=0.815501070094, subsample=0.948625869685 \n",
      "[CV]  max_depth=1, colsample_bytree=0.815501070094, subsample=0.948625869685 -   0.0s\n",
      "[CV] max_depth=1, colsample_bytree=0.815501070094, subsample=0.948625869685 \n"
     ]
    },
    {
     "name": "stderr",
     "output_type": "stream",
     "text": [
      "C:\\Users\\Takashi\\Miniconda3\\lib\\site-packages\\sklearn\\metrics\\scorer.py:127: DeprecationWarning: Scoring method log_loss was renamed to neg_log_loss in version 0.18 and will be removed in 0.20.\n",
      "  sample_weight=sample_weight)\n",
      "C:\\Users\\Takashi\\Miniconda3\\lib\\site-packages\\sklearn\\metrics\\scorer.py:127: DeprecationWarning: Scoring method log_loss was renamed to neg_log_loss in version 0.18 and will be removed in 0.20.\n",
      "  sample_weight=sample_weight)\n",
      "C:\\Users\\Takashi\\Miniconda3\\lib\\site-packages\\sklearn\\metrics\\scorer.py:127: DeprecationWarning: Scoring method log_loss was renamed to neg_log_loss in version 0.18 and will be removed in 0.20.\n",
      "  sample_weight=sample_weight)\n",
      "C:\\Users\\Takashi\\Miniconda3\\lib\\site-packages\\sklearn\\metrics\\scorer.py:127: DeprecationWarning: Scoring method log_loss was renamed to neg_log_loss in version 0.18 and will be removed in 0.20.\n",
      "  sample_weight=sample_weight)\n",
      "C:\\Users\\Takashi\\Miniconda3\\lib\\site-packages\\sklearn\\metrics\\scorer.py:127: DeprecationWarning: Scoring method log_loss was renamed to neg_log_loss in version 0.18 and will be removed in 0.20.\n",
      "  sample_weight=sample_weight)\n"
     ]
    },
    {
     "name": "stdout",
     "output_type": "stream",
     "text": [
      "[CV]  max_depth=1, colsample_bytree=0.815501070094, subsample=0.948625869685 -   0.0s\n",
      "[CV] max_depth=1, colsample_bytree=0.815501070094, subsample=0.948625869685 \n",
      "[CV]  max_depth=1, colsample_bytree=0.815501070094, subsample=0.948625869685 -   0.0s\n",
      "[CV] max_depth=1, colsample_bytree=0.815501070094, subsample=0.948625869685 \n",
      "[CV]  max_depth=1, colsample_bytree=0.815501070094, subsample=0.948625869685 -   0.0s\n",
      "[CV] max_depth=1, colsample_bytree=0.815501070094, subsample=0.948625869685 \n",
      "[CV]  max_depth=1, colsample_bytree=0.815501070094, subsample=0.948625869685 -   0.0s\n",
      "[CV] max_depth=1, colsample_bytree=0.815501070094, subsample=0.948625869685 \n",
      "[CV]  max_depth=1, colsample_bytree=0.815501070094, subsample=0.948625869685 -   0.0s\n",
      "[CV] max_depth=8, colsample_bytree=0.575148087577, subsample=0.634123188069 \n"
     ]
    },
    {
     "name": "stderr",
     "output_type": "stream",
     "text": [
      "C:\\Users\\Takashi\\Miniconda3\\lib\\site-packages\\sklearn\\metrics\\scorer.py:127: DeprecationWarning: Scoring method log_loss was renamed to neg_log_loss in version 0.18 and will be removed in 0.20.\n",
      "  sample_weight=sample_weight)\n",
      "C:\\Users\\Takashi\\Miniconda3\\lib\\site-packages\\sklearn\\metrics\\scorer.py:127: DeprecationWarning: Scoring method log_loss was renamed to neg_log_loss in version 0.18 and will be removed in 0.20.\n",
      "  sample_weight=sample_weight)\n",
      "C:\\Users\\Takashi\\Miniconda3\\lib\\site-packages\\sklearn\\metrics\\scorer.py:127: DeprecationWarning: Scoring method log_loss was renamed to neg_log_loss in version 0.18 and will be removed in 0.20.\n",
      "  sample_weight=sample_weight)\n"
     ]
    },
    {
     "name": "stdout",
     "output_type": "stream",
     "text": [
      "[CV]  max_depth=8, colsample_bytree=0.575148087577, subsample=0.634123188069 -   0.0s\n",
      "[CV] max_depth=8, colsample_bytree=0.575148087577, subsample=0.634123188069 \n",
      "[CV]  max_depth=8, colsample_bytree=0.575148087577, subsample=0.634123188069 -   0.0s\n",
      "[CV] max_depth=8, colsample_bytree=0.575148087577, subsample=0.634123188069 \n",
      "[CV]  max_depth=8, colsample_bytree=0.575148087577, subsample=0.634123188069 -   0.0s\n",
      "[CV] max_depth=8, colsample_bytree=0.575148087577, subsample=0.634123188069 \n"
     ]
    },
    {
     "name": "stderr",
     "output_type": "stream",
     "text": [
      "C:\\Users\\Takashi\\Miniconda3\\lib\\site-packages\\sklearn\\metrics\\scorer.py:127: DeprecationWarning: Scoring method log_loss was renamed to neg_log_loss in version 0.18 and will be removed in 0.20.\n",
      "  sample_weight=sample_weight)\n",
      "C:\\Users\\Takashi\\Miniconda3\\lib\\site-packages\\sklearn\\metrics\\scorer.py:127: DeprecationWarning: Scoring method log_loss was renamed to neg_log_loss in version 0.18 and will be removed in 0.20.\n",
      "  sample_weight=sample_weight)\n",
      "C:\\Users\\Takashi\\Miniconda3\\lib\\site-packages\\sklearn\\metrics\\scorer.py:127: DeprecationWarning: Scoring method log_loss was renamed to neg_log_loss in version 0.18 and will be removed in 0.20.\n",
      "  sample_weight=sample_weight)\n"
     ]
    },
    {
     "name": "stdout",
     "output_type": "stream",
     "text": [
      "[CV]  max_depth=8, colsample_bytree=0.575148087577, subsample=0.634123188069 -   0.0s\n",
      "[CV] max_depth=8, colsample_bytree=0.575148087577, subsample=0.634123188069 \n",
      "[CV]  max_depth=8, colsample_bytree=0.575148087577, subsample=0.634123188069 -   0.0s\n",
      "[CV] max_depth=8, colsample_bytree=0.575148087577, subsample=0.634123188069 \n",
      "[CV]  max_depth=8, colsample_bytree=0.575148087577, subsample=0.634123188069 -   0.0s\n",
      "[CV] max_depth=8, colsample_bytree=0.575148087577, subsample=0.634123188069 \n"
     ]
    },
    {
     "name": "stderr",
     "output_type": "stream",
     "text": [
      "C:\\Users\\Takashi\\Miniconda3\\lib\\site-packages\\sklearn\\metrics\\scorer.py:127: DeprecationWarning: Scoring method log_loss was renamed to neg_log_loss in version 0.18 and will be removed in 0.20.\n",
      "  sample_weight=sample_weight)\n",
      "C:\\Users\\Takashi\\Miniconda3\\lib\\site-packages\\sklearn\\metrics\\scorer.py:127: DeprecationWarning: Scoring method log_loss was renamed to neg_log_loss in version 0.18 and will be removed in 0.20.\n",
      "  sample_weight=sample_weight)\n",
      "C:\\Users\\Takashi\\Miniconda3\\lib\\site-packages\\sklearn\\metrics\\scorer.py:127: DeprecationWarning: Scoring method log_loss was renamed to neg_log_loss in version 0.18 and will be removed in 0.20.\n",
      "  sample_weight=sample_weight)\n"
     ]
    },
    {
     "name": "stdout",
     "output_type": "stream",
     "text": [
      "[CV]  max_depth=8, colsample_bytree=0.575148087577, subsample=0.634123188069 -   0.0s\n",
      "[CV] max_depth=8, colsample_bytree=0.575148087577, subsample=0.634123188069 \n",
      "[CV]  max_depth=8, colsample_bytree=0.575148087577, subsample=0.634123188069 -   0.0s\n",
      "[CV] max_depth=8, colsample_bytree=0.575148087577, subsample=0.634123188069 \n",
      "[CV]  max_depth=8, colsample_bytree=0.575148087577, subsample=0.634123188069 -   0.0s\n",
      "[CV] max_depth=8, colsample_bytree=0.575148087577, subsample=0.634123188069 \n"
     ]
    },
    {
     "name": "stderr",
     "output_type": "stream",
     "text": [
      "C:\\Users\\Takashi\\Miniconda3\\lib\\site-packages\\sklearn\\metrics\\scorer.py:127: DeprecationWarning: Scoring method log_loss was renamed to neg_log_loss in version 0.18 and will be removed in 0.20.\n",
      "  sample_weight=sample_weight)\n",
      "C:\\Users\\Takashi\\Miniconda3\\lib\\site-packages\\sklearn\\metrics\\scorer.py:127: DeprecationWarning: Scoring method log_loss was renamed to neg_log_loss in version 0.18 and will be removed in 0.20.\n",
      "  sample_weight=sample_weight)\n",
      "C:\\Users\\Takashi\\Miniconda3\\lib\\site-packages\\sklearn\\metrics\\scorer.py:127: DeprecationWarning: Scoring method log_loss was renamed to neg_log_loss in version 0.18 and will be removed in 0.20.\n",
      "  sample_weight=sample_weight)\n",
      "C:\\Users\\Takashi\\Miniconda3\\lib\\site-packages\\sklearn\\metrics\\scorer.py:127: DeprecationWarning: Scoring method log_loss was renamed to neg_log_loss in version 0.18 and will be removed in 0.20.\n",
      "  sample_weight=sample_weight)\n"
     ]
    },
    {
     "name": "stdout",
     "output_type": "stream",
     "text": [
      "[CV]  max_depth=8, colsample_bytree=0.575148087577, subsample=0.634123188069 -   0.0s\n",
      "[CV] max_depth=4, colsample_bytree=0.56216400899, subsample=0.652983266875 \n",
      "[CV]  max_depth=4, colsample_bytree=0.56216400899, subsample=0.652983266875 -   0.0s\n",
      "[CV] max_depth=4, colsample_bytree=0.56216400899, subsample=0.652983266875 \n",
      "[CV]  max_depth=4, colsample_bytree=0.56216400899, subsample=0.652983266875 -   0.0s\n",
      "[CV] max_depth=4, colsample_bytree=0.56216400899, subsample=0.652983266875 \n",
      "[CV]  max_depth=4, colsample_bytree=0.56216400899, subsample=0.652983266875 -   0.0s\n",
      "[CV] max_depth=4, colsample_bytree=0.56216400899, subsample=0.652983266875 \n"
     ]
    },
    {
     "name": "stderr",
     "output_type": "stream",
     "text": [
      "C:\\Users\\Takashi\\Miniconda3\\lib\\site-packages\\sklearn\\metrics\\scorer.py:127: DeprecationWarning: Scoring method log_loss was renamed to neg_log_loss in version 0.18 and will be removed in 0.20.\n",
      "  sample_weight=sample_weight)\n",
      "C:\\Users\\Takashi\\Miniconda3\\lib\\site-packages\\sklearn\\metrics\\scorer.py:127: DeprecationWarning: Scoring method log_loss was renamed to neg_log_loss in version 0.18 and will be removed in 0.20.\n",
      "  sample_weight=sample_weight)\n",
      "C:\\Users\\Takashi\\Miniconda3\\lib\\site-packages\\sklearn\\metrics\\scorer.py:127: DeprecationWarning: Scoring method log_loss was renamed to neg_log_loss in version 0.18 and will be removed in 0.20.\n",
      "  sample_weight=sample_weight)\n",
      "C:\\Users\\Takashi\\Miniconda3\\lib\\site-packages\\sklearn\\metrics\\scorer.py:127: DeprecationWarning: Scoring method log_loss was renamed to neg_log_loss in version 0.18 and will be removed in 0.20.\n",
      "  sample_weight=sample_weight)\n"
     ]
    },
    {
     "name": "stdout",
     "output_type": "stream",
     "text": [
      "[CV]  max_depth=4, colsample_bytree=0.56216400899, subsample=0.652983266875 -   0.0s\n",
      "[CV] max_depth=4, colsample_bytree=0.56216400899, subsample=0.652983266875 \n",
      "[CV]  max_depth=4, colsample_bytree=0.56216400899, subsample=0.652983266875 -   0.0s\n",
      "[CV] max_depth=4, colsample_bytree=0.56216400899, subsample=0.652983266875 \n",
      "[CV]  max_depth=4, colsample_bytree=0.56216400899, subsample=0.652983266875 -   0.0s\n",
      "[CV] max_depth=4, colsample_bytree=0.56216400899, subsample=0.652983266875 \n",
      "[CV]  max_depth=4, colsample_bytree=0.56216400899, subsample=0.652983266875 -   0.0s\n",
      "[CV] max_depth=4, colsample_bytree=0.56216400899, subsample=0.652983266875 \n"
     ]
    },
    {
     "name": "stderr",
     "output_type": "stream",
     "text": [
      "C:\\Users\\Takashi\\Miniconda3\\lib\\site-packages\\sklearn\\metrics\\scorer.py:127: DeprecationWarning: Scoring method log_loss was renamed to neg_log_loss in version 0.18 and will be removed in 0.20.\n",
      "  sample_weight=sample_weight)\n",
      "C:\\Users\\Takashi\\Miniconda3\\lib\\site-packages\\sklearn\\metrics\\scorer.py:127: DeprecationWarning: Scoring method log_loss was renamed to neg_log_loss in version 0.18 and will be removed in 0.20.\n",
      "  sample_weight=sample_weight)\n",
      "C:\\Users\\Takashi\\Miniconda3\\lib\\site-packages\\sklearn\\metrics\\scorer.py:127: DeprecationWarning: Scoring method log_loss was renamed to neg_log_loss in version 0.18 and will be removed in 0.20.\n",
      "  sample_weight=sample_weight)\n",
      "C:\\Users\\Takashi\\Miniconda3\\lib\\site-packages\\sklearn\\metrics\\scorer.py:127: DeprecationWarning: Scoring method log_loss was renamed to neg_log_loss in version 0.18 and will be removed in 0.20.\n",
      "  sample_weight=sample_weight)\n"
     ]
    },
    {
     "name": "stdout",
     "output_type": "stream",
     "text": [
      "[CV]  max_depth=4, colsample_bytree=0.56216400899, subsample=0.652983266875 -   0.0s\n",
      "[CV] max_depth=4, colsample_bytree=0.56216400899, subsample=0.652983266875 \n",
      "[CV]  max_depth=4, colsample_bytree=0.56216400899, subsample=0.652983266875 -   0.0s\n",
      "[CV] max_depth=4, colsample_bytree=0.56216400899, subsample=0.652983266875 \n",
      "[CV]  max_depth=4, colsample_bytree=0.56216400899, subsample=0.652983266875 -   0.0s\n",
      "[CV] max_depth=3, colsample_bytree=0.795485896176, subsample=0.532980225102 \n",
      "[CV]  max_depth=3, colsample_bytree=0.795485896176, subsample=0.532980225102 -   0.0s\n",
      "[CV] max_depth=3, colsample_bytree=0.795485896176, subsample=0.532980225102 \n"
     ]
    },
    {
     "name": "stderr",
     "output_type": "stream",
     "text": [
      "C:\\Users\\Takashi\\Miniconda3\\lib\\site-packages\\sklearn\\metrics\\scorer.py:127: DeprecationWarning: Scoring method log_loss was renamed to neg_log_loss in version 0.18 and will be removed in 0.20.\n",
      "  sample_weight=sample_weight)\n",
      "C:\\Users\\Takashi\\Miniconda3\\lib\\site-packages\\sklearn\\metrics\\scorer.py:127: DeprecationWarning: Scoring method log_loss was renamed to neg_log_loss in version 0.18 and will be removed in 0.20.\n",
      "  sample_weight=sample_weight)\n",
      "C:\\Users\\Takashi\\Miniconda3\\lib\\site-packages\\sklearn\\metrics\\scorer.py:127: DeprecationWarning: Scoring method log_loss was renamed to neg_log_loss in version 0.18 and will be removed in 0.20.\n",
      "  sample_weight=sample_weight)\n",
      "C:\\Users\\Takashi\\Miniconda3\\lib\\site-packages\\sklearn\\metrics\\scorer.py:127: DeprecationWarning: Scoring method log_loss was renamed to neg_log_loss in version 0.18 and will be removed in 0.20.\n",
      "  sample_weight=sample_weight)\n",
      "C:\\Users\\Takashi\\Miniconda3\\lib\\site-packages\\sklearn\\metrics\\scorer.py:127: DeprecationWarning: Scoring method log_loss was renamed to neg_log_loss in version 0.18 and will be removed in 0.20.\n",
      "  sample_weight=sample_weight)\n"
     ]
    },
    {
     "name": "stdout",
     "output_type": "stream",
     "text": [
      "[CV]  max_depth=3, colsample_bytree=0.795485896176, subsample=0.532980225102 -   0.0s\n",
      "[CV] max_depth=3, colsample_bytree=0.795485896176, subsample=0.532980225102 \n",
      "[CV]  max_depth=3, colsample_bytree=0.795485896176, subsample=0.532980225102 -   0.0s\n",
      "[CV] max_depth=3, colsample_bytree=0.795485896176, subsample=0.532980225102 \n",
      "[CV]  max_depth=3, colsample_bytree=0.795485896176, subsample=0.532980225102 -   0.0s\n",
      "[CV] max_depth=3, colsample_bytree=0.795485896176, subsample=0.532980225102 \n",
      "[CV]  max_depth=3, colsample_bytree=0.795485896176, subsample=0.532980225102 -   0.0s\n",
      "[CV] max_depth=3, colsample_bytree=0.795485896176, subsample=0.532980225102 \n",
      "[CV]  max_depth=3, colsample_bytree=0.795485896176, subsample=0.532980225102 -   0.0s\n",
      "[CV] max_depth=3, colsample_bytree=0.795485896176, subsample=0.532980225102 \n"
     ]
    },
    {
     "name": "stderr",
     "output_type": "stream",
     "text": [
      "C:\\Users\\Takashi\\Miniconda3\\lib\\site-packages\\sklearn\\metrics\\scorer.py:127: DeprecationWarning: Scoring method log_loss was renamed to neg_log_loss in version 0.18 and will be removed in 0.20.\n",
      "  sample_weight=sample_weight)\n",
      "C:\\Users\\Takashi\\Miniconda3\\lib\\site-packages\\sklearn\\metrics\\scorer.py:127: DeprecationWarning: Scoring method log_loss was renamed to neg_log_loss in version 0.18 and will be removed in 0.20.\n",
      "  sample_weight=sample_weight)\n",
      "C:\\Users\\Takashi\\Miniconda3\\lib\\site-packages\\sklearn\\metrics\\scorer.py:127: DeprecationWarning: Scoring method log_loss was renamed to neg_log_loss in version 0.18 and will be removed in 0.20.\n",
      "  sample_weight=sample_weight)\n",
      "C:\\Users\\Takashi\\Miniconda3\\lib\\site-packages\\sklearn\\metrics\\scorer.py:127: DeprecationWarning: Scoring method log_loss was renamed to neg_log_loss in version 0.18 and will be removed in 0.20.\n",
      "  sample_weight=sample_weight)\n"
     ]
    },
    {
     "name": "stdout",
     "output_type": "stream",
     "text": [
      "[CV]  max_depth=3, colsample_bytree=0.795485896176, subsample=0.532980225102 -   0.0s\n",
      "[CV] max_depth=3, colsample_bytree=0.795485896176, subsample=0.532980225102 \n",
      "[CV]  max_depth=3, colsample_bytree=0.795485896176, subsample=0.532980225102 -   0.0s\n",
      "[CV] max_depth=3, colsample_bytree=0.795485896176, subsample=0.532980225102 \n",
      "[CV]  max_depth=3, colsample_bytree=0.795485896176, subsample=0.532980225102 -   0.0s\n",
      "[CV] max_depth=3, colsample_bytree=0.795485896176, subsample=0.532980225102 \n",
      "[CV]  max_depth=3, colsample_bytree=0.795485896176, subsample=0.532980225102 -   0.0s\n",
      "[CV] max_depth=10, colsample_bytree=0.57648330568, subsample=0.985012606942 \n"
     ]
    },
    {
     "name": "stderr",
     "output_type": "stream",
     "text": [
      "C:\\Users\\Takashi\\Miniconda3\\lib\\site-packages\\sklearn\\metrics\\scorer.py:127: DeprecationWarning: Scoring method log_loss was renamed to neg_log_loss in version 0.18 and will be removed in 0.20.\n",
      "  sample_weight=sample_weight)\n",
      "C:\\Users\\Takashi\\Miniconda3\\lib\\site-packages\\sklearn\\metrics\\scorer.py:127: DeprecationWarning: Scoring method log_loss was renamed to neg_log_loss in version 0.18 and will be removed in 0.20.\n",
      "  sample_weight=sample_weight)\n"
     ]
    },
    {
     "name": "stdout",
     "output_type": "stream",
     "text": [
      "[CV]  max_depth=10, colsample_bytree=0.57648330568, subsample=0.985012606942 -   0.0s\n",
      "[CV] max_depth=10, colsample_bytree=0.57648330568, subsample=0.985012606942 \n",
      "[CV]  max_depth=10, colsample_bytree=0.57648330568, subsample=0.985012606942 -   0.0s\n",
      "[CV] max_depth=10, colsample_bytree=0.57648330568, subsample=0.985012606942 \n"
     ]
    },
    {
     "name": "stderr",
     "output_type": "stream",
     "text": [
      "C:\\Users\\Takashi\\Miniconda3\\lib\\site-packages\\sklearn\\metrics\\scorer.py:127: DeprecationWarning: Scoring method log_loss was renamed to neg_log_loss in version 0.18 and will be removed in 0.20.\n",
      "  sample_weight=sample_weight)\n",
      "C:\\Users\\Takashi\\Miniconda3\\lib\\site-packages\\sklearn\\metrics\\scorer.py:127: DeprecationWarning: Scoring method log_loss was renamed to neg_log_loss in version 0.18 and will be removed in 0.20.\n",
      "  sample_weight=sample_weight)\n"
     ]
    },
    {
     "name": "stdout",
     "output_type": "stream",
     "text": [
      "[CV]  max_depth=10, colsample_bytree=0.57648330568, subsample=0.985012606942 -   0.0s\n",
      "[CV] max_depth=10, colsample_bytree=0.57648330568, subsample=0.985012606942 \n",
      "[CV]  max_depth=10, colsample_bytree=0.57648330568, subsample=0.985012606942 -   0.0s\n",
      "[CV] max_depth=10, colsample_bytree=0.57648330568, subsample=0.985012606942 \n"
     ]
    },
    {
     "name": "stderr",
     "output_type": "stream",
     "text": [
      "C:\\Users\\Takashi\\Miniconda3\\lib\\site-packages\\sklearn\\metrics\\scorer.py:127: DeprecationWarning: Scoring method log_loss was renamed to neg_log_loss in version 0.18 and will be removed in 0.20.\n",
      "  sample_weight=sample_weight)\n",
      "C:\\Users\\Takashi\\Miniconda3\\lib\\site-packages\\sklearn\\metrics\\scorer.py:127: DeprecationWarning: Scoring method log_loss was renamed to neg_log_loss in version 0.18 and will be removed in 0.20.\n",
      "  sample_weight=sample_weight)\n"
     ]
    },
    {
     "name": "stdout",
     "output_type": "stream",
     "text": [
      "[CV]  max_depth=10, colsample_bytree=0.57648330568, subsample=0.985012606942 -   0.0s\n",
      "[CV] max_depth=10, colsample_bytree=0.57648330568, subsample=0.985012606942 \n",
      "[CV]  max_depth=10, colsample_bytree=0.57648330568, subsample=0.985012606942 -   0.0s\n",
      "[CV] max_depth=10, colsample_bytree=0.57648330568, subsample=0.985012606942 \n"
     ]
    },
    {
     "name": "stderr",
     "output_type": "stream",
     "text": [
      "C:\\Users\\Takashi\\Miniconda3\\lib\\site-packages\\sklearn\\metrics\\scorer.py:127: DeprecationWarning: Scoring method log_loss was renamed to neg_log_loss in version 0.18 and will be removed in 0.20.\n",
      "  sample_weight=sample_weight)\n",
      "C:\\Users\\Takashi\\Miniconda3\\lib\\site-packages\\sklearn\\metrics\\scorer.py:127: DeprecationWarning: Scoring method log_loss was renamed to neg_log_loss in version 0.18 and will be removed in 0.20.\n",
      "  sample_weight=sample_weight)\n"
     ]
    },
    {
     "name": "stdout",
     "output_type": "stream",
     "text": [
      "[CV]  max_depth=10, colsample_bytree=0.57648330568, subsample=0.985012606942 -   0.0s\n",
      "[CV] max_depth=10, colsample_bytree=0.57648330568, subsample=0.985012606942 \n",
      "[CV]  max_depth=10, colsample_bytree=0.57648330568, subsample=0.985012606942 -   0.0s\n",
      "[CV] max_depth=10, colsample_bytree=0.57648330568, subsample=0.985012606942 \n"
     ]
    },
    {
     "name": "stderr",
     "output_type": "stream",
     "text": [
      "C:\\Users\\Takashi\\Miniconda3\\lib\\site-packages\\sklearn\\metrics\\scorer.py:127: DeprecationWarning: Scoring method log_loss was renamed to neg_log_loss in version 0.18 and will be removed in 0.20.\n",
      "  sample_weight=sample_weight)\n",
      "C:\\Users\\Takashi\\Miniconda3\\lib\\site-packages\\sklearn\\metrics\\scorer.py:127: DeprecationWarning: Scoring method log_loss was renamed to neg_log_loss in version 0.18 and will be removed in 0.20.\n",
      "  sample_weight=sample_weight)\n",
      "C:\\Users\\Takashi\\Miniconda3\\lib\\site-packages\\sklearn\\metrics\\scorer.py:127: DeprecationWarning: Scoring method log_loss was renamed to neg_log_loss in version 0.18 and will be removed in 0.20.\n",
      "  sample_weight=sample_weight)\n"
     ]
    },
    {
     "name": "stdout",
     "output_type": "stream",
     "text": [
      "[CV]  max_depth=10, colsample_bytree=0.57648330568, subsample=0.985012606942 -   0.0s\n",
      "[CV] max_depth=10, colsample_bytree=0.57648330568, subsample=0.985012606942 \n",
      "[CV]  max_depth=10, colsample_bytree=0.57648330568, subsample=0.985012606942 -   0.0s\n",
      "[CV] max_depth=7, colsample_bytree=0.759461263424, subsample=0.608969897036 \n",
      "[CV]  max_depth=7, colsample_bytree=0.759461263424, subsample=0.608969897036 -   0.0s\n",
      "[CV] max_depth=7, colsample_bytree=0.759461263424, subsample=0.608969897036 \n"
     ]
    },
    {
     "name": "stderr",
     "output_type": "stream",
     "text": [
      "C:\\Users\\Takashi\\Miniconda3\\lib\\site-packages\\sklearn\\metrics\\scorer.py:127: DeprecationWarning: Scoring method log_loss was renamed to neg_log_loss in version 0.18 and will be removed in 0.20.\n",
      "  sample_weight=sample_weight)\n",
      "C:\\Users\\Takashi\\Miniconda3\\lib\\site-packages\\sklearn\\metrics\\scorer.py:127: DeprecationWarning: Scoring method log_loss was renamed to neg_log_loss in version 0.18 and will be removed in 0.20.\n",
      "  sample_weight=sample_weight)\n",
      "C:\\Users\\Takashi\\Miniconda3\\lib\\site-packages\\sklearn\\metrics\\scorer.py:127: DeprecationWarning: Scoring method log_loss was renamed to neg_log_loss in version 0.18 and will be removed in 0.20.\n",
      "  sample_weight=sample_weight)\n"
     ]
    },
    {
     "name": "stdout",
     "output_type": "stream",
     "text": [
      "[CV]  max_depth=7, colsample_bytree=0.759461263424, subsample=0.608969897036 -   0.0s\n",
      "[CV] max_depth=7, colsample_bytree=0.759461263424, subsample=0.608969897036 \n",
      "[CV]  max_depth=7, colsample_bytree=0.759461263424, subsample=0.608969897036 -   0.0s\n",
      "[CV] max_depth=7, colsample_bytree=0.759461263424, subsample=0.608969897036 \n",
      "[CV]  max_depth=7, colsample_bytree=0.759461263424, subsample=0.608969897036 -   0.0s\n",
      "[CV] max_depth=7, colsample_bytree=0.759461263424, subsample=0.608969897036 \n"
     ]
    },
    {
     "name": "stderr",
     "output_type": "stream",
     "text": [
      "C:\\Users\\Takashi\\Miniconda3\\lib\\site-packages\\sklearn\\metrics\\scorer.py:127: DeprecationWarning: Scoring method log_loss was renamed to neg_log_loss in version 0.18 and will be removed in 0.20.\n",
      "  sample_weight=sample_weight)\n",
      "C:\\Users\\Takashi\\Miniconda3\\lib\\site-packages\\sklearn\\metrics\\scorer.py:127: DeprecationWarning: Scoring method log_loss was renamed to neg_log_loss in version 0.18 and will be removed in 0.20.\n",
      "  sample_weight=sample_weight)\n",
      "C:\\Users\\Takashi\\Miniconda3\\lib\\site-packages\\sklearn\\metrics\\scorer.py:127: DeprecationWarning: Scoring method log_loss was renamed to neg_log_loss in version 0.18 and will be removed in 0.20.\n",
      "  sample_weight=sample_weight)\n"
     ]
    },
    {
     "name": "stdout",
     "output_type": "stream",
     "text": [
      "[CV]  max_depth=7, colsample_bytree=0.759461263424, subsample=0.608969897036 -   0.0s\n",
      "[CV] max_depth=7, colsample_bytree=0.759461263424, subsample=0.608969897036 \n",
      "[CV]  max_depth=7, colsample_bytree=0.759461263424, subsample=0.608969897036 -   0.0s\n",
      "[CV] max_depth=7, colsample_bytree=0.759461263424, subsample=0.608969897036 \n",
      "[CV]  max_depth=7, colsample_bytree=0.759461263424, subsample=0.608969897036 -   0.0s\n",
      "[CV] max_depth=7, colsample_bytree=0.759461263424, subsample=0.608969897036 \n"
     ]
    },
    {
     "name": "stderr",
     "output_type": "stream",
     "text": [
      "C:\\Users\\Takashi\\Miniconda3\\lib\\site-packages\\sklearn\\metrics\\scorer.py:127: DeprecationWarning: Scoring method log_loss was renamed to neg_log_loss in version 0.18 and will be removed in 0.20.\n",
      "  sample_weight=sample_weight)\n",
      "C:\\Users\\Takashi\\Miniconda3\\lib\\site-packages\\sklearn\\metrics\\scorer.py:127: DeprecationWarning: Scoring method log_loss was renamed to neg_log_loss in version 0.18 and will be removed in 0.20.\n",
      "  sample_weight=sample_weight)\n",
      "C:\\Users\\Takashi\\Miniconda3\\lib\\site-packages\\sklearn\\metrics\\scorer.py:127: DeprecationWarning: Scoring method log_loss was renamed to neg_log_loss in version 0.18 and will be removed in 0.20.\n",
      "  sample_weight=sample_weight)\n"
     ]
    },
    {
     "name": "stdout",
     "output_type": "stream",
     "text": [
      "[CV]  max_depth=7, colsample_bytree=0.759461263424, subsample=0.608969897036 -   0.0s\n",
      "[CV] max_depth=7, colsample_bytree=0.759461263424, subsample=0.608969897036 \n",
      "[CV]  max_depth=7, colsample_bytree=0.759461263424, subsample=0.608969897036 -   0.0s\n",
      "[CV] max_depth=7, colsample_bytree=0.759461263424, subsample=0.608969897036 \n",
      "[CV]  max_depth=7, colsample_bytree=0.759461263424, subsample=0.608969897036 -   0.0s\n",
      "[CV] max_depth=5, colsample_bytree=0.968250113081, subsample=0.906010940894 \n"
     ]
    },
    {
     "name": "stderr",
     "output_type": "stream",
     "text": [
      "C:\\Users\\Takashi\\Miniconda3\\lib\\site-packages\\sklearn\\metrics\\scorer.py:127: DeprecationWarning: Scoring method log_loss was renamed to neg_log_loss in version 0.18 and will be removed in 0.20.\n",
      "  sample_weight=sample_weight)\n",
      "C:\\Users\\Takashi\\Miniconda3\\lib\\site-packages\\sklearn\\metrics\\scorer.py:127: DeprecationWarning: Scoring method log_loss was renamed to neg_log_loss in version 0.18 and will be removed in 0.20.\n",
      "  sample_weight=sample_weight)\n",
      "C:\\Users\\Takashi\\Miniconda3\\lib\\site-packages\\sklearn\\metrics\\scorer.py:127: DeprecationWarning: Scoring method log_loss was renamed to neg_log_loss in version 0.18 and will be removed in 0.20.\n",
      "  sample_weight=sample_weight)\n"
     ]
    },
    {
     "name": "stdout",
     "output_type": "stream",
     "text": [
      "[CV]  max_depth=5, colsample_bytree=0.968250113081, subsample=0.906010940894 -   0.0s\n",
      "[CV] max_depth=5, colsample_bytree=0.968250113081, subsample=0.906010940894 \n",
      "[CV]  max_depth=5, colsample_bytree=0.968250113081, subsample=0.906010940894 -   0.0s\n",
      "[CV] max_depth=5, colsample_bytree=0.968250113081, subsample=0.906010940894 \n",
      "[CV]  max_depth=5, colsample_bytree=0.968250113081, subsample=0.906010940894 -   0.0s\n",
      "[CV] max_depth=5, colsample_bytree=0.968250113081, subsample=0.906010940894 \n"
     ]
    },
    {
     "name": "stderr",
     "output_type": "stream",
     "text": [
      "C:\\Users\\Takashi\\Miniconda3\\lib\\site-packages\\sklearn\\metrics\\scorer.py:127: DeprecationWarning: Scoring method log_loss was renamed to neg_log_loss in version 0.18 and will be removed in 0.20.\n",
      "  sample_weight=sample_weight)\n",
      "C:\\Users\\Takashi\\Miniconda3\\lib\\site-packages\\sklearn\\metrics\\scorer.py:127: DeprecationWarning: Scoring method log_loss was renamed to neg_log_loss in version 0.18 and will be removed in 0.20.\n",
      "  sample_weight=sample_weight)\n",
      "C:\\Users\\Takashi\\Miniconda3\\lib\\site-packages\\sklearn\\metrics\\scorer.py:127: DeprecationWarning: Scoring method log_loss was renamed to neg_log_loss in version 0.18 and will be removed in 0.20.\n",
      "  sample_weight=sample_weight)\n"
     ]
    },
    {
     "name": "stdout",
     "output_type": "stream",
     "text": [
      "[CV]  max_depth=5, colsample_bytree=0.968250113081, subsample=0.906010940894 -   0.0s\n",
      "[CV] max_depth=5, colsample_bytree=0.968250113081, subsample=0.906010940894 \n",
      "[CV]  max_depth=5, colsample_bytree=0.968250113081, subsample=0.906010940894 -   0.0s\n",
      "[CV] max_depth=5, colsample_bytree=0.968250113081, subsample=0.906010940894 \n",
      "[CV]  max_depth=5, colsample_bytree=0.968250113081, subsample=0.906010940894 -   0.0s\n",
      "[CV] max_depth=5, colsample_bytree=0.968250113081, subsample=0.906010940894 \n"
     ]
    },
    {
     "name": "stderr",
     "output_type": "stream",
     "text": [
      "C:\\Users\\Takashi\\Miniconda3\\lib\\site-packages\\sklearn\\metrics\\scorer.py:127: DeprecationWarning: Scoring method log_loss was renamed to neg_log_loss in version 0.18 and will be removed in 0.20.\n",
      "  sample_weight=sample_weight)\n",
      "C:\\Users\\Takashi\\Miniconda3\\lib\\site-packages\\sklearn\\metrics\\scorer.py:127: DeprecationWarning: Scoring method log_loss was renamed to neg_log_loss in version 0.18 and will be removed in 0.20.\n",
      "  sample_weight=sample_weight)\n",
      "C:\\Users\\Takashi\\Miniconda3\\lib\\site-packages\\sklearn\\metrics\\scorer.py:127: DeprecationWarning: Scoring method log_loss was renamed to neg_log_loss in version 0.18 and will be removed in 0.20.\n",
      "  sample_weight=sample_weight)\n"
     ]
    },
    {
     "name": "stdout",
     "output_type": "stream",
     "text": [
      "[CV]  max_depth=5, colsample_bytree=0.968250113081, subsample=0.906010940894 -   0.0s\n",
      "[CV] max_depth=5, colsample_bytree=0.968250113081, subsample=0.906010940894 \n",
      "[CV]  max_depth=5, colsample_bytree=0.968250113081, subsample=0.906010940894 -   0.0s\n",
      "[CV] max_depth=5, colsample_bytree=0.968250113081, subsample=0.906010940894 \n",
      "[CV]  max_depth=5, colsample_bytree=0.968250113081, subsample=0.906010940894 -   0.0s\n",
      "[CV] max_depth=5, colsample_bytree=0.968250113081, subsample=0.906010940894 \n"
     ]
    },
    {
     "name": "stderr",
     "output_type": "stream",
     "text": [
      "C:\\Users\\Takashi\\Miniconda3\\lib\\site-packages\\sklearn\\metrics\\scorer.py:127: DeprecationWarning: Scoring method log_loss was renamed to neg_log_loss in version 0.18 and will be removed in 0.20.\n",
      "  sample_weight=sample_weight)\n",
      "C:\\Users\\Takashi\\Miniconda3\\lib\\site-packages\\sklearn\\metrics\\scorer.py:127: DeprecationWarning: Scoring method log_loss was renamed to neg_log_loss in version 0.18 and will be removed in 0.20.\n",
      "  sample_weight=sample_weight)\n",
      "C:\\Users\\Takashi\\Miniconda3\\lib\\site-packages\\sklearn\\metrics\\scorer.py:127: DeprecationWarning: Scoring method log_loss was renamed to neg_log_loss in version 0.18 and will be removed in 0.20.\n",
      "  sample_weight=sample_weight)\n",
      "C:\\Users\\Takashi\\Miniconda3\\lib\\site-packages\\sklearn\\metrics\\scorer.py:127: DeprecationWarning: Scoring method log_loss was renamed to neg_log_loss in version 0.18 and will be removed in 0.20.\n",
      "  sample_weight=sample_weight)\n",
      "C:\\Users\\Takashi\\Miniconda3\\lib\\site-packages\\sklearn\\metrics\\scorer.py:127: DeprecationWarning: Scoring method log_loss was renamed to neg_log_loss in version 0.18 and will be removed in 0.20.\n",
      "  sample_weight=sample_weight)\n",
      "C:\\Users\\Takashi\\Miniconda3\\lib\\site-packages\\sklearn\\metrics\\scorer.py:127: DeprecationWarning: Scoring method log_loss was renamed to neg_log_loss in version 0.18 and will be removed in 0.20.\n",
      "  sample_weight=sample_weight)\n"
     ]
    },
    {
     "name": "stdout",
     "output_type": "stream",
     "text": [
      "[CV]  max_depth=5, colsample_bytree=0.968250113081, subsample=0.906010940894 -   0.0s\n",
      "[CV] max_depth=2, colsample_bytree=0.998781487624, subsample=0.639701017273 \n",
      "[CV]  max_depth=2, colsample_bytree=0.998781487624, subsample=0.639701017273 -   0.0s\n",
      "[CV] max_depth=2, colsample_bytree=0.998781487624, subsample=0.639701017273 \n",
      "[CV]  max_depth=2, colsample_bytree=0.998781487624, subsample=0.639701017273 -   0.0s\n",
      "[CV] max_depth=2, colsample_bytree=0.998781487624, subsample=0.639701017273 \n",
      "[CV]  max_depth=2, colsample_bytree=0.998781487624, subsample=0.639701017273 -   0.0s\n",
      "[CV] max_depth=2, colsample_bytree=0.998781487624, subsample=0.639701017273 \n",
      "[CV]  max_depth=2, colsample_bytree=0.998781487624, subsample=0.639701017273 -   0.0s\n",
      "[CV] max_depth=2, colsample_bytree=0.998781487624, subsample=0.639701017273 \n",
      "[CV]  max_depth=2, colsample_bytree=0.998781487624, subsample=0.639701017273 -   0.0s\n",
      "[CV] max_depth=2, colsample_bytree=0.998781487624, subsample=0.639701017273 \n"
     ]
    },
    {
     "name": "stderr",
     "output_type": "stream",
     "text": [
      "C:\\Users\\Takashi\\Miniconda3\\lib\\site-packages\\sklearn\\metrics\\scorer.py:127: DeprecationWarning: Scoring method log_loss was renamed to neg_log_loss in version 0.18 and will be removed in 0.20.\n",
      "  sample_weight=sample_weight)\n",
      "C:\\Users\\Takashi\\Miniconda3\\lib\\site-packages\\sklearn\\metrics\\scorer.py:127: DeprecationWarning: Scoring method log_loss was renamed to neg_log_loss in version 0.18 and will be removed in 0.20.\n",
      "  sample_weight=sample_weight)\n",
      "C:\\Users\\Takashi\\Miniconda3\\lib\\site-packages\\sklearn\\metrics\\scorer.py:127: DeprecationWarning: Scoring method log_loss was renamed to neg_log_loss in version 0.18 and will be removed in 0.20.\n",
      "  sample_weight=sample_weight)\n",
      "C:\\Users\\Takashi\\Miniconda3\\lib\\site-packages\\sklearn\\metrics\\scorer.py:127: DeprecationWarning: Scoring method log_loss was renamed to neg_log_loss in version 0.18 and will be removed in 0.20.\n",
      "  sample_weight=sample_weight)\n",
      "C:\\Users\\Takashi\\Miniconda3\\lib\\site-packages\\sklearn\\metrics\\scorer.py:127: DeprecationWarning: Scoring method log_loss was renamed to neg_log_loss in version 0.18 and will be removed in 0.20.\n",
      "  sample_weight=sample_weight)\n",
      "C:\\Users\\Takashi\\Miniconda3\\lib\\site-packages\\sklearn\\metrics\\scorer.py:127: DeprecationWarning: Scoring method log_loss was renamed to neg_log_loss in version 0.18 and will be removed in 0.20.\n",
      "  sample_weight=sample_weight)\n"
     ]
    },
    {
     "name": "stdout",
     "output_type": "stream",
     "text": [
      "[CV]  max_depth=2, colsample_bytree=0.998781487624, subsample=0.639701017273 -   0.0s\n",
      "[CV] max_depth=2, colsample_bytree=0.998781487624, subsample=0.639701017273 \n",
      "[CV]  max_depth=2, colsample_bytree=0.998781487624, subsample=0.639701017273 -   0.0s\n",
      "[CV] max_depth=2, colsample_bytree=0.998781487624, subsample=0.639701017273 \n",
      "[CV]  max_depth=2, colsample_bytree=0.998781487624, subsample=0.639701017273 -   0.0s\n",
      "[CV] max_depth=2, colsample_bytree=0.998781487624, subsample=0.639701017273 \n",
      "[CV]  max_depth=2, colsample_bytree=0.998781487624, subsample=0.639701017273 -   0.0s\n",
      "[CV] max_depth=2, colsample_bytree=0.998781487624, subsample=0.639701017273 \n",
      "[CV]  max_depth=2, colsample_bytree=0.998781487624, subsample=0.639701017273 -   0.0s\n",
      "[CV] max_depth=2, colsample_bytree=0.618310457867, subsample=0.948038075929 \n",
      "[CV]  max_depth=2, colsample_bytree=0.618310457867, subsample=0.948038075929 -   0.0s\n",
      "[CV] max_depth=2, colsample_bytree=0.618310457867, subsample=0.948038075929 \n"
     ]
    },
    {
     "name": "stderr",
     "output_type": "stream",
     "text": [
      "C:\\Users\\Takashi\\Miniconda3\\lib\\site-packages\\sklearn\\metrics\\scorer.py:127: DeprecationWarning: Scoring method log_loss was renamed to neg_log_loss in version 0.18 and will be removed in 0.20.\n",
      "  sample_weight=sample_weight)\n",
      "C:\\Users\\Takashi\\Miniconda3\\lib\\site-packages\\sklearn\\metrics\\scorer.py:127: DeprecationWarning: Scoring method log_loss was renamed to neg_log_loss in version 0.18 and will be removed in 0.20.\n",
      "  sample_weight=sample_weight)\n",
      "C:\\Users\\Takashi\\Miniconda3\\lib\\site-packages\\sklearn\\metrics\\scorer.py:127: DeprecationWarning: Scoring method log_loss was renamed to neg_log_loss in version 0.18 and will be removed in 0.20.\n",
      "  sample_weight=sample_weight)\n",
      "C:\\Users\\Takashi\\Miniconda3\\lib\\site-packages\\sklearn\\metrics\\scorer.py:127: DeprecationWarning: Scoring method log_loss was renamed to neg_log_loss in version 0.18 and will be removed in 0.20.\n",
      "  sample_weight=sample_weight)\n",
      "C:\\Users\\Takashi\\Miniconda3\\lib\\site-packages\\sklearn\\metrics\\scorer.py:127: DeprecationWarning: Scoring method log_loss was renamed to neg_log_loss in version 0.18 and will be removed in 0.20.\n",
      "  sample_weight=sample_weight)\n",
      "C:\\Users\\Takashi\\Miniconda3\\lib\\site-packages\\sklearn\\metrics\\scorer.py:127: DeprecationWarning: Scoring method log_loss was renamed to neg_log_loss in version 0.18 and will be removed in 0.20.\n",
      "  sample_weight=sample_weight)\n"
     ]
    },
    {
     "name": "stdout",
     "output_type": "stream",
     "text": [
      "[CV]  max_depth=2, colsample_bytree=0.618310457867, subsample=0.948038075929 -   0.0s\n",
      "[CV] max_depth=2, colsample_bytree=0.618310457867, subsample=0.948038075929 \n",
      "[CV]  max_depth=2, colsample_bytree=0.618310457867, subsample=0.948038075929 -   0.0s\n",
      "[CV] max_depth=2, colsample_bytree=0.618310457867, subsample=0.948038075929 \n",
      "[CV]  max_depth=2, colsample_bytree=0.618310457867, subsample=0.948038075929 -   0.0s\n",
      "[CV] max_depth=2, colsample_bytree=0.618310457867, subsample=0.948038075929 \n",
      "[CV]  max_depth=2, colsample_bytree=0.618310457867, subsample=0.948038075929 -   0.0s\n",
      "[CV] max_depth=2, colsample_bytree=0.618310457867, subsample=0.948038075929 \n",
      "[CV]  max_depth=2, colsample_bytree=0.618310457867, subsample=0.948038075929 -   0.0s\n",
      "[CV] max_depth=2, colsample_bytree=0.618310457867, subsample=0.948038075929 \n",
      "[CV]  max_depth=2, colsample_bytree=0.618310457867, subsample=0.948038075929 -   0.0s\n",
      "[CV] max_depth=2, colsample_bytree=0.618310457867, subsample=0.948038075929 \n"
     ]
    },
    {
     "name": "stderr",
     "output_type": "stream",
     "text": [
      "C:\\Users\\Takashi\\Miniconda3\\lib\\site-packages\\sklearn\\metrics\\scorer.py:127: DeprecationWarning: Scoring method log_loss was renamed to neg_log_loss in version 0.18 and will be removed in 0.20.\n",
      "  sample_weight=sample_weight)\n",
      "C:\\Users\\Takashi\\Miniconda3\\lib\\site-packages\\sklearn\\metrics\\scorer.py:127: DeprecationWarning: Scoring method log_loss was renamed to neg_log_loss in version 0.18 and will be removed in 0.20.\n",
      "  sample_weight=sample_weight)\n",
      "C:\\Users\\Takashi\\Miniconda3\\lib\\site-packages\\sklearn\\metrics\\scorer.py:127: DeprecationWarning: Scoring method log_loss was renamed to neg_log_loss in version 0.18 and will be removed in 0.20.\n",
      "  sample_weight=sample_weight)\n",
      "C:\\Users\\Takashi\\Miniconda3\\lib\\site-packages\\sklearn\\metrics\\scorer.py:127: DeprecationWarning: Scoring method log_loss was renamed to neg_log_loss in version 0.18 and will be removed in 0.20.\n",
      "  sample_weight=sample_weight)\n",
      "C:\\Users\\Takashi\\Miniconda3\\lib\\site-packages\\sklearn\\metrics\\scorer.py:127: DeprecationWarning: Scoring method log_loss was renamed to neg_log_loss in version 0.18 and will be removed in 0.20.\n",
      "  sample_weight=sample_weight)\n",
      "C:\\Users\\Takashi\\Miniconda3\\lib\\site-packages\\sklearn\\metrics\\scorer.py:127: DeprecationWarning: Scoring method log_loss was renamed to neg_log_loss in version 0.18 and will be removed in 0.20.\n",
      "  sample_weight=sample_weight)\n",
      "C:\\Users\\Takashi\\Miniconda3\\lib\\site-packages\\sklearn\\metrics\\scorer.py:127: DeprecationWarning: Scoring method log_loss was renamed to neg_log_loss in version 0.18 and will be removed in 0.20.\n",
      "  sample_weight=sample_weight)\n"
     ]
    },
    {
     "name": "stdout",
     "output_type": "stream",
     "text": [
      "[CV]  max_depth=2, colsample_bytree=0.618310457867, subsample=0.948038075929 -   0.0s\n",
      "[CV] max_depth=2, colsample_bytree=0.618310457867, subsample=0.948038075929 \n",
      "[CV]  max_depth=2, colsample_bytree=0.618310457867, subsample=0.948038075929 -   0.0s\n",
      "[CV] max_depth=2, colsample_bytree=0.618310457867, subsample=0.948038075929 \n",
      "[CV]  max_depth=2, colsample_bytree=0.618310457867, subsample=0.948038075929 -   0.0s\n",
      "[CV] max_depth=1, colsample_bytree=0.734624222991, subsample=0.776838761173 \n",
      "[CV]  max_depth=1, colsample_bytree=0.734624222991, subsample=0.776838761173 -   0.0s\n",
      "[CV] max_depth=1, colsample_bytree=0.734624222991, subsample=0.776838761173 \n",
      "[CV]  max_depth=1, colsample_bytree=0.734624222991, subsample=0.776838761173 -   0.0s\n",
      "[CV] max_depth=1, colsample_bytree=0.734624222991, subsample=0.776838761173 \n",
      "[CV]  max_depth=1, colsample_bytree=0.734624222991, subsample=0.776838761173 -   0.0s\n",
      "[CV] max_depth=1, colsample_bytree=0.734624222991, subsample=0.776838761173 \n",
      "[CV]  max_depth=1, colsample_bytree=0.734624222991, subsample=0.776838761173 -   0.0s\n",
      "[CV] max_depth=1, colsample_bytree=0.734624222991, subsample=0.776838761173 \n"
     ]
    },
    {
     "name": "stderr",
     "output_type": "stream",
     "text": [
      "C:\\Users\\Takashi\\Miniconda3\\lib\\site-packages\\sklearn\\metrics\\scorer.py:127: DeprecationWarning: Scoring method log_loss was renamed to neg_log_loss in version 0.18 and will be removed in 0.20.\n",
      "  sample_weight=sample_weight)\n",
      "C:\\Users\\Takashi\\Miniconda3\\lib\\site-packages\\sklearn\\metrics\\scorer.py:127: DeprecationWarning: Scoring method log_loss was renamed to neg_log_loss in version 0.18 and will be removed in 0.20.\n",
      "  sample_weight=sample_weight)\n",
      "C:\\Users\\Takashi\\Miniconda3\\lib\\site-packages\\sklearn\\metrics\\scorer.py:127: DeprecationWarning: Scoring method log_loss was renamed to neg_log_loss in version 0.18 and will be removed in 0.20.\n",
      "  sample_weight=sample_weight)\n",
      "C:\\Users\\Takashi\\Miniconda3\\lib\\site-packages\\sklearn\\metrics\\scorer.py:127: DeprecationWarning: Scoring method log_loss was renamed to neg_log_loss in version 0.18 and will be removed in 0.20.\n",
      "  sample_weight=sample_weight)\n",
      "C:\\Users\\Takashi\\Miniconda3\\lib\\site-packages\\sklearn\\metrics\\scorer.py:127: DeprecationWarning: Scoring method log_loss was renamed to neg_log_loss in version 0.18 and will be removed in 0.20.\n",
      "  sample_weight=sample_weight)\n",
      "C:\\Users\\Takashi\\Miniconda3\\lib\\site-packages\\sklearn\\metrics\\scorer.py:127: DeprecationWarning: Scoring method log_loss was renamed to neg_log_loss in version 0.18 and will be removed in 0.20.\n",
      "  sample_weight=sample_weight)\n"
     ]
    },
    {
     "name": "stdout",
     "output_type": "stream",
     "text": [
      "[CV]  max_depth=1, colsample_bytree=0.734624222991, subsample=0.776838761173 -   0.0s\n",
      "[CV] max_depth=1, colsample_bytree=0.734624222991, subsample=0.776838761173 \n",
      "[CV]  max_depth=1, colsample_bytree=0.734624222991, subsample=0.776838761173 -   0.0s\n",
      "[CV] max_depth=1, colsample_bytree=0.734624222991, subsample=0.776838761173 \n",
      "[CV]  max_depth=1, colsample_bytree=0.734624222991, subsample=0.776838761173 -   0.0s\n",
      "[CV] max_depth=1, colsample_bytree=0.734624222991, subsample=0.776838761173 \n",
      "[CV]  max_depth=1, colsample_bytree=0.734624222991, subsample=0.776838761173 -   0.0s\n",
      "[CV] max_depth=1, colsample_bytree=0.734624222991, subsample=0.776838761173 \n",
      "[CV]  max_depth=1, colsample_bytree=0.734624222991, subsample=0.776838761173 -   0.0s\n",
      "[CV] max_depth=1, colsample_bytree=0.734624222991, subsample=0.776838761173 \n",
      "[CV]  max_depth=1, colsample_bytree=0.734624222991, subsample=0.776838761173 -   0.0s\n",
      "[CV] max_depth=5, colsample_bytree=0.932945217404, subsample=0.55445056798 \n"
     ]
    },
    {
     "name": "stderr",
     "output_type": "stream",
     "text": [
      "C:\\Users\\Takashi\\Miniconda3\\lib\\site-packages\\sklearn\\metrics\\scorer.py:127: DeprecationWarning: Scoring method log_loss was renamed to neg_log_loss in version 0.18 and will be removed in 0.20.\n",
      "  sample_weight=sample_weight)\n",
      "C:\\Users\\Takashi\\Miniconda3\\lib\\site-packages\\sklearn\\metrics\\scorer.py:127: DeprecationWarning: Scoring method log_loss was renamed to neg_log_loss in version 0.18 and will be removed in 0.20.\n",
      "  sample_weight=sample_weight)\n",
      "C:\\Users\\Takashi\\Miniconda3\\lib\\site-packages\\sklearn\\metrics\\scorer.py:127: DeprecationWarning: Scoring method log_loss was renamed to neg_log_loss in version 0.18 and will be removed in 0.20.\n",
      "  sample_weight=sample_weight)\n"
     ]
    },
    {
     "name": "stdout",
     "output_type": "stream",
     "text": [
      "[CV]  max_depth=5, colsample_bytree=0.932945217404, subsample=0.55445056798 -   0.0s\n",
      "[CV] max_depth=5, colsample_bytree=0.932945217404, subsample=0.55445056798 \n",
      "[CV]  max_depth=5, colsample_bytree=0.932945217404, subsample=0.55445056798 -   0.0s\n",
      "[CV] max_depth=5, colsample_bytree=0.932945217404, subsample=0.55445056798 \n",
      "[CV]  max_depth=5, colsample_bytree=0.932945217404, subsample=0.55445056798 -   0.0s\n",
      "[CV] max_depth=5, colsample_bytree=0.932945217404, subsample=0.55445056798 \n"
     ]
    },
    {
     "name": "stderr",
     "output_type": "stream",
     "text": [
      "C:\\Users\\Takashi\\Miniconda3\\lib\\site-packages\\sklearn\\metrics\\scorer.py:127: DeprecationWarning: Scoring method log_loss was renamed to neg_log_loss in version 0.18 and will be removed in 0.20.\n",
      "  sample_weight=sample_weight)\n",
      "C:\\Users\\Takashi\\Miniconda3\\lib\\site-packages\\sklearn\\metrics\\scorer.py:127: DeprecationWarning: Scoring method log_loss was renamed to neg_log_loss in version 0.18 and will be removed in 0.20.\n",
      "  sample_weight=sample_weight)\n",
      "C:\\Users\\Takashi\\Miniconda3\\lib\\site-packages\\sklearn\\metrics\\scorer.py:127: DeprecationWarning: Scoring method log_loss was renamed to neg_log_loss in version 0.18 and will be removed in 0.20.\n",
      "  sample_weight=sample_weight)\n"
     ]
    },
    {
     "name": "stdout",
     "output_type": "stream",
     "text": [
      "[CV]  max_depth=5, colsample_bytree=0.932945217404, subsample=0.55445056798 -   0.0s\n",
      "[CV] max_depth=5, colsample_bytree=0.932945217404, subsample=0.55445056798 \n",
      "[CV]  max_depth=5, colsample_bytree=0.932945217404, subsample=0.55445056798 -   0.0s\n",
      "[CV] max_depth=5, colsample_bytree=0.932945217404, subsample=0.55445056798 \n",
      "[CV]  max_depth=5, colsample_bytree=0.932945217404, subsample=0.55445056798 -   0.0s\n",
      "[CV] max_depth=5, colsample_bytree=0.932945217404, subsample=0.55445056798 \n"
     ]
    },
    {
     "name": "stderr",
     "output_type": "stream",
     "text": [
      "C:\\Users\\Takashi\\Miniconda3\\lib\\site-packages\\sklearn\\metrics\\scorer.py:127: DeprecationWarning: Scoring method log_loss was renamed to neg_log_loss in version 0.18 and will be removed in 0.20.\n",
      "  sample_weight=sample_weight)\n",
      "C:\\Users\\Takashi\\Miniconda3\\lib\\site-packages\\sklearn\\metrics\\scorer.py:127: DeprecationWarning: Scoring method log_loss was renamed to neg_log_loss in version 0.18 and will be removed in 0.20.\n",
      "  sample_weight=sample_weight)\n",
      "C:\\Users\\Takashi\\Miniconda3\\lib\\site-packages\\sklearn\\metrics\\scorer.py:127: DeprecationWarning: Scoring method log_loss was renamed to neg_log_loss in version 0.18 and will be removed in 0.20.\n",
      "  sample_weight=sample_weight)\n"
     ]
    },
    {
     "name": "stdout",
     "output_type": "stream",
     "text": [
      "[CV]  max_depth=5, colsample_bytree=0.932945217404, subsample=0.55445056798 -   0.0s\n",
      "[CV] max_depth=5, colsample_bytree=0.932945217404, subsample=0.55445056798 \n",
      "[CV]  max_depth=5, colsample_bytree=0.932945217404, subsample=0.55445056798 -   0.0s\n",
      "[CV] max_depth=5, colsample_bytree=0.932945217404, subsample=0.55445056798 \n",
      "[CV]  max_depth=5, colsample_bytree=0.932945217404, subsample=0.55445056798 -   0.0s\n",
      "[CV] max_depth=5, colsample_bytree=0.932945217404, subsample=0.55445056798 \n"
     ]
    },
    {
     "name": "stderr",
     "output_type": "stream",
     "text": [
      "C:\\Users\\Takashi\\Miniconda3\\lib\\site-packages\\sklearn\\metrics\\scorer.py:127: DeprecationWarning: Scoring method log_loss was renamed to neg_log_loss in version 0.18 and will be removed in 0.20.\n",
      "  sample_weight=sample_weight)\n",
      "C:\\Users\\Takashi\\Miniconda3\\lib\\site-packages\\sklearn\\metrics\\scorer.py:127: DeprecationWarning: Scoring method log_loss was renamed to neg_log_loss in version 0.18 and will be removed in 0.20.\n",
      "  sample_weight=sample_weight)\n",
      "C:\\Users\\Takashi\\Miniconda3\\lib\\site-packages\\sklearn\\metrics\\scorer.py:127: DeprecationWarning: Scoring method log_loss was renamed to neg_log_loss in version 0.18 and will be removed in 0.20.\n",
      "  sample_weight=sample_weight)\n"
     ]
    },
    {
     "name": "stdout",
     "output_type": "stream",
     "text": [
      "[CV]  max_depth=5, colsample_bytree=0.932945217404, subsample=0.55445056798 -   0.0s\n",
      "[CV] max_depth=7, colsample_bytree=0.633258391784, subsample=0.711598168136 \n",
      "[CV]  max_depth=7, colsample_bytree=0.633258391784, subsample=0.711598168136 -   0.0s\n",
      "[CV] max_depth=7, colsample_bytree=0.633258391784, subsample=0.711598168136 \n",
      "[CV]  max_depth=7, colsample_bytree=0.633258391784, subsample=0.711598168136 -   0.0s\n",
      "[CV] max_depth=7, colsample_bytree=0.633258391784, subsample=0.711598168136 \n"
     ]
    },
    {
     "name": "stderr",
     "output_type": "stream",
     "text": [
      "C:\\Users\\Takashi\\Miniconda3\\lib\\site-packages\\sklearn\\metrics\\scorer.py:127: DeprecationWarning: Scoring method log_loss was renamed to neg_log_loss in version 0.18 and will be removed in 0.20.\n",
      "  sample_weight=sample_weight)\n",
      "C:\\Users\\Takashi\\Miniconda3\\lib\\site-packages\\sklearn\\metrics\\scorer.py:127: DeprecationWarning: Scoring method log_loss was renamed to neg_log_loss in version 0.18 and will be removed in 0.20.\n",
      "  sample_weight=sample_weight)\n",
      "C:\\Users\\Takashi\\Miniconda3\\lib\\site-packages\\sklearn\\metrics\\scorer.py:127: DeprecationWarning: Scoring method log_loss was renamed to neg_log_loss in version 0.18 and will be removed in 0.20.\n",
      "  sample_weight=sample_weight)\n"
     ]
    },
    {
     "name": "stdout",
     "output_type": "stream",
     "text": [
      "[CV]  max_depth=7, colsample_bytree=0.633258391784, subsample=0.711598168136 -   0.0s\n",
      "[CV] max_depth=7, colsample_bytree=0.633258391784, subsample=0.711598168136 \n",
      "[CV]  max_depth=7, colsample_bytree=0.633258391784, subsample=0.711598168136 -   0.0s\n",
      "[CV] max_depth=7, colsample_bytree=0.633258391784, subsample=0.711598168136 \n",
      "[CV]  max_depth=7, colsample_bytree=0.633258391784, subsample=0.711598168136 -   0.0s\n",
      "[CV] max_depth=7, colsample_bytree=0.633258391784, subsample=0.711598168136 \n"
     ]
    },
    {
     "name": "stderr",
     "output_type": "stream",
     "text": [
      "C:\\Users\\Takashi\\Miniconda3\\lib\\site-packages\\sklearn\\metrics\\scorer.py:127: DeprecationWarning: Scoring method log_loss was renamed to neg_log_loss in version 0.18 and will be removed in 0.20.\n",
      "  sample_weight=sample_weight)\n",
      "C:\\Users\\Takashi\\Miniconda3\\lib\\site-packages\\sklearn\\metrics\\scorer.py:127: DeprecationWarning: Scoring method log_loss was renamed to neg_log_loss in version 0.18 and will be removed in 0.20.\n",
      "  sample_weight=sample_weight)\n",
      "C:\\Users\\Takashi\\Miniconda3\\lib\\site-packages\\sklearn\\metrics\\scorer.py:127: DeprecationWarning: Scoring method log_loss was renamed to neg_log_loss in version 0.18 and will be removed in 0.20.\n",
      "  sample_weight=sample_weight)\n"
     ]
    },
    {
     "name": "stdout",
     "output_type": "stream",
     "text": [
      "[CV]  max_depth=7, colsample_bytree=0.633258391784, subsample=0.711598168136 -   0.0s\n",
      "[CV] max_depth=7, colsample_bytree=0.633258391784, subsample=0.711598168136 \n",
      "[CV]  max_depth=7, colsample_bytree=0.633258391784, subsample=0.711598168136 -   0.0s\n",
      "[CV] max_depth=7, colsample_bytree=0.633258391784, subsample=0.711598168136 \n",
      "[CV]  max_depth=7, colsample_bytree=0.633258391784, subsample=0.711598168136 -   0.0s\n",
      "[CV] max_depth=7, colsample_bytree=0.633258391784, subsample=0.711598168136 \n"
     ]
    },
    {
     "name": "stderr",
     "output_type": "stream",
     "text": [
      "C:\\Users\\Takashi\\Miniconda3\\lib\\site-packages\\sklearn\\metrics\\scorer.py:127: DeprecationWarning: Scoring method log_loss was renamed to neg_log_loss in version 0.18 and will be removed in 0.20.\n",
      "  sample_weight=sample_weight)\n",
      "C:\\Users\\Takashi\\Miniconda3\\lib\\site-packages\\sklearn\\metrics\\scorer.py:127: DeprecationWarning: Scoring method log_loss was renamed to neg_log_loss in version 0.18 and will be removed in 0.20.\n",
      "  sample_weight=sample_weight)\n",
      "C:\\Users\\Takashi\\Miniconda3\\lib\\site-packages\\sklearn\\metrics\\scorer.py:127: DeprecationWarning: Scoring method log_loss was renamed to neg_log_loss in version 0.18 and will be removed in 0.20.\n",
      "  sample_weight=sample_weight)\n",
      "C:\\Users\\Takashi\\Miniconda3\\lib\\site-packages\\sklearn\\metrics\\scorer.py:127: DeprecationWarning: Scoring method log_loss was renamed to neg_log_loss in version 0.18 and will be removed in 0.20.\n",
      "  sample_weight=sample_weight)\n"
     ]
    },
    {
     "name": "stdout",
     "output_type": "stream",
     "text": [
      "[CV]  max_depth=7, colsample_bytree=0.633258391784, subsample=0.711598168136 -   0.0s\n",
      "[CV] max_depth=7, colsample_bytree=0.633258391784, subsample=0.711598168136 \n",
      "[CV]  max_depth=7, colsample_bytree=0.633258391784, subsample=0.711598168136 -   0.0s\n",
      "[CV] max_depth=2, colsample_bytree=0.829981357613, subsample=0.992791101128 \n",
      "[CV]  max_depth=2, colsample_bytree=0.829981357613, subsample=0.992791101128 -   0.0s\n",
      "[CV] max_depth=2, colsample_bytree=0.829981357613, subsample=0.992791101128 \n",
      "[CV]  max_depth=2, colsample_bytree=0.829981357613, subsample=0.992791101128 -   0.0s\n",
      "[CV] max_depth=2, colsample_bytree=0.829981357613, subsample=0.992791101128 \n"
     ]
    },
    {
     "name": "stderr",
     "output_type": "stream",
     "text": [
      "C:\\Users\\Takashi\\Miniconda3\\lib\\site-packages\\sklearn\\metrics\\scorer.py:127: DeprecationWarning: Scoring method log_loss was renamed to neg_log_loss in version 0.18 and will be removed in 0.20.\n",
      "  sample_weight=sample_weight)\n",
      "C:\\Users\\Takashi\\Miniconda3\\lib\\site-packages\\sklearn\\metrics\\scorer.py:127: DeprecationWarning: Scoring method log_loss was renamed to neg_log_loss in version 0.18 and will be removed in 0.20.\n",
      "  sample_weight=sample_weight)\n",
      "C:\\Users\\Takashi\\Miniconda3\\lib\\site-packages\\sklearn\\metrics\\scorer.py:127: DeprecationWarning: Scoring method log_loss was renamed to neg_log_loss in version 0.18 and will be removed in 0.20.\n",
      "  sample_weight=sample_weight)\n",
      "C:\\Users\\Takashi\\Miniconda3\\lib\\site-packages\\sklearn\\metrics\\scorer.py:127: DeprecationWarning: Scoring method log_loss was renamed to neg_log_loss in version 0.18 and will be removed in 0.20.\n",
      "  sample_weight=sample_weight)\n",
      "C:\\Users\\Takashi\\Miniconda3\\lib\\site-packages\\sklearn\\metrics\\scorer.py:127: DeprecationWarning: Scoring method log_loss was renamed to neg_log_loss in version 0.18 and will be removed in 0.20.\n",
      "  sample_weight=sample_weight)\n",
      "C:\\Users\\Takashi\\Miniconda3\\lib\\site-packages\\sklearn\\metrics\\scorer.py:127: DeprecationWarning: Scoring method log_loss was renamed to neg_log_loss in version 0.18 and will be removed in 0.20.\n",
      "  sample_weight=sample_weight)\n"
     ]
    },
    {
     "name": "stdout",
     "output_type": "stream",
     "text": [
      "[CV]  max_depth=2, colsample_bytree=0.829981357613, subsample=0.992791101128 -   0.0s\n",
      "[CV] max_depth=2, colsample_bytree=0.829981357613, subsample=0.992791101128 \n",
      "[CV]  max_depth=2, colsample_bytree=0.829981357613, subsample=0.992791101128 -   0.0s\n",
      "[CV] max_depth=2, colsample_bytree=0.829981357613, subsample=0.992791101128 \n",
      "[CV]  max_depth=2, colsample_bytree=0.829981357613, subsample=0.992791101128 -   0.0s\n",
      "[CV] max_depth=2, colsample_bytree=0.829981357613, subsample=0.992791101128 \n",
      "[CV]  max_depth=2, colsample_bytree=0.829981357613, subsample=0.992791101128 -   0.0s\n",
      "[CV] max_depth=2, colsample_bytree=0.829981357613, subsample=0.992791101128 \n",
      "[CV]  max_depth=2, colsample_bytree=0.829981357613, subsample=0.992791101128 -   0.0s\n",
      "[CV] max_depth=2, colsample_bytree=0.829981357613, subsample=0.992791101128 \n",
      "[CV]  max_depth=2, colsample_bytree=0.829981357613, subsample=0.992791101128 -   0.0s\n",
      "[CV] max_depth=2, colsample_bytree=0.829981357613, subsample=0.992791101128 \n"
     ]
    },
    {
     "name": "stderr",
     "output_type": "stream",
     "text": [
      "C:\\Users\\Takashi\\Miniconda3\\lib\\site-packages\\sklearn\\metrics\\scorer.py:127: DeprecationWarning: Scoring method log_loss was renamed to neg_log_loss in version 0.18 and will be removed in 0.20.\n",
      "  sample_weight=sample_weight)\n",
      "C:\\Users\\Takashi\\Miniconda3\\lib\\site-packages\\sklearn\\metrics\\scorer.py:127: DeprecationWarning: Scoring method log_loss was renamed to neg_log_loss in version 0.18 and will be removed in 0.20.\n",
      "  sample_weight=sample_weight)\n",
      "C:\\Users\\Takashi\\Miniconda3\\lib\\site-packages\\sklearn\\metrics\\scorer.py:127: DeprecationWarning: Scoring method log_loss was renamed to neg_log_loss in version 0.18 and will be removed in 0.20.\n",
      "  sample_weight=sample_weight)\n"
     ]
    },
    {
     "name": "stdout",
     "output_type": "stream",
     "text": [
      "[CV]  max_depth=2, colsample_bytree=0.829981357613, subsample=0.992791101128 -   0.0s\n",
      "[CV] max_depth=2, colsample_bytree=0.829981357613, subsample=0.992791101128 \n",
      "[CV]  max_depth=2, colsample_bytree=0.829981357613, subsample=0.992791101128 -   0.0s\n",
      "[CV] max_depth=9, colsample_bytree=0.565930045235, subsample=0.542402645974 \n",
      "[CV]  max_depth=9, colsample_bytree=0.565930045235, subsample=0.542402645974 -   0.0s\n",
      "[CV] max_depth=9, colsample_bytree=0.565930045235, subsample=0.542402645974 \n"
     ]
    },
    {
     "name": "stderr",
     "output_type": "stream",
     "text": [
      "C:\\Users\\Takashi\\Miniconda3\\lib\\site-packages\\sklearn\\metrics\\scorer.py:127: DeprecationWarning: Scoring method log_loss was renamed to neg_log_loss in version 0.18 and will be removed in 0.20.\n",
      "  sample_weight=sample_weight)\n",
      "C:\\Users\\Takashi\\Miniconda3\\lib\\site-packages\\sklearn\\metrics\\scorer.py:127: DeprecationWarning: Scoring method log_loss was renamed to neg_log_loss in version 0.18 and will be removed in 0.20.\n",
      "  sample_weight=sample_weight)\n",
      "C:\\Users\\Takashi\\Miniconda3\\lib\\site-packages\\sklearn\\metrics\\scorer.py:127: DeprecationWarning: Scoring method log_loss was renamed to neg_log_loss in version 0.18 and will be removed in 0.20.\n",
      "  sample_weight=sample_weight)\n"
     ]
    },
    {
     "name": "stdout",
     "output_type": "stream",
     "text": [
      "[CV]  max_depth=9, colsample_bytree=0.565930045235, subsample=0.542402645974 -   0.0s\n",
      "[CV] max_depth=9, colsample_bytree=0.565930045235, subsample=0.542402645974 \n",
      "[CV]  max_depth=9, colsample_bytree=0.565930045235, subsample=0.542402645974 -   0.0s\n",
      "[CV] max_depth=9, colsample_bytree=0.565930045235, subsample=0.542402645974 \n",
      "[CV]  max_depth=9, colsample_bytree=0.565930045235, subsample=0.542402645974 -   0.0s\n",
      "[CV] max_depth=9, colsample_bytree=0.565930045235, subsample=0.542402645974 \n"
     ]
    },
    {
     "name": "stderr",
     "output_type": "stream",
     "text": [
      "C:\\Users\\Takashi\\Miniconda3\\lib\\site-packages\\sklearn\\metrics\\scorer.py:127: DeprecationWarning: Scoring method log_loss was renamed to neg_log_loss in version 0.18 and will be removed in 0.20.\n",
      "  sample_weight=sample_weight)\n",
      "C:\\Users\\Takashi\\Miniconda3\\lib\\site-packages\\sklearn\\metrics\\scorer.py:127: DeprecationWarning: Scoring method log_loss was renamed to neg_log_loss in version 0.18 and will be removed in 0.20.\n",
      "  sample_weight=sample_weight)\n",
      "C:\\Users\\Takashi\\Miniconda3\\lib\\site-packages\\sklearn\\metrics\\scorer.py:127: DeprecationWarning: Scoring method log_loss was renamed to neg_log_loss in version 0.18 and will be removed in 0.20.\n",
      "  sample_weight=sample_weight)\n"
     ]
    },
    {
     "name": "stdout",
     "output_type": "stream",
     "text": [
      "[CV]  max_depth=9, colsample_bytree=0.565930045235, subsample=0.542402645974 -   0.0s\n",
      "[CV] max_depth=9, colsample_bytree=0.565930045235, subsample=0.542402645974 \n",
      "[CV]  max_depth=9, colsample_bytree=0.565930045235, subsample=0.542402645974 -   0.0s\n",
      "[CV] max_depth=9, colsample_bytree=0.565930045235, subsample=0.542402645974 \n",
      "[CV]  max_depth=9, colsample_bytree=0.565930045235, subsample=0.542402645974 -   0.0s\n",
      "[CV] max_depth=9, colsample_bytree=0.565930045235, subsample=0.542402645974 \n"
     ]
    },
    {
     "name": "stderr",
     "output_type": "stream",
     "text": [
      "C:\\Users\\Takashi\\Miniconda3\\lib\\site-packages\\sklearn\\metrics\\scorer.py:127: DeprecationWarning: Scoring method log_loss was renamed to neg_log_loss in version 0.18 and will be removed in 0.20.\n",
      "  sample_weight=sample_weight)\n",
      "C:\\Users\\Takashi\\Miniconda3\\lib\\site-packages\\sklearn\\metrics\\scorer.py:127: DeprecationWarning: Scoring method log_loss was renamed to neg_log_loss in version 0.18 and will be removed in 0.20.\n",
      "  sample_weight=sample_weight)\n",
      "C:\\Users\\Takashi\\Miniconda3\\lib\\site-packages\\sklearn\\metrics\\scorer.py:127: DeprecationWarning: Scoring method log_loss was renamed to neg_log_loss in version 0.18 and will be removed in 0.20.\n",
      "  sample_weight=sample_weight)\n"
     ]
    },
    {
     "name": "stdout",
     "output_type": "stream",
     "text": [
      "[CV]  max_depth=9, colsample_bytree=0.565930045235, subsample=0.542402645974 -   0.0s\n",
      "[CV] max_depth=9, colsample_bytree=0.565930045235, subsample=0.542402645974 \n",
      "[CV]  max_depth=9, colsample_bytree=0.565930045235, subsample=0.542402645974 -   0.0s\n",
      "[CV] max_depth=9, colsample_bytree=0.565930045235, subsample=0.542402645974 \n",
      "[CV]  max_depth=9, colsample_bytree=0.565930045235, subsample=0.542402645974 -   0.0s\n",
      "[CV] max_depth=7, colsample_bytree=0.826929477152, subsample=0.543170741722 \n"
     ]
    },
    {
     "name": "stderr",
     "output_type": "stream",
     "text": [
      "C:\\Users\\Takashi\\Miniconda3\\lib\\site-packages\\sklearn\\metrics\\scorer.py:127: DeprecationWarning: Scoring method log_loss was renamed to neg_log_loss in version 0.18 and will be removed in 0.20.\n",
      "  sample_weight=sample_weight)\n",
      "C:\\Users\\Takashi\\Miniconda3\\lib\\site-packages\\sklearn\\metrics\\scorer.py:127: DeprecationWarning: Scoring method log_loss was renamed to neg_log_loss in version 0.18 and will be removed in 0.20.\n",
      "  sample_weight=sample_weight)\n",
      "C:\\Users\\Takashi\\Miniconda3\\lib\\site-packages\\sklearn\\metrics\\scorer.py:127: DeprecationWarning: Scoring method log_loss was renamed to neg_log_loss in version 0.18 and will be removed in 0.20.\n",
      "  sample_weight=sample_weight)\n"
     ]
    },
    {
     "name": "stdout",
     "output_type": "stream",
     "text": [
      "[CV]  max_depth=7, colsample_bytree=0.826929477152, subsample=0.543170741722 -   0.0s\n",
      "[CV] max_depth=7, colsample_bytree=0.826929477152, subsample=0.543170741722 \n",
      "[CV]  max_depth=7, colsample_bytree=0.826929477152, subsample=0.543170741722 -   0.0s\n",
      "[CV] max_depth=7, colsample_bytree=0.826929477152, subsample=0.543170741722 \n",
      "[CV]  max_depth=7, colsample_bytree=0.826929477152, subsample=0.543170741722 -   0.0s\n",
      "[CV] max_depth=7, colsample_bytree=0.826929477152, subsample=0.543170741722 \n"
     ]
    },
    {
     "name": "stderr",
     "output_type": "stream",
     "text": [
      "C:\\Users\\Takashi\\Miniconda3\\lib\\site-packages\\sklearn\\metrics\\scorer.py:127: DeprecationWarning: Scoring method log_loss was renamed to neg_log_loss in version 0.18 and will be removed in 0.20.\n",
      "  sample_weight=sample_weight)\n",
      "C:\\Users\\Takashi\\Miniconda3\\lib\\site-packages\\sklearn\\metrics\\scorer.py:127: DeprecationWarning: Scoring method log_loss was renamed to neg_log_loss in version 0.18 and will be removed in 0.20.\n",
      "  sample_weight=sample_weight)\n",
      "C:\\Users\\Takashi\\Miniconda3\\lib\\site-packages\\sklearn\\metrics\\scorer.py:127: DeprecationWarning: Scoring method log_loss was renamed to neg_log_loss in version 0.18 and will be removed in 0.20.\n",
      "  sample_weight=sample_weight)\n"
     ]
    },
    {
     "name": "stdout",
     "output_type": "stream",
     "text": [
      "[CV]  max_depth=7, colsample_bytree=0.826929477152, subsample=0.543170741722 -   0.0s\n",
      "[CV] max_depth=7, colsample_bytree=0.826929477152, subsample=0.543170741722 \n",
      "[CV]  max_depth=7, colsample_bytree=0.826929477152, subsample=0.543170741722 -   0.0s\n",
      "[CV] max_depth=7, colsample_bytree=0.826929477152, subsample=0.543170741722 \n",
      "[CV]  max_depth=7, colsample_bytree=0.826929477152, subsample=0.543170741722 -   0.0s\n",
      "[CV] max_depth=7, colsample_bytree=0.826929477152, subsample=0.543170741722 \n"
     ]
    },
    {
     "name": "stderr",
     "output_type": "stream",
     "text": [
      "C:\\Users\\Takashi\\Miniconda3\\lib\\site-packages\\sklearn\\metrics\\scorer.py:127: DeprecationWarning: Scoring method log_loss was renamed to neg_log_loss in version 0.18 and will be removed in 0.20.\n",
      "  sample_weight=sample_weight)\n",
      "C:\\Users\\Takashi\\Miniconda3\\lib\\site-packages\\sklearn\\metrics\\scorer.py:127: DeprecationWarning: Scoring method log_loss was renamed to neg_log_loss in version 0.18 and will be removed in 0.20.\n",
      "  sample_weight=sample_weight)\n",
      "C:\\Users\\Takashi\\Miniconda3\\lib\\site-packages\\sklearn\\metrics\\scorer.py:127: DeprecationWarning: Scoring method log_loss was renamed to neg_log_loss in version 0.18 and will be removed in 0.20.\n",
      "  sample_weight=sample_weight)\n"
     ]
    },
    {
     "name": "stdout",
     "output_type": "stream",
     "text": [
      "[CV]  max_depth=7, colsample_bytree=0.826929477152, subsample=0.543170741722 -   0.0s\n",
      "[CV] max_depth=7, colsample_bytree=0.826929477152, subsample=0.543170741722 \n",
      "[CV]  max_depth=7, colsample_bytree=0.826929477152, subsample=0.543170741722 -   0.0s\n",
      "[CV] max_depth=7, colsample_bytree=0.826929477152, subsample=0.543170741722 \n",
      "[CV]  max_depth=7, colsample_bytree=0.826929477152, subsample=0.543170741722 -   0.0s\n",
      "[CV] max_depth=7, colsample_bytree=0.826929477152, subsample=0.543170741722 \n"
     ]
    },
    {
     "name": "stderr",
     "output_type": "stream",
     "text": [
      "C:\\Users\\Takashi\\Miniconda3\\lib\\site-packages\\sklearn\\metrics\\scorer.py:127: DeprecationWarning: Scoring method log_loss was renamed to neg_log_loss in version 0.18 and will be removed in 0.20.\n",
      "  sample_weight=sample_weight)\n",
      "C:\\Users\\Takashi\\Miniconda3\\lib\\site-packages\\sklearn\\metrics\\scorer.py:127: DeprecationWarning: Scoring method log_loss was renamed to neg_log_loss in version 0.18 and will be removed in 0.20.\n",
      "  sample_weight=sample_weight)\n",
      "C:\\Users\\Takashi\\Miniconda3\\lib\\site-packages\\sklearn\\metrics\\scorer.py:127: DeprecationWarning: Scoring method log_loss was renamed to neg_log_loss in version 0.18 and will be removed in 0.20.\n",
      "  sample_weight=sample_weight)\n",
      "C:\\Users\\Takashi\\Miniconda3\\lib\\site-packages\\sklearn\\metrics\\scorer.py:127: DeprecationWarning: Scoring method log_loss was renamed to neg_log_loss in version 0.18 and will be removed in 0.20.\n",
      "  sample_weight=sample_weight)\n"
     ]
    },
    {
     "name": "stdout",
     "output_type": "stream",
     "text": [
      "[CV]  max_depth=7, colsample_bytree=0.826929477152, subsample=0.543170741722 -   0.0s\n",
      "[CV] max_depth=3, colsample_bytree=0.990099685993, subsample=0.53607138454 \n",
      "[CV]  max_depth=3, colsample_bytree=0.990099685993, subsample=0.53607138454 -   0.0s\n",
      "[CV] max_depth=3, colsample_bytree=0.990099685993, subsample=0.53607138454 \n",
      "[CV]  max_depth=3, colsample_bytree=0.990099685993, subsample=0.53607138454 -   0.0s\n",
      "[CV] max_depth=3, colsample_bytree=0.990099685993, subsample=0.53607138454 \n",
      "[CV]  max_depth=3, colsample_bytree=0.990099685993, subsample=0.53607138454 -   0.0s\n",
      "[CV] max_depth=3, colsample_bytree=0.990099685993, subsample=0.53607138454 \n"
     ]
    },
    {
     "name": "stderr",
     "output_type": "stream",
     "text": [
      "C:\\Users\\Takashi\\Miniconda3\\lib\\site-packages\\sklearn\\metrics\\scorer.py:127: DeprecationWarning: Scoring method log_loss was renamed to neg_log_loss in version 0.18 and will be removed in 0.20.\n",
      "  sample_weight=sample_weight)\n",
      "C:\\Users\\Takashi\\Miniconda3\\lib\\site-packages\\sklearn\\metrics\\scorer.py:127: DeprecationWarning: Scoring method log_loss was renamed to neg_log_loss in version 0.18 and will be removed in 0.20.\n",
      "  sample_weight=sample_weight)\n",
      "C:\\Users\\Takashi\\Miniconda3\\lib\\site-packages\\sklearn\\metrics\\scorer.py:127: DeprecationWarning: Scoring method log_loss was renamed to neg_log_loss in version 0.18 and will be removed in 0.20.\n",
      "  sample_weight=sample_weight)\n",
      "C:\\Users\\Takashi\\Miniconda3\\lib\\site-packages\\sklearn\\metrics\\scorer.py:127: DeprecationWarning: Scoring method log_loss was renamed to neg_log_loss in version 0.18 and will be removed in 0.20.\n",
      "  sample_weight=sample_weight)\n"
     ]
    },
    {
     "name": "stdout",
     "output_type": "stream",
     "text": [
      "[CV]  max_depth=3, colsample_bytree=0.990099685993, subsample=0.53607138454 -   0.0s\n",
      "[CV] max_depth=3, colsample_bytree=0.990099685993, subsample=0.53607138454 \n",
      "[CV]  max_depth=3, colsample_bytree=0.990099685993, subsample=0.53607138454 -   0.0s\n",
      "[CV] max_depth=3, colsample_bytree=0.990099685993, subsample=0.53607138454 \n",
      "[CV]  max_depth=3, colsample_bytree=0.990099685993, subsample=0.53607138454 -   0.0s\n",
      "[CV] max_depth=3, colsample_bytree=0.990099685993, subsample=0.53607138454 \n",
      "[CV]  max_depth=3, colsample_bytree=0.990099685993, subsample=0.53607138454 -   0.0s\n",
      "[CV] max_depth=3, colsample_bytree=0.990099685993, subsample=0.53607138454 \n"
     ]
    },
    {
     "name": "stderr",
     "output_type": "stream",
     "text": [
      "C:\\Users\\Takashi\\Miniconda3\\lib\\site-packages\\sklearn\\metrics\\scorer.py:127: DeprecationWarning: Scoring method log_loss was renamed to neg_log_loss in version 0.18 and will be removed in 0.20.\n",
      "  sample_weight=sample_weight)\n",
      "C:\\Users\\Takashi\\Miniconda3\\lib\\site-packages\\sklearn\\metrics\\scorer.py:127: DeprecationWarning: Scoring method log_loss was renamed to neg_log_loss in version 0.18 and will be removed in 0.20.\n",
      "  sample_weight=sample_weight)\n",
      "C:\\Users\\Takashi\\Miniconda3\\lib\\site-packages\\sklearn\\metrics\\scorer.py:127: DeprecationWarning: Scoring method log_loss was renamed to neg_log_loss in version 0.18 and will be removed in 0.20.\n",
      "  sample_weight=sample_weight)\n"
     ]
    },
    {
     "name": "stdout",
     "output_type": "stream",
     "text": [
      "[CV]  max_depth=3, colsample_bytree=0.990099685993, subsample=0.53607138454 -   0.0s\n",
      "[CV] max_depth=3, colsample_bytree=0.990099685993, subsample=0.53607138454 \n",
      "[CV]  max_depth=3, colsample_bytree=0.990099685993, subsample=0.53607138454 -   0.0s\n",
      "[CV] max_depth=3, colsample_bytree=0.990099685993, subsample=0.53607138454 \n",
      "[CV]  max_depth=3, colsample_bytree=0.990099685993, subsample=0.53607138454 -   0.0s\n",
      "[CV] max_depth=10, colsample_bytree=0.836800447311, subsample=0.726047953699 \n"
     ]
    },
    {
     "name": "stderr",
     "output_type": "stream",
     "text": [
      "C:\\Users\\Takashi\\Miniconda3\\lib\\site-packages\\sklearn\\metrics\\scorer.py:127: DeprecationWarning: Scoring method log_loss was renamed to neg_log_loss in version 0.18 and will be removed in 0.20.\n",
      "  sample_weight=sample_weight)\n",
      "C:\\Users\\Takashi\\Miniconda3\\lib\\site-packages\\sklearn\\metrics\\scorer.py:127: DeprecationWarning: Scoring method log_loss was renamed to neg_log_loss in version 0.18 and will be removed in 0.20.\n",
      "  sample_weight=sample_weight)\n"
     ]
    },
    {
     "name": "stdout",
     "output_type": "stream",
     "text": [
      "[CV]  max_depth=10, colsample_bytree=0.836800447311, subsample=0.726047953699 -   0.0s\n",
      "[CV] max_depth=10, colsample_bytree=0.836800447311, subsample=0.726047953699 \n",
      "[CV]  max_depth=10, colsample_bytree=0.836800447311, subsample=0.726047953699 -   0.0s\n",
      "[CV] max_depth=10, colsample_bytree=0.836800447311, subsample=0.726047953699 \n"
     ]
    },
    {
     "name": "stderr",
     "output_type": "stream",
     "text": [
      "C:\\Users\\Takashi\\Miniconda3\\lib\\site-packages\\sklearn\\metrics\\scorer.py:127: DeprecationWarning: Scoring method log_loss was renamed to neg_log_loss in version 0.18 and will be removed in 0.20.\n",
      "  sample_weight=sample_weight)\n",
      "C:\\Users\\Takashi\\Miniconda3\\lib\\site-packages\\sklearn\\metrics\\scorer.py:127: DeprecationWarning: Scoring method log_loss was renamed to neg_log_loss in version 0.18 and will be removed in 0.20.\n",
      "  sample_weight=sample_weight)\n"
     ]
    },
    {
     "name": "stdout",
     "output_type": "stream",
     "text": [
      "[CV]  max_depth=10, colsample_bytree=0.836800447311, subsample=0.726047953699 -   0.0s\n",
      "[CV] max_depth=10, colsample_bytree=0.836800447311, subsample=0.726047953699 \n",
      "[CV]  max_depth=10, colsample_bytree=0.836800447311, subsample=0.726047953699 -   0.0s\n",
      "[CV] max_depth=10, colsample_bytree=0.836800447311, subsample=0.726047953699 \n"
     ]
    },
    {
     "name": "stderr",
     "output_type": "stream",
     "text": [
      "C:\\Users\\Takashi\\Miniconda3\\lib\\site-packages\\sklearn\\metrics\\scorer.py:127: DeprecationWarning: Scoring method log_loss was renamed to neg_log_loss in version 0.18 and will be removed in 0.20.\n",
      "  sample_weight=sample_weight)\n",
      "C:\\Users\\Takashi\\Miniconda3\\lib\\site-packages\\sklearn\\metrics\\scorer.py:127: DeprecationWarning: Scoring method log_loss was renamed to neg_log_loss in version 0.18 and will be removed in 0.20.\n",
      "  sample_weight=sample_weight)\n"
     ]
    },
    {
     "name": "stdout",
     "output_type": "stream",
     "text": [
      "[CV]  max_depth=10, colsample_bytree=0.836800447311, subsample=0.726047953699 -   0.1s\n",
      "[CV] max_depth=10, colsample_bytree=0.836800447311, subsample=0.726047953699 \n",
      "[CV]  max_depth=10, colsample_bytree=0.836800447311, subsample=0.726047953699 -   0.0s\n",
      "[CV] max_depth=10, colsample_bytree=0.836800447311, subsample=0.726047953699 \n"
     ]
    },
    {
     "name": "stderr",
     "output_type": "stream",
     "text": [
      "C:\\Users\\Takashi\\Miniconda3\\lib\\site-packages\\sklearn\\metrics\\scorer.py:127: DeprecationWarning: Scoring method log_loss was renamed to neg_log_loss in version 0.18 and will be removed in 0.20.\n",
      "  sample_weight=sample_weight)\n",
      "C:\\Users\\Takashi\\Miniconda3\\lib\\site-packages\\sklearn\\metrics\\scorer.py:127: DeprecationWarning: Scoring method log_loss was renamed to neg_log_loss in version 0.18 and will be removed in 0.20.\n",
      "  sample_weight=sample_weight)\n"
     ]
    },
    {
     "name": "stdout",
     "output_type": "stream",
     "text": [
      "[CV]  max_depth=10, colsample_bytree=0.836800447311, subsample=0.726047953699 -   0.0s\n",
      "[CV] max_depth=10, colsample_bytree=0.836800447311, subsample=0.726047953699 \n",
      "[CV]  max_depth=10, colsample_bytree=0.836800447311, subsample=0.726047953699 -   0.0s\n",
      "[CV] max_depth=10, colsample_bytree=0.836800447311, subsample=0.726047953699 \n"
     ]
    },
    {
     "name": "stderr",
     "output_type": "stream",
     "text": [
      "C:\\Users\\Takashi\\Miniconda3\\lib\\site-packages\\sklearn\\metrics\\scorer.py:127: DeprecationWarning: Scoring method log_loss was renamed to neg_log_loss in version 0.18 and will be removed in 0.20.\n",
      "  sample_weight=sample_weight)\n",
      "C:\\Users\\Takashi\\Miniconda3\\lib\\site-packages\\sklearn\\metrics\\scorer.py:127: DeprecationWarning: Scoring method log_loss was renamed to neg_log_loss in version 0.18 and will be removed in 0.20.\n",
      "  sample_weight=sample_weight)\n"
     ]
    },
    {
     "name": "stdout",
     "output_type": "stream",
     "text": [
      "[CV]  max_depth=10, colsample_bytree=0.836800447311, subsample=0.726047953699 -   0.0s\n",
      "[CV] max_depth=10, colsample_bytree=0.836800447311, subsample=0.726047953699 \n",
      "[CV]  max_depth=10, colsample_bytree=0.836800447311, subsample=0.726047953699 -   0.0s\n",
      "[CV] max_depth=4, colsample_bytree=0.768313710128, subsample=0.850692845703 \n"
     ]
    },
    {
     "name": "stderr",
     "output_type": "stream",
     "text": [
      "C:\\Users\\Takashi\\Miniconda3\\lib\\site-packages\\sklearn\\metrics\\scorer.py:127: DeprecationWarning: Scoring method log_loss was renamed to neg_log_loss in version 0.18 and will be removed in 0.20.\n",
      "  sample_weight=sample_weight)\n",
      "C:\\Users\\Takashi\\Miniconda3\\lib\\site-packages\\sklearn\\metrics\\scorer.py:127: DeprecationWarning: Scoring method log_loss was renamed to neg_log_loss in version 0.18 and will be removed in 0.20.\n",
      "  sample_weight=sample_weight)\n",
      "C:\\Users\\Takashi\\Miniconda3\\lib\\site-packages\\sklearn\\metrics\\scorer.py:127: DeprecationWarning: Scoring method log_loss was renamed to neg_log_loss in version 0.18 and will be removed in 0.20.\n",
      "  sample_weight=sample_weight)\n",
      "C:\\Users\\Takashi\\Miniconda3\\lib\\site-packages\\sklearn\\metrics\\scorer.py:127: DeprecationWarning: Scoring method log_loss was renamed to neg_log_loss in version 0.18 and will be removed in 0.20.\n",
      "  sample_weight=sample_weight)\n"
     ]
    },
    {
     "name": "stdout",
     "output_type": "stream",
     "text": [
      "[CV]  max_depth=4, colsample_bytree=0.768313710128, subsample=0.850692845703 -   0.0s\n",
      "[CV] max_depth=4, colsample_bytree=0.768313710128, subsample=0.850692845703 \n",
      "[CV]  max_depth=4, colsample_bytree=0.768313710128, subsample=0.850692845703 -   0.0s\n",
      "[CV] max_depth=4, colsample_bytree=0.768313710128, subsample=0.850692845703 \n",
      "[CV]  max_depth=4, colsample_bytree=0.768313710128, subsample=0.850692845703 -   0.0s\n",
      "[CV] max_depth=4, colsample_bytree=0.768313710128, subsample=0.850692845703 \n",
      "[CV]  max_depth=4, colsample_bytree=0.768313710128, subsample=0.850692845703 -   0.0s\n",
      "[CV] max_depth=4, colsample_bytree=0.768313710128, subsample=0.850692845703 \n"
     ]
    },
    {
     "name": "stderr",
     "output_type": "stream",
     "text": [
      "C:\\Users\\Takashi\\Miniconda3\\lib\\site-packages\\sklearn\\metrics\\scorer.py:127: DeprecationWarning: Scoring method log_loss was renamed to neg_log_loss in version 0.18 and will be removed in 0.20.\n",
      "  sample_weight=sample_weight)\n",
      "C:\\Users\\Takashi\\Miniconda3\\lib\\site-packages\\sklearn\\metrics\\scorer.py:127: DeprecationWarning: Scoring method log_loss was renamed to neg_log_loss in version 0.18 and will be removed in 0.20.\n",
      "  sample_weight=sample_weight)\n",
      "C:\\Users\\Takashi\\Miniconda3\\lib\\site-packages\\sklearn\\metrics\\scorer.py:127: DeprecationWarning: Scoring method log_loss was renamed to neg_log_loss in version 0.18 and will be removed in 0.20.\n",
      "  sample_weight=sample_weight)\n",
      "C:\\Users\\Takashi\\Miniconda3\\lib\\site-packages\\sklearn\\metrics\\scorer.py:127: DeprecationWarning: Scoring method log_loss was renamed to neg_log_loss in version 0.18 and will be removed in 0.20.\n",
      "  sample_weight=sample_weight)\n"
     ]
    },
    {
     "name": "stdout",
     "output_type": "stream",
     "text": [
      "[CV]  max_depth=4, colsample_bytree=0.768313710128, subsample=0.850692845703 -   0.0s\n",
      "[CV] max_depth=4, colsample_bytree=0.768313710128, subsample=0.850692845703 \n",
      "[CV]  max_depth=4, colsample_bytree=0.768313710128, subsample=0.850692845703 -   0.0s\n",
      "[CV] max_depth=4, colsample_bytree=0.768313710128, subsample=0.850692845703 \n",
      "[CV]  max_depth=4, colsample_bytree=0.768313710128, subsample=0.850692845703 -   0.0s\n",
      "[CV] max_depth=4, colsample_bytree=0.768313710128, subsample=0.850692845703 \n",
      "[CV]  max_depth=4, colsample_bytree=0.768313710128, subsample=0.850692845703 -   0.0s\n",
      "[CV] max_depth=4, colsample_bytree=0.768313710128, subsample=0.850692845703 \n"
     ]
    },
    {
     "name": "stderr",
     "output_type": "stream",
     "text": [
      "C:\\Users\\Takashi\\Miniconda3\\lib\\site-packages\\sklearn\\metrics\\scorer.py:127: DeprecationWarning: Scoring method log_loss was renamed to neg_log_loss in version 0.18 and will be removed in 0.20.\n",
      "  sample_weight=sample_weight)\n",
      "C:\\Users\\Takashi\\Miniconda3\\lib\\site-packages\\sklearn\\metrics\\scorer.py:127: DeprecationWarning: Scoring method log_loss was renamed to neg_log_loss in version 0.18 and will be removed in 0.20.\n",
      "  sample_weight=sample_weight)\n",
      "C:\\Users\\Takashi\\Miniconda3\\lib\\site-packages\\sklearn\\metrics\\scorer.py:127: DeprecationWarning: Scoring method log_loss was renamed to neg_log_loss in version 0.18 and will be removed in 0.20.\n",
      "  sample_weight=sample_weight)\n"
     ]
    },
    {
     "name": "stdout",
     "output_type": "stream",
     "text": [
      "[CV]  max_depth=4, colsample_bytree=0.768313710128, subsample=0.850692845703 -   0.0s\n",
      "[CV] max_depth=4, colsample_bytree=0.768313710128, subsample=0.850692845703 \n",
      "[CV]  max_depth=4, colsample_bytree=0.768313710128, subsample=0.850692845703 -   0.0s\n",
      "[CV] max_depth=9, colsample_bytree=0.937802242786, subsample=0.501351476869 \n",
      "[CV]  max_depth=9, colsample_bytree=0.937802242786, subsample=0.501351476869 -   0.0s\n",
      "[CV] max_depth=9, colsample_bytree=0.937802242786, subsample=0.501351476869 \n"
     ]
    },
    {
     "name": "stderr",
     "output_type": "stream",
     "text": [
      "C:\\Users\\Takashi\\Miniconda3\\lib\\site-packages\\sklearn\\metrics\\scorer.py:127: DeprecationWarning: Scoring method log_loss was renamed to neg_log_loss in version 0.18 and will be removed in 0.20.\n",
      "  sample_weight=sample_weight)\n",
      "C:\\Users\\Takashi\\Miniconda3\\lib\\site-packages\\sklearn\\metrics\\scorer.py:127: DeprecationWarning: Scoring method log_loss was renamed to neg_log_loss in version 0.18 and will be removed in 0.20.\n",
      "  sample_weight=sample_weight)\n",
      "C:\\Users\\Takashi\\Miniconda3\\lib\\site-packages\\sklearn\\metrics\\scorer.py:127: DeprecationWarning: Scoring method log_loss was renamed to neg_log_loss in version 0.18 and will be removed in 0.20.\n",
      "  sample_weight=sample_weight)\n"
     ]
    },
    {
     "name": "stdout",
     "output_type": "stream",
     "text": [
      "[CV]  max_depth=9, colsample_bytree=0.937802242786, subsample=0.501351476869 -   0.0s\n",
      "[CV] max_depth=9, colsample_bytree=0.937802242786, subsample=0.501351476869 \n",
      "[CV]  max_depth=9, colsample_bytree=0.937802242786, subsample=0.501351476869 -   0.0s\n",
      "[CV] max_depth=9, colsample_bytree=0.937802242786, subsample=0.501351476869 \n",
      "[CV]  max_depth=9, colsample_bytree=0.937802242786, subsample=0.501351476869 -   0.0s\n",
      "[CV] max_depth=9, colsample_bytree=0.937802242786, subsample=0.501351476869 \n"
     ]
    },
    {
     "name": "stderr",
     "output_type": "stream",
     "text": [
      "C:\\Users\\Takashi\\Miniconda3\\lib\\site-packages\\sklearn\\metrics\\scorer.py:127: DeprecationWarning: Scoring method log_loss was renamed to neg_log_loss in version 0.18 and will be removed in 0.20.\n",
      "  sample_weight=sample_weight)\n",
      "C:\\Users\\Takashi\\Miniconda3\\lib\\site-packages\\sklearn\\metrics\\scorer.py:127: DeprecationWarning: Scoring method log_loss was renamed to neg_log_loss in version 0.18 and will be removed in 0.20.\n",
      "  sample_weight=sample_weight)\n"
     ]
    },
    {
     "name": "stdout",
     "output_type": "stream",
     "text": [
      "[CV]  max_depth=9, colsample_bytree=0.937802242786, subsample=0.501351476869 -   0.0s\n",
      "[CV] max_depth=9, colsample_bytree=0.937802242786, subsample=0.501351476869 \n",
      "[CV]  max_depth=9, colsample_bytree=0.937802242786, subsample=0.501351476869 -   0.0s\n",
      "[CV] max_depth=9, colsample_bytree=0.937802242786, subsample=0.501351476869 \n"
     ]
    },
    {
     "name": "stderr",
     "output_type": "stream",
     "text": [
      "C:\\Users\\Takashi\\Miniconda3\\lib\\site-packages\\sklearn\\metrics\\scorer.py:127: DeprecationWarning: Scoring method log_loss was renamed to neg_log_loss in version 0.18 and will be removed in 0.20.\n",
      "  sample_weight=sample_weight)\n",
      "C:\\Users\\Takashi\\Miniconda3\\lib\\site-packages\\sklearn\\metrics\\scorer.py:127: DeprecationWarning: Scoring method log_loss was renamed to neg_log_loss in version 0.18 and will be removed in 0.20.\n",
      "  sample_weight=sample_weight)\n"
     ]
    },
    {
     "name": "stdout",
     "output_type": "stream",
     "text": [
      "[CV]  max_depth=9, colsample_bytree=0.937802242786, subsample=0.501351476869 -   0.0s\n",
      "[CV] max_depth=9, colsample_bytree=0.937802242786, subsample=0.501351476869 \n",
      "[CV]  max_depth=9, colsample_bytree=0.937802242786, subsample=0.501351476869 -   0.0s\n",
      "[CV] max_depth=9, colsample_bytree=0.937802242786, subsample=0.501351476869 \n"
     ]
    },
    {
     "name": "stderr",
     "output_type": "stream",
     "text": [
      "C:\\Users\\Takashi\\Miniconda3\\lib\\site-packages\\sklearn\\metrics\\scorer.py:127: DeprecationWarning: Scoring method log_loss was renamed to neg_log_loss in version 0.18 and will be removed in 0.20.\n",
      "  sample_weight=sample_weight)\n",
      "C:\\Users\\Takashi\\Miniconda3\\lib\\site-packages\\sklearn\\metrics\\scorer.py:127: DeprecationWarning: Scoring method log_loss was renamed to neg_log_loss in version 0.18 and will be removed in 0.20.\n",
      "  sample_weight=sample_weight)\n",
      "C:\\Users\\Takashi\\Miniconda3\\lib\\site-packages\\sklearn\\metrics\\scorer.py:127: DeprecationWarning: Scoring method log_loss was renamed to neg_log_loss in version 0.18 and will be removed in 0.20.\n",
      "  sample_weight=sample_weight)\n"
     ]
    },
    {
     "name": "stdout",
     "output_type": "stream",
     "text": [
      "[CV]  max_depth=9, colsample_bytree=0.937802242786, subsample=0.501351476869 -   0.0s\n",
      "[CV] max_depth=9, colsample_bytree=0.937802242786, subsample=0.501351476869 \n",
      "[CV]  max_depth=9, colsample_bytree=0.937802242786, subsample=0.501351476869 -   0.0s\n",
      "[CV] max_depth=4, colsample_bytree=0.777729824916, subsample=0.53577885543 \n",
      "[CV]  max_depth=4, colsample_bytree=0.777729824916, subsample=0.53577885543 -   0.0s\n",
      "[CV] max_depth=4, colsample_bytree=0.777729824916, subsample=0.53577885543 \n"
     ]
    },
    {
     "name": "stderr",
     "output_type": "stream",
     "text": [
      "C:\\Users\\Takashi\\Miniconda3\\lib\\site-packages\\sklearn\\metrics\\scorer.py:127: DeprecationWarning: Scoring method log_loss was renamed to neg_log_loss in version 0.18 and will be removed in 0.20.\n",
      "  sample_weight=sample_weight)\n",
      "C:\\Users\\Takashi\\Miniconda3\\lib\\site-packages\\sklearn\\metrics\\scorer.py:127: DeprecationWarning: Scoring method log_loss was renamed to neg_log_loss in version 0.18 and will be removed in 0.20.\n",
      "  sample_weight=sample_weight)\n",
      "C:\\Users\\Takashi\\Miniconda3\\lib\\site-packages\\sklearn\\metrics\\scorer.py:127: DeprecationWarning: Scoring method log_loss was renamed to neg_log_loss in version 0.18 and will be removed in 0.20.\n",
      "  sample_weight=sample_weight)\n",
      "C:\\Users\\Takashi\\Miniconda3\\lib\\site-packages\\sklearn\\metrics\\scorer.py:127: DeprecationWarning: Scoring method log_loss was renamed to neg_log_loss in version 0.18 and will be removed in 0.20.\n",
      "  sample_weight=sample_weight)\n"
     ]
    },
    {
     "name": "stdout",
     "output_type": "stream",
     "text": [
      "[CV]  max_depth=4, colsample_bytree=0.777729824916, subsample=0.53577885543 -   0.0s\n",
      "[CV] max_depth=4, colsample_bytree=0.777729824916, subsample=0.53577885543 \n",
      "[CV]  max_depth=4, colsample_bytree=0.777729824916, subsample=0.53577885543 -   0.0s\n",
      "[CV] max_depth=4, colsample_bytree=0.777729824916, subsample=0.53577885543 \n",
      "[CV]  max_depth=4, colsample_bytree=0.777729824916, subsample=0.53577885543 -   0.0s\n",
      "[CV] max_depth=4, colsample_bytree=0.777729824916, subsample=0.53577885543 \n",
      "[CV]  max_depth=4, colsample_bytree=0.777729824916, subsample=0.53577885543 -   0.0s\n",
      "[CV] max_depth=4, colsample_bytree=0.777729824916, subsample=0.53577885543 \n"
     ]
    },
    {
     "name": "stderr",
     "output_type": "stream",
     "text": [
      "C:\\Users\\Takashi\\Miniconda3\\lib\\site-packages\\sklearn\\metrics\\scorer.py:127: DeprecationWarning: Scoring method log_loss was renamed to neg_log_loss in version 0.18 and will be removed in 0.20.\n",
      "  sample_weight=sample_weight)\n",
      "C:\\Users\\Takashi\\Miniconda3\\lib\\site-packages\\sklearn\\metrics\\scorer.py:127: DeprecationWarning: Scoring method log_loss was renamed to neg_log_loss in version 0.18 and will be removed in 0.20.\n",
      "  sample_weight=sample_weight)\n",
      "C:\\Users\\Takashi\\Miniconda3\\lib\\site-packages\\sklearn\\metrics\\scorer.py:127: DeprecationWarning: Scoring method log_loss was renamed to neg_log_loss in version 0.18 and will be removed in 0.20.\n",
      "  sample_weight=sample_weight)\n",
      "C:\\Users\\Takashi\\Miniconda3\\lib\\site-packages\\sklearn\\metrics\\scorer.py:127: DeprecationWarning: Scoring method log_loss was renamed to neg_log_loss in version 0.18 and will be removed in 0.20.\n",
      "  sample_weight=sample_weight)\n"
     ]
    },
    {
     "name": "stdout",
     "output_type": "stream",
     "text": [
      "[CV]  max_depth=4, colsample_bytree=0.777729824916, subsample=0.53577885543 -   0.0s\n",
      "[CV] max_depth=4, colsample_bytree=0.777729824916, subsample=0.53577885543 \n",
      "[CV]  max_depth=4, colsample_bytree=0.777729824916, subsample=0.53577885543 -   0.0s\n",
      "[CV] max_depth=4, colsample_bytree=0.777729824916, subsample=0.53577885543 \n",
      "[CV]  max_depth=4, colsample_bytree=0.777729824916, subsample=0.53577885543 -   0.0s\n",
      "[CV] max_depth=4, colsample_bytree=0.777729824916, subsample=0.53577885543 \n",
      "[CV]  max_depth=4, colsample_bytree=0.777729824916, subsample=0.53577885543 -   0.0s\n",
      "[CV] max_depth=4, colsample_bytree=0.777729824916, subsample=0.53577885543 \n"
     ]
    },
    {
     "name": "stderr",
     "output_type": "stream",
     "text": [
      "C:\\Users\\Takashi\\Miniconda3\\lib\\site-packages\\sklearn\\metrics\\scorer.py:127: DeprecationWarning: Scoring method log_loss was renamed to neg_log_loss in version 0.18 and will be removed in 0.20.\n",
      "  sample_weight=sample_weight)\n",
      "C:\\Users\\Takashi\\Miniconda3\\lib\\site-packages\\sklearn\\metrics\\scorer.py:127: DeprecationWarning: Scoring method log_loss was renamed to neg_log_loss in version 0.18 and will be removed in 0.20.\n",
      "  sample_weight=sample_weight)\n",
      "C:\\Users\\Takashi\\Miniconda3\\lib\\site-packages\\sklearn\\metrics\\scorer.py:127: DeprecationWarning: Scoring method log_loss was renamed to neg_log_loss in version 0.18 and will be removed in 0.20.\n",
      "  sample_weight=sample_weight)\n"
     ]
    },
    {
     "name": "stdout",
     "output_type": "stream",
     "text": [
      "[CV]  max_depth=4, colsample_bytree=0.777729824916, subsample=0.53577885543 -   0.0s\n",
      "[CV] max_depth=5, colsample_bytree=0.985342277232, subsample=0.664477203225 \n",
      "[CV]  max_depth=5, colsample_bytree=0.985342277232, subsample=0.664477203225 -   0.0s\n",
      "[CV] max_depth=5, colsample_bytree=0.985342277232, subsample=0.664477203225 \n",
      "[CV]  max_depth=5, colsample_bytree=0.985342277232, subsample=0.664477203225 -   0.0s\n",
      "[CV] max_depth=5, colsample_bytree=0.985342277232, subsample=0.664477203225 \n"
     ]
    },
    {
     "name": "stderr",
     "output_type": "stream",
     "text": [
      "C:\\Users\\Takashi\\Miniconda3\\lib\\site-packages\\sklearn\\metrics\\scorer.py:127: DeprecationWarning: Scoring method log_loss was renamed to neg_log_loss in version 0.18 and will be removed in 0.20.\n",
      "  sample_weight=sample_weight)\n",
      "C:\\Users\\Takashi\\Miniconda3\\lib\\site-packages\\sklearn\\metrics\\scorer.py:127: DeprecationWarning: Scoring method log_loss was renamed to neg_log_loss in version 0.18 and will be removed in 0.20.\n",
      "  sample_weight=sample_weight)\n",
      "C:\\Users\\Takashi\\Miniconda3\\lib\\site-packages\\sklearn\\metrics\\scorer.py:127: DeprecationWarning: Scoring method log_loss was renamed to neg_log_loss in version 0.18 and will be removed in 0.20.\n",
      "  sample_weight=sample_weight)\n"
     ]
    },
    {
     "name": "stdout",
     "output_type": "stream",
     "text": [
      "[CV]  max_depth=5, colsample_bytree=0.985342277232, subsample=0.664477203225 -   0.0s\n",
      "[CV] max_depth=5, colsample_bytree=0.985342277232, subsample=0.664477203225 \n",
      "[CV]  max_depth=5, colsample_bytree=0.985342277232, subsample=0.664477203225 -   0.0s\n",
      "[CV] max_depth=5, colsample_bytree=0.985342277232, subsample=0.664477203225 \n",
      "[CV]  max_depth=5, colsample_bytree=0.985342277232, subsample=0.664477203225 -   0.0s\n",
      "[CV] max_depth=5, colsample_bytree=0.985342277232, subsample=0.664477203225 \n"
     ]
    },
    {
     "name": "stderr",
     "output_type": "stream",
     "text": [
      "C:\\Users\\Takashi\\Miniconda3\\lib\\site-packages\\sklearn\\metrics\\scorer.py:127: DeprecationWarning: Scoring method log_loss was renamed to neg_log_loss in version 0.18 and will be removed in 0.20.\n",
      "  sample_weight=sample_weight)\n",
      "C:\\Users\\Takashi\\Miniconda3\\lib\\site-packages\\sklearn\\metrics\\scorer.py:127: DeprecationWarning: Scoring method log_loss was renamed to neg_log_loss in version 0.18 and will be removed in 0.20.\n",
      "  sample_weight=sample_weight)\n",
      "C:\\Users\\Takashi\\Miniconda3\\lib\\site-packages\\sklearn\\metrics\\scorer.py:127: DeprecationWarning: Scoring method log_loss was renamed to neg_log_loss in version 0.18 and will be removed in 0.20.\n",
      "  sample_weight=sample_weight)\n"
     ]
    },
    {
     "name": "stdout",
     "output_type": "stream",
     "text": [
      "[CV]  max_depth=5, colsample_bytree=0.985342277232, subsample=0.664477203225 -   0.0s\n",
      "[CV] max_depth=5, colsample_bytree=0.985342277232, subsample=0.664477203225 \n",
      "[CV]  max_depth=5, colsample_bytree=0.985342277232, subsample=0.664477203225 -   0.0s\n",
      "[CV] max_depth=5, colsample_bytree=0.985342277232, subsample=0.664477203225 \n",
      "[CV]  max_depth=5, colsample_bytree=0.985342277232, subsample=0.664477203225 -   0.0s\n",
      "[CV] max_depth=5, colsample_bytree=0.985342277232, subsample=0.664477203225 \n"
     ]
    },
    {
     "name": "stderr",
     "output_type": "stream",
     "text": [
      "C:\\Users\\Takashi\\Miniconda3\\lib\\site-packages\\sklearn\\metrics\\scorer.py:127: DeprecationWarning: Scoring method log_loss was renamed to neg_log_loss in version 0.18 and will be removed in 0.20.\n",
      "  sample_weight=sample_weight)\n",
      "C:\\Users\\Takashi\\Miniconda3\\lib\\site-packages\\sklearn\\metrics\\scorer.py:127: DeprecationWarning: Scoring method log_loss was renamed to neg_log_loss in version 0.18 and will be removed in 0.20.\n",
      "  sample_weight=sample_weight)\n",
      "C:\\Users\\Takashi\\Miniconda3\\lib\\site-packages\\sklearn\\metrics\\scorer.py:127: DeprecationWarning: Scoring method log_loss was renamed to neg_log_loss in version 0.18 and will be removed in 0.20.\n",
      "  sample_weight=sample_weight)\n",
      "C:\\Users\\Takashi\\Miniconda3\\lib\\site-packages\\sklearn\\metrics\\scorer.py:127: DeprecationWarning: Scoring method log_loss was renamed to neg_log_loss in version 0.18 and will be removed in 0.20.\n",
      "  sample_weight=sample_weight)\n"
     ]
    },
    {
     "name": "stdout",
     "output_type": "stream",
     "text": [
      "[CV]  max_depth=5, colsample_bytree=0.985342277232, subsample=0.664477203225 -   0.0s\n",
      "[CV] max_depth=5, colsample_bytree=0.985342277232, subsample=0.664477203225 \n",
      "[CV]  max_depth=5, colsample_bytree=0.985342277232, subsample=0.664477203225 -   0.0s\n",
      "[CV] max_depth=3, colsample_bytree=0.613608004375, subsample=0.672522221111 \n",
      "[CV]  max_depth=3, colsample_bytree=0.613608004375, subsample=0.672522221111 -   0.0s\n",
      "[CV] max_depth=3, colsample_bytree=0.613608004375, subsample=0.672522221111 \n",
      "[CV]  max_depth=3, colsample_bytree=0.613608004375, subsample=0.672522221111 -   0.0s\n",
      "[CV] max_depth=3, colsample_bytree=0.613608004375, subsample=0.672522221111 \n"
     ]
    },
    {
     "name": "stderr",
     "output_type": "stream",
     "text": [
      "C:\\Users\\Takashi\\Miniconda3\\lib\\site-packages\\sklearn\\metrics\\scorer.py:127: DeprecationWarning: Scoring method log_loss was renamed to neg_log_loss in version 0.18 and will be removed in 0.20.\n",
      "  sample_weight=sample_weight)\n",
      "C:\\Users\\Takashi\\Miniconda3\\lib\\site-packages\\sklearn\\metrics\\scorer.py:127: DeprecationWarning: Scoring method log_loss was renamed to neg_log_loss in version 0.18 and will be removed in 0.20.\n",
      "  sample_weight=sample_weight)\n",
      "C:\\Users\\Takashi\\Miniconda3\\lib\\site-packages\\sklearn\\metrics\\scorer.py:127: DeprecationWarning: Scoring method log_loss was renamed to neg_log_loss in version 0.18 and will be removed in 0.20.\n",
      "  sample_weight=sample_weight)\n",
      "C:\\Users\\Takashi\\Miniconda3\\lib\\site-packages\\sklearn\\metrics\\scorer.py:127: DeprecationWarning: Scoring method log_loss was renamed to neg_log_loss in version 0.18 and will be removed in 0.20.\n",
      "  sample_weight=sample_weight)\n",
      "C:\\Users\\Takashi\\Miniconda3\\lib\\site-packages\\sklearn\\metrics\\scorer.py:127: DeprecationWarning: Scoring method log_loss was renamed to neg_log_loss in version 0.18 and will be removed in 0.20.\n",
      "  sample_weight=sample_weight)\n"
     ]
    },
    {
     "name": "stdout",
     "output_type": "stream",
     "text": [
      "[CV]  max_depth=3, colsample_bytree=0.613608004375, subsample=0.672522221111 -   0.0s\n",
      "[CV] max_depth=3, colsample_bytree=0.613608004375, subsample=0.672522221111 \n",
      "[CV]  max_depth=3, colsample_bytree=0.613608004375, subsample=0.672522221111 -   0.0s\n",
      "[CV] max_depth=3, colsample_bytree=0.613608004375, subsample=0.672522221111 \n",
      "[CV]  max_depth=3, colsample_bytree=0.613608004375, subsample=0.672522221111 -   0.0s\n",
      "[CV] max_depth=3, colsample_bytree=0.613608004375, subsample=0.672522221111 \n",
      "[CV]  max_depth=3, colsample_bytree=0.613608004375, subsample=0.672522221111 -   0.0s\n",
      "[CV] max_depth=3, colsample_bytree=0.613608004375, subsample=0.672522221111 \n",
      "[CV]  max_depth=3, colsample_bytree=0.613608004375, subsample=0.672522221111 -   0.0s\n",
      "[CV] max_depth=3, colsample_bytree=0.613608004375, subsample=0.672522221111 \n"
     ]
    },
    {
     "name": "stderr",
     "output_type": "stream",
     "text": [
      "C:\\Users\\Takashi\\Miniconda3\\lib\\site-packages\\sklearn\\metrics\\scorer.py:127: DeprecationWarning: Scoring method log_loss was renamed to neg_log_loss in version 0.18 and will be removed in 0.20.\n",
      "  sample_weight=sample_weight)\n",
      "C:\\Users\\Takashi\\Miniconda3\\lib\\site-packages\\sklearn\\metrics\\scorer.py:127: DeprecationWarning: Scoring method log_loss was renamed to neg_log_loss in version 0.18 and will be removed in 0.20.\n",
      "  sample_weight=sample_weight)\n",
      "C:\\Users\\Takashi\\Miniconda3\\lib\\site-packages\\sklearn\\metrics\\scorer.py:127: DeprecationWarning: Scoring method log_loss was renamed to neg_log_loss in version 0.18 and will be removed in 0.20.\n",
      "  sample_weight=sample_weight)\n",
      "C:\\Users\\Takashi\\Miniconda3\\lib\\site-packages\\sklearn\\metrics\\scorer.py:127: DeprecationWarning: Scoring method log_loss was renamed to neg_log_loss in version 0.18 and will be removed in 0.20.\n",
      "  sample_weight=sample_weight)\n",
      "C:\\Users\\Takashi\\Miniconda3\\lib\\site-packages\\sklearn\\metrics\\scorer.py:127: DeprecationWarning: Scoring method log_loss was renamed to neg_log_loss in version 0.18 and will be removed in 0.20.\n",
      "  sample_weight=sample_weight)\n"
     ]
    },
    {
     "name": "stdout",
     "output_type": "stream",
     "text": [
      "[CV]  max_depth=3, colsample_bytree=0.613608004375, subsample=0.672522221111 -   0.0s\n",
      "[CV] max_depth=3, colsample_bytree=0.613608004375, subsample=0.672522221111 \n",
      "[CV]  max_depth=3, colsample_bytree=0.613608004375, subsample=0.672522221111 -   0.0s\n",
      "[CV] max_depth=3, colsample_bytree=0.613608004375, subsample=0.672522221111 \n",
      "[CV]  max_depth=3, colsample_bytree=0.613608004375, subsample=0.672522221111 -   0.0s\n",
      "[CV] max_depth=2, colsample_bytree=0.956490749412, subsample=0.964233091319 \n",
      "[CV]  max_depth=2, colsample_bytree=0.956490749412, subsample=0.964233091319 -   0.0s\n",
      "[CV] max_depth=2, colsample_bytree=0.956490749412, subsample=0.964233091319 \n",
      "[CV]  max_depth=2, colsample_bytree=0.956490749412, subsample=0.964233091319 -   0.0s\n",
      "[CV] max_depth=2, colsample_bytree=0.956490749412, subsample=0.964233091319 \n"
     ]
    },
    {
     "name": "stderr",
     "output_type": "stream",
     "text": [
      "C:\\Users\\Takashi\\Miniconda3\\lib\\site-packages\\sklearn\\metrics\\scorer.py:127: DeprecationWarning: Scoring method log_loss was renamed to neg_log_loss in version 0.18 and will be removed in 0.20.\n",
      "  sample_weight=sample_weight)\n",
      "C:\\Users\\Takashi\\Miniconda3\\lib\\site-packages\\sklearn\\metrics\\scorer.py:127: DeprecationWarning: Scoring method log_loss was renamed to neg_log_loss in version 0.18 and will be removed in 0.20.\n",
      "  sample_weight=sample_weight)\n",
      "C:\\Users\\Takashi\\Miniconda3\\lib\\site-packages\\sklearn\\metrics\\scorer.py:127: DeprecationWarning: Scoring method log_loss was renamed to neg_log_loss in version 0.18 and will be removed in 0.20.\n",
      "  sample_weight=sample_weight)\n",
      "C:\\Users\\Takashi\\Miniconda3\\lib\\site-packages\\sklearn\\metrics\\scorer.py:127: DeprecationWarning: Scoring method log_loss was renamed to neg_log_loss in version 0.18 and will be removed in 0.20.\n",
      "  sample_weight=sample_weight)\n",
      "C:\\Users\\Takashi\\Miniconda3\\lib\\site-packages\\sklearn\\metrics\\scorer.py:127: DeprecationWarning: Scoring method log_loss was renamed to neg_log_loss in version 0.18 and will be removed in 0.20.\n",
      "  sample_weight=sample_weight)\n",
      "C:\\Users\\Takashi\\Miniconda3\\lib\\site-packages\\sklearn\\metrics\\scorer.py:127: DeprecationWarning: Scoring method log_loss was renamed to neg_log_loss in version 0.18 and will be removed in 0.20.\n",
      "  sample_weight=sample_weight)\n"
     ]
    },
    {
     "name": "stdout",
     "output_type": "stream",
     "text": [
      "[CV]  max_depth=2, colsample_bytree=0.956490749412, subsample=0.964233091319 -   0.0s\n",
      "[CV] max_depth=2, colsample_bytree=0.956490749412, subsample=0.964233091319 \n",
      "[CV]  max_depth=2, colsample_bytree=0.956490749412, subsample=0.964233091319 -   0.0s\n",
      "[CV] max_depth=2, colsample_bytree=0.956490749412, subsample=0.964233091319 \n",
      "[CV]  max_depth=2, colsample_bytree=0.956490749412, subsample=0.964233091319 -   0.0s\n",
      "[CV] max_depth=2, colsample_bytree=0.956490749412, subsample=0.964233091319 \n",
      "[CV]  max_depth=2, colsample_bytree=0.956490749412, subsample=0.964233091319 -   0.0s\n",
      "[CV] max_depth=2, colsample_bytree=0.956490749412, subsample=0.964233091319 \n",
      "[CV]  max_depth=2, colsample_bytree=0.956490749412, subsample=0.964233091319 -   0.0s\n",
      "[CV] max_depth=2, colsample_bytree=0.956490749412, subsample=0.964233091319 \n",
      "[CV]  max_depth=2, colsample_bytree=0.956490749412, subsample=0.964233091319 -   0.0s\n",
      "[CV] max_depth=2, colsample_bytree=0.956490749412, subsample=0.964233091319 \n"
     ]
    },
    {
     "name": "stderr",
     "output_type": "stream",
     "text": [
      "C:\\Users\\Takashi\\Miniconda3\\lib\\site-packages\\sklearn\\metrics\\scorer.py:127: DeprecationWarning: Scoring method log_loss was renamed to neg_log_loss in version 0.18 and will be removed in 0.20.\n",
      "  sample_weight=sample_weight)\n",
      "C:\\Users\\Takashi\\Miniconda3\\lib\\site-packages\\sklearn\\metrics\\scorer.py:127: DeprecationWarning: Scoring method log_loss was renamed to neg_log_loss in version 0.18 and will be removed in 0.20.\n",
      "  sample_weight=sample_weight)\n",
      "C:\\Users\\Takashi\\Miniconda3\\lib\\site-packages\\sklearn\\metrics\\scorer.py:127: DeprecationWarning: Scoring method log_loss was renamed to neg_log_loss in version 0.18 and will be removed in 0.20.\n",
      "  sample_weight=sample_weight)\n",
      "C:\\Users\\Takashi\\Miniconda3\\lib\\site-packages\\sklearn\\metrics\\scorer.py:127: DeprecationWarning: Scoring method log_loss was renamed to neg_log_loss in version 0.18 and will be removed in 0.20.\n",
      "  sample_weight=sample_weight)\n",
      "C:\\Users\\Takashi\\Miniconda3\\lib\\site-packages\\sklearn\\metrics\\scorer.py:127: DeprecationWarning: Scoring method log_loss was renamed to neg_log_loss in version 0.18 and will be removed in 0.20.\n",
      "  sample_weight=sample_weight)\n"
     ]
    },
    {
     "name": "stdout",
     "output_type": "stream",
     "text": [
      "[CV]  max_depth=2, colsample_bytree=0.956490749412, subsample=0.964233091319 -   0.0s\n",
      "[CV] max_depth=2, colsample_bytree=0.956490749412, subsample=0.964233091319 \n",
      "[CV]  max_depth=2, colsample_bytree=0.956490749412, subsample=0.964233091319 -   0.0s\n",
      "[CV] max_depth=3, colsample_bytree=0.570138625009, subsample=0.56640845913 \n",
      "[CV]  max_depth=3, colsample_bytree=0.570138625009, subsample=0.56640845913 -   0.0s\n",
      "[CV] max_depth=3, colsample_bytree=0.570138625009, subsample=0.56640845913 \n",
      "[CV]  max_depth=3, colsample_bytree=0.570138625009, subsample=0.56640845913 -   0.0s\n",
      "[CV] max_depth=3, colsample_bytree=0.570138625009, subsample=0.56640845913 \n",
      "[CV]  max_depth=3, colsample_bytree=0.570138625009, subsample=0.56640845913 -   0.0s\n",
      "[CV] max_depth=3, colsample_bytree=0.570138625009, subsample=0.56640845913 \n"
     ]
    },
    {
     "name": "stderr",
     "output_type": "stream",
     "text": [
      "C:\\Users\\Takashi\\Miniconda3\\lib\\site-packages\\sklearn\\metrics\\scorer.py:127: DeprecationWarning: Scoring method log_loss was renamed to neg_log_loss in version 0.18 and will be removed in 0.20.\n",
      "  sample_weight=sample_weight)\n",
      "C:\\Users\\Takashi\\Miniconda3\\lib\\site-packages\\sklearn\\metrics\\scorer.py:127: DeprecationWarning: Scoring method log_loss was renamed to neg_log_loss in version 0.18 and will be removed in 0.20.\n",
      "  sample_weight=sample_weight)\n",
      "C:\\Users\\Takashi\\Miniconda3\\lib\\site-packages\\sklearn\\metrics\\scorer.py:127: DeprecationWarning: Scoring method log_loss was renamed to neg_log_loss in version 0.18 and will be removed in 0.20.\n",
      "  sample_weight=sample_weight)\n",
      "C:\\Users\\Takashi\\Miniconda3\\lib\\site-packages\\sklearn\\metrics\\scorer.py:127: DeprecationWarning: Scoring method log_loss was renamed to neg_log_loss in version 0.18 and will be removed in 0.20.\n",
      "  sample_weight=sample_weight)\n",
      "C:\\Users\\Takashi\\Miniconda3\\lib\\site-packages\\sklearn\\metrics\\scorer.py:127: DeprecationWarning: Scoring method log_loss was renamed to neg_log_loss in version 0.18 and will be removed in 0.20.\n",
      "  sample_weight=sample_weight)\n"
     ]
    },
    {
     "name": "stdout",
     "output_type": "stream",
     "text": [
      "[CV]  max_depth=3, colsample_bytree=0.570138625009, subsample=0.56640845913 -   0.0s\n",
      "[CV] max_depth=3, colsample_bytree=0.570138625009, subsample=0.56640845913 \n",
      "[CV]  max_depth=3, colsample_bytree=0.570138625009, subsample=0.56640845913 -   0.0s\n",
      "[CV] max_depth=3, colsample_bytree=0.570138625009, subsample=0.56640845913 \n",
      "[CV]  max_depth=3, colsample_bytree=0.570138625009, subsample=0.56640845913 -   0.0s\n",
      "[CV] max_depth=3, colsample_bytree=0.570138625009, subsample=0.56640845913 \n",
      "[CV]  max_depth=3, colsample_bytree=0.570138625009, subsample=0.56640845913 -   0.0s\n",
      "[CV] max_depth=3, colsample_bytree=0.570138625009, subsample=0.56640845913 \n",
      "[CV]  max_depth=3, colsample_bytree=0.570138625009, subsample=0.56640845913 -   0.0s\n",
      "[CV] max_depth=3, colsample_bytree=0.570138625009, subsample=0.56640845913 \n"
     ]
    },
    {
     "name": "stderr",
     "output_type": "stream",
     "text": [
      "C:\\Users\\Takashi\\Miniconda3\\lib\\site-packages\\sklearn\\metrics\\scorer.py:127: DeprecationWarning: Scoring method log_loss was renamed to neg_log_loss in version 0.18 and will be removed in 0.20.\n",
      "  sample_weight=sample_weight)\n",
      "C:\\Users\\Takashi\\Miniconda3\\lib\\site-packages\\sklearn\\metrics\\scorer.py:127: DeprecationWarning: Scoring method log_loss was renamed to neg_log_loss in version 0.18 and will be removed in 0.20.\n",
      "  sample_weight=sample_weight)\n",
      "C:\\Users\\Takashi\\Miniconda3\\lib\\site-packages\\sklearn\\metrics\\scorer.py:127: DeprecationWarning: Scoring method log_loss was renamed to neg_log_loss in version 0.18 and will be removed in 0.20.\n",
      "  sample_weight=sample_weight)\n"
     ]
    },
    {
     "name": "stdout",
     "output_type": "stream",
     "text": [
      "[CV]  max_depth=3, colsample_bytree=0.570138625009, subsample=0.56640845913 -   0.0s\n",
      "[CV] max_depth=3, colsample_bytree=0.570138625009, subsample=0.56640845913 \n",
      "[CV]  max_depth=3, colsample_bytree=0.570138625009, subsample=0.56640845913 -   0.0s\n",
      "[CV] max_depth=6, colsample_bytree=0.726238351791, subsample=0.598333872096 \n",
      "[CV]  max_depth=6, colsample_bytree=0.726238351791, subsample=0.598333872096 -   0.0s\n",
      "[CV] max_depth=6, colsample_bytree=0.726238351791, subsample=0.598333872096 \n"
     ]
    },
    {
     "name": "stderr",
     "output_type": "stream",
     "text": [
      "C:\\Users\\Takashi\\Miniconda3\\lib\\site-packages\\sklearn\\metrics\\scorer.py:127: DeprecationWarning: Scoring method log_loss was renamed to neg_log_loss in version 0.18 and will be removed in 0.20.\n",
      "  sample_weight=sample_weight)\n",
      "C:\\Users\\Takashi\\Miniconda3\\lib\\site-packages\\sklearn\\metrics\\scorer.py:127: DeprecationWarning: Scoring method log_loss was renamed to neg_log_loss in version 0.18 and will be removed in 0.20.\n",
      "  sample_weight=sample_weight)\n",
      "C:\\Users\\Takashi\\Miniconda3\\lib\\site-packages\\sklearn\\metrics\\scorer.py:127: DeprecationWarning: Scoring method log_loss was renamed to neg_log_loss in version 0.18 and will be removed in 0.20.\n",
      "  sample_weight=sample_weight)\n"
     ]
    },
    {
     "name": "stdout",
     "output_type": "stream",
     "text": [
      "[CV]  max_depth=6, colsample_bytree=0.726238351791, subsample=0.598333872096 -   0.0s\n",
      "[CV] max_depth=6, colsample_bytree=0.726238351791, subsample=0.598333872096 \n",
      "[CV]  max_depth=6, colsample_bytree=0.726238351791, subsample=0.598333872096 -   0.0s\n",
      "[CV] max_depth=6, colsample_bytree=0.726238351791, subsample=0.598333872096 \n",
      "[CV]  max_depth=6, colsample_bytree=0.726238351791, subsample=0.598333872096 -   0.0s\n",
      "[CV] max_depth=6, colsample_bytree=0.726238351791, subsample=0.598333872096 \n"
     ]
    },
    {
     "name": "stderr",
     "output_type": "stream",
     "text": [
      "C:\\Users\\Takashi\\Miniconda3\\lib\\site-packages\\sklearn\\metrics\\scorer.py:127: DeprecationWarning: Scoring method log_loss was renamed to neg_log_loss in version 0.18 and will be removed in 0.20.\n",
      "  sample_weight=sample_weight)\n",
      "C:\\Users\\Takashi\\Miniconda3\\lib\\site-packages\\sklearn\\metrics\\scorer.py:127: DeprecationWarning: Scoring method log_loss was renamed to neg_log_loss in version 0.18 and will be removed in 0.20.\n",
      "  sample_weight=sample_weight)\n",
      "C:\\Users\\Takashi\\Miniconda3\\lib\\site-packages\\sklearn\\metrics\\scorer.py:127: DeprecationWarning: Scoring method log_loss was renamed to neg_log_loss in version 0.18 and will be removed in 0.20.\n",
      "  sample_weight=sample_weight)\n"
     ]
    },
    {
     "name": "stdout",
     "output_type": "stream",
     "text": [
      "[CV]  max_depth=6, colsample_bytree=0.726238351791, subsample=0.598333872096 -   0.0s\n",
      "[CV] max_depth=6, colsample_bytree=0.726238351791, subsample=0.598333872096 \n",
      "[CV]  max_depth=6, colsample_bytree=0.726238351791, subsample=0.598333872096 -   0.0s\n",
      "[CV] max_depth=6, colsample_bytree=0.726238351791, subsample=0.598333872096 \n",
      "[CV]  max_depth=6, colsample_bytree=0.726238351791, subsample=0.598333872096 -   0.0s\n",
      "[CV] max_depth=6, colsample_bytree=0.726238351791, subsample=0.598333872096 \n"
     ]
    },
    {
     "name": "stderr",
     "output_type": "stream",
     "text": [
      "C:\\Users\\Takashi\\Miniconda3\\lib\\site-packages\\sklearn\\metrics\\scorer.py:127: DeprecationWarning: Scoring method log_loss was renamed to neg_log_loss in version 0.18 and will be removed in 0.20.\n",
      "  sample_weight=sample_weight)\n",
      "C:\\Users\\Takashi\\Miniconda3\\lib\\site-packages\\sklearn\\metrics\\scorer.py:127: DeprecationWarning: Scoring method log_loss was renamed to neg_log_loss in version 0.18 and will be removed in 0.20.\n",
      "  sample_weight=sample_weight)\n",
      "C:\\Users\\Takashi\\Miniconda3\\lib\\site-packages\\sklearn\\metrics\\scorer.py:127: DeprecationWarning: Scoring method log_loss was renamed to neg_log_loss in version 0.18 and will be removed in 0.20.\n",
      "  sample_weight=sample_weight)\n"
     ]
    },
    {
     "name": "stdout",
     "output_type": "stream",
     "text": [
      "[CV]  max_depth=6, colsample_bytree=0.726238351791, subsample=0.598333872096 -   0.0s\n",
      "[CV] max_depth=6, colsample_bytree=0.726238351791, subsample=0.598333872096 \n",
      "[CV]  max_depth=6, colsample_bytree=0.726238351791, subsample=0.598333872096 -   0.0s\n",
      "[CV] max_depth=6, colsample_bytree=0.726238351791, subsample=0.598333872096 \n",
      "[CV]  max_depth=6, colsample_bytree=0.726238351791, subsample=0.598333872096 -   0.0s\n",
      "[CV] max_depth=8, colsample_bytree=0.754268737817, subsample=0.681524308744 \n"
     ]
    },
    {
     "name": "stderr",
     "output_type": "stream",
     "text": [
      "C:\\Users\\Takashi\\Miniconda3\\lib\\site-packages\\sklearn\\metrics\\scorer.py:127: DeprecationWarning: Scoring method log_loss was renamed to neg_log_loss in version 0.18 and will be removed in 0.20.\n",
      "  sample_weight=sample_weight)\n",
      "C:\\Users\\Takashi\\Miniconda3\\lib\\site-packages\\sklearn\\metrics\\scorer.py:127: DeprecationWarning: Scoring method log_loss was renamed to neg_log_loss in version 0.18 and will be removed in 0.20.\n",
      "  sample_weight=sample_weight)\n"
     ]
    },
    {
     "name": "stdout",
     "output_type": "stream",
     "text": [
      "[CV]  max_depth=8, colsample_bytree=0.754268737817, subsample=0.681524308744 -   0.0s\n",
      "[CV] max_depth=8, colsample_bytree=0.754268737817, subsample=0.681524308744 \n",
      "[CV]  max_depth=8, colsample_bytree=0.754268737817, subsample=0.681524308744 -   0.0s\n",
      "[CV] max_depth=8, colsample_bytree=0.754268737817, subsample=0.681524308744 \n"
     ]
    },
    {
     "name": "stderr",
     "output_type": "stream",
     "text": [
      "C:\\Users\\Takashi\\Miniconda3\\lib\\site-packages\\sklearn\\metrics\\scorer.py:127: DeprecationWarning: Scoring method log_loss was renamed to neg_log_loss in version 0.18 and will be removed in 0.20.\n",
      "  sample_weight=sample_weight)\n",
      "C:\\Users\\Takashi\\Miniconda3\\lib\\site-packages\\sklearn\\metrics\\scorer.py:127: DeprecationWarning: Scoring method log_loss was renamed to neg_log_loss in version 0.18 and will be removed in 0.20.\n",
      "  sample_weight=sample_weight)\n"
     ]
    },
    {
     "name": "stdout",
     "output_type": "stream",
     "text": [
      "[CV]  max_depth=8, colsample_bytree=0.754268737817, subsample=0.681524308744 -   0.0s\n",
      "[CV] max_depth=8, colsample_bytree=0.754268737817, subsample=0.681524308744 \n",
      "[CV]  max_depth=8, colsample_bytree=0.754268737817, subsample=0.681524308744 -   0.0s\n",
      "[CV] max_depth=8, colsample_bytree=0.754268737817, subsample=0.681524308744 \n"
     ]
    },
    {
     "name": "stderr",
     "output_type": "stream",
     "text": [
      "C:\\Users\\Takashi\\Miniconda3\\lib\\site-packages\\sklearn\\metrics\\scorer.py:127: DeprecationWarning: Scoring method log_loss was renamed to neg_log_loss in version 0.18 and will be removed in 0.20.\n",
      "  sample_weight=sample_weight)\n",
      "C:\\Users\\Takashi\\Miniconda3\\lib\\site-packages\\sklearn\\metrics\\scorer.py:127: DeprecationWarning: Scoring method log_loss was renamed to neg_log_loss in version 0.18 and will be removed in 0.20.\n",
      "  sample_weight=sample_weight)\n",
      "C:\\Users\\Takashi\\Miniconda3\\lib\\site-packages\\sklearn\\metrics\\scorer.py:127: DeprecationWarning: Scoring method log_loss was renamed to neg_log_loss in version 0.18 and will be removed in 0.20.\n",
      "  sample_weight=sample_weight)\n"
     ]
    },
    {
     "name": "stdout",
     "output_type": "stream",
     "text": [
      "[CV]  max_depth=8, colsample_bytree=0.754268737817, subsample=0.681524308744 -   0.0s\n",
      "[CV] max_depth=8, colsample_bytree=0.754268737817, subsample=0.681524308744 \n",
      "[CV]  max_depth=8, colsample_bytree=0.754268737817, subsample=0.681524308744 -   0.0s\n",
      "[CV] max_depth=8, colsample_bytree=0.754268737817, subsample=0.681524308744 \n",
      "[CV]  max_depth=8, colsample_bytree=0.754268737817, subsample=0.681524308744 -   0.0s\n",
      "[CV] max_depth=8, colsample_bytree=0.754268737817, subsample=0.681524308744 \n"
     ]
    },
    {
     "name": "stderr",
     "output_type": "stream",
     "text": [
      "C:\\Users\\Takashi\\Miniconda3\\lib\\site-packages\\sklearn\\metrics\\scorer.py:127: DeprecationWarning: Scoring method log_loss was renamed to neg_log_loss in version 0.18 and will be removed in 0.20.\n",
      "  sample_weight=sample_weight)\n",
      "C:\\Users\\Takashi\\Miniconda3\\lib\\site-packages\\sklearn\\metrics\\scorer.py:127: DeprecationWarning: Scoring method log_loss was renamed to neg_log_loss in version 0.18 and will be removed in 0.20.\n",
      "  sample_weight=sample_weight)\n",
      "C:\\Users\\Takashi\\Miniconda3\\lib\\site-packages\\sklearn\\metrics\\scorer.py:127: DeprecationWarning: Scoring method log_loss was renamed to neg_log_loss in version 0.18 and will be removed in 0.20.\n",
      "  sample_weight=sample_weight)\n"
     ]
    },
    {
     "name": "stdout",
     "output_type": "stream",
     "text": [
      "[CV]  max_depth=8, colsample_bytree=0.754268737817, subsample=0.681524308744 -   0.0s\n",
      "[CV] max_depth=8, colsample_bytree=0.754268737817, subsample=0.681524308744 \n",
      "[CV]  max_depth=8, colsample_bytree=0.754268737817, subsample=0.681524308744 -   0.0s\n",
      "[CV] max_depth=8, colsample_bytree=0.754268737817, subsample=0.681524308744 \n",
      "[CV]  max_depth=8, colsample_bytree=0.754268737817, subsample=0.681524308744 -   0.0s\n",
      "[CV] max_depth=7, colsample_bytree=0.821881858227, subsample=0.960691494841 \n"
     ]
    },
    {
     "name": "stderr",
     "output_type": "stream",
     "text": [
      "C:\\Users\\Takashi\\Miniconda3\\lib\\site-packages\\sklearn\\metrics\\scorer.py:127: DeprecationWarning: Scoring method log_loss was renamed to neg_log_loss in version 0.18 and will be removed in 0.20.\n",
      "  sample_weight=sample_weight)\n",
      "C:\\Users\\Takashi\\Miniconda3\\lib\\site-packages\\sklearn\\metrics\\scorer.py:127: DeprecationWarning: Scoring method log_loss was renamed to neg_log_loss in version 0.18 and will be removed in 0.20.\n",
      "  sample_weight=sample_weight)\n",
      "C:\\Users\\Takashi\\Miniconda3\\lib\\site-packages\\sklearn\\metrics\\scorer.py:127: DeprecationWarning: Scoring method log_loss was renamed to neg_log_loss in version 0.18 and will be removed in 0.20.\n",
      "  sample_weight=sample_weight)\n"
     ]
    },
    {
     "name": "stdout",
     "output_type": "stream",
     "text": [
      "[CV]  max_depth=7, colsample_bytree=0.821881858227, subsample=0.960691494841 -   0.0s\n",
      "[CV] max_depth=7, colsample_bytree=0.821881858227, subsample=0.960691494841 \n",
      "[CV]  max_depth=7, colsample_bytree=0.821881858227, subsample=0.960691494841 -   0.0s\n",
      "[CV] max_depth=7, colsample_bytree=0.821881858227, subsample=0.960691494841 \n",
      "[CV]  max_depth=7, colsample_bytree=0.821881858227, subsample=0.960691494841 -   0.0s\n",
      "[CV] max_depth=7, colsample_bytree=0.821881858227, subsample=0.960691494841 \n"
     ]
    },
    {
     "name": "stderr",
     "output_type": "stream",
     "text": [
      "C:\\Users\\Takashi\\Miniconda3\\lib\\site-packages\\sklearn\\metrics\\scorer.py:127: DeprecationWarning: Scoring method log_loss was renamed to neg_log_loss in version 0.18 and will be removed in 0.20.\n",
      "  sample_weight=sample_weight)\n",
      "C:\\Users\\Takashi\\Miniconda3\\lib\\site-packages\\sklearn\\metrics\\scorer.py:127: DeprecationWarning: Scoring method log_loss was renamed to neg_log_loss in version 0.18 and will be removed in 0.20.\n",
      "  sample_weight=sample_weight)\n",
      "C:\\Users\\Takashi\\Miniconda3\\lib\\site-packages\\sklearn\\metrics\\scorer.py:127: DeprecationWarning: Scoring method log_loss was renamed to neg_log_loss in version 0.18 and will be removed in 0.20.\n",
      "  sample_weight=sample_weight)\n"
     ]
    },
    {
     "name": "stdout",
     "output_type": "stream",
     "text": [
      "[CV]  max_depth=7, colsample_bytree=0.821881858227, subsample=0.960691494841 -   0.0s\n",
      "[CV] max_depth=7, colsample_bytree=0.821881858227, subsample=0.960691494841 \n",
      "[CV]  max_depth=7, colsample_bytree=0.821881858227, subsample=0.960691494841 -   0.0s\n",
      "[CV] max_depth=7, colsample_bytree=0.821881858227, subsample=0.960691494841 \n",
      "[CV]  max_depth=7, colsample_bytree=0.821881858227, subsample=0.960691494841 -   0.0s\n",
      "[CV] max_depth=7, colsample_bytree=0.821881858227, subsample=0.960691494841 \n"
     ]
    },
    {
     "name": "stderr",
     "output_type": "stream",
     "text": [
      "C:\\Users\\Takashi\\Miniconda3\\lib\\site-packages\\sklearn\\metrics\\scorer.py:127: DeprecationWarning: Scoring method log_loss was renamed to neg_log_loss in version 0.18 and will be removed in 0.20.\n",
      "  sample_weight=sample_weight)\n",
      "C:\\Users\\Takashi\\Miniconda3\\lib\\site-packages\\sklearn\\metrics\\scorer.py:127: DeprecationWarning: Scoring method log_loss was renamed to neg_log_loss in version 0.18 and will be removed in 0.20.\n",
      "  sample_weight=sample_weight)\n",
      "C:\\Users\\Takashi\\Miniconda3\\lib\\site-packages\\sklearn\\metrics\\scorer.py:127: DeprecationWarning: Scoring method log_loss was renamed to neg_log_loss in version 0.18 and will be removed in 0.20.\n",
      "  sample_weight=sample_weight)\n"
     ]
    },
    {
     "name": "stdout",
     "output_type": "stream",
     "text": [
      "[CV]  max_depth=7, colsample_bytree=0.821881858227, subsample=0.960691494841 -   0.0s\n",
      "[CV] max_depth=7, colsample_bytree=0.821881858227, subsample=0.960691494841 \n",
      "[CV]  max_depth=7, colsample_bytree=0.821881858227, subsample=0.960691494841 -   0.0s\n",
      "[CV] max_depth=7, colsample_bytree=0.821881858227, subsample=0.960691494841 \n",
      "[CV]  max_depth=7, colsample_bytree=0.821881858227, subsample=0.960691494841 -   0.0s\n",
      "[CV] max_depth=7, colsample_bytree=0.821881858227, subsample=0.960691494841 \n"
     ]
    },
    {
     "name": "stderr",
     "output_type": "stream",
     "text": [
      "C:\\Users\\Takashi\\Miniconda3\\lib\\site-packages\\sklearn\\metrics\\scorer.py:127: DeprecationWarning: Scoring method log_loss was renamed to neg_log_loss in version 0.18 and will be removed in 0.20.\n",
      "  sample_weight=sample_weight)\n",
      "C:\\Users\\Takashi\\Miniconda3\\lib\\site-packages\\sklearn\\metrics\\scorer.py:127: DeprecationWarning: Scoring method log_loss was renamed to neg_log_loss in version 0.18 and will be removed in 0.20.\n",
      "  sample_weight=sample_weight)\n",
      "C:\\Users\\Takashi\\Miniconda3\\lib\\site-packages\\sklearn\\metrics\\scorer.py:127: DeprecationWarning: Scoring method log_loss was renamed to neg_log_loss in version 0.18 and will be removed in 0.20.\n",
      "  sample_weight=sample_weight)\n"
     ]
    },
    {
     "name": "stdout",
     "output_type": "stream",
     "text": [
      "[CV]  max_depth=7, colsample_bytree=0.821881858227, subsample=0.960691494841 -   0.0s\n",
      "[CV] max_depth=10, colsample_bytree=0.735537859662, subsample=0.611853646004 \n",
      "[CV]  max_depth=10, colsample_bytree=0.735537859662, subsample=0.611853646004 -   0.0s\n",
      "[CV] max_depth=10, colsample_bytree=0.735537859662, subsample=0.611853646004 \n",
      "[CV]  max_depth=10, colsample_bytree=0.735537859662, subsample=0.611853646004 -   0.0s\n",
      "[CV] max_depth=10, colsample_bytree=0.735537859662, subsample=0.611853646004 \n",
      "[CV]  max_depth=10, colsample_bytree=0.735537859662, subsample=0.611853646004 -   0.0s\n",
      "[CV] max_depth=10, colsample_bytree=0.735537859662, subsample=0.611853646004 \n",
      "[CV]  max_depth=10, colsample_bytree=0.735537859662, subsample=0.611853646004 -   0.0s\n",
      "[CV] max_depth=10, colsample_bytree=0.735537859662, subsample=0.611853646004 \n"
     ]
    },
    {
     "name": "stderr",
     "output_type": "stream",
     "text": [
      "C:\\Users\\Takashi\\Miniconda3\\lib\\site-packages\\sklearn\\metrics\\scorer.py:127: DeprecationWarning: Scoring method log_loss was renamed to neg_log_loss in version 0.18 and will be removed in 0.20.\n",
      "  sample_weight=sample_weight)\n",
      "C:\\Users\\Takashi\\Miniconda3\\lib\\site-packages\\sklearn\\metrics\\scorer.py:127: DeprecationWarning: Scoring method log_loss was renamed to neg_log_loss in version 0.18 and will be removed in 0.20.\n",
      "  sample_weight=sample_weight)\n",
      "C:\\Users\\Takashi\\Miniconda3\\lib\\site-packages\\sklearn\\metrics\\scorer.py:127: DeprecationWarning: Scoring method log_loss was renamed to neg_log_loss in version 0.18 and will be removed in 0.20.\n",
      "  sample_weight=sample_weight)\n"
     ]
    },
    {
     "name": "stdout",
     "output_type": "stream",
     "text": [
      "[CV]  max_depth=10, colsample_bytree=0.735537859662, subsample=0.611853646004 -   0.0s\n",
      "[CV] max_depth=10, colsample_bytree=0.735537859662, subsample=0.611853646004 \n",
      "[CV]  max_depth=10, colsample_bytree=0.735537859662, subsample=0.611853646004 -   0.0s\n",
      "[CV] max_depth=10, colsample_bytree=0.735537859662, subsample=0.611853646004 \n",
      "[CV]  max_depth=10, colsample_bytree=0.735537859662, subsample=0.611853646004 -   0.0s\n"
     ]
    },
    {
     "name": "stderr",
     "output_type": "stream",
     "text": [
      "C:\\Users\\Takashi\\Miniconda3\\lib\\site-packages\\sklearn\\metrics\\scorer.py:127: DeprecationWarning: Scoring method log_loss was renamed to neg_log_loss in version 0.18 and will be removed in 0.20.\n",
      "  sample_weight=sample_weight)\n",
      "C:\\Users\\Takashi\\Miniconda3\\lib\\site-packages\\sklearn\\metrics\\scorer.py:127: DeprecationWarning: Scoring method log_loss was renamed to neg_log_loss in version 0.18 and will be removed in 0.20.\n",
      "  sample_weight=sample_weight)\n",
      "C:\\Users\\Takashi\\Miniconda3\\lib\\site-packages\\sklearn\\metrics\\scorer.py:127: DeprecationWarning: Scoring method log_loss was renamed to neg_log_loss in version 0.18 and will be removed in 0.20.\n",
      "  sample_weight=sample_weight)\n"
     ]
    },
    {
     "name": "stdout",
     "output_type": "stream",
     "text": [
      "[CV] max_depth=10, colsample_bytree=0.735537859662, subsample=0.611853646004 \n",
      "[CV]  max_depth=10, colsample_bytree=0.735537859662, subsample=0.611853646004 -   0.0s\n",
      "[CV] max_depth=10, colsample_bytree=0.735537859662, subsample=0.611853646004 \n"
     ]
    },
    {
     "name": "stderr",
     "output_type": "stream",
     "text": [
      "C:\\Users\\Takashi\\Miniconda3\\lib\\site-packages\\sklearn\\metrics\\scorer.py:127: DeprecationWarning: Scoring method log_loss was renamed to neg_log_loss in version 0.18 and will be removed in 0.20.\n",
      "  sample_weight=sample_weight)\n",
      "C:\\Users\\Takashi\\Miniconda3\\lib\\site-packages\\sklearn\\metrics\\scorer.py:127: DeprecationWarning: Scoring method log_loss was renamed to neg_log_loss in version 0.18 and will be removed in 0.20.\n",
      "  sample_weight=sample_weight)\n",
      "C:\\Users\\Takashi\\Miniconda3\\lib\\site-packages\\sklearn\\metrics\\scorer.py:127: DeprecationWarning: Scoring method log_loss was renamed to neg_log_loss in version 0.18 and will be removed in 0.20.\n",
      "  sample_weight=sample_weight)\n",
      "C:\\Users\\Takashi\\Miniconda3\\lib\\site-packages\\sklearn\\metrics\\scorer.py:127: DeprecationWarning: Scoring method log_loss was renamed to neg_log_loss in version 0.18 and will be removed in 0.20.\n",
      "  sample_weight=sample_weight)\n",
      "C:\\Users\\Takashi\\Miniconda3\\lib\\site-packages\\sklearn\\metrics\\scorer.py:127: DeprecationWarning: Scoring method log_loss was renamed to neg_log_loss in version 0.18 and will be removed in 0.20.\n",
      "  sample_weight=sample_weight)\n"
     ]
    },
    {
     "name": "stdout",
     "output_type": "stream",
     "text": [
      "[CV]  max_depth=10, colsample_bytree=0.735537859662, subsample=0.611853646004 -   0.0s\n",
      "[CV] max_depth=10, colsample_bytree=0.735537859662, subsample=0.611853646004 \n",
      "[CV]  max_depth=10, colsample_bytree=0.735537859662, subsample=0.611853646004 -   0.0s\n",
      "[CV] max_depth=1, colsample_bytree=0.503590389862, subsample=0.65229739256 \n",
      "[CV]  max_depth=1, colsample_bytree=0.503590389862, subsample=0.65229739256 -   0.0s\n",
      "[CV] max_depth=1, colsample_bytree=0.503590389862, subsample=0.65229739256 \n",
      "[CV]  max_depth=1, colsample_bytree=0.503590389862, subsample=0.65229739256 -   0.0s\n",
      "[CV] max_depth=1, colsample_bytree=0.503590389862, subsample=0.65229739256 \n",
      "[CV]  max_depth=1, colsample_bytree=0.503590389862, subsample=0.65229739256 -   0.0s\n",
      "[CV] max_depth=1, colsample_bytree=0.503590389862, subsample=0.65229739256 \n"
     ]
    },
    {
     "name": "stderr",
     "output_type": "stream",
     "text": [
      "C:\\Users\\Takashi\\Miniconda3\\lib\\site-packages\\sklearn\\metrics\\scorer.py:127: DeprecationWarning: Scoring method log_loss was renamed to neg_log_loss in version 0.18 and will be removed in 0.20.\n",
      "  sample_weight=sample_weight)\n",
      "C:\\Users\\Takashi\\Miniconda3\\lib\\site-packages\\sklearn\\metrics\\scorer.py:127: DeprecationWarning: Scoring method log_loss was renamed to neg_log_loss in version 0.18 and will be removed in 0.20.\n",
      "  sample_weight=sample_weight)\n",
      "C:\\Users\\Takashi\\Miniconda3\\lib\\site-packages\\sklearn\\metrics\\scorer.py:127: DeprecationWarning: Scoring method log_loss was renamed to neg_log_loss in version 0.18 and will be removed in 0.20.\n",
      "  sample_weight=sample_weight)\n",
      "C:\\Users\\Takashi\\Miniconda3\\lib\\site-packages\\sklearn\\metrics\\scorer.py:127: DeprecationWarning: Scoring method log_loss was renamed to neg_log_loss in version 0.18 and will be removed in 0.20.\n",
      "  sample_weight=sample_weight)\n",
      "C:\\Users\\Takashi\\Miniconda3\\lib\\site-packages\\sklearn\\metrics\\scorer.py:127: DeprecationWarning: Scoring method log_loss was renamed to neg_log_loss in version 0.18 and will be removed in 0.20.\n",
      "  sample_weight=sample_weight)\n",
      "C:\\Users\\Takashi\\Miniconda3\\lib\\site-packages\\sklearn\\metrics\\scorer.py:127: DeprecationWarning: Scoring method log_loss was renamed to neg_log_loss in version 0.18 and will be removed in 0.20.\n",
      "  sample_weight=sample_weight)\n",
      "C:\\Users\\Takashi\\Miniconda3\\lib\\site-packages\\sklearn\\metrics\\scorer.py:127: DeprecationWarning: Scoring method log_loss was renamed to neg_log_loss in version 0.18 and will be removed in 0.20.\n",
      "  sample_weight=sample_weight)\n",
      "C:\\Users\\Takashi\\Miniconda3\\lib\\site-packages\\sklearn\\metrics\\scorer.py:127: DeprecationWarning: Scoring method log_loss was renamed to neg_log_loss in version 0.18 and will be removed in 0.20.\n",
      "  sample_weight=sample_weight)\n"
     ]
    },
    {
     "name": "stdout",
     "output_type": "stream",
     "text": [
      "[CV]  max_depth=1, colsample_bytree=0.503590389862, subsample=0.65229739256 -   0.0s\n",
      "[CV] max_depth=1, colsample_bytree=0.503590389862, subsample=0.65229739256 \n",
      "[CV]  max_depth=1, colsample_bytree=0.503590389862, subsample=0.65229739256 -   0.0s\n",
      "[CV] max_depth=1, colsample_bytree=0.503590389862, subsample=0.65229739256 \n",
      "[CV]  max_depth=1, colsample_bytree=0.503590389862, subsample=0.65229739256 -   0.0s\n",
      "[CV] max_depth=1, colsample_bytree=0.503590389862, subsample=0.65229739256 \n",
      "[CV]  max_depth=1, colsample_bytree=0.503590389862, subsample=0.65229739256 -   0.0s\n",
      "[CV] max_depth=1, colsample_bytree=0.503590389862, subsample=0.65229739256 \n",
      "[CV]  max_depth=1, colsample_bytree=0.503590389862, subsample=0.65229739256 -   0.0s\n",
      "[CV] max_depth=1, colsample_bytree=0.503590389862, subsample=0.65229739256 \n",
      "[CV]  max_depth=1, colsample_bytree=0.503590389862, subsample=0.65229739256 -   0.0s\n",
      "[CV] max_depth=1, colsample_bytree=0.503590389862, subsample=0.65229739256 \n",
      "[CV]  max_depth=1, colsample_bytree=0.503590389862, subsample=0.65229739256 -   0.0s\n",
      "[CV] max_depth=1, colsample_bytree=0.517562964651, subsample=0.942823579147 \n",
      "[CV]  max_depth=1, colsample_bytree=0.517562964651, subsample=0.942823579147 -   0.0s\n",
      "[CV] max_depth=1, colsample_bytree=0.517562964651, subsample=0.942823579147 \n"
     ]
    },
    {
     "name": "stderr",
     "output_type": "stream",
     "text": [
      "C:\\Users\\Takashi\\Miniconda3\\lib\\site-packages\\sklearn\\metrics\\scorer.py:127: DeprecationWarning: Scoring method log_loss was renamed to neg_log_loss in version 0.18 and will be removed in 0.20.\n",
      "  sample_weight=sample_weight)\n",
      "C:\\Users\\Takashi\\Miniconda3\\lib\\site-packages\\sklearn\\metrics\\scorer.py:127: DeprecationWarning: Scoring method log_loss was renamed to neg_log_loss in version 0.18 and will be removed in 0.20.\n",
      "  sample_weight=sample_weight)\n",
      "C:\\Users\\Takashi\\Miniconda3\\lib\\site-packages\\sklearn\\metrics\\scorer.py:127: DeprecationWarning: Scoring method log_loss was renamed to neg_log_loss in version 0.18 and will be removed in 0.20.\n",
      "  sample_weight=sample_weight)\n",
      "C:\\Users\\Takashi\\Miniconda3\\lib\\site-packages\\sklearn\\metrics\\scorer.py:127: DeprecationWarning: Scoring method log_loss was renamed to neg_log_loss in version 0.18 and will be removed in 0.20.\n",
      "  sample_weight=sample_weight)\n",
      "C:\\Users\\Takashi\\Miniconda3\\lib\\site-packages\\sklearn\\metrics\\scorer.py:127: DeprecationWarning: Scoring method log_loss was renamed to neg_log_loss in version 0.18 and will be removed in 0.20.\n",
      "  sample_weight=sample_weight)\n",
      "C:\\Users\\Takashi\\Miniconda3\\lib\\site-packages\\sklearn\\metrics\\scorer.py:127: DeprecationWarning: Scoring method log_loss was renamed to neg_log_loss in version 0.18 and will be removed in 0.20.\n",
      "  sample_weight=sample_weight)\n",
      "C:\\Users\\Takashi\\Miniconda3\\lib\\site-packages\\sklearn\\metrics\\scorer.py:127: DeprecationWarning: Scoring method log_loss was renamed to neg_log_loss in version 0.18 and will be removed in 0.20.\n",
      "  sample_weight=sample_weight)\n",
      "C:\\Users\\Takashi\\Miniconda3\\lib\\site-packages\\sklearn\\metrics\\scorer.py:127: DeprecationWarning: Scoring method log_loss was renamed to neg_log_loss in version 0.18 and will be removed in 0.20.\n",
      "  sample_weight=sample_weight)\n"
     ]
    },
    {
     "name": "stdout",
     "output_type": "stream",
     "text": [
      "[CV]  max_depth=1, colsample_bytree=0.517562964651, subsample=0.942823579147 -   0.0s\n",
      "[CV] max_depth=1, colsample_bytree=0.517562964651, subsample=0.942823579147 \n",
      "[CV]  max_depth=1, colsample_bytree=0.517562964651, subsample=0.942823579147 -   0.0s\n",
      "[CV] max_depth=1, colsample_bytree=0.517562964651, subsample=0.942823579147 \n",
      "[CV]  max_depth=1, colsample_bytree=0.517562964651, subsample=0.942823579147 -   0.0s\n",
      "[CV] max_depth=1, colsample_bytree=0.517562964651, subsample=0.942823579147 \n",
      "[CV]  max_depth=1, colsample_bytree=0.517562964651, subsample=0.942823579147 -   0.0s\n",
      "[CV] max_depth=1, colsample_bytree=0.517562964651, subsample=0.942823579147 \n",
      "[CV]  max_depth=1, colsample_bytree=0.517562964651, subsample=0.942823579147 -   0.0s\n",
      "[CV] max_depth=1, colsample_bytree=0.517562964651, subsample=0.942823579147 \n",
      "[CV]  max_depth=1, colsample_bytree=0.517562964651, subsample=0.942823579147 -   0.0s\n",
      "[CV] max_depth=1, colsample_bytree=0.517562964651, subsample=0.942823579147 \n",
      "[CV]  max_depth=1, colsample_bytree=0.517562964651, subsample=0.942823579147 -   0.0s\n",
      "[CV] max_depth=1, colsample_bytree=0.517562964651, subsample=0.942823579147 \n",
      "[CV]  max_depth=1, colsample_bytree=0.517562964651, subsample=0.942823579147 -   0.0s\n",
      "[CV] max_depth=1, colsample_bytree=0.517562964651, subsample=0.942823579147 \n"
     ]
    },
    {
     "name": "stderr",
     "output_type": "stream",
     "text": [
      "C:\\Users\\Takashi\\Miniconda3\\lib\\site-packages\\sklearn\\metrics\\scorer.py:127: DeprecationWarning: Scoring method log_loss was renamed to neg_log_loss in version 0.18 and will be removed in 0.20.\n",
      "  sample_weight=sample_weight)\n",
      "C:\\Users\\Takashi\\Miniconda3\\lib\\site-packages\\sklearn\\metrics\\scorer.py:127: DeprecationWarning: Scoring method log_loss was renamed to neg_log_loss in version 0.18 and will be removed in 0.20.\n",
      "  sample_weight=sample_weight)\n",
      "C:\\Users\\Takashi\\Miniconda3\\lib\\site-packages\\sklearn\\metrics\\scorer.py:127: DeprecationWarning: Scoring method log_loss was renamed to neg_log_loss in version 0.18 and will be removed in 0.20.\n",
      "  sample_weight=sample_weight)\n"
     ]
    },
    {
     "name": "stdout",
     "output_type": "stream",
     "text": [
      "[CV]  max_depth=1, colsample_bytree=0.517562964651, subsample=0.942823579147 -   0.0s\n",
      "[CV] max_depth=7, colsample_bytree=0.66232415009, subsample=0.91395675917 \n",
      "[CV]  max_depth=7, colsample_bytree=0.66232415009, subsample=0.91395675917 -   0.0s\n",
      "[CV] max_depth=7, colsample_bytree=0.66232415009, subsample=0.91395675917 \n",
      "[CV]  max_depth=7, colsample_bytree=0.66232415009, subsample=0.91395675917 -   0.0s\n",
      "[CV] max_depth=7, colsample_bytree=0.66232415009, subsample=0.91395675917 \n"
     ]
    },
    {
     "name": "stderr",
     "output_type": "stream",
     "text": [
      "C:\\Users\\Takashi\\Miniconda3\\lib\\site-packages\\sklearn\\metrics\\scorer.py:127: DeprecationWarning: Scoring method log_loss was renamed to neg_log_loss in version 0.18 and will be removed in 0.20.\n",
      "  sample_weight=sample_weight)\n",
      "C:\\Users\\Takashi\\Miniconda3\\lib\\site-packages\\sklearn\\metrics\\scorer.py:127: DeprecationWarning: Scoring method log_loss was renamed to neg_log_loss in version 0.18 and will be removed in 0.20.\n",
      "  sample_weight=sample_weight)\n",
      "C:\\Users\\Takashi\\Miniconda3\\lib\\site-packages\\sklearn\\metrics\\scorer.py:127: DeprecationWarning: Scoring method log_loss was renamed to neg_log_loss in version 0.18 and will be removed in 0.20.\n",
      "  sample_weight=sample_weight)\n"
     ]
    },
    {
     "name": "stdout",
     "output_type": "stream",
     "text": [
      "[CV]  max_depth=7, colsample_bytree=0.66232415009, subsample=0.91395675917 -   0.0s\n",
      "[CV] max_depth=7, colsample_bytree=0.66232415009, subsample=0.91395675917 \n",
      "[CV]  max_depth=7, colsample_bytree=0.66232415009, subsample=0.91395675917 -   0.0s\n",
      "[CV] max_depth=7, colsample_bytree=0.66232415009, subsample=0.91395675917 \n",
      "[CV]  max_depth=7, colsample_bytree=0.66232415009, subsample=0.91395675917 -   0.0s\n",
      "[CV] max_depth=7, colsample_bytree=0.66232415009, subsample=0.91395675917 \n"
     ]
    },
    {
     "name": "stderr",
     "output_type": "stream",
     "text": [
      "C:\\Users\\Takashi\\Miniconda3\\lib\\site-packages\\sklearn\\metrics\\scorer.py:127: DeprecationWarning: Scoring method log_loss was renamed to neg_log_loss in version 0.18 and will be removed in 0.20.\n",
      "  sample_weight=sample_weight)\n",
      "C:\\Users\\Takashi\\Miniconda3\\lib\\site-packages\\sklearn\\metrics\\scorer.py:127: DeprecationWarning: Scoring method log_loss was renamed to neg_log_loss in version 0.18 and will be removed in 0.20.\n",
      "  sample_weight=sample_weight)\n",
      "C:\\Users\\Takashi\\Miniconda3\\lib\\site-packages\\sklearn\\metrics\\scorer.py:127: DeprecationWarning: Scoring method log_loss was renamed to neg_log_loss in version 0.18 and will be removed in 0.20.\n",
      "  sample_weight=sample_weight)\n"
     ]
    },
    {
     "name": "stdout",
     "output_type": "stream",
     "text": [
      "[CV]  max_depth=7, colsample_bytree=0.66232415009, subsample=0.91395675917 -   0.0s\n",
      "[CV] max_depth=7, colsample_bytree=0.66232415009, subsample=0.91395675917 \n",
      "[CV]  max_depth=7, colsample_bytree=0.66232415009, subsample=0.91395675917 -   0.0s\n",
      "[CV] max_depth=7, colsample_bytree=0.66232415009, subsample=0.91395675917 \n",
      "[CV]  max_depth=7, colsample_bytree=0.66232415009, subsample=0.91395675917 -   0.0s\n",
      "[CV] max_depth=7, colsample_bytree=0.66232415009, subsample=0.91395675917 \n"
     ]
    },
    {
     "name": "stderr",
     "output_type": "stream",
     "text": [
      "C:\\Users\\Takashi\\Miniconda3\\lib\\site-packages\\sklearn\\metrics\\scorer.py:127: DeprecationWarning: Scoring method log_loss was renamed to neg_log_loss in version 0.18 and will be removed in 0.20.\n",
      "  sample_weight=sample_weight)\n",
      "C:\\Users\\Takashi\\Miniconda3\\lib\\site-packages\\sklearn\\metrics\\scorer.py:127: DeprecationWarning: Scoring method log_loss was renamed to neg_log_loss in version 0.18 and will be removed in 0.20.\n",
      "  sample_weight=sample_weight)\n",
      "C:\\Users\\Takashi\\Miniconda3\\lib\\site-packages\\sklearn\\metrics\\scorer.py:127: DeprecationWarning: Scoring method log_loss was renamed to neg_log_loss in version 0.18 and will be removed in 0.20.\n",
      "  sample_weight=sample_weight)\n"
     ]
    },
    {
     "name": "stdout",
     "output_type": "stream",
     "text": [
      "[CV]  max_depth=7, colsample_bytree=0.66232415009, subsample=0.91395675917 -   0.0s\n",
      "[CV] max_depth=7, colsample_bytree=0.66232415009, subsample=0.91395675917 \n",
      "[CV]  max_depth=7, colsample_bytree=0.66232415009, subsample=0.91395675917 -   0.0s\n",
      "[CV] max_depth=4, colsample_bytree=0.538252618526, subsample=0.815880726733 \n",
      "[CV]  max_depth=4, colsample_bytree=0.538252618526, subsample=0.815880726733 -   0.0s\n",
      "[CV] max_depth=4, colsample_bytree=0.538252618526, subsample=0.815880726733 \n"
     ]
    },
    {
     "name": "stderr",
     "output_type": "stream",
     "text": [
      "C:\\Users\\Takashi\\Miniconda3\\lib\\site-packages\\sklearn\\metrics\\scorer.py:127: DeprecationWarning: Scoring method log_loss was renamed to neg_log_loss in version 0.18 and will be removed in 0.20.\n",
      "  sample_weight=sample_weight)\n",
      "C:\\Users\\Takashi\\Miniconda3\\lib\\site-packages\\sklearn\\metrics\\scorer.py:127: DeprecationWarning: Scoring method log_loss was renamed to neg_log_loss in version 0.18 and will be removed in 0.20.\n",
      "  sample_weight=sample_weight)\n",
      "C:\\Users\\Takashi\\Miniconda3\\lib\\site-packages\\sklearn\\metrics\\scorer.py:127: DeprecationWarning: Scoring method log_loss was renamed to neg_log_loss in version 0.18 and will be removed in 0.20.\n",
      "  sample_weight=sample_weight)\n",
      "C:\\Users\\Takashi\\Miniconda3\\lib\\site-packages\\sklearn\\metrics\\scorer.py:127: DeprecationWarning: Scoring method log_loss was renamed to neg_log_loss in version 0.18 and will be removed in 0.20.\n",
      "  sample_weight=sample_weight)\n"
     ]
    },
    {
     "name": "stdout",
     "output_type": "stream",
     "text": [
      "[CV]  max_depth=4, colsample_bytree=0.538252618526, subsample=0.815880726733 -   0.0s\n",
      "[CV] max_depth=4, colsample_bytree=0.538252618526, subsample=0.815880726733 \n",
      "[CV]  max_depth=4, colsample_bytree=0.538252618526, subsample=0.815880726733 -   0.0s\n",
      "[CV] max_depth=4, colsample_bytree=0.538252618526, subsample=0.815880726733 \n",
      "[CV]  max_depth=4, colsample_bytree=0.538252618526, subsample=0.815880726733 -   0.0s\n",
      "[CV] max_depth=4, colsample_bytree=0.538252618526, subsample=0.815880726733 \n",
      "[CV]  max_depth=4, colsample_bytree=0.538252618526, subsample=0.815880726733 -   0.0s\n",
      "[CV] max_depth=4, colsample_bytree=0.538252618526, subsample=0.815880726733 \n"
     ]
    },
    {
     "name": "stderr",
     "output_type": "stream",
     "text": [
      "C:\\Users\\Takashi\\Miniconda3\\lib\\site-packages\\sklearn\\metrics\\scorer.py:127: DeprecationWarning: Scoring method log_loss was renamed to neg_log_loss in version 0.18 and will be removed in 0.20.\n",
      "  sample_weight=sample_weight)\n",
      "C:\\Users\\Takashi\\Miniconda3\\lib\\site-packages\\sklearn\\metrics\\scorer.py:127: DeprecationWarning: Scoring method log_loss was renamed to neg_log_loss in version 0.18 and will be removed in 0.20.\n",
      "  sample_weight=sample_weight)\n",
      "C:\\Users\\Takashi\\Miniconda3\\lib\\site-packages\\sklearn\\metrics\\scorer.py:127: DeprecationWarning: Scoring method log_loss was renamed to neg_log_loss in version 0.18 and will be removed in 0.20.\n",
      "  sample_weight=sample_weight)\n",
      "C:\\Users\\Takashi\\Miniconda3\\lib\\site-packages\\sklearn\\metrics\\scorer.py:127: DeprecationWarning: Scoring method log_loss was renamed to neg_log_loss in version 0.18 and will be removed in 0.20.\n",
      "  sample_weight=sample_weight)\n"
     ]
    },
    {
     "name": "stdout",
     "output_type": "stream",
     "text": [
      "[CV]  max_depth=4, colsample_bytree=0.538252618526, subsample=0.815880726733 -   0.0s\n",
      "[CV] max_depth=4, colsample_bytree=0.538252618526, subsample=0.815880726733 \n",
      "[CV]  max_depth=4, colsample_bytree=0.538252618526, subsample=0.815880726733 -   0.0s\n",
      "[CV] max_depth=4, colsample_bytree=0.538252618526, subsample=0.815880726733 \n",
      "[CV]  max_depth=4, colsample_bytree=0.538252618526, subsample=0.815880726733 -   0.0s\n",
      "[CV] max_depth=4, colsample_bytree=0.538252618526, subsample=0.815880726733 \n",
      "[CV]  max_depth=4, colsample_bytree=0.538252618526, subsample=0.815880726733 -   0.0s\n",
      "[CV] max_depth=4, colsample_bytree=0.538252618526, subsample=0.815880726733 \n"
     ]
    },
    {
     "name": "stderr",
     "output_type": "stream",
     "text": [
      "C:\\Users\\Takashi\\Miniconda3\\lib\\site-packages\\sklearn\\metrics\\scorer.py:127: DeprecationWarning: Scoring method log_loss was renamed to neg_log_loss in version 0.18 and will be removed in 0.20.\n",
      "  sample_weight=sample_weight)\n",
      "C:\\Users\\Takashi\\Miniconda3\\lib\\site-packages\\sklearn\\metrics\\scorer.py:127: DeprecationWarning: Scoring method log_loss was renamed to neg_log_loss in version 0.18 and will be removed in 0.20.\n",
      "  sample_weight=sample_weight)\n",
      "C:\\Users\\Takashi\\Miniconda3\\lib\\site-packages\\sklearn\\metrics\\scorer.py:127: DeprecationWarning: Scoring method log_loss was renamed to neg_log_loss in version 0.18 and will be removed in 0.20.\n",
      "  sample_weight=sample_weight)\n",
      "C:\\Users\\Takashi\\Miniconda3\\lib\\site-packages\\sklearn\\metrics\\scorer.py:127: DeprecationWarning: Scoring method log_loss was renamed to neg_log_loss in version 0.18 and will be removed in 0.20.\n",
      "  sample_weight=sample_weight)\n",
      "C:\\Users\\Takashi\\Miniconda3\\lib\\site-packages\\sklearn\\metrics\\scorer.py:127: DeprecationWarning: Scoring method log_loss was renamed to neg_log_loss in version 0.18 and will be removed in 0.20.\n",
      "  sample_weight=sample_weight)\n",
      "C:\\Users\\Takashi\\Miniconda3\\lib\\site-packages\\sklearn\\metrics\\scorer.py:127: DeprecationWarning: Scoring method log_loss was renamed to neg_log_loss in version 0.18 and will be removed in 0.20.\n",
      "  sample_weight=sample_weight)\n",
      "C:\\Users\\Takashi\\Miniconda3\\lib\\site-packages\\sklearn\\metrics\\scorer.py:127: DeprecationWarning: Scoring method log_loss was renamed to neg_log_loss in version 0.18 and will be removed in 0.20.\n",
      "  sample_weight=sample_weight)\n",
      "C:\\Users\\Takashi\\Miniconda3\\lib\\site-packages\\sklearn\\metrics\\scorer.py:127: DeprecationWarning: Scoring method log_loss was renamed to neg_log_loss in version 0.18 and will be removed in 0.20.\n",
      "  sample_weight=sample_weight)\n"
     ]
    },
    {
     "name": "stdout",
     "output_type": "stream",
     "text": [
      "[CV]  max_depth=4, colsample_bytree=0.538252618526, subsample=0.815880726733 -   0.0s\n",
      "[CV] max_depth=1, colsample_bytree=0.984325035755, subsample=0.841121381692 \n",
      "[CV]  max_depth=1, colsample_bytree=0.984325035755, subsample=0.841121381692 -   0.0s\n",
      "[CV] max_depth=1, colsample_bytree=0.984325035755, subsample=0.841121381692 \n",
      "[CV]  max_depth=1, colsample_bytree=0.984325035755, subsample=0.841121381692 -   0.0s\n",
      "[CV] max_depth=1, colsample_bytree=0.984325035755, subsample=0.841121381692 \n",
      "[CV]  max_depth=1, colsample_bytree=0.984325035755, subsample=0.841121381692 -   0.0s\n",
      "[CV] max_depth=1, colsample_bytree=0.984325035755, subsample=0.841121381692 \n",
      "[CV]  max_depth=1, colsample_bytree=0.984325035755, subsample=0.841121381692 -   0.0s\n",
      "[CV] max_depth=1, colsample_bytree=0.984325035755, subsample=0.841121381692 \n",
      "[CV]  max_depth=1, colsample_bytree=0.984325035755, subsample=0.841121381692 -   0.0s\n",
      "[CV] max_depth=1, colsample_bytree=0.984325035755, subsample=0.841121381692 \n",
      "[CV]  max_depth=1, colsample_bytree=0.984325035755, subsample=0.841121381692 -   0.0s\n",
      "[CV] max_depth=1, colsample_bytree=0.984325035755, subsample=0.841121381692 \n",
      "[CV]  max_depth=1, colsample_bytree=0.984325035755, subsample=0.841121381692 -   0.0s\n",
      "[CV] max_depth=1, colsample_bytree=0.984325035755, subsample=0.841121381692 \n"
     ]
    },
    {
     "name": "stderr",
     "output_type": "stream",
     "text": [
      "C:\\Users\\Takashi\\Miniconda3\\lib\\site-packages\\sklearn\\metrics\\scorer.py:127: DeprecationWarning: Scoring method log_loss was renamed to neg_log_loss in version 0.18 and will be removed in 0.20.\n",
      "  sample_weight=sample_weight)\n",
      "C:\\Users\\Takashi\\Miniconda3\\lib\\site-packages\\sklearn\\metrics\\scorer.py:127: DeprecationWarning: Scoring method log_loss was renamed to neg_log_loss in version 0.18 and will be removed in 0.20.\n",
      "  sample_weight=sample_weight)\n",
      "C:\\Users\\Takashi\\Miniconda3\\lib\\site-packages\\sklearn\\metrics\\scorer.py:127: DeprecationWarning: Scoring method log_loss was renamed to neg_log_loss in version 0.18 and will be removed in 0.20.\n",
      "  sample_weight=sample_weight)\n",
      "C:\\Users\\Takashi\\Miniconda3\\lib\\site-packages\\sklearn\\metrics\\scorer.py:127: DeprecationWarning: Scoring method log_loss was renamed to neg_log_loss in version 0.18 and will be removed in 0.20.\n",
      "  sample_weight=sample_weight)\n"
     ]
    },
    {
     "name": "stdout",
     "output_type": "stream",
     "text": [
      "[CV]  max_depth=1, colsample_bytree=0.984325035755, subsample=0.841121381692 -   0.0s\n",
      "[CV] max_depth=1, colsample_bytree=0.984325035755, subsample=0.841121381692 \n",
      "[CV]  max_depth=1, colsample_bytree=0.984325035755, subsample=0.841121381692 -   0.0s\n",
      "[CV] max_depth=1, colsample_bytree=0.984325035755, subsample=0.841121381692 \n",
      "[CV]  max_depth=1, colsample_bytree=0.984325035755, subsample=0.841121381692 -   0.0s\n",
      "[CV] max_depth=10, colsample_bytree=0.569105759638, subsample=0.513292758191 \n",
      "[CV]  max_depth=10, colsample_bytree=0.569105759638, subsample=0.513292758191 -   0.0s\n",
      "[CV] max_depth=10, colsample_bytree=0.569105759638, subsample=0.513292758191 \n"
     ]
    },
    {
     "name": "stderr",
     "output_type": "stream",
     "text": [
      "C:\\Users\\Takashi\\Miniconda3\\lib\\site-packages\\sklearn\\metrics\\scorer.py:127: DeprecationWarning: Scoring method log_loss was renamed to neg_log_loss in version 0.18 and will be removed in 0.20.\n",
      "  sample_weight=sample_weight)\n",
      "C:\\Users\\Takashi\\Miniconda3\\lib\\site-packages\\sklearn\\metrics\\scorer.py:127: DeprecationWarning: Scoring method log_loss was renamed to neg_log_loss in version 0.18 and will be removed in 0.20.\n",
      "  sample_weight=sample_weight)\n"
     ]
    },
    {
     "name": "stdout",
     "output_type": "stream",
     "text": [
      "[CV]  max_depth=10, colsample_bytree=0.569105759638, subsample=0.513292758191 -   0.0s\n",
      "[CV] max_depth=10, colsample_bytree=0.569105759638, subsample=0.513292758191 \n",
      "[CV]  max_depth=10, colsample_bytree=0.569105759638, subsample=0.513292758191 -   0.0s\n",
      "[CV] max_depth=10, colsample_bytree=0.569105759638, subsample=0.513292758191 \n"
     ]
    },
    {
     "name": "stderr",
     "output_type": "stream",
     "text": [
      "C:\\Users\\Takashi\\Miniconda3\\lib\\site-packages\\sklearn\\metrics\\scorer.py:127: DeprecationWarning: Scoring method log_loss was renamed to neg_log_loss in version 0.18 and will be removed in 0.20.\n",
      "  sample_weight=sample_weight)\n",
      "C:\\Users\\Takashi\\Miniconda3\\lib\\site-packages\\sklearn\\metrics\\scorer.py:127: DeprecationWarning: Scoring method log_loss was renamed to neg_log_loss in version 0.18 and will be removed in 0.20.\n",
      "  sample_weight=sample_weight)\n",
      "C:\\Users\\Takashi\\Miniconda3\\lib\\site-packages\\sklearn\\metrics\\scorer.py:127: DeprecationWarning: Scoring method log_loss was renamed to neg_log_loss in version 0.18 and will be removed in 0.20.\n",
      "  sample_weight=sample_weight)\n"
     ]
    },
    {
     "name": "stdout",
     "output_type": "stream",
     "text": [
      "[CV]  max_depth=10, colsample_bytree=0.569105759638, subsample=0.513292758191 -   0.0s\n",
      "[CV] max_depth=10, colsample_bytree=0.569105759638, subsample=0.513292758191 \n",
      "[CV]  max_depth=10, colsample_bytree=0.569105759638, subsample=0.513292758191 -   0.0s\n",
      "[CV] max_depth=10, colsample_bytree=0.569105759638, subsample=0.513292758191 \n",
      "[CV]  max_depth=10, colsample_bytree=0.569105759638, subsample=0.513292758191 -   0.0s\n",
      "[CV] max_depth=10, colsample_bytree=0.569105759638, subsample=0.513292758191 \n"
     ]
    },
    {
     "name": "stderr",
     "output_type": "stream",
     "text": [
      "C:\\Users\\Takashi\\Miniconda3\\lib\\site-packages\\sklearn\\metrics\\scorer.py:127: DeprecationWarning: Scoring method log_loss was renamed to neg_log_loss in version 0.18 and will be removed in 0.20.\n",
      "  sample_weight=sample_weight)\n",
      "C:\\Users\\Takashi\\Miniconda3\\lib\\site-packages\\sklearn\\metrics\\scorer.py:127: DeprecationWarning: Scoring method log_loss was renamed to neg_log_loss in version 0.18 and will be removed in 0.20.\n",
      "  sample_weight=sample_weight)\n",
      "C:\\Users\\Takashi\\Miniconda3\\lib\\site-packages\\sklearn\\metrics\\scorer.py:127: DeprecationWarning: Scoring method log_loss was renamed to neg_log_loss in version 0.18 and will be removed in 0.20.\n",
      "  sample_weight=sample_weight)\n"
     ]
    },
    {
     "name": "stdout",
     "output_type": "stream",
     "text": [
      "[CV]  max_depth=10, colsample_bytree=0.569105759638, subsample=0.513292758191 -   0.0s\n",
      "[CV] max_depth=10, colsample_bytree=0.569105759638, subsample=0.513292758191 \n",
      "[CV]  max_depth=10, colsample_bytree=0.569105759638, subsample=0.513292758191 -   0.0s\n",
      "[CV] max_depth=10, colsample_bytree=0.569105759638, subsample=0.513292758191 \n",
      "[CV]  max_depth=10, colsample_bytree=0.569105759638, subsample=0.513292758191 -   0.0s\n",
      "[CV] max_depth=10, colsample_bytree=0.569105759638, subsample=0.513292758191 \n"
     ]
    },
    {
     "name": "stderr",
     "output_type": "stream",
     "text": [
      "C:\\Users\\Takashi\\Miniconda3\\lib\\site-packages\\sklearn\\metrics\\scorer.py:127: DeprecationWarning: Scoring method log_loss was renamed to neg_log_loss in version 0.18 and will be removed in 0.20.\n",
      "  sample_weight=sample_weight)\n",
      "C:\\Users\\Takashi\\Miniconda3\\lib\\site-packages\\sklearn\\metrics\\scorer.py:127: DeprecationWarning: Scoring method log_loss was renamed to neg_log_loss in version 0.18 and will be removed in 0.20.\n",
      "  sample_weight=sample_weight)\n",
      "C:\\Users\\Takashi\\Miniconda3\\lib\\site-packages\\sklearn\\metrics\\scorer.py:127: DeprecationWarning: Scoring method log_loss was renamed to neg_log_loss in version 0.18 and will be removed in 0.20.\n",
      "  sample_weight=sample_weight)\n"
     ]
    },
    {
     "name": "stdout",
     "output_type": "stream",
     "text": [
      "[CV]  max_depth=10, colsample_bytree=0.569105759638, subsample=0.513292758191 -   0.0s\n",
      "[CV] max_depth=10, colsample_bytree=0.551185327489, subsample=0.547709181799 \n",
      "[CV]  max_depth=10, colsample_bytree=0.551185327489, subsample=0.547709181799 -   0.0s\n",
      "[CV] max_depth=10, colsample_bytree=0.551185327489, subsample=0.547709181799 \n",
      "[CV]  max_depth=10, colsample_bytree=0.551185327489, subsample=0.547709181799 -   0.0s\n",
      "[CV] max_depth=10, colsample_bytree=0.551185327489, subsample=0.547709181799 \n"
     ]
    },
    {
     "name": "stderr",
     "output_type": "stream",
     "text": [
      "C:\\Users\\Takashi\\Miniconda3\\lib\\site-packages\\sklearn\\metrics\\scorer.py:127: DeprecationWarning: Scoring method log_loss was renamed to neg_log_loss in version 0.18 and will be removed in 0.20.\n",
      "  sample_weight=sample_weight)\n",
      "C:\\Users\\Takashi\\Miniconda3\\lib\\site-packages\\sklearn\\metrics\\scorer.py:127: DeprecationWarning: Scoring method log_loss was renamed to neg_log_loss in version 0.18 and will be removed in 0.20.\n",
      "  sample_weight=sample_weight)\n"
     ]
    },
    {
     "name": "stdout",
     "output_type": "stream",
     "text": [
      "[CV]  max_depth=10, colsample_bytree=0.551185327489, subsample=0.547709181799 -   0.0s\n",
      "[CV] max_depth=10, colsample_bytree=0.551185327489, subsample=0.547709181799 \n",
      "[CV]  max_depth=10, colsample_bytree=0.551185327489, subsample=0.547709181799 -   0.0s\n",
      "[CV] max_depth=10, colsample_bytree=0.551185327489, subsample=0.547709181799 \n"
     ]
    },
    {
     "name": "stderr",
     "output_type": "stream",
     "text": [
      "C:\\Users\\Takashi\\Miniconda3\\lib\\site-packages\\sklearn\\metrics\\scorer.py:127: DeprecationWarning: Scoring method log_loss was renamed to neg_log_loss in version 0.18 and will be removed in 0.20.\n",
      "  sample_weight=sample_weight)\n",
      "C:\\Users\\Takashi\\Miniconda3\\lib\\site-packages\\sklearn\\metrics\\scorer.py:127: DeprecationWarning: Scoring method log_loss was renamed to neg_log_loss in version 0.18 and will be removed in 0.20.\n",
      "  sample_weight=sample_weight)\n"
     ]
    },
    {
     "name": "stdout",
     "output_type": "stream",
     "text": [
      "[CV]  max_depth=10, colsample_bytree=0.551185327489, subsample=0.547709181799 -   0.0s\n",
      "[CV] max_depth=10, colsample_bytree=0.551185327489, subsample=0.547709181799 \n",
      "[CV]  max_depth=10, colsample_bytree=0.551185327489, subsample=0.547709181799 -   0.0s\n",
      "[CV] max_depth=10, colsample_bytree=0.551185327489, subsample=0.547709181799 \n"
     ]
    },
    {
     "name": "stderr",
     "output_type": "stream",
     "text": [
      "C:\\Users\\Takashi\\Miniconda3\\lib\\site-packages\\sklearn\\metrics\\scorer.py:127: DeprecationWarning: Scoring method log_loss was renamed to neg_log_loss in version 0.18 and will be removed in 0.20.\n",
      "  sample_weight=sample_weight)\n",
      "C:\\Users\\Takashi\\Miniconda3\\lib\\site-packages\\sklearn\\metrics\\scorer.py:127: DeprecationWarning: Scoring method log_loss was renamed to neg_log_loss in version 0.18 and will be removed in 0.20.\n",
      "  sample_weight=sample_weight)\n"
     ]
    },
    {
     "name": "stdout",
     "output_type": "stream",
     "text": [
      "[CV]  max_depth=10, colsample_bytree=0.551185327489, subsample=0.547709181799 -   0.0s\n",
      "[CV] max_depth=10, colsample_bytree=0.551185327489, subsample=0.547709181799 \n",
      "[CV]  max_depth=10, colsample_bytree=0.551185327489, subsample=0.547709181799 -   0.0s\n",
      "[CV] max_depth=10, colsample_bytree=0.551185327489, subsample=0.547709181799 \n"
     ]
    },
    {
     "name": "stderr",
     "output_type": "stream",
     "text": [
      "C:\\Users\\Takashi\\Miniconda3\\lib\\site-packages\\sklearn\\metrics\\scorer.py:127: DeprecationWarning: Scoring method log_loss was renamed to neg_log_loss in version 0.18 and will be removed in 0.20.\n",
      "  sample_weight=sample_weight)\n",
      "C:\\Users\\Takashi\\Miniconda3\\lib\\site-packages\\sklearn\\metrics\\scorer.py:127: DeprecationWarning: Scoring method log_loss was renamed to neg_log_loss in version 0.18 and will be removed in 0.20.\n",
      "  sample_weight=sample_weight)\n",
      "C:\\Users\\Takashi\\Miniconda3\\lib\\site-packages\\sklearn\\metrics\\scorer.py:127: DeprecationWarning: Scoring method log_loss was renamed to neg_log_loss in version 0.18 and will be removed in 0.20.\n",
      "  sample_weight=sample_weight)\n"
     ]
    },
    {
     "name": "stdout",
     "output_type": "stream",
     "text": [
      "[CV]  max_depth=10, colsample_bytree=0.551185327489, subsample=0.547709181799 -   0.0s\n",
      "[CV] max_depth=10, colsample_bytree=0.551185327489, subsample=0.547709181799 \n",
      "[CV]  max_depth=10, colsample_bytree=0.551185327489, subsample=0.547709181799 -   0.0s\n",
      "[CV] max_depth=5, colsample_bytree=0.678900174243, subsample=0.955457245947 \n",
      "[CV]  max_depth=5, colsample_bytree=0.678900174243, subsample=0.955457245947 -   0.0s\n",
      "[CV] max_depth=5, colsample_bytree=0.678900174243, subsample=0.955457245947 \n"
     ]
    },
    {
     "name": "stderr",
     "output_type": "stream",
     "text": [
      "C:\\Users\\Takashi\\Miniconda3\\lib\\site-packages\\sklearn\\metrics\\scorer.py:127: DeprecationWarning: Scoring method log_loss was renamed to neg_log_loss in version 0.18 and will be removed in 0.20.\n",
      "  sample_weight=sample_weight)\n",
      "C:\\Users\\Takashi\\Miniconda3\\lib\\site-packages\\sklearn\\metrics\\scorer.py:127: DeprecationWarning: Scoring method log_loss was renamed to neg_log_loss in version 0.18 and will be removed in 0.20.\n",
      "  sample_weight=sample_weight)\n",
      "C:\\Users\\Takashi\\Miniconda3\\lib\\site-packages\\sklearn\\metrics\\scorer.py:127: DeprecationWarning: Scoring method log_loss was renamed to neg_log_loss in version 0.18 and will be removed in 0.20.\n",
      "  sample_weight=sample_weight)\n",
      "C:\\Users\\Takashi\\Miniconda3\\lib\\site-packages\\sklearn\\metrics\\scorer.py:127: DeprecationWarning: Scoring method log_loss was renamed to neg_log_loss in version 0.18 and will be removed in 0.20.\n",
      "  sample_weight=sample_weight)\n"
     ]
    },
    {
     "name": "stdout",
     "output_type": "stream",
     "text": [
      "[CV]  max_depth=5, colsample_bytree=0.678900174243, subsample=0.955457245947 -   0.0s\n",
      "[CV] max_depth=5, colsample_bytree=0.678900174243, subsample=0.955457245947 \n",
      "[CV]  max_depth=5, colsample_bytree=0.678900174243, subsample=0.955457245947 -   0.0s\n",
      "[CV] max_depth=5, colsample_bytree=0.678900174243, subsample=0.955457245947 \n",
      "[CV]  max_depth=5, colsample_bytree=0.678900174243, subsample=0.955457245947 -   0.0s\n",
      "[CV] max_depth=5, colsample_bytree=0.678900174243, subsample=0.955457245947 \n",
      "[CV]  max_depth=5, colsample_bytree=0.678900174243, subsample=0.955457245947 -   0.0s\n",
      "[CV] max_depth=5, colsample_bytree=0.678900174243, subsample=0.955457245947 \n",
      "[CV]  max_depth=5, colsample_bytree=0.678900174243, subsample=0.955457245947 -   0.0s\n",
      "[CV] max_depth=5, colsample_bytree=0.678900174243, subsample=0.955457245947 \n",
      "[CV]  max_depth=5, colsample_bytree=0.678900174243, subsample=0.955457245947 -   0.0s\n",
      "[CV] max_depth=5, colsample_bytree=0.678900174243, subsample=0.955457245947 \n"
     ]
    },
    {
     "name": "stderr",
     "output_type": "stream",
     "text": [
      "C:\\Users\\Takashi\\Miniconda3\\lib\\site-packages\\sklearn\\metrics\\scorer.py:127: DeprecationWarning: Scoring method log_loss was renamed to neg_log_loss in version 0.18 and will be removed in 0.20.\n",
      "  sample_weight=sample_weight)\n",
      "C:\\Users\\Takashi\\Miniconda3\\lib\\site-packages\\sklearn\\metrics\\scorer.py:127: DeprecationWarning: Scoring method log_loss was renamed to neg_log_loss in version 0.18 and will be removed in 0.20.\n",
      "  sample_weight=sample_weight)\n",
      "C:\\Users\\Takashi\\Miniconda3\\lib\\site-packages\\sklearn\\metrics\\scorer.py:127: DeprecationWarning: Scoring method log_loss was renamed to neg_log_loss in version 0.18 and will be removed in 0.20.\n",
      "  sample_weight=sample_weight)\n"
     ]
    },
    {
     "name": "stdout",
     "output_type": "stream",
     "text": [
      "[CV]  max_depth=5, colsample_bytree=0.678900174243, subsample=0.955457245947 -   0.0s\n",
      "[CV] max_depth=5, colsample_bytree=0.678900174243, subsample=0.955457245947 \n",
      "[CV]  max_depth=5, colsample_bytree=0.678900174243, subsample=0.955457245947 -   0.0s\n",
      "[CV] max_depth=5, colsample_bytree=0.678900174243, subsample=0.955457245947 \n",
      "[CV]  max_depth=5, colsample_bytree=0.678900174243, subsample=0.955457245947 -   0.0s\n",
      "[CV] max_depth=3, colsample_bytree=0.757583009016, subsample=0.777136203568 \n"
     ]
    },
    {
     "name": "stderr",
     "output_type": "stream",
     "text": [
      "C:\\Users\\Takashi\\Miniconda3\\lib\\site-packages\\sklearn\\metrics\\scorer.py:127: DeprecationWarning: Scoring method log_loss was renamed to neg_log_loss in version 0.18 and will be removed in 0.20.\n",
      "  sample_weight=sample_weight)\n",
      "C:\\Users\\Takashi\\Miniconda3\\lib\\site-packages\\sklearn\\metrics\\scorer.py:127: DeprecationWarning: Scoring method log_loss was renamed to neg_log_loss in version 0.18 and will be removed in 0.20.\n",
      "  sample_weight=sample_weight)\n",
      "C:\\Users\\Takashi\\Miniconda3\\lib\\site-packages\\sklearn\\metrics\\scorer.py:127: DeprecationWarning: Scoring method log_loss was renamed to neg_log_loss in version 0.18 and will be removed in 0.20.\n",
      "  sample_weight=sample_weight)\n"
     ]
    },
    {
     "name": "stdout",
     "output_type": "stream",
     "text": [
      "[CV]  max_depth=3, colsample_bytree=0.757583009016, subsample=0.777136203568 -   0.0s\n",
      "[CV] max_depth=3, colsample_bytree=0.757583009016, subsample=0.777136203568 \n",
      "[CV]  max_depth=3, colsample_bytree=0.757583009016, subsample=0.777136203568 -   0.0s\n",
      "[CV] max_depth=3, colsample_bytree=0.757583009016, subsample=0.777136203568 \n",
      "[CV]  max_depth=3, colsample_bytree=0.757583009016, subsample=0.777136203568 -   0.0s\n",
      "[CV] max_depth=3, colsample_bytree=0.757583009016, subsample=0.777136203568 \n",
      "[CV]  max_depth=3, colsample_bytree=0.757583009016, subsample=0.777136203568 -   0.0s\n",
      "[CV] max_depth=3, colsample_bytree=0.757583009016, subsample=0.777136203568 \n"
     ]
    },
    {
     "name": "stderr",
     "output_type": "stream",
     "text": [
      "C:\\Users\\Takashi\\Miniconda3\\lib\\site-packages\\sklearn\\metrics\\scorer.py:127: DeprecationWarning: Scoring method log_loss was renamed to neg_log_loss in version 0.18 and will be removed in 0.20.\n",
      "  sample_weight=sample_weight)\n",
      "C:\\Users\\Takashi\\Miniconda3\\lib\\site-packages\\sklearn\\metrics\\scorer.py:127: DeprecationWarning: Scoring method log_loss was renamed to neg_log_loss in version 0.18 and will be removed in 0.20.\n",
      "  sample_weight=sample_weight)\n",
      "C:\\Users\\Takashi\\Miniconda3\\lib\\site-packages\\sklearn\\metrics\\scorer.py:127: DeprecationWarning: Scoring method log_loss was renamed to neg_log_loss in version 0.18 and will be removed in 0.20.\n",
      "  sample_weight=sample_weight)\n",
      "C:\\Users\\Takashi\\Miniconda3\\lib\\site-packages\\sklearn\\metrics\\scorer.py:127: DeprecationWarning: Scoring method log_loss was renamed to neg_log_loss in version 0.18 and will be removed in 0.20.\n",
      "  sample_weight=sample_weight)\n"
     ]
    },
    {
     "name": "stdout",
     "output_type": "stream",
     "text": [
      "[CV]  max_depth=3, colsample_bytree=0.757583009016, subsample=0.777136203568 -   0.0s\n",
      "[CV] max_depth=3, colsample_bytree=0.757583009016, subsample=0.777136203568 \n",
      "[CV]  max_depth=3, colsample_bytree=0.757583009016, subsample=0.777136203568 -   0.0s\n",
      "[CV] max_depth=3, colsample_bytree=0.757583009016, subsample=0.777136203568 \n",
      "[CV]  max_depth=3, colsample_bytree=0.757583009016, subsample=0.777136203568 -   0.0s\n",
      "[CV] max_depth=3, colsample_bytree=0.757583009016, subsample=0.777136203568 \n",
      "[CV]  max_depth=3, colsample_bytree=0.757583009016, subsample=0.777136203568 -   0.0s\n",
      "[CV] max_depth=3, colsample_bytree=0.757583009016, subsample=0.777136203568 \n",
      "[CV]  max_depth=3, colsample_bytree=0.757583009016, subsample=0.777136203568 -   0.0s\n",
      "[CV] max_depth=3, colsample_bytree=0.757583009016, subsample=0.777136203568 \n"
     ]
    },
    {
     "name": "stderr",
     "output_type": "stream",
     "text": [
      "C:\\Users\\Takashi\\Miniconda3\\lib\\site-packages\\sklearn\\metrics\\scorer.py:127: DeprecationWarning: Scoring method log_loss was renamed to neg_log_loss in version 0.18 and will be removed in 0.20.\n",
      "  sample_weight=sample_weight)\n",
      "C:\\Users\\Takashi\\Miniconda3\\lib\\site-packages\\sklearn\\metrics\\scorer.py:127: DeprecationWarning: Scoring method log_loss was renamed to neg_log_loss in version 0.18 and will be removed in 0.20.\n",
      "  sample_weight=sample_weight)\n",
      "C:\\Users\\Takashi\\Miniconda3\\lib\\site-packages\\sklearn\\metrics\\scorer.py:127: DeprecationWarning: Scoring method log_loss was renamed to neg_log_loss in version 0.18 and will be removed in 0.20.\n",
      "  sample_weight=sample_weight)\n",
      "C:\\Users\\Takashi\\Miniconda3\\lib\\site-packages\\sklearn\\metrics\\scorer.py:127: DeprecationWarning: Scoring method log_loss was renamed to neg_log_loss in version 0.18 and will be removed in 0.20.\n",
      "  sample_weight=sample_weight)\n",
      "C:\\Users\\Takashi\\Miniconda3\\lib\\site-packages\\sklearn\\metrics\\scorer.py:127: DeprecationWarning: Scoring method log_loss was renamed to neg_log_loss in version 0.18 and will be removed in 0.20.\n",
      "  sample_weight=sample_weight)\n"
     ]
    },
    {
     "name": "stdout",
     "output_type": "stream",
     "text": [
      "[CV]  max_depth=3, colsample_bytree=0.757583009016, subsample=0.777136203568 -   0.0s\n",
      "[CV] max_depth=4, colsample_bytree=0.909752509657, subsample=0.717700616448 \n",
      "[CV]  max_depth=4, colsample_bytree=0.909752509657, subsample=0.717700616448 -   0.0s\n",
      "[CV] max_depth=4, colsample_bytree=0.909752509657, subsample=0.717700616448 \n",
      "[CV]  max_depth=4, colsample_bytree=0.909752509657, subsample=0.717700616448 -   0.0s\n",
      "[CV] max_depth=4, colsample_bytree=0.909752509657, subsample=0.717700616448 \n",
      "[CV]  max_depth=4, colsample_bytree=0.909752509657, subsample=0.717700616448 -   0.0s\n",
      "[CV] max_depth=4, colsample_bytree=0.909752509657, subsample=0.717700616448 \n"
     ]
    },
    {
     "name": "stderr",
     "output_type": "stream",
     "text": [
      "C:\\Users\\Takashi\\Miniconda3\\lib\\site-packages\\sklearn\\metrics\\scorer.py:127: DeprecationWarning: Scoring method log_loss was renamed to neg_log_loss in version 0.18 and will be removed in 0.20.\n",
      "  sample_weight=sample_weight)\n",
      "C:\\Users\\Takashi\\Miniconda3\\lib\\site-packages\\sklearn\\metrics\\scorer.py:127: DeprecationWarning: Scoring method log_loss was renamed to neg_log_loss in version 0.18 and will be removed in 0.20.\n",
      "  sample_weight=sample_weight)\n",
      "C:\\Users\\Takashi\\Miniconda3\\lib\\site-packages\\sklearn\\metrics\\scorer.py:127: DeprecationWarning: Scoring method log_loss was renamed to neg_log_loss in version 0.18 and will be removed in 0.20.\n",
      "  sample_weight=sample_weight)\n",
      "C:\\Users\\Takashi\\Miniconda3\\lib\\site-packages\\sklearn\\metrics\\scorer.py:127: DeprecationWarning: Scoring method log_loss was renamed to neg_log_loss in version 0.18 and will be removed in 0.20.\n",
      "  sample_weight=sample_weight)\n",
      "C:\\Users\\Takashi\\Miniconda3\\lib\\site-packages\\sklearn\\metrics\\scorer.py:127: DeprecationWarning: Scoring method log_loss was renamed to neg_log_loss in version 0.18 and will be removed in 0.20.\n",
      "  sample_weight=sample_weight)\n",
      "C:\\Users\\Takashi\\Miniconda3\\lib\\site-packages\\sklearn\\metrics\\scorer.py:127: DeprecationWarning: Scoring method log_loss was renamed to neg_log_loss in version 0.18 and will be removed in 0.20.\n",
      "  sample_weight=sample_weight)\n"
     ]
    },
    {
     "name": "stdout",
     "output_type": "stream",
     "text": [
      "[CV]  max_depth=4, colsample_bytree=0.909752509657, subsample=0.717700616448 -   0.0s\n",
      "[CV] max_depth=4, colsample_bytree=0.909752509657, subsample=0.717700616448 \n",
      "[CV]  max_depth=4, colsample_bytree=0.909752509657, subsample=0.717700616448 -   0.0s\n",
      "[CV] max_depth=4, colsample_bytree=0.909752509657, subsample=0.717700616448 \n",
      "[CV]  max_depth=4, colsample_bytree=0.909752509657, subsample=0.717700616448 -   0.0s\n",
      "[CV] max_depth=4, colsample_bytree=0.909752509657, subsample=0.717700616448 \n"
     ]
    },
    {
     "name": "stderr",
     "output_type": "stream",
     "text": [
      "C:\\Users\\Takashi\\Miniconda3\\lib\\site-packages\\sklearn\\metrics\\scorer.py:127: DeprecationWarning: Scoring method log_loss was renamed to neg_log_loss in version 0.18 and will be removed in 0.20.\n",
      "  sample_weight=sample_weight)\n",
      "C:\\Users\\Takashi\\Miniconda3\\lib\\site-packages\\sklearn\\metrics\\scorer.py:127: DeprecationWarning: Scoring method log_loss was renamed to neg_log_loss in version 0.18 and will be removed in 0.20.\n",
      "  sample_weight=sample_weight)\n",
      "C:\\Users\\Takashi\\Miniconda3\\lib\\site-packages\\sklearn\\metrics\\scorer.py:127: DeprecationWarning: Scoring method log_loss was renamed to neg_log_loss in version 0.18 and will be removed in 0.20.\n",
      "  sample_weight=sample_weight)\n"
     ]
    },
    {
     "name": "stdout",
     "output_type": "stream",
     "text": [
      "[CV]  max_depth=4, colsample_bytree=0.909752509657, subsample=0.717700616448 -   0.0s\n",
      "[CV] max_depth=4, colsample_bytree=0.909752509657, subsample=0.717700616448 \n",
      "[CV]  max_depth=4, colsample_bytree=0.909752509657, subsample=0.717700616448 -   0.0s\n",
      "[CV] max_depth=4, colsample_bytree=0.909752509657, subsample=0.717700616448 \n",
      "[CV]  max_depth=4, colsample_bytree=0.909752509657, subsample=0.717700616448 -   0.0s\n",
      "[CV] max_depth=4, colsample_bytree=0.909752509657, subsample=0.717700616448 \n"
     ]
    },
    {
     "name": "stderr",
     "output_type": "stream",
     "text": [
      "C:\\Users\\Takashi\\Miniconda3\\lib\\site-packages\\sklearn\\metrics\\scorer.py:127: DeprecationWarning: Scoring method log_loss was renamed to neg_log_loss in version 0.18 and will be removed in 0.20.\n",
      "  sample_weight=sample_weight)\n",
      "C:\\Users\\Takashi\\Miniconda3\\lib\\site-packages\\sklearn\\metrics\\scorer.py:127: DeprecationWarning: Scoring method log_loss was renamed to neg_log_loss in version 0.18 and will be removed in 0.20.\n",
      "  sample_weight=sample_weight)\n",
      "C:\\Users\\Takashi\\Miniconda3\\lib\\site-packages\\sklearn\\metrics\\scorer.py:127: DeprecationWarning: Scoring method log_loss was renamed to neg_log_loss in version 0.18 and will be removed in 0.20.\n",
      "  sample_weight=sample_weight)\n",
      "C:\\Users\\Takashi\\Miniconda3\\lib\\site-packages\\sklearn\\metrics\\scorer.py:127: DeprecationWarning: Scoring method log_loss was renamed to neg_log_loss in version 0.18 and will be removed in 0.20.\n",
      "  sample_weight=sample_weight)\n",
      "C:\\Users\\Takashi\\Miniconda3\\lib\\site-packages\\sklearn\\metrics\\scorer.py:127: DeprecationWarning: Scoring method log_loss was renamed to neg_log_loss in version 0.18 and will be removed in 0.20.\n",
      "  sample_weight=sample_weight)\n",
      "C:\\Users\\Takashi\\Miniconda3\\lib\\site-packages\\sklearn\\metrics\\scorer.py:127: DeprecationWarning: Scoring method log_loss was renamed to neg_log_loss in version 0.18 and will be removed in 0.20.\n",
      "  sample_weight=sample_weight)\n"
     ]
    },
    {
     "name": "stdout",
     "output_type": "stream",
     "text": [
      "[CV]  max_depth=4, colsample_bytree=0.909752509657, subsample=0.717700616448 -   0.0s\n",
      "[CV] max_depth=1, colsample_bytree=0.789785151435, subsample=0.662568708168 \n",
      "[CV]  max_depth=1, colsample_bytree=0.789785151435, subsample=0.662568708168 -   0.0s\n",
      "[CV] max_depth=1, colsample_bytree=0.789785151435, subsample=0.662568708168 \n",
      "[CV]  max_depth=1, colsample_bytree=0.789785151435, subsample=0.662568708168 -   0.0s\n",
      "[CV] max_depth=1, colsample_bytree=0.789785151435, subsample=0.662568708168 \n",
      "[CV]  max_depth=1, colsample_bytree=0.789785151435, subsample=0.662568708168 -   0.0s\n",
      "[CV] max_depth=1, colsample_bytree=0.789785151435, subsample=0.662568708168 \n",
      "[CV]  max_depth=1, colsample_bytree=0.789785151435, subsample=0.662568708168 -   0.0s\n",
      "[CV] max_depth=1, colsample_bytree=0.789785151435, subsample=0.662568708168 \n",
      "[CV]  max_depth=1, colsample_bytree=0.789785151435, subsample=0.662568708168 -   0.0s\n",
      "[CV] max_depth=1, colsample_bytree=0.789785151435, subsample=0.662568708168 \n"
     ]
    },
    {
     "name": "stderr",
     "output_type": "stream",
     "text": [
      "C:\\Users\\Takashi\\Miniconda3\\lib\\site-packages\\sklearn\\metrics\\scorer.py:127: DeprecationWarning: Scoring method log_loss was renamed to neg_log_loss in version 0.18 and will be removed in 0.20.\n",
      "  sample_weight=sample_weight)\n",
      "C:\\Users\\Takashi\\Miniconda3\\lib\\site-packages\\sklearn\\metrics\\scorer.py:127: DeprecationWarning: Scoring method log_loss was renamed to neg_log_loss in version 0.18 and will be removed in 0.20.\n",
      "  sample_weight=sample_weight)\n",
      "C:\\Users\\Takashi\\Miniconda3\\lib\\site-packages\\sklearn\\metrics\\scorer.py:127: DeprecationWarning: Scoring method log_loss was renamed to neg_log_loss in version 0.18 and will be removed in 0.20.\n",
      "  sample_weight=sample_weight)\n",
      "C:\\Users\\Takashi\\Miniconda3\\lib\\site-packages\\sklearn\\metrics\\scorer.py:127: DeprecationWarning: Scoring method log_loss was renamed to neg_log_loss in version 0.18 and will be removed in 0.20.\n",
      "  sample_weight=sample_weight)\n",
      "C:\\Users\\Takashi\\Miniconda3\\lib\\site-packages\\sklearn\\metrics\\scorer.py:127: DeprecationWarning: Scoring method log_loss was renamed to neg_log_loss in version 0.18 and will be removed in 0.20.\n",
      "  sample_weight=sample_weight)\n"
     ]
    },
    {
     "name": "stdout",
     "output_type": "stream",
     "text": [
      "[CV]  max_depth=1, colsample_bytree=0.789785151435, subsample=0.662568708168 -   0.0s\n",
      "[CV] max_depth=1, colsample_bytree=0.789785151435, subsample=0.662568708168 \n",
      "[CV]  max_depth=1, colsample_bytree=0.789785151435, subsample=0.662568708168 -   0.0s\n",
      "[CV] max_depth=1, colsample_bytree=0.789785151435, subsample=0.662568708168 \n",
      "[CV]  max_depth=1, colsample_bytree=0.789785151435, subsample=0.662568708168 -   0.0s\n",
      "[CV] max_depth=1, colsample_bytree=0.789785151435, subsample=0.662568708168 \n",
      "[CV]  max_depth=1, colsample_bytree=0.789785151435, subsample=0.662568708168 -   0.0s\n",
      "[CV] max_depth=1, colsample_bytree=0.789785151435, subsample=0.662568708168 \n",
      "[CV]  max_depth=1, colsample_bytree=0.789785151435, subsample=0.662568708168 -   0.0s\n",
      "[CV] max_depth=5, colsample_bytree=0.714343950315, subsample=0.830984390542 \n"
     ]
    },
    {
     "name": "stderr",
     "output_type": "stream",
     "text": [
      "C:\\Users\\Takashi\\Miniconda3\\lib\\site-packages\\sklearn\\metrics\\scorer.py:127: DeprecationWarning: Scoring method log_loss was renamed to neg_log_loss in version 0.18 and will be removed in 0.20.\n",
      "  sample_weight=sample_weight)\n",
      "C:\\Users\\Takashi\\Miniconda3\\lib\\site-packages\\sklearn\\metrics\\scorer.py:127: DeprecationWarning: Scoring method log_loss was renamed to neg_log_loss in version 0.18 and will be removed in 0.20.\n",
      "  sample_weight=sample_weight)\n",
      "C:\\Users\\Takashi\\Miniconda3\\lib\\site-packages\\sklearn\\metrics\\scorer.py:127: DeprecationWarning: Scoring method log_loss was renamed to neg_log_loss in version 0.18 and will be removed in 0.20.\n",
      "  sample_weight=sample_weight)\n"
     ]
    },
    {
     "name": "stdout",
     "output_type": "stream",
     "text": [
      "[CV]  max_depth=5, colsample_bytree=0.714343950315, subsample=0.830984390542 -   0.0s\n",
      "[CV] max_depth=5, colsample_bytree=0.714343950315, subsample=0.830984390542 \n",
      "[CV]  max_depth=5, colsample_bytree=0.714343950315, subsample=0.830984390542 -   0.0s\n",
      "[CV] max_depth=5, colsample_bytree=0.714343950315, subsample=0.830984390542 \n",
      "[CV]  max_depth=5, colsample_bytree=0.714343950315, subsample=0.830984390542 -   0.0s\n",
      "[CV] max_depth=5, colsample_bytree=0.714343950315, subsample=0.830984390542 \n"
     ]
    },
    {
     "name": "stderr",
     "output_type": "stream",
     "text": [
      "C:\\Users\\Takashi\\Miniconda3\\lib\\site-packages\\sklearn\\metrics\\scorer.py:127: DeprecationWarning: Scoring method log_loss was renamed to neg_log_loss in version 0.18 and will be removed in 0.20.\n",
      "  sample_weight=sample_weight)\n",
      "C:\\Users\\Takashi\\Miniconda3\\lib\\site-packages\\sklearn\\metrics\\scorer.py:127: DeprecationWarning: Scoring method log_loss was renamed to neg_log_loss in version 0.18 and will be removed in 0.20.\n",
      "  sample_weight=sample_weight)\n",
      "C:\\Users\\Takashi\\Miniconda3\\lib\\site-packages\\sklearn\\metrics\\scorer.py:127: DeprecationWarning: Scoring method log_loss was renamed to neg_log_loss in version 0.18 and will be removed in 0.20.\n",
      "  sample_weight=sample_weight)\n"
     ]
    },
    {
     "name": "stdout",
     "output_type": "stream",
     "text": [
      "[CV]  max_depth=5, colsample_bytree=0.714343950315, subsample=0.830984390542 -   0.0s\n",
      "[CV] max_depth=5, colsample_bytree=0.714343950315, subsample=0.830984390542 \n",
      "[CV]  max_depth=5, colsample_bytree=0.714343950315, subsample=0.830984390542 -   0.0s\n",
      "[CV] max_depth=5, colsample_bytree=0.714343950315, subsample=0.830984390542 \n",
      "[CV]  max_depth=5, colsample_bytree=0.714343950315, subsample=0.830984390542 -   0.0s\n",
      "[CV] max_depth=5, colsample_bytree=0.714343950315, subsample=0.830984390542 \n"
     ]
    },
    {
     "name": "stderr",
     "output_type": "stream",
     "text": [
      "C:\\Users\\Takashi\\Miniconda3\\lib\\site-packages\\sklearn\\metrics\\scorer.py:127: DeprecationWarning: Scoring method log_loss was renamed to neg_log_loss in version 0.18 and will be removed in 0.20.\n",
      "  sample_weight=sample_weight)\n",
      "C:\\Users\\Takashi\\Miniconda3\\lib\\site-packages\\sklearn\\metrics\\scorer.py:127: DeprecationWarning: Scoring method log_loss was renamed to neg_log_loss in version 0.18 and will be removed in 0.20.\n",
      "  sample_weight=sample_weight)\n",
      "C:\\Users\\Takashi\\Miniconda3\\lib\\site-packages\\sklearn\\metrics\\scorer.py:127: DeprecationWarning: Scoring method log_loss was renamed to neg_log_loss in version 0.18 and will be removed in 0.20.\n",
      "  sample_weight=sample_weight)\n",
      "C:\\Users\\Takashi\\Miniconda3\\lib\\site-packages\\sklearn\\metrics\\scorer.py:127: DeprecationWarning: Scoring method log_loss was renamed to neg_log_loss in version 0.18 and will be removed in 0.20.\n",
      "  sample_weight=sample_weight)\n"
     ]
    },
    {
     "name": "stdout",
     "output_type": "stream",
     "text": [
      "[CV]  max_depth=5, colsample_bytree=0.714343950315, subsample=0.830984390542 -   0.0s\n",
      "[CV] max_depth=5, colsample_bytree=0.714343950315, subsample=0.830984390542 \n",
      "[CV]  max_depth=5, colsample_bytree=0.714343950315, subsample=0.830984390542 -   0.0s\n",
      "[CV] max_depth=5, colsample_bytree=0.714343950315, subsample=0.830984390542 \n",
      "[CV]  max_depth=5, colsample_bytree=0.714343950315, subsample=0.830984390542 -   0.0s\n",
      "[CV] max_depth=5, colsample_bytree=0.714343950315, subsample=0.830984390542 \n",
      "[CV]  max_depth=5, colsample_bytree=0.714343950315, subsample=0.830984390542 -   0.0s\n",
      "[CV] max_depth=10, colsample_bytree=0.502452516025, subsample=0.947165891462 \n"
     ]
    },
    {
     "name": "stderr",
     "output_type": "stream",
     "text": [
      "C:\\Users\\Takashi\\Miniconda3\\lib\\site-packages\\sklearn\\metrics\\scorer.py:127: DeprecationWarning: Scoring method log_loss was renamed to neg_log_loss in version 0.18 and will be removed in 0.20.\n",
      "  sample_weight=sample_weight)\n",
      "C:\\Users\\Takashi\\Miniconda3\\lib\\site-packages\\sklearn\\metrics\\scorer.py:127: DeprecationWarning: Scoring method log_loss was renamed to neg_log_loss in version 0.18 and will be removed in 0.20.\n",
      "  sample_weight=sample_weight)\n"
     ]
    },
    {
     "name": "stdout",
     "output_type": "stream",
     "text": [
      "[CV]  max_depth=10, colsample_bytree=0.502452516025, subsample=0.947165891462 -   0.0s\n",
      "[CV] max_depth=10, colsample_bytree=0.502452516025, subsample=0.947165891462 \n",
      "[CV]  max_depth=10, colsample_bytree=0.502452516025, subsample=0.947165891462 -   0.0s\n",
      "[CV] max_depth=10, colsample_bytree=0.502452516025, subsample=0.947165891462 \n"
     ]
    },
    {
     "name": "stderr",
     "output_type": "stream",
     "text": [
      "C:\\Users\\Takashi\\Miniconda3\\lib\\site-packages\\sklearn\\metrics\\scorer.py:127: DeprecationWarning: Scoring method log_loss was renamed to neg_log_loss in version 0.18 and will be removed in 0.20.\n",
      "  sample_weight=sample_weight)\n",
      "C:\\Users\\Takashi\\Miniconda3\\lib\\site-packages\\sklearn\\metrics\\scorer.py:127: DeprecationWarning: Scoring method log_loss was renamed to neg_log_loss in version 0.18 and will be removed in 0.20.\n",
      "  sample_weight=sample_weight)\n"
     ]
    },
    {
     "name": "stdout",
     "output_type": "stream",
     "text": [
      "[CV]  max_depth=10, colsample_bytree=0.502452516025, subsample=0.947165891462 -   0.0s\n",
      "[CV] max_depth=10, colsample_bytree=0.502452516025, subsample=0.947165891462 \n",
      "[CV]  max_depth=10, colsample_bytree=0.502452516025, subsample=0.947165891462 -   0.0s\n",
      "[CV] max_depth=10, colsample_bytree=0.502452516025, subsample=0.947165891462 \n"
     ]
    },
    {
     "name": "stderr",
     "output_type": "stream",
     "text": [
      "C:\\Users\\Takashi\\Miniconda3\\lib\\site-packages\\sklearn\\metrics\\scorer.py:127: DeprecationWarning: Scoring method log_loss was renamed to neg_log_loss in version 0.18 and will be removed in 0.20.\n",
      "  sample_weight=sample_weight)\n",
      "C:\\Users\\Takashi\\Miniconda3\\lib\\site-packages\\sklearn\\metrics\\scorer.py:127: DeprecationWarning: Scoring method log_loss was renamed to neg_log_loss in version 0.18 and will be removed in 0.20.\n",
      "  sample_weight=sample_weight)\n"
     ]
    },
    {
     "name": "stdout",
     "output_type": "stream",
     "text": [
      "[CV]  max_depth=10, colsample_bytree=0.502452516025, subsample=0.947165891462 -   0.0s\n",
      "[CV] max_depth=10, colsample_bytree=0.502452516025, subsample=0.947165891462 \n",
      "[CV]  max_depth=10, colsample_bytree=0.502452516025, subsample=0.947165891462 -   0.0s\n",
      "[CV] max_depth=10, colsample_bytree=0.502452516025, subsample=0.947165891462 \n"
     ]
    },
    {
     "name": "stderr",
     "output_type": "stream",
     "text": [
      "C:\\Users\\Takashi\\Miniconda3\\lib\\site-packages\\sklearn\\metrics\\scorer.py:127: DeprecationWarning: Scoring method log_loss was renamed to neg_log_loss in version 0.18 and will be removed in 0.20.\n",
      "  sample_weight=sample_weight)\n",
      "C:\\Users\\Takashi\\Miniconda3\\lib\\site-packages\\sklearn\\metrics\\scorer.py:127: DeprecationWarning: Scoring method log_loss was renamed to neg_log_loss in version 0.18 and will be removed in 0.20.\n",
      "  sample_weight=sample_weight)\n"
     ]
    },
    {
     "name": "stdout",
     "output_type": "stream",
     "text": [
      "[CV]  max_depth=10, colsample_bytree=0.502452516025, subsample=0.947165891462 -   0.0s\n",
      "[CV] max_depth=10, colsample_bytree=0.502452516025, subsample=0.947165891462 \n",
      "[CV]  max_depth=10, colsample_bytree=0.502452516025, subsample=0.947165891462 -   0.0s\n",
      "[CV] max_depth=10, colsample_bytree=0.502452516025, subsample=0.947165891462 \n"
     ]
    },
    {
     "name": "stderr",
     "output_type": "stream",
     "text": [
      "C:\\Users\\Takashi\\Miniconda3\\lib\\site-packages\\sklearn\\metrics\\scorer.py:127: DeprecationWarning: Scoring method log_loss was renamed to neg_log_loss in version 0.18 and will be removed in 0.20.\n",
      "  sample_weight=sample_weight)\n",
      "C:\\Users\\Takashi\\Miniconda3\\lib\\site-packages\\sklearn\\metrics\\scorer.py:127: DeprecationWarning: Scoring method log_loss was renamed to neg_log_loss in version 0.18 and will be removed in 0.20.\n",
      "  sample_weight=sample_weight)\n"
     ]
    },
    {
     "name": "stdout",
     "output_type": "stream",
     "text": [
      "[CV]  max_depth=10, colsample_bytree=0.502452516025, subsample=0.947165891462 -   0.0s\n",
      "[CV] max_depth=10, colsample_bytree=0.502452516025, subsample=0.947165891462 \n",
      "[CV]  max_depth=10, colsample_bytree=0.502452516025, subsample=0.947165891462 -   0.0s\n",
      "[CV] max_depth=10, colsample_bytree=0.828471486777, subsample=0.870927860443 \n"
     ]
    },
    {
     "name": "stderr",
     "output_type": "stream",
     "text": [
      "C:\\Users\\Takashi\\Miniconda3\\lib\\site-packages\\sklearn\\metrics\\scorer.py:127: DeprecationWarning: Scoring method log_loss was renamed to neg_log_loss in version 0.18 and will be removed in 0.20.\n",
      "  sample_weight=sample_weight)\n",
      "C:\\Users\\Takashi\\Miniconda3\\lib\\site-packages\\sklearn\\metrics\\scorer.py:127: DeprecationWarning: Scoring method log_loss was renamed to neg_log_loss in version 0.18 and will be removed in 0.20.\n",
      "  sample_weight=sample_weight)\n"
     ]
    },
    {
     "name": "stdout",
     "output_type": "stream",
     "text": [
      "[CV]  max_depth=10, colsample_bytree=0.828471486777, subsample=0.870927860443 -   0.0s\n",
      "[CV] max_depth=10, colsample_bytree=0.828471486777, subsample=0.870927860443 \n",
      "[CV]  max_depth=10, colsample_bytree=0.828471486777, subsample=0.870927860443 -   0.0s\n",
      "[CV] max_depth=10, colsample_bytree=0.828471486777, subsample=0.870927860443 \n"
     ]
    },
    {
     "name": "stderr",
     "output_type": "stream",
     "text": [
      "C:\\Users\\Takashi\\Miniconda3\\lib\\site-packages\\sklearn\\metrics\\scorer.py:127: DeprecationWarning: Scoring method log_loss was renamed to neg_log_loss in version 0.18 and will be removed in 0.20.\n",
      "  sample_weight=sample_weight)\n",
      "C:\\Users\\Takashi\\Miniconda3\\lib\\site-packages\\sklearn\\metrics\\scorer.py:127: DeprecationWarning: Scoring method log_loss was renamed to neg_log_loss in version 0.18 and will be removed in 0.20.\n",
      "  sample_weight=sample_weight)\n"
     ]
    },
    {
     "name": "stdout",
     "output_type": "stream",
     "text": [
      "[CV]  max_depth=10, colsample_bytree=0.828471486777, subsample=0.870927860443 -   0.0s\n",
      "[CV] max_depth=10, colsample_bytree=0.828471486777, subsample=0.870927860443 \n",
      "[CV]  max_depth=10, colsample_bytree=0.828471486777, subsample=0.870927860443 -   0.0s\n",
      "[CV] max_depth=10, colsample_bytree=0.828471486777, subsample=0.870927860443 \n"
     ]
    },
    {
     "name": "stderr",
     "output_type": "stream",
     "text": [
      "C:\\Users\\Takashi\\Miniconda3\\lib\\site-packages\\sklearn\\metrics\\scorer.py:127: DeprecationWarning: Scoring method log_loss was renamed to neg_log_loss in version 0.18 and will be removed in 0.20.\n",
      "  sample_weight=sample_weight)\n",
      "C:\\Users\\Takashi\\Miniconda3\\lib\\site-packages\\sklearn\\metrics\\scorer.py:127: DeprecationWarning: Scoring method log_loss was renamed to neg_log_loss in version 0.18 and will be removed in 0.20.\n",
      "  sample_weight=sample_weight)\n"
     ]
    },
    {
     "name": "stdout",
     "output_type": "stream",
     "text": [
      "[CV]  max_depth=10, colsample_bytree=0.828471486777, subsample=0.870927860443 -   0.0s\n",
      "[CV] max_depth=10, colsample_bytree=0.828471486777, subsample=0.870927860443 \n",
      "[CV]  max_depth=10, colsample_bytree=0.828471486777, subsample=0.870927860443 -   0.0s\n",
      "[CV] max_depth=10, colsample_bytree=0.828471486777, subsample=0.870927860443 \n"
     ]
    },
    {
     "name": "stderr",
     "output_type": "stream",
     "text": [
      "C:\\Users\\Takashi\\Miniconda3\\lib\\site-packages\\sklearn\\metrics\\scorer.py:127: DeprecationWarning: Scoring method log_loss was renamed to neg_log_loss in version 0.18 and will be removed in 0.20.\n",
      "  sample_weight=sample_weight)\n",
      "C:\\Users\\Takashi\\Miniconda3\\lib\\site-packages\\sklearn\\metrics\\scorer.py:127: DeprecationWarning: Scoring method log_loss was renamed to neg_log_loss in version 0.18 and will be removed in 0.20.\n",
      "  sample_weight=sample_weight)\n"
     ]
    },
    {
     "name": "stdout",
     "output_type": "stream",
     "text": [
      "[CV]  max_depth=10, colsample_bytree=0.828471486777, subsample=0.870927860443 -   0.0s\n",
      "[CV] max_depth=10, colsample_bytree=0.828471486777, subsample=0.870927860443 \n",
      "[CV]  max_depth=10, colsample_bytree=0.828471486777, subsample=0.870927860443 -   0.0s\n",
      "[CV] max_depth=10, colsample_bytree=0.828471486777, subsample=0.870927860443 \n"
     ]
    },
    {
     "name": "stderr",
     "output_type": "stream",
     "text": [
      "C:\\Users\\Takashi\\Miniconda3\\lib\\site-packages\\sklearn\\metrics\\scorer.py:127: DeprecationWarning: Scoring method log_loss was renamed to neg_log_loss in version 0.18 and will be removed in 0.20.\n",
      "  sample_weight=sample_weight)\n",
      "C:\\Users\\Takashi\\Miniconda3\\lib\\site-packages\\sklearn\\metrics\\scorer.py:127: DeprecationWarning: Scoring method log_loss was renamed to neg_log_loss in version 0.18 and will be removed in 0.20.\n",
      "  sample_weight=sample_weight)\n"
     ]
    },
    {
     "name": "stdout",
     "output_type": "stream",
     "text": [
      "[CV]  max_depth=10, colsample_bytree=0.828471486777, subsample=0.870927860443 -   0.0s\n",
      "[CV] max_depth=10, colsample_bytree=0.828471486777, subsample=0.870927860443 \n",
      "[CV]  max_depth=10, colsample_bytree=0.828471486777, subsample=0.870927860443 -   0.0s\n",
      "[CV] max_depth=8, colsample_bytree=0.740321865715, subsample=0.949281374535 \n"
     ]
    },
    {
     "name": "stderr",
     "output_type": "stream",
     "text": [
      "C:\\Users\\Takashi\\Miniconda3\\lib\\site-packages\\sklearn\\metrics\\scorer.py:127: DeprecationWarning: Scoring method log_loss was renamed to neg_log_loss in version 0.18 and will be removed in 0.20.\n",
      "  sample_weight=sample_weight)\n",
      "C:\\Users\\Takashi\\Miniconda3\\lib\\site-packages\\sklearn\\metrics\\scorer.py:127: DeprecationWarning: Scoring method log_loss was renamed to neg_log_loss in version 0.18 and will be removed in 0.20.\n",
      "  sample_weight=sample_weight)\n",
      "C:\\Users\\Takashi\\Miniconda3\\lib\\site-packages\\sklearn\\metrics\\scorer.py:127: DeprecationWarning: Scoring method log_loss was renamed to neg_log_loss in version 0.18 and will be removed in 0.20.\n",
      "  sample_weight=sample_weight)\n"
     ]
    },
    {
     "name": "stdout",
     "output_type": "stream",
     "text": [
      "[CV]  max_depth=8, colsample_bytree=0.740321865715, subsample=0.949281374535 -   0.0s\n",
      "[CV] max_depth=8, colsample_bytree=0.740321865715, subsample=0.949281374535 \n",
      "[CV]  max_depth=8, colsample_bytree=0.740321865715, subsample=0.949281374535 -   0.0s\n",
      "[CV] max_depth=8, colsample_bytree=0.740321865715, subsample=0.949281374535 \n",
      "[CV]  max_depth=8, colsample_bytree=0.740321865715, subsample=0.949281374535 -   0.0s\n",
      "[CV] max_depth=8, colsample_bytree=0.740321865715, subsample=0.949281374535 \n"
     ]
    },
    {
     "name": "stderr",
     "output_type": "stream",
     "text": [
      "C:\\Users\\Takashi\\Miniconda3\\lib\\site-packages\\sklearn\\metrics\\scorer.py:127: DeprecationWarning: Scoring method log_loss was renamed to neg_log_loss in version 0.18 and will be removed in 0.20.\n",
      "  sample_weight=sample_weight)\n",
      "C:\\Users\\Takashi\\Miniconda3\\lib\\site-packages\\sklearn\\metrics\\scorer.py:127: DeprecationWarning: Scoring method log_loss was renamed to neg_log_loss in version 0.18 and will be removed in 0.20.\n",
      "  sample_weight=sample_weight)\n",
      "C:\\Users\\Takashi\\Miniconda3\\lib\\site-packages\\sklearn\\metrics\\scorer.py:127: DeprecationWarning: Scoring method log_loss was renamed to neg_log_loss in version 0.18 and will be removed in 0.20.\n",
      "  sample_weight=sample_weight)\n"
     ]
    },
    {
     "name": "stdout",
     "output_type": "stream",
     "text": [
      "[CV]  max_depth=8, colsample_bytree=0.740321865715, subsample=0.949281374535 -   0.0s\n",
      "[CV] max_depth=8, colsample_bytree=0.740321865715, subsample=0.949281374535 \n",
      "[CV]  max_depth=8, colsample_bytree=0.740321865715, subsample=0.949281374535 -   0.0s\n",
      "[CV] max_depth=8, colsample_bytree=0.740321865715, subsample=0.949281374535 \n",
      "[CV]  max_depth=8, colsample_bytree=0.740321865715, subsample=0.949281374535 -   0.0s\n",
      "[CV] max_depth=8, colsample_bytree=0.740321865715, subsample=0.949281374535 \n"
     ]
    },
    {
     "name": "stderr",
     "output_type": "stream",
     "text": [
      "C:\\Users\\Takashi\\Miniconda3\\lib\\site-packages\\sklearn\\metrics\\scorer.py:127: DeprecationWarning: Scoring method log_loss was renamed to neg_log_loss in version 0.18 and will be removed in 0.20.\n",
      "  sample_weight=sample_weight)\n",
      "C:\\Users\\Takashi\\Miniconda3\\lib\\site-packages\\sklearn\\metrics\\scorer.py:127: DeprecationWarning: Scoring method log_loss was renamed to neg_log_loss in version 0.18 and will be removed in 0.20.\n",
      "  sample_weight=sample_weight)\n",
      "C:\\Users\\Takashi\\Miniconda3\\lib\\site-packages\\sklearn\\metrics\\scorer.py:127: DeprecationWarning: Scoring method log_loss was renamed to neg_log_loss in version 0.18 and will be removed in 0.20.\n",
      "  sample_weight=sample_weight)\n"
     ]
    },
    {
     "name": "stdout",
     "output_type": "stream",
     "text": [
      "[CV]  max_depth=8, colsample_bytree=0.740321865715, subsample=0.949281374535 -   0.0s\n",
      "[CV] max_depth=8, colsample_bytree=0.740321865715, subsample=0.949281374535 \n",
      "[CV]  max_depth=8, colsample_bytree=0.740321865715, subsample=0.949281374535 -   0.0s\n",
      "[CV] max_depth=8, colsample_bytree=0.740321865715, subsample=0.949281374535 \n",
      "[CV]  max_depth=8, colsample_bytree=0.740321865715, subsample=0.949281374535 -   0.0s\n",
      "[CV] max_depth=8, colsample_bytree=0.740321865715, subsample=0.949281374535 \n"
     ]
    },
    {
     "name": "stderr",
     "output_type": "stream",
     "text": [
      "C:\\Users\\Takashi\\Miniconda3\\lib\\site-packages\\sklearn\\metrics\\scorer.py:127: DeprecationWarning: Scoring method log_loss was renamed to neg_log_loss in version 0.18 and will be removed in 0.20.\n",
      "  sample_weight=sample_weight)\n",
      "C:\\Users\\Takashi\\Miniconda3\\lib\\site-packages\\sklearn\\metrics\\scorer.py:127: DeprecationWarning: Scoring method log_loss was renamed to neg_log_loss in version 0.18 and will be removed in 0.20.\n",
      "  sample_weight=sample_weight)\n",
      "C:\\Users\\Takashi\\Miniconda3\\lib\\site-packages\\sklearn\\metrics\\scorer.py:127: DeprecationWarning: Scoring method log_loss was renamed to neg_log_loss in version 0.18 and will be removed in 0.20.\n",
      "  sample_weight=sample_weight)\n"
     ]
    },
    {
     "name": "stdout",
     "output_type": "stream",
     "text": [
      "[CV]  max_depth=8, colsample_bytree=0.740321865715, subsample=0.949281374535 -   0.0s\n",
      "[CV] max_depth=6, colsample_bytree=0.58971338996, subsample=0.727009564598 \n",
      "[CV]  max_depth=6, colsample_bytree=0.58971338996, subsample=0.727009564598 -   0.0s\n",
      "[CV] max_depth=6, colsample_bytree=0.58971338996, subsample=0.727009564598 \n",
      "[CV]  max_depth=6, colsample_bytree=0.58971338996, subsample=0.727009564598 -   0.0s\n",
      "[CV] max_depth=6, colsample_bytree=0.58971338996, subsample=0.727009564598 \n"
     ]
    },
    {
     "name": "stderr",
     "output_type": "stream",
     "text": [
      "C:\\Users\\Takashi\\Miniconda3\\lib\\site-packages\\sklearn\\metrics\\scorer.py:127: DeprecationWarning: Scoring method log_loss was renamed to neg_log_loss in version 0.18 and will be removed in 0.20.\n",
      "  sample_weight=sample_weight)\n",
      "C:\\Users\\Takashi\\Miniconda3\\lib\\site-packages\\sklearn\\metrics\\scorer.py:127: DeprecationWarning: Scoring method log_loss was renamed to neg_log_loss in version 0.18 and will be removed in 0.20.\n",
      "  sample_weight=sample_weight)\n",
      "C:\\Users\\Takashi\\Miniconda3\\lib\\site-packages\\sklearn\\metrics\\scorer.py:127: DeprecationWarning: Scoring method log_loss was renamed to neg_log_loss in version 0.18 and will be removed in 0.20.\n",
      "  sample_weight=sample_weight)\n"
     ]
    },
    {
     "name": "stdout",
     "output_type": "stream",
     "text": [
      "[CV]  max_depth=6, colsample_bytree=0.58971338996, subsample=0.727009564598 -   0.0s\n",
      "[CV] max_depth=6, colsample_bytree=0.58971338996, subsample=0.727009564598 \n",
      "[CV]  max_depth=6, colsample_bytree=0.58971338996, subsample=0.727009564598 -   0.0s\n",
      "[CV] max_depth=6, colsample_bytree=0.58971338996, subsample=0.727009564598 \n",
      "[CV]  max_depth=6, colsample_bytree=0.58971338996, subsample=0.727009564598 -   0.0s\n",
      "[CV] max_depth=6, colsample_bytree=0.58971338996, subsample=0.727009564598 \n"
     ]
    },
    {
     "name": "stderr",
     "output_type": "stream",
     "text": [
      "C:\\Users\\Takashi\\Miniconda3\\lib\\site-packages\\sklearn\\metrics\\scorer.py:127: DeprecationWarning: Scoring method log_loss was renamed to neg_log_loss in version 0.18 and will be removed in 0.20.\n",
      "  sample_weight=sample_weight)\n",
      "C:\\Users\\Takashi\\Miniconda3\\lib\\site-packages\\sklearn\\metrics\\scorer.py:127: DeprecationWarning: Scoring method log_loss was renamed to neg_log_loss in version 0.18 and will be removed in 0.20.\n",
      "  sample_weight=sample_weight)\n",
      "C:\\Users\\Takashi\\Miniconda3\\lib\\site-packages\\sklearn\\metrics\\scorer.py:127: DeprecationWarning: Scoring method log_loss was renamed to neg_log_loss in version 0.18 and will be removed in 0.20.\n",
      "  sample_weight=sample_weight)\n"
     ]
    },
    {
     "name": "stdout",
     "output_type": "stream",
     "text": [
      "[CV]  max_depth=6, colsample_bytree=0.58971338996, subsample=0.727009564598 -   0.0s\n",
      "[CV] max_depth=6, colsample_bytree=0.58971338996, subsample=0.727009564598 \n",
      "[CV]  max_depth=6, colsample_bytree=0.58971338996, subsample=0.727009564598 -   0.0s\n",
      "[CV] max_depth=6, colsample_bytree=0.58971338996, subsample=0.727009564598 \n",
      "[CV]  max_depth=6, colsample_bytree=0.58971338996, subsample=0.727009564598 -   0.0s\n",
      "[CV] max_depth=6, colsample_bytree=0.58971338996, subsample=0.727009564598 \n"
     ]
    },
    {
     "name": "stderr",
     "output_type": "stream",
     "text": [
      "C:\\Users\\Takashi\\Miniconda3\\lib\\site-packages\\sklearn\\metrics\\scorer.py:127: DeprecationWarning: Scoring method log_loss was renamed to neg_log_loss in version 0.18 and will be removed in 0.20.\n",
      "  sample_weight=sample_weight)\n",
      "C:\\Users\\Takashi\\Miniconda3\\lib\\site-packages\\sklearn\\metrics\\scorer.py:127: DeprecationWarning: Scoring method log_loss was renamed to neg_log_loss in version 0.18 and will be removed in 0.20.\n",
      "  sample_weight=sample_weight)\n",
      "C:\\Users\\Takashi\\Miniconda3\\lib\\site-packages\\sklearn\\metrics\\scorer.py:127: DeprecationWarning: Scoring method log_loss was renamed to neg_log_loss in version 0.18 and will be removed in 0.20.\n",
      "  sample_weight=sample_weight)\n",
      "C:\\Users\\Takashi\\Miniconda3\\lib\\site-packages\\sklearn\\metrics\\scorer.py:127: DeprecationWarning: Scoring method log_loss was renamed to neg_log_loss in version 0.18 and will be removed in 0.20.\n",
      "  sample_weight=sample_weight)\n"
     ]
    },
    {
     "name": "stdout",
     "output_type": "stream",
     "text": [
      "[CV]  max_depth=6, colsample_bytree=0.58971338996, subsample=0.727009564598 -   0.0s\n",
      "[CV] max_depth=6, colsample_bytree=0.58971338996, subsample=0.727009564598 \n",
      "[CV]  max_depth=6, colsample_bytree=0.58971338996, subsample=0.727009564598 -   0.0s\n",
      "[CV] max_depth=3, colsample_bytree=0.550612431419, subsample=0.52770287955 \n",
      "[CV]  max_depth=3, colsample_bytree=0.550612431419, subsample=0.52770287955 -   0.0s\n",
      "[CV] max_depth=3, colsample_bytree=0.550612431419, subsample=0.52770287955 \n",
      "[CV]  max_depth=3, colsample_bytree=0.550612431419, subsample=0.52770287955 -   0.0s\n",
      "[CV] max_depth=3, colsample_bytree=0.550612431419, subsample=0.52770287955 \n"
     ]
    },
    {
     "name": "stderr",
     "output_type": "stream",
     "text": [
      "C:\\Users\\Takashi\\Miniconda3\\lib\\site-packages\\sklearn\\metrics\\scorer.py:127: DeprecationWarning: Scoring method log_loss was renamed to neg_log_loss in version 0.18 and will be removed in 0.20.\n",
      "  sample_weight=sample_weight)\n",
      "C:\\Users\\Takashi\\Miniconda3\\lib\\site-packages\\sklearn\\metrics\\scorer.py:127: DeprecationWarning: Scoring method log_loss was renamed to neg_log_loss in version 0.18 and will be removed in 0.20.\n",
      "  sample_weight=sample_weight)\n",
      "C:\\Users\\Takashi\\Miniconda3\\lib\\site-packages\\sklearn\\metrics\\scorer.py:127: DeprecationWarning: Scoring method log_loss was renamed to neg_log_loss in version 0.18 and will be removed in 0.20.\n",
      "  sample_weight=sample_weight)\n",
      "C:\\Users\\Takashi\\Miniconda3\\lib\\site-packages\\sklearn\\metrics\\scorer.py:127: DeprecationWarning: Scoring method log_loss was renamed to neg_log_loss in version 0.18 and will be removed in 0.20.\n",
      "  sample_weight=sample_weight)\n",
      "C:\\Users\\Takashi\\Miniconda3\\lib\\site-packages\\sklearn\\metrics\\scorer.py:127: DeprecationWarning: Scoring method log_loss was renamed to neg_log_loss in version 0.18 and will be removed in 0.20.\n",
      "  sample_weight=sample_weight)\n"
     ]
    },
    {
     "name": "stdout",
     "output_type": "stream",
     "text": [
      "[CV]  max_depth=3, colsample_bytree=0.550612431419, subsample=0.52770287955 -   0.0s\n",
      "[CV] max_depth=3, colsample_bytree=0.550612431419, subsample=0.52770287955 \n",
      "[CV]  max_depth=3, colsample_bytree=0.550612431419, subsample=0.52770287955 -   0.0s\n",
      "[CV] max_depth=3, colsample_bytree=0.550612431419, subsample=0.52770287955 \n",
      "[CV]  max_depth=3, colsample_bytree=0.550612431419, subsample=0.52770287955 -   0.0s\n",
      "[CV] max_depth=3, colsample_bytree=0.550612431419, subsample=0.52770287955 \n",
      "[CV]  max_depth=3, colsample_bytree=0.550612431419, subsample=0.52770287955 -   0.0s\n",
      "[CV] max_depth=3, colsample_bytree=0.550612431419, subsample=0.52770287955 \n",
      "[CV]  max_depth=3, colsample_bytree=0.550612431419, subsample=0.52770287955 -   0.0s\n",
      "[CV] max_depth=3, colsample_bytree=0.550612431419, subsample=0.52770287955 \n"
     ]
    },
    {
     "name": "stderr",
     "output_type": "stream",
     "text": [
      "C:\\Users\\Takashi\\Miniconda3\\lib\\site-packages\\sklearn\\metrics\\scorer.py:127: DeprecationWarning: Scoring method log_loss was renamed to neg_log_loss in version 0.18 and will be removed in 0.20.\n",
      "  sample_weight=sample_weight)\n",
      "C:\\Users\\Takashi\\Miniconda3\\lib\\site-packages\\sklearn\\metrics\\scorer.py:127: DeprecationWarning: Scoring method log_loss was renamed to neg_log_loss in version 0.18 and will be removed in 0.20.\n",
      "  sample_weight=sample_weight)\n",
      "C:\\Users\\Takashi\\Miniconda3\\lib\\site-packages\\sklearn\\metrics\\scorer.py:127: DeprecationWarning: Scoring method log_loss was renamed to neg_log_loss in version 0.18 and will be removed in 0.20.\n",
      "  sample_weight=sample_weight)\n",
      "C:\\Users\\Takashi\\Miniconda3\\lib\\site-packages\\sklearn\\metrics\\scorer.py:127: DeprecationWarning: Scoring method log_loss was renamed to neg_log_loss in version 0.18 and will be removed in 0.20.\n",
      "  sample_weight=sample_weight)\n",
      "C:\\Users\\Takashi\\Miniconda3\\lib\\site-packages\\sklearn\\metrics\\scorer.py:127: DeprecationWarning: Scoring method log_loss was renamed to neg_log_loss in version 0.18 and will be removed in 0.20.\n",
      "  sample_weight=sample_weight)\n",
      "C:\\Users\\Takashi\\Miniconda3\\lib\\site-packages\\sklearn\\metrics\\scorer.py:127: DeprecationWarning: Scoring method log_loss was renamed to neg_log_loss in version 0.18 and will be removed in 0.20.\n",
      "  sample_weight=sample_weight)\n"
     ]
    },
    {
     "name": "stdout",
     "output_type": "stream",
     "text": [
      "[CV]  max_depth=3, colsample_bytree=0.550612431419, subsample=0.52770287955 -   0.0s\n",
      "[CV] max_depth=3, colsample_bytree=0.550612431419, subsample=0.52770287955 \n",
      "[CV]  max_depth=3, colsample_bytree=0.550612431419, subsample=0.52770287955 -   0.0s\n",
      "[CV] max_depth=3, colsample_bytree=0.550612431419, subsample=0.52770287955 \n",
      "[CV]  max_depth=3, colsample_bytree=0.550612431419, subsample=0.52770287955 -   0.0s\n",
      "[CV] max_depth=2, colsample_bytree=0.624898705245, subsample=0.72177439051 \n",
      "[CV]  max_depth=2, colsample_bytree=0.624898705245, subsample=0.72177439051 -   0.0s\n",
      "[CV] max_depth=2, colsample_bytree=0.624898705245, subsample=0.72177439051 \n",
      "[CV]  max_depth=2, colsample_bytree=0.624898705245, subsample=0.72177439051 -   0.0s\n",
      "[CV] max_depth=2, colsample_bytree=0.624898705245, subsample=0.72177439051 \n",
      "[CV]  max_depth=2, colsample_bytree=0.624898705245, subsample=0.72177439051 -   0.0s\n",
      "[CV] max_depth=2, colsample_bytree=0.624898705245, subsample=0.72177439051 \n"
     ]
    },
    {
     "name": "stderr",
     "output_type": "stream",
     "text": [
      "C:\\Users\\Takashi\\Miniconda3\\lib\\site-packages\\sklearn\\metrics\\scorer.py:127: DeprecationWarning: Scoring method log_loss was renamed to neg_log_loss in version 0.18 and will be removed in 0.20.\n",
      "  sample_weight=sample_weight)\n",
      "C:\\Users\\Takashi\\Miniconda3\\lib\\site-packages\\sklearn\\metrics\\scorer.py:127: DeprecationWarning: Scoring method log_loss was renamed to neg_log_loss in version 0.18 and will be removed in 0.20.\n",
      "  sample_weight=sample_weight)\n",
      "C:\\Users\\Takashi\\Miniconda3\\lib\\site-packages\\sklearn\\metrics\\scorer.py:127: DeprecationWarning: Scoring method log_loss was renamed to neg_log_loss in version 0.18 and will be removed in 0.20.\n",
      "  sample_weight=sample_weight)\n",
      "C:\\Users\\Takashi\\Miniconda3\\lib\\site-packages\\sklearn\\metrics\\scorer.py:127: DeprecationWarning: Scoring method log_loss was renamed to neg_log_loss in version 0.18 and will be removed in 0.20.\n",
      "  sample_weight=sample_weight)\n",
      "C:\\Users\\Takashi\\Miniconda3\\lib\\site-packages\\sklearn\\metrics\\scorer.py:127: DeprecationWarning: Scoring method log_loss was renamed to neg_log_loss in version 0.18 and will be removed in 0.20.\n",
      "  sample_weight=sample_weight)\n",
      "C:\\Users\\Takashi\\Miniconda3\\lib\\site-packages\\sklearn\\metrics\\scorer.py:127: DeprecationWarning: Scoring method log_loss was renamed to neg_log_loss in version 0.18 and will be removed in 0.20.\n",
      "  sample_weight=sample_weight)\n"
     ]
    },
    {
     "name": "stdout",
     "output_type": "stream",
     "text": [
      "[CV]  max_depth=2, colsample_bytree=0.624898705245, subsample=0.72177439051 -   0.0s\n",
      "[CV] max_depth=2, colsample_bytree=0.624898705245, subsample=0.72177439051 \n",
      "[CV]  max_depth=2, colsample_bytree=0.624898705245, subsample=0.72177439051 -   0.0s\n",
      "[CV] max_depth=2, colsample_bytree=0.624898705245, subsample=0.72177439051 \n",
      "[CV]  max_depth=2, colsample_bytree=0.624898705245, subsample=0.72177439051 -   0.0s\n",
      "[CV] max_depth=2, colsample_bytree=0.624898705245, subsample=0.72177439051 \n",
      "[CV]  max_depth=2, colsample_bytree=0.624898705245, subsample=0.72177439051 -   0.0s\n",
      "[CV] max_depth=2, colsample_bytree=0.624898705245, subsample=0.72177439051 \n",
      "[CV]  max_depth=2, colsample_bytree=0.624898705245, subsample=0.72177439051 -   0.0s\n",
      "[CV] max_depth=2, colsample_bytree=0.624898705245, subsample=0.72177439051 \n",
      "[CV]  max_depth=2, colsample_bytree=0.624898705245, subsample=0.72177439051 -   0.0s\n",
      "[CV] max_depth=2, colsample_bytree=0.624898705245, subsample=0.72177439051 \n"
     ]
    },
    {
     "name": "stderr",
     "output_type": "stream",
     "text": [
      "C:\\Users\\Takashi\\Miniconda3\\lib\\site-packages\\sklearn\\metrics\\scorer.py:127: DeprecationWarning: Scoring method log_loss was renamed to neg_log_loss in version 0.18 and will be removed in 0.20.\n",
      "  sample_weight=sample_weight)\n",
      "C:\\Users\\Takashi\\Miniconda3\\lib\\site-packages\\sklearn\\metrics\\scorer.py:127: DeprecationWarning: Scoring method log_loss was renamed to neg_log_loss in version 0.18 and will be removed in 0.20.\n",
      "  sample_weight=sample_weight)\n",
      "C:\\Users\\Takashi\\Miniconda3\\lib\\site-packages\\sklearn\\metrics\\scorer.py:127: DeprecationWarning: Scoring method log_loss was renamed to neg_log_loss in version 0.18 and will be removed in 0.20.\n",
      "  sample_weight=sample_weight)\n",
      "C:\\Users\\Takashi\\Miniconda3\\lib\\site-packages\\sklearn\\metrics\\scorer.py:127: DeprecationWarning: Scoring method log_loss was renamed to neg_log_loss in version 0.18 and will be removed in 0.20.\n",
      "  sample_weight=sample_weight)\n",
      "C:\\Users\\Takashi\\Miniconda3\\lib\\site-packages\\sklearn\\metrics\\scorer.py:127: DeprecationWarning: Scoring method log_loss was renamed to neg_log_loss in version 0.18 and will be removed in 0.20.\n",
      "  sample_weight=sample_weight)\n"
     ]
    },
    {
     "name": "stdout",
     "output_type": "stream",
     "text": [
      "[CV]  max_depth=2, colsample_bytree=0.624898705245, subsample=0.72177439051 -   0.0s\n",
      "[CV] max_depth=3, colsample_bytree=0.895296861707, subsample=0.547125381473 \n",
      "[CV]  max_depth=3, colsample_bytree=0.895296861707, subsample=0.547125381473 -   0.0s\n",
      "[CV] max_depth=3, colsample_bytree=0.895296861707, subsample=0.547125381473 \n",
      "[CV]  max_depth=3, colsample_bytree=0.895296861707, subsample=0.547125381473 -   0.0s\n",
      "[CV] max_depth=3, colsample_bytree=0.895296861707, subsample=0.547125381473 \n",
      "[CV]  max_depth=3, colsample_bytree=0.895296861707, subsample=0.547125381473 -   0.0s\n",
      "[CV] max_depth=3, colsample_bytree=0.895296861707, subsample=0.547125381473 \n",
      "[CV]  max_depth=3, colsample_bytree=0.895296861707, subsample=0.547125381473 -   0.0s\n",
      "[CV] max_depth=3, colsample_bytree=0.895296861707, subsample=0.547125381473 \n"
     ]
    },
    {
     "name": "stderr",
     "output_type": "stream",
     "text": [
      "C:\\Users\\Takashi\\Miniconda3\\lib\\site-packages\\sklearn\\metrics\\scorer.py:127: DeprecationWarning: Scoring method log_loss was renamed to neg_log_loss in version 0.18 and will be removed in 0.20.\n",
      "  sample_weight=sample_weight)\n",
      "C:\\Users\\Takashi\\Miniconda3\\lib\\site-packages\\sklearn\\metrics\\scorer.py:127: DeprecationWarning: Scoring method log_loss was renamed to neg_log_loss in version 0.18 and will be removed in 0.20.\n",
      "  sample_weight=sample_weight)\n",
      "C:\\Users\\Takashi\\Miniconda3\\lib\\site-packages\\sklearn\\metrics\\scorer.py:127: DeprecationWarning: Scoring method log_loss was renamed to neg_log_loss in version 0.18 and will be removed in 0.20.\n",
      "  sample_weight=sample_weight)\n",
      "C:\\Users\\Takashi\\Miniconda3\\lib\\site-packages\\sklearn\\metrics\\scorer.py:127: DeprecationWarning: Scoring method log_loss was renamed to neg_log_loss in version 0.18 and will be removed in 0.20.\n",
      "  sample_weight=sample_weight)\n",
      "C:\\Users\\Takashi\\Miniconda3\\lib\\site-packages\\sklearn\\metrics\\scorer.py:127: DeprecationWarning: Scoring method log_loss was renamed to neg_log_loss in version 0.18 and will be removed in 0.20.\n",
      "  sample_weight=sample_weight)\n"
     ]
    },
    {
     "name": "stdout",
     "output_type": "stream",
     "text": [
      "[CV]  max_depth=3, colsample_bytree=0.895296861707, subsample=0.547125381473 -   0.0s\n",
      "[CV] max_depth=3, colsample_bytree=0.895296861707, subsample=0.547125381473 \n",
      "[CV]  max_depth=3, colsample_bytree=0.895296861707, subsample=0.547125381473 -   0.0s\n",
      "[CV] max_depth=3, colsample_bytree=0.895296861707, subsample=0.547125381473 \n",
      "[CV]  max_depth=3, colsample_bytree=0.895296861707, subsample=0.547125381473 -   0.0s\n",
      "[CV] max_depth=3, colsample_bytree=0.895296861707, subsample=0.547125381473 \n",
      "[CV]  max_depth=3, colsample_bytree=0.895296861707, subsample=0.547125381473 -   0.0s\n",
      "[CV] max_depth=3, colsample_bytree=0.895296861707, subsample=0.547125381473 \n",
      "[CV]  max_depth=3, colsample_bytree=0.895296861707, subsample=0.547125381473 -   0.0s\n",
      "[CV] max_depth=3, colsample_bytree=0.895296861707, subsample=0.547125381473 \n"
     ]
    },
    {
     "name": "stderr",
     "output_type": "stream",
     "text": [
      "C:\\Users\\Takashi\\Miniconda3\\lib\\site-packages\\sklearn\\metrics\\scorer.py:127: DeprecationWarning: Scoring method log_loss was renamed to neg_log_loss in version 0.18 and will be removed in 0.20.\n",
      "  sample_weight=sample_weight)\n",
      "C:\\Users\\Takashi\\Miniconda3\\lib\\site-packages\\sklearn\\metrics\\scorer.py:127: DeprecationWarning: Scoring method log_loss was renamed to neg_log_loss in version 0.18 and will be removed in 0.20.\n",
      "  sample_weight=sample_weight)\n",
      "C:\\Users\\Takashi\\Miniconda3\\lib\\site-packages\\sklearn\\metrics\\scorer.py:127: DeprecationWarning: Scoring method log_loss was renamed to neg_log_loss in version 0.18 and will be removed in 0.20.\n",
      "  sample_weight=sample_weight)\n",
      "C:\\Users\\Takashi\\Miniconda3\\lib\\site-packages\\sklearn\\metrics\\scorer.py:127: DeprecationWarning: Scoring method log_loss was renamed to neg_log_loss in version 0.18 and will be removed in 0.20.\n",
      "  sample_weight=sample_weight)\n"
     ]
    },
    {
     "name": "stdout",
     "output_type": "stream",
     "text": [
      "[CV]  max_depth=3, colsample_bytree=0.895296861707, subsample=0.547125381473 -   0.0s\n",
      "[CV] max_depth=4, colsample_bytree=0.746791319466, subsample=0.986323928734 \n",
      "[CV]  max_depth=4, colsample_bytree=0.746791319466, subsample=0.986323928734 -   0.0s\n",
      "[CV] max_depth=4, colsample_bytree=0.746791319466, subsample=0.986323928734 \n",
      "[CV]  max_depth=4, colsample_bytree=0.746791319466, subsample=0.986323928734 -   0.0s\n",
      "[CV] max_depth=4, colsample_bytree=0.746791319466, subsample=0.986323928734 \n",
      "[CV]  max_depth=4, colsample_bytree=0.746791319466, subsample=0.986323928734 -   0.0s\n",
      "[CV] max_depth=4, colsample_bytree=0.746791319466, subsample=0.986323928734 \n"
     ]
    },
    {
     "name": "stderr",
     "output_type": "stream",
     "text": [
      "C:\\Users\\Takashi\\Miniconda3\\lib\\site-packages\\sklearn\\metrics\\scorer.py:127: DeprecationWarning: Scoring method log_loss was renamed to neg_log_loss in version 0.18 and will be removed in 0.20.\n",
      "  sample_weight=sample_weight)\n",
      "C:\\Users\\Takashi\\Miniconda3\\lib\\site-packages\\sklearn\\metrics\\scorer.py:127: DeprecationWarning: Scoring method log_loss was renamed to neg_log_loss in version 0.18 and will be removed in 0.20.\n",
      "  sample_weight=sample_weight)\n",
      "C:\\Users\\Takashi\\Miniconda3\\lib\\site-packages\\sklearn\\metrics\\scorer.py:127: DeprecationWarning: Scoring method log_loss was renamed to neg_log_loss in version 0.18 and will be removed in 0.20.\n",
      "  sample_weight=sample_weight)\n",
      "C:\\Users\\Takashi\\Miniconda3\\lib\\site-packages\\sklearn\\metrics\\scorer.py:127: DeprecationWarning: Scoring method log_loss was renamed to neg_log_loss in version 0.18 and will be removed in 0.20.\n",
      "  sample_weight=sample_weight)\n"
     ]
    },
    {
     "name": "stdout",
     "output_type": "stream",
     "text": [
      "[CV]  max_depth=4, colsample_bytree=0.746791319466, subsample=0.986323928734 -   0.0s\n",
      "[CV] max_depth=4, colsample_bytree=0.746791319466, subsample=0.986323928734 \n",
      "[CV]  max_depth=4, colsample_bytree=0.746791319466, subsample=0.986323928734 -   0.0s\n",
      "[CV] max_depth=4, colsample_bytree=0.746791319466, subsample=0.986323928734 \n",
      "[CV]  max_depth=4, colsample_bytree=0.746791319466, subsample=0.986323928734 -   0.0s\n",
      "[CV] max_depth=4, colsample_bytree=0.746791319466, subsample=0.986323928734 \n",
      "[CV]  max_depth=4, colsample_bytree=0.746791319466, subsample=0.986323928734 -   0.0s\n",
      "[CV] max_depth=4, colsample_bytree=0.746791319466, subsample=0.986323928734 \n"
     ]
    },
    {
     "name": "stderr",
     "output_type": "stream",
     "text": [
      "C:\\Users\\Takashi\\Miniconda3\\lib\\site-packages\\sklearn\\metrics\\scorer.py:127: DeprecationWarning: Scoring method log_loss was renamed to neg_log_loss in version 0.18 and will be removed in 0.20.\n",
      "  sample_weight=sample_weight)\n",
      "C:\\Users\\Takashi\\Miniconda3\\lib\\site-packages\\sklearn\\metrics\\scorer.py:127: DeprecationWarning: Scoring method log_loss was renamed to neg_log_loss in version 0.18 and will be removed in 0.20.\n",
      "  sample_weight=sample_weight)\n",
      "C:\\Users\\Takashi\\Miniconda3\\lib\\site-packages\\sklearn\\metrics\\scorer.py:127: DeprecationWarning: Scoring method log_loss was renamed to neg_log_loss in version 0.18 and will be removed in 0.20.\n",
      "  sample_weight=sample_weight)\n"
     ]
    },
    {
     "name": "stdout",
     "output_type": "stream",
     "text": [
      "[CV]  max_depth=4, colsample_bytree=0.746791319466, subsample=0.986323928734 -   0.0s\n",
      "[CV] max_depth=4, colsample_bytree=0.746791319466, subsample=0.986323928734 \n",
      "[CV]  max_depth=4, colsample_bytree=0.746791319466, subsample=0.986323928734 -   0.0s\n",
      "[CV] max_depth=4, colsample_bytree=0.746791319466, subsample=0.986323928734 \n",
      "[CV]  max_depth=4, colsample_bytree=0.746791319466, subsample=0.986323928734 -   0.0s\n",
      "[CV] max_depth=9, colsample_bytree=0.581893941153, subsample=0.824944550084 \n"
     ]
    },
    {
     "name": "stderr",
     "output_type": "stream",
     "text": [
      "C:\\Users\\Takashi\\Miniconda3\\lib\\site-packages\\sklearn\\metrics\\scorer.py:127: DeprecationWarning: Scoring method log_loss was renamed to neg_log_loss in version 0.18 and will be removed in 0.20.\n",
      "  sample_weight=sample_weight)\n",
      "C:\\Users\\Takashi\\Miniconda3\\lib\\site-packages\\sklearn\\metrics\\scorer.py:127: DeprecationWarning: Scoring method log_loss was renamed to neg_log_loss in version 0.18 and will be removed in 0.20.\n",
      "  sample_weight=sample_weight)\n"
     ]
    },
    {
     "name": "stdout",
     "output_type": "stream",
     "text": [
      "[CV]  max_depth=9, colsample_bytree=0.581893941153, subsample=0.824944550084 -   0.0s\n",
      "[CV] max_depth=9, colsample_bytree=0.581893941153, subsample=0.824944550084 \n",
      "[CV]  max_depth=9, colsample_bytree=0.581893941153, subsample=0.824944550084 -   0.0s\n",
      "[CV] max_depth=9, colsample_bytree=0.581893941153, subsample=0.824944550084 \n"
     ]
    },
    {
     "name": "stderr",
     "output_type": "stream",
     "text": [
      "C:\\Users\\Takashi\\Miniconda3\\lib\\site-packages\\sklearn\\metrics\\scorer.py:127: DeprecationWarning: Scoring method log_loss was renamed to neg_log_loss in version 0.18 and will be removed in 0.20.\n",
      "  sample_weight=sample_weight)\n",
      "C:\\Users\\Takashi\\Miniconda3\\lib\\site-packages\\sklearn\\metrics\\scorer.py:127: DeprecationWarning: Scoring method log_loss was renamed to neg_log_loss in version 0.18 and will be removed in 0.20.\n",
      "  sample_weight=sample_weight)\n",
      "C:\\Users\\Takashi\\Miniconda3\\lib\\site-packages\\sklearn\\metrics\\scorer.py:127: DeprecationWarning: Scoring method log_loss was renamed to neg_log_loss in version 0.18 and will be removed in 0.20.\n",
      "  sample_weight=sample_weight)\n"
     ]
    },
    {
     "name": "stdout",
     "output_type": "stream",
     "text": [
      "[CV]  max_depth=9, colsample_bytree=0.581893941153, subsample=0.824944550084 -   0.0s\n",
      "[CV] max_depth=9, colsample_bytree=0.581893941153, subsample=0.824944550084 \n",
      "[CV]  max_depth=9, colsample_bytree=0.581893941153, subsample=0.824944550084 -   0.0s\n",
      "[CV] max_depth=9, colsample_bytree=0.581893941153, subsample=0.824944550084 \n",
      "[CV]  max_depth=9, colsample_bytree=0.581893941153, subsample=0.824944550084 -   0.0s\n",
      "[CV] max_depth=9, colsample_bytree=0.581893941153, subsample=0.824944550084 \n"
     ]
    },
    {
     "name": "stderr",
     "output_type": "stream",
     "text": [
      "C:\\Users\\Takashi\\Miniconda3\\lib\\site-packages\\sklearn\\metrics\\scorer.py:127: DeprecationWarning: Scoring method log_loss was renamed to neg_log_loss in version 0.18 and will be removed in 0.20.\n",
      "  sample_weight=sample_weight)\n",
      "C:\\Users\\Takashi\\Miniconda3\\lib\\site-packages\\sklearn\\metrics\\scorer.py:127: DeprecationWarning: Scoring method log_loss was renamed to neg_log_loss in version 0.18 and will be removed in 0.20.\n",
      "  sample_weight=sample_weight)\n",
      "C:\\Users\\Takashi\\Miniconda3\\lib\\site-packages\\sklearn\\metrics\\scorer.py:127: DeprecationWarning: Scoring method log_loss was renamed to neg_log_loss in version 0.18 and will be removed in 0.20.\n",
      "  sample_weight=sample_weight)\n"
     ]
    },
    {
     "name": "stdout",
     "output_type": "stream",
     "text": [
      "[CV]  max_depth=9, colsample_bytree=0.581893941153, subsample=0.824944550084 -   0.0s\n",
      "[CV] max_depth=9, colsample_bytree=0.581893941153, subsample=0.824944550084 \n",
      "[CV]  max_depth=9, colsample_bytree=0.581893941153, subsample=0.824944550084 -   0.0s\n",
      "[CV] max_depth=9, colsample_bytree=0.581893941153, subsample=0.824944550084 \n",
      "[CV]  max_depth=9, colsample_bytree=0.581893941153, subsample=0.824944550084 -   0.0s\n",
      "[CV] max_depth=9, colsample_bytree=0.581893941153, subsample=0.824944550084 \n"
     ]
    },
    {
     "name": "stderr",
     "output_type": "stream",
     "text": [
      "C:\\Users\\Takashi\\Miniconda3\\lib\\site-packages\\sklearn\\metrics\\scorer.py:127: DeprecationWarning: Scoring method log_loss was renamed to neg_log_loss in version 0.18 and will be removed in 0.20.\n",
      "  sample_weight=sample_weight)\n",
      "C:\\Users\\Takashi\\Miniconda3\\lib\\site-packages\\sklearn\\metrics\\scorer.py:127: DeprecationWarning: Scoring method log_loss was renamed to neg_log_loss in version 0.18 and will be removed in 0.20.\n",
      "  sample_weight=sample_weight)\n",
      "C:\\Users\\Takashi\\Miniconda3\\lib\\site-packages\\sklearn\\metrics\\scorer.py:127: DeprecationWarning: Scoring method log_loss was renamed to neg_log_loss in version 0.18 and will be removed in 0.20.\n",
      "  sample_weight=sample_weight)\n",
      "C:\\Users\\Takashi\\Miniconda3\\lib\\site-packages\\sklearn\\metrics\\scorer.py:127: DeprecationWarning: Scoring method log_loss was renamed to neg_log_loss in version 0.18 and will be removed in 0.20.\n",
      "  sample_weight=sample_weight)\n"
     ]
    },
    {
     "name": "stdout",
     "output_type": "stream",
     "text": [
      "[CV]  max_depth=9, colsample_bytree=0.581893941153, subsample=0.824944550084 -   0.0s\n",
      "[CV] max_depth=9, colsample_bytree=0.581893941153, subsample=0.824944550084 \n",
      "[CV]  max_depth=9, colsample_bytree=0.581893941153, subsample=0.824944550084 -   0.0s\n",
      "[CV] max_depth=2, colsample_bytree=0.898821216103, subsample=0.701970621047 \n",
      "[CV]  max_depth=2, colsample_bytree=0.898821216103, subsample=0.701970621047 -   0.0s\n",
      "[CV] max_depth=2, colsample_bytree=0.898821216103, subsample=0.701970621047 \n",
      "[CV]  max_depth=2, colsample_bytree=0.898821216103, subsample=0.701970621047 -   0.0s\n",
      "[CV] max_depth=2, colsample_bytree=0.898821216103, subsample=0.701970621047 \n"
     ]
    },
    {
     "name": "stderr",
     "output_type": "stream",
     "text": [
      "C:\\Users\\Takashi\\Miniconda3\\lib\\site-packages\\sklearn\\metrics\\scorer.py:127: DeprecationWarning: Scoring method log_loss was renamed to neg_log_loss in version 0.18 and will be removed in 0.20.\n",
      "  sample_weight=sample_weight)\n",
      "C:\\Users\\Takashi\\Miniconda3\\lib\\site-packages\\sklearn\\metrics\\scorer.py:127: DeprecationWarning: Scoring method log_loss was renamed to neg_log_loss in version 0.18 and will be removed in 0.20.\n",
      "  sample_weight=sample_weight)\n",
      "C:\\Users\\Takashi\\Miniconda3\\lib\\site-packages\\sklearn\\metrics\\scorer.py:127: DeprecationWarning: Scoring method log_loss was renamed to neg_log_loss in version 0.18 and will be removed in 0.20.\n",
      "  sample_weight=sample_weight)\n",
      "C:\\Users\\Takashi\\Miniconda3\\lib\\site-packages\\sklearn\\metrics\\scorer.py:127: DeprecationWarning: Scoring method log_loss was renamed to neg_log_loss in version 0.18 and will be removed in 0.20.\n",
      "  sample_weight=sample_weight)\n",
      "C:\\Users\\Takashi\\Miniconda3\\lib\\site-packages\\sklearn\\metrics\\scorer.py:127: DeprecationWarning: Scoring method log_loss was renamed to neg_log_loss in version 0.18 and will be removed in 0.20.\n",
      "  sample_weight=sample_weight)\n",
      "C:\\Users\\Takashi\\Miniconda3\\lib\\site-packages\\sklearn\\metrics\\scorer.py:127: DeprecationWarning: Scoring method log_loss was renamed to neg_log_loss in version 0.18 and will be removed in 0.20.\n",
      "  sample_weight=sample_weight)\n"
     ]
    },
    {
     "name": "stdout",
     "output_type": "stream",
     "text": [
      "[CV]  max_depth=2, colsample_bytree=0.898821216103, subsample=0.701970621047 -   0.0s\n",
      "[CV] max_depth=2, colsample_bytree=0.898821216103, subsample=0.701970621047 \n",
      "[CV]  max_depth=2, colsample_bytree=0.898821216103, subsample=0.701970621047 -   0.0s\n",
      "[CV] max_depth=2, colsample_bytree=0.898821216103, subsample=0.701970621047 \n",
      "[CV]  max_depth=2, colsample_bytree=0.898821216103, subsample=0.701970621047 -   0.0s\n",
      "[CV] max_depth=2, colsample_bytree=0.898821216103, subsample=0.701970621047 \n",
      "[CV]  max_depth=2, colsample_bytree=0.898821216103, subsample=0.701970621047 -   0.0s\n",
      "[CV] max_depth=2, colsample_bytree=0.898821216103, subsample=0.701970621047 \n",
      "[CV]  max_depth=2, colsample_bytree=0.898821216103, subsample=0.701970621047 -   0.0s\n",
      "[CV] max_depth=2, colsample_bytree=0.898821216103, subsample=0.701970621047 \n",
      "[CV]  max_depth=2, colsample_bytree=0.898821216103, subsample=0.701970621047 -   0.0s\n",
      "[CV] max_depth=2, colsample_bytree=0.898821216103, subsample=0.701970621047 \n"
     ]
    },
    {
     "name": "stderr",
     "output_type": "stream",
     "text": [
      "C:\\Users\\Takashi\\Miniconda3\\lib\\site-packages\\sklearn\\metrics\\scorer.py:127: DeprecationWarning: Scoring method log_loss was renamed to neg_log_loss in version 0.18 and will be removed in 0.20.\n",
      "  sample_weight=sample_weight)\n",
      "C:\\Users\\Takashi\\Miniconda3\\lib\\site-packages\\sklearn\\metrics\\scorer.py:127: DeprecationWarning: Scoring method log_loss was renamed to neg_log_loss in version 0.18 and will be removed in 0.20.\n",
      "  sample_weight=sample_weight)\n",
      "C:\\Users\\Takashi\\Miniconda3\\lib\\site-packages\\sklearn\\metrics\\scorer.py:127: DeprecationWarning: Scoring method log_loss was renamed to neg_log_loss in version 0.18 and will be removed in 0.20.\n",
      "  sample_weight=sample_weight)\n",
      "C:\\Users\\Takashi\\Miniconda3\\lib\\site-packages\\sklearn\\metrics\\scorer.py:127: DeprecationWarning: Scoring method log_loss was renamed to neg_log_loss in version 0.18 and will be removed in 0.20.\n",
      "  sample_weight=sample_weight)\n"
     ]
    },
    {
     "name": "stdout",
     "output_type": "stream",
     "text": [
      "[CV]  max_depth=2, colsample_bytree=0.898821216103, subsample=0.701970621047 -   0.0s\n",
      "[CV] max_depth=2, colsample_bytree=0.898821216103, subsample=0.701970621047 \n",
      "[CV]  max_depth=2, colsample_bytree=0.898821216103, subsample=0.701970621047 -   0.0s\n",
      "[CV] max_depth=4, colsample_bytree=0.772898600107, subsample=0.982626918208 \n",
      "[CV]  max_depth=4, colsample_bytree=0.772898600107, subsample=0.982626918208 -   0.0s\n",
      "[CV] max_depth=4, colsample_bytree=0.772898600107, subsample=0.982626918208 \n",
      "[CV]  max_depth=4, colsample_bytree=0.772898600107, subsample=0.982626918208 -   0.0s\n",
      "[CV] max_depth=4, colsample_bytree=0.772898600107, subsample=0.982626918208 \n"
     ]
    },
    {
     "name": "stderr",
     "output_type": "stream",
     "text": [
      "C:\\Users\\Takashi\\Miniconda3\\lib\\site-packages\\sklearn\\metrics\\scorer.py:127: DeprecationWarning: Scoring method log_loss was renamed to neg_log_loss in version 0.18 and will be removed in 0.20.\n",
      "  sample_weight=sample_weight)\n",
      "C:\\Users\\Takashi\\Miniconda3\\lib\\site-packages\\sklearn\\metrics\\scorer.py:127: DeprecationWarning: Scoring method log_loss was renamed to neg_log_loss in version 0.18 and will be removed in 0.20.\n",
      "  sample_weight=sample_weight)\n",
      "C:\\Users\\Takashi\\Miniconda3\\lib\\site-packages\\sklearn\\metrics\\scorer.py:127: DeprecationWarning: Scoring method log_loss was renamed to neg_log_loss in version 0.18 and will be removed in 0.20.\n",
      "  sample_weight=sample_weight)\n",
      "C:\\Users\\Takashi\\Miniconda3\\lib\\site-packages\\sklearn\\metrics\\scorer.py:127: DeprecationWarning: Scoring method log_loss was renamed to neg_log_loss in version 0.18 and will be removed in 0.20.\n",
      "  sample_weight=sample_weight)\n"
     ]
    },
    {
     "name": "stdout",
     "output_type": "stream",
     "text": [
      "[CV]  max_depth=4, colsample_bytree=0.772898600107, subsample=0.982626918208 -   0.0s\n",
      "[CV] max_depth=4, colsample_bytree=0.772898600107, subsample=0.982626918208 \n",
      "[CV]  max_depth=4, colsample_bytree=0.772898600107, subsample=0.982626918208 -   0.0s\n",
      "[CV] max_depth=4, colsample_bytree=0.772898600107, subsample=0.982626918208 \n",
      "[CV]  max_depth=4, colsample_bytree=0.772898600107, subsample=0.982626918208 -   0.0s\n",
      "[CV] max_depth=4, colsample_bytree=0.772898600107, subsample=0.982626918208 \n",
      "[CV]  max_depth=4, colsample_bytree=0.772898600107, subsample=0.982626918208 -   0.0s\n",
      "[CV] max_depth=4, colsample_bytree=0.772898600107, subsample=0.982626918208 \n"
     ]
    },
    {
     "name": "stderr",
     "output_type": "stream",
     "text": [
      "C:\\Users\\Takashi\\Miniconda3\\lib\\site-packages\\sklearn\\metrics\\scorer.py:127: DeprecationWarning: Scoring method log_loss was renamed to neg_log_loss in version 0.18 and will be removed in 0.20.\n",
      "  sample_weight=sample_weight)\n",
      "C:\\Users\\Takashi\\Miniconda3\\lib\\site-packages\\sklearn\\metrics\\scorer.py:127: DeprecationWarning: Scoring method log_loss was renamed to neg_log_loss in version 0.18 and will be removed in 0.20.\n",
      "  sample_weight=sample_weight)\n",
      "C:\\Users\\Takashi\\Miniconda3\\lib\\site-packages\\sklearn\\metrics\\scorer.py:127: DeprecationWarning: Scoring method log_loss was renamed to neg_log_loss in version 0.18 and will be removed in 0.20.\n",
      "  sample_weight=sample_weight)\n",
      "C:\\Users\\Takashi\\Miniconda3\\lib\\site-packages\\sklearn\\metrics\\scorer.py:127: DeprecationWarning: Scoring method log_loss was renamed to neg_log_loss in version 0.18 and will be removed in 0.20.\n",
      "  sample_weight=sample_weight)\n"
     ]
    },
    {
     "name": "stdout",
     "output_type": "stream",
     "text": [
      "[CV]  max_depth=4, colsample_bytree=0.772898600107, subsample=0.982626918208 -   0.0s\n",
      "[CV] max_depth=4, colsample_bytree=0.772898600107, subsample=0.982626918208 \n",
      "[CV]  max_depth=4, colsample_bytree=0.772898600107, subsample=0.982626918208 -   0.0s\n",
      "[CV] max_depth=4, colsample_bytree=0.772898600107, subsample=0.982626918208 \n",
      "[CV]  max_depth=4, colsample_bytree=0.772898600107, subsample=0.982626918208 -   0.0s\n",
      "[CV] max_depth=4, colsample_bytree=0.772898600107, subsample=0.982626918208 \n",
      "[CV]  max_depth=4, colsample_bytree=0.772898600107, subsample=0.982626918208 -   0.0s\n",
      "[CV] max_depth=4, colsample_bytree=0.89954125005, subsample=0.545721811565 \n"
     ]
    },
    {
     "name": "stderr",
     "output_type": "stream",
     "text": [
      "C:\\Users\\Takashi\\Miniconda3\\lib\\site-packages\\sklearn\\metrics\\scorer.py:127: DeprecationWarning: Scoring method log_loss was renamed to neg_log_loss in version 0.18 and will be removed in 0.20.\n",
      "  sample_weight=sample_weight)\n",
      "C:\\Users\\Takashi\\Miniconda3\\lib\\site-packages\\sklearn\\metrics\\scorer.py:127: DeprecationWarning: Scoring method log_loss was renamed to neg_log_loss in version 0.18 and will be removed in 0.20.\n",
      "  sample_weight=sample_weight)\n",
      "C:\\Users\\Takashi\\Miniconda3\\lib\\site-packages\\sklearn\\metrics\\scorer.py:127: DeprecationWarning: Scoring method log_loss was renamed to neg_log_loss in version 0.18 and will be removed in 0.20.\n",
      "  sample_weight=sample_weight)\n",
      "C:\\Users\\Takashi\\Miniconda3\\lib\\site-packages\\sklearn\\metrics\\scorer.py:127: DeprecationWarning: Scoring method log_loss was renamed to neg_log_loss in version 0.18 and will be removed in 0.20.\n",
      "  sample_weight=sample_weight)\n"
     ]
    },
    {
     "name": "stdout",
     "output_type": "stream",
     "text": [
      "[CV]  max_depth=4, colsample_bytree=0.89954125005, subsample=0.545721811565 -   0.0s\n",
      "[CV] max_depth=4, colsample_bytree=0.89954125005, subsample=0.545721811565 \n",
      "[CV]  max_depth=4, colsample_bytree=0.89954125005, subsample=0.545721811565 -   0.0s\n",
      "[CV] max_depth=4, colsample_bytree=0.89954125005, subsample=0.545721811565 \n",
      "[CV]  max_depth=4, colsample_bytree=0.89954125005, subsample=0.545721811565 -   0.0s\n",
      "[CV] max_depth=4, colsample_bytree=0.89954125005, subsample=0.545721811565 \n",
      "[CV]  max_depth=4, colsample_bytree=0.89954125005, subsample=0.545721811565 -   0.0s\n",
      "[CV] max_depth=4, colsample_bytree=0.89954125005, subsample=0.545721811565 \n"
     ]
    },
    {
     "name": "stderr",
     "output_type": "stream",
     "text": [
      "C:\\Users\\Takashi\\Miniconda3\\lib\\site-packages\\sklearn\\metrics\\scorer.py:127: DeprecationWarning: Scoring method log_loss was renamed to neg_log_loss in version 0.18 and will be removed in 0.20.\n",
      "  sample_weight=sample_weight)\n",
      "C:\\Users\\Takashi\\Miniconda3\\lib\\site-packages\\sklearn\\metrics\\scorer.py:127: DeprecationWarning: Scoring method log_loss was renamed to neg_log_loss in version 0.18 and will be removed in 0.20.\n",
      "  sample_weight=sample_weight)\n",
      "C:\\Users\\Takashi\\Miniconda3\\lib\\site-packages\\sklearn\\metrics\\scorer.py:127: DeprecationWarning: Scoring method log_loss was renamed to neg_log_loss in version 0.18 and will be removed in 0.20.\n",
      "  sample_weight=sample_weight)\n",
      "C:\\Users\\Takashi\\Miniconda3\\lib\\site-packages\\sklearn\\metrics\\scorer.py:127: DeprecationWarning: Scoring method log_loss was renamed to neg_log_loss in version 0.18 and will be removed in 0.20.\n",
      "  sample_weight=sample_weight)\n"
     ]
    },
    {
     "name": "stdout",
     "output_type": "stream",
     "text": [
      "[CV]  max_depth=4, colsample_bytree=0.89954125005, subsample=0.545721811565 -   0.0s\n",
      "[CV] max_depth=4, colsample_bytree=0.89954125005, subsample=0.545721811565 \n",
      "[CV]  max_depth=4, colsample_bytree=0.89954125005, subsample=0.545721811565 -   0.0s\n",
      "[CV] max_depth=4, colsample_bytree=0.89954125005, subsample=0.545721811565 \n",
      "[CV]  max_depth=4, colsample_bytree=0.89954125005, subsample=0.545721811565 -   0.0s\n",
      "[CV] max_depth=4, colsample_bytree=0.89954125005, subsample=0.545721811565 \n",
      "[CV]  max_depth=4, colsample_bytree=0.89954125005, subsample=0.545721811565 -   0.0s\n",
      "[CV] max_depth=4, colsample_bytree=0.89954125005, subsample=0.545721811565 \n"
     ]
    },
    {
     "name": "stderr",
     "output_type": "stream",
     "text": [
      "C:\\Users\\Takashi\\Miniconda3\\lib\\site-packages\\sklearn\\metrics\\scorer.py:127: DeprecationWarning: Scoring method log_loss was renamed to neg_log_loss in version 0.18 and will be removed in 0.20.\n",
      "  sample_weight=sample_weight)\n",
      "C:\\Users\\Takashi\\Miniconda3\\lib\\site-packages\\sklearn\\metrics\\scorer.py:127: DeprecationWarning: Scoring method log_loss was renamed to neg_log_loss in version 0.18 and will be removed in 0.20.\n",
      "  sample_weight=sample_weight)\n",
      "C:\\Users\\Takashi\\Miniconda3\\lib\\site-packages\\sklearn\\metrics\\scorer.py:127: DeprecationWarning: Scoring method log_loss was renamed to neg_log_loss in version 0.18 and will be removed in 0.20.\n",
      "  sample_weight=sample_weight)\n"
     ]
    },
    {
     "name": "stdout",
     "output_type": "stream",
     "text": [
      "[CV]  max_depth=4, colsample_bytree=0.89954125005, subsample=0.545721811565 -   0.0s\n",
      "[CV] max_depth=4, colsample_bytree=0.89954125005, subsample=0.545721811565 \n",
      "[CV]  max_depth=4, colsample_bytree=0.89954125005, subsample=0.545721811565 -   0.0s\n",
      "[CV] max_depth=6, colsample_bytree=0.828552264737, subsample=0.730144026361 \n",
      "[CV]  max_depth=6, colsample_bytree=0.828552264737, subsample=0.730144026361 -   0.0s\n",
      "[CV] max_depth=6, colsample_bytree=0.828552264737, subsample=0.730144026361 \n"
     ]
    },
    {
     "name": "stderr",
     "output_type": "stream",
     "text": [
      "C:\\Users\\Takashi\\Miniconda3\\lib\\site-packages\\sklearn\\metrics\\scorer.py:127: DeprecationWarning: Scoring method log_loss was renamed to neg_log_loss in version 0.18 and will be removed in 0.20.\n",
      "  sample_weight=sample_weight)\n",
      "C:\\Users\\Takashi\\Miniconda3\\lib\\site-packages\\sklearn\\metrics\\scorer.py:127: DeprecationWarning: Scoring method log_loss was renamed to neg_log_loss in version 0.18 and will be removed in 0.20.\n",
      "  sample_weight=sample_weight)\n",
      "C:\\Users\\Takashi\\Miniconda3\\lib\\site-packages\\sklearn\\metrics\\scorer.py:127: DeprecationWarning: Scoring method log_loss was renamed to neg_log_loss in version 0.18 and will be removed in 0.20.\n",
      "  sample_weight=sample_weight)\n"
     ]
    },
    {
     "name": "stdout",
     "output_type": "stream",
     "text": [
      "[CV]  max_depth=6, colsample_bytree=0.828552264737, subsample=0.730144026361 -   0.0s\n",
      "[CV] max_depth=6, colsample_bytree=0.828552264737, subsample=0.730144026361 \n",
      "[CV]  max_depth=6, colsample_bytree=0.828552264737, subsample=0.730144026361 -   0.0s\n",
      "[CV] max_depth=6, colsample_bytree=0.828552264737, subsample=0.730144026361 \n",
      "[CV]  max_depth=6, colsample_bytree=0.828552264737, subsample=0.730144026361 -   0.0s\n",
      "[CV] max_depth=6, colsample_bytree=0.828552264737, subsample=0.730144026361 \n"
     ]
    },
    {
     "name": "stderr",
     "output_type": "stream",
     "text": [
      "C:\\Users\\Takashi\\Miniconda3\\lib\\site-packages\\sklearn\\metrics\\scorer.py:127: DeprecationWarning: Scoring method log_loss was renamed to neg_log_loss in version 0.18 and will be removed in 0.20.\n",
      "  sample_weight=sample_weight)\n",
      "C:\\Users\\Takashi\\Miniconda3\\lib\\site-packages\\sklearn\\metrics\\scorer.py:127: DeprecationWarning: Scoring method log_loss was renamed to neg_log_loss in version 0.18 and will be removed in 0.20.\n",
      "  sample_weight=sample_weight)\n",
      "C:\\Users\\Takashi\\Miniconda3\\lib\\site-packages\\sklearn\\metrics\\scorer.py:127: DeprecationWarning: Scoring method log_loss was renamed to neg_log_loss in version 0.18 and will be removed in 0.20.\n",
      "  sample_weight=sample_weight)\n"
     ]
    },
    {
     "name": "stdout",
     "output_type": "stream",
     "text": [
      "[CV]  max_depth=6, colsample_bytree=0.828552264737, subsample=0.730144026361 -   0.0s\n",
      "[CV] max_depth=6, colsample_bytree=0.828552264737, subsample=0.730144026361 \n",
      "[CV]  max_depth=6, colsample_bytree=0.828552264737, subsample=0.730144026361 -   0.0s\n",
      "[CV] max_depth=6, colsample_bytree=0.828552264737, subsample=0.730144026361 \n",
      "[CV]  max_depth=6, colsample_bytree=0.828552264737, subsample=0.730144026361 -   0.0s\n",
      "[CV] max_depth=6, colsample_bytree=0.828552264737, subsample=0.730144026361 \n"
     ]
    },
    {
     "name": "stderr",
     "output_type": "stream",
     "text": [
      "C:\\Users\\Takashi\\Miniconda3\\lib\\site-packages\\sklearn\\metrics\\scorer.py:127: DeprecationWarning: Scoring method log_loss was renamed to neg_log_loss in version 0.18 and will be removed in 0.20.\n",
      "  sample_weight=sample_weight)\n",
      "C:\\Users\\Takashi\\Miniconda3\\lib\\site-packages\\sklearn\\metrics\\scorer.py:127: DeprecationWarning: Scoring method log_loss was renamed to neg_log_loss in version 0.18 and will be removed in 0.20.\n",
      "  sample_weight=sample_weight)\n",
      "C:\\Users\\Takashi\\Miniconda3\\lib\\site-packages\\sklearn\\metrics\\scorer.py:127: DeprecationWarning: Scoring method log_loss was renamed to neg_log_loss in version 0.18 and will be removed in 0.20.\n",
      "  sample_weight=sample_weight)\n",
      "C:\\Users\\Takashi\\Miniconda3\\lib\\site-packages\\sklearn\\metrics\\scorer.py:127: DeprecationWarning: Scoring method log_loss was renamed to neg_log_loss in version 0.18 and will be removed in 0.20.\n",
      "  sample_weight=sample_weight)\n"
     ]
    },
    {
     "name": "stdout",
     "output_type": "stream",
     "text": [
      "[CV]  max_depth=6, colsample_bytree=0.828552264737, subsample=0.730144026361 -   0.0s\n",
      "[CV] max_depth=6, colsample_bytree=0.828552264737, subsample=0.730144026361 \n",
      "[CV]  max_depth=6, colsample_bytree=0.828552264737, subsample=0.730144026361 -   0.0s\n",
      "[CV] max_depth=6, colsample_bytree=0.828552264737, subsample=0.730144026361 \n",
      "[CV]  max_depth=6, colsample_bytree=0.828552264737, subsample=0.730144026361 -   0.0s\n",
      "[CV] max_depth=1, colsample_bytree=0.997560113217, subsample=0.92934588874 \n",
      "[CV]  max_depth=1, colsample_bytree=0.997560113217, subsample=0.92934588874 -   0.0s\n",
      "[CV] max_depth=1, colsample_bytree=0.997560113217, subsample=0.92934588874 \n"
     ]
    },
    {
     "name": "stderr",
     "output_type": "stream",
     "text": [
      "C:\\Users\\Takashi\\Miniconda3\\lib\\site-packages\\sklearn\\metrics\\scorer.py:127: DeprecationWarning: Scoring method log_loss was renamed to neg_log_loss in version 0.18 and will be removed in 0.20.\n",
      "  sample_weight=sample_weight)\n",
      "C:\\Users\\Takashi\\Miniconda3\\lib\\site-packages\\sklearn\\metrics\\scorer.py:127: DeprecationWarning: Scoring method log_loss was renamed to neg_log_loss in version 0.18 and will be removed in 0.20.\n",
      "  sample_weight=sample_weight)\n",
      "C:\\Users\\Takashi\\Miniconda3\\lib\\site-packages\\sklearn\\metrics\\scorer.py:127: DeprecationWarning: Scoring method log_loss was renamed to neg_log_loss in version 0.18 and will be removed in 0.20.\n",
      "  sample_weight=sample_weight)\n",
      "C:\\Users\\Takashi\\Miniconda3\\lib\\site-packages\\sklearn\\metrics\\scorer.py:127: DeprecationWarning: Scoring method log_loss was renamed to neg_log_loss in version 0.18 and will be removed in 0.20.\n",
      "  sample_weight=sample_weight)\n",
      "C:\\Users\\Takashi\\Miniconda3\\lib\\site-packages\\sklearn\\metrics\\scorer.py:127: DeprecationWarning: Scoring method log_loss was renamed to neg_log_loss in version 0.18 and will be removed in 0.20.\n",
      "  sample_weight=sample_weight)\n",
      "C:\\Users\\Takashi\\Miniconda3\\lib\\site-packages\\sklearn\\metrics\\scorer.py:127: DeprecationWarning: Scoring method log_loss was renamed to neg_log_loss in version 0.18 and will be removed in 0.20.\n",
      "  sample_weight=sample_weight)\n",
      "C:\\Users\\Takashi\\Miniconda3\\lib\\site-packages\\sklearn\\metrics\\scorer.py:127: DeprecationWarning: Scoring method log_loss was renamed to neg_log_loss in version 0.18 and will be removed in 0.20.\n",
      "  sample_weight=sample_weight)\n",
      "C:\\Users\\Takashi\\Miniconda3\\lib\\site-packages\\sklearn\\metrics\\scorer.py:127: DeprecationWarning: Scoring method log_loss was renamed to neg_log_loss in version 0.18 and will be removed in 0.20.\n",
      "  sample_weight=sample_weight)\n"
     ]
    },
    {
     "name": "stdout",
     "output_type": "stream",
     "text": [
      "[CV]  max_depth=1, colsample_bytree=0.997560113217, subsample=0.92934588874 -   0.0s\n",
      "[CV] max_depth=1, colsample_bytree=0.997560113217, subsample=0.92934588874 \n",
      "[CV]  max_depth=1, colsample_bytree=0.997560113217, subsample=0.92934588874 -   0.0s\n",
      "[CV] max_depth=1, colsample_bytree=0.997560113217, subsample=0.92934588874 \n",
      "[CV]  max_depth=1, colsample_bytree=0.997560113217, subsample=0.92934588874 -   0.0s\n",
      "[CV] max_depth=1, colsample_bytree=0.997560113217, subsample=0.92934588874 \n",
      "[CV]  max_depth=1, colsample_bytree=0.997560113217, subsample=0.92934588874 -   0.0s\n",
      "[CV] max_depth=1, colsample_bytree=0.997560113217, subsample=0.92934588874 \n",
      "[CV]  max_depth=1, colsample_bytree=0.997560113217, subsample=0.92934588874 -   0.0s\n",
      "[CV] max_depth=1, colsample_bytree=0.997560113217, subsample=0.92934588874 \n",
      "[CV]  max_depth=1, colsample_bytree=0.997560113217, subsample=0.92934588874 -   0.0s\n",
      "[CV] max_depth=1, colsample_bytree=0.997560113217, subsample=0.92934588874 \n",
      "[CV]  max_depth=1, colsample_bytree=0.997560113217, subsample=0.92934588874 -   0.0s\n",
      "[CV] max_depth=1, colsample_bytree=0.997560113217, subsample=0.92934588874 \n",
      "[CV]  max_depth=1, colsample_bytree=0.997560113217, subsample=0.92934588874 -   0.0s\n",
      "[CV] max_depth=1, colsample_bytree=0.997560113217, subsample=0.92934588874 \n"
     ]
    },
    {
     "name": "stderr",
     "output_type": "stream",
     "text": [
      "C:\\Users\\Takashi\\Miniconda3\\lib\\site-packages\\sklearn\\metrics\\scorer.py:127: DeprecationWarning: Scoring method log_loss was renamed to neg_log_loss in version 0.18 and will be removed in 0.20.\n",
      "  sample_weight=sample_weight)\n",
      "C:\\Users\\Takashi\\Miniconda3\\lib\\site-packages\\sklearn\\metrics\\scorer.py:127: DeprecationWarning: Scoring method log_loss was renamed to neg_log_loss in version 0.18 and will be removed in 0.20.\n",
      "  sample_weight=sample_weight)\n",
      "C:\\Users\\Takashi\\Miniconda3\\lib\\site-packages\\sklearn\\metrics\\scorer.py:127: DeprecationWarning: Scoring method log_loss was renamed to neg_log_loss in version 0.18 and will be removed in 0.20.\n",
      "  sample_weight=sample_weight)\n",
      "C:\\Users\\Takashi\\Miniconda3\\lib\\site-packages\\sklearn\\metrics\\scorer.py:127: DeprecationWarning: Scoring method log_loss was renamed to neg_log_loss in version 0.18 and will be removed in 0.20.\n",
      "  sample_weight=sample_weight)\n",
      "C:\\Users\\Takashi\\Miniconda3\\lib\\site-packages\\sklearn\\metrics\\scorer.py:127: DeprecationWarning: Scoring method log_loss was renamed to neg_log_loss in version 0.18 and will be removed in 0.20.\n",
      "  sample_weight=sample_weight)\n"
     ]
    },
    {
     "name": "stdout",
     "output_type": "stream",
     "text": [
      "[CV]  max_depth=1, colsample_bytree=0.997560113217, subsample=0.92934588874 -   0.0s\n",
      "[CV] max_depth=3, colsample_bytree=0.62327939671, subsample=0.8174114416 \n",
      "[CV]  max_depth=3, colsample_bytree=0.62327939671, subsample=0.8174114416 -   0.0s\n",
      "[CV] max_depth=3, colsample_bytree=0.62327939671, subsample=0.8174114416 \n",
      "[CV]  max_depth=3, colsample_bytree=0.62327939671, subsample=0.8174114416 -   0.0s\n",
      "[CV] max_depth=3, colsample_bytree=0.62327939671, subsample=0.8174114416 \n",
      "[CV]  max_depth=3, colsample_bytree=0.62327939671, subsample=0.8174114416 -   0.0s\n",
      "[CV] max_depth=3, colsample_bytree=0.62327939671, subsample=0.8174114416 \n",
      "[CV]  max_depth=3, colsample_bytree=0.62327939671, subsample=0.8174114416 -   0.0s\n",
      "[CV] max_depth=3, colsample_bytree=0.62327939671, subsample=0.8174114416 \n"
     ]
    },
    {
     "name": "stderr",
     "output_type": "stream",
     "text": [
      "C:\\Users\\Takashi\\Miniconda3\\lib\\site-packages\\sklearn\\metrics\\scorer.py:127: DeprecationWarning: Scoring method log_loss was renamed to neg_log_loss in version 0.18 and will be removed in 0.20.\n",
      "  sample_weight=sample_weight)\n",
      "C:\\Users\\Takashi\\Miniconda3\\lib\\site-packages\\sklearn\\metrics\\scorer.py:127: DeprecationWarning: Scoring method log_loss was renamed to neg_log_loss in version 0.18 and will be removed in 0.20.\n",
      "  sample_weight=sample_weight)\n",
      "C:\\Users\\Takashi\\Miniconda3\\lib\\site-packages\\sklearn\\metrics\\scorer.py:127: DeprecationWarning: Scoring method log_loss was renamed to neg_log_loss in version 0.18 and will be removed in 0.20.\n",
      "  sample_weight=sample_weight)\n",
      "C:\\Users\\Takashi\\Miniconda3\\lib\\site-packages\\sklearn\\metrics\\scorer.py:127: DeprecationWarning: Scoring method log_loss was renamed to neg_log_loss in version 0.18 and will be removed in 0.20.\n",
      "  sample_weight=sample_weight)\n",
      "C:\\Users\\Takashi\\Miniconda3\\lib\\site-packages\\sklearn\\metrics\\scorer.py:127: DeprecationWarning: Scoring method log_loss was renamed to neg_log_loss in version 0.18 and will be removed in 0.20.\n",
      "  sample_weight=sample_weight)\n"
     ]
    },
    {
     "name": "stdout",
     "output_type": "stream",
     "text": [
      "[CV]  max_depth=3, colsample_bytree=0.62327939671, subsample=0.8174114416 -   0.0s\n",
      "[CV] max_depth=3, colsample_bytree=0.62327939671, subsample=0.8174114416 \n",
      "[CV]  max_depth=3, colsample_bytree=0.62327939671, subsample=0.8174114416 -   0.0s\n",
      "[CV] max_depth=3, colsample_bytree=0.62327939671, subsample=0.8174114416 \n",
      "[CV]  max_depth=3, colsample_bytree=0.62327939671, subsample=0.8174114416 -   0.0s\n",
      "[CV] max_depth=3, colsample_bytree=0.62327939671, subsample=0.8174114416 \n",
      "[CV]  max_depth=3, colsample_bytree=0.62327939671, subsample=0.8174114416 -   0.0s\n",
      "[CV] max_depth=3, colsample_bytree=0.62327939671, subsample=0.8174114416 \n",
      "[CV]  max_depth=3, colsample_bytree=0.62327939671, subsample=0.8174114416 -   0.0s\n",
      "[CV] max_depth=3, colsample_bytree=0.62327939671, subsample=0.8174114416 \n"
     ]
    },
    {
     "name": "stderr",
     "output_type": "stream",
     "text": [
      "C:\\Users\\Takashi\\Miniconda3\\lib\\site-packages\\sklearn\\metrics\\scorer.py:127: DeprecationWarning: Scoring method log_loss was renamed to neg_log_loss in version 0.18 and will be removed in 0.20.\n",
      "  sample_weight=sample_weight)\n",
      "C:\\Users\\Takashi\\Miniconda3\\lib\\site-packages\\sklearn\\metrics\\scorer.py:127: DeprecationWarning: Scoring method log_loss was renamed to neg_log_loss in version 0.18 and will be removed in 0.20.\n",
      "  sample_weight=sample_weight)\n",
      "C:\\Users\\Takashi\\Miniconda3\\lib\\site-packages\\sklearn\\metrics\\scorer.py:127: DeprecationWarning: Scoring method log_loss was renamed to neg_log_loss in version 0.18 and will be removed in 0.20.\n",
      "  sample_weight=sample_weight)\n",
      "C:\\Users\\Takashi\\Miniconda3\\lib\\site-packages\\sklearn\\metrics\\scorer.py:127: DeprecationWarning: Scoring method log_loss was renamed to neg_log_loss in version 0.18 and will be removed in 0.20.\n",
      "  sample_weight=sample_weight)\n",
      "C:\\Users\\Takashi\\Miniconda3\\lib\\site-packages\\sklearn\\metrics\\scorer.py:127: DeprecationWarning: Scoring method log_loss was renamed to neg_log_loss in version 0.18 and will be removed in 0.20.\n",
      "  sample_weight=sample_weight)\n",
      "C:\\Users\\Takashi\\Miniconda3\\lib\\site-packages\\sklearn\\metrics\\scorer.py:127: DeprecationWarning: Scoring method log_loss was renamed to neg_log_loss in version 0.18 and will be removed in 0.20.\n",
      "  sample_weight=sample_weight)\n",
      "C:\\Users\\Takashi\\Miniconda3\\lib\\site-packages\\sklearn\\metrics\\scorer.py:127: DeprecationWarning: Scoring method log_loss was renamed to neg_log_loss in version 0.18 and will be removed in 0.20.\n",
      "  sample_weight=sample_weight)\n",
      "C:\\Users\\Takashi\\Miniconda3\\lib\\site-packages\\sklearn\\metrics\\scorer.py:127: DeprecationWarning: Scoring method log_loss was renamed to neg_log_loss in version 0.18 and will be removed in 0.20.\n",
      "  sample_weight=sample_weight)\n"
     ]
    },
    {
     "name": "stdout",
     "output_type": "stream",
     "text": [
      "[CV]  max_depth=3, colsample_bytree=0.62327939671, subsample=0.8174114416 -   0.0s\n",
      "[CV] max_depth=1, colsample_bytree=0.89663814547, subsample=0.608301894272 \n",
      "[CV]  max_depth=1, colsample_bytree=0.89663814547, subsample=0.608301894272 -   0.0s\n",
      "[CV] max_depth=1, colsample_bytree=0.89663814547, subsample=0.608301894272 \n",
      "[CV]  max_depth=1, colsample_bytree=0.89663814547, subsample=0.608301894272 -   0.0s\n",
      "[CV] max_depth=1, colsample_bytree=0.89663814547, subsample=0.608301894272 \n",
      "[CV]  max_depth=1, colsample_bytree=0.89663814547, subsample=0.608301894272 -   0.0s\n",
      "[CV] max_depth=1, colsample_bytree=0.89663814547, subsample=0.608301894272 \n",
      "[CV]  max_depth=1, colsample_bytree=0.89663814547, subsample=0.608301894272 -   0.0s\n",
      "[CV] max_depth=1, colsample_bytree=0.89663814547, subsample=0.608301894272 \n",
      "[CV]  max_depth=1, colsample_bytree=0.89663814547, subsample=0.608301894272 -   0.0s\n",
      "[CV] max_depth=1, colsample_bytree=0.89663814547, subsample=0.608301894272 \n",
      "[CV]  max_depth=1, colsample_bytree=0.89663814547, subsample=0.608301894272 -   0.0s\n",
      "[CV] max_depth=1, colsample_bytree=0.89663814547, subsample=0.608301894272 \n",
      "[CV]  max_depth=1, colsample_bytree=0.89663814547, subsample=0.608301894272 -   0.0s\n",
      "[CV] max_depth=1, colsample_bytree=0.89663814547, subsample=0.608301894272 \n"
     ]
    },
    {
     "name": "stderr",
     "output_type": "stream",
     "text": [
      "C:\\Users\\Takashi\\Miniconda3\\lib\\site-packages\\sklearn\\metrics\\scorer.py:127: DeprecationWarning: Scoring method log_loss was renamed to neg_log_loss in version 0.18 and will be removed in 0.20.\n",
      "  sample_weight=sample_weight)\n",
      "C:\\Users\\Takashi\\Miniconda3\\lib\\site-packages\\sklearn\\metrics\\scorer.py:127: DeprecationWarning: Scoring method log_loss was renamed to neg_log_loss in version 0.18 and will be removed in 0.20.\n",
      "  sample_weight=sample_weight)\n",
      "C:\\Users\\Takashi\\Miniconda3\\lib\\site-packages\\sklearn\\metrics\\scorer.py:127: DeprecationWarning: Scoring method log_loss was renamed to neg_log_loss in version 0.18 and will be removed in 0.20.\n",
      "  sample_weight=sample_weight)\n",
      "C:\\Users\\Takashi\\Miniconda3\\lib\\site-packages\\sklearn\\metrics\\scorer.py:127: DeprecationWarning: Scoring method log_loss was renamed to neg_log_loss in version 0.18 and will be removed in 0.20.\n",
      "  sample_weight=sample_weight)\n"
     ]
    },
    {
     "name": "stdout",
     "output_type": "stream",
     "text": [
      "[CV]  max_depth=1, colsample_bytree=0.89663814547, subsample=0.608301894272 -   0.0s\n",
      "[CV] max_depth=1, colsample_bytree=0.89663814547, subsample=0.608301894272 \n",
      "[CV]  max_depth=1, colsample_bytree=0.89663814547, subsample=0.608301894272 -   0.0s\n",
      "[CV] max_depth=1, colsample_bytree=0.89663814547, subsample=0.608301894272 \n",
      "[CV]  max_depth=1, colsample_bytree=0.89663814547, subsample=0.608301894272 -   0.0s\n",
      "[CV] max_depth=8, colsample_bytree=0.686760383794, subsample=0.847938971631 \n",
      "[CV]  max_depth=8, colsample_bytree=0.686760383794, subsample=0.847938971631 -   0.0s\n",
      "[CV] max_depth=8, colsample_bytree=0.686760383794, subsample=0.847938971631 \n"
     ]
    },
    {
     "name": "stderr",
     "output_type": "stream",
     "text": [
      "C:\\Users\\Takashi\\Miniconda3\\lib\\site-packages\\sklearn\\metrics\\scorer.py:127: DeprecationWarning: Scoring method log_loss was renamed to neg_log_loss in version 0.18 and will be removed in 0.20.\n",
      "  sample_weight=sample_weight)\n",
      "C:\\Users\\Takashi\\Miniconda3\\lib\\site-packages\\sklearn\\metrics\\scorer.py:127: DeprecationWarning: Scoring method log_loss was renamed to neg_log_loss in version 0.18 and will be removed in 0.20.\n",
      "  sample_weight=sample_weight)\n",
      "C:\\Users\\Takashi\\Miniconda3\\lib\\site-packages\\sklearn\\metrics\\scorer.py:127: DeprecationWarning: Scoring method log_loss was renamed to neg_log_loss in version 0.18 and will be removed in 0.20.\n",
      "  sample_weight=sample_weight)\n"
     ]
    },
    {
     "name": "stdout",
     "output_type": "stream",
     "text": [
      "[CV]  max_depth=8, colsample_bytree=0.686760383794, subsample=0.847938971631 -   0.0s\n",
      "[CV] max_depth=8, colsample_bytree=0.686760383794, subsample=0.847938971631 \n",
      "[CV]  max_depth=8, colsample_bytree=0.686760383794, subsample=0.847938971631 -   0.0s\n",
      "[CV] max_depth=8, colsample_bytree=0.686760383794, subsample=0.847938971631 \n",
      "[CV]  max_depth=8, colsample_bytree=0.686760383794, subsample=0.847938971631 -   0.0s\n",
      "[CV] max_depth=8, colsample_bytree=0.686760383794, subsample=0.847938971631 \n"
     ]
    },
    {
     "name": "stderr",
     "output_type": "stream",
     "text": [
      "C:\\Users\\Takashi\\Miniconda3\\lib\\site-packages\\sklearn\\metrics\\scorer.py:127: DeprecationWarning: Scoring method log_loss was renamed to neg_log_loss in version 0.18 and will be removed in 0.20.\n",
      "  sample_weight=sample_weight)\n",
      "C:\\Users\\Takashi\\Miniconda3\\lib\\site-packages\\sklearn\\metrics\\scorer.py:127: DeprecationWarning: Scoring method log_loss was renamed to neg_log_loss in version 0.18 and will be removed in 0.20.\n",
      "  sample_weight=sample_weight)\n",
      "C:\\Users\\Takashi\\Miniconda3\\lib\\site-packages\\sklearn\\metrics\\scorer.py:127: DeprecationWarning: Scoring method log_loss was renamed to neg_log_loss in version 0.18 and will be removed in 0.20.\n",
      "  sample_weight=sample_weight)\n"
     ]
    },
    {
     "name": "stdout",
     "output_type": "stream",
     "text": [
      "[CV]  max_depth=8, colsample_bytree=0.686760383794, subsample=0.847938971631 -   0.0s\n",
      "[CV] max_depth=8, colsample_bytree=0.686760383794, subsample=0.847938971631 \n",
      "[CV]  max_depth=8, colsample_bytree=0.686760383794, subsample=0.847938971631 -   0.0s\n",
      "[CV] max_depth=8, colsample_bytree=0.686760383794, subsample=0.847938971631 \n",
      "[CV]  max_depth=8, colsample_bytree=0.686760383794, subsample=0.847938971631 -   0.0s\n",
      "[CV] max_depth=8, colsample_bytree=0.686760383794, subsample=0.847938971631 \n"
     ]
    },
    {
     "name": "stderr",
     "output_type": "stream",
     "text": [
      "C:\\Users\\Takashi\\Miniconda3\\lib\\site-packages\\sklearn\\metrics\\scorer.py:127: DeprecationWarning: Scoring method log_loss was renamed to neg_log_loss in version 0.18 and will be removed in 0.20.\n",
      "  sample_weight=sample_weight)\n",
      "C:\\Users\\Takashi\\Miniconda3\\lib\\site-packages\\sklearn\\metrics\\scorer.py:127: DeprecationWarning: Scoring method log_loss was renamed to neg_log_loss in version 0.18 and will be removed in 0.20.\n",
      "  sample_weight=sample_weight)\n",
      "C:\\Users\\Takashi\\Miniconda3\\lib\\site-packages\\sklearn\\metrics\\scorer.py:127: DeprecationWarning: Scoring method log_loss was renamed to neg_log_loss in version 0.18 and will be removed in 0.20.\n",
      "  sample_weight=sample_weight)\n"
     ]
    },
    {
     "name": "stdout",
     "output_type": "stream",
     "text": [
      "[CV]  max_depth=8, colsample_bytree=0.686760383794, subsample=0.847938971631 -   0.0s\n",
      "[CV] max_depth=8, colsample_bytree=0.686760383794, subsample=0.847938971631 \n",
      "[CV]  max_depth=8, colsample_bytree=0.686760383794, subsample=0.847938971631 -   0.0s\n",
      "[CV] max_depth=8, colsample_bytree=0.686760383794, subsample=0.847938971631 \n",
      "[CV]  max_depth=8, colsample_bytree=0.686760383794, subsample=0.847938971631 -   0.0s\n",
      "[CV] max_depth=8, colsample_bytree=0.704220778159, subsample=0.964144513578 \n"
     ]
    },
    {
     "name": "stderr",
     "output_type": "stream",
     "text": [
      "C:\\Users\\Takashi\\Miniconda3\\lib\\site-packages\\sklearn\\metrics\\scorer.py:127: DeprecationWarning: Scoring method log_loss was renamed to neg_log_loss in version 0.18 and will be removed in 0.20.\n",
      "  sample_weight=sample_weight)\n",
      "C:\\Users\\Takashi\\Miniconda3\\lib\\site-packages\\sklearn\\metrics\\scorer.py:127: DeprecationWarning: Scoring method log_loss was renamed to neg_log_loss in version 0.18 and will be removed in 0.20.\n",
      "  sample_weight=sample_weight)\n"
     ]
    },
    {
     "name": "stdout",
     "output_type": "stream",
     "text": [
      "[CV]  max_depth=8, colsample_bytree=0.704220778159, subsample=0.964144513578 -   0.0s\n",
      "[CV] max_depth=8, colsample_bytree=0.704220778159, subsample=0.964144513578 \n",
      "[CV]  max_depth=8, colsample_bytree=0.704220778159, subsample=0.964144513578 -   0.0s\n",
      "[CV] max_depth=8, colsample_bytree=0.704220778159, subsample=0.964144513578 \n"
     ]
    },
    {
     "name": "stderr",
     "output_type": "stream",
     "text": [
      "C:\\Users\\Takashi\\Miniconda3\\lib\\site-packages\\sklearn\\metrics\\scorer.py:127: DeprecationWarning: Scoring method log_loss was renamed to neg_log_loss in version 0.18 and will be removed in 0.20.\n",
      "  sample_weight=sample_weight)\n",
      "C:\\Users\\Takashi\\Miniconda3\\lib\\site-packages\\sklearn\\metrics\\scorer.py:127: DeprecationWarning: Scoring method log_loss was renamed to neg_log_loss in version 0.18 and will be removed in 0.20.\n",
      "  sample_weight=sample_weight)\n",
      "C:\\Users\\Takashi\\Miniconda3\\lib\\site-packages\\sklearn\\metrics\\scorer.py:127: DeprecationWarning: Scoring method log_loss was renamed to neg_log_loss in version 0.18 and will be removed in 0.20.\n",
      "  sample_weight=sample_weight)\n"
     ]
    },
    {
     "name": "stdout",
     "output_type": "stream",
     "text": [
      "[CV]  max_depth=8, colsample_bytree=0.704220778159, subsample=0.964144513578 -   0.0s\n",
      "[CV] max_depth=8, colsample_bytree=0.704220778159, subsample=0.964144513578 \n",
      "[CV]  max_depth=8, colsample_bytree=0.704220778159, subsample=0.964144513578 -   0.0s\n",
      "[CV] max_depth=8, colsample_bytree=0.704220778159, subsample=0.964144513578 \n",
      "[CV]  max_depth=8, colsample_bytree=0.704220778159, subsample=0.964144513578 -   0.0s\n",
      "[CV] max_depth=8, colsample_bytree=0.704220778159, subsample=0.964144513578 \n"
     ]
    },
    {
     "name": "stderr",
     "output_type": "stream",
     "text": [
      "C:\\Users\\Takashi\\Miniconda3\\lib\\site-packages\\sklearn\\metrics\\scorer.py:127: DeprecationWarning: Scoring method log_loss was renamed to neg_log_loss in version 0.18 and will be removed in 0.20.\n",
      "  sample_weight=sample_weight)\n",
      "C:\\Users\\Takashi\\Miniconda3\\lib\\site-packages\\sklearn\\metrics\\scorer.py:127: DeprecationWarning: Scoring method log_loss was renamed to neg_log_loss in version 0.18 and will be removed in 0.20.\n",
      "  sample_weight=sample_weight)\n"
     ]
    },
    {
     "name": "stdout",
     "output_type": "stream",
     "text": [
      "[CV]  max_depth=8, colsample_bytree=0.704220778159, subsample=0.964144513578 -   0.0s\n",
      "[CV] max_depth=8, colsample_bytree=0.704220778159, subsample=0.964144513578 \n",
      "[CV]  max_depth=8, colsample_bytree=0.704220778159, subsample=0.964144513578 -   0.0s\n",
      "[CV] max_depth=8, colsample_bytree=0.704220778159, subsample=0.964144513578 \n"
     ]
    },
    {
     "name": "stderr",
     "output_type": "stream",
     "text": [
      "C:\\Users\\Takashi\\Miniconda3\\lib\\site-packages\\sklearn\\metrics\\scorer.py:127: DeprecationWarning: Scoring method log_loss was renamed to neg_log_loss in version 0.18 and will be removed in 0.20.\n",
      "  sample_weight=sample_weight)\n",
      "C:\\Users\\Takashi\\Miniconda3\\lib\\site-packages\\sklearn\\metrics\\scorer.py:127: DeprecationWarning: Scoring method log_loss was renamed to neg_log_loss in version 0.18 and will be removed in 0.20.\n",
      "  sample_weight=sample_weight)\n",
      "C:\\Users\\Takashi\\Miniconda3\\lib\\site-packages\\sklearn\\metrics\\scorer.py:127: DeprecationWarning: Scoring method log_loss was renamed to neg_log_loss in version 0.18 and will be removed in 0.20.\n",
      "  sample_weight=sample_weight)\n"
     ]
    },
    {
     "name": "stdout",
     "output_type": "stream",
     "text": [
      "[CV]  max_depth=8, colsample_bytree=0.704220778159, subsample=0.964144513578 -   0.0s\n",
      "[CV] max_depth=8, colsample_bytree=0.704220778159, subsample=0.964144513578 \n",
      "[CV]  max_depth=8, colsample_bytree=0.704220778159, subsample=0.964144513578 -   0.0s\n",
      "[CV] max_depth=8, colsample_bytree=0.704220778159, subsample=0.964144513578 \n",
      "[CV]  max_depth=8, colsample_bytree=0.704220778159, subsample=0.964144513578 -   0.0s\n",
      "[CV] max_depth=9, colsample_bytree=0.660741881657, subsample=0.632289833618 \n"
     ]
    },
    {
     "name": "stderr",
     "output_type": "stream",
     "text": [
      "C:\\Users\\Takashi\\Miniconda3\\lib\\site-packages\\sklearn\\metrics\\scorer.py:127: DeprecationWarning: Scoring method log_loss was renamed to neg_log_loss in version 0.18 and will be removed in 0.20.\n",
      "  sample_weight=sample_weight)\n",
      "C:\\Users\\Takashi\\Miniconda3\\lib\\site-packages\\sklearn\\metrics\\scorer.py:127: DeprecationWarning: Scoring method log_loss was renamed to neg_log_loss in version 0.18 and will be removed in 0.20.\n",
      "  sample_weight=sample_weight)\n"
     ]
    },
    {
     "name": "stdout",
     "output_type": "stream",
     "text": [
      "[CV]  max_depth=9, colsample_bytree=0.660741881657, subsample=0.632289833618 -   0.0s\n",
      "[CV] max_depth=9, colsample_bytree=0.660741881657, subsample=0.632289833618 \n",
      "[CV]  max_depth=9, colsample_bytree=0.660741881657, subsample=0.632289833618 -   0.0s\n",
      "[CV] max_depth=9, colsample_bytree=0.660741881657, subsample=0.632289833618 \n"
     ]
    },
    {
     "name": "stderr",
     "output_type": "stream",
     "text": [
      "C:\\Users\\Takashi\\Miniconda3\\lib\\site-packages\\sklearn\\metrics\\scorer.py:127: DeprecationWarning: Scoring method log_loss was renamed to neg_log_loss in version 0.18 and will be removed in 0.20.\n",
      "  sample_weight=sample_weight)\n",
      "C:\\Users\\Takashi\\Miniconda3\\lib\\site-packages\\sklearn\\metrics\\scorer.py:127: DeprecationWarning: Scoring method log_loss was renamed to neg_log_loss in version 0.18 and will be removed in 0.20.\n",
      "  sample_weight=sample_weight)\n",
      "C:\\Users\\Takashi\\Miniconda3\\lib\\site-packages\\sklearn\\metrics\\scorer.py:127: DeprecationWarning: Scoring method log_loss was renamed to neg_log_loss in version 0.18 and will be removed in 0.20.\n",
      "  sample_weight=sample_weight)\n"
     ]
    },
    {
     "name": "stdout",
     "output_type": "stream",
     "text": [
      "[CV]  max_depth=9, colsample_bytree=0.660741881657, subsample=0.632289833618 -   0.0s\n",
      "[CV] max_depth=9, colsample_bytree=0.660741881657, subsample=0.632289833618 \n",
      "[CV]  max_depth=9, colsample_bytree=0.660741881657, subsample=0.632289833618 -   0.0s\n",
      "[CV] max_depth=9, colsample_bytree=0.660741881657, subsample=0.632289833618 \n",
      "[CV]  max_depth=9, colsample_bytree=0.660741881657, subsample=0.632289833618 -   0.0s\n",
      "[CV] max_depth=9, colsample_bytree=0.660741881657, subsample=0.632289833618 \n"
     ]
    },
    {
     "name": "stderr",
     "output_type": "stream",
     "text": [
      "C:\\Users\\Takashi\\Miniconda3\\lib\\site-packages\\sklearn\\metrics\\scorer.py:127: DeprecationWarning: Scoring method log_loss was renamed to neg_log_loss in version 0.18 and will be removed in 0.20.\n",
      "  sample_weight=sample_weight)\n",
      "C:\\Users\\Takashi\\Miniconda3\\lib\\site-packages\\sklearn\\metrics\\scorer.py:127: DeprecationWarning: Scoring method log_loss was renamed to neg_log_loss in version 0.18 and will be removed in 0.20.\n",
      "  sample_weight=sample_weight)\n",
      "C:\\Users\\Takashi\\Miniconda3\\lib\\site-packages\\sklearn\\metrics\\scorer.py:127: DeprecationWarning: Scoring method log_loss was renamed to neg_log_loss in version 0.18 and will be removed in 0.20.\n",
      "  sample_weight=sample_weight)\n"
     ]
    },
    {
     "name": "stdout",
     "output_type": "stream",
     "text": [
      "[CV]  max_depth=9, colsample_bytree=0.660741881657, subsample=0.632289833618 -   0.0s\n",
      "[CV] max_depth=9, colsample_bytree=0.660741881657, subsample=0.632289833618 \n",
      "[CV]  max_depth=9, colsample_bytree=0.660741881657, subsample=0.632289833618 -   0.0s\n",
      "[CV] max_depth=9, colsample_bytree=0.660741881657, subsample=0.632289833618 \n",
      "[CV]  max_depth=9, colsample_bytree=0.660741881657, subsample=0.632289833618 -   0.0s\n",
      "[CV] max_depth=9, colsample_bytree=0.660741881657, subsample=0.632289833618 \n",
      "[CV]  max_depth=9, colsample_bytree=0.660741881657, subsample=0.632289833618 -   0.0s\n",
      "[CV] max_depth=9, colsample_bytree=0.660741881657, subsample=0.632289833618 \n"
     ]
    },
    {
     "name": "stderr",
     "output_type": "stream",
     "text": [
      "C:\\Users\\Takashi\\Miniconda3\\lib\\site-packages\\sklearn\\metrics\\scorer.py:127: DeprecationWarning: Scoring method log_loss was renamed to neg_log_loss in version 0.18 and will be removed in 0.20.\n",
      "  sample_weight=sample_weight)\n",
      "C:\\Users\\Takashi\\Miniconda3\\lib\\site-packages\\sklearn\\metrics\\scorer.py:127: DeprecationWarning: Scoring method log_loss was renamed to neg_log_loss in version 0.18 and will be removed in 0.20.\n",
      "  sample_weight=sample_weight)\n",
      "C:\\Users\\Takashi\\Miniconda3\\lib\\site-packages\\sklearn\\metrics\\scorer.py:127: DeprecationWarning: Scoring method log_loss was renamed to neg_log_loss in version 0.18 and will be removed in 0.20.\n",
      "  sample_weight=sample_weight)\n"
     ]
    },
    {
     "name": "stdout",
     "output_type": "stream",
     "text": [
      "[CV]  max_depth=9, colsample_bytree=0.660741881657, subsample=0.632289833618 -   0.0s\n",
      "[CV] max_depth=4, colsample_bytree=0.511864678979, subsample=0.616835033136 \n",
      "[CV]  max_depth=4, colsample_bytree=0.511864678979, subsample=0.616835033136 -   0.0s\n",
      "[CV] max_depth=4, colsample_bytree=0.511864678979, subsample=0.616835033136 \n",
      "[CV]  max_depth=4, colsample_bytree=0.511864678979, subsample=0.616835033136 -   0.0s\n",
      "[CV] max_depth=4, colsample_bytree=0.511864678979, subsample=0.616835033136 \n",
      "[CV]  max_depth=4, colsample_bytree=0.511864678979, subsample=0.616835033136 -   0.0s\n",
      "[CV] max_depth=4, colsample_bytree=0.511864678979, subsample=0.616835033136 \n"
     ]
    },
    {
     "name": "stderr",
     "output_type": "stream",
     "text": [
      "C:\\Users\\Takashi\\Miniconda3\\lib\\site-packages\\sklearn\\metrics\\scorer.py:127: DeprecationWarning: Scoring method log_loss was renamed to neg_log_loss in version 0.18 and will be removed in 0.20.\n",
      "  sample_weight=sample_weight)\n",
      "C:\\Users\\Takashi\\Miniconda3\\lib\\site-packages\\sklearn\\metrics\\scorer.py:127: DeprecationWarning: Scoring method log_loss was renamed to neg_log_loss in version 0.18 and will be removed in 0.20.\n",
      "  sample_weight=sample_weight)\n",
      "C:\\Users\\Takashi\\Miniconda3\\lib\\site-packages\\sklearn\\metrics\\scorer.py:127: DeprecationWarning: Scoring method log_loss was renamed to neg_log_loss in version 0.18 and will be removed in 0.20.\n",
      "  sample_weight=sample_weight)\n"
     ]
    },
    {
     "name": "stdout",
     "output_type": "stream",
     "text": [
      "[CV]  max_depth=4, colsample_bytree=0.511864678979, subsample=0.616835033136 -   0.0s\n",
      "[CV] max_depth=4, colsample_bytree=0.511864678979, subsample=0.616835033136 \n",
      "[CV]  max_depth=4, colsample_bytree=0.511864678979, subsample=0.616835033136 -   0.0s\n",
      "[CV] max_depth=4, colsample_bytree=0.511864678979, subsample=0.616835033136 \n",
      "[CV]  max_depth=4, colsample_bytree=0.511864678979, subsample=0.616835033136 -   0.0s\n",
      "[CV] max_depth=4, colsample_bytree=0.511864678979, subsample=0.616835033136 \n"
     ]
    },
    {
     "name": "stderr",
     "output_type": "stream",
     "text": [
      "C:\\Users\\Takashi\\Miniconda3\\lib\\site-packages\\sklearn\\metrics\\scorer.py:127: DeprecationWarning: Scoring method log_loss was renamed to neg_log_loss in version 0.18 and will be removed in 0.20.\n",
      "  sample_weight=sample_weight)\n",
      "C:\\Users\\Takashi\\Miniconda3\\lib\\site-packages\\sklearn\\metrics\\scorer.py:127: DeprecationWarning: Scoring method log_loss was renamed to neg_log_loss in version 0.18 and will be removed in 0.20.\n",
      "  sample_weight=sample_weight)\n",
      "C:\\Users\\Takashi\\Miniconda3\\lib\\site-packages\\sklearn\\metrics\\scorer.py:127: DeprecationWarning: Scoring method log_loss was renamed to neg_log_loss in version 0.18 and will be removed in 0.20.\n",
      "  sample_weight=sample_weight)\n"
     ]
    },
    {
     "name": "stdout",
     "output_type": "stream",
     "text": [
      "[CV]  max_depth=4, colsample_bytree=0.511864678979, subsample=0.616835033136 -   0.0s\n",
      "[CV] max_depth=4, colsample_bytree=0.511864678979, subsample=0.616835033136 \n",
      "[CV]  max_depth=4, colsample_bytree=0.511864678979, subsample=0.616835033136 -   0.0s\n",
      "[CV] max_depth=4, colsample_bytree=0.511864678979, subsample=0.616835033136 \n",
      "[CV]  max_depth=4, colsample_bytree=0.511864678979, subsample=0.616835033136 -   0.0s\n",
      "[CV] max_depth=4, colsample_bytree=0.511864678979, subsample=0.616835033136 \n"
     ]
    },
    {
     "name": "stderr",
     "output_type": "stream",
     "text": [
      "C:\\Users\\Takashi\\Miniconda3\\lib\\site-packages\\sklearn\\metrics\\scorer.py:127: DeprecationWarning: Scoring method log_loss was renamed to neg_log_loss in version 0.18 and will be removed in 0.20.\n",
      "  sample_weight=sample_weight)\n",
      "C:\\Users\\Takashi\\Miniconda3\\lib\\site-packages\\sklearn\\metrics\\scorer.py:127: DeprecationWarning: Scoring method log_loss was renamed to neg_log_loss in version 0.18 and will be removed in 0.20.\n",
      "  sample_weight=sample_weight)\n",
      "C:\\Users\\Takashi\\Miniconda3\\lib\\site-packages\\sklearn\\metrics\\scorer.py:127: DeprecationWarning: Scoring method log_loss was renamed to neg_log_loss in version 0.18 and will be removed in 0.20.\n",
      "  sample_weight=sample_weight)\n"
     ]
    },
    {
     "name": "stdout",
     "output_type": "stream",
     "text": [
      "[CV]  max_depth=4, colsample_bytree=0.511864678979, subsample=0.616835033136 -   0.0s\n",
      "[CV] max_depth=4, colsample_bytree=0.713489414498, subsample=0.95951702654 \n",
      "[CV]  max_depth=4, colsample_bytree=0.713489414498, subsample=0.95951702654 -   0.0s\n",
      "[CV] max_depth=4, colsample_bytree=0.713489414498, subsample=0.95951702654 \n",
      "[CV]  max_depth=4, colsample_bytree=0.713489414498, subsample=0.95951702654 -   0.0s\n",
      "[CV] max_depth=4, colsample_bytree=0.713489414498, subsample=0.95951702654 \n",
      "[CV]  max_depth=4, colsample_bytree=0.713489414498, subsample=0.95951702654 -   0.0s\n",
      "[CV] max_depth=4, colsample_bytree=0.713489414498, subsample=0.95951702654 \n"
     ]
    },
    {
     "name": "stderr",
     "output_type": "stream",
     "text": [
      "C:\\Users\\Takashi\\Miniconda3\\lib\\site-packages\\sklearn\\metrics\\scorer.py:127: DeprecationWarning: Scoring method log_loss was renamed to neg_log_loss in version 0.18 and will be removed in 0.20.\n",
      "  sample_weight=sample_weight)\n",
      "C:\\Users\\Takashi\\Miniconda3\\lib\\site-packages\\sklearn\\metrics\\scorer.py:127: DeprecationWarning: Scoring method log_loss was renamed to neg_log_loss in version 0.18 and will be removed in 0.20.\n",
      "  sample_weight=sample_weight)\n",
      "C:\\Users\\Takashi\\Miniconda3\\lib\\site-packages\\sklearn\\metrics\\scorer.py:127: DeprecationWarning: Scoring method log_loss was renamed to neg_log_loss in version 0.18 and will be removed in 0.20.\n",
      "  sample_weight=sample_weight)\n",
      "C:\\Users\\Takashi\\Miniconda3\\lib\\site-packages\\sklearn\\metrics\\scorer.py:127: DeprecationWarning: Scoring method log_loss was renamed to neg_log_loss in version 0.18 and will be removed in 0.20.\n",
      "  sample_weight=sample_weight)\n"
     ]
    },
    {
     "name": "stdout",
     "output_type": "stream",
     "text": [
      "[CV]  max_depth=4, colsample_bytree=0.713489414498, subsample=0.95951702654 -   0.0s\n",
      "[CV] max_depth=4, colsample_bytree=0.713489414498, subsample=0.95951702654 \n",
      "[CV]  max_depth=4, colsample_bytree=0.713489414498, subsample=0.95951702654 -   0.0s\n",
      "[CV] max_depth=4, colsample_bytree=0.713489414498, subsample=0.95951702654 \n",
      "[CV]  max_depth=4, colsample_bytree=0.713489414498, subsample=0.95951702654 -   0.0s\n",
      "[CV] max_depth=4, colsample_bytree=0.713489414498, subsample=0.95951702654 \n",
      "[CV]  max_depth=4, colsample_bytree=0.713489414498, subsample=0.95951702654 -   0.0s\n",
      "[CV] max_depth=4, colsample_bytree=0.713489414498, subsample=0.95951702654 \n"
     ]
    },
    {
     "name": "stderr",
     "output_type": "stream",
     "text": [
      "C:\\Users\\Takashi\\Miniconda3\\lib\\site-packages\\sklearn\\metrics\\scorer.py:127: DeprecationWarning: Scoring method log_loss was renamed to neg_log_loss in version 0.18 and will be removed in 0.20.\n",
      "  sample_weight=sample_weight)\n",
      "C:\\Users\\Takashi\\Miniconda3\\lib\\site-packages\\sklearn\\metrics\\scorer.py:127: DeprecationWarning: Scoring method log_loss was renamed to neg_log_loss in version 0.18 and will be removed in 0.20.\n",
      "  sample_weight=sample_weight)\n",
      "C:\\Users\\Takashi\\Miniconda3\\lib\\site-packages\\sklearn\\metrics\\scorer.py:127: DeprecationWarning: Scoring method log_loss was renamed to neg_log_loss in version 0.18 and will be removed in 0.20.\n",
      "  sample_weight=sample_weight)\n",
      "C:\\Users\\Takashi\\Miniconda3\\lib\\site-packages\\sklearn\\metrics\\scorer.py:127: DeprecationWarning: Scoring method log_loss was renamed to neg_log_loss in version 0.18 and will be removed in 0.20.\n",
      "  sample_weight=sample_weight)\n"
     ]
    },
    {
     "name": "stdout",
     "output_type": "stream",
     "text": [
      "[CV]  max_depth=4, colsample_bytree=0.713489414498, subsample=0.95951702654 -   0.0s\n",
      "[CV] max_depth=4, colsample_bytree=0.713489414498, subsample=0.95951702654 \n",
      "[CV]  max_depth=4, colsample_bytree=0.713489414498, subsample=0.95951702654 -   0.0s\n",
      "[CV] max_depth=4, colsample_bytree=0.713489414498, subsample=0.95951702654 \n",
      "[CV]  max_depth=4, colsample_bytree=0.713489414498, subsample=0.95951702654 -   0.0s\n",
      "[CV] max_depth=3, colsample_bytree=0.946461523343, subsample=0.835479432702 \n",
      "[CV]  max_depth=3, colsample_bytree=0.946461523343, subsample=0.835479432702 -   0.0s\n",
      "[CV] max_depth=3, colsample_bytree=0.946461523343, subsample=0.835479432702 \n"
     ]
    },
    {
     "name": "stderr",
     "output_type": "stream",
     "text": [
      "C:\\Users\\Takashi\\Miniconda3\\lib\\site-packages\\sklearn\\metrics\\scorer.py:127: DeprecationWarning: Scoring method log_loss was renamed to neg_log_loss in version 0.18 and will be removed in 0.20.\n",
      "  sample_weight=sample_weight)\n",
      "C:\\Users\\Takashi\\Miniconda3\\lib\\site-packages\\sklearn\\metrics\\scorer.py:127: DeprecationWarning: Scoring method log_loss was renamed to neg_log_loss in version 0.18 and will be removed in 0.20.\n",
      "  sample_weight=sample_weight)\n",
      "C:\\Users\\Takashi\\Miniconda3\\lib\\site-packages\\sklearn\\metrics\\scorer.py:127: DeprecationWarning: Scoring method log_loss was renamed to neg_log_loss in version 0.18 and will be removed in 0.20.\n",
      "  sample_weight=sample_weight)\n",
      "C:\\Users\\Takashi\\Miniconda3\\lib\\site-packages\\sklearn\\metrics\\scorer.py:127: DeprecationWarning: Scoring method log_loss was renamed to neg_log_loss in version 0.18 and will be removed in 0.20.\n",
      "  sample_weight=sample_weight)\n"
     ]
    },
    {
     "name": "stdout",
     "output_type": "stream",
     "text": [
      "[CV]  max_depth=3, colsample_bytree=0.946461523343, subsample=0.835479432702 -   0.0s\n",
      "[CV] max_depth=3, colsample_bytree=0.946461523343, subsample=0.835479432702 \n",
      "[CV]  max_depth=3, colsample_bytree=0.946461523343, subsample=0.835479432702 -   0.0s\n",
      "[CV] max_depth=3, colsample_bytree=0.946461523343, subsample=0.835479432702 \n",
      "[CV]  max_depth=3, colsample_bytree=0.946461523343, subsample=0.835479432702 -   0.0s\n",
      "[CV] max_depth=3, colsample_bytree=0.946461523343, subsample=0.835479432702 \n",
      "[CV]  max_depth=3, colsample_bytree=0.946461523343, subsample=0.835479432702 -   0.0s\n",
      "[CV] max_depth=3, colsample_bytree=0.946461523343, subsample=0.835479432702 \n",
      "[CV]  max_depth=3, colsample_bytree=0.946461523343, subsample=0.835479432702 -   0.0s\n",
      "[CV] max_depth=3, colsample_bytree=0.946461523343, subsample=0.835479432702 \n"
     ]
    },
    {
     "name": "stderr",
     "output_type": "stream",
     "text": [
      "C:\\Users\\Takashi\\Miniconda3\\lib\\site-packages\\sklearn\\metrics\\scorer.py:127: DeprecationWarning: Scoring method log_loss was renamed to neg_log_loss in version 0.18 and will be removed in 0.20.\n",
      "  sample_weight=sample_weight)\n",
      "C:\\Users\\Takashi\\Miniconda3\\lib\\site-packages\\sklearn\\metrics\\scorer.py:127: DeprecationWarning: Scoring method log_loss was renamed to neg_log_loss in version 0.18 and will be removed in 0.20.\n",
      "  sample_weight=sample_weight)\n",
      "C:\\Users\\Takashi\\Miniconda3\\lib\\site-packages\\sklearn\\metrics\\scorer.py:127: DeprecationWarning: Scoring method log_loss was renamed to neg_log_loss in version 0.18 and will be removed in 0.20.\n",
      "  sample_weight=sample_weight)\n",
      "C:\\Users\\Takashi\\Miniconda3\\lib\\site-packages\\sklearn\\metrics\\scorer.py:127: DeprecationWarning: Scoring method log_loss was renamed to neg_log_loss in version 0.18 and will be removed in 0.20.\n",
      "  sample_weight=sample_weight)\n",
      "C:\\Users\\Takashi\\Miniconda3\\lib\\site-packages\\sklearn\\metrics\\scorer.py:127: DeprecationWarning: Scoring method log_loss was renamed to neg_log_loss in version 0.18 and will be removed in 0.20.\n",
      "  sample_weight=sample_weight)\n"
     ]
    },
    {
     "name": "stdout",
     "output_type": "stream",
     "text": [
      "[CV]  max_depth=3, colsample_bytree=0.946461523343, subsample=0.835479432702 -   0.0s\n",
      "[CV] max_depth=3, colsample_bytree=0.946461523343, subsample=0.835479432702 \n",
      "[CV]  max_depth=3, colsample_bytree=0.946461523343, subsample=0.835479432702 -   0.0s\n",
      "[CV] max_depth=3, colsample_bytree=0.946461523343, subsample=0.835479432702 \n",
      "[CV]  max_depth=3, colsample_bytree=0.946461523343, subsample=0.835479432702 -   0.0s\n",
      "[CV] max_depth=3, colsample_bytree=0.946461523343, subsample=0.835479432702 \n",
      "[CV]  max_depth=3, colsample_bytree=0.946461523343, subsample=0.835479432702 -   0.0s\n",
      "[CV] max_depth=4, colsample_bytree=0.632213898332, subsample=0.621713304996 \n"
     ]
    },
    {
     "name": "stderr",
     "output_type": "stream",
     "text": [
      "C:\\Users\\Takashi\\Miniconda3\\lib\\site-packages\\sklearn\\metrics\\scorer.py:127: DeprecationWarning: Scoring method log_loss was renamed to neg_log_loss in version 0.18 and will be removed in 0.20.\n",
      "  sample_weight=sample_weight)\n",
      "C:\\Users\\Takashi\\Miniconda3\\lib\\site-packages\\sklearn\\metrics\\scorer.py:127: DeprecationWarning: Scoring method log_loss was renamed to neg_log_loss in version 0.18 and will be removed in 0.20.\n",
      "  sample_weight=sample_weight)\n",
      "C:\\Users\\Takashi\\Miniconda3\\lib\\site-packages\\sklearn\\metrics\\scorer.py:127: DeprecationWarning: Scoring method log_loss was renamed to neg_log_loss in version 0.18 and will be removed in 0.20.\n",
      "  sample_weight=sample_weight)\n",
      "C:\\Users\\Takashi\\Miniconda3\\lib\\site-packages\\sklearn\\metrics\\scorer.py:127: DeprecationWarning: Scoring method log_loss was renamed to neg_log_loss in version 0.18 and will be removed in 0.20.\n",
      "  sample_weight=sample_weight)\n"
     ]
    },
    {
     "name": "stdout",
     "output_type": "stream",
     "text": [
      "[CV]  max_depth=4, colsample_bytree=0.632213898332, subsample=0.621713304996 -   0.0s\n",
      "[CV] max_depth=4, colsample_bytree=0.632213898332, subsample=0.621713304996 \n",
      "[CV]  max_depth=4, colsample_bytree=0.632213898332, subsample=0.621713304996 -   0.0s\n",
      "[CV] max_depth=4, colsample_bytree=0.632213898332, subsample=0.621713304996 \n",
      "[CV]  max_depth=4, colsample_bytree=0.632213898332, subsample=0.621713304996 -   0.0s\n",
      "[CV] max_depth=4, colsample_bytree=0.632213898332, subsample=0.621713304996 \n",
      "[CV]  max_depth=4, colsample_bytree=0.632213898332, subsample=0.621713304996 -   0.0s\n",
      "[CV] max_depth=4, colsample_bytree=0.632213898332, subsample=0.621713304996 \n"
     ]
    },
    {
     "name": "stderr",
     "output_type": "stream",
     "text": [
      "C:\\Users\\Takashi\\Miniconda3\\lib\\site-packages\\sklearn\\metrics\\scorer.py:127: DeprecationWarning: Scoring method log_loss was renamed to neg_log_loss in version 0.18 and will be removed in 0.20.\n",
      "  sample_weight=sample_weight)\n",
      "C:\\Users\\Takashi\\Miniconda3\\lib\\site-packages\\sklearn\\metrics\\scorer.py:127: DeprecationWarning: Scoring method log_loss was renamed to neg_log_loss in version 0.18 and will be removed in 0.20.\n",
      "  sample_weight=sample_weight)\n",
      "C:\\Users\\Takashi\\Miniconda3\\lib\\site-packages\\sklearn\\metrics\\scorer.py:127: DeprecationWarning: Scoring method log_loss was renamed to neg_log_loss in version 0.18 and will be removed in 0.20.\n",
      "  sample_weight=sample_weight)\n",
      "C:\\Users\\Takashi\\Miniconda3\\lib\\site-packages\\sklearn\\metrics\\scorer.py:127: DeprecationWarning: Scoring method log_loss was renamed to neg_log_loss in version 0.18 and will be removed in 0.20.\n",
      "  sample_weight=sample_weight)\n"
     ]
    },
    {
     "name": "stdout",
     "output_type": "stream",
     "text": [
      "[CV]  max_depth=4, colsample_bytree=0.632213898332, subsample=0.621713304996 -   0.0s\n",
      "[CV] max_depth=4, colsample_bytree=0.632213898332, subsample=0.621713304996 \n",
      "[CV]  max_depth=4, colsample_bytree=0.632213898332, subsample=0.621713304996 -   0.0s\n",
      "[CV] max_depth=4, colsample_bytree=0.632213898332, subsample=0.621713304996 \n",
      "[CV]  max_depth=4, colsample_bytree=0.632213898332, subsample=0.621713304996 -   0.0s\n",
      "[CV] max_depth=4, colsample_bytree=0.632213898332, subsample=0.621713304996 \n"
     ]
    },
    {
     "name": "stderr",
     "output_type": "stream",
     "text": [
      "C:\\Users\\Takashi\\Miniconda3\\lib\\site-packages\\sklearn\\metrics\\scorer.py:127: DeprecationWarning: Scoring method log_loss was renamed to neg_log_loss in version 0.18 and will be removed in 0.20.\n",
      "  sample_weight=sample_weight)\n",
      "C:\\Users\\Takashi\\Miniconda3\\lib\\site-packages\\sklearn\\metrics\\scorer.py:127: DeprecationWarning: Scoring method log_loss was renamed to neg_log_loss in version 0.18 and will be removed in 0.20.\n",
      "  sample_weight=sample_weight)\n",
      "C:\\Users\\Takashi\\Miniconda3\\lib\\site-packages\\sklearn\\metrics\\scorer.py:127: DeprecationWarning: Scoring method log_loss was renamed to neg_log_loss in version 0.18 and will be removed in 0.20.\n",
      "  sample_weight=sample_weight)\n"
     ]
    },
    {
     "name": "stdout",
     "output_type": "stream",
     "text": [
      "[CV]  max_depth=4, colsample_bytree=0.632213898332, subsample=0.621713304996 -   0.0s\n",
      "[CV] max_depth=4, colsample_bytree=0.632213898332, subsample=0.621713304996 \n",
      "[CV]  max_depth=4, colsample_bytree=0.632213898332, subsample=0.621713304996 -   0.0s\n",
      "[CV] max_depth=4, colsample_bytree=0.632213898332, subsample=0.621713304996 \n",
      "[CV]  max_depth=4, colsample_bytree=0.632213898332, subsample=0.621713304996 -   0.0s\n",
      "[CV] max_depth=2, colsample_bytree=0.575186581543, subsample=0.659073376675 \n",
      "[CV]  max_depth=2, colsample_bytree=0.575186581543, subsample=0.659073376675 -   0.0s\n",
      "[CV] max_depth=2, colsample_bytree=0.575186581543, subsample=0.659073376675 \n"
     ]
    },
    {
     "name": "stderr",
     "output_type": "stream",
     "text": [
      "C:\\Users\\Takashi\\Miniconda3\\lib\\site-packages\\sklearn\\metrics\\scorer.py:127: DeprecationWarning: Scoring method log_loss was renamed to neg_log_loss in version 0.18 and will be removed in 0.20.\n",
      "  sample_weight=sample_weight)\n",
      "C:\\Users\\Takashi\\Miniconda3\\lib\\site-packages\\sklearn\\metrics\\scorer.py:127: DeprecationWarning: Scoring method log_loss was renamed to neg_log_loss in version 0.18 and will be removed in 0.20.\n",
      "  sample_weight=sample_weight)\n",
      "C:\\Users\\Takashi\\Miniconda3\\lib\\site-packages\\sklearn\\metrics\\scorer.py:127: DeprecationWarning: Scoring method log_loss was renamed to neg_log_loss in version 0.18 and will be removed in 0.20.\n",
      "  sample_weight=sample_weight)\n",
      "C:\\Users\\Takashi\\Miniconda3\\lib\\site-packages\\sklearn\\metrics\\scorer.py:127: DeprecationWarning: Scoring method log_loss was renamed to neg_log_loss in version 0.18 and will be removed in 0.20.\n",
      "  sample_weight=sample_weight)\n",
      "C:\\Users\\Takashi\\Miniconda3\\lib\\site-packages\\sklearn\\metrics\\scorer.py:127: DeprecationWarning: Scoring method log_loss was renamed to neg_log_loss in version 0.18 and will be removed in 0.20.\n",
      "  sample_weight=sample_weight)\n"
     ]
    },
    {
     "name": "stdout",
     "output_type": "stream",
     "text": [
      "[CV]  max_depth=2, colsample_bytree=0.575186581543, subsample=0.659073376675 -   0.0s\n",
      "[CV] max_depth=2, colsample_bytree=0.575186581543, subsample=0.659073376675 \n",
      "[CV]  max_depth=2, colsample_bytree=0.575186581543, subsample=0.659073376675 -   0.0s\n",
      "[CV] max_depth=2, colsample_bytree=0.575186581543, subsample=0.659073376675 \n",
      "[CV]  max_depth=2, colsample_bytree=0.575186581543, subsample=0.659073376675 -   0.0s\n",
      "[CV] max_depth=2, colsample_bytree=0.575186581543, subsample=0.659073376675 \n",
      "[CV]  max_depth=2, colsample_bytree=0.575186581543, subsample=0.659073376675 -   0.0s\n",
      "[CV] max_depth=2, colsample_bytree=0.575186581543, subsample=0.659073376675 \n",
      "[CV]  max_depth=2, colsample_bytree=0.575186581543, subsample=0.659073376675 -   0.0s\n",
      "[CV] max_depth=2, colsample_bytree=0.575186581543, subsample=0.659073376675 \n"
     ]
    },
    {
     "name": "stderr",
     "output_type": "stream",
     "text": [
      "C:\\Users\\Takashi\\Miniconda3\\lib\\site-packages\\sklearn\\metrics\\scorer.py:127: DeprecationWarning: Scoring method log_loss was renamed to neg_log_loss in version 0.18 and will be removed in 0.20.\n",
      "  sample_weight=sample_weight)\n",
      "C:\\Users\\Takashi\\Miniconda3\\lib\\site-packages\\sklearn\\metrics\\scorer.py:127: DeprecationWarning: Scoring method log_loss was renamed to neg_log_loss in version 0.18 and will be removed in 0.20.\n",
      "  sample_weight=sample_weight)\n",
      "C:\\Users\\Takashi\\Miniconda3\\lib\\site-packages\\sklearn\\metrics\\scorer.py:127: DeprecationWarning: Scoring method log_loss was renamed to neg_log_loss in version 0.18 and will be removed in 0.20.\n",
      "  sample_weight=sample_weight)\n",
      "C:\\Users\\Takashi\\Miniconda3\\lib\\site-packages\\sklearn\\metrics\\scorer.py:127: DeprecationWarning: Scoring method log_loss was renamed to neg_log_loss in version 0.18 and will be removed in 0.20.\n",
      "  sample_weight=sample_weight)\n",
      "C:\\Users\\Takashi\\Miniconda3\\lib\\site-packages\\sklearn\\metrics\\scorer.py:127: DeprecationWarning: Scoring method log_loss was renamed to neg_log_loss in version 0.18 and will be removed in 0.20.\n",
      "  sample_weight=sample_weight)\n",
      "C:\\Users\\Takashi\\Miniconda3\\lib\\site-packages\\sklearn\\metrics\\scorer.py:127: DeprecationWarning: Scoring method log_loss was renamed to neg_log_loss in version 0.18 and will be removed in 0.20.\n",
      "  sample_weight=sample_weight)\n"
     ]
    },
    {
     "name": "stdout",
     "output_type": "stream",
     "text": [
      "[CV]  max_depth=2, colsample_bytree=0.575186581543, subsample=0.659073376675 -   0.0s\n",
      "[CV] max_depth=2, colsample_bytree=0.575186581543, subsample=0.659073376675 \n",
      "[CV]  max_depth=2, colsample_bytree=0.575186581543, subsample=0.659073376675 -   0.0s\n",
      "[CV] max_depth=2, colsample_bytree=0.575186581543, subsample=0.659073376675 \n",
      "[CV]  max_depth=2, colsample_bytree=0.575186581543, subsample=0.659073376675 -   0.0s\n",
      "[CV] max_depth=2, colsample_bytree=0.575186581543, subsample=0.659073376675 \n",
      "[CV]  max_depth=2, colsample_bytree=0.575186581543, subsample=0.659073376675 -   0.0s\n",
      "[CV] max_depth=3, colsample_bytree=0.838020731564, subsample=0.863737482258 \n",
      "[CV]  max_depth=3, colsample_bytree=0.838020731564, subsample=0.863737482258 -   0.0s\n",
      "[CV] max_depth=3, colsample_bytree=0.838020731564, subsample=0.863737482258 \n"
     ]
    },
    {
     "name": "stderr",
     "output_type": "stream",
     "text": [
      "C:\\Users\\Takashi\\Miniconda3\\lib\\site-packages\\sklearn\\metrics\\scorer.py:127: DeprecationWarning: Scoring method log_loss was renamed to neg_log_loss in version 0.18 and will be removed in 0.20.\n",
      "  sample_weight=sample_weight)\n",
      "C:\\Users\\Takashi\\Miniconda3\\lib\\site-packages\\sklearn\\metrics\\scorer.py:127: DeprecationWarning: Scoring method log_loss was renamed to neg_log_loss in version 0.18 and will be removed in 0.20.\n",
      "  sample_weight=sample_weight)\n",
      "C:\\Users\\Takashi\\Miniconda3\\lib\\site-packages\\sklearn\\metrics\\scorer.py:127: DeprecationWarning: Scoring method log_loss was renamed to neg_log_loss in version 0.18 and will be removed in 0.20.\n",
      "  sample_weight=sample_weight)\n",
      "C:\\Users\\Takashi\\Miniconda3\\lib\\site-packages\\sklearn\\metrics\\scorer.py:127: DeprecationWarning: Scoring method log_loss was renamed to neg_log_loss in version 0.18 and will be removed in 0.20.\n",
      "  sample_weight=sample_weight)\n",
      "C:\\Users\\Takashi\\Miniconda3\\lib\\site-packages\\sklearn\\metrics\\scorer.py:127: DeprecationWarning: Scoring method log_loss was renamed to neg_log_loss in version 0.18 and will be removed in 0.20.\n",
      "  sample_weight=sample_weight)\n"
     ]
    },
    {
     "name": "stdout",
     "output_type": "stream",
     "text": [
      "[CV]  max_depth=3, colsample_bytree=0.838020731564, subsample=0.863737482258 -   0.0s\n",
      "[CV] max_depth=3, colsample_bytree=0.838020731564, subsample=0.863737482258 \n",
      "[CV]  max_depth=3, colsample_bytree=0.838020731564, subsample=0.863737482258 -   0.0s\n",
      "[CV] max_depth=3, colsample_bytree=0.838020731564, subsample=0.863737482258 \n",
      "[CV]  max_depth=3, colsample_bytree=0.838020731564, subsample=0.863737482258 -   0.0s\n",
      "[CV] max_depth=3, colsample_bytree=0.838020731564, subsample=0.863737482258 \n",
      "[CV]  max_depth=3, colsample_bytree=0.838020731564, subsample=0.863737482258 -   0.0s\n",
      "[CV] max_depth=3, colsample_bytree=0.838020731564, subsample=0.863737482258 \n",
      "[CV]  max_depth=3, colsample_bytree=0.838020731564, subsample=0.863737482258 -   0.0s\n",
      "[CV] max_depth=3, colsample_bytree=0.838020731564, subsample=0.863737482258 \n"
     ]
    },
    {
     "name": "stderr",
     "output_type": "stream",
     "text": [
      "C:\\Users\\Takashi\\Miniconda3\\lib\\site-packages\\sklearn\\metrics\\scorer.py:127: DeprecationWarning: Scoring method log_loss was renamed to neg_log_loss in version 0.18 and will be removed in 0.20.\n",
      "  sample_weight=sample_weight)\n",
      "C:\\Users\\Takashi\\Miniconda3\\lib\\site-packages\\sklearn\\metrics\\scorer.py:127: DeprecationWarning: Scoring method log_loss was renamed to neg_log_loss in version 0.18 and will be removed in 0.20.\n",
      "  sample_weight=sample_weight)\n",
      "C:\\Users\\Takashi\\Miniconda3\\lib\\site-packages\\sklearn\\metrics\\scorer.py:127: DeprecationWarning: Scoring method log_loss was renamed to neg_log_loss in version 0.18 and will be removed in 0.20.\n",
      "  sample_weight=sample_weight)\n",
      "C:\\Users\\Takashi\\Miniconda3\\lib\\site-packages\\sklearn\\metrics\\scorer.py:127: DeprecationWarning: Scoring method log_loss was renamed to neg_log_loss in version 0.18 and will be removed in 0.20.\n",
      "  sample_weight=sample_weight)\n",
      "C:\\Users\\Takashi\\Miniconda3\\lib\\site-packages\\sklearn\\metrics\\scorer.py:127: DeprecationWarning: Scoring method log_loss was renamed to neg_log_loss in version 0.18 and will be removed in 0.20.\n",
      "  sample_weight=sample_weight)\n"
     ]
    },
    {
     "name": "stdout",
     "output_type": "stream",
     "text": [
      "[CV]  max_depth=3, colsample_bytree=0.838020731564, subsample=0.863737482258 -   0.0s\n",
      "[CV] max_depth=3, colsample_bytree=0.838020731564, subsample=0.863737482258 \n",
      "[CV]  max_depth=3, colsample_bytree=0.838020731564, subsample=0.863737482258 -   0.0s\n",
      "[CV] max_depth=3, colsample_bytree=0.838020731564, subsample=0.863737482258 \n",
      "[CV]  max_depth=3, colsample_bytree=0.838020731564, subsample=0.863737482258 -   0.0s\n",
      "[CV] max_depth=3, colsample_bytree=0.838020731564, subsample=0.863737482258 \n",
      "[CV]  max_depth=3, colsample_bytree=0.838020731564, subsample=0.863737482258 -   0.0s\n",
      "[CV] max_depth=3, colsample_bytree=0.896613228052, subsample=0.656916996953 \n",
      "[CV]  max_depth=3, colsample_bytree=0.896613228052, subsample=0.656916996953 -   0.0s\n",
      "[CV] max_depth=3, colsample_bytree=0.896613228052, subsample=0.656916996953 \n"
     ]
    },
    {
     "name": "stderr",
     "output_type": "stream",
     "text": [
      "C:\\Users\\Takashi\\Miniconda3\\lib\\site-packages\\sklearn\\metrics\\scorer.py:127: DeprecationWarning: Scoring method log_loss was renamed to neg_log_loss in version 0.18 and will be removed in 0.20.\n",
      "  sample_weight=sample_weight)\n",
      "C:\\Users\\Takashi\\Miniconda3\\lib\\site-packages\\sklearn\\metrics\\scorer.py:127: DeprecationWarning: Scoring method log_loss was renamed to neg_log_loss in version 0.18 and will be removed in 0.20.\n",
      "  sample_weight=sample_weight)\n",
      "C:\\Users\\Takashi\\Miniconda3\\lib\\site-packages\\sklearn\\metrics\\scorer.py:127: DeprecationWarning: Scoring method log_loss was renamed to neg_log_loss in version 0.18 and will be removed in 0.20.\n",
      "  sample_weight=sample_weight)\n",
      "C:\\Users\\Takashi\\Miniconda3\\lib\\site-packages\\sklearn\\metrics\\scorer.py:127: DeprecationWarning: Scoring method log_loss was renamed to neg_log_loss in version 0.18 and will be removed in 0.20.\n",
      "  sample_weight=sample_weight)\n",
      "C:\\Users\\Takashi\\Miniconda3\\lib\\site-packages\\sklearn\\metrics\\scorer.py:127: DeprecationWarning: Scoring method log_loss was renamed to neg_log_loss in version 0.18 and will be removed in 0.20.\n",
      "  sample_weight=sample_weight)\n"
     ]
    },
    {
     "name": "stdout",
     "output_type": "stream",
     "text": [
      "[CV]  max_depth=3, colsample_bytree=0.896613228052, subsample=0.656916996953 -   0.0s\n",
      "[CV] max_depth=3, colsample_bytree=0.896613228052, subsample=0.656916996953 \n",
      "[CV]  max_depth=3, colsample_bytree=0.896613228052, subsample=0.656916996953 -   0.0s\n",
      "[CV] max_depth=3, colsample_bytree=0.896613228052, subsample=0.656916996953 \n",
      "[CV]  max_depth=3, colsample_bytree=0.896613228052, subsample=0.656916996953 -   0.0s\n",
      "[CV] max_depth=3, colsample_bytree=0.896613228052, subsample=0.656916996953 \n",
      "[CV]  max_depth=3, colsample_bytree=0.896613228052, subsample=0.656916996953 -   0.0s\n",
      "[CV] max_depth=3, colsample_bytree=0.896613228052, subsample=0.656916996953 \n",
      "[CV]  max_depth=3, colsample_bytree=0.896613228052, subsample=0.656916996953 -   0.0s\n",
      "[CV] max_depth=3, colsample_bytree=0.896613228052, subsample=0.656916996953 \n"
     ]
    },
    {
     "name": "stderr",
     "output_type": "stream",
     "text": [
      "C:\\Users\\Takashi\\Miniconda3\\lib\\site-packages\\sklearn\\metrics\\scorer.py:127: DeprecationWarning: Scoring method log_loss was renamed to neg_log_loss in version 0.18 and will be removed in 0.20.\n",
      "  sample_weight=sample_weight)\n",
      "C:\\Users\\Takashi\\Miniconda3\\lib\\site-packages\\sklearn\\metrics\\scorer.py:127: DeprecationWarning: Scoring method log_loss was renamed to neg_log_loss in version 0.18 and will be removed in 0.20.\n",
      "  sample_weight=sample_weight)\n",
      "C:\\Users\\Takashi\\Miniconda3\\lib\\site-packages\\sklearn\\metrics\\scorer.py:127: DeprecationWarning: Scoring method log_loss was renamed to neg_log_loss in version 0.18 and will be removed in 0.20.\n",
      "  sample_weight=sample_weight)\n",
      "C:\\Users\\Takashi\\Miniconda3\\lib\\site-packages\\sklearn\\metrics\\scorer.py:127: DeprecationWarning: Scoring method log_loss was renamed to neg_log_loss in version 0.18 and will be removed in 0.20.\n",
      "  sample_weight=sample_weight)\n",
      "C:\\Users\\Takashi\\Miniconda3\\lib\\site-packages\\sklearn\\metrics\\scorer.py:127: DeprecationWarning: Scoring method log_loss was renamed to neg_log_loss in version 0.18 and will be removed in 0.20.\n",
      "  sample_weight=sample_weight)\n"
     ]
    },
    {
     "name": "stdout",
     "output_type": "stream",
     "text": [
      "[CV]  max_depth=3, colsample_bytree=0.896613228052, subsample=0.656916996953 -   0.0s\n",
      "[CV] max_depth=3, colsample_bytree=0.896613228052, subsample=0.656916996953 \n",
      "[CV]  max_depth=3, colsample_bytree=0.896613228052, subsample=0.656916996953 -   0.0s\n",
      "[CV] max_depth=3, colsample_bytree=0.896613228052, subsample=0.656916996953 \n",
      "[CV]  max_depth=3, colsample_bytree=0.896613228052, subsample=0.656916996953 -   0.0s\n",
      "[CV] max_depth=3, colsample_bytree=0.896613228052, subsample=0.656916996953 \n",
      "[CV]  max_depth=3, colsample_bytree=0.896613228052, subsample=0.656916996953 -   0.0s\n",
      "[CV] max_depth=7, colsample_bytree=0.894356931431, subsample=0.947539758222 \n"
     ]
    },
    {
     "name": "stderr",
     "output_type": "stream",
     "text": [
      "C:\\Users\\Takashi\\Miniconda3\\lib\\site-packages\\sklearn\\metrics\\scorer.py:127: DeprecationWarning: Scoring method log_loss was renamed to neg_log_loss in version 0.18 and will be removed in 0.20.\n",
      "  sample_weight=sample_weight)\n",
      "C:\\Users\\Takashi\\Miniconda3\\lib\\site-packages\\sklearn\\metrics\\scorer.py:127: DeprecationWarning: Scoring method log_loss was renamed to neg_log_loss in version 0.18 and will be removed in 0.20.\n",
      "  sample_weight=sample_weight)\n",
      "C:\\Users\\Takashi\\Miniconda3\\lib\\site-packages\\sklearn\\metrics\\scorer.py:127: DeprecationWarning: Scoring method log_loss was renamed to neg_log_loss in version 0.18 and will be removed in 0.20.\n",
      "  sample_weight=sample_weight)\n"
     ]
    },
    {
     "name": "stdout",
     "output_type": "stream",
     "text": [
      "[CV]  max_depth=7, colsample_bytree=0.894356931431, subsample=0.947539758222 -   0.0s\n",
      "[CV] max_depth=7, colsample_bytree=0.894356931431, subsample=0.947539758222 \n",
      "[CV]  max_depth=7, colsample_bytree=0.894356931431, subsample=0.947539758222 -   0.0s\n",
      "[CV] max_depth=7, colsample_bytree=0.894356931431, subsample=0.947539758222 \n",
      "[CV]  max_depth=7, colsample_bytree=0.894356931431, subsample=0.947539758222 -   0.0s\n",
      "[CV] max_depth=7, colsample_bytree=0.894356931431, subsample=0.947539758222 \n"
     ]
    },
    {
     "name": "stderr",
     "output_type": "stream",
     "text": [
      "C:\\Users\\Takashi\\Miniconda3\\lib\\site-packages\\sklearn\\metrics\\scorer.py:127: DeprecationWarning: Scoring method log_loss was renamed to neg_log_loss in version 0.18 and will be removed in 0.20.\n",
      "  sample_weight=sample_weight)\n",
      "C:\\Users\\Takashi\\Miniconda3\\lib\\site-packages\\sklearn\\metrics\\scorer.py:127: DeprecationWarning: Scoring method log_loss was renamed to neg_log_loss in version 0.18 and will be removed in 0.20.\n",
      "  sample_weight=sample_weight)\n",
      "C:\\Users\\Takashi\\Miniconda3\\lib\\site-packages\\sklearn\\metrics\\scorer.py:127: DeprecationWarning: Scoring method log_loss was renamed to neg_log_loss in version 0.18 and will be removed in 0.20.\n",
      "  sample_weight=sample_weight)\n"
     ]
    },
    {
     "name": "stdout",
     "output_type": "stream",
     "text": [
      "[CV]  max_depth=7, colsample_bytree=0.894356931431, subsample=0.947539758222 -   0.0s\n",
      "[CV] max_depth=7, colsample_bytree=0.894356931431, subsample=0.947539758222 \n",
      "[CV]  max_depth=7, colsample_bytree=0.894356931431, subsample=0.947539758222 -   0.0s\n",
      "[CV] max_depth=7, colsample_bytree=0.894356931431, subsample=0.947539758222 \n",
      "[CV]  max_depth=7, colsample_bytree=0.894356931431, subsample=0.947539758222 -   0.0s\n",
      "[CV] max_depth=7, colsample_bytree=0.894356931431, subsample=0.947539758222 \n"
     ]
    },
    {
     "name": "stderr",
     "output_type": "stream",
     "text": [
      "C:\\Users\\Takashi\\Miniconda3\\lib\\site-packages\\sklearn\\metrics\\scorer.py:127: DeprecationWarning: Scoring method log_loss was renamed to neg_log_loss in version 0.18 and will be removed in 0.20.\n",
      "  sample_weight=sample_weight)\n",
      "C:\\Users\\Takashi\\Miniconda3\\lib\\site-packages\\sklearn\\metrics\\scorer.py:127: DeprecationWarning: Scoring method log_loss was renamed to neg_log_loss in version 0.18 and will be removed in 0.20.\n",
      "  sample_weight=sample_weight)\n",
      "C:\\Users\\Takashi\\Miniconda3\\lib\\site-packages\\sklearn\\metrics\\scorer.py:127: DeprecationWarning: Scoring method log_loss was renamed to neg_log_loss in version 0.18 and will be removed in 0.20.\n",
      "  sample_weight=sample_weight)\n"
     ]
    },
    {
     "name": "stdout",
     "output_type": "stream",
     "text": [
      "[CV]  max_depth=7, colsample_bytree=0.894356931431, subsample=0.947539758222 -   0.0s\n",
      "[CV] max_depth=7, colsample_bytree=0.894356931431, subsample=0.947539758222 \n",
      "[CV]  max_depth=7, colsample_bytree=0.894356931431, subsample=0.947539758222 -   0.0s\n",
      "[CV] max_depth=7, colsample_bytree=0.894356931431, subsample=0.947539758222 \n",
      "[CV]  max_depth=7, colsample_bytree=0.894356931431, subsample=0.947539758222 -   0.0s\n",
      "[CV] max_depth=7, colsample_bytree=0.894356931431, subsample=0.947539758222 \n"
     ]
    },
    {
     "name": "stderr",
     "output_type": "stream",
     "text": [
      "C:\\Users\\Takashi\\Miniconda3\\lib\\site-packages\\sklearn\\metrics\\scorer.py:127: DeprecationWarning: Scoring method log_loss was renamed to neg_log_loss in version 0.18 and will be removed in 0.20.\n",
      "  sample_weight=sample_weight)\n",
      "C:\\Users\\Takashi\\Miniconda3\\lib\\site-packages\\sklearn\\metrics\\scorer.py:127: DeprecationWarning: Scoring method log_loss was renamed to neg_log_loss in version 0.18 and will be removed in 0.20.\n",
      "  sample_weight=sample_weight)\n",
      "C:\\Users\\Takashi\\Miniconda3\\lib\\site-packages\\sklearn\\metrics\\scorer.py:127: DeprecationWarning: Scoring method log_loss was renamed to neg_log_loss in version 0.18 and will be removed in 0.20.\n",
      "  sample_weight=sample_weight)\n"
     ]
    },
    {
     "name": "stdout",
     "output_type": "stream",
     "text": [
      "[CV]  max_depth=7, colsample_bytree=0.894356931431, subsample=0.947539758222 -   0.0s\n",
      "[CV] max_depth=4, colsample_bytree=0.531093409468, subsample=0.592960386768 \n",
      "[CV]  max_depth=4, colsample_bytree=0.531093409468, subsample=0.592960386768 -   0.0s\n",
      "[CV] max_depth=4, colsample_bytree=0.531093409468, subsample=0.592960386768 \n",
      "[CV]  max_depth=4, colsample_bytree=0.531093409468, subsample=0.592960386768 -   0.0s\n",
      "[CV] max_depth=4, colsample_bytree=0.531093409468, subsample=0.592960386768 \n",
      "[CV]  max_depth=4, colsample_bytree=0.531093409468, subsample=0.592960386768 -   0.0s\n",
      "[CV] max_depth=4, colsample_bytree=0.531093409468, subsample=0.592960386768 \n"
     ]
    },
    {
     "name": "stderr",
     "output_type": "stream",
     "text": [
      "C:\\Users\\Takashi\\Miniconda3\\lib\\site-packages\\sklearn\\metrics\\scorer.py:127: DeprecationWarning: Scoring method log_loss was renamed to neg_log_loss in version 0.18 and will be removed in 0.20.\n",
      "  sample_weight=sample_weight)\n",
      "C:\\Users\\Takashi\\Miniconda3\\lib\\site-packages\\sklearn\\metrics\\scorer.py:127: DeprecationWarning: Scoring method log_loss was renamed to neg_log_loss in version 0.18 and will be removed in 0.20.\n",
      "  sample_weight=sample_weight)\n",
      "C:\\Users\\Takashi\\Miniconda3\\lib\\site-packages\\sklearn\\metrics\\scorer.py:127: DeprecationWarning: Scoring method log_loss was renamed to neg_log_loss in version 0.18 and will be removed in 0.20.\n",
      "  sample_weight=sample_weight)\n",
      "C:\\Users\\Takashi\\Miniconda3\\lib\\site-packages\\sklearn\\metrics\\scorer.py:127: DeprecationWarning: Scoring method log_loss was renamed to neg_log_loss in version 0.18 and will be removed in 0.20.\n",
      "  sample_weight=sample_weight)\n"
     ]
    },
    {
     "name": "stdout",
     "output_type": "stream",
     "text": [
      "[CV]  max_depth=4, colsample_bytree=0.531093409468, subsample=0.592960386768 -   0.0s\n",
      "[CV] max_depth=4, colsample_bytree=0.531093409468, subsample=0.592960386768 \n",
      "[CV]  max_depth=4, colsample_bytree=0.531093409468, subsample=0.592960386768 -   0.0s\n",
      "[CV] max_depth=4, colsample_bytree=0.531093409468, subsample=0.592960386768 \n",
      "[CV]  max_depth=4, colsample_bytree=0.531093409468, subsample=0.592960386768 -   0.0s\n",
      "[CV] max_depth=4, colsample_bytree=0.531093409468, subsample=0.592960386768 \n",
      "[CV]  max_depth=4, colsample_bytree=0.531093409468, subsample=0.592960386768 -   0.0s\n",
      "[CV] max_depth=4, colsample_bytree=0.531093409468, subsample=0.592960386768 \n"
     ]
    },
    {
     "name": "stderr",
     "output_type": "stream",
     "text": [
      "C:\\Users\\Takashi\\Miniconda3\\lib\\site-packages\\sklearn\\metrics\\scorer.py:127: DeprecationWarning: Scoring method log_loss was renamed to neg_log_loss in version 0.18 and will be removed in 0.20.\n",
      "  sample_weight=sample_weight)\n",
      "C:\\Users\\Takashi\\Miniconda3\\lib\\site-packages\\sklearn\\metrics\\scorer.py:127: DeprecationWarning: Scoring method log_loss was renamed to neg_log_loss in version 0.18 and will be removed in 0.20.\n",
      "  sample_weight=sample_weight)\n",
      "C:\\Users\\Takashi\\Miniconda3\\lib\\site-packages\\sklearn\\metrics\\scorer.py:127: DeprecationWarning: Scoring method log_loss was renamed to neg_log_loss in version 0.18 and will be removed in 0.20.\n",
      "  sample_weight=sample_weight)\n",
      "C:\\Users\\Takashi\\Miniconda3\\lib\\site-packages\\sklearn\\metrics\\scorer.py:127: DeprecationWarning: Scoring method log_loss was renamed to neg_log_loss in version 0.18 and will be removed in 0.20.\n",
      "  sample_weight=sample_weight)\n"
     ]
    },
    {
     "name": "stdout",
     "output_type": "stream",
     "text": [
      "[CV]  max_depth=4, colsample_bytree=0.531093409468, subsample=0.592960386768 -   0.0s\n",
      "[CV] max_depth=4, colsample_bytree=0.531093409468, subsample=0.592960386768 \n",
      "[CV]  max_depth=4, colsample_bytree=0.531093409468, subsample=0.592960386768 -   0.0s\n",
      "[CV] max_depth=4, colsample_bytree=0.531093409468, subsample=0.592960386768 \n",
      "[CV]  max_depth=4, colsample_bytree=0.531093409468, subsample=0.592960386768 -   0.0s\n",
      "[CV] max_depth=3, colsample_bytree=0.649741495702, subsample=0.652280010383 \n",
      "[CV]  max_depth=3, colsample_bytree=0.649741495702, subsample=0.652280010383 -   0.0s\n",
      "[CV] max_depth=3, colsample_bytree=0.649741495702, subsample=0.652280010383 \n",
      "[CV]  max_depth=3, colsample_bytree=0.649741495702, subsample=0.652280010383 -   0.0s\n",
      "[CV] max_depth=3, colsample_bytree=0.649741495702, subsample=0.652280010383 \n"
     ]
    },
    {
     "name": "stderr",
     "output_type": "stream",
     "text": [
      "C:\\Users\\Takashi\\Miniconda3\\lib\\site-packages\\sklearn\\metrics\\scorer.py:127: DeprecationWarning: Scoring method log_loss was renamed to neg_log_loss in version 0.18 and will be removed in 0.20.\n",
      "  sample_weight=sample_weight)\n",
      "C:\\Users\\Takashi\\Miniconda3\\lib\\site-packages\\sklearn\\metrics\\scorer.py:127: DeprecationWarning: Scoring method log_loss was renamed to neg_log_loss in version 0.18 and will be removed in 0.20.\n",
      "  sample_weight=sample_weight)\n",
      "C:\\Users\\Takashi\\Miniconda3\\lib\\site-packages\\sklearn\\metrics\\scorer.py:127: DeprecationWarning: Scoring method log_loss was renamed to neg_log_loss in version 0.18 and will be removed in 0.20.\n",
      "  sample_weight=sample_weight)\n",
      "C:\\Users\\Takashi\\Miniconda3\\lib\\site-packages\\sklearn\\metrics\\scorer.py:127: DeprecationWarning: Scoring method log_loss was renamed to neg_log_loss in version 0.18 and will be removed in 0.20.\n",
      "  sample_weight=sample_weight)\n",
      "C:\\Users\\Takashi\\Miniconda3\\lib\\site-packages\\sklearn\\metrics\\scorer.py:127: DeprecationWarning: Scoring method log_loss was renamed to neg_log_loss in version 0.18 and will be removed in 0.20.\n",
      "  sample_weight=sample_weight)\n"
     ]
    },
    {
     "name": "stdout",
     "output_type": "stream",
     "text": [
      "[CV]  max_depth=3, colsample_bytree=0.649741495702, subsample=0.652280010383 -   0.0s\n",
      "[CV] max_depth=3, colsample_bytree=0.649741495702, subsample=0.652280010383 \n",
      "[CV]  max_depth=3, colsample_bytree=0.649741495702, subsample=0.652280010383 -   0.0s\n",
      "[CV] max_depth=3, colsample_bytree=0.649741495702, subsample=0.652280010383 \n",
      "[CV]  max_depth=3, colsample_bytree=0.649741495702, subsample=0.652280010383 -   0.0s\n",
      "[CV] max_depth=3, colsample_bytree=0.649741495702, subsample=0.652280010383 \n",
      "[CV]  max_depth=3, colsample_bytree=0.649741495702, subsample=0.652280010383 -   0.0s\n",
      "[CV] max_depth=3, colsample_bytree=0.649741495702, subsample=0.652280010383 \n",
      "[CV]  max_depth=3, colsample_bytree=0.649741495702, subsample=0.652280010383 -   0.0s\n",
      "[CV] max_depth=3, colsample_bytree=0.649741495702, subsample=0.652280010383 \n"
     ]
    },
    {
     "name": "stderr",
     "output_type": "stream",
     "text": [
      "C:\\Users\\Takashi\\Miniconda3\\lib\\site-packages\\sklearn\\metrics\\scorer.py:127: DeprecationWarning: Scoring method log_loss was renamed to neg_log_loss in version 0.18 and will be removed in 0.20.\n",
      "  sample_weight=sample_weight)\n",
      "C:\\Users\\Takashi\\Miniconda3\\lib\\site-packages\\sklearn\\metrics\\scorer.py:127: DeprecationWarning: Scoring method log_loss was renamed to neg_log_loss in version 0.18 and will be removed in 0.20.\n",
      "  sample_weight=sample_weight)\n",
      "C:\\Users\\Takashi\\Miniconda3\\lib\\site-packages\\sklearn\\metrics\\scorer.py:127: DeprecationWarning: Scoring method log_loss was renamed to neg_log_loss in version 0.18 and will be removed in 0.20.\n",
      "  sample_weight=sample_weight)\n",
      "C:\\Users\\Takashi\\Miniconda3\\lib\\site-packages\\sklearn\\metrics\\scorer.py:127: DeprecationWarning: Scoring method log_loss was renamed to neg_log_loss in version 0.18 and will be removed in 0.20.\n",
      "  sample_weight=sample_weight)\n",
      "C:\\Users\\Takashi\\Miniconda3\\lib\\site-packages\\sklearn\\metrics\\scorer.py:127: DeprecationWarning: Scoring method log_loss was renamed to neg_log_loss in version 0.18 and will be removed in 0.20.\n",
      "  sample_weight=sample_weight)\n"
     ]
    },
    {
     "name": "stdout",
     "output_type": "stream",
     "text": [
      "[CV]  max_depth=3, colsample_bytree=0.649741495702, subsample=0.652280010383 -   0.0s\n",
      "[CV] max_depth=3, colsample_bytree=0.649741495702, subsample=0.652280010383 \n",
      "[CV]  max_depth=3, colsample_bytree=0.649741495702, subsample=0.652280010383 -   0.0s\n",
      "[CV] max_depth=3, colsample_bytree=0.649741495702, subsample=0.652280010383 \n",
      "[CV]  max_depth=3, colsample_bytree=0.649741495702, subsample=0.652280010383 -   0.0s\n",
      "[CV] max_depth=9, colsample_bytree=0.769280687389, subsample=0.674703107391 \n",
      "[CV]  max_depth=9, colsample_bytree=0.769280687389, subsample=0.674703107391 -   0.0s\n",
      "[CV] max_depth=9, colsample_bytree=0.769280687389, subsample=0.674703107391 \n"
     ]
    },
    {
     "name": "stderr",
     "output_type": "stream",
     "text": [
      "C:\\Users\\Takashi\\Miniconda3\\lib\\site-packages\\sklearn\\metrics\\scorer.py:127: DeprecationWarning: Scoring method log_loss was renamed to neg_log_loss in version 0.18 and will be removed in 0.20.\n",
      "  sample_weight=sample_weight)\n",
      "C:\\Users\\Takashi\\Miniconda3\\lib\\site-packages\\sklearn\\metrics\\scorer.py:127: DeprecationWarning: Scoring method log_loss was renamed to neg_log_loss in version 0.18 and will be removed in 0.20.\n",
      "  sample_weight=sample_weight)\n",
      "C:\\Users\\Takashi\\Miniconda3\\lib\\site-packages\\sklearn\\metrics\\scorer.py:127: DeprecationWarning: Scoring method log_loss was renamed to neg_log_loss in version 0.18 and will be removed in 0.20.\n",
      "  sample_weight=sample_weight)\n",
      "C:\\Users\\Takashi\\Miniconda3\\lib\\site-packages\\sklearn\\metrics\\scorer.py:127: DeprecationWarning: Scoring method log_loss was renamed to neg_log_loss in version 0.18 and will be removed in 0.20.\n",
      "  sample_weight=sample_weight)\n"
     ]
    },
    {
     "name": "stdout",
     "output_type": "stream",
     "text": [
      "[CV]  max_depth=9, colsample_bytree=0.769280687389, subsample=0.674703107391 -   0.0s\n",
      "[CV] max_depth=9, colsample_bytree=0.769280687389, subsample=0.674703107391 \n",
      "[CV]  max_depth=9, colsample_bytree=0.769280687389, subsample=0.674703107391 -   0.0s\n",
      "[CV] max_depth=9, colsample_bytree=0.769280687389, subsample=0.674703107391 \n"
     ]
    },
    {
     "name": "stderr",
     "output_type": "stream",
     "text": [
      "C:\\Users\\Takashi\\Miniconda3\\lib\\site-packages\\sklearn\\metrics\\scorer.py:127: DeprecationWarning: Scoring method log_loss was renamed to neg_log_loss in version 0.18 and will be removed in 0.20.\n",
      "  sample_weight=sample_weight)\n",
      "C:\\Users\\Takashi\\Miniconda3\\lib\\site-packages\\sklearn\\metrics\\scorer.py:127: DeprecationWarning: Scoring method log_loss was renamed to neg_log_loss in version 0.18 and will be removed in 0.20.\n",
      "  sample_weight=sample_weight)\n"
     ]
    },
    {
     "name": "stdout",
     "output_type": "stream",
     "text": [
      "[CV]  max_depth=9, colsample_bytree=0.769280687389, subsample=0.674703107391 -   0.0s\n",
      "[CV] max_depth=9, colsample_bytree=0.769280687389, subsample=0.674703107391 \n",
      "[CV]  max_depth=9, colsample_bytree=0.769280687389, subsample=0.674703107391 -   0.0s\n",
      "[CV] max_depth=9, colsample_bytree=0.769280687389, subsample=0.674703107391 \n"
     ]
    },
    {
     "name": "stderr",
     "output_type": "stream",
     "text": [
      "C:\\Users\\Takashi\\Miniconda3\\lib\\site-packages\\sklearn\\metrics\\scorer.py:127: DeprecationWarning: Scoring method log_loss was renamed to neg_log_loss in version 0.18 and will be removed in 0.20.\n",
      "  sample_weight=sample_weight)\n",
      "C:\\Users\\Takashi\\Miniconda3\\lib\\site-packages\\sklearn\\metrics\\scorer.py:127: DeprecationWarning: Scoring method log_loss was renamed to neg_log_loss in version 0.18 and will be removed in 0.20.\n",
      "  sample_weight=sample_weight)\n"
     ]
    },
    {
     "name": "stdout",
     "output_type": "stream",
     "text": [
      "[CV]  max_depth=9, colsample_bytree=0.769280687389, subsample=0.674703107391 -   0.0s\n",
      "[CV] max_depth=9, colsample_bytree=0.769280687389, subsample=0.674703107391 \n",
      "[CV]  max_depth=9, colsample_bytree=0.769280687389, subsample=0.674703107391 -   0.0s\n",
      "[CV] max_depth=9, colsample_bytree=0.769280687389, subsample=0.674703107391 \n"
     ]
    },
    {
     "name": "stderr",
     "output_type": "stream",
     "text": [
      "C:\\Users\\Takashi\\Miniconda3\\lib\\site-packages\\sklearn\\metrics\\scorer.py:127: DeprecationWarning: Scoring method log_loss was renamed to neg_log_loss in version 0.18 and will be removed in 0.20.\n",
      "  sample_weight=sample_weight)\n",
      "C:\\Users\\Takashi\\Miniconda3\\lib\\site-packages\\sklearn\\metrics\\scorer.py:127: DeprecationWarning: Scoring method log_loss was renamed to neg_log_loss in version 0.18 and will be removed in 0.20.\n",
      "  sample_weight=sample_weight)\n"
     ]
    },
    {
     "name": "stdout",
     "output_type": "stream",
     "text": [
      "[CV]  max_depth=9, colsample_bytree=0.769280687389, subsample=0.674703107391 -   0.0s\n",
      "[CV] max_depth=9, colsample_bytree=0.769280687389, subsample=0.674703107391 \n",
      "[CV]  max_depth=9, colsample_bytree=0.769280687389, subsample=0.674703107391 -   0.0s\n",
      "[CV] max_depth=9, colsample_bytree=0.769280687389, subsample=0.674703107391 \n"
     ]
    },
    {
     "name": "stderr",
     "output_type": "stream",
     "text": [
      "C:\\Users\\Takashi\\Miniconda3\\lib\\site-packages\\sklearn\\metrics\\scorer.py:127: DeprecationWarning: Scoring method log_loss was renamed to neg_log_loss in version 0.18 and will be removed in 0.20.\n",
      "  sample_weight=sample_weight)\n",
      "C:\\Users\\Takashi\\Miniconda3\\lib\\site-packages\\sklearn\\metrics\\scorer.py:127: DeprecationWarning: Scoring method log_loss was renamed to neg_log_loss in version 0.18 and will be removed in 0.20.\n",
      "  sample_weight=sample_weight)\n",
      "C:\\Users\\Takashi\\Miniconda3\\lib\\site-packages\\sklearn\\metrics\\scorer.py:127: DeprecationWarning: Scoring method log_loss was renamed to neg_log_loss in version 0.18 and will be removed in 0.20.\n",
      "  sample_weight=sample_weight)\n"
     ]
    },
    {
     "name": "stdout",
     "output_type": "stream",
     "text": [
      "[CV]  max_depth=9, colsample_bytree=0.769280687389, subsample=0.674703107391 -   0.0s\n",
      "[CV] max_depth=6, colsample_bytree=0.501693854991, subsample=0.641307365226 \n",
      "[CV]  max_depth=6, colsample_bytree=0.501693854991, subsample=0.641307365226 -   0.0s\n",
      "[CV] max_depth=6, colsample_bytree=0.501693854991, subsample=0.641307365226 \n",
      "[CV]  max_depth=6, colsample_bytree=0.501693854991, subsample=0.641307365226 -   0.0s\n",
      "[CV] max_depth=6, colsample_bytree=0.501693854991, subsample=0.641307365226 \n"
     ]
    },
    {
     "name": "stderr",
     "output_type": "stream",
     "text": [
      "C:\\Users\\Takashi\\Miniconda3\\lib\\site-packages\\sklearn\\metrics\\scorer.py:127: DeprecationWarning: Scoring method log_loss was renamed to neg_log_loss in version 0.18 and will be removed in 0.20.\n",
      "  sample_weight=sample_weight)\n",
      "C:\\Users\\Takashi\\Miniconda3\\lib\\site-packages\\sklearn\\metrics\\scorer.py:127: DeprecationWarning: Scoring method log_loss was renamed to neg_log_loss in version 0.18 and will be removed in 0.20.\n",
      "  sample_weight=sample_weight)\n",
      "C:\\Users\\Takashi\\Miniconda3\\lib\\site-packages\\sklearn\\metrics\\scorer.py:127: DeprecationWarning: Scoring method log_loss was renamed to neg_log_loss in version 0.18 and will be removed in 0.20.\n",
      "  sample_weight=sample_weight)\n"
     ]
    },
    {
     "name": "stdout",
     "output_type": "stream",
     "text": [
      "[CV]  max_depth=6, colsample_bytree=0.501693854991, subsample=0.641307365226 -   0.0s\n",
      "[CV] max_depth=6, colsample_bytree=0.501693854991, subsample=0.641307365226 \n",
      "[CV]  max_depth=6, colsample_bytree=0.501693854991, subsample=0.641307365226 -   0.0s\n",
      "[CV] max_depth=6, colsample_bytree=0.501693854991, subsample=0.641307365226 \n",
      "[CV]  max_depth=6, colsample_bytree=0.501693854991, subsample=0.641307365226 -   0.0s\n",
      "[CV] max_depth=6, colsample_bytree=0.501693854991, subsample=0.641307365226 \n"
     ]
    },
    {
     "name": "stderr",
     "output_type": "stream",
     "text": [
      "C:\\Users\\Takashi\\Miniconda3\\lib\\site-packages\\sklearn\\metrics\\scorer.py:127: DeprecationWarning: Scoring method log_loss was renamed to neg_log_loss in version 0.18 and will be removed in 0.20.\n",
      "  sample_weight=sample_weight)\n",
      "C:\\Users\\Takashi\\Miniconda3\\lib\\site-packages\\sklearn\\metrics\\scorer.py:127: DeprecationWarning: Scoring method log_loss was renamed to neg_log_loss in version 0.18 and will be removed in 0.20.\n",
      "  sample_weight=sample_weight)\n",
      "C:\\Users\\Takashi\\Miniconda3\\lib\\site-packages\\sklearn\\metrics\\scorer.py:127: DeprecationWarning: Scoring method log_loss was renamed to neg_log_loss in version 0.18 and will be removed in 0.20.\n",
      "  sample_weight=sample_weight)\n"
     ]
    },
    {
     "name": "stdout",
     "output_type": "stream",
     "text": [
      "[CV]  max_depth=6, colsample_bytree=0.501693854991, subsample=0.641307365226 -   0.0s\n",
      "[CV] max_depth=6, colsample_bytree=0.501693854991, subsample=0.641307365226 \n",
      "[CV]  max_depth=6, colsample_bytree=0.501693854991, subsample=0.641307365226 -   0.0s\n",
      "[CV] max_depth=6, colsample_bytree=0.501693854991, subsample=0.641307365226 \n",
      "[CV]  max_depth=6, colsample_bytree=0.501693854991, subsample=0.641307365226 -   0.0s\n",
      "[CV] max_depth=6, colsample_bytree=0.501693854991, subsample=0.641307365226 \n"
     ]
    },
    {
     "name": "stderr",
     "output_type": "stream",
     "text": [
      "C:\\Users\\Takashi\\Miniconda3\\lib\\site-packages\\sklearn\\metrics\\scorer.py:127: DeprecationWarning: Scoring method log_loss was renamed to neg_log_loss in version 0.18 and will be removed in 0.20.\n",
      "  sample_weight=sample_weight)\n",
      "C:\\Users\\Takashi\\Miniconda3\\lib\\site-packages\\sklearn\\metrics\\scorer.py:127: DeprecationWarning: Scoring method log_loss was renamed to neg_log_loss in version 0.18 and will be removed in 0.20.\n",
      "  sample_weight=sample_weight)\n",
      "C:\\Users\\Takashi\\Miniconda3\\lib\\site-packages\\sklearn\\metrics\\scorer.py:127: DeprecationWarning: Scoring method log_loss was renamed to neg_log_loss in version 0.18 and will be removed in 0.20.\n",
      "  sample_weight=sample_weight)\n"
     ]
    },
    {
     "name": "stdout",
     "output_type": "stream",
     "text": [
      "[CV]  max_depth=6, colsample_bytree=0.501693854991, subsample=0.641307365226 -   0.0s\n",
      "[CV] max_depth=6, colsample_bytree=0.501693854991, subsample=0.641307365226 \n",
      "[CV]  max_depth=6, colsample_bytree=0.501693854991, subsample=0.641307365226 -   0.0s\n",
      "[CV] max_depth=5, colsample_bytree=0.801032581436, subsample=0.868915364687 \n",
      "[CV]  max_depth=5, colsample_bytree=0.801032581436, subsample=0.868915364687 -   0.0s\n",
      "[CV] max_depth=5, colsample_bytree=0.801032581436, subsample=0.868915364687 \n"
     ]
    },
    {
     "name": "stderr",
     "output_type": "stream",
     "text": [
      "C:\\Users\\Takashi\\Miniconda3\\lib\\site-packages\\sklearn\\metrics\\scorer.py:127: DeprecationWarning: Scoring method log_loss was renamed to neg_log_loss in version 0.18 and will be removed in 0.20.\n",
      "  sample_weight=sample_weight)\n",
      "C:\\Users\\Takashi\\Miniconda3\\lib\\site-packages\\sklearn\\metrics\\scorer.py:127: DeprecationWarning: Scoring method log_loss was renamed to neg_log_loss in version 0.18 and will be removed in 0.20.\n",
      "  sample_weight=sample_weight)\n",
      "C:\\Users\\Takashi\\Miniconda3\\lib\\site-packages\\sklearn\\metrics\\scorer.py:127: DeprecationWarning: Scoring method log_loss was renamed to neg_log_loss in version 0.18 and will be removed in 0.20.\n",
      "  sample_weight=sample_weight)\n"
     ]
    },
    {
     "name": "stdout",
     "output_type": "stream",
     "text": [
      "[CV]  max_depth=5, colsample_bytree=0.801032581436, subsample=0.868915364687 -   0.0s\n",
      "[CV] max_depth=5, colsample_bytree=0.801032581436, subsample=0.868915364687 \n",
      "[CV]  max_depth=5, colsample_bytree=0.801032581436, subsample=0.868915364687 -   0.0s\n",
      "[CV] max_depth=5, colsample_bytree=0.801032581436, subsample=0.868915364687 \n",
      "[CV]  max_depth=5, colsample_bytree=0.801032581436, subsample=0.868915364687 -   0.0s\n",
      "[CV] max_depth=5, colsample_bytree=0.801032581436, subsample=0.868915364687 \n"
     ]
    },
    {
     "name": "stderr",
     "output_type": "stream",
     "text": [
      "C:\\Users\\Takashi\\Miniconda3\\lib\\site-packages\\sklearn\\metrics\\scorer.py:127: DeprecationWarning: Scoring method log_loss was renamed to neg_log_loss in version 0.18 and will be removed in 0.20.\n",
      "  sample_weight=sample_weight)\n",
      "C:\\Users\\Takashi\\Miniconda3\\lib\\site-packages\\sklearn\\metrics\\scorer.py:127: DeprecationWarning: Scoring method log_loss was renamed to neg_log_loss in version 0.18 and will be removed in 0.20.\n",
      "  sample_weight=sample_weight)\n",
      "C:\\Users\\Takashi\\Miniconda3\\lib\\site-packages\\sklearn\\metrics\\scorer.py:127: DeprecationWarning: Scoring method log_loss was renamed to neg_log_loss in version 0.18 and will be removed in 0.20.\n",
      "  sample_weight=sample_weight)\n",
      "C:\\Users\\Takashi\\Miniconda3\\lib\\site-packages\\sklearn\\metrics\\scorer.py:127: DeprecationWarning: Scoring method log_loss was renamed to neg_log_loss in version 0.18 and will be removed in 0.20.\n",
      "  sample_weight=sample_weight)\n"
     ]
    },
    {
     "name": "stdout",
     "output_type": "stream",
     "text": [
      "[CV]  max_depth=5, colsample_bytree=0.801032581436, subsample=0.868915364687 -   0.0s\n",
      "[CV] max_depth=5, colsample_bytree=0.801032581436, subsample=0.868915364687 \n",
      "[CV]  max_depth=5, colsample_bytree=0.801032581436, subsample=0.868915364687 -   0.0s\n",
      "[CV] max_depth=5, colsample_bytree=0.801032581436, subsample=0.868915364687 \n",
      "[CV]  max_depth=5, colsample_bytree=0.801032581436, subsample=0.868915364687 -   0.0s\n",
      "[CV] max_depth=5, colsample_bytree=0.801032581436, subsample=0.868915364687 \n",
      "[CV]  max_depth=5, colsample_bytree=0.801032581436, subsample=0.868915364687 -   0.0s\n",
      "[CV] max_depth=5, colsample_bytree=0.801032581436, subsample=0.868915364687 \n"
     ]
    },
    {
     "name": "stderr",
     "output_type": "stream",
     "text": [
      "C:\\Users\\Takashi\\Miniconda3\\lib\\site-packages\\sklearn\\metrics\\scorer.py:127: DeprecationWarning: Scoring method log_loss was renamed to neg_log_loss in version 0.18 and will be removed in 0.20.\n",
      "  sample_weight=sample_weight)\n",
      "C:\\Users\\Takashi\\Miniconda3\\lib\\site-packages\\sklearn\\metrics\\scorer.py:127: DeprecationWarning: Scoring method log_loss was renamed to neg_log_loss in version 0.18 and will be removed in 0.20.\n",
      "  sample_weight=sample_weight)\n",
      "C:\\Users\\Takashi\\Miniconda3\\lib\\site-packages\\sklearn\\metrics\\scorer.py:127: DeprecationWarning: Scoring method log_loss was renamed to neg_log_loss in version 0.18 and will be removed in 0.20.\n",
      "  sample_weight=sample_weight)\n"
     ]
    },
    {
     "name": "stdout",
     "output_type": "stream",
     "text": [
      "[CV]  max_depth=5, colsample_bytree=0.801032581436, subsample=0.868915364687 -   0.0s\n",
      "[CV] max_depth=5, colsample_bytree=0.801032581436, subsample=0.868915364687 \n",
      "[CV]  max_depth=5, colsample_bytree=0.801032581436, subsample=0.868915364687 -   0.0s\n",
      "[CV] max_depth=8, colsample_bytree=0.770148192431, subsample=0.552273081402 \n",
      "[CV]  max_depth=8, colsample_bytree=0.770148192431, subsample=0.552273081402 -   0.0s\n",
      "[CV] max_depth=8, colsample_bytree=0.770148192431, subsample=0.552273081402 \n"
     ]
    },
    {
     "name": "stderr",
     "output_type": "stream",
     "text": [
      "C:\\Users\\Takashi\\Miniconda3\\lib\\site-packages\\sklearn\\metrics\\scorer.py:127: DeprecationWarning: Scoring method log_loss was renamed to neg_log_loss in version 0.18 and will be removed in 0.20.\n",
      "  sample_weight=sample_weight)\n",
      "C:\\Users\\Takashi\\Miniconda3\\lib\\site-packages\\sklearn\\metrics\\scorer.py:127: DeprecationWarning: Scoring method log_loss was renamed to neg_log_loss in version 0.18 and will be removed in 0.20.\n",
      "  sample_weight=sample_weight)\n",
      "C:\\Users\\Takashi\\Miniconda3\\lib\\site-packages\\sklearn\\metrics\\scorer.py:127: DeprecationWarning: Scoring method log_loss was renamed to neg_log_loss in version 0.18 and will be removed in 0.20.\n",
      "  sample_weight=sample_weight)\n"
     ]
    },
    {
     "name": "stdout",
     "output_type": "stream",
     "text": [
      "[CV]  max_depth=8, colsample_bytree=0.770148192431, subsample=0.552273081402 -   0.0s\n",
      "[CV] max_depth=8, colsample_bytree=0.770148192431, subsample=0.552273081402 \n",
      "[CV]  max_depth=8, colsample_bytree=0.770148192431, subsample=0.552273081402 -   0.0s\n",
      "[CV] max_depth=8, colsample_bytree=0.770148192431, subsample=0.552273081402 \n",
      "[CV]  max_depth=8, colsample_bytree=0.770148192431, subsample=0.552273081402 -   0.0s\n",
      "[CV] max_depth=8, colsample_bytree=0.770148192431, subsample=0.552273081402 \n"
     ]
    },
    {
     "name": "stderr",
     "output_type": "stream",
     "text": [
      "C:\\Users\\Takashi\\Miniconda3\\lib\\site-packages\\sklearn\\metrics\\scorer.py:127: DeprecationWarning: Scoring method log_loss was renamed to neg_log_loss in version 0.18 and will be removed in 0.20.\n",
      "  sample_weight=sample_weight)\n",
      "C:\\Users\\Takashi\\Miniconda3\\lib\\site-packages\\sklearn\\metrics\\scorer.py:127: DeprecationWarning: Scoring method log_loss was renamed to neg_log_loss in version 0.18 and will be removed in 0.20.\n",
      "  sample_weight=sample_weight)\n",
      "C:\\Users\\Takashi\\Miniconda3\\lib\\site-packages\\sklearn\\metrics\\scorer.py:127: DeprecationWarning: Scoring method log_loss was renamed to neg_log_loss in version 0.18 and will be removed in 0.20.\n",
      "  sample_weight=sample_weight)\n"
     ]
    },
    {
     "name": "stdout",
     "output_type": "stream",
     "text": [
      "[CV]  max_depth=8, colsample_bytree=0.770148192431, subsample=0.552273081402 -   0.0s\n",
      "[CV] max_depth=8, colsample_bytree=0.770148192431, subsample=0.552273081402 \n",
      "[CV]  max_depth=8, colsample_bytree=0.770148192431, subsample=0.552273081402 -   0.0s\n",
      "[CV] max_depth=8, colsample_bytree=0.770148192431, subsample=0.552273081402 \n",
      "[CV]  max_depth=8, colsample_bytree=0.770148192431, subsample=0.552273081402 -   0.0s\n",
      "[CV] max_depth=8, colsample_bytree=0.770148192431, subsample=0.552273081402 \n"
     ]
    },
    {
     "name": "stderr",
     "output_type": "stream",
     "text": [
      "C:\\Users\\Takashi\\Miniconda3\\lib\\site-packages\\sklearn\\metrics\\scorer.py:127: DeprecationWarning: Scoring method log_loss was renamed to neg_log_loss in version 0.18 and will be removed in 0.20.\n",
      "  sample_weight=sample_weight)\n",
      "C:\\Users\\Takashi\\Miniconda3\\lib\\site-packages\\sklearn\\metrics\\scorer.py:127: DeprecationWarning: Scoring method log_loss was renamed to neg_log_loss in version 0.18 and will be removed in 0.20.\n",
      "  sample_weight=sample_weight)\n",
      "C:\\Users\\Takashi\\Miniconda3\\lib\\site-packages\\sklearn\\metrics\\scorer.py:127: DeprecationWarning: Scoring method log_loss was renamed to neg_log_loss in version 0.18 and will be removed in 0.20.\n",
      "  sample_weight=sample_weight)\n"
     ]
    },
    {
     "name": "stdout",
     "output_type": "stream",
     "text": [
      "[CV]  max_depth=8, colsample_bytree=0.770148192431, subsample=0.552273081402 -   0.0s\n",
      "[CV] max_depth=8, colsample_bytree=0.770148192431, subsample=0.552273081402 \n",
      "[CV]  max_depth=8, colsample_bytree=0.770148192431, subsample=0.552273081402 -   0.0s\n",
      "[CV] max_depth=8, colsample_bytree=0.770148192431, subsample=0.552273081402 \n",
      "[CV]  max_depth=8, colsample_bytree=0.770148192431, subsample=0.552273081402 -   0.0s\n",
      "[CV] max_depth=1, colsample_bytree=0.979423880819, subsample=0.81464232582 \n"
     ]
    },
    {
     "name": "stderr",
     "output_type": "stream",
     "text": [
      "C:\\Users\\Takashi\\Miniconda3\\lib\\site-packages\\sklearn\\metrics\\scorer.py:127: DeprecationWarning: Scoring method log_loss was renamed to neg_log_loss in version 0.18 and will be removed in 0.20.\n",
      "  sample_weight=sample_weight)\n",
      "C:\\Users\\Takashi\\Miniconda3\\lib\\site-packages\\sklearn\\metrics\\scorer.py:127: DeprecationWarning: Scoring method log_loss was renamed to neg_log_loss in version 0.18 and will be removed in 0.20.\n",
      "  sample_weight=sample_weight)\n",
      "C:\\Users\\Takashi\\Miniconda3\\lib\\site-packages\\sklearn\\metrics\\scorer.py:127: DeprecationWarning: Scoring method log_loss was renamed to neg_log_loss in version 0.18 and will be removed in 0.20.\n",
      "  sample_weight=sample_weight)\n",
      "C:\\Users\\Takashi\\Miniconda3\\lib\\site-packages\\sklearn\\metrics\\scorer.py:127: DeprecationWarning: Scoring method log_loss was renamed to neg_log_loss in version 0.18 and will be removed in 0.20.\n",
      "  sample_weight=sample_weight)\n",
      "C:\\Users\\Takashi\\Miniconda3\\lib\\site-packages\\sklearn\\metrics\\scorer.py:127: DeprecationWarning: Scoring method log_loss was renamed to neg_log_loss in version 0.18 and will be removed in 0.20.\n",
      "  sample_weight=sample_weight)\n",
      "C:\\Users\\Takashi\\Miniconda3\\lib\\site-packages\\sklearn\\metrics\\scorer.py:127: DeprecationWarning: Scoring method log_loss was renamed to neg_log_loss in version 0.18 and will be removed in 0.20.\n",
      "  sample_weight=sample_weight)\n",
      "C:\\Users\\Takashi\\Miniconda3\\lib\\site-packages\\sklearn\\metrics\\scorer.py:127: DeprecationWarning: Scoring method log_loss was renamed to neg_log_loss in version 0.18 and will be removed in 0.20.\n",
      "  sample_weight=sample_weight)\n",
      "C:\\Users\\Takashi\\Miniconda3\\lib\\site-packages\\sklearn\\metrics\\scorer.py:127: DeprecationWarning: Scoring method log_loss was renamed to neg_log_loss in version 0.18 and will be removed in 0.20.\n",
      "  sample_weight=sample_weight)\n"
     ]
    },
    {
     "name": "stdout",
     "output_type": "stream",
     "text": [
      "[CV]  max_depth=1, colsample_bytree=0.979423880819, subsample=0.81464232582 -   0.0s\n",
      "[CV] max_depth=1, colsample_bytree=0.979423880819, subsample=0.81464232582 \n",
      "[CV]  max_depth=1, colsample_bytree=0.979423880819, subsample=0.81464232582 -   0.0s\n",
      "[CV] max_depth=1, colsample_bytree=0.979423880819, subsample=0.81464232582 \n",
      "[CV]  max_depth=1, colsample_bytree=0.979423880819, subsample=0.81464232582 -   0.0s\n",
      "[CV] max_depth=1, colsample_bytree=0.979423880819, subsample=0.81464232582 \n",
      "[CV]  max_depth=1, colsample_bytree=0.979423880819, subsample=0.81464232582 -   0.0s\n",
      "[CV] max_depth=1, colsample_bytree=0.979423880819, subsample=0.81464232582 \n",
      "[CV]  max_depth=1, colsample_bytree=0.979423880819, subsample=0.81464232582 -   0.0s\n",
      "[CV] max_depth=1, colsample_bytree=0.979423880819, subsample=0.81464232582 \n",
      "[CV]  max_depth=1, colsample_bytree=0.979423880819, subsample=0.81464232582 -   0.0s\n",
      "[CV] max_depth=1, colsample_bytree=0.979423880819, subsample=0.81464232582 \n",
      "[CV]  max_depth=1, colsample_bytree=0.979423880819, subsample=0.81464232582 -   0.0s\n",
      "[CV] max_depth=1, colsample_bytree=0.979423880819, subsample=0.81464232582 \n",
      "[CV]  max_depth=1, colsample_bytree=0.979423880819, subsample=0.81464232582 -   0.0s\n",
      "[CV] max_depth=1, colsample_bytree=0.979423880819, subsample=0.81464232582 \n"
     ]
    },
    {
     "name": "stderr",
     "output_type": "stream",
     "text": [
      "C:\\Users\\Takashi\\Miniconda3\\lib\\site-packages\\sklearn\\metrics\\scorer.py:127: DeprecationWarning: Scoring method log_loss was renamed to neg_log_loss in version 0.18 and will be removed in 0.20.\n",
      "  sample_weight=sample_weight)\n",
      "C:\\Users\\Takashi\\Miniconda3\\lib\\site-packages\\sklearn\\metrics\\scorer.py:127: DeprecationWarning: Scoring method log_loss was renamed to neg_log_loss in version 0.18 and will be removed in 0.20.\n",
      "  sample_weight=sample_weight)\n",
      "C:\\Users\\Takashi\\Miniconda3\\lib\\site-packages\\sklearn\\metrics\\scorer.py:127: DeprecationWarning: Scoring method log_loss was renamed to neg_log_loss in version 0.18 and will be removed in 0.20.\n",
      "  sample_weight=sample_weight)\n",
      "C:\\Users\\Takashi\\Miniconda3\\lib\\site-packages\\sklearn\\metrics\\scorer.py:127: DeprecationWarning: Scoring method log_loss was renamed to neg_log_loss in version 0.18 and will be removed in 0.20.\n",
      "  sample_weight=sample_weight)\n"
     ]
    },
    {
     "name": "stdout",
     "output_type": "stream",
     "text": [
      "[CV]  max_depth=1, colsample_bytree=0.979423880819, subsample=0.81464232582 -   0.0s\n",
      "[CV] max_depth=1, colsample_bytree=0.979423880819, subsample=0.81464232582 \n",
      "[CV]  max_depth=1, colsample_bytree=0.979423880819, subsample=0.81464232582 -   0.0s\n",
      "[CV] max_depth=6, colsample_bytree=0.773265457205, subsample=0.924333281284 \n",
      "[CV]  max_depth=6, colsample_bytree=0.773265457205, subsample=0.924333281284 -   0.0s\n",
      "[CV] max_depth=6, colsample_bytree=0.773265457205, subsample=0.924333281284 \n",
      "[CV]  max_depth=6, colsample_bytree=0.773265457205, subsample=0.924333281284 -   0.0s\n",
      "[CV] max_depth=6, colsample_bytree=0.773265457205, subsample=0.924333281284 \n"
     ]
    },
    {
     "name": "stderr",
     "output_type": "stream",
     "text": [
      "C:\\Users\\Takashi\\Miniconda3\\lib\\site-packages\\sklearn\\metrics\\scorer.py:127: DeprecationWarning: Scoring method log_loss was renamed to neg_log_loss in version 0.18 and will be removed in 0.20.\n",
      "  sample_weight=sample_weight)\n",
      "C:\\Users\\Takashi\\Miniconda3\\lib\\site-packages\\sklearn\\metrics\\scorer.py:127: DeprecationWarning: Scoring method log_loss was renamed to neg_log_loss in version 0.18 and will be removed in 0.20.\n",
      "  sample_weight=sample_weight)\n",
      "C:\\Users\\Takashi\\Miniconda3\\lib\\site-packages\\sklearn\\metrics\\scorer.py:127: DeprecationWarning: Scoring method log_loss was renamed to neg_log_loss in version 0.18 and will be removed in 0.20.\n",
      "  sample_weight=sample_weight)\n"
     ]
    },
    {
     "name": "stdout",
     "output_type": "stream",
     "text": [
      "[CV]  max_depth=6, colsample_bytree=0.773265457205, subsample=0.924333281284 -   0.0s\n",
      "[CV] max_depth=6, colsample_bytree=0.773265457205, subsample=0.924333281284 \n",
      "[CV]  max_depth=6, colsample_bytree=0.773265457205, subsample=0.924333281284 -   0.0s\n",
      "[CV] max_depth=6, colsample_bytree=0.773265457205, subsample=0.924333281284 \n",
      "[CV]  max_depth=6, colsample_bytree=0.773265457205, subsample=0.924333281284 -   0.0s\n",
      "[CV] max_depth=6, colsample_bytree=0.773265457205, subsample=0.924333281284 \n"
     ]
    },
    {
     "name": "stderr",
     "output_type": "stream",
     "text": [
      "C:\\Users\\Takashi\\Miniconda3\\lib\\site-packages\\sklearn\\metrics\\scorer.py:127: DeprecationWarning: Scoring method log_loss was renamed to neg_log_loss in version 0.18 and will be removed in 0.20.\n",
      "  sample_weight=sample_weight)\n",
      "C:\\Users\\Takashi\\Miniconda3\\lib\\site-packages\\sklearn\\metrics\\scorer.py:127: DeprecationWarning: Scoring method log_loss was renamed to neg_log_loss in version 0.18 and will be removed in 0.20.\n",
      "  sample_weight=sample_weight)\n",
      "C:\\Users\\Takashi\\Miniconda3\\lib\\site-packages\\sklearn\\metrics\\scorer.py:127: DeprecationWarning: Scoring method log_loss was renamed to neg_log_loss in version 0.18 and will be removed in 0.20.\n",
      "  sample_weight=sample_weight)\n"
     ]
    },
    {
     "name": "stdout",
     "output_type": "stream",
     "text": [
      "[CV]  max_depth=6, colsample_bytree=0.773265457205, subsample=0.924333281284 -   0.0s\n",
      "[CV] max_depth=6, colsample_bytree=0.773265457205, subsample=0.924333281284 \n",
      "[CV]  max_depth=6, colsample_bytree=0.773265457205, subsample=0.924333281284 -   0.0s\n",
      "[CV] max_depth=6, colsample_bytree=0.773265457205, subsample=0.924333281284 \n",
      "[CV]  max_depth=6, colsample_bytree=0.773265457205, subsample=0.924333281284 -   0.0s\n",
      "[CV] max_depth=6, colsample_bytree=0.773265457205, subsample=0.924333281284 \n"
     ]
    },
    {
     "name": "stderr",
     "output_type": "stream",
     "text": [
      "C:\\Users\\Takashi\\Miniconda3\\lib\\site-packages\\sklearn\\metrics\\scorer.py:127: DeprecationWarning: Scoring method log_loss was renamed to neg_log_loss in version 0.18 and will be removed in 0.20.\n",
      "  sample_weight=sample_weight)\n",
      "C:\\Users\\Takashi\\Miniconda3\\lib\\site-packages\\sklearn\\metrics\\scorer.py:127: DeprecationWarning: Scoring method log_loss was renamed to neg_log_loss in version 0.18 and will be removed in 0.20.\n",
      "  sample_weight=sample_weight)\n",
      "C:\\Users\\Takashi\\Miniconda3\\lib\\site-packages\\sklearn\\metrics\\scorer.py:127: DeprecationWarning: Scoring method log_loss was renamed to neg_log_loss in version 0.18 and will be removed in 0.20.\n",
      "  sample_weight=sample_weight)\n"
     ]
    },
    {
     "name": "stdout",
     "output_type": "stream",
     "text": [
      "[CV]  max_depth=6, colsample_bytree=0.773265457205, subsample=0.924333281284 -   0.0s\n",
      "[CV] max_depth=6, colsample_bytree=0.773265457205, subsample=0.924333281284 \n",
      "[CV]  max_depth=6, colsample_bytree=0.773265457205, subsample=0.924333281284 -   0.0s\n",
      "[CV] max_depth=5, colsample_bytree=0.610650904795, subsample=0.74919842173 \n",
      "[CV]  max_depth=5, colsample_bytree=0.610650904795, subsample=0.74919842173 -   0.0s\n",
      "[CV] max_depth=5, colsample_bytree=0.610650904795, subsample=0.74919842173 \n"
     ]
    },
    {
     "name": "stderr",
     "output_type": "stream",
     "text": [
      "C:\\Users\\Takashi\\Miniconda3\\lib\\site-packages\\sklearn\\metrics\\scorer.py:127: DeprecationWarning: Scoring method log_loss was renamed to neg_log_loss in version 0.18 and will be removed in 0.20.\n",
      "  sample_weight=sample_weight)\n",
      "C:\\Users\\Takashi\\Miniconda3\\lib\\site-packages\\sklearn\\metrics\\scorer.py:127: DeprecationWarning: Scoring method log_loss was renamed to neg_log_loss in version 0.18 and will be removed in 0.20.\n",
      "  sample_weight=sample_weight)\n",
      "C:\\Users\\Takashi\\Miniconda3\\lib\\site-packages\\sklearn\\metrics\\scorer.py:127: DeprecationWarning: Scoring method log_loss was renamed to neg_log_loss in version 0.18 and will be removed in 0.20.\n",
      "  sample_weight=sample_weight)\n",
      "C:\\Users\\Takashi\\Miniconda3\\lib\\site-packages\\sklearn\\metrics\\scorer.py:127: DeprecationWarning: Scoring method log_loss was renamed to neg_log_loss in version 0.18 and will be removed in 0.20.\n",
      "  sample_weight=sample_weight)\n"
     ]
    },
    {
     "name": "stdout",
     "output_type": "stream",
     "text": [
      "[CV]  max_depth=5, colsample_bytree=0.610650904795, subsample=0.74919842173 -   0.0s\n",
      "[CV] max_depth=5, colsample_bytree=0.610650904795, subsample=0.74919842173 \n",
      "[CV]  max_depth=5, colsample_bytree=0.610650904795, subsample=0.74919842173 -   0.0s\n",
      "[CV] max_depth=5, colsample_bytree=0.610650904795, subsample=0.74919842173 \n",
      "[CV]  max_depth=5, colsample_bytree=0.610650904795, subsample=0.74919842173 -   0.0s\n",
      "[CV] max_depth=5, colsample_bytree=0.610650904795, subsample=0.74919842173 \n",
      "[CV]  max_depth=5, colsample_bytree=0.610650904795, subsample=0.74919842173 -   0.0s\n",
      "[CV] max_depth=5, colsample_bytree=0.610650904795, subsample=0.74919842173 \n"
     ]
    },
    {
     "name": "stderr",
     "output_type": "stream",
     "text": [
      "C:\\Users\\Takashi\\Miniconda3\\lib\\site-packages\\sklearn\\metrics\\scorer.py:127: DeprecationWarning: Scoring method log_loss was renamed to neg_log_loss in version 0.18 and will be removed in 0.20.\n",
      "  sample_weight=sample_weight)\n",
      "C:\\Users\\Takashi\\Miniconda3\\lib\\site-packages\\sklearn\\metrics\\scorer.py:127: DeprecationWarning: Scoring method log_loss was renamed to neg_log_loss in version 0.18 and will be removed in 0.20.\n",
      "  sample_weight=sample_weight)\n",
      "C:\\Users\\Takashi\\Miniconda3\\lib\\site-packages\\sklearn\\metrics\\scorer.py:127: DeprecationWarning: Scoring method log_loss was renamed to neg_log_loss in version 0.18 and will be removed in 0.20.\n",
      "  sample_weight=sample_weight)\n",
      "C:\\Users\\Takashi\\Miniconda3\\lib\\site-packages\\sklearn\\metrics\\scorer.py:127: DeprecationWarning: Scoring method log_loss was renamed to neg_log_loss in version 0.18 and will be removed in 0.20.\n",
      "  sample_weight=sample_weight)\n"
     ]
    },
    {
     "name": "stdout",
     "output_type": "stream",
     "text": [
      "[CV]  max_depth=5, colsample_bytree=0.610650904795, subsample=0.74919842173 -   0.0s\n",
      "[CV] max_depth=5, colsample_bytree=0.610650904795, subsample=0.74919842173 \n",
      "[CV]  max_depth=5, colsample_bytree=0.610650904795, subsample=0.74919842173 -   0.0s\n",
      "[CV] max_depth=5, colsample_bytree=0.610650904795, subsample=0.74919842173 \n",
      "[CV]  max_depth=5, colsample_bytree=0.610650904795, subsample=0.74919842173 -   0.0s\n",
      "[CV] max_depth=5, colsample_bytree=0.610650904795, subsample=0.74919842173 \n",
      "[CV]  max_depth=5, colsample_bytree=0.610650904795, subsample=0.74919842173 -   0.0s\n",
      "[CV] max_depth=5, colsample_bytree=0.610650904795, subsample=0.74919842173 \n"
     ]
    },
    {
     "name": "stderr",
     "output_type": "stream",
     "text": [
      "C:\\Users\\Takashi\\Miniconda3\\lib\\site-packages\\sklearn\\metrics\\scorer.py:127: DeprecationWarning: Scoring method log_loss was renamed to neg_log_loss in version 0.18 and will be removed in 0.20.\n",
      "  sample_weight=sample_weight)\n",
      "C:\\Users\\Takashi\\Miniconda3\\lib\\site-packages\\sklearn\\metrics\\scorer.py:127: DeprecationWarning: Scoring method log_loss was renamed to neg_log_loss in version 0.18 and will be removed in 0.20.\n",
      "  sample_weight=sample_weight)\n",
      "C:\\Users\\Takashi\\Miniconda3\\lib\\site-packages\\sklearn\\metrics\\scorer.py:127: DeprecationWarning: Scoring method log_loss was renamed to neg_log_loss in version 0.18 and will be removed in 0.20.\n",
      "  sample_weight=sample_weight)\n",
      "C:\\Users\\Takashi\\Miniconda3\\lib\\site-packages\\sklearn\\metrics\\scorer.py:127: DeprecationWarning: Scoring method log_loss was renamed to neg_log_loss in version 0.18 and will be removed in 0.20.\n",
      "  sample_weight=sample_weight)\n"
     ]
    },
    {
     "name": "stdout",
     "output_type": "stream",
     "text": [
      "[CV]  max_depth=5, colsample_bytree=0.610650904795, subsample=0.74919842173 -   0.0s\n",
      "[CV] max_depth=4, colsample_bytree=0.879615525957, subsample=0.70633438412 \n",
      "[CV]  max_depth=4, colsample_bytree=0.879615525957, subsample=0.70633438412 -   0.0s\n",
      "[CV] max_depth=4, colsample_bytree=0.879615525957, subsample=0.70633438412 \n",
      "[CV]  max_depth=4, colsample_bytree=0.879615525957, subsample=0.70633438412 -   0.0s\n",
      "[CV] max_depth=4, colsample_bytree=0.879615525957, subsample=0.70633438412 \n",
      "[CV]  max_depth=4, colsample_bytree=0.879615525957, subsample=0.70633438412 -   0.0s\n",
      "[CV] max_depth=4, colsample_bytree=0.879615525957, subsample=0.70633438412 \n"
     ]
    },
    {
     "name": "stderr",
     "output_type": "stream",
     "text": [
      "C:\\Users\\Takashi\\Miniconda3\\lib\\site-packages\\sklearn\\metrics\\scorer.py:127: DeprecationWarning: Scoring method log_loss was renamed to neg_log_loss in version 0.18 and will be removed in 0.20.\n",
      "  sample_weight=sample_weight)\n",
      "C:\\Users\\Takashi\\Miniconda3\\lib\\site-packages\\sklearn\\metrics\\scorer.py:127: DeprecationWarning: Scoring method log_loss was renamed to neg_log_loss in version 0.18 and will be removed in 0.20.\n",
      "  sample_weight=sample_weight)\n",
      "C:\\Users\\Takashi\\Miniconda3\\lib\\site-packages\\sklearn\\metrics\\scorer.py:127: DeprecationWarning: Scoring method log_loss was renamed to neg_log_loss in version 0.18 and will be removed in 0.20.\n",
      "  sample_weight=sample_weight)\n",
      "C:\\Users\\Takashi\\Miniconda3\\lib\\site-packages\\sklearn\\metrics\\scorer.py:127: DeprecationWarning: Scoring method log_loss was renamed to neg_log_loss in version 0.18 and will be removed in 0.20.\n",
      "  sample_weight=sample_weight)\n"
     ]
    },
    {
     "name": "stdout",
     "output_type": "stream",
     "text": [
      "[CV]  max_depth=4, colsample_bytree=0.879615525957, subsample=0.70633438412 -   0.0s\n",
      "[CV] max_depth=4, colsample_bytree=0.879615525957, subsample=0.70633438412 \n",
      "[CV]  max_depth=4, colsample_bytree=0.879615525957, subsample=0.70633438412 -   0.0s\n",
      "[CV] max_depth=4, colsample_bytree=0.879615525957, subsample=0.70633438412 \n",
      "[CV]  max_depth=4, colsample_bytree=0.879615525957, subsample=0.70633438412 -   0.0s\n",
      "[CV] max_depth=4, colsample_bytree=0.879615525957, subsample=0.70633438412 \n",
      "[CV]  max_depth=4, colsample_bytree=0.879615525957, subsample=0.70633438412 -   0.0s\n",
      "[CV] max_depth=4, colsample_bytree=0.879615525957, subsample=0.70633438412 \n"
     ]
    },
    {
     "name": "stderr",
     "output_type": "stream",
     "text": [
      "C:\\Users\\Takashi\\Miniconda3\\lib\\site-packages\\sklearn\\metrics\\scorer.py:127: DeprecationWarning: Scoring method log_loss was renamed to neg_log_loss in version 0.18 and will be removed in 0.20.\n",
      "  sample_weight=sample_weight)\n",
      "C:\\Users\\Takashi\\Miniconda3\\lib\\site-packages\\sklearn\\metrics\\scorer.py:127: DeprecationWarning: Scoring method log_loss was renamed to neg_log_loss in version 0.18 and will be removed in 0.20.\n",
      "  sample_weight=sample_weight)\n",
      "C:\\Users\\Takashi\\Miniconda3\\lib\\site-packages\\sklearn\\metrics\\scorer.py:127: DeprecationWarning: Scoring method log_loss was renamed to neg_log_loss in version 0.18 and will be removed in 0.20.\n",
      "  sample_weight=sample_weight)\n",
      "C:\\Users\\Takashi\\Miniconda3\\lib\\site-packages\\sklearn\\metrics\\scorer.py:127: DeprecationWarning: Scoring method log_loss was renamed to neg_log_loss in version 0.18 and will be removed in 0.20.\n",
      "  sample_weight=sample_weight)\n"
     ]
    },
    {
     "name": "stdout",
     "output_type": "stream",
     "text": [
      "[CV]  max_depth=4, colsample_bytree=0.879615525957, subsample=0.70633438412 -   0.0s\n",
      "[CV] max_depth=4, colsample_bytree=0.879615525957, subsample=0.70633438412 \n",
      "[CV]  max_depth=4, colsample_bytree=0.879615525957, subsample=0.70633438412 -   0.0s\n",
      "[CV] max_depth=4, colsample_bytree=0.879615525957, subsample=0.70633438412 \n",
      "[CV]  max_depth=4, colsample_bytree=0.879615525957, subsample=0.70633438412 -   0.0s\n",
      "[CV] max_depth=5, colsample_bytree=0.832452899493, subsample=0.602322726547 \n",
      "[CV]  max_depth=5, colsample_bytree=0.832452899493, subsample=0.602322726547 -   0.0s\n",
      "[CV] max_depth=5, colsample_bytree=0.832452899493, subsample=0.602322726547 \n"
     ]
    },
    {
     "name": "stderr",
     "output_type": "stream",
     "text": [
      "C:\\Users\\Takashi\\Miniconda3\\lib\\site-packages\\sklearn\\metrics\\scorer.py:127: DeprecationWarning: Scoring method log_loss was renamed to neg_log_loss in version 0.18 and will be removed in 0.20.\n",
      "  sample_weight=sample_weight)\n",
      "C:\\Users\\Takashi\\Miniconda3\\lib\\site-packages\\sklearn\\metrics\\scorer.py:127: DeprecationWarning: Scoring method log_loss was renamed to neg_log_loss in version 0.18 and will be removed in 0.20.\n",
      "  sample_weight=sample_weight)\n",
      "C:\\Users\\Takashi\\Miniconda3\\lib\\site-packages\\sklearn\\metrics\\scorer.py:127: DeprecationWarning: Scoring method log_loss was renamed to neg_log_loss in version 0.18 and will be removed in 0.20.\n",
      "  sample_weight=sample_weight)\n"
     ]
    },
    {
     "name": "stdout",
     "output_type": "stream",
     "text": [
      "[CV]  max_depth=5, colsample_bytree=0.832452899493, subsample=0.602322726547 -   0.0s\n",
      "[CV] max_depth=5, colsample_bytree=0.832452899493, subsample=0.602322726547 \n",
      "[CV]  max_depth=5, colsample_bytree=0.832452899493, subsample=0.602322726547 -   0.0s\n",
      "[CV] max_depth=5, colsample_bytree=0.832452899493, subsample=0.602322726547 \n",
      "[CV]  max_depth=5, colsample_bytree=0.832452899493, subsample=0.602322726547 -   0.0s\n",
      "[CV] max_depth=5, colsample_bytree=0.832452899493, subsample=0.602322726547 \n"
     ]
    },
    {
     "name": "stderr",
     "output_type": "stream",
     "text": [
      "C:\\Users\\Takashi\\Miniconda3\\lib\\site-packages\\sklearn\\metrics\\scorer.py:127: DeprecationWarning: Scoring method log_loss was renamed to neg_log_loss in version 0.18 and will be removed in 0.20.\n",
      "  sample_weight=sample_weight)\n",
      "C:\\Users\\Takashi\\Miniconda3\\lib\\site-packages\\sklearn\\metrics\\scorer.py:127: DeprecationWarning: Scoring method log_loss was renamed to neg_log_loss in version 0.18 and will be removed in 0.20.\n",
      "  sample_weight=sample_weight)\n",
      "C:\\Users\\Takashi\\Miniconda3\\lib\\site-packages\\sklearn\\metrics\\scorer.py:127: DeprecationWarning: Scoring method log_loss was renamed to neg_log_loss in version 0.18 and will be removed in 0.20.\n",
      "  sample_weight=sample_weight)\n"
     ]
    },
    {
     "name": "stdout",
     "output_type": "stream",
     "text": [
      "[CV]  max_depth=5, colsample_bytree=0.832452899493, subsample=0.602322726547 -   0.0s\n",
      "[CV] max_depth=5, colsample_bytree=0.832452899493, subsample=0.602322726547 \n",
      "[CV]  max_depth=5, colsample_bytree=0.832452899493, subsample=0.602322726547 -   0.0s\n",
      "[CV] max_depth=5, colsample_bytree=0.832452899493, subsample=0.602322726547 \n",
      "[CV]  max_depth=5, colsample_bytree=0.832452899493, subsample=0.602322726547 -   0.0s\n",
      "[CV] max_depth=5, colsample_bytree=0.832452899493, subsample=0.602322726547 \n"
     ]
    },
    {
     "name": "stderr",
     "output_type": "stream",
     "text": [
      "C:\\Users\\Takashi\\Miniconda3\\lib\\site-packages\\sklearn\\metrics\\scorer.py:127: DeprecationWarning: Scoring method log_loss was renamed to neg_log_loss in version 0.18 and will be removed in 0.20.\n",
      "  sample_weight=sample_weight)\n",
      "C:\\Users\\Takashi\\Miniconda3\\lib\\site-packages\\sklearn\\metrics\\scorer.py:127: DeprecationWarning: Scoring method log_loss was renamed to neg_log_loss in version 0.18 and will be removed in 0.20.\n",
      "  sample_weight=sample_weight)\n",
      "C:\\Users\\Takashi\\Miniconda3\\lib\\site-packages\\sklearn\\metrics\\scorer.py:127: DeprecationWarning: Scoring method log_loss was renamed to neg_log_loss in version 0.18 and will be removed in 0.20.\n",
      "  sample_weight=sample_weight)\n",
      "C:\\Users\\Takashi\\Miniconda3\\lib\\site-packages\\sklearn\\metrics\\scorer.py:127: DeprecationWarning: Scoring method log_loss was renamed to neg_log_loss in version 0.18 and will be removed in 0.20.\n",
      "  sample_weight=sample_weight)\n"
     ]
    },
    {
     "name": "stdout",
     "output_type": "stream",
     "text": [
      "[CV]  max_depth=5, colsample_bytree=0.832452899493, subsample=0.602322726547 -   0.0s\n",
      "[CV] max_depth=5, colsample_bytree=0.832452899493, subsample=0.602322726547 \n",
      "[CV]  max_depth=5, colsample_bytree=0.832452899493, subsample=0.602322726547 -   0.0s\n",
      "[CV] max_depth=5, colsample_bytree=0.832452899493, subsample=0.602322726547 \n",
      "[CV]  max_depth=5, colsample_bytree=0.832452899493, subsample=0.602322726547 -   0.0s\n",
      "[CV] max_depth=3, colsample_bytree=0.561224772312, subsample=0.681724449768 \n",
      "[CV]  max_depth=3, colsample_bytree=0.561224772312, subsample=0.681724449768 -   0.0s\n",
      "[CV] max_depth=3, colsample_bytree=0.561224772312, subsample=0.681724449768 \n"
     ]
    },
    {
     "name": "stderr",
     "output_type": "stream",
     "text": [
      "C:\\Users\\Takashi\\Miniconda3\\lib\\site-packages\\sklearn\\metrics\\scorer.py:127: DeprecationWarning: Scoring method log_loss was renamed to neg_log_loss in version 0.18 and will be removed in 0.20.\n",
      "  sample_weight=sample_weight)\n",
      "C:\\Users\\Takashi\\Miniconda3\\lib\\site-packages\\sklearn\\metrics\\scorer.py:127: DeprecationWarning: Scoring method log_loss was renamed to neg_log_loss in version 0.18 and will be removed in 0.20.\n",
      "  sample_weight=sample_weight)\n",
      "C:\\Users\\Takashi\\Miniconda3\\lib\\site-packages\\sklearn\\metrics\\scorer.py:127: DeprecationWarning: Scoring method log_loss was renamed to neg_log_loss in version 0.18 and will be removed in 0.20.\n",
      "  sample_weight=sample_weight)\n",
      "C:\\Users\\Takashi\\Miniconda3\\lib\\site-packages\\sklearn\\metrics\\scorer.py:127: DeprecationWarning: Scoring method log_loss was renamed to neg_log_loss in version 0.18 and will be removed in 0.20.\n",
      "  sample_weight=sample_weight)\n",
      "C:\\Users\\Takashi\\Miniconda3\\lib\\site-packages\\sklearn\\metrics\\scorer.py:127: DeprecationWarning: Scoring method log_loss was renamed to neg_log_loss in version 0.18 and will be removed in 0.20.\n",
      "  sample_weight=sample_weight)\n"
     ]
    },
    {
     "name": "stdout",
     "output_type": "stream",
     "text": [
      "[CV]  max_depth=3, colsample_bytree=0.561224772312, subsample=0.681724449768 -   0.0s\n",
      "[CV] max_depth=3, colsample_bytree=0.561224772312, subsample=0.681724449768 \n",
      "[CV]  max_depth=3, colsample_bytree=0.561224772312, subsample=0.681724449768 -   0.0s\n",
      "[CV] max_depth=3, colsample_bytree=0.561224772312, subsample=0.681724449768 \n",
      "[CV]  max_depth=3, colsample_bytree=0.561224772312, subsample=0.681724449768 -   0.0s\n",
      "[CV] max_depth=3, colsample_bytree=0.561224772312, subsample=0.681724449768 \n",
      "[CV]  max_depth=3, colsample_bytree=0.561224772312, subsample=0.681724449768 -   0.0s\n",
      "[CV] max_depth=3, colsample_bytree=0.561224772312, subsample=0.681724449768 \n",
      "[CV]  max_depth=3, colsample_bytree=0.561224772312, subsample=0.681724449768 -   0.0s\n",
      "[CV] max_depth=3, colsample_bytree=0.561224772312, subsample=0.681724449768 \n"
     ]
    },
    {
     "name": "stderr",
     "output_type": "stream",
     "text": [
      "C:\\Users\\Takashi\\Miniconda3\\lib\\site-packages\\sklearn\\metrics\\scorer.py:127: DeprecationWarning: Scoring method log_loss was renamed to neg_log_loss in version 0.18 and will be removed in 0.20.\n",
      "  sample_weight=sample_weight)\n",
      "C:\\Users\\Takashi\\Miniconda3\\lib\\site-packages\\sklearn\\metrics\\scorer.py:127: DeprecationWarning: Scoring method log_loss was renamed to neg_log_loss in version 0.18 and will be removed in 0.20.\n",
      "  sample_weight=sample_weight)\n",
      "C:\\Users\\Takashi\\Miniconda3\\lib\\site-packages\\sklearn\\metrics\\scorer.py:127: DeprecationWarning: Scoring method log_loss was renamed to neg_log_loss in version 0.18 and will be removed in 0.20.\n",
      "  sample_weight=sample_weight)\n",
      "C:\\Users\\Takashi\\Miniconda3\\lib\\site-packages\\sklearn\\metrics\\scorer.py:127: DeprecationWarning: Scoring method log_loss was renamed to neg_log_loss in version 0.18 and will be removed in 0.20.\n",
      "  sample_weight=sample_weight)\n"
     ]
    },
    {
     "name": "stdout",
     "output_type": "stream",
     "text": [
      "[CV]  max_depth=3, colsample_bytree=0.561224772312, subsample=0.681724449768 -   0.0s\n",
      "[CV] max_depth=3, colsample_bytree=0.561224772312, subsample=0.681724449768 \n",
      "[CV]  max_depth=3, colsample_bytree=0.561224772312, subsample=0.681724449768 -   0.0s\n",
      "[CV] max_depth=3, colsample_bytree=0.561224772312, subsample=0.681724449768 \n",
      "[CV]  max_depth=3, colsample_bytree=0.561224772312, subsample=0.681724449768 -   0.0s\n",
      "[CV] max_depth=3, colsample_bytree=0.561224772312, subsample=0.681724449768 \n",
      "[CV]  max_depth=3, colsample_bytree=0.561224772312, subsample=0.681724449768 -   0.0s\n",
      "[CV] max_depth=6, colsample_bytree=0.622147240469, subsample=0.794167413798 \n"
     ]
    },
    {
     "name": "stderr",
     "output_type": "stream",
     "text": [
      "C:\\Users\\Takashi\\Miniconda3\\lib\\site-packages\\sklearn\\metrics\\scorer.py:127: DeprecationWarning: Scoring method log_loss was renamed to neg_log_loss in version 0.18 and will be removed in 0.20.\n",
      "  sample_weight=sample_weight)\n",
      "C:\\Users\\Takashi\\Miniconda3\\lib\\site-packages\\sklearn\\metrics\\scorer.py:127: DeprecationWarning: Scoring method log_loss was renamed to neg_log_loss in version 0.18 and will be removed in 0.20.\n",
      "  sample_weight=sample_weight)\n",
      "C:\\Users\\Takashi\\Miniconda3\\lib\\site-packages\\sklearn\\metrics\\scorer.py:127: DeprecationWarning: Scoring method log_loss was renamed to neg_log_loss in version 0.18 and will be removed in 0.20.\n",
      "  sample_weight=sample_weight)\n"
     ]
    },
    {
     "name": "stdout",
     "output_type": "stream",
     "text": [
      "[CV]  max_depth=6, colsample_bytree=0.622147240469, subsample=0.794167413798 -   0.0s\n",
      "[CV] max_depth=6, colsample_bytree=0.622147240469, subsample=0.794167413798 \n",
      "[CV]  max_depth=6, colsample_bytree=0.622147240469, subsample=0.794167413798 -   0.0s\n",
      "[CV] max_depth=6, colsample_bytree=0.622147240469, subsample=0.794167413798 \n",
      "[CV]  max_depth=6, colsample_bytree=0.622147240469, subsample=0.794167413798 -   0.0s\n",
      "[CV] max_depth=6, colsample_bytree=0.622147240469, subsample=0.794167413798 \n"
     ]
    },
    {
     "name": "stderr",
     "output_type": "stream",
     "text": [
      "C:\\Users\\Takashi\\Miniconda3\\lib\\site-packages\\sklearn\\metrics\\scorer.py:127: DeprecationWarning: Scoring method log_loss was renamed to neg_log_loss in version 0.18 and will be removed in 0.20.\n",
      "  sample_weight=sample_weight)\n",
      "C:\\Users\\Takashi\\Miniconda3\\lib\\site-packages\\sklearn\\metrics\\scorer.py:127: DeprecationWarning: Scoring method log_loss was renamed to neg_log_loss in version 0.18 and will be removed in 0.20.\n",
      "  sample_weight=sample_weight)\n",
      "C:\\Users\\Takashi\\Miniconda3\\lib\\site-packages\\sklearn\\metrics\\scorer.py:127: DeprecationWarning: Scoring method log_loss was renamed to neg_log_loss in version 0.18 and will be removed in 0.20.\n",
      "  sample_weight=sample_weight)\n"
     ]
    },
    {
     "name": "stdout",
     "output_type": "stream",
     "text": [
      "[CV]  max_depth=6, colsample_bytree=0.622147240469, subsample=0.794167413798 -   0.0s\n",
      "[CV] max_depth=6, colsample_bytree=0.622147240469, subsample=0.794167413798 \n",
      "[CV]  max_depth=6, colsample_bytree=0.622147240469, subsample=0.794167413798 -   0.0s\n",
      "[CV] max_depth=6, colsample_bytree=0.622147240469, subsample=0.794167413798 \n",
      "[CV]  max_depth=6, colsample_bytree=0.622147240469, subsample=0.794167413798 -   0.0s\n",
      "[CV] max_depth=6, colsample_bytree=0.622147240469, subsample=0.794167413798 \n"
     ]
    },
    {
     "name": "stderr",
     "output_type": "stream",
     "text": [
      "C:\\Users\\Takashi\\Miniconda3\\lib\\site-packages\\sklearn\\metrics\\scorer.py:127: DeprecationWarning: Scoring method log_loss was renamed to neg_log_loss in version 0.18 and will be removed in 0.20.\n",
      "  sample_weight=sample_weight)\n",
      "C:\\Users\\Takashi\\Miniconda3\\lib\\site-packages\\sklearn\\metrics\\scorer.py:127: DeprecationWarning: Scoring method log_loss was renamed to neg_log_loss in version 0.18 and will be removed in 0.20.\n",
      "  sample_weight=sample_weight)\n",
      "C:\\Users\\Takashi\\Miniconda3\\lib\\site-packages\\sklearn\\metrics\\scorer.py:127: DeprecationWarning: Scoring method log_loss was renamed to neg_log_loss in version 0.18 and will be removed in 0.20.\n",
      "  sample_weight=sample_weight)\n"
     ]
    },
    {
     "name": "stdout",
     "output_type": "stream",
     "text": [
      "[CV]  max_depth=6, colsample_bytree=0.622147240469, subsample=0.794167413798 -   0.0s\n",
      "[CV] max_depth=6, colsample_bytree=0.622147240469, subsample=0.794167413798 \n",
      "[CV]  max_depth=6, colsample_bytree=0.622147240469, subsample=0.794167413798 -   0.0s\n",
      "[CV] max_depth=6, colsample_bytree=0.622147240469, subsample=0.794167413798 \n",
      "[CV]  max_depth=6, colsample_bytree=0.622147240469, subsample=0.794167413798 -   0.0s\n",
      "[CV] max_depth=6, colsample_bytree=0.622147240469, subsample=0.794167413798 \n"
     ]
    },
    {
     "name": "stderr",
     "output_type": "stream",
     "text": [
      "C:\\Users\\Takashi\\Miniconda3\\lib\\site-packages\\sklearn\\metrics\\scorer.py:127: DeprecationWarning: Scoring method log_loss was renamed to neg_log_loss in version 0.18 and will be removed in 0.20.\n",
      "  sample_weight=sample_weight)\n",
      "C:\\Users\\Takashi\\Miniconda3\\lib\\site-packages\\sklearn\\metrics\\scorer.py:127: DeprecationWarning: Scoring method log_loss was renamed to neg_log_loss in version 0.18 and will be removed in 0.20.\n",
      "  sample_weight=sample_weight)\n",
      "C:\\Users\\Takashi\\Miniconda3\\lib\\site-packages\\sklearn\\metrics\\scorer.py:127: DeprecationWarning: Scoring method log_loss was renamed to neg_log_loss in version 0.18 and will be removed in 0.20.\n",
      "  sample_weight=sample_weight)\n",
      "C:\\Users\\Takashi\\Miniconda3\\lib\\site-packages\\sklearn\\metrics\\scorer.py:127: DeprecationWarning: Scoring method log_loss was renamed to neg_log_loss in version 0.18 and will be removed in 0.20.\n",
      "  sample_weight=sample_weight)\n"
     ]
    },
    {
     "name": "stdout",
     "output_type": "stream",
     "text": [
      "[CV]  max_depth=6, colsample_bytree=0.622147240469, subsample=0.794167413798 -   0.0s\n",
      "[CV] max_depth=4, colsample_bytree=0.626205588694, subsample=0.790198774409 \n",
      "[CV]  max_depth=4, colsample_bytree=0.626205588694, subsample=0.790198774409 -   0.0s\n",
      "[CV] max_depth=4, colsample_bytree=0.626205588694, subsample=0.790198774409 \n",
      "[CV]  max_depth=4, colsample_bytree=0.626205588694, subsample=0.790198774409 -   0.0s\n",
      "[CV] max_depth=4, colsample_bytree=0.626205588694, subsample=0.790198774409 \n",
      "[CV]  max_depth=4, colsample_bytree=0.626205588694, subsample=0.790198774409 -   0.0s\n",
      "[CV] max_depth=4, colsample_bytree=0.626205588694, subsample=0.790198774409 \n"
     ]
    },
    {
     "name": "stderr",
     "output_type": "stream",
     "text": [
      "C:\\Users\\Takashi\\Miniconda3\\lib\\site-packages\\sklearn\\metrics\\scorer.py:127: DeprecationWarning: Scoring method log_loss was renamed to neg_log_loss in version 0.18 and will be removed in 0.20.\n",
      "  sample_weight=sample_weight)\n",
      "C:\\Users\\Takashi\\Miniconda3\\lib\\site-packages\\sklearn\\metrics\\scorer.py:127: DeprecationWarning: Scoring method log_loss was renamed to neg_log_loss in version 0.18 and will be removed in 0.20.\n",
      "  sample_weight=sample_weight)\n",
      "C:\\Users\\Takashi\\Miniconda3\\lib\\site-packages\\sklearn\\metrics\\scorer.py:127: DeprecationWarning: Scoring method log_loss was renamed to neg_log_loss in version 0.18 and will be removed in 0.20.\n",
      "  sample_weight=sample_weight)\n",
      "C:\\Users\\Takashi\\Miniconda3\\lib\\site-packages\\sklearn\\metrics\\scorer.py:127: DeprecationWarning: Scoring method log_loss was renamed to neg_log_loss in version 0.18 and will be removed in 0.20.\n",
      "  sample_weight=sample_weight)\n"
     ]
    },
    {
     "name": "stdout",
     "output_type": "stream",
     "text": [
      "[CV]  max_depth=4, colsample_bytree=0.626205588694, subsample=0.790198774409 -   0.0s\n",
      "[CV] max_depth=4, colsample_bytree=0.626205588694, subsample=0.790198774409 \n",
      "[CV]  max_depth=4, colsample_bytree=0.626205588694, subsample=0.790198774409 -   0.0s\n",
      "[CV] max_depth=4, colsample_bytree=0.626205588694, subsample=0.790198774409 \n",
      "[CV]  max_depth=4, colsample_bytree=0.626205588694, subsample=0.790198774409 -   0.0s\n",
      "[CV] max_depth=4, colsample_bytree=0.626205588694, subsample=0.790198774409 \n",
      "[CV]  max_depth=4, colsample_bytree=0.626205588694, subsample=0.790198774409 -   0.0s\n",
      "[CV] max_depth=4, colsample_bytree=0.626205588694, subsample=0.790198774409 \n"
     ]
    },
    {
     "name": "stderr",
     "output_type": "stream",
     "text": [
      "C:\\Users\\Takashi\\Miniconda3\\lib\\site-packages\\sklearn\\metrics\\scorer.py:127: DeprecationWarning: Scoring method log_loss was renamed to neg_log_loss in version 0.18 and will be removed in 0.20.\n",
      "  sample_weight=sample_weight)\n",
      "C:\\Users\\Takashi\\Miniconda3\\lib\\site-packages\\sklearn\\metrics\\scorer.py:127: DeprecationWarning: Scoring method log_loss was renamed to neg_log_loss in version 0.18 and will be removed in 0.20.\n",
      "  sample_weight=sample_weight)\n",
      "C:\\Users\\Takashi\\Miniconda3\\lib\\site-packages\\sklearn\\metrics\\scorer.py:127: DeprecationWarning: Scoring method log_loss was renamed to neg_log_loss in version 0.18 and will be removed in 0.20.\n",
      "  sample_weight=sample_weight)\n"
     ]
    },
    {
     "name": "stdout",
     "output_type": "stream",
     "text": [
      "[CV]  max_depth=4, colsample_bytree=0.626205588694, subsample=0.790198774409 -   0.0s\n",
      "[CV] max_depth=4, colsample_bytree=0.626205588694, subsample=0.790198774409 \n",
      "[CV]  max_depth=4, colsample_bytree=0.626205588694, subsample=0.790198774409 -   0.0s\n",
      "[CV] max_depth=4, colsample_bytree=0.626205588694, subsample=0.790198774409 \n",
      "[CV]  max_depth=4, colsample_bytree=0.626205588694, subsample=0.790198774409 -   0.0s\n",
      "[CV] max_depth=10, colsample_bytree=0.574155158687, subsample=0.984187328005 \n"
     ]
    },
    {
     "name": "stderr",
     "output_type": "stream",
     "text": [
      "C:\\Users\\Takashi\\Miniconda3\\lib\\site-packages\\sklearn\\metrics\\scorer.py:127: DeprecationWarning: Scoring method log_loss was renamed to neg_log_loss in version 0.18 and will be removed in 0.20.\n",
      "  sample_weight=sample_weight)\n",
      "C:\\Users\\Takashi\\Miniconda3\\lib\\site-packages\\sklearn\\metrics\\scorer.py:127: DeprecationWarning: Scoring method log_loss was renamed to neg_log_loss in version 0.18 and will be removed in 0.20.\n",
      "  sample_weight=sample_weight)\n"
     ]
    },
    {
     "name": "stdout",
     "output_type": "stream",
     "text": [
      "[CV]  max_depth=10, colsample_bytree=0.574155158687, subsample=0.984187328005 -   0.0s\n",
      "[CV] max_depth=10, colsample_bytree=0.574155158687, subsample=0.984187328005 \n",
      "[CV]  max_depth=10, colsample_bytree=0.574155158687, subsample=0.984187328005 -   0.0s\n",
      "[CV] max_depth=10, colsample_bytree=0.574155158687, subsample=0.984187328005 \n"
     ]
    },
    {
     "name": "stderr",
     "output_type": "stream",
     "text": [
      "C:\\Users\\Takashi\\Miniconda3\\lib\\site-packages\\sklearn\\metrics\\scorer.py:127: DeprecationWarning: Scoring method log_loss was renamed to neg_log_loss in version 0.18 and will be removed in 0.20.\n",
      "  sample_weight=sample_weight)\n",
      "C:\\Users\\Takashi\\Miniconda3\\lib\\site-packages\\sklearn\\metrics\\scorer.py:127: DeprecationWarning: Scoring method log_loss was renamed to neg_log_loss in version 0.18 and will be removed in 0.20.\n",
      "  sample_weight=sample_weight)\n"
     ]
    },
    {
     "name": "stdout",
     "output_type": "stream",
     "text": [
      "[CV]  max_depth=10, colsample_bytree=0.574155158687, subsample=0.984187328005 -   0.0s\n",
      "[CV] max_depth=10, colsample_bytree=0.574155158687, subsample=0.984187328005 \n",
      "[CV]  max_depth=10, colsample_bytree=0.574155158687, subsample=0.984187328005 -   0.0s\n",
      "[CV] max_depth=10, colsample_bytree=0.574155158687, subsample=0.984187328005 \n"
     ]
    },
    {
     "name": "stderr",
     "output_type": "stream",
     "text": [
      "C:\\Users\\Takashi\\Miniconda3\\lib\\site-packages\\sklearn\\metrics\\scorer.py:127: DeprecationWarning: Scoring method log_loss was renamed to neg_log_loss in version 0.18 and will be removed in 0.20.\n",
      "  sample_weight=sample_weight)\n",
      "C:\\Users\\Takashi\\Miniconda3\\lib\\site-packages\\sklearn\\metrics\\scorer.py:127: DeprecationWarning: Scoring method log_loss was renamed to neg_log_loss in version 0.18 and will be removed in 0.20.\n",
      "  sample_weight=sample_weight)\n"
     ]
    },
    {
     "name": "stdout",
     "output_type": "stream",
     "text": [
      "[CV]  max_depth=10, colsample_bytree=0.574155158687, subsample=0.984187328005 -   0.0s\n",
      "[CV] max_depth=10, colsample_bytree=0.574155158687, subsample=0.984187328005 \n",
      "[CV]  max_depth=10, colsample_bytree=0.574155158687, subsample=0.984187328005 -   0.0s\n",
      "[CV] max_depth=10, colsample_bytree=0.574155158687, subsample=0.984187328005 \n"
     ]
    },
    {
     "name": "stderr",
     "output_type": "stream",
     "text": [
      "C:\\Users\\Takashi\\Miniconda3\\lib\\site-packages\\sklearn\\metrics\\scorer.py:127: DeprecationWarning: Scoring method log_loss was renamed to neg_log_loss in version 0.18 and will be removed in 0.20.\n",
      "  sample_weight=sample_weight)\n",
      "C:\\Users\\Takashi\\Miniconda3\\lib\\site-packages\\sklearn\\metrics\\scorer.py:127: DeprecationWarning: Scoring method log_loss was renamed to neg_log_loss in version 0.18 and will be removed in 0.20.\n",
      "  sample_weight=sample_weight)\n"
     ]
    },
    {
     "name": "stdout",
     "output_type": "stream",
     "text": [
      "[CV]  max_depth=10, colsample_bytree=0.574155158687, subsample=0.984187328005 -   0.0s\n",
      "[CV] max_depth=10, colsample_bytree=0.574155158687, subsample=0.984187328005 \n",
      "[CV]  max_depth=10, colsample_bytree=0.574155158687, subsample=0.984187328005 -   0.0s\n",
      "[CV] max_depth=10, colsample_bytree=0.574155158687, subsample=0.984187328005 \n"
     ]
    },
    {
     "name": "stderr",
     "output_type": "stream",
     "text": [
      "C:\\Users\\Takashi\\Miniconda3\\lib\\site-packages\\sklearn\\metrics\\scorer.py:127: DeprecationWarning: Scoring method log_loss was renamed to neg_log_loss in version 0.18 and will be removed in 0.20.\n",
      "  sample_weight=sample_weight)\n",
      "C:\\Users\\Takashi\\Miniconda3\\lib\\site-packages\\sklearn\\metrics\\scorer.py:127: DeprecationWarning: Scoring method log_loss was renamed to neg_log_loss in version 0.18 and will be removed in 0.20.\n",
      "  sample_weight=sample_weight)\n",
      "C:\\Users\\Takashi\\Miniconda3\\lib\\site-packages\\sklearn\\metrics\\scorer.py:127: DeprecationWarning: Scoring method log_loss was renamed to neg_log_loss in version 0.18 and will be removed in 0.20.\n",
      "  sample_weight=sample_weight)\n",
      "C:\\Users\\Takashi\\Miniconda3\\lib\\site-packages\\sklearn\\metrics\\scorer.py:127: DeprecationWarning: Scoring method log_loss was renamed to neg_log_loss in version 0.18 and will be removed in 0.20.\n",
      "  sample_weight=sample_weight)\n"
     ]
    },
    {
     "name": "stdout",
     "output_type": "stream",
     "text": [
      "[CV]  max_depth=10, colsample_bytree=0.574155158687, subsample=0.984187328005 -   0.0s\n",
      "[CV] max_depth=10, colsample_bytree=0.574155158687, subsample=0.984187328005 \n",
      "[CV]  max_depth=10, colsample_bytree=0.574155158687, subsample=0.984187328005 -   0.0s\n",
      "[CV] max_depth=2, colsample_bytree=0.951108522056, subsample=0.846570263551 \n",
      "[CV]  max_depth=2, colsample_bytree=0.951108522056, subsample=0.846570263551 -   0.0s\n",
      "[CV] max_depth=2, colsample_bytree=0.951108522056, subsample=0.846570263551 \n",
      "[CV]  max_depth=2, colsample_bytree=0.951108522056, subsample=0.846570263551 -   0.0s\n",
      "[CV] max_depth=2, colsample_bytree=0.951108522056, subsample=0.846570263551 \n"
     ]
    },
    {
     "name": "stderr",
     "output_type": "stream",
     "text": [
      "C:\\Users\\Takashi\\Miniconda3\\lib\\site-packages\\sklearn\\metrics\\scorer.py:127: DeprecationWarning: Scoring method log_loss was renamed to neg_log_loss in version 0.18 and will be removed in 0.20.\n",
      "  sample_weight=sample_weight)\n",
      "C:\\Users\\Takashi\\Miniconda3\\lib\\site-packages\\sklearn\\metrics\\scorer.py:127: DeprecationWarning: Scoring method log_loss was renamed to neg_log_loss in version 0.18 and will be removed in 0.20.\n",
      "  sample_weight=sample_weight)\n",
      "C:\\Users\\Takashi\\Miniconda3\\lib\\site-packages\\sklearn\\metrics\\scorer.py:127: DeprecationWarning: Scoring method log_loss was renamed to neg_log_loss in version 0.18 and will be removed in 0.20.\n",
      "  sample_weight=sample_weight)\n",
      "C:\\Users\\Takashi\\Miniconda3\\lib\\site-packages\\sklearn\\metrics\\scorer.py:127: DeprecationWarning: Scoring method log_loss was renamed to neg_log_loss in version 0.18 and will be removed in 0.20.\n",
      "  sample_weight=sample_weight)\n",
      "C:\\Users\\Takashi\\Miniconda3\\lib\\site-packages\\sklearn\\metrics\\scorer.py:127: DeprecationWarning: Scoring method log_loss was renamed to neg_log_loss in version 0.18 and will be removed in 0.20.\n",
      "  sample_weight=sample_weight)\n",
      "C:\\Users\\Takashi\\Miniconda3\\lib\\site-packages\\sklearn\\metrics\\scorer.py:127: DeprecationWarning: Scoring method log_loss was renamed to neg_log_loss in version 0.18 and will be removed in 0.20.\n",
      "  sample_weight=sample_weight)\n"
     ]
    },
    {
     "name": "stdout",
     "output_type": "stream",
     "text": [
      "[CV]  max_depth=2, colsample_bytree=0.951108522056, subsample=0.846570263551 -   0.0s\n",
      "[CV] max_depth=2, colsample_bytree=0.951108522056, subsample=0.846570263551 \n",
      "[CV]  max_depth=2, colsample_bytree=0.951108522056, subsample=0.846570263551 -   0.0s\n",
      "[CV] max_depth=2, colsample_bytree=0.951108522056, subsample=0.846570263551 \n",
      "[CV]  max_depth=2, colsample_bytree=0.951108522056, subsample=0.846570263551 -   0.0s\n",
      "[CV] max_depth=2, colsample_bytree=0.951108522056, subsample=0.846570263551 \n",
      "[CV]  max_depth=2, colsample_bytree=0.951108522056, subsample=0.846570263551 -   0.0s\n",
      "[CV] max_depth=2, colsample_bytree=0.951108522056, subsample=0.846570263551 \n",
      "[CV]  max_depth=2, colsample_bytree=0.951108522056, subsample=0.846570263551 -   0.0s\n",
      "[CV] max_depth=2, colsample_bytree=0.951108522056, subsample=0.846570263551 \n",
      "[CV]  max_depth=2, colsample_bytree=0.951108522056, subsample=0.846570263551 -   0.0s\n",
      "[CV] max_depth=2, colsample_bytree=0.951108522056, subsample=0.846570263551 \n"
     ]
    },
    {
     "name": "stderr",
     "output_type": "stream",
     "text": [
      "C:\\Users\\Takashi\\Miniconda3\\lib\\site-packages\\sklearn\\metrics\\scorer.py:127: DeprecationWarning: Scoring method log_loss was renamed to neg_log_loss in version 0.18 and will be removed in 0.20.\n",
      "  sample_weight=sample_weight)\n",
      "C:\\Users\\Takashi\\Miniconda3\\lib\\site-packages\\sklearn\\metrics\\scorer.py:127: DeprecationWarning: Scoring method log_loss was renamed to neg_log_loss in version 0.18 and will be removed in 0.20.\n",
      "  sample_weight=sample_weight)\n",
      "C:\\Users\\Takashi\\Miniconda3\\lib\\site-packages\\sklearn\\metrics\\scorer.py:127: DeprecationWarning: Scoring method log_loss was renamed to neg_log_loss in version 0.18 and will be removed in 0.20.\n",
      "  sample_weight=sample_weight)\n",
      "C:\\Users\\Takashi\\Miniconda3\\lib\\site-packages\\sklearn\\metrics\\scorer.py:127: DeprecationWarning: Scoring method log_loss was renamed to neg_log_loss in version 0.18 and will be removed in 0.20.\n",
      "  sample_weight=sample_weight)\n"
     ]
    },
    {
     "name": "stdout",
     "output_type": "stream",
     "text": [
      "[CV]  max_depth=2, colsample_bytree=0.951108522056, subsample=0.846570263551 -   0.0s\n",
      "[CV] max_depth=2, colsample_bytree=0.951108522056, subsample=0.846570263551 \n",
      "[CV]  max_depth=2, colsample_bytree=0.951108522056, subsample=0.846570263551 -   0.0s\n",
      "[CV] max_depth=4, colsample_bytree=0.787261058335, subsample=0.674117336889 \n",
      "[CV]  max_depth=4, colsample_bytree=0.787261058335, subsample=0.674117336889 -   0.0s\n",
      "[CV] max_depth=4, colsample_bytree=0.787261058335, subsample=0.674117336889 \n",
      "[CV]  max_depth=4, colsample_bytree=0.787261058335, subsample=0.674117336889 -   0.0s\n",
      "[CV] max_depth=4, colsample_bytree=0.787261058335, subsample=0.674117336889 \n"
     ]
    },
    {
     "name": "stderr",
     "output_type": "stream",
     "text": [
      "C:\\Users\\Takashi\\Miniconda3\\lib\\site-packages\\sklearn\\metrics\\scorer.py:127: DeprecationWarning: Scoring method log_loss was renamed to neg_log_loss in version 0.18 and will be removed in 0.20.\n",
      "  sample_weight=sample_weight)\n",
      "C:\\Users\\Takashi\\Miniconda3\\lib\\site-packages\\sklearn\\metrics\\scorer.py:127: DeprecationWarning: Scoring method log_loss was renamed to neg_log_loss in version 0.18 and will be removed in 0.20.\n",
      "  sample_weight=sample_weight)\n",
      "C:\\Users\\Takashi\\Miniconda3\\lib\\site-packages\\sklearn\\metrics\\scorer.py:127: DeprecationWarning: Scoring method log_loss was renamed to neg_log_loss in version 0.18 and will be removed in 0.20.\n",
      "  sample_weight=sample_weight)\n",
      "C:\\Users\\Takashi\\Miniconda3\\lib\\site-packages\\sklearn\\metrics\\scorer.py:127: DeprecationWarning: Scoring method log_loss was renamed to neg_log_loss in version 0.18 and will be removed in 0.20.\n",
      "  sample_weight=sample_weight)\n"
     ]
    },
    {
     "name": "stdout",
     "output_type": "stream",
     "text": [
      "[CV]  max_depth=4, colsample_bytree=0.787261058335, subsample=0.674117336889 -   0.0s\n",
      "[CV] max_depth=4, colsample_bytree=0.787261058335, subsample=0.674117336889 \n",
      "[CV]  max_depth=4, colsample_bytree=0.787261058335, subsample=0.674117336889 -   0.0s\n",
      "[CV] max_depth=4, colsample_bytree=0.787261058335, subsample=0.674117336889 \n",
      "[CV]  max_depth=4, colsample_bytree=0.787261058335, subsample=0.674117336889 -   0.0s\n",
      "[CV] max_depth=4, colsample_bytree=0.787261058335, subsample=0.674117336889 \n",
      "[CV]  max_depth=4, colsample_bytree=0.787261058335, subsample=0.674117336889 -   0.0s\n",
      "[CV] max_depth=4, colsample_bytree=0.787261058335, subsample=0.674117336889 \n"
     ]
    },
    {
     "name": "stderr",
     "output_type": "stream",
     "text": [
      "C:\\Users\\Takashi\\Miniconda3\\lib\\site-packages\\sklearn\\metrics\\scorer.py:127: DeprecationWarning: Scoring method log_loss was renamed to neg_log_loss in version 0.18 and will be removed in 0.20.\n",
      "  sample_weight=sample_weight)\n",
      "C:\\Users\\Takashi\\Miniconda3\\lib\\site-packages\\sklearn\\metrics\\scorer.py:127: DeprecationWarning: Scoring method log_loss was renamed to neg_log_loss in version 0.18 and will be removed in 0.20.\n",
      "  sample_weight=sample_weight)\n",
      "C:\\Users\\Takashi\\Miniconda3\\lib\\site-packages\\sklearn\\metrics\\scorer.py:127: DeprecationWarning: Scoring method log_loss was renamed to neg_log_loss in version 0.18 and will be removed in 0.20.\n",
      "  sample_weight=sample_weight)\n",
      "C:\\Users\\Takashi\\Miniconda3\\lib\\site-packages\\sklearn\\metrics\\scorer.py:127: DeprecationWarning: Scoring method log_loss was renamed to neg_log_loss in version 0.18 and will be removed in 0.20.\n",
      "  sample_weight=sample_weight)\n"
     ]
    },
    {
     "name": "stdout",
     "output_type": "stream",
     "text": [
      "[CV]  max_depth=4, colsample_bytree=0.787261058335, subsample=0.674117336889 -   0.0s\n",
      "[CV] max_depth=4, colsample_bytree=0.787261058335, subsample=0.674117336889 \n",
      "[CV]  max_depth=4, colsample_bytree=0.787261058335, subsample=0.674117336889 -   0.0s\n",
      "[CV] max_depth=4, colsample_bytree=0.787261058335, subsample=0.674117336889 \n",
      "[CV]  max_depth=4, colsample_bytree=0.787261058335, subsample=0.674117336889 -   0.0s\n",
      "[CV] max_depth=4, colsample_bytree=0.787261058335, subsample=0.674117336889 \n",
      "[CV]  max_depth=4, colsample_bytree=0.787261058335, subsample=0.674117336889 -   0.0s\n",
      "[CV] max_depth=10, colsample_bytree=0.809180513227, subsample=0.916104210772 \n"
     ]
    },
    {
     "name": "stderr",
     "output_type": "stream",
     "text": [
      "C:\\Users\\Takashi\\Miniconda3\\lib\\site-packages\\sklearn\\metrics\\scorer.py:127: DeprecationWarning: Scoring method log_loss was renamed to neg_log_loss in version 0.18 and will be removed in 0.20.\n",
      "  sample_weight=sample_weight)\n",
      "C:\\Users\\Takashi\\Miniconda3\\lib\\site-packages\\sklearn\\metrics\\scorer.py:127: DeprecationWarning: Scoring method log_loss was renamed to neg_log_loss in version 0.18 and will be removed in 0.20.\n",
      "  sample_weight=sample_weight)\n"
     ]
    },
    {
     "name": "stdout",
     "output_type": "stream",
     "text": [
      "[CV]  max_depth=10, colsample_bytree=0.809180513227, subsample=0.916104210772 -   0.0s\n",
      "[CV] max_depth=10, colsample_bytree=0.809180513227, subsample=0.916104210772 \n",
      "[CV]  max_depth=10, colsample_bytree=0.809180513227, subsample=0.916104210772 -   0.0s\n",
      "[CV] max_depth=10, colsample_bytree=0.809180513227, subsample=0.916104210772 \n"
     ]
    },
    {
     "name": "stderr",
     "output_type": "stream",
     "text": [
      "C:\\Users\\Takashi\\Miniconda3\\lib\\site-packages\\sklearn\\metrics\\scorer.py:127: DeprecationWarning: Scoring method log_loss was renamed to neg_log_loss in version 0.18 and will be removed in 0.20.\n",
      "  sample_weight=sample_weight)\n",
      "C:\\Users\\Takashi\\Miniconda3\\lib\\site-packages\\sklearn\\metrics\\scorer.py:127: DeprecationWarning: Scoring method log_loss was renamed to neg_log_loss in version 0.18 and will be removed in 0.20.\n",
      "  sample_weight=sample_weight)\n"
     ]
    },
    {
     "name": "stdout",
     "output_type": "stream",
     "text": [
      "[CV]  max_depth=10, colsample_bytree=0.809180513227, subsample=0.916104210772 -   0.0s\n",
      "[CV] max_depth=10, colsample_bytree=0.809180513227, subsample=0.916104210772 \n",
      "[CV]  max_depth=10, colsample_bytree=0.809180513227, subsample=0.916104210772 -   0.0s\n",
      "[CV] max_depth=10, colsample_bytree=0.809180513227, subsample=0.916104210772 \n"
     ]
    },
    {
     "name": "stderr",
     "output_type": "stream",
     "text": [
      "C:\\Users\\Takashi\\Miniconda3\\lib\\site-packages\\sklearn\\metrics\\scorer.py:127: DeprecationWarning: Scoring method log_loss was renamed to neg_log_loss in version 0.18 and will be removed in 0.20.\n",
      "  sample_weight=sample_weight)\n",
      "C:\\Users\\Takashi\\Miniconda3\\lib\\site-packages\\sklearn\\metrics\\scorer.py:127: DeprecationWarning: Scoring method log_loss was renamed to neg_log_loss in version 0.18 and will be removed in 0.20.\n",
      "  sample_weight=sample_weight)\n"
     ]
    },
    {
     "name": "stdout",
     "output_type": "stream",
     "text": [
      "[CV]  max_depth=10, colsample_bytree=0.809180513227, subsample=0.916104210772 -   0.0s\n",
      "[CV] max_depth=10, colsample_bytree=0.809180513227, subsample=0.916104210772 \n",
      "[CV]  max_depth=10, colsample_bytree=0.809180513227, subsample=0.916104210772 -   0.0s\n",
      "[CV] max_depth=10, colsample_bytree=0.809180513227, subsample=0.916104210772 \n"
     ]
    },
    {
     "name": "stderr",
     "output_type": "stream",
     "text": [
      "C:\\Users\\Takashi\\Miniconda3\\lib\\site-packages\\sklearn\\metrics\\scorer.py:127: DeprecationWarning: Scoring method log_loss was renamed to neg_log_loss in version 0.18 and will be removed in 0.20.\n",
      "  sample_weight=sample_weight)\n",
      "C:\\Users\\Takashi\\Miniconda3\\lib\\site-packages\\sklearn\\metrics\\scorer.py:127: DeprecationWarning: Scoring method log_loss was renamed to neg_log_loss in version 0.18 and will be removed in 0.20.\n",
      "  sample_weight=sample_weight)\n"
     ]
    },
    {
     "name": "stdout",
     "output_type": "stream",
     "text": [
      "[CV]  max_depth=10, colsample_bytree=0.809180513227, subsample=0.916104210772 -   0.0s\n",
      "[CV] max_depth=10, colsample_bytree=0.809180513227, subsample=0.916104210772 \n",
      "[CV]  max_depth=10, colsample_bytree=0.809180513227, subsample=0.916104210772 -   0.0s\n",
      "[CV] max_depth=10, colsample_bytree=0.809180513227, subsample=0.916104210772 \n"
     ]
    },
    {
     "name": "stderr",
     "output_type": "stream",
     "text": [
      "C:\\Users\\Takashi\\Miniconda3\\lib\\site-packages\\sklearn\\metrics\\scorer.py:127: DeprecationWarning: Scoring method log_loss was renamed to neg_log_loss in version 0.18 and will be removed in 0.20.\n",
      "  sample_weight=sample_weight)\n",
      "C:\\Users\\Takashi\\Miniconda3\\lib\\site-packages\\sklearn\\metrics\\scorer.py:127: DeprecationWarning: Scoring method log_loss was renamed to neg_log_loss in version 0.18 and will be removed in 0.20.\n",
      "  sample_weight=sample_weight)\n"
     ]
    },
    {
     "name": "stdout",
     "output_type": "stream",
     "text": [
      "[CV]  max_depth=10, colsample_bytree=0.809180513227, subsample=0.916104210772 -   0.0s\n",
      "[CV] max_depth=10, colsample_bytree=0.809180513227, subsample=0.916104210772 \n",
      "[CV]  max_depth=10, colsample_bytree=0.809180513227, subsample=0.916104210772 -   0.0s\n",
      "[CV] max_depth=8, colsample_bytree=0.65035061688, subsample=0.557620014418 \n"
     ]
    },
    {
     "name": "stderr",
     "output_type": "stream",
     "text": [
      "C:\\Users\\Takashi\\Miniconda3\\lib\\site-packages\\sklearn\\metrics\\scorer.py:127: DeprecationWarning: Scoring method log_loss was renamed to neg_log_loss in version 0.18 and will be removed in 0.20.\n",
      "  sample_weight=sample_weight)\n",
      "C:\\Users\\Takashi\\Miniconda3\\lib\\site-packages\\sklearn\\metrics\\scorer.py:127: DeprecationWarning: Scoring method log_loss was renamed to neg_log_loss in version 0.18 and will be removed in 0.20.\n",
      "  sample_weight=sample_weight)\n",
      "C:\\Users\\Takashi\\Miniconda3\\lib\\site-packages\\sklearn\\metrics\\scorer.py:127: DeprecationWarning: Scoring method log_loss was renamed to neg_log_loss in version 0.18 and will be removed in 0.20.\n",
      "  sample_weight=sample_weight)\n"
     ]
    },
    {
     "name": "stdout",
     "output_type": "stream",
     "text": [
      "[CV]  max_depth=8, colsample_bytree=0.65035061688, subsample=0.557620014418 -   0.0s\n",
      "[CV] max_depth=8, colsample_bytree=0.65035061688, subsample=0.557620014418 \n",
      "[CV]  max_depth=8, colsample_bytree=0.65035061688, subsample=0.557620014418 -   0.0s\n",
      "[CV] max_depth=8, colsample_bytree=0.65035061688, subsample=0.557620014418 \n",
      "[CV]  max_depth=8, colsample_bytree=0.65035061688, subsample=0.557620014418 -   0.0s\n",
      "[CV] max_depth=8, colsample_bytree=0.65035061688, subsample=0.557620014418 \n"
     ]
    },
    {
     "name": "stderr",
     "output_type": "stream",
     "text": [
      "C:\\Users\\Takashi\\Miniconda3\\lib\\site-packages\\sklearn\\metrics\\scorer.py:127: DeprecationWarning: Scoring method log_loss was renamed to neg_log_loss in version 0.18 and will be removed in 0.20.\n",
      "  sample_weight=sample_weight)\n",
      "C:\\Users\\Takashi\\Miniconda3\\lib\\site-packages\\sklearn\\metrics\\scorer.py:127: DeprecationWarning: Scoring method log_loss was renamed to neg_log_loss in version 0.18 and will be removed in 0.20.\n",
      "  sample_weight=sample_weight)\n",
      "C:\\Users\\Takashi\\Miniconda3\\lib\\site-packages\\sklearn\\metrics\\scorer.py:127: DeprecationWarning: Scoring method log_loss was renamed to neg_log_loss in version 0.18 and will be removed in 0.20.\n",
      "  sample_weight=sample_weight)\n"
     ]
    },
    {
     "name": "stdout",
     "output_type": "stream",
     "text": [
      "[CV]  max_depth=8, colsample_bytree=0.65035061688, subsample=0.557620014418 -   0.0s\n",
      "[CV] max_depth=8, colsample_bytree=0.65035061688, subsample=0.557620014418 \n",
      "[CV]  max_depth=8, colsample_bytree=0.65035061688, subsample=0.557620014418 -   0.0s\n",
      "[CV] max_depth=8, colsample_bytree=0.65035061688, subsample=0.557620014418 \n",
      "[CV]  max_depth=8, colsample_bytree=0.65035061688, subsample=0.557620014418 -   0.0s\n",
      "[CV] max_depth=8, colsample_bytree=0.65035061688, subsample=0.557620014418 \n"
     ]
    },
    {
     "name": "stderr",
     "output_type": "stream",
     "text": [
      "C:\\Users\\Takashi\\Miniconda3\\lib\\site-packages\\sklearn\\metrics\\scorer.py:127: DeprecationWarning: Scoring method log_loss was renamed to neg_log_loss in version 0.18 and will be removed in 0.20.\n",
      "  sample_weight=sample_weight)\n",
      "C:\\Users\\Takashi\\Miniconda3\\lib\\site-packages\\sklearn\\metrics\\scorer.py:127: DeprecationWarning: Scoring method log_loss was renamed to neg_log_loss in version 0.18 and will be removed in 0.20.\n",
      "  sample_weight=sample_weight)\n",
      "C:\\Users\\Takashi\\Miniconda3\\lib\\site-packages\\sklearn\\metrics\\scorer.py:127: DeprecationWarning: Scoring method log_loss was renamed to neg_log_loss in version 0.18 and will be removed in 0.20.\n",
      "  sample_weight=sample_weight)\n"
     ]
    },
    {
     "name": "stdout",
     "output_type": "stream",
     "text": [
      "[CV]  max_depth=8, colsample_bytree=0.65035061688, subsample=0.557620014418 -   0.0s\n",
      "[CV] max_depth=8, colsample_bytree=0.65035061688, subsample=0.557620014418 \n",
      "[CV]  max_depth=8, colsample_bytree=0.65035061688, subsample=0.557620014418 -   0.0s\n",
      "[CV] max_depth=8, colsample_bytree=0.65035061688, subsample=0.557620014418 \n",
      "[CV]  max_depth=8, colsample_bytree=0.65035061688, subsample=0.557620014418 -   0.0s\n",
      "[CV] max_depth=8, colsample_bytree=0.65035061688, subsample=0.557620014418 \n"
     ]
    },
    {
     "name": "stderr",
     "output_type": "stream",
     "text": [
      "C:\\Users\\Takashi\\Miniconda3\\lib\\site-packages\\sklearn\\metrics\\scorer.py:127: DeprecationWarning: Scoring method log_loss was renamed to neg_log_loss in version 0.18 and will be removed in 0.20.\n",
      "  sample_weight=sample_weight)\n",
      "C:\\Users\\Takashi\\Miniconda3\\lib\\site-packages\\sklearn\\metrics\\scorer.py:127: DeprecationWarning: Scoring method log_loss was renamed to neg_log_loss in version 0.18 and will be removed in 0.20.\n",
      "  sample_weight=sample_weight)\n",
      "C:\\Users\\Takashi\\Miniconda3\\lib\\site-packages\\sklearn\\metrics\\scorer.py:127: DeprecationWarning: Scoring method log_loss was renamed to neg_log_loss in version 0.18 and will be removed in 0.20.\n",
      "  sample_weight=sample_weight)\n",
      "C:\\Users\\Takashi\\Miniconda3\\lib\\site-packages\\sklearn\\metrics\\scorer.py:127: DeprecationWarning: Scoring method log_loss was renamed to neg_log_loss in version 0.18 and will be removed in 0.20.\n",
      "  sample_weight=sample_weight)\n",
      "C:\\Users\\Takashi\\Miniconda3\\lib\\site-packages\\sklearn\\metrics\\scorer.py:127: DeprecationWarning: Scoring method log_loss was renamed to neg_log_loss in version 0.18 and will be removed in 0.20.\n",
      "  sample_weight=sample_weight)\n"
     ]
    },
    {
     "name": "stdout",
     "output_type": "stream",
     "text": [
      "[CV]  max_depth=8, colsample_bytree=0.65035061688, subsample=0.557620014418 -   0.0s\n",
      "[CV] max_depth=3, colsample_bytree=0.571560960694, subsample=0.510599991387 \n",
      "[CV]  max_depth=3, colsample_bytree=0.571560960694, subsample=0.510599991387 -   0.0s\n",
      "[CV] max_depth=3, colsample_bytree=0.571560960694, subsample=0.510599991387 \n",
      "[CV]  max_depth=3, colsample_bytree=0.571560960694, subsample=0.510599991387 -   0.0s\n",
      "[CV] max_depth=3, colsample_bytree=0.571560960694, subsample=0.510599991387 \n",
      "[CV]  max_depth=3, colsample_bytree=0.571560960694, subsample=0.510599991387 -   0.0s\n",
      "[CV] max_depth=3, colsample_bytree=0.571560960694, subsample=0.510599991387 \n",
      "[CV]  max_depth=3, colsample_bytree=0.571560960694, subsample=0.510599991387 -   0.0s\n",
      "[CV] max_depth=3, colsample_bytree=0.571560960694, subsample=0.510599991387 \n"
     ]
    },
    {
     "name": "stderr",
     "output_type": "stream",
     "text": [
      "C:\\Users\\Takashi\\Miniconda3\\lib\\site-packages\\sklearn\\metrics\\scorer.py:127: DeprecationWarning: Scoring method log_loss was renamed to neg_log_loss in version 0.18 and will be removed in 0.20.\n",
      "  sample_weight=sample_weight)\n",
      "C:\\Users\\Takashi\\Miniconda3\\lib\\site-packages\\sklearn\\metrics\\scorer.py:127: DeprecationWarning: Scoring method log_loss was renamed to neg_log_loss in version 0.18 and will be removed in 0.20.\n",
      "  sample_weight=sample_weight)\n",
      "C:\\Users\\Takashi\\Miniconda3\\lib\\site-packages\\sklearn\\metrics\\scorer.py:127: DeprecationWarning: Scoring method log_loss was renamed to neg_log_loss in version 0.18 and will be removed in 0.20.\n",
      "  sample_weight=sample_weight)\n",
      "C:\\Users\\Takashi\\Miniconda3\\lib\\site-packages\\sklearn\\metrics\\scorer.py:127: DeprecationWarning: Scoring method log_loss was renamed to neg_log_loss in version 0.18 and will be removed in 0.20.\n",
      "  sample_weight=sample_weight)\n",
      "C:\\Users\\Takashi\\Miniconda3\\lib\\site-packages\\sklearn\\metrics\\scorer.py:127: DeprecationWarning: Scoring method log_loss was renamed to neg_log_loss in version 0.18 and will be removed in 0.20.\n",
      "  sample_weight=sample_weight)\n"
     ]
    },
    {
     "name": "stdout",
     "output_type": "stream",
     "text": [
      "[CV]  max_depth=3, colsample_bytree=0.571560960694, subsample=0.510599991387 -   0.0s\n",
      "[CV] max_depth=3, colsample_bytree=0.571560960694, subsample=0.510599991387 \n",
      "[CV]  max_depth=3, colsample_bytree=0.571560960694, subsample=0.510599991387 -   0.0s\n",
      "[CV] max_depth=3, colsample_bytree=0.571560960694, subsample=0.510599991387 \n",
      "[CV]  max_depth=3, colsample_bytree=0.571560960694, subsample=0.510599991387 -   0.0s\n",
      "[CV] max_depth=3, colsample_bytree=0.571560960694, subsample=0.510599991387 \n",
      "[CV]  max_depth=3, colsample_bytree=0.571560960694, subsample=0.510599991387 -   0.0s\n",
      "[CV] max_depth=3, colsample_bytree=0.571560960694, subsample=0.510599991387 \n",
      "[CV]  max_depth=3, colsample_bytree=0.571560960694, subsample=0.510599991387 -   0.0s\n",
      "[CV] max_depth=3, colsample_bytree=0.571560960694, subsample=0.510599991387 \n"
     ]
    },
    {
     "name": "stderr",
     "output_type": "stream",
     "text": [
      "C:\\Users\\Takashi\\Miniconda3\\lib\\site-packages\\sklearn\\metrics\\scorer.py:127: DeprecationWarning: Scoring method log_loss was renamed to neg_log_loss in version 0.18 and will be removed in 0.20.\n",
      "  sample_weight=sample_weight)\n",
      "C:\\Users\\Takashi\\Miniconda3\\lib\\site-packages\\sklearn\\metrics\\scorer.py:127: DeprecationWarning: Scoring method log_loss was renamed to neg_log_loss in version 0.18 and will be removed in 0.20.\n",
      "  sample_weight=sample_weight)\n",
      "C:\\Users\\Takashi\\Miniconda3\\lib\\site-packages\\sklearn\\metrics\\scorer.py:127: DeprecationWarning: Scoring method log_loss was renamed to neg_log_loss in version 0.18 and will be removed in 0.20.\n",
      "  sample_weight=sample_weight)\n"
     ]
    },
    {
     "name": "stdout",
     "output_type": "stream",
     "text": [
      "[CV]  max_depth=3, colsample_bytree=0.571560960694, subsample=0.510599991387 -   0.0s\n",
      "[CV] max_depth=8, colsample_bytree=0.515803566446, subsample=0.816136021649 \n",
      "[CV]  max_depth=8, colsample_bytree=0.515803566446, subsample=0.816136021649 -   0.0s\n",
      "[CV] max_depth=8, colsample_bytree=0.515803566446, subsample=0.816136021649 \n",
      "[CV]  max_depth=8, colsample_bytree=0.515803566446, subsample=0.816136021649 -   0.0s\n",
      "[CV] max_depth=8, colsample_bytree=0.515803566446, subsample=0.816136021649 \n"
     ]
    },
    {
     "name": "stderr",
     "output_type": "stream",
     "text": [
      "C:\\Users\\Takashi\\Miniconda3\\lib\\site-packages\\sklearn\\metrics\\scorer.py:127: DeprecationWarning: Scoring method log_loss was renamed to neg_log_loss in version 0.18 and will be removed in 0.20.\n",
      "  sample_weight=sample_weight)\n",
      "C:\\Users\\Takashi\\Miniconda3\\lib\\site-packages\\sklearn\\metrics\\scorer.py:127: DeprecationWarning: Scoring method log_loss was renamed to neg_log_loss in version 0.18 and will be removed in 0.20.\n",
      "  sample_weight=sample_weight)\n",
      "C:\\Users\\Takashi\\Miniconda3\\lib\\site-packages\\sklearn\\metrics\\scorer.py:127: DeprecationWarning: Scoring method log_loss was renamed to neg_log_loss in version 0.18 and will be removed in 0.20.\n",
      "  sample_weight=sample_weight)\n"
     ]
    },
    {
     "name": "stdout",
     "output_type": "stream",
     "text": [
      "[CV]  max_depth=8, colsample_bytree=0.515803566446, subsample=0.816136021649 -   0.0s\n",
      "[CV] max_depth=8, colsample_bytree=0.515803566446, subsample=0.816136021649 \n",
      "[CV]  max_depth=8, colsample_bytree=0.515803566446, subsample=0.816136021649 -   0.0s\n",
      "[CV] max_depth=8, colsample_bytree=0.515803566446, subsample=0.816136021649 \n",
      "[CV]  max_depth=8, colsample_bytree=0.515803566446, subsample=0.816136021649 -   0.0s\n",
      "[CV] max_depth=8, colsample_bytree=0.515803566446, subsample=0.816136021649 \n"
     ]
    },
    {
     "name": "stderr",
     "output_type": "stream",
     "text": [
      "C:\\Users\\Takashi\\Miniconda3\\lib\\site-packages\\sklearn\\metrics\\scorer.py:127: DeprecationWarning: Scoring method log_loss was renamed to neg_log_loss in version 0.18 and will be removed in 0.20.\n",
      "  sample_weight=sample_weight)\n",
      "C:\\Users\\Takashi\\Miniconda3\\lib\\site-packages\\sklearn\\metrics\\scorer.py:127: DeprecationWarning: Scoring method log_loss was renamed to neg_log_loss in version 0.18 and will be removed in 0.20.\n",
      "  sample_weight=sample_weight)\n",
      "C:\\Users\\Takashi\\Miniconda3\\lib\\site-packages\\sklearn\\metrics\\scorer.py:127: DeprecationWarning: Scoring method log_loss was renamed to neg_log_loss in version 0.18 and will be removed in 0.20.\n",
      "  sample_weight=sample_weight)\n"
     ]
    },
    {
     "name": "stdout",
     "output_type": "stream",
     "text": [
      "[CV]  max_depth=8, colsample_bytree=0.515803566446, subsample=0.816136021649 -   0.0s\n",
      "[CV] max_depth=8, colsample_bytree=0.515803566446, subsample=0.816136021649 \n",
      "[CV]  max_depth=8, colsample_bytree=0.515803566446, subsample=0.816136021649 -   0.0s\n",
      "[CV] max_depth=8, colsample_bytree=0.515803566446, subsample=0.816136021649 \n",
      "[CV]  max_depth=8, colsample_bytree=0.515803566446, subsample=0.816136021649 -   0.0s\n",
      "[CV] max_depth=8, colsample_bytree=0.515803566446, subsample=0.816136021649 \n"
     ]
    },
    {
     "name": "stderr",
     "output_type": "stream",
     "text": [
      "C:\\Users\\Takashi\\Miniconda3\\lib\\site-packages\\sklearn\\metrics\\scorer.py:127: DeprecationWarning: Scoring method log_loss was renamed to neg_log_loss in version 0.18 and will be removed in 0.20.\n",
      "  sample_weight=sample_weight)\n",
      "C:\\Users\\Takashi\\Miniconda3\\lib\\site-packages\\sklearn\\metrics\\scorer.py:127: DeprecationWarning: Scoring method log_loss was renamed to neg_log_loss in version 0.18 and will be removed in 0.20.\n",
      "  sample_weight=sample_weight)\n",
      "C:\\Users\\Takashi\\Miniconda3\\lib\\site-packages\\sklearn\\metrics\\scorer.py:127: DeprecationWarning: Scoring method log_loss was renamed to neg_log_loss in version 0.18 and will be removed in 0.20.\n",
      "  sample_weight=sample_weight)\n",
      "C:\\Users\\Takashi\\Miniconda3\\lib\\site-packages\\sklearn\\metrics\\scorer.py:127: DeprecationWarning: Scoring method log_loss was renamed to neg_log_loss in version 0.18 and will be removed in 0.20.\n",
      "  sample_weight=sample_weight)\n",
      "C:\\Users\\Takashi\\Miniconda3\\lib\\site-packages\\sklearn\\metrics\\scorer.py:127: DeprecationWarning: Scoring method log_loss was renamed to neg_log_loss in version 0.18 and will be removed in 0.20.\n",
      "  sample_weight=sample_weight)\n",
      "C:\\Users\\Takashi\\Miniconda3\\lib\\site-packages\\sklearn\\metrics\\scorer.py:127: DeprecationWarning: Scoring method log_loss was renamed to neg_log_loss in version 0.18 and will be removed in 0.20.\n",
      "  sample_weight=sample_weight)\n"
     ]
    },
    {
     "name": "stdout",
     "output_type": "stream",
     "text": [
      "[CV]  max_depth=8, colsample_bytree=0.515803566446, subsample=0.816136021649 -   0.0s\n",
      "[CV] max_depth=8, colsample_bytree=0.515803566446, subsample=0.816136021649 \n",
      "[CV]  max_depth=8, colsample_bytree=0.515803566446, subsample=0.816136021649 -   0.0s\n",
      "[CV] max_depth=1, colsample_bytree=0.518727129569, subsample=0.579148414921 \n",
      "[CV]  max_depth=1, colsample_bytree=0.518727129569, subsample=0.579148414921 -   0.0s\n",
      "[CV] max_depth=1, colsample_bytree=0.518727129569, subsample=0.579148414921 \n",
      "[CV]  max_depth=1, colsample_bytree=0.518727129569, subsample=0.579148414921 -   0.0s\n",
      "[CV] max_depth=1, colsample_bytree=0.518727129569, subsample=0.579148414921 \n",
      "[CV]  max_depth=1, colsample_bytree=0.518727129569, subsample=0.579148414921 -   0.0s\n",
      "[CV] max_depth=1, colsample_bytree=0.518727129569, subsample=0.579148414921 \n",
      "[CV]  max_depth=1, colsample_bytree=0.518727129569, subsample=0.579148414921 -   0.0s\n",
      "[CV] max_depth=1, colsample_bytree=0.518727129569, subsample=0.579148414921 \n"
     ]
    },
    {
     "name": "stderr",
     "output_type": "stream",
     "text": [
      "C:\\Users\\Takashi\\Miniconda3\\lib\\site-packages\\sklearn\\metrics\\scorer.py:127: DeprecationWarning: Scoring method log_loss was renamed to neg_log_loss in version 0.18 and will be removed in 0.20.\n",
      "  sample_weight=sample_weight)\n",
      "C:\\Users\\Takashi\\Miniconda3\\lib\\site-packages\\sklearn\\metrics\\scorer.py:127: DeprecationWarning: Scoring method log_loss was renamed to neg_log_loss in version 0.18 and will be removed in 0.20.\n",
      "  sample_weight=sample_weight)\n",
      "C:\\Users\\Takashi\\Miniconda3\\lib\\site-packages\\sklearn\\metrics\\scorer.py:127: DeprecationWarning: Scoring method log_loss was renamed to neg_log_loss in version 0.18 and will be removed in 0.20.\n",
      "  sample_weight=sample_weight)\n",
      "C:\\Users\\Takashi\\Miniconda3\\lib\\site-packages\\sklearn\\metrics\\scorer.py:127: DeprecationWarning: Scoring method log_loss was renamed to neg_log_loss in version 0.18 and will be removed in 0.20.\n",
      "  sample_weight=sample_weight)\n",
      "C:\\Users\\Takashi\\Miniconda3\\lib\\site-packages\\sklearn\\metrics\\scorer.py:127: DeprecationWarning: Scoring method log_loss was renamed to neg_log_loss in version 0.18 and will be removed in 0.20.\n",
      "  sample_weight=sample_weight)\n",
      "C:\\Users\\Takashi\\Miniconda3\\lib\\site-packages\\sklearn\\metrics\\scorer.py:127: DeprecationWarning: Scoring method log_loss was renamed to neg_log_loss in version 0.18 and will be removed in 0.20.\n",
      "  sample_weight=sample_weight)\n"
     ]
    },
    {
     "name": "stdout",
     "output_type": "stream",
     "text": [
      "[CV]  max_depth=1, colsample_bytree=0.518727129569, subsample=0.579148414921 -   0.0s\n",
      "[CV] max_depth=1, colsample_bytree=0.518727129569, subsample=0.579148414921 \n",
      "[CV]  max_depth=1, colsample_bytree=0.518727129569, subsample=0.579148414921 -   0.0s\n",
      "[CV] max_depth=1, colsample_bytree=0.518727129569, subsample=0.579148414921 \n",
      "[CV]  max_depth=1, colsample_bytree=0.518727129569, subsample=0.579148414921 -   0.0s\n",
      "[CV] max_depth=1, colsample_bytree=0.518727129569, subsample=0.579148414921 \n",
      "[CV]  max_depth=1, colsample_bytree=0.518727129569, subsample=0.579148414921 -   0.0s\n",
      "[CV] max_depth=1, colsample_bytree=0.518727129569, subsample=0.579148414921 \n",
      "[CV]  max_depth=1, colsample_bytree=0.518727129569, subsample=0.579148414921 -   0.0s\n",
      "[CV] max_depth=1, colsample_bytree=0.518727129569, subsample=0.579148414921 \n",
      "[CV]  max_depth=1, colsample_bytree=0.518727129569, subsample=0.579148414921 -   0.0s\n",
      "[CV] max_depth=6, colsample_bytree=0.527724590438, subsample=0.799323333609 \n"
     ]
    },
    {
     "name": "stderr",
     "output_type": "stream",
     "text": [
      "C:\\Users\\Takashi\\Miniconda3\\lib\\site-packages\\sklearn\\metrics\\scorer.py:127: DeprecationWarning: Scoring method log_loss was renamed to neg_log_loss in version 0.18 and will be removed in 0.20.\n",
      "  sample_weight=sample_weight)\n",
      "C:\\Users\\Takashi\\Miniconda3\\lib\\site-packages\\sklearn\\metrics\\scorer.py:127: DeprecationWarning: Scoring method log_loss was renamed to neg_log_loss in version 0.18 and will be removed in 0.20.\n",
      "  sample_weight=sample_weight)\n",
      "C:\\Users\\Takashi\\Miniconda3\\lib\\site-packages\\sklearn\\metrics\\scorer.py:127: DeprecationWarning: Scoring method log_loss was renamed to neg_log_loss in version 0.18 and will be removed in 0.20.\n",
      "  sample_weight=sample_weight)\n"
     ]
    },
    {
     "name": "stdout",
     "output_type": "stream",
     "text": [
      "[CV]  max_depth=6, colsample_bytree=0.527724590438, subsample=0.799323333609 -   0.0s\n",
      "[CV] max_depth=6, colsample_bytree=0.527724590438, subsample=0.799323333609 \n",
      "[CV]  max_depth=6, colsample_bytree=0.527724590438, subsample=0.799323333609 -   0.0s\n",
      "[CV] max_depth=6, colsample_bytree=0.527724590438, subsample=0.799323333609 \n",
      "[CV]  max_depth=6, colsample_bytree=0.527724590438, subsample=0.799323333609 -   0.0s\n",
      "[CV] max_depth=6, colsample_bytree=0.527724590438, subsample=0.799323333609 \n"
     ]
    },
    {
     "name": "stderr",
     "output_type": "stream",
     "text": [
      "C:\\Users\\Takashi\\Miniconda3\\lib\\site-packages\\sklearn\\metrics\\scorer.py:127: DeprecationWarning: Scoring method log_loss was renamed to neg_log_loss in version 0.18 and will be removed in 0.20.\n",
      "  sample_weight=sample_weight)\n",
      "C:\\Users\\Takashi\\Miniconda3\\lib\\site-packages\\sklearn\\metrics\\scorer.py:127: DeprecationWarning: Scoring method log_loss was renamed to neg_log_loss in version 0.18 and will be removed in 0.20.\n",
      "  sample_weight=sample_weight)\n",
      "C:\\Users\\Takashi\\Miniconda3\\lib\\site-packages\\sklearn\\metrics\\scorer.py:127: DeprecationWarning: Scoring method log_loss was renamed to neg_log_loss in version 0.18 and will be removed in 0.20.\n",
      "  sample_weight=sample_weight)\n"
     ]
    },
    {
     "name": "stdout",
     "output_type": "stream",
     "text": [
      "[CV]  max_depth=6, colsample_bytree=0.527724590438, subsample=0.799323333609 -   0.0s\n",
      "[CV] max_depth=6, colsample_bytree=0.527724590438, subsample=0.799323333609 \n",
      "[CV]  max_depth=6, colsample_bytree=0.527724590438, subsample=0.799323333609 -   0.0s\n",
      "[CV] max_depth=6, colsample_bytree=0.527724590438, subsample=0.799323333609 \n",
      "[CV]  max_depth=6, colsample_bytree=0.527724590438, subsample=0.799323333609 -   0.0s\n",
      "[CV] max_depth=6, colsample_bytree=0.527724590438, subsample=0.799323333609 \n"
     ]
    },
    {
     "name": "stderr",
     "output_type": "stream",
     "text": [
      "C:\\Users\\Takashi\\Miniconda3\\lib\\site-packages\\sklearn\\metrics\\scorer.py:127: DeprecationWarning: Scoring method log_loss was renamed to neg_log_loss in version 0.18 and will be removed in 0.20.\n",
      "  sample_weight=sample_weight)\n",
      "C:\\Users\\Takashi\\Miniconda3\\lib\\site-packages\\sklearn\\metrics\\scorer.py:127: DeprecationWarning: Scoring method log_loss was renamed to neg_log_loss in version 0.18 and will be removed in 0.20.\n",
      "  sample_weight=sample_weight)\n",
      "C:\\Users\\Takashi\\Miniconda3\\lib\\site-packages\\sklearn\\metrics\\scorer.py:127: DeprecationWarning: Scoring method log_loss was renamed to neg_log_loss in version 0.18 and will be removed in 0.20.\n",
      "  sample_weight=sample_weight)\n"
     ]
    },
    {
     "name": "stdout",
     "output_type": "stream",
     "text": [
      "[CV]  max_depth=6, colsample_bytree=0.527724590438, subsample=0.799323333609 -   0.0s\n",
      "[CV] max_depth=6, colsample_bytree=0.527724590438, subsample=0.799323333609 \n",
      "[CV]  max_depth=6, colsample_bytree=0.527724590438, subsample=0.799323333609 -   0.0s\n",
      "[CV] max_depth=6, colsample_bytree=0.527724590438, subsample=0.799323333609 \n",
      "[CV]  max_depth=6, colsample_bytree=0.527724590438, subsample=0.799323333609 -   0.0s\n",
      "[CV] max_depth=6, colsample_bytree=0.527724590438, subsample=0.799323333609 \n"
     ]
    },
    {
     "name": "stderr",
     "output_type": "stream",
     "text": [
      "C:\\Users\\Takashi\\Miniconda3\\lib\\site-packages\\sklearn\\metrics\\scorer.py:127: DeprecationWarning: Scoring method log_loss was renamed to neg_log_loss in version 0.18 and will be removed in 0.20.\n",
      "  sample_weight=sample_weight)\n",
      "C:\\Users\\Takashi\\Miniconda3\\lib\\site-packages\\sklearn\\metrics\\scorer.py:127: DeprecationWarning: Scoring method log_loss was renamed to neg_log_loss in version 0.18 and will be removed in 0.20.\n",
      "  sample_weight=sample_weight)\n"
     ]
    },
    {
     "name": "stdout",
     "output_type": "stream",
     "text": [
      "[CV]  max_depth=6, colsample_bytree=0.527724590438, subsample=0.799323333609 -   0.0s\n",
      "[CV] max_depth=9, colsample_bytree=0.924577954445, subsample=0.739995570815 \n",
      "[CV]  max_depth=9, colsample_bytree=0.924577954445, subsample=0.739995570815 -   0.0s\n",
      "[CV] max_depth=9, colsample_bytree=0.924577954445, subsample=0.739995570815 \n"
     ]
    },
    {
     "name": "stderr",
     "output_type": "stream",
     "text": [
      "C:\\Users\\Takashi\\Miniconda3\\lib\\site-packages\\sklearn\\metrics\\scorer.py:127: DeprecationWarning: Scoring method log_loss was renamed to neg_log_loss in version 0.18 and will be removed in 0.20.\n",
      "  sample_weight=sample_weight)\n",
      "C:\\Users\\Takashi\\Miniconda3\\lib\\site-packages\\sklearn\\metrics\\scorer.py:127: DeprecationWarning: Scoring method log_loss was renamed to neg_log_loss in version 0.18 and will be removed in 0.20.\n",
      "  sample_weight=sample_weight)\n"
     ]
    },
    {
     "name": "stdout",
     "output_type": "stream",
     "text": [
      "[CV]  max_depth=9, colsample_bytree=0.924577954445, subsample=0.739995570815 -   0.0s\n",
      "[CV] max_depth=9, colsample_bytree=0.924577954445, subsample=0.739995570815 \n",
      "[CV]  max_depth=9, colsample_bytree=0.924577954445, subsample=0.739995570815 -   0.0s\n",
      "[CV] max_depth=9, colsample_bytree=0.924577954445, subsample=0.739995570815 \n"
     ]
    },
    {
     "name": "stderr",
     "output_type": "stream",
     "text": [
      "C:\\Users\\Takashi\\Miniconda3\\lib\\site-packages\\sklearn\\metrics\\scorer.py:127: DeprecationWarning: Scoring method log_loss was renamed to neg_log_loss in version 0.18 and will be removed in 0.20.\n",
      "  sample_weight=sample_weight)\n",
      "C:\\Users\\Takashi\\Miniconda3\\lib\\site-packages\\sklearn\\metrics\\scorer.py:127: DeprecationWarning: Scoring method log_loss was renamed to neg_log_loss in version 0.18 and will be removed in 0.20.\n",
      "  sample_weight=sample_weight)\n"
     ]
    },
    {
     "name": "stdout",
     "output_type": "stream",
     "text": [
      "[CV]  max_depth=9, colsample_bytree=0.924577954445, subsample=0.739995570815 -   0.0s\n",
      "[CV] max_depth=9, colsample_bytree=0.924577954445, subsample=0.739995570815 \n",
      "[CV]  max_depth=9, colsample_bytree=0.924577954445, subsample=0.739995570815 -   0.0s\n",
      "[CV] max_depth=9, colsample_bytree=0.924577954445, subsample=0.739995570815 \n"
     ]
    },
    {
     "name": "stderr",
     "output_type": "stream",
     "text": [
      "C:\\Users\\Takashi\\Miniconda3\\lib\\site-packages\\sklearn\\metrics\\scorer.py:127: DeprecationWarning: Scoring method log_loss was renamed to neg_log_loss in version 0.18 and will be removed in 0.20.\n",
      "  sample_weight=sample_weight)\n",
      "C:\\Users\\Takashi\\Miniconda3\\lib\\site-packages\\sklearn\\metrics\\scorer.py:127: DeprecationWarning: Scoring method log_loss was renamed to neg_log_loss in version 0.18 and will be removed in 0.20.\n",
      "  sample_weight=sample_weight)\n"
     ]
    },
    {
     "name": "stdout",
     "output_type": "stream",
     "text": [
      "[CV]  max_depth=9, colsample_bytree=0.924577954445, subsample=0.739995570815 -   0.0s\n",
      "[CV] max_depth=9, colsample_bytree=0.924577954445, subsample=0.739995570815 \n",
      "[CV]  max_depth=9, colsample_bytree=0.924577954445, subsample=0.739995570815 -   0.0s\n",
      "[CV] max_depth=9, colsample_bytree=0.924577954445, subsample=0.739995570815 \n"
     ]
    },
    {
     "name": "stderr",
     "output_type": "stream",
     "text": [
      "C:\\Users\\Takashi\\Miniconda3\\lib\\site-packages\\sklearn\\metrics\\scorer.py:127: DeprecationWarning: Scoring method log_loss was renamed to neg_log_loss in version 0.18 and will be removed in 0.20.\n",
      "  sample_weight=sample_weight)\n",
      "C:\\Users\\Takashi\\Miniconda3\\lib\\site-packages\\sklearn\\metrics\\scorer.py:127: DeprecationWarning: Scoring method log_loss was renamed to neg_log_loss in version 0.18 and will be removed in 0.20.\n",
      "  sample_weight=sample_weight)\n"
     ]
    },
    {
     "name": "stdout",
     "output_type": "stream",
     "text": [
      "[CV]  max_depth=9, colsample_bytree=0.924577954445, subsample=0.739995570815 -   0.0s\n",
      "[CV] max_depth=9, colsample_bytree=0.924577954445, subsample=0.739995570815 \n",
      "[CV]  max_depth=9, colsample_bytree=0.924577954445, subsample=0.739995570815 -   0.0s\n",
      "[CV] max_depth=9, colsample_bytree=0.924577954445, subsample=0.739995570815 \n"
     ]
    },
    {
     "name": "stderr",
     "output_type": "stream",
     "text": [
      "C:\\Users\\Takashi\\Miniconda3\\lib\\site-packages\\sklearn\\metrics\\scorer.py:127: DeprecationWarning: Scoring method log_loss was renamed to neg_log_loss in version 0.18 and will be removed in 0.20.\n",
      "  sample_weight=sample_weight)\n",
      "C:\\Users\\Takashi\\Miniconda3\\lib\\site-packages\\sklearn\\metrics\\scorer.py:127: DeprecationWarning: Scoring method log_loss was renamed to neg_log_loss in version 0.18 and will be removed in 0.20.\n",
      "  sample_weight=sample_weight)\n"
     ]
    },
    {
     "name": "stdout",
     "output_type": "stream",
     "text": [
      "[CV]  max_depth=9, colsample_bytree=0.924577954445, subsample=0.739995570815 -   0.0s\n",
      "[CV] max_depth=10, colsample_bytree=0.590499369778, subsample=0.726962993748 \n",
      "[CV]  max_depth=10, colsample_bytree=0.590499369778, subsample=0.726962993748 -   0.0s\n",
      "[CV] max_depth=10, colsample_bytree=0.590499369778, subsample=0.726962993748 \n"
     ]
    },
    {
     "name": "stderr",
     "output_type": "stream",
     "text": [
      "C:\\Users\\Takashi\\Miniconda3\\lib\\site-packages\\sklearn\\metrics\\scorer.py:127: DeprecationWarning: Scoring method log_loss was renamed to neg_log_loss in version 0.18 and will be removed in 0.20.\n",
      "  sample_weight=sample_weight)\n",
      "C:\\Users\\Takashi\\Miniconda3\\lib\\site-packages\\sklearn\\metrics\\scorer.py:127: DeprecationWarning: Scoring method log_loss was renamed to neg_log_loss in version 0.18 and will be removed in 0.20.\n",
      "  sample_weight=sample_weight)\n"
     ]
    },
    {
     "name": "stdout",
     "output_type": "stream",
     "text": [
      "[CV]  max_depth=10, colsample_bytree=0.590499369778, subsample=0.726962993748 -   0.0s\n",
      "[CV] max_depth=10, colsample_bytree=0.590499369778, subsample=0.726962993748 \n",
      "[CV]  max_depth=10, colsample_bytree=0.590499369778, subsample=0.726962993748 -   0.0s\n",
      "[CV] max_depth=10, colsample_bytree=0.590499369778, subsample=0.726962993748 \n"
     ]
    },
    {
     "name": "stderr",
     "output_type": "stream",
     "text": [
      "C:\\Users\\Takashi\\Miniconda3\\lib\\site-packages\\sklearn\\metrics\\scorer.py:127: DeprecationWarning: Scoring method log_loss was renamed to neg_log_loss in version 0.18 and will be removed in 0.20.\n",
      "  sample_weight=sample_weight)\n",
      "C:\\Users\\Takashi\\Miniconda3\\lib\\site-packages\\sklearn\\metrics\\scorer.py:127: DeprecationWarning: Scoring method log_loss was renamed to neg_log_loss in version 0.18 and will be removed in 0.20.\n",
      "  sample_weight=sample_weight)\n"
     ]
    },
    {
     "name": "stdout",
     "output_type": "stream",
     "text": [
      "[CV]  max_depth=10, colsample_bytree=0.590499369778, subsample=0.726962993748 -   0.0s\n",
      "[CV] max_depth=10, colsample_bytree=0.590499369778, subsample=0.726962993748 \n",
      "[CV]  max_depth=10, colsample_bytree=0.590499369778, subsample=0.726962993748 -   0.0s\n",
      "[CV] max_depth=10, colsample_bytree=0.590499369778, subsample=0.726962993748 \n"
     ]
    },
    {
     "name": "stderr",
     "output_type": "stream",
     "text": [
      "C:\\Users\\Takashi\\Miniconda3\\lib\\site-packages\\sklearn\\metrics\\scorer.py:127: DeprecationWarning: Scoring method log_loss was renamed to neg_log_loss in version 0.18 and will be removed in 0.20.\n",
      "  sample_weight=sample_weight)\n",
      "C:\\Users\\Takashi\\Miniconda3\\lib\\site-packages\\sklearn\\metrics\\scorer.py:127: DeprecationWarning: Scoring method log_loss was renamed to neg_log_loss in version 0.18 and will be removed in 0.20.\n",
      "  sample_weight=sample_weight)\n"
     ]
    },
    {
     "name": "stdout",
     "output_type": "stream",
     "text": [
      "[CV]  max_depth=10, colsample_bytree=0.590499369778, subsample=0.726962993748 -   0.0s\n",
      "[CV] max_depth=10, colsample_bytree=0.590499369778, subsample=0.726962993748 \n",
      "[CV]  max_depth=10, colsample_bytree=0.590499369778, subsample=0.726962993748 -   0.0s\n",
      "[CV] max_depth=10, colsample_bytree=0.590499369778, subsample=0.726962993748 \n"
     ]
    },
    {
     "name": "stderr",
     "output_type": "stream",
     "text": [
      "C:\\Users\\Takashi\\Miniconda3\\lib\\site-packages\\sklearn\\metrics\\scorer.py:127: DeprecationWarning: Scoring method log_loss was renamed to neg_log_loss in version 0.18 and will be removed in 0.20.\n",
      "  sample_weight=sample_weight)\n",
      "C:\\Users\\Takashi\\Miniconda3\\lib\\site-packages\\sklearn\\metrics\\scorer.py:127: DeprecationWarning: Scoring method log_loss was renamed to neg_log_loss in version 0.18 and will be removed in 0.20.\n",
      "  sample_weight=sample_weight)\n"
     ]
    },
    {
     "name": "stdout",
     "output_type": "stream",
     "text": [
      "[CV]  max_depth=10, colsample_bytree=0.590499369778, subsample=0.726962993748 -   0.0s\n",
      "[CV] max_depth=10, colsample_bytree=0.590499369778, subsample=0.726962993748 \n",
      "[CV]  max_depth=10, colsample_bytree=0.590499369778, subsample=0.726962993748 -   0.0s\n",
      "[CV] max_depth=10, colsample_bytree=0.590499369778, subsample=0.726962993748 \n"
     ]
    },
    {
     "name": "stderr",
     "output_type": "stream",
     "text": [
      "C:\\Users\\Takashi\\Miniconda3\\lib\\site-packages\\sklearn\\metrics\\scorer.py:127: DeprecationWarning: Scoring method log_loss was renamed to neg_log_loss in version 0.18 and will be removed in 0.20.\n",
      "  sample_weight=sample_weight)\n",
      "C:\\Users\\Takashi\\Miniconda3\\lib\\site-packages\\sklearn\\metrics\\scorer.py:127: DeprecationWarning: Scoring method log_loss was renamed to neg_log_loss in version 0.18 and will be removed in 0.20.\n",
      "  sample_weight=sample_weight)\n",
      "C:\\Users\\Takashi\\Miniconda3\\lib\\site-packages\\sklearn\\metrics\\scorer.py:127: DeprecationWarning: Scoring method log_loss was renamed to neg_log_loss in version 0.18 and will be removed in 0.20.\n",
      "  sample_weight=sample_weight)\n",
      "C:\\Users\\Takashi\\Miniconda3\\lib\\site-packages\\sklearn\\metrics\\scorer.py:127: DeprecationWarning: Scoring method log_loss was renamed to neg_log_loss in version 0.18 and will be removed in 0.20.\n",
      "  sample_weight=sample_weight)\n",
      "C:\\Users\\Takashi\\Miniconda3\\lib\\site-packages\\sklearn\\metrics\\scorer.py:127: DeprecationWarning: Scoring method log_loss was renamed to neg_log_loss in version 0.18 and will be removed in 0.20.\n",
      "  sample_weight=sample_weight)\n",
      "C:\\Users\\Takashi\\Miniconda3\\lib\\site-packages\\sklearn\\metrics\\scorer.py:127: DeprecationWarning: Scoring method log_loss was renamed to neg_log_loss in version 0.18 and will be removed in 0.20.\n",
      "  sample_weight=sample_weight)\n"
     ]
    },
    {
     "name": "stdout",
     "output_type": "stream",
     "text": [
      "[CV]  max_depth=10, colsample_bytree=0.590499369778, subsample=0.726962993748 -   0.0s\n",
      "[CV] max_depth=2, colsample_bytree=0.638737211933, subsample=0.53857207601 \n",
      "[CV]  max_depth=2, colsample_bytree=0.638737211933, subsample=0.53857207601 -   0.0s\n",
      "[CV] max_depth=2, colsample_bytree=0.638737211933, subsample=0.53857207601 \n",
      "[CV]  max_depth=2, colsample_bytree=0.638737211933, subsample=0.53857207601 -   0.0s\n",
      "[CV] max_depth=2, colsample_bytree=0.638737211933, subsample=0.53857207601 \n",
      "[CV]  max_depth=2, colsample_bytree=0.638737211933, subsample=0.53857207601 -   0.0s\n",
      "[CV] max_depth=2, colsample_bytree=0.638737211933, subsample=0.53857207601 \n",
      "[CV]  max_depth=2, colsample_bytree=0.638737211933, subsample=0.53857207601 -   0.0s\n",
      "[CV] max_depth=2, colsample_bytree=0.638737211933, subsample=0.53857207601 \n",
      "[CV]  max_depth=2, colsample_bytree=0.638737211933, subsample=0.53857207601 -   0.0s\n",
      "[CV] max_depth=2, colsample_bytree=0.638737211933, subsample=0.53857207601 \n"
     ]
    },
    {
     "name": "stderr",
     "output_type": "stream",
     "text": [
      "C:\\Users\\Takashi\\Miniconda3\\lib\\site-packages\\sklearn\\metrics\\scorer.py:127: DeprecationWarning: Scoring method log_loss was renamed to neg_log_loss in version 0.18 and will be removed in 0.20.\n",
      "  sample_weight=sample_weight)\n",
      "C:\\Users\\Takashi\\Miniconda3\\lib\\site-packages\\sklearn\\metrics\\scorer.py:127: DeprecationWarning: Scoring method log_loss was renamed to neg_log_loss in version 0.18 and will be removed in 0.20.\n",
      "  sample_weight=sample_weight)\n",
      "C:\\Users\\Takashi\\Miniconda3\\lib\\site-packages\\sklearn\\metrics\\scorer.py:127: DeprecationWarning: Scoring method log_loss was renamed to neg_log_loss in version 0.18 and will be removed in 0.20.\n",
      "  sample_weight=sample_weight)\n",
      "C:\\Users\\Takashi\\Miniconda3\\lib\\site-packages\\sklearn\\metrics\\scorer.py:127: DeprecationWarning: Scoring method log_loss was renamed to neg_log_loss in version 0.18 and will be removed in 0.20.\n",
      "  sample_weight=sample_weight)\n",
      "C:\\Users\\Takashi\\Miniconda3\\lib\\site-packages\\sklearn\\metrics\\scorer.py:127: DeprecationWarning: Scoring method log_loss was renamed to neg_log_loss in version 0.18 and will be removed in 0.20.\n",
      "  sample_weight=sample_weight)\n"
     ]
    },
    {
     "name": "stdout",
     "output_type": "stream",
     "text": [
      "[CV]  max_depth=2, colsample_bytree=0.638737211933, subsample=0.53857207601 -   0.0s\n",
      "[CV] max_depth=2, colsample_bytree=0.638737211933, subsample=0.53857207601 \n",
      "[CV]  max_depth=2, colsample_bytree=0.638737211933, subsample=0.53857207601 -   0.0s\n",
      "[CV] max_depth=2, colsample_bytree=0.638737211933, subsample=0.53857207601 \n",
      "[CV]  max_depth=2, colsample_bytree=0.638737211933, subsample=0.53857207601 -   0.0s\n",
      "[CV] max_depth=2, colsample_bytree=0.638737211933, subsample=0.53857207601 \n",
      "[CV]  max_depth=2, colsample_bytree=0.638737211933, subsample=0.53857207601 -   0.0s\n",
      "[CV] max_depth=2, colsample_bytree=0.638737211933, subsample=0.53857207601 \n",
      "[CV]  max_depth=2, colsample_bytree=0.638737211933, subsample=0.53857207601 -   0.0s\n",
      "[CV] max_depth=6, colsample_bytree=0.7228193889, subsample=0.705535197236 \n"
     ]
    },
    {
     "name": "stderr",
     "output_type": "stream",
     "text": [
      "C:\\Users\\Takashi\\Miniconda3\\lib\\site-packages\\sklearn\\metrics\\scorer.py:127: DeprecationWarning: Scoring method log_loss was renamed to neg_log_loss in version 0.18 and will be removed in 0.20.\n",
      "  sample_weight=sample_weight)\n",
      "C:\\Users\\Takashi\\Miniconda3\\lib\\site-packages\\sklearn\\metrics\\scorer.py:127: DeprecationWarning: Scoring method log_loss was renamed to neg_log_loss in version 0.18 and will be removed in 0.20.\n",
      "  sample_weight=sample_weight)\n",
      "C:\\Users\\Takashi\\Miniconda3\\lib\\site-packages\\sklearn\\metrics\\scorer.py:127: DeprecationWarning: Scoring method log_loss was renamed to neg_log_loss in version 0.18 and will be removed in 0.20.\n",
      "  sample_weight=sample_weight)\n"
     ]
    },
    {
     "name": "stdout",
     "output_type": "stream",
     "text": [
      "[CV]  max_depth=6, colsample_bytree=0.7228193889, subsample=0.705535197236 -   0.0s\n",
      "[CV] max_depth=6, colsample_bytree=0.7228193889, subsample=0.705535197236 \n",
      "[CV]  max_depth=6, colsample_bytree=0.7228193889, subsample=0.705535197236 -   0.0s\n",
      "[CV] max_depth=6, colsample_bytree=0.7228193889, subsample=0.705535197236 \n",
      "[CV]  max_depth=6, colsample_bytree=0.7228193889, subsample=0.705535197236 -   0.0s\n",
      "[CV] max_depth=6, colsample_bytree=0.7228193889, subsample=0.705535197236 \n"
     ]
    },
    {
     "name": "stderr",
     "output_type": "stream",
     "text": [
      "C:\\Users\\Takashi\\Miniconda3\\lib\\site-packages\\sklearn\\metrics\\scorer.py:127: DeprecationWarning: Scoring method log_loss was renamed to neg_log_loss in version 0.18 and will be removed in 0.20.\n",
      "  sample_weight=sample_weight)\n",
      "C:\\Users\\Takashi\\Miniconda3\\lib\\site-packages\\sklearn\\metrics\\scorer.py:127: DeprecationWarning: Scoring method log_loss was renamed to neg_log_loss in version 0.18 and will be removed in 0.20.\n",
      "  sample_weight=sample_weight)\n",
      "C:\\Users\\Takashi\\Miniconda3\\lib\\site-packages\\sklearn\\metrics\\scorer.py:127: DeprecationWarning: Scoring method log_loss was renamed to neg_log_loss in version 0.18 and will be removed in 0.20.\n",
      "  sample_weight=sample_weight)\n"
     ]
    },
    {
     "name": "stdout",
     "output_type": "stream",
     "text": [
      "[CV]  max_depth=6, colsample_bytree=0.7228193889, subsample=0.705535197236 -   0.0s\n",
      "[CV] max_depth=6, colsample_bytree=0.7228193889, subsample=0.705535197236 \n",
      "[CV]  max_depth=6, colsample_bytree=0.7228193889, subsample=0.705535197236 -   0.0s\n",
      "[CV] max_depth=6, colsample_bytree=0.7228193889, subsample=0.705535197236 \n",
      "[CV]  max_depth=6, colsample_bytree=0.7228193889, subsample=0.705535197236 -   0.0s\n",
      "[CV] max_depth=6, colsample_bytree=0.7228193889, subsample=0.705535197236 \n"
     ]
    },
    {
     "name": "stderr",
     "output_type": "stream",
     "text": [
      "C:\\Users\\Takashi\\Miniconda3\\lib\\site-packages\\sklearn\\metrics\\scorer.py:127: DeprecationWarning: Scoring method log_loss was renamed to neg_log_loss in version 0.18 and will be removed in 0.20.\n",
      "  sample_weight=sample_weight)\n",
      "C:\\Users\\Takashi\\Miniconda3\\lib\\site-packages\\sklearn\\metrics\\scorer.py:127: DeprecationWarning: Scoring method log_loss was renamed to neg_log_loss in version 0.18 and will be removed in 0.20.\n",
      "  sample_weight=sample_weight)\n",
      "C:\\Users\\Takashi\\Miniconda3\\lib\\site-packages\\sklearn\\metrics\\scorer.py:127: DeprecationWarning: Scoring method log_loss was renamed to neg_log_loss in version 0.18 and will be removed in 0.20.\n",
      "  sample_weight=sample_weight)\n"
     ]
    },
    {
     "name": "stdout",
     "output_type": "stream",
     "text": [
      "[CV]  max_depth=6, colsample_bytree=0.7228193889, subsample=0.705535197236 -   0.0s\n",
      "[CV] max_depth=6, colsample_bytree=0.7228193889, subsample=0.705535197236 \n",
      "[CV]  max_depth=6, colsample_bytree=0.7228193889, subsample=0.705535197236 -   0.0s\n",
      "[CV] max_depth=6, colsample_bytree=0.7228193889, subsample=0.705535197236 \n",
      "[CV]  max_depth=6, colsample_bytree=0.7228193889, subsample=0.705535197236 -   0.0s\n",
      "[CV] max_depth=6, colsample_bytree=0.7228193889, subsample=0.705535197236 \n"
     ]
    },
    {
     "name": "stderr",
     "output_type": "stream",
     "text": [
      "C:\\Users\\Takashi\\Miniconda3\\lib\\site-packages\\sklearn\\metrics\\scorer.py:127: DeprecationWarning: Scoring method log_loss was renamed to neg_log_loss in version 0.18 and will be removed in 0.20.\n",
      "  sample_weight=sample_weight)\n",
      "C:\\Users\\Takashi\\Miniconda3\\lib\\site-packages\\sklearn\\metrics\\scorer.py:127: DeprecationWarning: Scoring method log_loss was renamed to neg_log_loss in version 0.18 and will be removed in 0.20.\n",
      "  sample_weight=sample_weight)\n",
      "C:\\Users\\Takashi\\Miniconda3\\lib\\site-packages\\sklearn\\metrics\\scorer.py:127: DeprecationWarning: Scoring method log_loss was renamed to neg_log_loss in version 0.18 and will be removed in 0.20.\n",
      "  sample_weight=sample_weight)\n",
      "C:\\Users\\Takashi\\Miniconda3\\lib\\site-packages\\sklearn\\metrics\\scorer.py:127: DeprecationWarning: Scoring method log_loss was renamed to neg_log_loss in version 0.18 and will be removed in 0.20.\n",
      "  sample_weight=sample_weight)\n",
      "C:\\Users\\Takashi\\Miniconda3\\lib\\site-packages\\sklearn\\metrics\\scorer.py:127: DeprecationWarning: Scoring method log_loss was renamed to neg_log_loss in version 0.18 and will be removed in 0.20.\n",
      "  sample_weight=sample_weight)\n"
     ]
    },
    {
     "name": "stdout",
     "output_type": "stream",
     "text": [
      "[CV]  max_depth=6, colsample_bytree=0.7228193889, subsample=0.705535197236 -   0.0s\n",
      "[CV] max_depth=3, colsample_bytree=0.96140661939, subsample=0.9769450414 \n",
      "[CV]  max_depth=3, colsample_bytree=0.96140661939, subsample=0.9769450414 -   0.0s\n",
      "[CV] max_depth=3, colsample_bytree=0.96140661939, subsample=0.9769450414 \n",
      "[CV]  max_depth=3, colsample_bytree=0.96140661939, subsample=0.9769450414 -   0.0s\n",
      "[CV] max_depth=3, colsample_bytree=0.96140661939, subsample=0.9769450414 \n",
      "[CV]  max_depth=3, colsample_bytree=0.96140661939, subsample=0.9769450414 -   0.0s\n",
      "[CV] max_depth=3, colsample_bytree=0.96140661939, subsample=0.9769450414 \n",
      "[CV]  max_depth=3, colsample_bytree=0.96140661939, subsample=0.9769450414 -   0.0s\n",
      "[CV] max_depth=3, colsample_bytree=0.96140661939, subsample=0.9769450414 \n"
     ]
    },
    {
     "name": "stderr",
     "output_type": "stream",
     "text": [
      "C:\\Users\\Takashi\\Miniconda3\\lib\\site-packages\\sklearn\\metrics\\scorer.py:127: DeprecationWarning: Scoring method log_loss was renamed to neg_log_loss in version 0.18 and will be removed in 0.20.\n",
      "  sample_weight=sample_weight)\n",
      "C:\\Users\\Takashi\\Miniconda3\\lib\\site-packages\\sklearn\\metrics\\scorer.py:127: DeprecationWarning: Scoring method log_loss was renamed to neg_log_loss in version 0.18 and will be removed in 0.20.\n",
      "  sample_weight=sample_weight)\n",
      "C:\\Users\\Takashi\\Miniconda3\\lib\\site-packages\\sklearn\\metrics\\scorer.py:127: DeprecationWarning: Scoring method log_loss was renamed to neg_log_loss in version 0.18 and will be removed in 0.20.\n",
      "  sample_weight=sample_weight)\n",
      "C:\\Users\\Takashi\\Miniconda3\\lib\\site-packages\\sklearn\\metrics\\scorer.py:127: DeprecationWarning: Scoring method log_loss was renamed to neg_log_loss in version 0.18 and will be removed in 0.20.\n",
      "  sample_weight=sample_weight)\n",
      "C:\\Users\\Takashi\\Miniconda3\\lib\\site-packages\\sklearn\\metrics\\scorer.py:127: DeprecationWarning: Scoring method log_loss was renamed to neg_log_loss in version 0.18 and will be removed in 0.20.\n",
      "  sample_weight=sample_weight)\n"
     ]
    },
    {
     "name": "stdout",
     "output_type": "stream",
     "text": [
      "[CV]  max_depth=3, colsample_bytree=0.96140661939, subsample=0.9769450414 -   0.0s\n",
      "[CV] max_depth=3, colsample_bytree=0.96140661939, subsample=0.9769450414 \n",
      "[CV]  max_depth=3, colsample_bytree=0.96140661939, subsample=0.9769450414 -   0.0s\n",
      "[CV] max_depth=3, colsample_bytree=0.96140661939, subsample=0.9769450414 \n",
      "[CV]  max_depth=3, colsample_bytree=0.96140661939, subsample=0.9769450414 -   0.0s\n",
      "[CV] max_depth=3, colsample_bytree=0.96140661939, subsample=0.9769450414 \n",
      "[CV]  max_depth=3, colsample_bytree=0.96140661939, subsample=0.9769450414 -   0.0s\n",
      "[CV] max_depth=3, colsample_bytree=0.96140661939, subsample=0.9769450414 \n",
      "[CV]  max_depth=3, colsample_bytree=0.96140661939, subsample=0.9769450414 -   0.0s\n",
      "[CV] max_depth=3, colsample_bytree=0.96140661939, subsample=0.9769450414 \n"
     ]
    },
    {
     "name": "stderr",
     "output_type": "stream",
     "text": [
      "C:\\Users\\Takashi\\Miniconda3\\lib\\site-packages\\sklearn\\metrics\\scorer.py:127: DeprecationWarning: Scoring method log_loss was renamed to neg_log_loss in version 0.18 and will be removed in 0.20.\n",
      "  sample_weight=sample_weight)\n",
      "C:\\Users\\Takashi\\Miniconda3\\lib\\site-packages\\sklearn\\metrics\\scorer.py:127: DeprecationWarning: Scoring method log_loss was renamed to neg_log_loss in version 0.18 and will be removed in 0.20.\n",
      "  sample_weight=sample_weight)\n",
      "C:\\Users\\Takashi\\Miniconda3\\lib\\site-packages\\sklearn\\metrics\\scorer.py:127: DeprecationWarning: Scoring method log_loss was renamed to neg_log_loss in version 0.18 and will be removed in 0.20.\n",
      "  sample_weight=sample_weight)\n",
      "C:\\Users\\Takashi\\Miniconda3\\lib\\site-packages\\sklearn\\metrics\\scorer.py:127: DeprecationWarning: Scoring method log_loss was renamed to neg_log_loss in version 0.18 and will be removed in 0.20.\n",
      "  sample_weight=sample_weight)\n",
      "C:\\Users\\Takashi\\Miniconda3\\lib\\site-packages\\sklearn\\metrics\\scorer.py:127: DeprecationWarning: Scoring method log_loss was renamed to neg_log_loss in version 0.18 and will be removed in 0.20.\n",
      "  sample_weight=sample_weight)\n",
      "C:\\Users\\Takashi\\Miniconda3\\lib\\site-packages\\sklearn\\metrics\\scorer.py:127: DeprecationWarning: Scoring method log_loss was renamed to neg_log_loss in version 0.18 and will be removed in 0.20.\n",
      "  sample_weight=sample_weight)\n"
     ]
    },
    {
     "name": "stdout",
     "output_type": "stream",
     "text": [
      "[CV]  max_depth=3, colsample_bytree=0.96140661939, subsample=0.9769450414 -   0.0s\n",
      "[CV] max_depth=2, colsample_bytree=0.545071842717, subsample=0.663277414645 \n",
      "[CV]  max_depth=2, colsample_bytree=0.545071842717, subsample=0.663277414645 -   0.0s\n",
      "[CV] max_depth=2, colsample_bytree=0.545071842717, subsample=0.663277414645 \n",
      "[CV]  max_depth=2, colsample_bytree=0.545071842717, subsample=0.663277414645 -   0.0s\n",
      "[CV] max_depth=2, colsample_bytree=0.545071842717, subsample=0.663277414645 \n",
      "[CV]  max_depth=2, colsample_bytree=0.545071842717, subsample=0.663277414645 -   0.0s\n",
      "[CV] max_depth=2, colsample_bytree=0.545071842717, subsample=0.663277414645 \n",
      "[CV]  max_depth=2, colsample_bytree=0.545071842717, subsample=0.663277414645 -   0.0s\n",
      "[CV] max_depth=2, colsample_bytree=0.545071842717, subsample=0.663277414645 \n",
      "[CV]  max_depth=2, colsample_bytree=0.545071842717, subsample=0.663277414645 -   0.0s\n",
      "[CV] max_depth=2, colsample_bytree=0.545071842717, subsample=0.663277414645 \n"
     ]
    },
    {
     "name": "stderr",
     "output_type": "stream",
     "text": [
      "C:\\Users\\Takashi\\Miniconda3\\lib\\site-packages\\sklearn\\metrics\\scorer.py:127: DeprecationWarning: Scoring method log_loss was renamed to neg_log_loss in version 0.18 and will be removed in 0.20.\n",
      "  sample_weight=sample_weight)\n",
      "C:\\Users\\Takashi\\Miniconda3\\lib\\site-packages\\sklearn\\metrics\\scorer.py:127: DeprecationWarning: Scoring method log_loss was renamed to neg_log_loss in version 0.18 and will be removed in 0.20.\n",
      "  sample_weight=sample_weight)\n",
      "C:\\Users\\Takashi\\Miniconda3\\lib\\site-packages\\sklearn\\metrics\\scorer.py:127: DeprecationWarning: Scoring method log_loss was renamed to neg_log_loss in version 0.18 and will be removed in 0.20.\n",
      "  sample_weight=sample_weight)\n",
      "C:\\Users\\Takashi\\Miniconda3\\lib\\site-packages\\sklearn\\metrics\\scorer.py:127: DeprecationWarning: Scoring method log_loss was renamed to neg_log_loss in version 0.18 and will be removed in 0.20.\n",
      "  sample_weight=sample_weight)\n",
      "C:\\Users\\Takashi\\Miniconda3\\lib\\site-packages\\sklearn\\metrics\\scorer.py:127: DeprecationWarning: Scoring method log_loss was renamed to neg_log_loss in version 0.18 and will be removed in 0.20.\n",
      "  sample_weight=sample_weight)\n"
     ]
    },
    {
     "name": "stdout",
     "output_type": "stream",
     "text": [
      "[CV]  max_depth=2, colsample_bytree=0.545071842717, subsample=0.663277414645 -   0.0s\n",
      "[CV] max_depth=2, colsample_bytree=0.545071842717, subsample=0.663277414645 \n",
      "[CV]  max_depth=2, colsample_bytree=0.545071842717, subsample=0.663277414645 -   0.0s\n",
      "[CV] max_depth=2, colsample_bytree=0.545071842717, subsample=0.663277414645 \n",
      "[CV]  max_depth=2, colsample_bytree=0.545071842717, subsample=0.663277414645 -   0.0s\n",
      "[CV] max_depth=2, colsample_bytree=0.545071842717, subsample=0.663277414645 \n",
      "[CV]  max_depth=2, colsample_bytree=0.545071842717, subsample=0.663277414645 -   0.0s\n",
      "[CV] max_depth=2, colsample_bytree=0.545071842717, subsample=0.663277414645 \n",
      "[CV]  max_depth=2, colsample_bytree=0.545071842717, subsample=0.663277414645 -   0.0s\n",
      "[CV] max_depth=9, colsample_bytree=0.621337734561, subsample=0.560143929061 \n"
     ]
    },
    {
     "name": "stderr",
     "output_type": "stream",
     "text": [
      "C:\\Users\\Takashi\\Miniconda3\\lib\\site-packages\\sklearn\\metrics\\scorer.py:127: DeprecationWarning: Scoring method log_loss was renamed to neg_log_loss in version 0.18 and will be removed in 0.20.\n",
      "  sample_weight=sample_weight)\n",
      "C:\\Users\\Takashi\\Miniconda3\\lib\\site-packages\\sklearn\\metrics\\scorer.py:127: DeprecationWarning: Scoring method log_loss was renamed to neg_log_loss in version 0.18 and will be removed in 0.20.\n",
      "  sample_weight=sample_weight)\n",
      "C:\\Users\\Takashi\\Miniconda3\\lib\\site-packages\\sklearn\\metrics\\scorer.py:127: DeprecationWarning: Scoring method log_loss was renamed to neg_log_loss in version 0.18 and will be removed in 0.20.\n",
      "  sample_weight=sample_weight)\n"
     ]
    },
    {
     "name": "stdout",
     "output_type": "stream",
     "text": [
      "[CV]  max_depth=9, colsample_bytree=0.621337734561, subsample=0.560143929061 -   0.0s\n",
      "[CV] max_depth=9, colsample_bytree=0.621337734561, subsample=0.560143929061 \n",
      "[CV]  max_depth=9, colsample_bytree=0.621337734561, subsample=0.560143929061 -   0.0s\n",
      "[CV] max_depth=9, colsample_bytree=0.621337734561, subsample=0.560143929061 \n",
      "[CV]  max_depth=9, colsample_bytree=0.621337734561, subsample=0.560143929061 -   0.0s\n",
      "[CV] max_depth=9, colsample_bytree=0.621337734561, subsample=0.560143929061 \n"
     ]
    },
    {
     "name": "stderr",
     "output_type": "stream",
     "text": [
      "C:\\Users\\Takashi\\Miniconda3\\lib\\site-packages\\sklearn\\metrics\\scorer.py:127: DeprecationWarning: Scoring method log_loss was renamed to neg_log_loss in version 0.18 and will be removed in 0.20.\n",
      "  sample_weight=sample_weight)\n",
      "C:\\Users\\Takashi\\Miniconda3\\lib\\site-packages\\sklearn\\metrics\\scorer.py:127: DeprecationWarning: Scoring method log_loss was renamed to neg_log_loss in version 0.18 and will be removed in 0.20.\n",
      "  sample_weight=sample_weight)\n",
      "C:\\Users\\Takashi\\Miniconda3\\lib\\site-packages\\sklearn\\metrics\\scorer.py:127: DeprecationWarning: Scoring method log_loss was renamed to neg_log_loss in version 0.18 and will be removed in 0.20.\n",
      "  sample_weight=sample_weight)\n"
     ]
    },
    {
     "name": "stdout",
     "output_type": "stream",
     "text": [
      "[CV]  max_depth=9, colsample_bytree=0.621337734561, subsample=0.560143929061 -   0.0s\n",
      "[CV] max_depth=9, colsample_bytree=0.621337734561, subsample=0.560143929061 \n",
      "[CV]  max_depth=9, colsample_bytree=0.621337734561, subsample=0.560143929061 -   0.0s\n",
      "[CV] max_depth=9, colsample_bytree=0.621337734561, subsample=0.560143929061 \n",
      "[CV]  max_depth=9, colsample_bytree=0.621337734561, subsample=0.560143929061 -   0.0s\n",
      "[CV] max_depth=9, colsample_bytree=0.621337734561, subsample=0.560143929061 \n"
     ]
    },
    {
     "name": "stderr",
     "output_type": "stream",
     "text": [
      "C:\\Users\\Takashi\\Miniconda3\\lib\\site-packages\\sklearn\\metrics\\scorer.py:127: DeprecationWarning: Scoring method log_loss was renamed to neg_log_loss in version 0.18 and will be removed in 0.20.\n",
      "  sample_weight=sample_weight)\n",
      "C:\\Users\\Takashi\\Miniconda3\\lib\\site-packages\\sklearn\\metrics\\scorer.py:127: DeprecationWarning: Scoring method log_loss was renamed to neg_log_loss in version 0.18 and will be removed in 0.20.\n",
      "  sample_weight=sample_weight)\n",
      "C:\\Users\\Takashi\\Miniconda3\\lib\\site-packages\\sklearn\\metrics\\scorer.py:127: DeprecationWarning: Scoring method log_loss was renamed to neg_log_loss in version 0.18 and will be removed in 0.20.\n",
      "  sample_weight=sample_weight)\n"
     ]
    },
    {
     "name": "stdout",
     "output_type": "stream",
     "text": [
      "[CV]  max_depth=9, colsample_bytree=0.621337734561, subsample=0.560143929061 -   0.0s\n",
      "[CV] max_depth=9, colsample_bytree=0.621337734561, subsample=0.560143929061 \n",
      "[CV]  max_depth=9, colsample_bytree=0.621337734561, subsample=0.560143929061 -   0.0s\n",
      "[CV] max_depth=9, colsample_bytree=0.621337734561, subsample=0.560143929061 \n",
      "[CV]  max_depth=9, colsample_bytree=0.621337734561, subsample=0.560143929061 -   0.0s\n",
      "[CV] max_depth=9, colsample_bytree=0.621337734561, subsample=0.560143929061 \n"
     ]
    },
    {
     "name": "stderr",
     "output_type": "stream",
     "text": [
      "C:\\Users\\Takashi\\Miniconda3\\lib\\site-packages\\sklearn\\metrics\\scorer.py:127: DeprecationWarning: Scoring method log_loss was renamed to neg_log_loss in version 0.18 and will be removed in 0.20.\n",
      "  sample_weight=sample_weight)\n",
      "C:\\Users\\Takashi\\Miniconda3\\lib\\site-packages\\sklearn\\metrics\\scorer.py:127: DeprecationWarning: Scoring method log_loss was renamed to neg_log_loss in version 0.18 and will be removed in 0.20.\n",
      "  sample_weight=sample_weight)\n",
      "C:\\Users\\Takashi\\Miniconda3\\lib\\site-packages\\sklearn\\metrics\\scorer.py:127: DeprecationWarning: Scoring method log_loss was renamed to neg_log_loss in version 0.18 and will be removed in 0.20.\n",
      "  sample_weight=sample_weight)\n",
      "C:\\Users\\Takashi\\Miniconda3\\lib\\site-packages\\sklearn\\metrics\\scorer.py:127: DeprecationWarning: Scoring method log_loss was renamed to neg_log_loss in version 0.18 and will be removed in 0.20.\n",
      "  sample_weight=sample_weight)\n",
      "C:\\Users\\Takashi\\Miniconda3\\lib\\site-packages\\sklearn\\metrics\\scorer.py:127: DeprecationWarning: Scoring method log_loss was renamed to neg_log_loss in version 0.18 and will be removed in 0.20.\n",
      "  sample_weight=sample_weight)\n",
      "C:\\Users\\Takashi\\Miniconda3\\lib\\site-packages\\sklearn\\metrics\\scorer.py:127: DeprecationWarning: Scoring method log_loss was renamed to neg_log_loss in version 0.18 and will be removed in 0.20.\n",
      "  sample_weight=sample_weight)\n"
     ]
    },
    {
     "name": "stdout",
     "output_type": "stream",
     "text": [
      "[CV]  max_depth=9, colsample_bytree=0.621337734561, subsample=0.560143929061 -   0.0s\n",
      "[CV] max_depth=2, colsample_bytree=0.819143043469, subsample=0.786944760004 \n",
      "[CV]  max_depth=2, colsample_bytree=0.819143043469, subsample=0.786944760004 -   0.0s\n",
      "[CV] max_depth=2, colsample_bytree=0.819143043469, subsample=0.786944760004 \n",
      "[CV]  max_depth=2, colsample_bytree=0.819143043469, subsample=0.786944760004 -   0.0s\n",
      "[CV] max_depth=2, colsample_bytree=0.819143043469, subsample=0.786944760004 \n",
      "[CV]  max_depth=2, colsample_bytree=0.819143043469, subsample=0.786944760004 -   0.0s\n",
      "[CV] max_depth=2, colsample_bytree=0.819143043469, subsample=0.786944760004 \n",
      "[CV]  max_depth=2, colsample_bytree=0.819143043469, subsample=0.786944760004 -   0.0s\n",
      "[CV] max_depth=2, colsample_bytree=0.819143043469, subsample=0.786944760004 \n",
      "[CV]  max_depth=2, colsample_bytree=0.819143043469, subsample=0.786944760004 -   0.0s\n",
      "[CV] max_depth=2, colsample_bytree=0.819143043469, subsample=0.786944760004 \n"
     ]
    },
    {
     "name": "stderr",
     "output_type": "stream",
     "text": [
      "C:\\Users\\Takashi\\Miniconda3\\lib\\site-packages\\sklearn\\metrics\\scorer.py:127: DeprecationWarning: Scoring method log_loss was renamed to neg_log_loss in version 0.18 and will be removed in 0.20.\n",
      "  sample_weight=sample_weight)\n",
      "C:\\Users\\Takashi\\Miniconda3\\lib\\site-packages\\sklearn\\metrics\\scorer.py:127: DeprecationWarning: Scoring method log_loss was renamed to neg_log_loss in version 0.18 and will be removed in 0.20.\n",
      "  sample_weight=sample_weight)\n",
      "C:\\Users\\Takashi\\Miniconda3\\lib\\site-packages\\sklearn\\metrics\\scorer.py:127: DeprecationWarning: Scoring method log_loss was renamed to neg_log_loss in version 0.18 and will be removed in 0.20.\n",
      "  sample_weight=sample_weight)\n",
      "C:\\Users\\Takashi\\Miniconda3\\lib\\site-packages\\sklearn\\metrics\\scorer.py:127: DeprecationWarning: Scoring method log_loss was renamed to neg_log_loss in version 0.18 and will be removed in 0.20.\n",
      "  sample_weight=sample_weight)\n",
      "C:\\Users\\Takashi\\Miniconda3\\lib\\site-packages\\sklearn\\metrics\\scorer.py:127: DeprecationWarning: Scoring method log_loss was renamed to neg_log_loss in version 0.18 and will be removed in 0.20.\n",
      "  sample_weight=sample_weight)\n"
     ]
    },
    {
     "name": "stdout",
     "output_type": "stream",
     "text": [
      "[CV]  max_depth=2, colsample_bytree=0.819143043469, subsample=0.786944760004 -   0.0s\n",
      "[CV] max_depth=2, colsample_bytree=0.819143043469, subsample=0.786944760004 \n",
      "[CV]  max_depth=2, colsample_bytree=0.819143043469, subsample=0.786944760004 -   0.0s\n",
      "[CV] max_depth=2, colsample_bytree=0.819143043469, subsample=0.786944760004 \n",
      "[CV]  max_depth=2, colsample_bytree=0.819143043469, subsample=0.786944760004 -   0.0s\n",
      "[CV] max_depth=2, colsample_bytree=0.819143043469, subsample=0.786944760004 \n",
      "[CV]  max_depth=2, colsample_bytree=0.819143043469, subsample=0.786944760004 -   0.0s\n",
      "[CV] max_depth=2, colsample_bytree=0.819143043469, subsample=0.786944760004 \n",
      "[CV]  max_depth=2, colsample_bytree=0.819143043469, subsample=0.786944760004 -   0.0s\n",
      "[CV] max_depth=7, colsample_bytree=0.585950403066, subsample=0.789323576361 \n"
     ]
    },
    {
     "name": "stderr",
     "output_type": "stream",
     "text": [
      "C:\\Users\\Takashi\\Miniconda3\\lib\\site-packages\\sklearn\\metrics\\scorer.py:127: DeprecationWarning: Scoring method log_loss was renamed to neg_log_loss in version 0.18 and will be removed in 0.20.\n",
      "  sample_weight=sample_weight)\n",
      "C:\\Users\\Takashi\\Miniconda3\\lib\\site-packages\\sklearn\\metrics\\scorer.py:127: DeprecationWarning: Scoring method log_loss was renamed to neg_log_loss in version 0.18 and will be removed in 0.20.\n",
      "  sample_weight=sample_weight)\n",
      "C:\\Users\\Takashi\\Miniconda3\\lib\\site-packages\\sklearn\\metrics\\scorer.py:127: DeprecationWarning: Scoring method log_loss was renamed to neg_log_loss in version 0.18 and will be removed in 0.20.\n",
      "  sample_weight=sample_weight)\n"
     ]
    },
    {
     "name": "stdout",
     "output_type": "stream",
     "text": [
      "[CV]  max_depth=7, colsample_bytree=0.585950403066, subsample=0.789323576361 -   0.0s\n",
      "[CV] max_depth=7, colsample_bytree=0.585950403066, subsample=0.789323576361 \n",
      "[CV]  max_depth=7, colsample_bytree=0.585950403066, subsample=0.789323576361 -   0.0s\n",
      "[CV] max_depth=7, colsample_bytree=0.585950403066, subsample=0.789323576361 \n",
      "[CV]  max_depth=7, colsample_bytree=0.585950403066, subsample=0.789323576361 -   0.0s\n",
      "[CV] max_depth=7, colsample_bytree=0.585950403066, subsample=0.789323576361 \n"
     ]
    },
    {
     "name": "stderr",
     "output_type": "stream",
     "text": [
      "C:\\Users\\Takashi\\Miniconda3\\lib\\site-packages\\sklearn\\metrics\\scorer.py:127: DeprecationWarning: Scoring method log_loss was renamed to neg_log_loss in version 0.18 and will be removed in 0.20.\n",
      "  sample_weight=sample_weight)\n",
      "C:\\Users\\Takashi\\Miniconda3\\lib\\site-packages\\sklearn\\metrics\\scorer.py:127: DeprecationWarning: Scoring method log_loss was renamed to neg_log_loss in version 0.18 and will be removed in 0.20.\n",
      "  sample_weight=sample_weight)\n",
      "C:\\Users\\Takashi\\Miniconda3\\lib\\site-packages\\sklearn\\metrics\\scorer.py:127: DeprecationWarning: Scoring method log_loss was renamed to neg_log_loss in version 0.18 and will be removed in 0.20.\n",
      "  sample_weight=sample_weight)\n"
     ]
    },
    {
     "name": "stdout",
     "output_type": "stream",
     "text": [
      "[CV]  max_depth=7, colsample_bytree=0.585950403066, subsample=0.789323576361 -   0.0s\n",
      "[CV] max_depth=7, colsample_bytree=0.585950403066, subsample=0.789323576361 \n",
      "[CV]  max_depth=7, colsample_bytree=0.585950403066, subsample=0.789323576361 -   0.0s\n",
      "[CV] max_depth=7, colsample_bytree=0.585950403066, subsample=0.789323576361 \n",
      "[CV]  max_depth=7, colsample_bytree=0.585950403066, subsample=0.789323576361 -   0.0s\n",
      "[CV] max_depth=7, colsample_bytree=0.585950403066, subsample=0.789323576361 \n"
     ]
    },
    {
     "name": "stderr",
     "output_type": "stream",
     "text": [
      "C:\\Users\\Takashi\\Miniconda3\\lib\\site-packages\\sklearn\\metrics\\scorer.py:127: DeprecationWarning: Scoring method log_loss was renamed to neg_log_loss in version 0.18 and will be removed in 0.20.\n",
      "  sample_weight=sample_weight)\n",
      "C:\\Users\\Takashi\\Miniconda3\\lib\\site-packages\\sklearn\\metrics\\scorer.py:127: DeprecationWarning: Scoring method log_loss was renamed to neg_log_loss in version 0.18 and will be removed in 0.20.\n",
      "  sample_weight=sample_weight)\n"
     ]
    },
    {
     "name": "stdout",
     "output_type": "stream",
     "text": [
      "[CV]  max_depth=7, colsample_bytree=0.585950403066, subsample=0.789323576361 -   0.0s\n",
      "[CV] max_depth=7, colsample_bytree=0.585950403066, subsample=0.789323576361 \n",
      "[CV]  max_depth=7, colsample_bytree=0.585950403066, subsample=0.789323576361 -   0.1s\n",
      "[CV] max_depth=7, colsample_bytree=0.585950403066, subsample=0.789323576361 \n"
     ]
    },
    {
     "name": "stderr",
     "output_type": "stream",
     "text": [
      "C:\\Users\\Takashi\\Miniconda3\\lib\\site-packages\\sklearn\\metrics\\scorer.py:127: DeprecationWarning: Scoring method log_loss was renamed to neg_log_loss in version 0.18 and will be removed in 0.20.\n",
      "  sample_weight=sample_weight)\n",
      "C:\\Users\\Takashi\\Miniconda3\\lib\\site-packages\\sklearn\\metrics\\scorer.py:127: DeprecationWarning: Scoring method log_loss was renamed to neg_log_loss in version 0.18 and will be removed in 0.20.\n",
      "  sample_weight=sample_weight)\n"
     ]
    },
    {
     "name": "stdout",
     "output_type": "stream",
     "text": [
      "[CV]  max_depth=7, colsample_bytree=0.585950403066, subsample=0.789323576361 -   0.0s\n",
      "[CV] max_depth=7, colsample_bytree=0.585950403066, subsample=0.789323576361 \n",
      "[CV]  max_depth=7, colsample_bytree=0.585950403066, subsample=0.789323576361 -   0.0s\n",
      "[CV] max_depth=5, colsample_bytree=0.577857023424, subsample=0.980670514483 \n"
     ]
    },
    {
     "name": "stderr",
     "output_type": "stream",
     "text": [
      "C:\\Users\\Takashi\\Miniconda3\\lib\\site-packages\\sklearn\\metrics\\scorer.py:127: DeprecationWarning: Scoring method log_loss was renamed to neg_log_loss in version 0.18 and will be removed in 0.20.\n",
      "  sample_weight=sample_weight)\n",
      "C:\\Users\\Takashi\\Miniconda3\\lib\\site-packages\\sklearn\\metrics\\scorer.py:127: DeprecationWarning: Scoring method log_loss was renamed to neg_log_loss in version 0.18 and will be removed in 0.20.\n",
      "  sample_weight=sample_weight)\n",
      "C:\\Users\\Takashi\\Miniconda3\\lib\\site-packages\\sklearn\\metrics\\scorer.py:127: DeprecationWarning: Scoring method log_loss was renamed to neg_log_loss in version 0.18 and will be removed in 0.20.\n",
      "  sample_weight=sample_weight)\n"
     ]
    },
    {
     "name": "stdout",
     "output_type": "stream",
     "text": [
      "[CV]  max_depth=5, colsample_bytree=0.577857023424, subsample=0.980670514483 -   0.0s\n",
      "[CV] max_depth=5, colsample_bytree=0.577857023424, subsample=0.980670514483 \n",
      "[CV]  max_depth=5, colsample_bytree=0.577857023424, subsample=0.980670514483 -   0.0s\n",
      "[CV] max_depth=5, colsample_bytree=0.577857023424, subsample=0.980670514483 \n",
      "[CV]  max_depth=5, colsample_bytree=0.577857023424, subsample=0.980670514483 -   0.0s\n",
      "[CV] max_depth=5, colsample_bytree=0.577857023424, subsample=0.980670514483 \n"
     ]
    },
    {
     "name": "stderr",
     "output_type": "stream",
     "text": [
      "C:\\Users\\Takashi\\Miniconda3\\lib\\site-packages\\sklearn\\metrics\\scorer.py:127: DeprecationWarning: Scoring method log_loss was renamed to neg_log_loss in version 0.18 and will be removed in 0.20.\n",
      "  sample_weight=sample_weight)\n",
      "C:\\Users\\Takashi\\Miniconda3\\lib\\site-packages\\sklearn\\metrics\\scorer.py:127: DeprecationWarning: Scoring method log_loss was renamed to neg_log_loss in version 0.18 and will be removed in 0.20.\n",
      "  sample_weight=sample_weight)\n",
      "C:\\Users\\Takashi\\Miniconda3\\lib\\site-packages\\sklearn\\metrics\\scorer.py:127: DeprecationWarning: Scoring method log_loss was renamed to neg_log_loss in version 0.18 and will be removed in 0.20.\n",
      "  sample_weight=sample_weight)\n",
      "C:\\Users\\Takashi\\Miniconda3\\lib\\site-packages\\sklearn\\metrics\\scorer.py:127: DeprecationWarning: Scoring method log_loss was renamed to neg_log_loss in version 0.18 and will be removed in 0.20.\n",
      "  sample_weight=sample_weight)\n"
     ]
    },
    {
     "name": "stdout",
     "output_type": "stream",
     "text": [
      "[CV]  max_depth=5, colsample_bytree=0.577857023424, subsample=0.980670514483 -   0.0s\n",
      "[CV] max_depth=5, colsample_bytree=0.577857023424, subsample=0.980670514483 \n",
      "[CV]  max_depth=5, colsample_bytree=0.577857023424, subsample=0.980670514483 -   0.0s\n",
      "[CV] max_depth=5, colsample_bytree=0.577857023424, subsample=0.980670514483 \n",
      "[CV]  max_depth=5, colsample_bytree=0.577857023424, subsample=0.980670514483 -   0.0s\n",
      "[CV] max_depth=5, colsample_bytree=0.577857023424, subsample=0.980670514483 \n",
      "[CV]  max_depth=5, colsample_bytree=0.577857023424, subsample=0.980670514483 -   0.0s\n",
      "[CV] max_depth=5, colsample_bytree=0.577857023424, subsample=0.980670514483 \n"
     ]
    },
    {
     "name": "stderr",
     "output_type": "stream",
     "text": [
      "C:\\Users\\Takashi\\Miniconda3\\lib\\site-packages\\sklearn\\metrics\\scorer.py:127: DeprecationWarning: Scoring method log_loss was renamed to neg_log_loss in version 0.18 and will be removed in 0.20.\n",
      "  sample_weight=sample_weight)\n",
      "C:\\Users\\Takashi\\Miniconda3\\lib\\site-packages\\sklearn\\metrics\\scorer.py:127: DeprecationWarning: Scoring method log_loss was renamed to neg_log_loss in version 0.18 and will be removed in 0.20.\n",
      "  sample_weight=sample_weight)\n",
      "C:\\Users\\Takashi\\Miniconda3\\lib\\site-packages\\sklearn\\metrics\\scorer.py:127: DeprecationWarning: Scoring method log_loss was renamed to neg_log_loss in version 0.18 and will be removed in 0.20.\n",
      "  sample_weight=sample_weight)\n"
     ]
    },
    {
     "name": "stdout",
     "output_type": "stream",
     "text": [
      "[CV]  max_depth=5, colsample_bytree=0.577857023424, subsample=0.980670514483 -   0.0s\n",
      "[CV] max_depth=5, colsample_bytree=0.577857023424, subsample=0.980670514483 \n",
      "[CV]  max_depth=5, colsample_bytree=0.577857023424, subsample=0.980670514483 -   0.0s\n",
      "[CV] max_depth=5, colsample_bytree=0.577857023424, subsample=0.980670514483 \n",
      "[CV]  max_depth=5, colsample_bytree=0.577857023424, subsample=0.980670514483 -   0.0s\n",
      "[CV] max_depth=8, colsample_bytree=0.868254920068, subsample=0.772076727357 \n"
     ]
    },
    {
     "name": "stderr",
     "output_type": "stream",
     "text": [
      "C:\\Users\\Takashi\\Miniconda3\\lib\\site-packages\\sklearn\\metrics\\scorer.py:127: DeprecationWarning: Scoring method log_loss was renamed to neg_log_loss in version 0.18 and will be removed in 0.20.\n",
      "  sample_weight=sample_weight)\n",
      "C:\\Users\\Takashi\\Miniconda3\\lib\\site-packages\\sklearn\\metrics\\scorer.py:127: DeprecationWarning: Scoring method log_loss was renamed to neg_log_loss in version 0.18 and will be removed in 0.20.\n",
      "  sample_weight=sample_weight)\n",
      "C:\\Users\\Takashi\\Miniconda3\\lib\\site-packages\\sklearn\\metrics\\scorer.py:127: DeprecationWarning: Scoring method log_loss was renamed to neg_log_loss in version 0.18 and will be removed in 0.20.\n",
      "  sample_weight=sample_weight)\n"
     ]
    },
    {
     "name": "stdout",
     "output_type": "stream",
     "text": [
      "[CV]  max_depth=8, colsample_bytree=0.868254920068, subsample=0.772076727357 -   0.0s\n",
      "[CV] max_depth=8, colsample_bytree=0.868254920068, subsample=0.772076727357 \n",
      "[CV]  max_depth=8, colsample_bytree=0.868254920068, subsample=0.772076727357 -   0.0s\n",
      "[CV] max_depth=8, colsample_bytree=0.868254920068, subsample=0.772076727357 \n",
      "[CV]  max_depth=8, colsample_bytree=0.868254920068, subsample=0.772076727357 -   0.0s\n",
      "[CV] max_depth=8, colsample_bytree=0.868254920068, subsample=0.772076727357 \n"
     ]
    },
    {
     "name": "stderr",
     "output_type": "stream",
     "text": [
      "C:\\Users\\Takashi\\Miniconda3\\lib\\site-packages\\sklearn\\metrics\\scorer.py:127: DeprecationWarning: Scoring method log_loss was renamed to neg_log_loss in version 0.18 and will be removed in 0.20.\n",
      "  sample_weight=sample_weight)\n",
      "C:\\Users\\Takashi\\Miniconda3\\lib\\site-packages\\sklearn\\metrics\\scorer.py:127: DeprecationWarning: Scoring method log_loss was renamed to neg_log_loss in version 0.18 and will be removed in 0.20.\n",
      "  sample_weight=sample_weight)\n",
      "C:\\Users\\Takashi\\Miniconda3\\lib\\site-packages\\sklearn\\metrics\\scorer.py:127: DeprecationWarning: Scoring method log_loss was renamed to neg_log_loss in version 0.18 and will be removed in 0.20.\n",
      "  sample_weight=sample_weight)\n"
     ]
    },
    {
     "name": "stdout",
     "output_type": "stream",
     "text": [
      "[CV]  max_depth=8, colsample_bytree=0.868254920068, subsample=0.772076727357 -   0.0s\n",
      "[CV] max_depth=8, colsample_bytree=0.868254920068, subsample=0.772076727357 \n",
      "[CV]  max_depth=8, colsample_bytree=0.868254920068, subsample=0.772076727357 -   0.0s\n",
      "[CV] max_depth=8, colsample_bytree=0.868254920068, subsample=0.772076727357 \n",
      "[CV]  max_depth=8, colsample_bytree=0.868254920068, subsample=0.772076727357 -   0.0s\n",
      "[CV] max_depth=8, colsample_bytree=0.868254920068, subsample=0.772076727357 \n",
      "[CV]  max_depth=8, colsample_bytree=0.868254920068, subsample=0.772076727357 -   0.0s\n",
      "[CV] max_depth=8, colsample_bytree=0.868254920068, subsample=0.772076727357 \n",
      "[CV]  max_depth=8, colsample_bytree=0.868254920068, subsample=0.772076727357 -   0.0s\n",
      "[CV] max_depth=8, colsample_bytree=0.868254920068, subsample=0.772076727357 \n"
     ]
    },
    {
     "name": "stderr",
     "output_type": "stream",
     "text": [
      "C:\\Users\\Takashi\\Miniconda3\\lib\\site-packages\\sklearn\\metrics\\scorer.py:127: DeprecationWarning: Scoring method log_loss was renamed to neg_log_loss in version 0.18 and will be removed in 0.20.\n",
      "  sample_weight=sample_weight)\n",
      "C:\\Users\\Takashi\\Miniconda3\\lib\\site-packages\\sklearn\\metrics\\scorer.py:127: DeprecationWarning: Scoring method log_loss was renamed to neg_log_loss in version 0.18 and will be removed in 0.20.\n",
      "  sample_weight=sample_weight)\n",
      "C:\\Users\\Takashi\\Miniconda3\\lib\\site-packages\\sklearn\\metrics\\scorer.py:127: DeprecationWarning: Scoring method log_loss was renamed to neg_log_loss in version 0.18 and will be removed in 0.20.\n",
      "  sample_weight=sample_weight)\n"
     ]
    },
    {
     "name": "stdout",
     "output_type": "stream",
     "text": [
      "[CV]  max_depth=8, colsample_bytree=0.868254920068, subsample=0.772076727357 -   0.0s\n",
      "[CV] max_depth=8, colsample_bytree=0.868254920068, subsample=0.772076727357 \n",
      "[CV]  max_depth=8, colsample_bytree=0.868254920068, subsample=0.772076727357 -   0.0s\n",
      "[CV] max_depth=5, colsample_bytree=0.749147600318, subsample=0.895539754147 \n",
      "[CV]  max_depth=5, colsample_bytree=0.749147600318, subsample=0.895539754147 -   0.0s\n",
      "[CV] max_depth=5, colsample_bytree=0.749147600318, subsample=0.895539754147 \n"
     ]
    },
    {
     "name": "stderr",
     "output_type": "stream",
     "text": [
      "C:\\Users\\Takashi\\Miniconda3\\lib\\site-packages\\sklearn\\metrics\\scorer.py:127: DeprecationWarning: Scoring method log_loss was renamed to neg_log_loss in version 0.18 and will be removed in 0.20.\n",
      "  sample_weight=sample_weight)\n",
      "C:\\Users\\Takashi\\Miniconda3\\lib\\site-packages\\sklearn\\metrics\\scorer.py:127: DeprecationWarning: Scoring method log_loss was renamed to neg_log_loss in version 0.18 and will be removed in 0.20.\n",
      "  sample_weight=sample_weight)\n",
      "C:\\Users\\Takashi\\Miniconda3\\lib\\site-packages\\sklearn\\metrics\\scorer.py:127: DeprecationWarning: Scoring method log_loss was renamed to neg_log_loss in version 0.18 and will be removed in 0.20.\n",
      "  sample_weight=sample_weight)\n"
     ]
    },
    {
     "name": "stdout",
     "output_type": "stream",
     "text": [
      "[CV]  max_depth=5, colsample_bytree=0.749147600318, subsample=0.895539754147 -   0.0s\n",
      "[CV] max_depth=5, colsample_bytree=0.749147600318, subsample=0.895539754147 \n",
      "[CV]  max_depth=5, colsample_bytree=0.749147600318, subsample=0.895539754147 -   0.0s\n",
      "[CV] max_depth=5, colsample_bytree=0.749147600318, subsample=0.895539754147 \n",
      "[CV]  max_depth=5, colsample_bytree=0.749147600318, subsample=0.895539754147 -   0.0s\n",
      "[CV] max_depth=5, colsample_bytree=0.749147600318, subsample=0.895539754147 \n",
      "[CV]  max_depth=5, colsample_bytree=0.749147600318, subsample=0.895539754147 -   0.0s\n",
      "[CV] max_depth=5, colsample_bytree=0.749147600318, subsample=0.895539754147 \n"
     ]
    },
    {
     "name": "stderr",
     "output_type": "stream",
     "text": [
      "C:\\Users\\Takashi\\Miniconda3\\lib\\site-packages\\sklearn\\metrics\\scorer.py:127: DeprecationWarning: Scoring method log_loss was renamed to neg_log_loss in version 0.18 and will be removed in 0.20.\n",
      "  sample_weight=sample_weight)\n",
      "C:\\Users\\Takashi\\Miniconda3\\lib\\site-packages\\sklearn\\metrics\\scorer.py:127: DeprecationWarning: Scoring method log_loss was renamed to neg_log_loss in version 0.18 and will be removed in 0.20.\n",
      "  sample_weight=sample_weight)\n",
      "C:\\Users\\Takashi\\Miniconda3\\lib\\site-packages\\sklearn\\metrics\\scorer.py:127: DeprecationWarning: Scoring method log_loss was renamed to neg_log_loss in version 0.18 and will be removed in 0.20.\n",
      "  sample_weight=sample_weight)\n",
      "C:\\Users\\Takashi\\Miniconda3\\lib\\site-packages\\sklearn\\metrics\\scorer.py:127: DeprecationWarning: Scoring method log_loss was renamed to neg_log_loss in version 0.18 and will be removed in 0.20.\n",
      "  sample_weight=sample_weight)\n"
     ]
    },
    {
     "name": "stdout",
     "output_type": "stream",
     "text": [
      "[CV]  max_depth=5, colsample_bytree=0.749147600318, subsample=0.895539754147 -   0.0s\n",
      "[CV] max_depth=5, colsample_bytree=0.749147600318, subsample=0.895539754147 \n",
      "[CV]  max_depth=5, colsample_bytree=0.749147600318, subsample=0.895539754147 -   0.0s\n",
      "[CV] max_depth=5, colsample_bytree=0.749147600318, subsample=0.895539754147 \n",
      "[CV]  max_depth=5, colsample_bytree=0.749147600318, subsample=0.895539754147 -   0.0s\n",
      "[CV] max_depth=5, colsample_bytree=0.749147600318, subsample=0.895539754147 \n"
     ]
    },
    {
     "name": "stderr",
     "output_type": "stream",
     "text": [
      "C:\\Users\\Takashi\\Miniconda3\\lib\\site-packages\\sklearn\\metrics\\scorer.py:127: DeprecationWarning: Scoring method log_loss was renamed to neg_log_loss in version 0.18 and will be removed in 0.20.\n",
      "  sample_weight=sample_weight)\n",
      "C:\\Users\\Takashi\\Miniconda3\\lib\\site-packages\\sklearn\\metrics\\scorer.py:127: DeprecationWarning: Scoring method log_loss was renamed to neg_log_loss in version 0.18 and will be removed in 0.20.\n",
      "  sample_weight=sample_weight)\n",
      "C:\\Users\\Takashi\\Miniconda3\\lib\\site-packages\\sklearn\\metrics\\scorer.py:127: DeprecationWarning: Scoring method log_loss was renamed to neg_log_loss in version 0.18 and will be removed in 0.20.\n",
      "  sample_weight=sample_weight)\n"
     ]
    },
    {
     "name": "stdout",
     "output_type": "stream",
     "text": [
      "[CV]  max_depth=5, colsample_bytree=0.749147600318, subsample=0.895539754147 -   0.0s\n",
      "[CV] max_depth=5, colsample_bytree=0.749147600318, subsample=0.895539754147 \n",
      "[CV]  max_depth=5, colsample_bytree=0.749147600318, subsample=0.895539754147 -   0.0s\n",
      "[CV] max_depth=9, colsample_bytree=0.724422839436, subsample=0.697931620802 \n",
      "[CV]  max_depth=9, colsample_bytree=0.724422839436, subsample=0.697931620802 -   0.0s\n",
      "[CV] max_depth=9, colsample_bytree=0.724422839436, subsample=0.697931620802 \n"
     ]
    },
    {
     "name": "stderr",
     "output_type": "stream",
     "text": [
      "C:\\Users\\Takashi\\Miniconda3\\lib\\site-packages\\sklearn\\metrics\\scorer.py:127: DeprecationWarning: Scoring method log_loss was renamed to neg_log_loss in version 0.18 and will be removed in 0.20.\n",
      "  sample_weight=sample_weight)\n",
      "C:\\Users\\Takashi\\Miniconda3\\lib\\site-packages\\sklearn\\metrics\\scorer.py:127: DeprecationWarning: Scoring method log_loss was renamed to neg_log_loss in version 0.18 and will be removed in 0.20.\n",
      "  sample_weight=sample_weight)\n",
      "C:\\Users\\Takashi\\Miniconda3\\lib\\site-packages\\sklearn\\metrics\\scorer.py:127: DeprecationWarning: Scoring method log_loss was renamed to neg_log_loss in version 0.18 and will be removed in 0.20.\n",
      "  sample_weight=sample_weight)\n"
     ]
    },
    {
     "name": "stdout",
     "output_type": "stream",
     "text": [
      "[CV]  max_depth=9, colsample_bytree=0.724422839436, subsample=0.697931620802 -   0.0s\n",
      "[CV] max_depth=9, colsample_bytree=0.724422839436, subsample=0.697931620802 \n",
      "[CV]  max_depth=9, colsample_bytree=0.724422839436, subsample=0.697931620802 -   0.0s\n",
      "[CV] max_depth=9, colsample_bytree=0.724422839436, subsample=0.697931620802 \n"
     ]
    },
    {
     "name": "stderr",
     "output_type": "stream",
     "text": [
      "C:\\Users\\Takashi\\Miniconda3\\lib\\site-packages\\sklearn\\metrics\\scorer.py:127: DeprecationWarning: Scoring method log_loss was renamed to neg_log_loss in version 0.18 and will be removed in 0.20.\n",
      "  sample_weight=sample_weight)\n",
      "C:\\Users\\Takashi\\Miniconda3\\lib\\site-packages\\sklearn\\metrics\\scorer.py:127: DeprecationWarning: Scoring method log_loss was renamed to neg_log_loss in version 0.18 and will be removed in 0.20.\n",
      "  sample_weight=sample_weight)\n"
     ]
    },
    {
     "name": "stdout",
     "output_type": "stream",
     "text": [
      "[CV]  max_depth=9, colsample_bytree=0.724422839436, subsample=0.697931620802 -   0.0s\n",
      "[CV] max_depth=9, colsample_bytree=0.724422839436, subsample=0.697931620802 \n",
      "[CV]  max_depth=9, colsample_bytree=0.724422839436, subsample=0.697931620802 -   0.0s\n",
      "[CV] max_depth=9, colsample_bytree=0.724422839436, subsample=0.697931620802 \n"
     ]
    },
    {
     "name": "stderr",
     "output_type": "stream",
     "text": [
      "C:\\Users\\Takashi\\Miniconda3\\lib\\site-packages\\sklearn\\metrics\\scorer.py:127: DeprecationWarning: Scoring method log_loss was renamed to neg_log_loss in version 0.18 and will be removed in 0.20.\n",
      "  sample_weight=sample_weight)\n",
      "C:\\Users\\Takashi\\Miniconda3\\lib\\site-packages\\sklearn\\metrics\\scorer.py:127: DeprecationWarning: Scoring method log_loss was renamed to neg_log_loss in version 0.18 and will be removed in 0.20.\n",
      "  sample_weight=sample_weight)\n"
     ]
    },
    {
     "name": "stdout",
     "output_type": "stream",
     "text": [
      "[CV]  max_depth=9, colsample_bytree=0.724422839436, subsample=0.697931620802 -   0.0s\n",
      "[CV] max_depth=9, colsample_bytree=0.724422839436, subsample=0.697931620802 \n",
      "[CV]  max_depth=9, colsample_bytree=0.724422839436, subsample=0.697931620802 -   0.0s\n",
      "[CV] max_depth=9, colsample_bytree=0.724422839436, subsample=0.697931620802 \n",
      "[CV]  max_depth=9, colsample_bytree=0.724422839436, subsample=0.697931620802 -   0.0s\n",
      "[CV] max_depth=9, colsample_bytree=0.724422839436, subsample=0.697931620802 \n"
     ]
    },
    {
     "name": "stderr",
     "output_type": "stream",
     "text": [
      "C:\\Users\\Takashi\\Miniconda3\\lib\\site-packages\\sklearn\\metrics\\scorer.py:127: DeprecationWarning: Scoring method log_loss was renamed to neg_log_loss in version 0.18 and will be removed in 0.20.\n",
      "  sample_weight=sample_weight)\n",
      "C:\\Users\\Takashi\\Miniconda3\\lib\\site-packages\\sklearn\\metrics\\scorer.py:127: DeprecationWarning: Scoring method log_loss was renamed to neg_log_loss in version 0.18 and will be removed in 0.20.\n",
      "  sample_weight=sample_weight)\n",
      "C:\\Users\\Takashi\\Miniconda3\\lib\\site-packages\\sklearn\\metrics\\scorer.py:127: DeprecationWarning: Scoring method log_loss was renamed to neg_log_loss in version 0.18 and will be removed in 0.20.\n",
      "  sample_weight=sample_weight)\n"
     ]
    },
    {
     "name": "stdout",
     "output_type": "stream",
     "text": [
      "[CV]  max_depth=9, colsample_bytree=0.724422839436, subsample=0.697931620802 -   0.0s\n",
      "[CV] max_depth=9, colsample_bytree=0.724422839436, subsample=0.697931620802 \n",
      "[CV]  max_depth=9, colsample_bytree=0.724422839436, subsample=0.697931620802 -   0.0s\n",
      "[CV] max_depth=9, colsample_bytree=0.950586043944, subsample=0.753121045447 \n"
     ]
    },
    {
     "name": "stderr",
     "output_type": "stream",
     "text": [
      "C:\\Users\\Takashi\\Miniconda3\\lib\\site-packages\\sklearn\\metrics\\scorer.py:127: DeprecationWarning: Scoring method log_loss was renamed to neg_log_loss in version 0.18 and will be removed in 0.20.\n",
      "  sample_weight=sample_weight)\n",
      "C:\\Users\\Takashi\\Miniconda3\\lib\\site-packages\\sklearn\\metrics\\scorer.py:127: DeprecationWarning: Scoring method log_loss was renamed to neg_log_loss in version 0.18 and will be removed in 0.20.\n",
      "  sample_weight=sample_weight)\n"
     ]
    },
    {
     "name": "stdout",
     "output_type": "stream",
     "text": [
      "[CV]  max_depth=9, colsample_bytree=0.950586043944, subsample=0.753121045447 -   0.0s\n",
      "[CV] max_depth=9, colsample_bytree=0.950586043944, subsample=0.753121045447 \n",
      "[CV]  max_depth=9, colsample_bytree=0.950586043944, subsample=0.753121045447 -   0.0s\n",
      "[CV] max_depth=9, colsample_bytree=0.950586043944, subsample=0.753121045447 \n"
     ]
    },
    {
     "name": "stderr",
     "output_type": "stream",
     "text": [
      "C:\\Users\\Takashi\\Miniconda3\\lib\\site-packages\\sklearn\\metrics\\scorer.py:127: DeprecationWarning: Scoring method log_loss was renamed to neg_log_loss in version 0.18 and will be removed in 0.20.\n",
      "  sample_weight=sample_weight)\n",
      "C:\\Users\\Takashi\\Miniconda3\\lib\\site-packages\\sklearn\\metrics\\scorer.py:127: DeprecationWarning: Scoring method log_loss was renamed to neg_log_loss in version 0.18 and will be removed in 0.20.\n",
      "  sample_weight=sample_weight)\n"
     ]
    },
    {
     "name": "stdout",
     "output_type": "stream",
     "text": [
      "[CV]  max_depth=9, colsample_bytree=0.950586043944, subsample=0.753121045447 -   0.0s\n",
      "[CV] max_depth=9, colsample_bytree=0.950586043944, subsample=0.753121045447 \n",
      "[CV]  max_depth=9, colsample_bytree=0.950586043944, subsample=0.753121045447 -   0.0s\n",
      "[CV] max_depth=9, colsample_bytree=0.950586043944, subsample=0.753121045447 \n"
     ]
    },
    {
     "name": "stderr",
     "output_type": "stream",
     "text": [
      "C:\\Users\\Takashi\\Miniconda3\\lib\\site-packages\\sklearn\\metrics\\scorer.py:127: DeprecationWarning: Scoring method log_loss was renamed to neg_log_loss in version 0.18 and will be removed in 0.20.\n",
      "  sample_weight=sample_weight)\n",
      "C:\\Users\\Takashi\\Miniconda3\\lib\\site-packages\\sklearn\\metrics\\scorer.py:127: DeprecationWarning: Scoring method log_loss was renamed to neg_log_loss in version 0.18 and will be removed in 0.20.\n",
      "  sample_weight=sample_weight)\n"
     ]
    },
    {
     "name": "stdout",
     "output_type": "stream",
     "text": [
      "[CV]  max_depth=9, colsample_bytree=0.950586043944, subsample=0.753121045447 -   0.0s\n",
      "[CV] max_depth=9, colsample_bytree=0.950586043944, subsample=0.753121045447 \n",
      "[CV]  max_depth=9, colsample_bytree=0.950586043944, subsample=0.753121045447 -   0.0s\n",
      "[CV] max_depth=9, colsample_bytree=0.950586043944, subsample=0.753121045447 \n"
     ]
    },
    {
     "name": "stderr",
     "output_type": "stream",
     "text": [
      "C:\\Users\\Takashi\\Miniconda3\\lib\\site-packages\\sklearn\\metrics\\scorer.py:127: DeprecationWarning: Scoring method log_loss was renamed to neg_log_loss in version 0.18 and will be removed in 0.20.\n",
      "  sample_weight=sample_weight)\n",
      "C:\\Users\\Takashi\\Miniconda3\\lib\\site-packages\\sklearn\\metrics\\scorer.py:127: DeprecationWarning: Scoring method log_loss was renamed to neg_log_loss in version 0.18 and will be removed in 0.20.\n",
      "  sample_weight=sample_weight)\n"
     ]
    },
    {
     "name": "stdout",
     "output_type": "stream",
     "text": [
      "[CV]  max_depth=9, colsample_bytree=0.950586043944, subsample=0.753121045447 -   0.0s\n",
      "[CV] max_depth=9, colsample_bytree=0.950586043944, subsample=0.753121045447 \n",
      "[CV]  max_depth=9, colsample_bytree=0.950586043944, subsample=0.753121045447 -   0.0s\n",
      "[CV] max_depth=9, colsample_bytree=0.950586043944, subsample=0.753121045447 \n"
     ]
    },
    {
     "name": "stderr",
     "output_type": "stream",
     "text": [
      "C:\\Users\\Takashi\\Miniconda3\\lib\\site-packages\\sklearn\\metrics\\scorer.py:127: DeprecationWarning: Scoring method log_loss was renamed to neg_log_loss in version 0.18 and will be removed in 0.20.\n",
      "  sample_weight=sample_weight)\n",
      "C:\\Users\\Takashi\\Miniconda3\\lib\\site-packages\\sklearn\\metrics\\scorer.py:127: DeprecationWarning: Scoring method log_loss was renamed to neg_log_loss in version 0.18 and will be removed in 0.20.\n",
      "  sample_weight=sample_weight)\n"
     ]
    },
    {
     "name": "stdout",
     "output_type": "stream",
     "text": [
      "[CV]  max_depth=9, colsample_bytree=0.950586043944, subsample=0.753121045447 -   0.0s\n",
      "[CV] max_depth=9, colsample_bytree=0.950586043944, subsample=0.753121045447 \n",
      "[CV]  max_depth=9, colsample_bytree=0.950586043944, subsample=0.753121045447 -   0.0s\n",
      "[CV] max_depth=4, colsample_bytree=0.543950491114, subsample=0.856049295372 \n",
      "[CV]  max_depth=4, colsample_bytree=0.543950491114, subsample=0.856049295372 -   0.0s\n",
      "[CV] max_depth=4, colsample_bytree=0.543950491114, subsample=0.856049295372 \n"
     ]
    },
    {
     "name": "stderr",
     "output_type": "stream",
     "text": [
      "C:\\Users\\Takashi\\Miniconda3\\lib\\site-packages\\sklearn\\metrics\\scorer.py:127: DeprecationWarning: Scoring method log_loss was renamed to neg_log_loss in version 0.18 and will be removed in 0.20.\n",
      "  sample_weight=sample_weight)\n",
      "C:\\Users\\Takashi\\Miniconda3\\lib\\site-packages\\sklearn\\metrics\\scorer.py:127: DeprecationWarning: Scoring method log_loss was renamed to neg_log_loss in version 0.18 and will be removed in 0.20.\n",
      "  sample_weight=sample_weight)\n",
      "C:\\Users\\Takashi\\Miniconda3\\lib\\site-packages\\sklearn\\metrics\\scorer.py:127: DeprecationWarning: Scoring method log_loss was renamed to neg_log_loss in version 0.18 and will be removed in 0.20.\n",
      "  sample_weight=sample_weight)\n",
      "C:\\Users\\Takashi\\Miniconda3\\lib\\site-packages\\sklearn\\metrics\\scorer.py:127: DeprecationWarning: Scoring method log_loss was renamed to neg_log_loss in version 0.18 and will be removed in 0.20.\n",
      "  sample_weight=sample_weight)\n"
     ]
    },
    {
     "name": "stdout",
     "output_type": "stream",
     "text": [
      "[CV]  max_depth=4, colsample_bytree=0.543950491114, subsample=0.856049295372 -   0.0s\n",
      "[CV] max_depth=4, colsample_bytree=0.543950491114, subsample=0.856049295372 \n",
      "[CV]  max_depth=4, colsample_bytree=0.543950491114, subsample=0.856049295372 -   0.0s\n",
      "[CV] max_depth=4, colsample_bytree=0.543950491114, subsample=0.856049295372 \n",
      "[CV]  max_depth=4, colsample_bytree=0.543950491114, subsample=0.856049295372 -   0.0s\n",
      "[CV] max_depth=4, colsample_bytree=0.543950491114, subsample=0.856049295372 \n",
      "[CV]  max_depth=4, colsample_bytree=0.543950491114, subsample=0.856049295372 -   0.0s\n",
      "[CV] max_depth=4, colsample_bytree=0.543950491114, subsample=0.856049295372 \n"
     ]
    },
    {
     "name": "stderr",
     "output_type": "stream",
     "text": [
      "C:\\Users\\Takashi\\Miniconda3\\lib\\site-packages\\sklearn\\metrics\\scorer.py:127: DeprecationWarning: Scoring method log_loss was renamed to neg_log_loss in version 0.18 and will be removed in 0.20.\n",
      "  sample_weight=sample_weight)\n",
      "C:\\Users\\Takashi\\Miniconda3\\lib\\site-packages\\sklearn\\metrics\\scorer.py:127: DeprecationWarning: Scoring method log_loss was renamed to neg_log_loss in version 0.18 and will be removed in 0.20.\n",
      "  sample_weight=sample_weight)\n",
      "C:\\Users\\Takashi\\Miniconda3\\lib\\site-packages\\sklearn\\metrics\\scorer.py:127: DeprecationWarning: Scoring method log_loss was renamed to neg_log_loss in version 0.18 and will be removed in 0.20.\n",
      "  sample_weight=sample_weight)\n"
     ]
    },
    {
     "name": "stdout",
     "output_type": "stream",
     "text": [
      "[CV]  max_depth=4, colsample_bytree=0.543950491114, subsample=0.856049295372 -   0.0s\n",
      "[CV] max_depth=4, colsample_bytree=0.543950491114, subsample=0.856049295372 \n",
      "[CV]  max_depth=4, colsample_bytree=0.543950491114, subsample=0.856049295372 -   0.0s\n",
      "[CV] max_depth=4, colsample_bytree=0.543950491114, subsample=0.856049295372 \n",
      "[CV]  max_depth=4, colsample_bytree=0.543950491114, subsample=0.856049295372 -   0.0s\n",
      "[CV] max_depth=4, colsample_bytree=0.543950491114, subsample=0.856049295372 \n",
      "[CV]  max_depth=4, colsample_bytree=0.543950491114, subsample=0.856049295372 -   0.0s\n",
      "[CV] max_depth=4, colsample_bytree=0.543950491114, subsample=0.856049295372 \n"
     ]
    },
    {
     "name": "stderr",
     "output_type": "stream",
     "text": [
      "C:\\Users\\Takashi\\Miniconda3\\lib\\site-packages\\sklearn\\metrics\\scorer.py:127: DeprecationWarning: Scoring method log_loss was renamed to neg_log_loss in version 0.18 and will be removed in 0.20.\n",
      "  sample_weight=sample_weight)\n",
      "C:\\Users\\Takashi\\Miniconda3\\lib\\site-packages\\sklearn\\metrics\\scorer.py:127: DeprecationWarning: Scoring method log_loss was renamed to neg_log_loss in version 0.18 and will be removed in 0.20.\n",
      "  sample_weight=sample_weight)\n",
      "C:\\Users\\Takashi\\Miniconda3\\lib\\site-packages\\sklearn\\metrics\\scorer.py:127: DeprecationWarning: Scoring method log_loss was renamed to neg_log_loss in version 0.18 and will be removed in 0.20.\n",
      "  sample_weight=sample_weight)\n",
      "C:\\Users\\Takashi\\Miniconda3\\lib\\site-packages\\sklearn\\metrics\\scorer.py:127: DeprecationWarning: Scoring method log_loss was renamed to neg_log_loss in version 0.18 and will be removed in 0.20.\n",
      "  sample_weight=sample_weight)\n"
     ]
    },
    {
     "name": "stdout",
     "output_type": "stream",
     "text": [
      "[CV]  max_depth=4, colsample_bytree=0.543950491114, subsample=0.856049295372 -   0.0s\n",
      "[CV] max_depth=1, colsample_bytree=0.699198141631, subsample=0.93509225485 \n",
      "[CV]  max_depth=1, colsample_bytree=0.699198141631, subsample=0.93509225485 -   0.0s\n",
      "[CV] max_depth=1, colsample_bytree=0.699198141631, subsample=0.93509225485 \n",
      "[CV]  max_depth=1, colsample_bytree=0.699198141631, subsample=0.93509225485 -   0.0s\n",
      "[CV] max_depth=1, colsample_bytree=0.699198141631, subsample=0.93509225485 \n",
      "[CV]  max_depth=1, colsample_bytree=0.699198141631, subsample=0.93509225485 -   0.0s\n",
      "[CV] max_depth=1, colsample_bytree=0.699198141631, subsample=0.93509225485 \n",
      "[CV]  max_depth=1, colsample_bytree=0.699198141631, subsample=0.93509225485 -   0.0s\n",
      "[CV] max_depth=1, colsample_bytree=0.699198141631, subsample=0.93509225485 \n",
      "[CV]  max_depth=1, colsample_bytree=0.699198141631, subsample=0.93509225485 -   0.0s\n",
      "[CV] max_depth=1, colsample_bytree=0.699198141631, subsample=0.93509225485 \n",
      "[CV]  max_depth=1, colsample_bytree=0.699198141631, subsample=0.93509225485 -   0.0s\n",
      "[CV] max_depth=1, colsample_bytree=0.699198141631, subsample=0.93509225485 \n",
      "[CV]  max_depth=1, colsample_bytree=0.699198141631, subsample=0.93509225485 -   0.0s\n",
      "[CV] max_depth=1, colsample_bytree=0.699198141631, subsample=0.93509225485 \n",
      "[CV]  max_depth=1, colsample_bytree=0.699198141631, subsample=0.93509225485 -   0.0s\n",
      "[CV] max_depth=1, colsample_bytree=0.699198141631, subsample=0.93509225485 \n"
     ]
    },
    {
     "name": "stderr",
     "output_type": "stream",
     "text": [
      "C:\\Users\\Takashi\\Miniconda3\\lib\\site-packages\\sklearn\\metrics\\scorer.py:127: DeprecationWarning: Scoring method log_loss was renamed to neg_log_loss in version 0.18 and will be removed in 0.20.\n",
      "  sample_weight=sample_weight)\n",
      "C:\\Users\\Takashi\\Miniconda3\\lib\\site-packages\\sklearn\\metrics\\scorer.py:127: DeprecationWarning: Scoring method log_loss was renamed to neg_log_loss in version 0.18 and will be removed in 0.20.\n",
      "  sample_weight=sample_weight)\n",
      "C:\\Users\\Takashi\\Miniconda3\\lib\\site-packages\\sklearn\\metrics\\scorer.py:127: DeprecationWarning: Scoring method log_loss was renamed to neg_log_loss in version 0.18 and will be removed in 0.20.\n",
      "  sample_weight=sample_weight)\n",
      "C:\\Users\\Takashi\\Miniconda3\\lib\\site-packages\\sklearn\\metrics\\scorer.py:127: DeprecationWarning: Scoring method log_loss was renamed to neg_log_loss in version 0.18 and will be removed in 0.20.\n",
      "  sample_weight=sample_weight)\n",
      "C:\\Users\\Takashi\\Miniconda3\\lib\\site-packages\\sklearn\\metrics\\scorer.py:127: DeprecationWarning: Scoring method log_loss was renamed to neg_log_loss in version 0.18 and will be removed in 0.20.\n",
      "  sample_weight=sample_weight)\n",
      "C:\\Users\\Takashi\\Miniconda3\\lib\\site-packages\\sklearn\\metrics\\scorer.py:127: DeprecationWarning: Scoring method log_loss was renamed to neg_log_loss in version 0.18 and will be removed in 0.20.\n",
      "  sample_weight=sample_weight)\n",
      "C:\\Users\\Takashi\\Miniconda3\\lib\\site-packages\\sklearn\\metrics\\scorer.py:127: DeprecationWarning: Scoring method log_loss was renamed to neg_log_loss in version 0.18 and will be removed in 0.20.\n",
      "  sample_weight=sample_weight)\n",
      "C:\\Users\\Takashi\\Miniconda3\\lib\\site-packages\\sklearn\\metrics\\scorer.py:127: DeprecationWarning: Scoring method log_loss was renamed to neg_log_loss in version 0.18 and will be removed in 0.20.\n",
      "  sample_weight=sample_weight)\n",
      "C:\\Users\\Takashi\\Miniconda3\\lib\\site-packages\\sklearn\\metrics\\scorer.py:127: DeprecationWarning: Scoring method log_loss was renamed to neg_log_loss in version 0.18 and will be removed in 0.20.\n",
      "  sample_weight=sample_weight)\n"
     ]
    },
    {
     "name": "stdout",
     "output_type": "stream",
     "text": [
      "[CV]  max_depth=1, colsample_bytree=0.699198141631, subsample=0.93509225485 -   0.0s\n",
      "[CV] max_depth=1, colsample_bytree=0.699198141631, subsample=0.93509225485 \n",
      "[CV]  max_depth=1, colsample_bytree=0.699198141631, subsample=0.93509225485 -   0.0s\n",
      "[CV] max_depth=5, colsample_bytree=0.921409854815, subsample=0.774571579153 \n",
      "[CV]  max_depth=5, colsample_bytree=0.921409854815, subsample=0.774571579153 -   0.0s\n",
      "[CV] max_depth=5, colsample_bytree=0.921409854815, subsample=0.774571579153 \n",
      "[CV]  max_depth=5, colsample_bytree=0.921409854815, subsample=0.774571579153 -   0.0s\n",
      "[CV] max_depth=5, colsample_bytree=0.921409854815, subsample=0.774571579153 \n"
     ]
    },
    {
     "name": "stderr",
     "output_type": "stream",
     "text": [
      "C:\\Users\\Takashi\\Miniconda3\\lib\\site-packages\\sklearn\\metrics\\scorer.py:127: DeprecationWarning: Scoring method log_loss was renamed to neg_log_loss in version 0.18 and will be removed in 0.20.\n",
      "  sample_weight=sample_weight)\n",
      "C:\\Users\\Takashi\\Miniconda3\\lib\\site-packages\\sklearn\\metrics\\scorer.py:127: DeprecationWarning: Scoring method log_loss was renamed to neg_log_loss in version 0.18 and will be removed in 0.20.\n",
      "  sample_weight=sample_weight)\n",
      "C:\\Users\\Takashi\\Miniconda3\\lib\\site-packages\\sklearn\\metrics\\scorer.py:127: DeprecationWarning: Scoring method log_loss was renamed to neg_log_loss in version 0.18 and will be removed in 0.20.\n",
      "  sample_weight=sample_weight)\n",
      "C:\\Users\\Takashi\\Miniconda3\\lib\\site-packages\\sklearn\\metrics\\scorer.py:127: DeprecationWarning: Scoring method log_loss was renamed to neg_log_loss in version 0.18 and will be removed in 0.20.\n",
      "  sample_weight=sample_weight)\n",
      "C:\\Users\\Takashi\\Miniconda3\\lib\\site-packages\\sklearn\\metrics\\scorer.py:127: DeprecationWarning: Scoring method log_loss was renamed to neg_log_loss in version 0.18 and will be removed in 0.20.\n",
      "  sample_weight=sample_weight)\n",
      "C:\\Users\\Takashi\\Miniconda3\\lib\\site-packages\\sklearn\\metrics\\scorer.py:127: DeprecationWarning: Scoring method log_loss was renamed to neg_log_loss in version 0.18 and will be removed in 0.20.\n",
      "  sample_weight=sample_weight)\n"
     ]
    },
    {
     "name": "stdout",
     "output_type": "stream",
     "text": [
      "[CV]  max_depth=5, colsample_bytree=0.921409854815, subsample=0.774571579153 -   0.0s\n",
      "[CV] max_depth=5, colsample_bytree=0.921409854815, subsample=0.774571579153 \n",
      "[CV]  max_depth=5, colsample_bytree=0.921409854815, subsample=0.774571579153 -   0.0s\n",
      "[CV] max_depth=5, colsample_bytree=0.921409854815, subsample=0.774571579153 \n",
      "[CV]  max_depth=5, colsample_bytree=0.921409854815, subsample=0.774571579153 -   0.0s\n",
      "[CV] max_depth=5, colsample_bytree=0.921409854815, subsample=0.774571579153 \n"
     ]
    },
    {
     "name": "stderr",
     "output_type": "stream",
     "text": [
      "C:\\Users\\Takashi\\Miniconda3\\lib\\site-packages\\sklearn\\metrics\\scorer.py:127: DeprecationWarning: Scoring method log_loss was renamed to neg_log_loss in version 0.18 and will be removed in 0.20.\n",
      "  sample_weight=sample_weight)\n",
      "C:\\Users\\Takashi\\Miniconda3\\lib\\site-packages\\sklearn\\metrics\\scorer.py:127: DeprecationWarning: Scoring method log_loss was renamed to neg_log_loss in version 0.18 and will be removed in 0.20.\n",
      "  sample_weight=sample_weight)\n",
      "C:\\Users\\Takashi\\Miniconda3\\lib\\site-packages\\sklearn\\metrics\\scorer.py:127: DeprecationWarning: Scoring method log_loss was renamed to neg_log_loss in version 0.18 and will be removed in 0.20.\n",
      "  sample_weight=sample_weight)\n"
     ]
    },
    {
     "name": "stdout",
     "output_type": "stream",
     "text": [
      "[CV]  max_depth=5, colsample_bytree=0.921409854815, subsample=0.774571579153 -   0.0s\n",
      "[CV] max_depth=5, colsample_bytree=0.921409854815, subsample=0.774571579153 \n",
      "[CV]  max_depth=5, colsample_bytree=0.921409854815, subsample=0.774571579153 -   0.0s\n",
      "[CV] max_depth=5, colsample_bytree=0.921409854815, subsample=0.774571579153 \n",
      "[CV]  max_depth=5, colsample_bytree=0.921409854815, subsample=0.774571579153 -   0.0s\n",
      "[CV] max_depth=5, colsample_bytree=0.921409854815, subsample=0.774571579153 \n"
     ]
    },
    {
     "name": "stderr",
     "output_type": "stream",
     "text": [
      "C:\\Users\\Takashi\\Miniconda3\\lib\\site-packages\\sklearn\\metrics\\scorer.py:127: DeprecationWarning: Scoring method log_loss was renamed to neg_log_loss in version 0.18 and will be removed in 0.20.\n",
      "  sample_weight=sample_weight)\n",
      "C:\\Users\\Takashi\\Miniconda3\\lib\\site-packages\\sklearn\\metrics\\scorer.py:127: DeprecationWarning: Scoring method log_loss was renamed to neg_log_loss in version 0.18 and will be removed in 0.20.\n",
      "  sample_weight=sample_weight)\n",
      "C:\\Users\\Takashi\\Miniconda3\\lib\\site-packages\\sklearn\\metrics\\scorer.py:127: DeprecationWarning: Scoring method log_loss was renamed to neg_log_loss in version 0.18 and will be removed in 0.20.\n",
      "  sample_weight=sample_weight)\n"
     ]
    },
    {
     "name": "stdout",
     "output_type": "stream",
     "text": [
      "[CV]  max_depth=5, colsample_bytree=0.921409854815, subsample=0.774571579153 -   0.0s\n",
      "[CV] max_depth=5, colsample_bytree=0.921409854815, subsample=0.774571579153 \n",
      "[CV]  max_depth=5, colsample_bytree=0.921409854815, subsample=0.774571579153 -   0.0s\n",
      "[CV] max_depth=7, colsample_bytree=0.778174668881, subsample=0.660402939622 \n",
      "[CV]  max_depth=7, colsample_bytree=0.778174668881, subsample=0.660402939622 -   0.0s\n",
      "[CV] max_depth=7, colsample_bytree=0.778174668881, subsample=0.660402939622 \n"
     ]
    },
    {
     "name": "stderr",
     "output_type": "stream",
     "text": [
      "C:\\Users\\Takashi\\Miniconda3\\lib\\site-packages\\sklearn\\metrics\\scorer.py:127: DeprecationWarning: Scoring method log_loss was renamed to neg_log_loss in version 0.18 and will be removed in 0.20.\n",
      "  sample_weight=sample_weight)\n",
      "C:\\Users\\Takashi\\Miniconda3\\lib\\site-packages\\sklearn\\metrics\\scorer.py:127: DeprecationWarning: Scoring method log_loss was renamed to neg_log_loss in version 0.18 and will be removed in 0.20.\n",
      "  sample_weight=sample_weight)\n"
     ]
    },
    {
     "name": "stdout",
     "output_type": "stream",
     "text": [
      "[CV]  max_depth=7, colsample_bytree=0.778174668881, subsample=0.660402939622 -   0.0s\n",
      "[CV] max_depth=7, colsample_bytree=0.778174668881, subsample=0.660402939622 \n",
      "[CV]  max_depth=7, colsample_bytree=0.778174668881, subsample=0.660402939622 -   0.0s\n",
      "[CV] max_depth=7, colsample_bytree=0.778174668881, subsample=0.660402939622 \n"
     ]
    },
    {
     "name": "stderr",
     "output_type": "stream",
     "text": [
      "C:\\Users\\Takashi\\Miniconda3\\lib\\site-packages\\sklearn\\metrics\\scorer.py:127: DeprecationWarning: Scoring method log_loss was renamed to neg_log_loss in version 0.18 and will be removed in 0.20.\n",
      "  sample_weight=sample_weight)\n",
      "C:\\Users\\Takashi\\Miniconda3\\lib\\site-packages\\sklearn\\metrics\\scorer.py:127: DeprecationWarning: Scoring method log_loss was renamed to neg_log_loss in version 0.18 and will be removed in 0.20.\n",
      "  sample_weight=sample_weight)\n",
      "C:\\Users\\Takashi\\Miniconda3\\lib\\site-packages\\sklearn\\metrics\\scorer.py:127: DeprecationWarning: Scoring method log_loss was renamed to neg_log_loss in version 0.18 and will be removed in 0.20.\n",
      "  sample_weight=sample_weight)\n"
     ]
    },
    {
     "name": "stdout",
     "output_type": "stream",
     "text": [
      "[CV]  max_depth=7, colsample_bytree=0.778174668881, subsample=0.660402939622 -   0.0s\n",
      "[CV] max_depth=7, colsample_bytree=0.778174668881, subsample=0.660402939622 \n",
      "[CV]  max_depth=7, colsample_bytree=0.778174668881, subsample=0.660402939622 -   0.0s\n",
      "[CV] max_depth=7, colsample_bytree=0.778174668881, subsample=0.660402939622 \n",
      "[CV]  max_depth=7, colsample_bytree=0.778174668881, subsample=0.660402939622 -   0.0s\n",
      "[CV] max_depth=7, colsample_bytree=0.778174668881, subsample=0.660402939622 \n"
     ]
    },
    {
     "name": "stderr",
     "output_type": "stream",
     "text": [
      "C:\\Users\\Takashi\\Miniconda3\\lib\\site-packages\\sklearn\\metrics\\scorer.py:127: DeprecationWarning: Scoring method log_loss was renamed to neg_log_loss in version 0.18 and will be removed in 0.20.\n",
      "  sample_weight=sample_weight)\n",
      "C:\\Users\\Takashi\\Miniconda3\\lib\\site-packages\\sklearn\\metrics\\scorer.py:127: DeprecationWarning: Scoring method log_loss was renamed to neg_log_loss in version 0.18 and will be removed in 0.20.\n",
      "  sample_weight=sample_weight)\n",
      "C:\\Users\\Takashi\\Miniconda3\\lib\\site-packages\\sklearn\\metrics\\scorer.py:127: DeprecationWarning: Scoring method log_loss was renamed to neg_log_loss in version 0.18 and will be removed in 0.20.\n",
      "  sample_weight=sample_weight)\n"
     ]
    },
    {
     "name": "stdout",
     "output_type": "stream",
     "text": [
      "[CV]  max_depth=7, colsample_bytree=0.778174668881, subsample=0.660402939622 -   0.0s\n",
      "[CV] max_depth=7, colsample_bytree=0.778174668881, subsample=0.660402939622 \n",
      "[CV]  max_depth=7, colsample_bytree=0.778174668881, subsample=0.660402939622 -   0.0s\n",
      "[CV] max_depth=7, colsample_bytree=0.778174668881, subsample=0.660402939622 \n",
      "[CV]  max_depth=7, colsample_bytree=0.778174668881, subsample=0.660402939622 -   0.0s\n",
      "[CV] max_depth=7, colsample_bytree=0.778174668881, subsample=0.660402939622 \n"
     ]
    },
    {
     "name": "stderr",
     "output_type": "stream",
     "text": [
      "C:\\Users\\Takashi\\Miniconda3\\lib\\site-packages\\sklearn\\metrics\\scorer.py:127: DeprecationWarning: Scoring method log_loss was renamed to neg_log_loss in version 0.18 and will be removed in 0.20.\n",
      "  sample_weight=sample_weight)\n",
      "C:\\Users\\Takashi\\Miniconda3\\lib\\site-packages\\sklearn\\metrics\\scorer.py:127: DeprecationWarning: Scoring method log_loss was renamed to neg_log_loss in version 0.18 and will be removed in 0.20.\n",
      "  sample_weight=sample_weight)\n",
      "C:\\Users\\Takashi\\Miniconda3\\lib\\site-packages\\sklearn\\metrics\\scorer.py:127: DeprecationWarning: Scoring method log_loss was renamed to neg_log_loss in version 0.18 and will be removed in 0.20.\n",
      "  sample_weight=sample_weight)\n",
      "C:\\Users\\Takashi\\Miniconda3\\lib\\site-packages\\sklearn\\metrics\\scorer.py:127: DeprecationWarning: Scoring method log_loss was renamed to neg_log_loss in version 0.18 and will be removed in 0.20.\n",
      "  sample_weight=sample_weight)\n"
     ]
    },
    {
     "name": "stdout",
     "output_type": "stream",
     "text": [
      "[CV]  max_depth=7, colsample_bytree=0.778174668881, subsample=0.660402939622 -   0.0s\n",
      "[CV] max_depth=4, colsample_bytree=0.600170981585, subsample=0.530504543946 \n",
      "[CV]  max_depth=4, colsample_bytree=0.600170981585, subsample=0.530504543946 -   0.0s\n",
      "[CV] max_depth=4, colsample_bytree=0.600170981585, subsample=0.530504543946 \n",
      "[CV]  max_depth=4, colsample_bytree=0.600170981585, subsample=0.530504543946 -   0.0s\n",
      "[CV] max_depth=4, colsample_bytree=0.600170981585, subsample=0.530504543946 \n",
      "[CV]  max_depth=4, colsample_bytree=0.600170981585, subsample=0.530504543946 -   0.0s\n",
      "[CV] max_depth=4, colsample_bytree=0.600170981585, subsample=0.530504543946 \n"
     ]
    },
    {
     "name": "stderr",
     "output_type": "stream",
     "text": [
      "C:\\Users\\Takashi\\Miniconda3\\lib\\site-packages\\sklearn\\metrics\\scorer.py:127: DeprecationWarning: Scoring method log_loss was renamed to neg_log_loss in version 0.18 and will be removed in 0.20.\n",
      "  sample_weight=sample_weight)\n",
      "C:\\Users\\Takashi\\Miniconda3\\lib\\site-packages\\sklearn\\metrics\\scorer.py:127: DeprecationWarning: Scoring method log_loss was renamed to neg_log_loss in version 0.18 and will be removed in 0.20.\n",
      "  sample_weight=sample_weight)\n",
      "C:\\Users\\Takashi\\Miniconda3\\lib\\site-packages\\sklearn\\metrics\\scorer.py:127: DeprecationWarning: Scoring method log_loss was renamed to neg_log_loss in version 0.18 and will be removed in 0.20.\n",
      "  sample_weight=sample_weight)\n",
      "C:\\Users\\Takashi\\Miniconda3\\lib\\site-packages\\sklearn\\metrics\\scorer.py:127: DeprecationWarning: Scoring method log_loss was renamed to neg_log_loss in version 0.18 and will be removed in 0.20.\n",
      "  sample_weight=sample_weight)\n"
     ]
    },
    {
     "name": "stdout",
     "output_type": "stream",
     "text": [
      "[CV]  max_depth=4, colsample_bytree=0.600170981585, subsample=0.530504543946 -   0.0s\n",
      "[CV] max_depth=4, colsample_bytree=0.600170981585, subsample=0.530504543946 \n",
      "[CV]  max_depth=4, colsample_bytree=0.600170981585, subsample=0.530504543946 -   0.0s\n",
      "[CV] max_depth=4, colsample_bytree=0.600170981585, subsample=0.530504543946 \n",
      "[CV]  max_depth=4, colsample_bytree=0.600170981585, subsample=0.530504543946 -   0.0s\n",
      "[CV] max_depth=4, colsample_bytree=0.600170981585, subsample=0.530504543946 \n",
      "[CV]  max_depth=4, colsample_bytree=0.600170981585, subsample=0.530504543946 -   0.0s\n",
      "[CV] max_depth=4, colsample_bytree=0.600170981585, subsample=0.530504543946 \n"
     ]
    },
    {
     "name": "stderr",
     "output_type": "stream",
     "text": [
      "C:\\Users\\Takashi\\Miniconda3\\lib\\site-packages\\sklearn\\metrics\\scorer.py:127: DeprecationWarning: Scoring method log_loss was renamed to neg_log_loss in version 0.18 and will be removed in 0.20.\n",
      "  sample_weight=sample_weight)\n",
      "C:\\Users\\Takashi\\Miniconda3\\lib\\site-packages\\sklearn\\metrics\\scorer.py:127: DeprecationWarning: Scoring method log_loss was renamed to neg_log_loss in version 0.18 and will be removed in 0.20.\n",
      "  sample_weight=sample_weight)\n",
      "C:\\Users\\Takashi\\Miniconda3\\lib\\site-packages\\sklearn\\metrics\\scorer.py:127: DeprecationWarning: Scoring method log_loss was renamed to neg_log_loss in version 0.18 and will be removed in 0.20.\n",
      "  sample_weight=sample_weight)\n",
      "C:\\Users\\Takashi\\Miniconda3\\lib\\site-packages\\sklearn\\metrics\\scorer.py:127: DeprecationWarning: Scoring method log_loss was renamed to neg_log_loss in version 0.18 and will be removed in 0.20.\n",
      "  sample_weight=sample_weight)\n",
      "C:\\Users\\Takashi\\Miniconda3\\lib\\site-packages\\sklearn\\metrics\\scorer.py:127: DeprecationWarning: Scoring method log_loss was renamed to neg_log_loss in version 0.18 and will be removed in 0.20.\n",
      "  sample_weight=sample_weight)\n"
     ]
    },
    {
     "name": "stdout",
     "output_type": "stream",
     "text": [
      "[CV]  max_depth=4, colsample_bytree=0.600170981585, subsample=0.530504543946 -   0.0s\n",
      "[CV] max_depth=4, colsample_bytree=0.600170981585, subsample=0.530504543946 \n",
      "[CV]  max_depth=4, colsample_bytree=0.600170981585, subsample=0.530504543946 -   0.0s\n",
      "[CV] max_depth=4, colsample_bytree=0.600170981585, subsample=0.530504543946 \n",
      "[CV]  max_depth=4, colsample_bytree=0.600170981585, subsample=0.530504543946 -   0.0s\n",
      "[CV] max_depth=3, colsample_bytree=0.967781713586, subsample=0.600837372115 \n",
      "[CV]  max_depth=3, colsample_bytree=0.967781713586, subsample=0.600837372115 -   0.0s\n",
      "[CV] max_depth=3, colsample_bytree=0.967781713586, subsample=0.600837372115 \n",
      "[CV]  max_depth=3, colsample_bytree=0.967781713586, subsample=0.600837372115 -   0.0s\n",
      "[CV] max_depth=3, colsample_bytree=0.967781713586, subsample=0.600837372115 \n"
     ]
    },
    {
     "name": "stderr",
     "output_type": "stream",
     "text": [
      "C:\\Users\\Takashi\\Miniconda3\\lib\\site-packages\\sklearn\\metrics\\scorer.py:127: DeprecationWarning: Scoring method log_loss was renamed to neg_log_loss in version 0.18 and will be removed in 0.20.\n",
      "  sample_weight=sample_weight)\n",
      "C:\\Users\\Takashi\\Miniconda3\\lib\\site-packages\\sklearn\\metrics\\scorer.py:127: DeprecationWarning: Scoring method log_loss was renamed to neg_log_loss in version 0.18 and will be removed in 0.20.\n",
      "  sample_weight=sample_weight)\n",
      "C:\\Users\\Takashi\\Miniconda3\\lib\\site-packages\\sklearn\\metrics\\scorer.py:127: DeprecationWarning: Scoring method log_loss was renamed to neg_log_loss in version 0.18 and will be removed in 0.20.\n",
      "  sample_weight=sample_weight)\n",
      "C:\\Users\\Takashi\\Miniconda3\\lib\\site-packages\\sklearn\\metrics\\scorer.py:127: DeprecationWarning: Scoring method log_loss was renamed to neg_log_loss in version 0.18 and will be removed in 0.20.\n",
      "  sample_weight=sample_weight)\n"
     ]
    },
    {
     "name": "stdout",
     "output_type": "stream",
     "text": [
      "[CV]  max_depth=3, colsample_bytree=0.967781713586, subsample=0.600837372115 -   0.0s\n",
      "[CV] max_depth=3, colsample_bytree=0.967781713586, subsample=0.600837372115 \n",
      "[CV]  max_depth=3, colsample_bytree=0.967781713586, subsample=0.600837372115 -   0.0s\n",
      "[CV] max_depth=3, colsample_bytree=0.967781713586, subsample=0.600837372115 \n",
      "[CV]  max_depth=3, colsample_bytree=0.967781713586, subsample=0.600837372115 -   0.0s\n",
      "[CV] max_depth=3, colsample_bytree=0.967781713586, subsample=0.600837372115 \n",
      "[CV]  max_depth=3, colsample_bytree=0.967781713586, subsample=0.600837372115 -   0.0s\n",
      "[CV] max_depth=3, colsample_bytree=0.967781713586, subsample=0.600837372115 \n"
     ]
    },
    {
     "name": "stderr",
     "output_type": "stream",
     "text": [
      "C:\\Users\\Takashi\\Miniconda3\\lib\\site-packages\\sklearn\\metrics\\scorer.py:127: DeprecationWarning: Scoring method log_loss was renamed to neg_log_loss in version 0.18 and will be removed in 0.20.\n",
      "  sample_weight=sample_weight)\n",
      "C:\\Users\\Takashi\\Miniconda3\\lib\\site-packages\\sklearn\\metrics\\scorer.py:127: DeprecationWarning: Scoring method log_loss was renamed to neg_log_loss in version 0.18 and will be removed in 0.20.\n",
      "  sample_weight=sample_weight)\n",
      "C:\\Users\\Takashi\\Miniconda3\\lib\\site-packages\\sklearn\\metrics\\scorer.py:127: DeprecationWarning: Scoring method log_loss was renamed to neg_log_loss in version 0.18 and will be removed in 0.20.\n",
      "  sample_weight=sample_weight)\n",
      "C:\\Users\\Takashi\\Miniconda3\\lib\\site-packages\\sklearn\\metrics\\scorer.py:127: DeprecationWarning: Scoring method log_loss was renamed to neg_log_loss in version 0.18 and will be removed in 0.20.\n",
      "  sample_weight=sample_weight)\n"
     ]
    },
    {
     "name": "stdout",
     "output_type": "stream",
     "text": [
      "[CV]  max_depth=3, colsample_bytree=0.967781713586, subsample=0.600837372115 -   0.0s\n",
      "[CV] max_depth=3, colsample_bytree=0.967781713586, subsample=0.600837372115 \n",
      "[CV]  max_depth=3, colsample_bytree=0.967781713586, subsample=0.600837372115 -   0.0s\n",
      "[CV] max_depth=3, colsample_bytree=0.967781713586, subsample=0.600837372115 \n",
      "[CV]  max_depth=3, colsample_bytree=0.967781713586, subsample=0.600837372115 -   0.0s\n",
      "[CV] max_depth=3, colsample_bytree=0.967781713586, subsample=0.600837372115 \n",
      "[CV]  max_depth=3, colsample_bytree=0.967781713586, subsample=0.600837372115 -   0.0s\n",
      "[CV] max_depth=9, colsample_bytree=0.866648574092, subsample=0.977959782332 \n"
     ]
    },
    {
     "name": "stderr",
     "output_type": "stream",
     "text": [
      "C:\\Users\\Takashi\\Miniconda3\\lib\\site-packages\\sklearn\\metrics\\scorer.py:127: DeprecationWarning: Scoring method log_loss was renamed to neg_log_loss in version 0.18 and will be removed in 0.20.\n",
      "  sample_weight=sample_weight)\n",
      "C:\\Users\\Takashi\\Miniconda3\\lib\\site-packages\\sklearn\\metrics\\scorer.py:127: DeprecationWarning: Scoring method log_loss was renamed to neg_log_loss in version 0.18 and will be removed in 0.20.\n",
      "  sample_weight=sample_weight)\n"
     ]
    },
    {
     "name": "stdout",
     "output_type": "stream",
     "text": [
      "[CV]  max_depth=9, colsample_bytree=0.866648574092, subsample=0.977959782332 -   0.0s\n",
      "[CV] max_depth=9, colsample_bytree=0.866648574092, subsample=0.977959782332 \n",
      "[CV]  max_depth=9, colsample_bytree=0.866648574092, subsample=0.977959782332 -   0.0s\n",
      "[CV] max_depth=9, colsample_bytree=0.866648574092, subsample=0.977959782332 \n"
     ]
    },
    {
     "name": "stderr",
     "output_type": "stream",
     "text": [
      "C:\\Users\\Takashi\\Miniconda3\\lib\\site-packages\\sklearn\\metrics\\scorer.py:127: DeprecationWarning: Scoring method log_loss was renamed to neg_log_loss in version 0.18 and will be removed in 0.20.\n",
      "  sample_weight=sample_weight)\n",
      "C:\\Users\\Takashi\\Miniconda3\\lib\\site-packages\\sklearn\\metrics\\scorer.py:127: DeprecationWarning: Scoring method log_loss was renamed to neg_log_loss in version 0.18 and will be removed in 0.20.\n",
      "  sample_weight=sample_weight)\n"
     ]
    },
    {
     "name": "stdout",
     "output_type": "stream",
     "text": [
      "[CV]  max_depth=9, colsample_bytree=0.866648574092, subsample=0.977959782332 -   0.0s\n",
      "[CV] max_depth=9, colsample_bytree=0.866648574092, subsample=0.977959782332 \n",
      "[CV]  max_depth=9, colsample_bytree=0.866648574092, subsample=0.977959782332 -   0.0s\n",
      "[CV] max_depth=9, colsample_bytree=0.866648574092, subsample=0.977959782332 \n"
     ]
    },
    {
     "name": "stderr",
     "output_type": "stream",
     "text": [
      "C:\\Users\\Takashi\\Miniconda3\\lib\\site-packages\\sklearn\\metrics\\scorer.py:127: DeprecationWarning: Scoring method log_loss was renamed to neg_log_loss in version 0.18 and will be removed in 0.20.\n",
      "  sample_weight=sample_weight)\n",
      "C:\\Users\\Takashi\\Miniconda3\\lib\\site-packages\\sklearn\\metrics\\scorer.py:127: DeprecationWarning: Scoring method log_loss was renamed to neg_log_loss in version 0.18 and will be removed in 0.20.\n",
      "  sample_weight=sample_weight)\n"
     ]
    },
    {
     "name": "stdout",
     "output_type": "stream",
     "text": [
      "[CV]  max_depth=9, colsample_bytree=0.866648574092, subsample=0.977959782332 -   0.0s\n",
      "[CV] max_depth=9, colsample_bytree=0.866648574092, subsample=0.977959782332 \n",
      "[CV]  max_depth=9, colsample_bytree=0.866648574092, subsample=0.977959782332 -   0.0s\n",
      "[CV] max_depth=9, colsample_bytree=0.866648574092, subsample=0.977959782332 \n"
     ]
    },
    {
     "name": "stderr",
     "output_type": "stream",
     "text": [
      "C:\\Users\\Takashi\\Miniconda3\\lib\\site-packages\\sklearn\\metrics\\scorer.py:127: DeprecationWarning: Scoring method log_loss was renamed to neg_log_loss in version 0.18 and will be removed in 0.20.\n",
      "  sample_weight=sample_weight)\n",
      "C:\\Users\\Takashi\\Miniconda3\\lib\\site-packages\\sklearn\\metrics\\scorer.py:127: DeprecationWarning: Scoring method log_loss was renamed to neg_log_loss in version 0.18 and will be removed in 0.20.\n",
      "  sample_weight=sample_weight)\n"
     ]
    },
    {
     "name": "stdout",
     "output_type": "stream",
     "text": [
      "[CV]  max_depth=9, colsample_bytree=0.866648574092, subsample=0.977959782332 -   0.0s\n",
      "[CV] max_depth=9, colsample_bytree=0.866648574092, subsample=0.977959782332 \n",
      "[CV]  max_depth=9, colsample_bytree=0.866648574092, subsample=0.977959782332 -   0.0s\n",
      "[CV] max_depth=9, colsample_bytree=0.866648574092, subsample=0.977959782332 \n"
     ]
    },
    {
     "name": "stderr",
     "output_type": "stream",
     "text": [
      "C:\\Users\\Takashi\\Miniconda3\\lib\\site-packages\\sklearn\\metrics\\scorer.py:127: DeprecationWarning: Scoring method log_loss was renamed to neg_log_loss in version 0.18 and will be removed in 0.20.\n",
      "  sample_weight=sample_weight)\n",
      "C:\\Users\\Takashi\\Miniconda3\\lib\\site-packages\\sklearn\\metrics\\scorer.py:127: DeprecationWarning: Scoring method log_loss was renamed to neg_log_loss in version 0.18 and will be removed in 0.20.\n",
      "  sample_weight=sample_weight)\n",
      "C:\\Users\\Takashi\\Miniconda3\\lib\\site-packages\\sklearn\\metrics\\scorer.py:127: DeprecationWarning: Scoring method log_loss was renamed to neg_log_loss in version 0.18 and will be removed in 0.20.\n",
      "  sample_weight=sample_weight)\n"
     ]
    },
    {
     "name": "stdout",
     "output_type": "stream",
     "text": [
      "[CV]  max_depth=9, colsample_bytree=0.866648574092, subsample=0.977959782332 -   0.0s\n",
      "[CV] max_depth=9, colsample_bytree=0.866648574092, subsample=0.977959782332 \n",
      "[CV]  max_depth=9, colsample_bytree=0.866648574092, subsample=0.977959782332 -   0.0s\n",
      "[CV] max_depth=3, colsample_bytree=0.860756560017, subsample=0.51150919938 \n",
      "[CV]  max_depth=3, colsample_bytree=0.860756560017, subsample=0.51150919938 -   0.0s\n",
      "[CV] max_depth=3, colsample_bytree=0.860756560017, subsample=0.51150919938 \n"
     ]
    },
    {
     "name": "stderr",
     "output_type": "stream",
     "text": [
      "C:\\Users\\Takashi\\Miniconda3\\lib\\site-packages\\sklearn\\metrics\\scorer.py:127: DeprecationWarning: Scoring method log_loss was renamed to neg_log_loss in version 0.18 and will be removed in 0.20.\n",
      "  sample_weight=sample_weight)\n",
      "C:\\Users\\Takashi\\Miniconda3\\lib\\site-packages\\sklearn\\metrics\\scorer.py:127: DeprecationWarning: Scoring method log_loss was renamed to neg_log_loss in version 0.18 and will be removed in 0.20.\n",
      "  sample_weight=sample_weight)\n",
      "C:\\Users\\Takashi\\Miniconda3\\lib\\site-packages\\sklearn\\metrics\\scorer.py:127: DeprecationWarning: Scoring method log_loss was renamed to neg_log_loss in version 0.18 and will be removed in 0.20.\n",
      "  sample_weight=sample_weight)\n",
      "C:\\Users\\Takashi\\Miniconda3\\lib\\site-packages\\sklearn\\metrics\\scorer.py:127: DeprecationWarning: Scoring method log_loss was renamed to neg_log_loss in version 0.18 and will be removed in 0.20.\n",
      "  sample_weight=sample_weight)\n",
      "C:\\Users\\Takashi\\Miniconda3\\lib\\site-packages\\sklearn\\metrics\\scorer.py:127: DeprecationWarning: Scoring method log_loss was renamed to neg_log_loss in version 0.18 and will be removed in 0.20.\n",
      "  sample_weight=sample_weight)\n"
     ]
    },
    {
     "name": "stdout",
     "output_type": "stream",
     "text": [
      "[CV]  max_depth=3, colsample_bytree=0.860756560017, subsample=0.51150919938 -   0.0s\n",
      "[CV] max_depth=3, colsample_bytree=0.860756560017, subsample=0.51150919938 \n",
      "[CV]  max_depth=3, colsample_bytree=0.860756560017, subsample=0.51150919938 -   0.0s\n",
      "[CV] max_depth=3, colsample_bytree=0.860756560017, subsample=0.51150919938 \n",
      "[CV]  max_depth=3, colsample_bytree=0.860756560017, subsample=0.51150919938 -   0.0s\n",
      "[CV] max_depth=3, colsample_bytree=0.860756560017, subsample=0.51150919938 \n",
      "[CV]  max_depth=3, colsample_bytree=0.860756560017, subsample=0.51150919938 -   0.0s\n",
      "[CV] max_depth=3, colsample_bytree=0.860756560017, subsample=0.51150919938 \n",
      "[CV]  max_depth=3, colsample_bytree=0.860756560017, subsample=0.51150919938 -   0.0s\n",
      "[CV] max_depth=3, colsample_bytree=0.860756560017, subsample=0.51150919938 \n"
     ]
    },
    {
     "name": "stderr",
     "output_type": "stream",
     "text": [
      "C:\\Users\\Takashi\\Miniconda3\\lib\\site-packages\\sklearn\\metrics\\scorer.py:127: DeprecationWarning: Scoring method log_loss was renamed to neg_log_loss in version 0.18 and will be removed in 0.20.\n",
      "  sample_weight=sample_weight)\n",
      "C:\\Users\\Takashi\\Miniconda3\\lib\\site-packages\\sklearn\\metrics\\scorer.py:127: DeprecationWarning: Scoring method log_loss was renamed to neg_log_loss in version 0.18 and will be removed in 0.20.\n",
      "  sample_weight=sample_weight)\n",
      "C:\\Users\\Takashi\\Miniconda3\\lib\\site-packages\\sklearn\\metrics\\scorer.py:127: DeprecationWarning: Scoring method log_loss was renamed to neg_log_loss in version 0.18 and will be removed in 0.20.\n",
      "  sample_weight=sample_weight)\n",
      "C:\\Users\\Takashi\\Miniconda3\\lib\\site-packages\\sklearn\\metrics\\scorer.py:127: DeprecationWarning: Scoring method log_loss was renamed to neg_log_loss in version 0.18 and will be removed in 0.20.\n",
      "  sample_weight=sample_weight)\n",
      "C:\\Users\\Takashi\\Miniconda3\\lib\\site-packages\\sklearn\\metrics\\scorer.py:127: DeprecationWarning: Scoring method log_loss was renamed to neg_log_loss in version 0.18 and will be removed in 0.20.\n",
      "  sample_weight=sample_weight)\n"
     ]
    },
    {
     "name": "stdout",
     "output_type": "stream",
     "text": [
      "[CV]  max_depth=3, colsample_bytree=0.860756560017, subsample=0.51150919938 -   0.0s\n",
      "[CV] max_depth=3, colsample_bytree=0.860756560017, subsample=0.51150919938 \n",
      "[CV]  max_depth=3, colsample_bytree=0.860756560017, subsample=0.51150919938 -   0.0s\n",
      "[CV] max_depth=3, colsample_bytree=0.860756560017, subsample=0.51150919938 \n",
      "[CV]  max_depth=3, colsample_bytree=0.860756560017, subsample=0.51150919938 -   0.0s\n",
      "[CV] max_depth=3, colsample_bytree=0.860756560017, subsample=0.51150919938 \n",
      "[CV]  max_depth=3, colsample_bytree=0.860756560017, subsample=0.51150919938 -   0.0s\n",
      "[CV] max_depth=2, colsample_bytree=0.859081023911, subsample=0.537053675091 \n",
      "[CV]  max_depth=2, colsample_bytree=0.859081023911, subsample=0.537053675091 -   0.0s\n",
      "[CV] max_depth=2, colsample_bytree=0.859081023911, subsample=0.537053675091 \n"
     ]
    },
    {
     "name": "stderr",
     "output_type": "stream",
     "text": [
      "C:\\Users\\Takashi\\Miniconda3\\lib\\site-packages\\sklearn\\metrics\\scorer.py:127: DeprecationWarning: Scoring method log_loss was renamed to neg_log_loss in version 0.18 and will be removed in 0.20.\n",
      "  sample_weight=sample_weight)\n",
      "C:\\Users\\Takashi\\Miniconda3\\lib\\site-packages\\sklearn\\metrics\\scorer.py:127: DeprecationWarning: Scoring method log_loss was renamed to neg_log_loss in version 0.18 and will be removed in 0.20.\n",
      "  sample_weight=sample_weight)\n",
      "C:\\Users\\Takashi\\Miniconda3\\lib\\site-packages\\sklearn\\metrics\\scorer.py:127: DeprecationWarning: Scoring method log_loss was renamed to neg_log_loss in version 0.18 and will be removed in 0.20.\n",
      "  sample_weight=sample_weight)\n",
      "C:\\Users\\Takashi\\Miniconda3\\lib\\site-packages\\sklearn\\metrics\\scorer.py:127: DeprecationWarning: Scoring method log_loss was renamed to neg_log_loss in version 0.18 and will be removed in 0.20.\n",
      "  sample_weight=sample_weight)\n",
      "C:\\Users\\Takashi\\Miniconda3\\lib\\site-packages\\sklearn\\metrics\\scorer.py:127: DeprecationWarning: Scoring method log_loss was renamed to neg_log_loss in version 0.18 and will be removed in 0.20.\n",
      "  sample_weight=sample_weight)\n",
      "C:\\Users\\Takashi\\Miniconda3\\lib\\site-packages\\sklearn\\metrics\\scorer.py:127: DeprecationWarning: Scoring method log_loss was renamed to neg_log_loss in version 0.18 and will be removed in 0.20.\n",
      "  sample_weight=sample_weight)\n"
     ]
    },
    {
     "name": "stdout",
     "output_type": "stream",
     "text": [
      "[CV]  max_depth=2, colsample_bytree=0.859081023911, subsample=0.537053675091 -   0.0s\n",
      "[CV] max_depth=2, colsample_bytree=0.859081023911, subsample=0.537053675091 \n",
      "[CV]  max_depth=2, colsample_bytree=0.859081023911, subsample=0.537053675091 -   0.0s\n",
      "[CV] max_depth=2, colsample_bytree=0.859081023911, subsample=0.537053675091 \n",
      "[CV]  max_depth=2, colsample_bytree=0.859081023911, subsample=0.537053675091 -   0.0s\n",
      "[CV] max_depth=2, colsample_bytree=0.859081023911, subsample=0.537053675091 \n",
      "[CV]  max_depth=2, colsample_bytree=0.859081023911, subsample=0.537053675091 -   0.0s\n",
      "[CV] max_depth=2, colsample_bytree=0.859081023911, subsample=0.537053675091 \n",
      "[CV]  max_depth=2, colsample_bytree=0.859081023911, subsample=0.537053675091 -   0.0s\n",
      "[CV] max_depth=2, colsample_bytree=0.859081023911, subsample=0.537053675091 \n",
      "[CV]  max_depth=2, colsample_bytree=0.859081023911, subsample=0.537053675091 -   0.0s\n",
      "[CV] max_depth=2, colsample_bytree=0.859081023911, subsample=0.537053675091 \n"
     ]
    },
    {
     "name": "stderr",
     "output_type": "stream",
     "text": [
      "C:\\Users\\Takashi\\Miniconda3\\lib\\site-packages\\sklearn\\metrics\\scorer.py:127: DeprecationWarning: Scoring method log_loss was renamed to neg_log_loss in version 0.18 and will be removed in 0.20.\n",
      "  sample_weight=sample_weight)\n",
      "C:\\Users\\Takashi\\Miniconda3\\lib\\site-packages\\sklearn\\metrics\\scorer.py:127: DeprecationWarning: Scoring method log_loss was renamed to neg_log_loss in version 0.18 and will be removed in 0.20.\n",
      "  sample_weight=sample_weight)\n",
      "C:\\Users\\Takashi\\Miniconda3\\lib\\site-packages\\sklearn\\metrics\\scorer.py:127: DeprecationWarning: Scoring method log_loss was renamed to neg_log_loss in version 0.18 and will be removed in 0.20.\n",
      "  sample_weight=sample_weight)\n",
      "C:\\Users\\Takashi\\Miniconda3\\lib\\site-packages\\sklearn\\metrics\\scorer.py:127: DeprecationWarning: Scoring method log_loss was renamed to neg_log_loss in version 0.18 and will be removed in 0.20.\n",
      "  sample_weight=sample_weight)\n"
     ]
    },
    {
     "name": "stdout",
     "output_type": "stream",
     "text": [
      "[CV]  max_depth=2, colsample_bytree=0.859081023911, subsample=0.537053675091 -   0.0s\n",
      "[CV] max_depth=2, colsample_bytree=0.859081023911, subsample=0.537053675091 \n",
      "[CV]  max_depth=2, colsample_bytree=0.859081023911, subsample=0.537053675091 -   0.0s\n",
      "[CV] max_depth=2, colsample_bytree=0.859081023911, subsample=0.537053675091 \n",
      "[CV]  max_depth=2, colsample_bytree=0.859081023911, subsample=0.537053675091 -   0.0s\n",
      "[CV] max_depth=8, colsample_bytree=0.767622733552, subsample=0.768097689752 \n",
      "[CV]  max_depth=8, colsample_bytree=0.767622733552, subsample=0.768097689752 -   0.0s\n",
      "[CV] max_depth=8, colsample_bytree=0.767622733552, subsample=0.768097689752 \n"
     ]
    },
    {
     "name": "stderr",
     "output_type": "stream",
     "text": [
      "C:\\Users\\Takashi\\Miniconda3\\lib\\site-packages\\sklearn\\metrics\\scorer.py:127: DeprecationWarning: Scoring method log_loss was renamed to neg_log_loss in version 0.18 and will be removed in 0.20.\n",
      "  sample_weight=sample_weight)\n",
      "C:\\Users\\Takashi\\Miniconda3\\lib\\site-packages\\sklearn\\metrics\\scorer.py:127: DeprecationWarning: Scoring method log_loss was renamed to neg_log_loss in version 0.18 and will be removed in 0.20.\n",
      "  sample_weight=sample_weight)\n",
      "C:\\Users\\Takashi\\Miniconda3\\lib\\site-packages\\sklearn\\metrics\\scorer.py:127: DeprecationWarning: Scoring method log_loss was renamed to neg_log_loss in version 0.18 and will be removed in 0.20.\n",
      "  sample_weight=sample_weight)\n"
     ]
    },
    {
     "name": "stdout",
     "output_type": "stream",
     "text": [
      "[CV]  max_depth=8, colsample_bytree=0.767622733552, subsample=0.768097689752 -   0.0s\n",
      "[CV] max_depth=8, colsample_bytree=0.767622733552, subsample=0.768097689752 \n",
      "[CV]  max_depth=8, colsample_bytree=0.767622733552, subsample=0.768097689752 -   0.0s\n",
      "[CV] max_depth=8, colsample_bytree=0.767622733552, subsample=0.768097689752 \n",
      "[CV]  max_depth=8, colsample_bytree=0.767622733552, subsample=0.768097689752 -   0.0s\n",
      "[CV] max_depth=8, colsample_bytree=0.767622733552, subsample=0.768097689752 \n"
     ]
    },
    {
     "name": "stderr",
     "output_type": "stream",
     "text": [
      "C:\\Users\\Takashi\\Miniconda3\\lib\\site-packages\\sklearn\\metrics\\scorer.py:127: DeprecationWarning: Scoring method log_loss was renamed to neg_log_loss in version 0.18 and will be removed in 0.20.\n",
      "  sample_weight=sample_weight)\n",
      "C:\\Users\\Takashi\\Miniconda3\\lib\\site-packages\\sklearn\\metrics\\scorer.py:127: DeprecationWarning: Scoring method log_loss was renamed to neg_log_loss in version 0.18 and will be removed in 0.20.\n",
      "  sample_weight=sample_weight)\n",
      "C:\\Users\\Takashi\\Miniconda3\\lib\\site-packages\\sklearn\\metrics\\scorer.py:127: DeprecationWarning: Scoring method log_loss was renamed to neg_log_loss in version 0.18 and will be removed in 0.20.\n",
      "  sample_weight=sample_weight)\n"
     ]
    },
    {
     "name": "stdout",
     "output_type": "stream",
     "text": [
      "[CV]  max_depth=8, colsample_bytree=0.767622733552, subsample=0.768097689752 -   0.0s\n",
      "[CV] max_depth=8, colsample_bytree=0.767622733552, subsample=0.768097689752 \n",
      "[CV]  max_depth=8, colsample_bytree=0.767622733552, subsample=0.768097689752 -   0.0s\n",
      "[CV] max_depth=8, colsample_bytree=0.767622733552, subsample=0.768097689752 \n",
      "[CV]  max_depth=8, colsample_bytree=0.767622733552, subsample=0.768097689752 -   0.0s\n",
      "[CV] max_depth=8, colsample_bytree=0.767622733552, subsample=0.768097689752 \n"
     ]
    },
    {
     "name": "stderr",
     "output_type": "stream",
     "text": [
      "C:\\Users\\Takashi\\Miniconda3\\lib\\site-packages\\sklearn\\metrics\\scorer.py:127: DeprecationWarning: Scoring method log_loss was renamed to neg_log_loss in version 0.18 and will be removed in 0.20.\n",
      "  sample_weight=sample_weight)\n",
      "C:\\Users\\Takashi\\Miniconda3\\lib\\site-packages\\sklearn\\metrics\\scorer.py:127: DeprecationWarning: Scoring method log_loss was renamed to neg_log_loss in version 0.18 and will be removed in 0.20.\n",
      "  sample_weight=sample_weight)\n"
     ]
    },
    {
     "name": "stdout",
     "output_type": "stream",
     "text": [
      "[CV]  max_depth=8, colsample_bytree=0.767622733552, subsample=0.768097689752 -   0.0s\n",
      "[CV] max_depth=8, colsample_bytree=0.767622733552, subsample=0.768097689752 \n",
      "[CV]  max_depth=8, colsample_bytree=0.767622733552, subsample=0.768097689752 -   0.0s\n",
      "[CV] max_depth=8, colsample_bytree=0.767622733552, subsample=0.768097689752 \n"
     ]
    },
    {
     "name": "stderr",
     "output_type": "stream",
     "text": [
      "C:\\Users\\Takashi\\Miniconda3\\lib\\site-packages\\sklearn\\metrics\\scorer.py:127: DeprecationWarning: Scoring method log_loss was renamed to neg_log_loss in version 0.18 and will be removed in 0.20.\n",
      "  sample_weight=sample_weight)\n",
      "C:\\Users\\Takashi\\Miniconda3\\lib\\site-packages\\sklearn\\metrics\\scorer.py:127: DeprecationWarning: Scoring method log_loss was renamed to neg_log_loss in version 0.18 and will be removed in 0.20.\n",
      "  sample_weight=sample_weight)\n",
      "C:\\Users\\Takashi\\Miniconda3\\lib\\site-packages\\sklearn\\metrics\\scorer.py:127: DeprecationWarning: Scoring method log_loss was renamed to neg_log_loss in version 0.18 and will be removed in 0.20.\n",
      "  sample_weight=sample_weight)\n",
      "C:\\Users\\Takashi\\Miniconda3\\lib\\site-packages\\sklearn\\metrics\\scorer.py:127: DeprecationWarning: Scoring method log_loss was renamed to neg_log_loss in version 0.18 and will be removed in 0.20.\n",
      "  sample_weight=sample_weight)\n",
      "C:\\Users\\Takashi\\Miniconda3\\lib\\site-packages\\sklearn\\metrics\\scorer.py:127: DeprecationWarning: Scoring method log_loss was renamed to neg_log_loss in version 0.18 and will be removed in 0.20.\n",
      "  sample_weight=sample_weight)\n"
     ]
    },
    {
     "name": "stdout",
     "output_type": "stream",
     "text": [
      "[CV]  max_depth=8, colsample_bytree=0.767622733552, subsample=0.768097689752 -   0.0s\n",
      "[CV] max_depth=3, colsample_bytree=0.909368987494, subsample=0.881844829577 \n",
      "[CV]  max_depth=3, colsample_bytree=0.909368987494, subsample=0.881844829577 -   0.0s\n",
      "[CV] max_depth=3, colsample_bytree=0.909368987494, subsample=0.881844829577 \n",
      "[CV]  max_depth=3, colsample_bytree=0.909368987494, subsample=0.881844829577 -   0.0s\n",
      "[CV] max_depth=3, colsample_bytree=0.909368987494, subsample=0.881844829577 \n",
      "[CV]  max_depth=3, colsample_bytree=0.909368987494, subsample=0.881844829577 -   0.0s\n",
      "[CV] max_depth=3, colsample_bytree=0.909368987494, subsample=0.881844829577 \n",
      "[CV]  max_depth=3, colsample_bytree=0.909368987494, subsample=0.881844829577 -   0.0s\n",
      "[CV] max_depth=3, colsample_bytree=0.909368987494, subsample=0.881844829577 \n"
     ]
    },
    {
     "name": "stderr",
     "output_type": "stream",
     "text": [
      "C:\\Users\\Takashi\\Miniconda3\\lib\\site-packages\\sklearn\\metrics\\scorer.py:127: DeprecationWarning: Scoring method log_loss was renamed to neg_log_loss in version 0.18 and will be removed in 0.20.\n",
      "  sample_weight=sample_weight)\n",
      "C:\\Users\\Takashi\\Miniconda3\\lib\\site-packages\\sklearn\\metrics\\scorer.py:127: DeprecationWarning: Scoring method log_loss was renamed to neg_log_loss in version 0.18 and will be removed in 0.20.\n",
      "  sample_weight=sample_weight)\n",
      "C:\\Users\\Takashi\\Miniconda3\\lib\\site-packages\\sklearn\\metrics\\scorer.py:127: DeprecationWarning: Scoring method log_loss was renamed to neg_log_loss in version 0.18 and will be removed in 0.20.\n",
      "  sample_weight=sample_weight)\n",
      "C:\\Users\\Takashi\\Miniconda3\\lib\\site-packages\\sklearn\\metrics\\scorer.py:127: DeprecationWarning: Scoring method log_loss was renamed to neg_log_loss in version 0.18 and will be removed in 0.20.\n",
      "  sample_weight=sample_weight)\n",
      "C:\\Users\\Takashi\\Miniconda3\\lib\\site-packages\\sklearn\\metrics\\scorer.py:127: DeprecationWarning: Scoring method log_loss was renamed to neg_log_loss in version 0.18 and will be removed in 0.20.\n",
      "  sample_weight=sample_weight)\n"
     ]
    },
    {
     "name": "stdout",
     "output_type": "stream",
     "text": [
      "[CV]  max_depth=3, colsample_bytree=0.909368987494, subsample=0.881844829577 -   0.0s\n",
      "[CV] max_depth=3, colsample_bytree=0.909368987494, subsample=0.881844829577 \n",
      "[CV]  max_depth=3, colsample_bytree=0.909368987494, subsample=0.881844829577 -   0.0s\n",
      "[CV] max_depth=3, colsample_bytree=0.909368987494, subsample=0.881844829577 \n",
      "[CV]  max_depth=3, colsample_bytree=0.909368987494, subsample=0.881844829577 -   0.0s\n",
      "[CV] max_depth=3, colsample_bytree=0.909368987494, subsample=0.881844829577 \n",
      "[CV]  max_depth=3, colsample_bytree=0.909368987494, subsample=0.881844829577 -   0.0s\n",
      "[CV] max_depth=3, colsample_bytree=0.909368987494, subsample=0.881844829577 \n",
      "[CV]  max_depth=3, colsample_bytree=0.909368987494, subsample=0.881844829577 -   0.0s\n",
      "[CV] max_depth=3, colsample_bytree=0.909368987494, subsample=0.881844829577 \n"
     ]
    },
    {
     "name": "stderr",
     "output_type": "stream",
     "text": [
      "C:\\Users\\Takashi\\Miniconda3\\lib\\site-packages\\sklearn\\metrics\\scorer.py:127: DeprecationWarning: Scoring method log_loss was renamed to neg_log_loss in version 0.18 and will be removed in 0.20.\n",
      "  sample_weight=sample_weight)\n",
      "C:\\Users\\Takashi\\Miniconda3\\lib\\site-packages\\sklearn\\metrics\\scorer.py:127: DeprecationWarning: Scoring method log_loss was renamed to neg_log_loss in version 0.18 and will be removed in 0.20.\n",
      "  sample_weight=sample_weight)\n",
      "C:\\Users\\Takashi\\Miniconda3\\lib\\site-packages\\sklearn\\metrics\\scorer.py:127: DeprecationWarning: Scoring method log_loss was renamed to neg_log_loss in version 0.18 and will be removed in 0.20.\n",
      "  sample_weight=sample_weight)\n",
      "C:\\Users\\Takashi\\Miniconda3\\lib\\site-packages\\sklearn\\metrics\\scorer.py:127: DeprecationWarning: Scoring method log_loss was renamed to neg_log_loss in version 0.18 and will be removed in 0.20.\n",
      "  sample_weight=sample_weight)\n",
      "C:\\Users\\Takashi\\Miniconda3\\lib\\site-packages\\sklearn\\metrics\\scorer.py:127: DeprecationWarning: Scoring method log_loss was renamed to neg_log_loss in version 0.18 and will be removed in 0.20.\n",
      "  sample_weight=sample_weight)\n"
     ]
    },
    {
     "name": "stdout",
     "output_type": "stream",
     "text": [
      "[CV]  max_depth=3, colsample_bytree=0.909368987494, subsample=0.881844829577 -   0.0s\n",
      "[CV] max_depth=3, colsample_bytree=0.796850998495, subsample=0.519585808976 \n",
      "[CV]  max_depth=3, colsample_bytree=0.796850998495, subsample=0.519585808976 -   0.0s\n",
      "[CV] max_depth=3, colsample_bytree=0.796850998495, subsample=0.519585808976 \n",
      "[CV]  max_depth=3, colsample_bytree=0.796850998495, subsample=0.519585808976 -   0.0s\n",
      "[CV] max_depth=3, colsample_bytree=0.796850998495, subsample=0.519585808976 \n",
      "[CV]  max_depth=3, colsample_bytree=0.796850998495, subsample=0.519585808976 -   0.0s\n",
      "[CV] max_depth=3, colsample_bytree=0.796850998495, subsample=0.519585808976 \n",
      "[CV]  max_depth=3, colsample_bytree=0.796850998495, subsample=0.519585808976 -   0.0s\n",
      "[CV] max_depth=3, colsample_bytree=0.796850998495, subsample=0.519585808976 \n"
     ]
    },
    {
     "name": "stderr",
     "output_type": "stream",
     "text": [
      "C:\\Users\\Takashi\\Miniconda3\\lib\\site-packages\\sklearn\\metrics\\scorer.py:127: DeprecationWarning: Scoring method log_loss was renamed to neg_log_loss in version 0.18 and will be removed in 0.20.\n",
      "  sample_weight=sample_weight)\n",
      "C:\\Users\\Takashi\\Miniconda3\\lib\\site-packages\\sklearn\\metrics\\scorer.py:127: DeprecationWarning: Scoring method log_loss was renamed to neg_log_loss in version 0.18 and will be removed in 0.20.\n",
      "  sample_weight=sample_weight)\n",
      "C:\\Users\\Takashi\\Miniconda3\\lib\\site-packages\\sklearn\\metrics\\scorer.py:127: DeprecationWarning: Scoring method log_loss was renamed to neg_log_loss in version 0.18 and will be removed in 0.20.\n",
      "  sample_weight=sample_weight)\n",
      "C:\\Users\\Takashi\\Miniconda3\\lib\\site-packages\\sklearn\\metrics\\scorer.py:127: DeprecationWarning: Scoring method log_loss was renamed to neg_log_loss in version 0.18 and will be removed in 0.20.\n",
      "  sample_weight=sample_weight)\n",
      "C:\\Users\\Takashi\\Miniconda3\\lib\\site-packages\\sklearn\\metrics\\scorer.py:127: DeprecationWarning: Scoring method log_loss was renamed to neg_log_loss in version 0.18 and will be removed in 0.20.\n",
      "  sample_weight=sample_weight)\n"
     ]
    },
    {
     "name": "stdout",
     "output_type": "stream",
     "text": [
      "[CV]  max_depth=3, colsample_bytree=0.796850998495, subsample=0.519585808976 -   0.0s\n",
      "[CV] max_depth=3, colsample_bytree=0.796850998495, subsample=0.519585808976 \n",
      "[CV]  max_depth=3, colsample_bytree=0.796850998495, subsample=0.519585808976 -   0.0s\n",
      "[CV] max_depth=3, colsample_bytree=0.796850998495, subsample=0.519585808976 \n",
      "[CV]  max_depth=3, colsample_bytree=0.796850998495, subsample=0.519585808976 -   0.0s\n",
      "[CV] max_depth=3, colsample_bytree=0.796850998495, subsample=0.519585808976 \n",
      "[CV]  max_depth=3, colsample_bytree=0.796850998495, subsample=0.519585808976 -   0.0s\n",
      "[CV] max_depth=3, colsample_bytree=0.796850998495, subsample=0.519585808976 \n",
      "[CV]  max_depth=3, colsample_bytree=0.796850998495, subsample=0.519585808976 -   0.0s\n",
      "[CV] max_depth=3, colsample_bytree=0.796850998495, subsample=0.519585808976 \n"
     ]
    },
    {
     "name": "stderr",
     "output_type": "stream",
     "text": [
      "C:\\Users\\Takashi\\Miniconda3\\lib\\site-packages\\sklearn\\metrics\\scorer.py:127: DeprecationWarning: Scoring method log_loss was renamed to neg_log_loss in version 0.18 and will be removed in 0.20.\n",
      "  sample_weight=sample_weight)\n",
      "C:\\Users\\Takashi\\Miniconda3\\lib\\site-packages\\sklearn\\metrics\\scorer.py:127: DeprecationWarning: Scoring method log_loss was renamed to neg_log_loss in version 0.18 and will be removed in 0.20.\n",
      "  sample_weight=sample_weight)\n",
      "C:\\Users\\Takashi\\Miniconda3\\lib\\site-packages\\sklearn\\metrics\\scorer.py:127: DeprecationWarning: Scoring method log_loss was renamed to neg_log_loss in version 0.18 and will be removed in 0.20.\n",
      "  sample_weight=sample_weight)\n",
      "C:\\Users\\Takashi\\Miniconda3\\lib\\site-packages\\sklearn\\metrics\\scorer.py:127: DeprecationWarning: Scoring method log_loss was renamed to neg_log_loss in version 0.18 and will be removed in 0.20.\n",
      "  sample_weight=sample_weight)\n",
      "C:\\Users\\Takashi\\Miniconda3\\lib\\site-packages\\sklearn\\metrics\\scorer.py:127: DeprecationWarning: Scoring method log_loss was renamed to neg_log_loss in version 0.18 and will be removed in 0.20.\n",
      "  sample_weight=sample_weight)\n"
     ]
    },
    {
     "name": "stdout",
     "output_type": "stream",
     "text": [
      "[CV]  max_depth=3, colsample_bytree=0.796850998495, subsample=0.519585808976 -   0.0s\n",
      "[CV] max_depth=3, colsample_bytree=0.798308313139, subsample=0.931588431418 \n",
      "[CV]  max_depth=3, colsample_bytree=0.798308313139, subsample=0.931588431418 -   0.0s\n",
      "[CV] max_depth=3, colsample_bytree=0.798308313139, subsample=0.931588431418 \n",
      "[CV]  max_depth=3, colsample_bytree=0.798308313139, subsample=0.931588431418 -   0.0s\n",
      "[CV] max_depth=3, colsample_bytree=0.798308313139, subsample=0.931588431418 \n",
      "[CV]  max_depth=3, colsample_bytree=0.798308313139, subsample=0.931588431418 -   0.0s\n",
      "[CV] max_depth=3, colsample_bytree=0.798308313139, subsample=0.931588431418 \n",
      "[CV]  max_depth=3, colsample_bytree=0.798308313139, subsample=0.931588431418 -   0.0s\n",
      "[CV] max_depth=3, colsample_bytree=0.798308313139, subsample=0.931588431418 \n"
     ]
    },
    {
     "name": "stderr",
     "output_type": "stream",
     "text": [
      "C:\\Users\\Takashi\\Miniconda3\\lib\\site-packages\\sklearn\\metrics\\scorer.py:127: DeprecationWarning: Scoring method log_loss was renamed to neg_log_loss in version 0.18 and will be removed in 0.20.\n",
      "  sample_weight=sample_weight)\n",
      "C:\\Users\\Takashi\\Miniconda3\\lib\\site-packages\\sklearn\\metrics\\scorer.py:127: DeprecationWarning: Scoring method log_loss was renamed to neg_log_loss in version 0.18 and will be removed in 0.20.\n",
      "  sample_weight=sample_weight)\n",
      "C:\\Users\\Takashi\\Miniconda3\\lib\\site-packages\\sklearn\\metrics\\scorer.py:127: DeprecationWarning: Scoring method log_loss was renamed to neg_log_loss in version 0.18 and will be removed in 0.20.\n",
      "  sample_weight=sample_weight)\n",
      "C:\\Users\\Takashi\\Miniconda3\\lib\\site-packages\\sklearn\\metrics\\scorer.py:127: DeprecationWarning: Scoring method log_loss was renamed to neg_log_loss in version 0.18 and will be removed in 0.20.\n",
      "  sample_weight=sample_weight)\n",
      "C:\\Users\\Takashi\\Miniconda3\\lib\\site-packages\\sklearn\\metrics\\scorer.py:127: DeprecationWarning: Scoring method log_loss was renamed to neg_log_loss in version 0.18 and will be removed in 0.20.\n",
      "  sample_weight=sample_weight)\n"
     ]
    },
    {
     "name": "stdout",
     "output_type": "stream",
     "text": [
      "[CV]  max_depth=3, colsample_bytree=0.798308313139, subsample=0.931588431418 -   0.0s\n",
      "[CV] max_depth=3, colsample_bytree=0.798308313139, subsample=0.931588431418 \n",
      "[CV]  max_depth=3, colsample_bytree=0.798308313139, subsample=0.931588431418 -   0.0s\n",
      "[CV] max_depth=3, colsample_bytree=0.798308313139, subsample=0.931588431418 \n",
      "[CV]  max_depth=3, colsample_bytree=0.798308313139, subsample=0.931588431418 -   0.0s\n",
      "[CV] max_depth=3, colsample_bytree=0.798308313139, subsample=0.931588431418 \n",
      "[CV]  max_depth=3, colsample_bytree=0.798308313139, subsample=0.931588431418 -   0.0s\n",
      "[CV] max_depth=3, colsample_bytree=0.798308313139, subsample=0.931588431418 \n",
      "[CV]  max_depth=3, colsample_bytree=0.798308313139, subsample=0.931588431418 -   0.0s\n",
      "[CV] max_depth=3, colsample_bytree=0.798308313139, subsample=0.931588431418 \n"
     ]
    },
    {
     "name": "stderr",
     "output_type": "stream",
     "text": [
      "C:\\Users\\Takashi\\Miniconda3\\lib\\site-packages\\sklearn\\metrics\\scorer.py:127: DeprecationWarning: Scoring method log_loss was renamed to neg_log_loss in version 0.18 and will be removed in 0.20.\n",
      "  sample_weight=sample_weight)\n",
      "C:\\Users\\Takashi\\Miniconda3\\lib\\site-packages\\sklearn\\metrics\\scorer.py:127: DeprecationWarning: Scoring method log_loss was renamed to neg_log_loss in version 0.18 and will be removed in 0.20.\n",
      "  sample_weight=sample_weight)\n",
      "C:\\Users\\Takashi\\Miniconda3\\lib\\site-packages\\sklearn\\metrics\\scorer.py:127: DeprecationWarning: Scoring method log_loss was renamed to neg_log_loss in version 0.18 and will be removed in 0.20.\n",
      "  sample_weight=sample_weight)\n",
      "C:\\Users\\Takashi\\Miniconda3\\lib\\site-packages\\sklearn\\metrics\\scorer.py:127: DeprecationWarning: Scoring method log_loss was renamed to neg_log_loss in version 0.18 and will be removed in 0.20.\n",
      "  sample_weight=sample_weight)\n",
      "C:\\Users\\Takashi\\Miniconda3\\lib\\site-packages\\sklearn\\metrics\\scorer.py:127: DeprecationWarning: Scoring method log_loss was renamed to neg_log_loss in version 0.18 and will be removed in 0.20.\n",
      "  sample_weight=sample_weight)\n",
      "C:\\Users\\Takashi\\Miniconda3\\lib\\site-packages\\sklearn\\metrics\\scorer.py:127: DeprecationWarning: Scoring method log_loss was renamed to neg_log_loss in version 0.18 and will be removed in 0.20.\n",
      "  sample_weight=sample_weight)\n"
     ]
    },
    {
     "name": "stdout",
     "output_type": "stream",
     "text": [
      "[CV]  max_depth=3, colsample_bytree=0.798308313139, subsample=0.931588431418 -   0.0s\n",
      "[CV] max_depth=2, colsample_bytree=0.663698542165, subsample=0.925122745915 \n",
      "[CV]  max_depth=2, colsample_bytree=0.663698542165, subsample=0.925122745915 -   0.0s\n",
      "[CV] max_depth=2, colsample_bytree=0.663698542165, subsample=0.925122745915 \n",
      "[CV]  max_depth=2, colsample_bytree=0.663698542165, subsample=0.925122745915 -   0.0s\n",
      "[CV] max_depth=2, colsample_bytree=0.663698542165, subsample=0.925122745915 \n",
      "[CV]  max_depth=2, colsample_bytree=0.663698542165, subsample=0.925122745915 -   0.0s\n",
      "[CV] max_depth=2, colsample_bytree=0.663698542165, subsample=0.925122745915 \n",
      "[CV]  max_depth=2, colsample_bytree=0.663698542165, subsample=0.925122745915 -   0.0s\n",
      "[CV] max_depth=2, colsample_bytree=0.663698542165, subsample=0.925122745915 \n",
      "[CV]  max_depth=2, colsample_bytree=0.663698542165, subsample=0.925122745915 -   0.0s\n",
      "[CV] max_depth=2, colsample_bytree=0.663698542165, subsample=0.925122745915 \n"
     ]
    },
    {
     "name": "stderr",
     "output_type": "stream",
     "text": [
      "C:\\Users\\Takashi\\Miniconda3\\lib\\site-packages\\sklearn\\metrics\\scorer.py:127: DeprecationWarning: Scoring method log_loss was renamed to neg_log_loss in version 0.18 and will be removed in 0.20.\n",
      "  sample_weight=sample_weight)\n",
      "C:\\Users\\Takashi\\Miniconda3\\lib\\site-packages\\sklearn\\metrics\\scorer.py:127: DeprecationWarning: Scoring method log_loss was renamed to neg_log_loss in version 0.18 and will be removed in 0.20.\n",
      "  sample_weight=sample_weight)\n",
      "C:\\Users\\Takashi\\Miniconda3\\lib\\site-packages\\sklearn\\metrics\\scorer.py:127: DeprecationWarning: Scoring method log_loss was renamed to neg_log_loss in version 0.18 and will be removed in 0.20.\n",
      "  sample_weight=sample_weight)\n",
      "C:\\Users\\Takashi\\Miniconda3\\lib\\site-packages\\sklearn\\metrics\\scorer.py:127: DeprecationWarning: Scoring method log_loss was renamed to neg_log_loss in version 0.18 and will be removed in 0.20.\n",
      "  sample_weight=sample_weight)\n",
      "C:\\Users\\Takashi\\Miniconda3\\lib\\site-packages\\sklearn\\metrics\\scorer.py:127: DeprecationWarning: Scoring method log_loss was renamed to neg_log_loss in version 0.18 and will be removed in 0.20.\n",
      "  sample_weight=sample_weight)\n"
     ]
    },
    {
     "name": "stdout",
     "output_type": "stream",
     "text": [
      "[CV]  max_depth=2, colsample_bytree=0.663698542165, subsample=0.925122745915 -   0.0s\n",
      "[CV] max_depth=2, colsample_bytree=0.663698542165, subsample=0.925122745915 \n",
      "[CV]  max_depth=2, colsample_bytree=0.663698542165, subsample=0.925122745915 -   0.0s\n",
      "[CV] max_depth=2, colsample_bytree=0.663698542165, subsample=0.925122745915 \n",
      "[CV]  max_depth=2, colsample_bytree=0.663698542165, subsample=0.925122745915 -   0.0s\n",
      "[CV] max_depth=2, colsample_bytree=0.663698542165, subsample=0.925122745915 \n",
      "[CV]  max_depth=2, colsample_bytree=0.663698542165, subsample=0.925122745915 -   0.0s\n",
      "[CV] max_depth=2, colsample_bytree=0.663698542165, subsample=0.925122745915 \n",
      "[CV]  max_depth=2, colsample_bytree=0.663698542165, subsample=0.925122745915 -   0.0s\n",
      "[CV] max_depth=4, colsample_bytree=0.920284514055, subsample=0.85402426638 \n"
     ]
    },
    {
     "name": "stderr",
     "output_type": "stream",
     "text": [
      "C:\\Users\\Takashi\\Miniconda3\\lib\\site-packages\\sklearn\\metrics\\scorer.py:127: DeprecationWarning: Scoring method log_loss was renamed to neg_log_loss in version 0.18 and will be removed in 0.20.\n",
      "  sample_weight=sample_weight)\n",
      "C:\\Users\\Takashi\\Miniconda3\\lib\\site-packages\\sklearn\\metrics\\scorer.py:127: DeprecationWarning: Scoring method log_loss was renamed to neg_log_loss in version 0.18 and will be removed in 0.20.\n",
      "  sample_weight=sample_weight)\n",
      "C:\\Users\\Takashi\\Miniconda3\\lib\\site-packages\\sklearn\\metrics\\scorer.py:127: DeprecationWarning: Scoring method log_loss was renamed to neg_log_loss in version 0.18 and will be removed in 0.20.\n",
      "  sample_weight=sample_weight)\n"
     ]
    },
    {
     "name": "stdout",
     "output_type": "stream",
     "text": [
      "[CV]  max_depth=4, colsample_bytree=0.920284514055, subsample=0.85402426638 -   0.0s\n",
      "[CV] max_depth=4, colsample_bytree=0.920284514055, subsample=0.85402426638 \n",
      "[CV]  max_depth=4, colsample_bytree=0.920284514055, subsample=0.85402426638 -   0.0s\n",
      "[CV] max_depth=4, colsample_bytree=0.920284514055, subsample=0.85402426638 \n",
      "[CV]  max_depth=4, colsample_bytree=0.920284514055, subsample=0.85402426638 -   0.0s\n",
      "[CV] max_depth=4, colsample_bytree=0.920284514055, subsample=0.85402426638 \n"
     ]
    },
    {
     "name": "stderr",
     "output_type": "stream",
     "text": [
      "C:\\Users\\Takashi\\Miniconda3\\lib\\site-packages\\sklearn\\metrics\\scorer.py:127: DeprecationWarning: Scoring method log_loss was renamed to neg_log_loss in version 0.18 and will be removed in 0.20.\n",
      "  sample_weight=sample_weight)\n",
      "C:\\Users\\Takashi\\Miniconda3\\lib\\site-packages\\sklearn\\metrics\\scorer.py:127: DeprecationWarning: Scoring method log_loss was renamed to neg_log_loss in version 0.18 and will be removed in 0.20.\n",
      "  sample_weight=sample_weight)\n",
      "C:\\Users\\Takashi\\Miniconda3\\lib\\site-packages\\sklearn\\metrics\\scorer.py:127: DeprecationWarning: Scoring method log_loss was renamed to neg_log_loss in version 0.18 and will be removed in 0.20.\n",
      "  sample_weight=sample_weight)\n"
     ]
    },
    {
     "name": "stdout",
     "output_type": "stream",
     "text": [
      "[CV]  max_depth=4, colsample_bytree=0.920284514055, subsample=0.85402426638 -   0.0s\n",
      "[CV] max_depth=4, colsample_bytree=0.920284514055, subsample=0.85402426638 \n",
      "[CV]  max_depth=4, colsample_bytree=0.920284514055, subsample=0.85402426638 -   0.0s\n",
      "[CV] max_depth=4, colsample_bytree=0.920284514055, subsample=0.85402426638 \n",
      "[CV]  max_depth=4, colsample_bytree=0.920284514055, subsample=0.85402426638 -   0.0s\n",
      "[CV] max_depth=4, colsample_bytree=0.920284514055, subsample=0.85402426638 \n"
     ]
    },
    {
     "name": "stderr",
     "output_type": "stream",
     "text": [
      "C:\\Users\\Takashi\\Miniconda3\\lib\\site-packages\\sklearn\\metrics\\scorer.py:127: DeprecationWarning: Scoring method log_loss was renamed to neg_log_loss in version 0.18 and will be removed in 0.20.\n",
      "  sample_weight=sample_weight)\n",
      "C:\\Users\\Takashi\\Miniconda3\\lib\\site-packages\\sklearn\\metrics\\scorer.py:127: DeprecationWarning: Scoring method log_loss was renamed to neg_log_loss in version 0.18 and will be removed in 0.20.\n",
      "  sample_weight=sample_weight)\n",
      "C:\\Users\\Takashi\\Miniconda3\\lib\\site-packages\\sklearn\\metrics\\scorer.py:127: DeprecationWarning: Scoring method log_loss was renamed to neg_log_loss in version 0.18 and will be removed in 0.20.\n",
      "  sample_weight=sample_weight)\n",
      "C:\\Users\\Takashi\\Miniconda3\\lib\\site-packages\\sklearn\\metrics\\scorer.py:127: DeprecationWarning: Scoring method log_loss was renamed to neg_log_loss in version 0.18 and will be removed in 0.20.\n",
      "  sample_weight=sample_weight)\n"
     ]
    },
    {
     "name": "stdout",
     "output_type": "stream",
     "text": [
      "[CV]  max_depth=4, colsample_bytree=0.920284514055, subsample=0.85402426638 -   0.0s\n",
      "[CV] max_depth=4, colsample_bytree=0.920284514055, subsample=0.85402426638 \n",
      "[CV]  max_depth=4, colsample_bytree=0.920284514055, subsample=0.85402426638 -   0.0s\n",
      "[CV] max_depth=4, colsample_bytree=0.920284514055, subsample=0.85402426638 \n",
      "[CV]  max_depth=4, colsample_bytree=0.920284514055, subsample=0.85402426638 -   0.0s\n",
      "[CV] max_depth=4, colsample_bytree=0.920284514055, subsample=0.85402426638 \n",
      "[CV]  max_depth=4, colsample_bytree=0.920284514055, subsample=0.85402426638 -   0.0s\n",
      "[CV] max_depth=10, colsample_bytree=0.638427188472, subsample=0.895883136725 \n"
     ]
    },
    {
     "name": "stderr",
     "output_type": "stream",
     "text": [
      "C:\\Users\\Takashi\\Miniconda3\\lib\\site-packages\\sklearn\\metrics\\scorer.py:127: DeprecationWarning: Scoring method log_loss was renamed to neg_log_loss in version 0.18 and will be removed in 0.20.\n",
      "  sample_weight=sample_weight)\n",
      "C:\\Users\\Takashi\\Miniconda3\\lib\\site-packages\\sklearn\\metrics\\scorer.py:127: DeprecationWarning: Scoring method log_loss was renamed to neg_log_loss in version 0.18 and will be removed in 0.20.\n",
      "  sample_weight=sample_weight)\n"
     ]
    },
    {
     "name": "stdout",
     "output_type": "stream",
     "text": [
      "[CV]  max_depth=10, colsample_bytree=0.638427188472, subsample=0.895883136725 -   0.0s\n",
      "[CV] max_depth=10, colsample_bytree=0.638427188472, subsample=0.895883136725 \n",
      "[CV]  max_depth=10, colsample_bytree=0.638427188472, subsample=0.895883136725 -   0.0s\n",
      "[CV] max_depth=10, colsample_bytree=0.638427188472, subsample=0.895883136725 \n"
     ]
    },
    {
     "name": "stderr",
     "output_type": "stream",
     "text": [
      "C:\\Users\\Takashi\\Miniconda3\\lib\\site-packages\\sklearn\\metrics\\scorer.py:127: DeprecationWarning: Scoring method log_loss was renamed to neg_log_loss in version 0.18 and will be removed in 0.20.\n",
      "  sample_weight=sample_weight)\n",
      "C:\\Users\\Takashi\\Miniconda3\\lib\\site-packages\\sklearn\\metrics\\scorer.py:127: DeprecationWarning: Scoring method log_loss was renamed to neg_log_loss in version 0.18 and will be removed in 0.20.\n",
      "  sample_weight=sample_weight)\n"
     ]
    },
    {
     "name": "stdout",
     "output_type": "stream",
     "text": [
      "[CV]  max_depth=10, colsample_bytree=0.638427188472, subsample=0.895883136725 -   0.0s\n",
      "[CV] max_depth=10, colsample_bytree=0.638427188472, subsample=0.895883136725 \n",
      "[CV]  max_depth=10, colsample_bytree=0.638427188472, subsample=0.895883136725 -   0.0s\n",
      "[CV] max_depth=10, colsample_bytree=0.638427188472, subsample=0.895883136725 \n"
     ]
    },
    {
     "name": "stderr",
     "output_type": "stream",
     "text": [
      "C:\\Users\\Takashi\\Miniconda3\\lib\\site-packages\\sklearn\\metrics\\scorer.py:127: DeprecationWarning: Scoring method log_loss was renamed to neg_log_loss in version 0.18 and will be removed in 0.20.\n",
      "  sample_weight=sample_weight)\n",
      "C:\\Users\\Takashi\\Miniconda3\\lib\\site-packages\\sklearn\\metrics\\scorer.py:127: DeprecationWarning: Scoring method log_loss was renamed to neg_log_loss in version 0.18 and will be removed in 0.20.\n",
      "  sample_weight=sample_weight)\n"
     ]
    },
    {
     "name": "stdout",
     "output_type": "stream",
     "text": [
      "[CV]  max_depth=10, colsample_bytree=0.638427188472, subsample=0.895883136725 -   0.1s\n",
      "[CV] max_depth=10, colsample_bytree=0.638427188472, subsample=0.895883136725 \n",
      "[CV]  max_depth=10, colsample_bytree=0.638427188472, subsample=0.895883136725 -   0.1s\n",
      "[CV] max_depth=10, colsample_bytree=0.638427188472, subsample=0.895883136725 \n"
     ]
    },
    {
     "name": "stderr",
     "output_type": "stream",
     "text": [
      "C:\\Users\\Takashi\\Miniconda3\\lib\\site-packages\\sklearn\\metrics\\scorer.py:127: DeprecationWarning: Scoring method log_loss was renamed to neg_log_loss in version 0.18 and will be removed in 0.20.\n",
      "  sample_weight=sample_weight)\n",
      "C:\\Users\\Takashi\\Miniconda3\\lib\\site-packages\\sklearn\\metrics\\scorer.py:127: DeprecationWarning: Scoring method log_loss was renamed to neg_log_loss in version 0.18 and will be removed in 0.20.\n",
      "  sample_weight=sample_weight)\n"
     ]
    },
    {
     "name": "stdout",
     "output_type": "stream",
     "text": [
      "[CV]  max_depth=10, colsample_bytree=0.638427188472, subsample=0.895883136725 -   0.0s\n",
      "[CV] max_depth=10, colsample_bytree=0.638427188472, subsample=0.895883136725 \n",
      "[CV]  max_depth=10, colsample_bytree=0.638427188472, subsample=0.895883136725 -   0.0s\n",
      "[CV] max_depth=10, colsample_bytree=0.638427188472, subsample=0.895883136725 \n"
     ]
    },
    {
     "name": "stderr",
     "output_type": "stream",
     "text": [
      "C:\\Users\\Takashi\\Miniconda3\\lib\\site-packages\\sklearn\\metrics\\scorer.py:127: DeprecationWarning: Scoring method log_loss was renamed to neg_log_loss in version 0.18 and will be removed in 0.20.\n",
      "  sample_weight=sample_weight)\n",
      "C:\\Users\\Takashi\\Miniconda3\\lib\\site-packages\\sklearn\\metrics\\scorer.py:127: DeprecationWarning: Scoring method log_loss was renamed to neg_log_loss in version 0.18 and will be removed in 0.20.\n",
      "  sample_weight=sample_weight)\n"
     ]
    },
    {
     "name": "stdout",
     "output_type": "stream",
     "text": [
      "[CV]  max_depth=10, colsample_bytree=0.638427188472, subsample=0.895883136725 -   0.0s\n",
      "[CV] max_depth=10, colsample_bytree=0.638427188472, subsample=0.895883136725 \n",
      "[CV]  max_depth=10, colsample_bytree=0.638427188472, subsample=0.895883136725 -   0.0s\n",
      "[CV] max_depth=7, colsample_bytree=0.82000331704, subsample=0.748192212693 \n"
     ]
    },
    {
     "name": "stderr",
     "output_type": "stream",
     "text": [
      "C:\\Users\\Takashi\\Miniconda3\\lib\\site-packages\\sklearn\\metrics\\scorer.py:127: DeprecationWarning: Scoring method log_loss was renamed to neg_log_loss in version 0.18 and will be removed in 0.20.\n",
      "  sample_weight=sample_weight)\n",
      "C:\\Users\\Takashi\\Miniconda3\\lib\\site-packages\\sklearn\\metrics\\scorer.py:127: DeprecationWarning: Scoring method log_loss was renamed to neg_log_loss in version 0.18 and will be removed in 0.20.\n",
      "  sample_weight=sample_weight)\n"
     ]
    },
    {
     "name": "stdout",
     "output_type": "stream",
     "text": [
      "[CV]  max_depth=7, colsample_bytree=0.82000331704, subsample=0.748192212693 -   0.0s\n",
      "[CV] max_depth=7, colsample_bytree=0.82000331704, subsample=0.748192212693 \n",
      "[CV]  max_depth=7, colsample_bytree=0.82000331704, subsample=0.748192212693 -   0.0s\n",
      "[CV] max_depth=7, colsample_bytree=0.82000331704, subsample=0.748192212693 \n"
     ]
    },
    {
     "name": "stderr",
     "output_type": "stream",
     "text": [
      "C:\\Users\\Takashi\\Miniconda3\\lib\\site-packages\\sklearn\\metrics\\scorer.py:127: DeprecationWarning: Scoring method log_loss was renamed to neg_log_loss in version 0.18 and will be removed in 0.20.\n",
      "  sample_weight=sample_weight)\n",
      "C:\\Users\\Takashi\\Miniconda3\\lib\\site-packages\\sklearn\\metrics\\scorer.py:127: DeprecationWarning: Scoring method log_loss was renamed to neg_log_loss in version 0.18 and will be removed in 0.20.\n",
      "  sample_weight=sample_weight)\n"
     ]
    },
    {
     "name": "stdout",
     "output_type": "stream",
     "text": [
      "[CV]  max_depth=7, colsample_bytree=0.82000331704, subsample=0.748192212693 -   0.0s\n",
      "[CV] max_depth=7, colsample_bytree=0.82000331704, subsample=0.748192212693 \n",
      "[CV]  max_depth=7, colsample_bytree=0.82000331704, subsample=0.748192212693 -   0.0s\n",
      "[CV] max_depth=7, colsample_bytree=0.82000331704, subsample=0.748192212693 \n"
     ]
    },
    {
     "name": "stderr",
     "output_type": "stream",
     "text": [
      "C:\\Users\\Takashi\\Miniconda3\\lib\\site-packages\\sklearn\\metrics\\scorer.py:127: DeprecationWarning: Scoring method log_loss was renamed to neg_log_loss in version 0.18 and will be removed in 0.20.\n",
      "  sample_weight=sample_weight)\n",
      "C:\\Users\\Takashi\\Miniconda3\\lib\\site-packages\\sklearn\\metrics\\scorer.py:127: DeprecationWarning: Scoring method log_loss was renamed to neg_log_loss in version 0.18 and will be removed in 0.20.\n",
      "  sample_weight=sample_weight)\n"
     ]
    },
    {
     "name": "stdout",
     "output_type": "stream",
     "text": [
      "[CV]  max_depth=7, colsample_bytree=0.82000331704, subsample=0.748192212693 -   0.0s\n",
      "[CV] max_depth=7, colsample_bytree=0.82000331704, subsample=0.748192212693 \n",
      "[CV]  max_depth=7, colsample_bytree=0.82000331704, subsample=0.748192212693 -   0.0s\n",
      "[CV] max_depth=7, colsample_bytree=0.82000331704, subsample=0.748192212693 \n"
     ]
    },
    {
     "name": "stderr",
     "output_type": "stream",
     "text": [
      "C:\\Users\\Takashi\\Miniconda3\\lib\\site-packages\\sklearn\\metrics\\scorer.py:127: DeprecationWarning: Scoring method log_loss was renamed to neg_log_loss in version 0.18 and will be removed in 0.20.\n",
      "  sample_weight=sample_weight)\n",
      "C:\\Users\\Takashi\\Miniconda3\\lib\\site-packages\\sklearn\\metrics\\scorer.py:127: DeprecationWarning: Scoring method log_loss was renamed to neg_log_loss in version 0.18 and will be removed in 0.20.\n",
      "  sample_weight=sample_weight)\n"
     ]
    },
    {
     "name": "stdout",
     "output_type": "stream",
     "text": [
      "[CV]  max_depth=7, colsample_bytree=0.82000331704, subsample=0.748192212693 -   0.0s\n",
      "[CV] max_depth=7, colsample_bytree=0.82000331704, subsample=0.748192212693 \n",
      "[CV]  max_depth=7, colsample_bytree=0.82000331704, subsample=0.748192212693 -   0.0s\n",
      "[CV] max_depth=7, colsample_bytree=0.82000331704, subsample=0.748192212693 \n"
     ]
    },
    {
     "name": "stderr",
     "output_type": "stream",
     "text": [
      "C:\\Users\\Takashi\\Miniconda3\\lib\\site-packages\\sklearn\\metrics\\scorer.py:127: DeprecationWarning: Scoring method log_loss was renamed to neg_log_loss in version 0.18 and will be removed in 0.20.\n",
      "  sample_weight=sample_weight)\n",
      "C:\\Users\\Takashi\\Miniconda3\\lib\\site-packages\\sklearn\\metrics\\scorer.py:127: DeprecationWarning: Scoring method log_loss was renamed to neg_log_loss in version 0.18 and will be removed in 0.20.\n",
      "  sample_weight=sample_weight)\n",
      "C:\\Users\\Takashi\\Miniconda3\\lib\\site-packages\\sklearn\\metrics\\scorer.py:127: DeprecationWarning: Scoring method log_loss was renamed to neg_log_loss in version 0.18 and will be removed in 0.20.\n",
      "  sample_weight=sample_weight)\n",
      "C:\\Users\\Takashi\\Miniconda3\\lib\\site-packages\\sklearn\\metrics\\scorer.py:127: DeprecationWarning: Scoring method log_loss was renamed to neg_log_loss in version 0.18 and will be removed in 0.20.\n",
      "  sample_weight=sample_weight)\n"
     ]
    },
    {
     "name": "stdout",
     "output_type": "stream",
     "text": [
      "[CV]  max_depth=7, colsample_bytree=0.82000331704, subsample=0.748192212693 -   0.0s\n",
      "[CV] max_depth=7, colsample_bytree=0.82000331704, subsample=0.748192212693 \n",
      "[CV]  max_depth=7, colsample_bytree=0.82000331704, subsample=0.748192212693 -   0.0s\n",
      "[CV] max_depth=1, colsample_bytree=0.716741509564, subsample=0.581973275597 \n",
      "[CV]  max_depth=1, colsample_bytree=0.716741509564, subsample=0.581973275597 -   0.0s\n",
      "[CV] max_depth=1, colsample_bytree=0.716741509564, subsample=0.581973275597 \n",
      "[CV]  max_depth=1, colsample_bytree=0.716741509564, subsample=0.581973275597 -   0.0s\n",
      "[CV] max_depth=1, colsample_bytree=0.716741509564, subsample=0.581973275597 \n"
     ]
    },
    {
     "name": "stderr",
     "output_type": "stream",
     "text": [
      "C:\\Users\\Takashi\\Miniconda3\\lib\\site-packages\\sklearn\\metrics\\scorer.py:127: DeprecationWarning: Scoring method log_loss was renamed to neg_log_loss in version 0.18 and will be removed in 0.20.\n",
      "  sample_weight=sample_weight)\n",
      "C:\\Users\\Takashi\\Miniconda3\\lib\\site-packages\\sklearn\\metrics\\scorer.py:127: DeprecationWarning: Scoring method log_loss was renamed to neg_log_loss in version 0.18 and will be removed in 0.20.\n",
      "  sample_weight=sample_weight)\n",
      "C:\\Users\\Takashi\\Miniconda3\\lib\\site-packages\\sklearn\\metrics\\scorer.py:127: DeprecationWarning: Scoring method log_loss was renamed to neg_log_loss in version 0.18 and will be removed in 0.20.\n",
      "  sample_weight=sample_weight)\n",
      "C:\\Users\\Takashi\\Miniconda3\\lib\\site-packages\\sklearn\\metrics\\scorer.py:127: DeprecationWarning: Scoring method log_loss was renamed to neg_log_loss in version 0.18 and will be removed in 0.20.\n",
      "  sample_weight=sample_weight)\n",
      "C:\\Users\\Takashi\\Miniconda3\\lib\\site-packages\\sklearn\\metrics\\scorer.py:127: DeprecationWarning: Scoring method log_loss was renamed to neg_log_loss in version 0.18 and will be removed in 0.20.\n",
      "  sample_weight=sample_weight)\n",
      "C:\\Users\\Takashi\\Miniconda3\\lib\\site-packages\\sklearn\\metrics\\scorer.py:127: DeprecationWarning: Scoring method log_loss was renamed to neg_log_loss in version 0.18 and will be removed in 0.20.\n",
      "  sample_weight=sample_weight)\n",
      "C:\\Users\\Takashi\\Miniconda3\\lib\\site-packages\\sklearn\\metrics\\scorer.py:127: DeprecationWarning: Scoring method log_loss was renamed to neg_log_loss in version 0.18 and will be removed in 0.20.\n",
      "  sample_weight=sample_weight)\n"
     ]
    },
    {
     "name": "stdout",
     "output_type": "stream",
     "text": [
      "[CV]  max_depth=1, colsample_bytree=0.716741509564, subsample=0.581973275597 -   0.0s\n",
      "[CV] max_depth=1, colsample_bytree=0.716741509564, subsample=0.581973275597 \n",
      "[CV]  max_depth=1, colsample_bytree=0.716741509564, subsample=0.581973275597 -   0.0s\n",
      "[CV] max_depth=1, colsample_bytree=0.716741509564, subsample=0.581973275597 \n",
      "[CV]  max_depth=1, colsample_bytree=0.716741509564, subsample=0.581973275597 -   0.0s\n",
      "[CV] max_depth=1, colsample_bytree=0.716741509564, subsample=0.581973275597 \n",
      "[CV]  max_depth=1, colsample_bytree=0.716741509564, subsample=0.581973275597 -   0.0s\n",
      "[CV] max_depth=1, colsample_bytree=0.716741509564, subsample=0.581973275597 \n",
      "[CV]  max_depth=1, colsample_bytree=0.716741509564, subsample=0.581973275597 -   0.0s\n",
      "[CV] max_depth=1, colsample_bytree=0.716741509564, subsample=0.581973275597 \n",
      "[CV]  max_depth=1, colsample_bytree=0.716741509564, subsample=0.581973275597 -   0.0s\n",
      "[CV] max_depth=1, colsample_bytree=0.716741509564, subsample=0.581973275597 \n",
      "[CV]  max_depth=1, colsample_bytree=0.716741509564, subsample=0.581973275597 -   0.0s\n",
      "[CV] max_depth=1, colsample_bytree=0.716741509564, subsample=0.581973275597 \n"
     ]
    },
    {
     "name": "stderr",
     "output_type": "stream",
     "text": [
      "C:\\Users\\Takashi\\Miniconda3\\lib\\site-packages\\sklearn\\metrics\\scorer.py:127: DeprecationWarning: Scoring method log_loss was renamed to neg_log_loss in version 0.18 and will be removed in 0.20.\n",
      "  sample_weight=sample_weight)\n",
      "C:\\Users\\Takashi\\Miniconda3\\lib\\site-packages\\sklearn\\metrics\\scorer.py:127: DeprecationWarning: Scoring method log_loss was renamed to neg_log_loss in version 0.18 and will be removed in 0.20.\n",
      "  sample_weight=sample_weight)\n",
      "C:\\Users\\Takashi\\Miniconda3\\lib\\site-packages\\sklearn\\metrics\\scorer.py:127: DeprecationWarning: Scoring method log_loss was renamed to neg_log_loss in version 0.18 and will be removed in 0.20.\n",
      "  sample_weight=sample_weight)\n",
      "C:\\Users\\Takashi\\Miniconda3\\lib\\site-packages\\sklearn\\metrics\\scorer.py:127: DeprecationWarning: Scoring method log_loss was renamed to neg_log_loss in version 0.18 and will be removed in 0.20.\n",
      "  sample_weight=sample_weight)\n"
     ]
    },
    {
     "name": "stdout",
     "output_type": "stream",
     "text": [
      "[CV]  max_depth=1, colsample_bytree=0.716741509564, subsample=0.581973275597 -   0.0s\n",
      "[CV] max_depth=4, colsample_bytree=0.641277282475, subsample=0.713868380754 \n",
      "[CV]  max_depth=4, colsample_bytree=0.641277282475, subsample=0.713868380754 -   0.0s\n",
      "[CV] max_depth=4, colsample_bytree=0.641277282475, subsample=0.713868380754 \n",
      "[CV]  max_depth=4, colsample_bytree=0.641277282475, subsample=0.713868380754 -   0.0s\n",
      "[CV] max_depth=4, colsample_bytree=0.641277282475, subsample=0.713868380754 \n",
      "[CV]  max_depth=4, colsample_bytree=0.641277282475, subsample=0.713868380754 -   0.0s\n",
      "[CV] max_depth=4, colsample_bytree=0.641277282475, subsample=0.713868380754 \n"
     ]
    },
    {
     "name": "stderr",
     "output_type": "stream",
     "text": [
      "C:\\Users\\Takashi\\Miniconda3\\lib\\site-packages\\sklearn\\metrics\\scorer.py:127: DeprecationWarning: Scoring method log_loss was renamed to neg_log_loss in version 0.18 and will be removed in 0.20.\n",
      "  sample_weight=sample_weight)\n",
      "C:\\Users\\Takashi\\Miniconda3\\lib\\site-packages\\sklearn\\metrics\\scorer.py:127: DeprecationWarning: Scoring method log_loss was renamed to neg_log_loss in version 0.18 and will be removed in 0.20.\n",
      "  sample_weight=sample_weight)\n",
      "C:\\Users\\Takashi\\Miniconda3\\lib\\site-packages\\sklearn\\metrics\\scorer.py:127: DeprecationWarning: Scoring method log_loss was renamed to neg_log_loss in version 0.18 and will be removed in 0.20.\n",
      "  sample_weight=sample_weight)\n"
     ]
    },
    {
     "name": "stdout",
     "output_type": "stream",
     "text": [
      "[CV]  max_depth=4, colsample_bytree=0.641277282475, subsample=0.713868380754 -   0.0s\n",
      "[CV] max_depth=4, colsample_bytree=0.641277282475, subsample=0.713868380754 \n",
      "[CV]  max_depth=4, colsample_bytree=0.641277282475, subsample=0.713868380754 -   0.0s\n",
      "[CV] max_depth=4, colsample_bytree=0.641277282475, subsample=0.713868380754 \n",
      "[CV]  max_depth=4, colsample_bytree=0.641277282475, subsample=0.713868380754 -   0.0s\n",
      "[CV] max_depth=4, colsample_bytree=0.641277282475, subsample=0.713868380754 \n"
     ]
    },
    {
     "name": "stderr",
     "output_type": "stream",
     "text": [
      "C:\\Users\\Takashi\\Miniconda3\\lib\\site-packages\\sklearn\\metrics\\scorer.py:127: DeprecationWarning: Scoring method log_loss was renamed to neg_log_loss in version 0.18 and will be removed in 0.20.\n",
      "  sample_weight=sample_weight)\n",
      "C:\\Users\\Takashi\\Miniconda3\\lib\\site-packages\\sklearn\\metrics\\scorer.py:127: DeprecationWarning: Scoring method log_loss was renamed to neg_log_loss in version 0.18 and will be removed in 0.20.\n",
      "  sample_weight=sample_weight)\n",
      "C:\\Users\\Takashi\\Miniconda3\\lib\\site-packages\\sklearn\\metrics\\scorer.py:127: DeprecationWarning: Scoring method log_loss was renamed to neg_log_loss in version 0.18 and will be removed in 0.20.\n",
      "  sample_weight=sample_weight)\n",
      "C:\\Users\\Takashi\\Miniconda3\\lib\\site-packages\\sklearn\\metrics\\scorer.py:127: DeprecationWarning: Scoring method log_loss was renamed to neg_log_loss in version 0.18 and will be removed in 0.20.\n",
      "  sample_weight=sample_weight)\n"
     ]
    },
    {
     "name": "stdout",
     "output_type": "stream",
     "text": [
      "[CV]  max_depth=4, colsample_bytree=0.641277282475, subsample=0.713868380754 -   0.0s\n",
      "[CV] max_depth=4, colsample_bytree=0.641277282475, subsample=0.713868380754 \n",
      "[CV]  max_depth=4, colsample_bytree=0.641277282475, subsample=0.713868380754 -   0.0s\n",
      "[CV] max_depth=4, colsample_bytree=0.641277282475, subsample=0.713868380754 \n",
      "[CV]  max_depth=4, colsample_bytree=0.641277282475, subsample=0.713868380754 -   0.0s\n",
      "[CV] max_depth=4, colsample_bytree=0.641277282475, subsample=0.713868380754 \n",
      "[CV]  max_depth=4, colsample_bytree=0.641277282475, subsample=0.713868380754 -   0.0s\n",
      "[CV] max_depth=1, colsample_bytree=0.854338102777, subsample=0.975822684028 \n"
     ]
    },
    {
     "name": "stderr",
     "output_type": "stream",
     "text": [
      "C:\\Users\\Takashi\\Miniconda3\\lib\\site-packages\\sklearn\\metrics\\scorer.py:127: DeprecationWarning: Scoring method log_loss was renamed to neg_log_loss in version 0.18 and will be removed in 0.20.\n",
      "  sample_weight=sample_weight)\n",
      "C:\\Users\\Takashi\\Miniconda3\\lib\\site-packages\\sklearn\\metrics\\scorer.py:127: DeprecationWarning: Scoring method log_loss was renamed to neg_log_loss in version 0.18 and will be removed in 0.20.\n",
      "  sample_weight=sample_weight)\n",
      "C:\\Users\\Takashi\\Miniconda3\\lib\\site-packages\\sklearn\\metrics\\scorer.py:127: DeprecationWarning: Scoring method log_loss was renamed to neg_log_loss in version 0.18 and will be removed in 0.20.\n",
      "  sample_weight=sample_weight)\n",
      "C:\\Users\\Takashi\\Miniconda3\\lib\\site-packages\\sklearn\\metrics\\scorer.py:127: DeprecationWarning: Scoring method log_loss was renamed to neg_log_loss in version 0.18 and will be removed in 0.20.\n",
      "  sample_weight=sample_weight)\n",
      "C:\\Users\\Takashi\\Miniconda3\\lib\\site-packages\\sklearn\\metrics\\scorer.py:127: DeprecationWarning: Scoring method log_loss was renamed to neg_log_loss in version 0.18 and will be removed in 0.20.\n",
      "  sample_weight=sample_weight)\n",
      "C:\\Users\\Takashi\\Miniconda3\\lib\\site-packages\\sklearn\\metrics\\scorer.py:127: DeprecationWarning: Scoring method log_loss was renamed to neg_log_loss in version 0.18 and will be removed in 0.20.\n",
      "  sample_weight=sample_weight)\n",
      "C:\\Users\\Takashi\\Miniconda3\\lib\\site-packages\\sklearn\\metrics\\scorer.py:127: DeprecationWarning: Scoring method log_loss was renamed to neg_log_loss in version 0.18 and will be removed in 0.20.\n",
      "  sample_weight=sample_weight)\n",
      "C:\\Users\\Takashi\\Miniconda3\\lib\\site-packages\\sklearn\\metrics\\scorer.py:127: DeprecationWarning: Scoring method log_loss was renamed to neg_log_loss in version 0.18 and will be removed in 0.20.\n",
      "  sample_weight=sample_weight)\n"
     ]
    },
    {
     "name": "stdout",
     "output_type": "stream",
     "text": [
      "[CV]  max_depth=1, colsample_bytree=0.854338102777, subsample=0.975822684028 -   0.0s\n",
      "[CV] max_depth=1, colsample_bytree=0.854338102777, subsample=0.975822684028 \n",
      "[CV]  max_depth=1, colsample_bytree=0.854338102777, subsample=0.975822684028 -   0.0s\n",
      "[CV] max_depth=1, colsample_bytree=0.854338102777, subsample=0.975822684028 \n",
      "[CV]  max_depth=1, colsample_bytree=0.854338102777, subsample=0.975822684028 -   0.0s\n",
      "[CV] max_depth=1, colsample_bytree=0.854338102777, subsample=0.975822684028 \n",
      "[CV]  max_depth=1, colsample_bytree=0.854338102777, subsample=0.975822684028 -   0.0s\n",
      "[CV] max_depth=1, colsample_bytree=0.854338102777, subsample=0.975822684028 \n",
      "[CV]  max_depth=1, colsample_bytree=0.854338102777, subsample=0.975822684028 -   0.0s\n",
      "[CV] max_depth=1, colsample_bytree=0.854338102777, subsample=0.975822684028 \n",
      "[CV]  max_depth=1, colsample_bytree=0.854338102777, subsample=0.975822684028 -   0.0s\n",
      "[CV] max_depth=1, colsample_bytree=0.854338102777, subsample=0.975822684028 \n",
      "[CV]  max_depth=1, colsample_bytree=0.854338102777, subsample=0.975822684028 -   0.0s\n",
      "[CV] max_depth=1, colsample_bytree=0.854338102777, subsample=0.975822684028 \n",
      "[CV]  max_depth=1, colsample_bytree=0.854338102777, subsample=0.975822684028 -   0.0s\n",
      "[CV] max_depth=1, colsample_bytree=0.854338102777, subsample=0.975822684028 \n"
     ]
    },
    {
     "name": "stderr",
     "output_type": "stream",
     "text": [
      "C:\\Users\\Takashi\\Miniconda3\\lib\\site-packages\\sklearn\\metrics\\scorer.py:127: DeprecationWarning: Scoring method log_loss was renamed to neg_log_loss in version 0.18 and will be removed in 0.20.\n",
      "  sample_weight=sample_weight)\n",
      "C:\\Users\\Takashi\\Miniconda3\\lib\\site-packages\\sklearn\\metrics\\scorer.py:127: DeprecationWarning: Scoring method log_loss was renamed to neg_log_loss in version 0.18 and will be removed in 0.20.\n",
      "  sample_weight=sample_weight)\n",
      "C:\\Users\\Takashi\\Miniconda3\\lib\\site-packages\\sklearn\\metrics\\scorer.py:127: DeprecationWarning: Scoring method log_loss was renamed to neg_log_loss in version 0.18 and will be removed in 0.20.\n",
      "  sample_weight=sample_weight)\n",
      "C:\\Users\\Takashi\\Miniconda3\\lib\\site-packages\\sklearn\\metrics\\scorer.py:127: DeprecationWarning: Scoring method log_loss was renamed to neg_log_loss in version 0.18 and will be removed in 0.20.\n",
      "  sample_weight=sample_weight)\n",
      "C:\\Users\\Takashi\\Miniconda3\\lib\\site-packages\\sklearn\\metrics\\scorer.py:127: DeprecationWarning: Scoring method log_loss was renamed to neg_log_loss in version 0.18 and will be removed in 0.20.\n",
      "  sample_weight=sample_weight)\n"
     ]
    },
    {
     "name": "stdout",
     "output_type": "stream",
     "text": [
      "[CV]  max_depth=1, colsample_bytree=0.854338102777, subsample=0.975822684028 -   0.0s\n",
      "[CV] max_depth=1, colsample_bytree=0.854338102777, subsample=0.975822684028 \n",
      "[CV]  max_depth=1, colsample_bytree=0.854338102777, subsample=0.975822684028 -   0.0s\n",
      "[CV] max_depth=4, colsample_bytree=0.551767720123, subsample=0.612752069116 \n",
      "[CV]  max_depth=4, colsample_bytree=0.551767720123, subsample=0.612752069116 -   0.0s\n",
      "[CV] max_depth=4, colsample_bytree=0.551767720123, subsample=0.612752069116 \n",
      "[CV]  max_depth=4, colsample_bytree=0.551767720123, subsample=0.612752069116 -   0.0s\n",
      "[CV] max_depth=4, colsample_bytree=0.551767720123, subsample=0.612752069116 \n",
      "[CV]  max_depth=4, colsample_bytree=0.551767720123, subsample=0.612752069116 -   0.0s\n",
      "[CV] max_depth=4, colsample_bytree=0.551767720123, subsample=0.612752069116 \n"
     ]
    },
    {
     "name": "stderr",
     "output_type": "stream",
     "text": [
      "C:\\Users\\Takashi\\Miniconda3\\lib\\site-packages\\sklearn\\metrics\\scorer.py:127: DeprecationWarning: Scoring method log_loss was renamed to neg_log_loss in version 0.18 and will be removed in 0.20.\n",
      "  sample_weight=sample_weight)\n",
      "C:\\Users\\Takashi\\Miniconda3\\lib\\site-packages\\sklearn\\metrics\\scorer.py:127: DeprecationWarning: Scoring method log_loss was renamed to neg_log_loss in version 0.18 and will be removed in 0.20.\n",
      "  sample_weight=sample_weight)\n",
      "C:\\Users\\Takashi\\Miniconda3\\lib\\site-packages\\sklearn\\metrics\\scorer.py:127: DeprecationWarning: Scoring method log_loss was renamed to neg_log_loss in version 0.18 and will be removed in 0.20.\n",
      "  sample_weight=sample_weight)\n",
      "C:\\Users\\Takashi\\Miniconda3\\lib\\site-packages\\sklearn\\metrics\\scorer.py:127: DeprecationWarning: Scoring method log_loss was renamed to neg_log_loss in version 0.18 and will be removed in 0.20.\n",
      "  sample_weight=sample_weight)\n"
     ]
    },
    {
     "name": "stdout",
     "output_type": "stream",
     "text": [
      "[CV]  max_depth=4, colsample_bytree=0.551767720123, subsample=0.612752069116 -   0.0s\n",
      "[CV] max_depth=4, colsample_bytree=0.551767720123, subsample=0.612752069116 \n",
      "[CV]  max_depth=4, colsample_bytree=0.551767720123, subsample=0.612752069116 -   0.0s\n",
      "[CV] max_depth=4, colsample_bytree=0.551767720123, subsample=0.612752069116 \n",
      "[CV]  max_depth=4, colsample_bytree=0.551767720123, subsample=0.612752069116 -   0.0s\n",
      "[CV] max_depth=4, colsample_bytree=0.551767720123, subsample=0.612752069116 \n",
      "[CV]  max_depth=4, colsample_bytree=0.551767720123, subsample=0.612752069116 -   0.0s\n",
      "[CV] max_depth=4, colsample_bytree=0.551767720123, subsample=0.612752069116 \n"
     ]
    },
    {
     "name": "stderr",
     "output_type": "stream",
     "text": [
      "C:\\Users\\Takashi\\Miniconda3\\lib\\site-packages\\sklearn\\metrics\\scorer.py:127: DeprecationWarning: Scoring method log_loss was renamed to neg_log_loss in version 0.18 and will be removed in 0.20.\n",
      "  sample_weight=sample_weight)\n",
      "C:\\Users\\Takashi\\Miniconda3\\lib\\site-packages\\sklearn\\metrics\\scorer.py:127: DeprecationWarning: Scoring method log_loss was renamed to neg_log_loss in version 0.18 and will be removed in 0.20.\n",
      "  sample_weight=sample_weight)\n",
      "C:\\Users\\Takashi\\Miniconda3\\lib\\site-packages\\sklearn\\metrics\\scorer.py:127: DeprecationWarning: Scoring method log_loss was renamed to neg_log_loss in version 0.18 and will be removed in 0.20.\n",
      "  sample_weight=sample_weight)\n",
      "C:\\Users\\Takashi\\Miniconda3\\lib\\site-packages\\sklearn\\metrics\\scorer.py:127: DeprecationWarning: Scoring method log_loss was renamed to neg_log_loss in version 0.18 and will be removed in 0.20.\n",
      "  sample_weight=sample_weight)\n",
      "C:\\Users\\Takashi\\Miniconda3\\lib\\site-packages\\sklearn\\metrics\\scorer.py:127: DeprecationWarning: Scoring method log_loss was renamed to neg_log_loss in version 0.18 and will be removed in 0.20.\n",
      "  sample_weight=sample_weight)\n"
     ]
    },
    {
     "name": "stdout",
     "output_type": "stream",
     "text": [
      "[CV]  max_depth=4, colsample_bytree=0.551767720123, subsample=0.612752069116 -   0.0s\n",
      "[CV] max_depth=4, colsample_bytree=0.551767720123, subsample=0.612752069116 \n",
      "[CV]  max_depth=4, colsample_bytree=0.551767720123, subsample=0.612752069116 -   0.0s\n",
      "[CV] max_depth=4, colsample_bytree=0.551767720123, subsample=0.612752069116 \n",
      "[CV]  max_depth=4, colsample_bytree=0.551767720123, subsample=0.612752069116 -   0.0s\n",
      "[CV] max_depth=3, colsample_bytree=0.553096092143, subsample=0.895497918337 \n",
      "[CV]  max_depth=3, colsample_bytree=0.553096092143, subsample=0.895497918337 -   0.0s\n",
      "[CV] max_depth=3, colsample_bytree=0.553096092143, subsample=0.895497918337 \n",
      "[CV]  max_depth=3, colsample_bytree=0.553096092143, subsample=0.895497918337 -   0.0s\n",
      "[CV] max_depth=3, colsample_bytree=0.553096092143, subsample=0.895497918337 \n"
     ]
    },
    {
     "name": "stderr",
     "output_type": "stream",
     "text": [
      "C:\\Users\\Takashi\\Miniconda3\\lib\\site-packages\\sklearn\\metrics\\scorer.py:127: DeprecationWarning: Scoring method log_loss was renamed to neg_log_loss in version 0.18 and will be removed in 0.20.\n",
      "  sample_weight=sample_weight)\n",
      "C:\\Users\\Takashi\\Miniconda3\\lib\\site-packages\\sklearn\\metrics\\scorer.py:127: DeprecationWarning: Scoring method log_loss was renamed to neg_log_loss in version 0.18 and will be removed in 0.20.\n",
      "  sample_weight=sample_weight)\n",
      "C:\\Users\\Takashi\\Miniconda3\\lib\\site-packages\\sklearn\\metrics\\scorer.py:127: DeprecationWarning: Scoring method log_loss was renamed to neg_log_loss in version 0.18 and will be removed in 0.20.\n",
      "  sample_weight=sample_weight)\n",
      "C:\\Users\\Takashi\\Miniconda3\\lib\\site-packages\\sklearn\\metrics\\scorer.py:127: DeprecationWarning: Scoring method log_loss was renamed to neg_log_loss in version 0.18 and will be removed in 0.20.\n",
      "  sample_weight=sample_weight)\n",
      "C:\\Users\\Takashi\\Miniconda3\\lib\\site-packages\\sklearn\\metrics\\scorer.py:127: DeprecationWarning: Scoring method log_loss was renamed to neg_log_loss in version 0.18 and will be removed in 0.20.\n",
      "  sample_weight=sample_weight)\n"
     ]
    },
    {
     "name": "stdout",
     "output_type": "stream",
     "text": [
      "[CV]  max_depth=3, colsample_bytree=0.553096092143, subsample=0.895497918337 -   0.0s\n",
      "[CV] max_depth=3, colsample_bytree=0.553096092143, subsample=0.895497918337 \n",
      "[CV]  max_depth=3, colsample_bytree=0.553096092143, subsample=0.895497918337 -   0.0s\n",
      "[CV] max_depth=3, colsample_bytree=0.553096092143, subsample=0.895497918337 \n",
      "[CV]  max_depth=3, colsample_bytree=0.553096092143, subsample=0.895497918337 -   0.0s\n",
      "[CV] max_depth=3, colsample_bytree=0.553096092143, subsample=0.895497918337 \n",
      "[CV]  max_depth=3, colsample_bytree=0.553096092143, subsample=0.895497918337 -   0.0s\n",
      "[CV] max_depth=3, colsample_bytree=0.553096092143, subsample=0.895497918337 \n",
      "[CV]  max_depth=3, colsample_bytree=0.553096092143, subsample=0.895497918337 -   0.0s\n",
      "[CV] max_depth=3, colsample_bytree=0.553096092143, subsample=0.895497918337 \n"
     ]
    },
    {
     "name": "stderr",
     "output_type": "stream",
     "text": [
      "C:\\Users\\Takashi\\Miniconda3\\lib\\site-packages\\sklearn\\metrics\\scorer.py:127: DeprecationWarning: Scoring method log_loss was renamed to neg_log_loss in version 0.18 and will be removed in 0.20.\n",
      "  sample_weight=sample_weight)\n",
      "C:\\Users\\Takashi\\Miniconda3\\lib\\site-packages\\sklearn\\metrics\\scorer.py:127: DeprecationWarning: Scoring method log_loss was renamed to neg_log_loss in version 0.18 and will be removed in 0.20.\n",
      "  sample_weight=sample_weight)\n",
      "C:\\Users\\Takashi\\Miniconda3\\lib\\site-packages\\sklearn\\metrics\\scorer.py:127: DeprecationWarning: Scoring method log_loss was renamed to neg_log_loss in version 0.18 and will be removed in 0.20.\n",
      "  sample_weight=sample_weight)\n",
      "C:\\Users\\Takashi\\Miniconda3\\lib\\site-packages\\sklearn\\metrics\\scorer.py:127: DeprecationWarning: Scoring method log_loss was renamed to neg_log_loss in version 0.18 and will be removed in 0.20.\n",
      "  sample_weight=sample_weight)\n"
     ]
    },
    {
     "name": "stdout",
     "output_type": "stream",
     "text": [
      "[CV]  max_depth=3, colsample_bytree=0.553096092143, subsample=0.895497918337 -   0.0s\n",
      "[CV] max_depth=3, colsample_bytree=0.553096092143, subsample=0.895497918337 \n",
      "[CV]  max_depth=3, colsample_bytree=0.553096092143, subsample=0.895497918337 -   0.0s\n",
      "[CV] max_depth=3, colsample_bytree=0.553096092143, subsample=0.895497918337 \n",
      "[CV]  max_depth=3, colsample_bytree=0.553096092143, subsample=0.895497918337 -   0.0s\n",
      "[CV] max_depth=6, colsample_bytree=0.738762027425, subsample=0.56727784698 \n",
      "[CV]  max_depth=6, colsample_bytree=0.738762027425, subsample=0.56727784698 -   0.0s\n",
      "[CV] max_depth=6, colsample_bytree=0.738762027425, subsample=0.56727784698 \n"
     ]
    },
    {
     "name": "stderr",
     "output_type": "stream",
     "text": [
      "C:\\Users\\Takashi\\Miniconda3\\lib\\site-packages\\sklearn\\metrics\\scorer.py:127: DeprecationWarning: Scoring method log_loss was renamed to neg_log_loss in version 0.18 and will be removed in 0.20.\n",
      "  sample_weight=sample_weight)\n",
      "C:\\Users\\Takashi\\Miniconda3\\lib\\site-packages\\sklearn\\metrics\\scorer.py:127: DeprecationWarning: Scoring method log_loss was renamed to neg_log_loss in version 0.18 and will be removed in 0.20.\n",
      "  sample_weight=sample_weight)\n",
      "C:\\Users\\Takashi\\Miniconda3\\lib\\site-packages\\sklearn\\metrics\\scorer.py:127: DeprecationWarning: Scoring method log_loss was renamed to neg_log_loss in version 0.18 and will be removed in 0.20.\n",
      "  sample_weight=sample_weight)\n"
     ]
    },
    {
     "name": "stdout",
     "output_type": "stream",
     "text": [
      "[CV]  max_depth=6, colsample_bytree=0.738762027425, subsample=0.56727784698 -   0.0s\n",
      "[CV] max_depth=6, colsample_bytree=0.738762027425, subsample=0.56727784698 \n",
      "[CV]  max_depth=6, colsample_bytree=0.738762027425, subsample=0.56727784698 -   0.0s\n",
      "[CV] max_depth=6, colsample_bytree=0.738762027425, subsample=0.56727784698 \n",
      "[CV]  max_depth=6, colsample_bytree=0.738762027425, subsample=0.56727784698 -   0.0s\n",
      "[CV] max_depth=6, colsample_bytree=0.738762027425, subsample=0.56727784698 \n"
     ]
    },
    {
     "name": "stderr",
     "output_type": "stream",
     "text": [
      "C:\\Users\\Takashi\\Miniconda3\\lib\\site-packages\\sklearn\\metrics\\scorer.py:127: DeprecationWarning: Scoring method log_loss was renamed to neg_log_loss in version 0.18 and will be removed in 0.20.\n",
      "  sample_weight=sample_weight)\n",
      "C:\\Users\\Takashi\\Miniconda3\\lib\\site-packages\\sklearn\\metrics\\scorer.py:127: DeprecationWarning: Scoring method log_loss was renamed to neg_log_loss in version 0.18 and will be removed in 0.20.\n",
      "  sample_weight=sample_weight)\n",
      "C:\\Users\\Takashi\\Miniconda3\\lib\\site-packages\\sklearn\\metrics\\scorer.py:127: DeprecationWarning: Scoring method log_loss was renamed to neg_log_loss in version 0.18 and will be removed in 0.20.\n",
      "  sample_weight=sample_weight)\n"
     ]
    },
    {
     "name": "stdout",
     "output_type": "stream",
     "text": [
      "[CV]  max_depth=6, colsample_bytree=0.738762027425, subsample=0.56727784698 -   0.0s\n",
      "[CV] max_depth=6, colsample_bytree=0.738762027425, subsample=0.56727784698 \n",
      "[CV]  max_depth=6, colsample_bytree=0.738762027425, subsample=0.56727784698 -   0.0s\n",
      "[CV] max_depth=6, colsample_bytree=0.738762027425, subsample=0.56727784698 \n",
      "[CV]  max_depth=6, colsample_bytree=0.738762027425, subsample=0.56727784698 -   0.0s\n",
      "[CV] max_depth=6, colsample_bytree=0.738762027425, subsample=0.56727784698 \n"
     ]
    },
    {
     "name": "stderr",
     "output_type": "stream",
     "text": [
      "C:\\Users\\Takashi\\Miniconda3\\lib\\site-packages\\sklearn\\metrics\\scorer.py:127: DeprecationWarning: Scoring method log_loss was renamed to neg_log_loss in version 0.18 and will be removed in 0.20.\n",
      "  sample_weight=sample_weight)\n",
      "C:\\Users\\Takashi\\Miniconda3\\lib\\site-packages\\sklearn\\metrics\\scorer.py:127: DeprecationWarning: Scoring method log_loss was renamed to neg_log_loss in version 0.18 and will be removed in 0.20.\n",
      "  sample_weight=sample_weight)\n",
      "C:\\Users\\Takashi\\Miniconda3\\lib\\site-packages\\sklearn\\metrics\\scorer.py:127: DeprecationWarning: Scoring method log_loss was renamed to neg_log_loss in version 0.18 and will be removed in 0.20.\n",
      "  sample_weight=sample_weight)\n"
     ]
    },
    {
     "name": "stdout",
     "output_type": "stream",
     "text": [
      "[CV]  max_depth=6, colsample_bytree=0.738762027425, subsample=0.56727784698 -   0.0s\n",
      "[CV] max_depth=6, colsample_bytree=0.738762027425, subsample=0.56727784698 \n",
      "[CV]  max_depth=6, colsample_bytree=0.738762027425, subsample=0.56727784698 -   0.0s\n",
      "[CV] max_depth=6, colsample_bytree=0.738762027425, subsample=0.56727784698 \n",
      "[CV]  max_depth=6, colsample_bytree=0.738762027425, subsample=0.56727784698 -   0.0s\n",
      "[CV] max_depth=4, colsample_bytree=0.885409944009, subsample=0.818930503812 \n"
     ]
    },
    {
     "name": "stderr",
     "output_type": "stream",
     "text": [
      "C:\\Users\\Takashi\\Miniconda3\\lib\\site-packages\\sklearn\\metrics\\scorer.py:127: DeprecationWarning: Scoring method log_loss was renamed to neg_log_loss in version 0.18 and will be removed in 0.20.\n",
      "  sample_weight=sample_weight)\n",
      "C:\\Users\\Takashi\\Miniconda3\\lib\\site-packages\\sklearn\\metrics\\scorer.py:127: DeprecationWarning: Scoring method log_loss was renamed to neg_log_loss in version 0.18 and will be removed in 0.20.\n",
      "  sample_weight=sample_weight)\n",
      "C:\\Users\\Takashi\\Miniconda3\\lib\\site-packages\\sklearn\\metrics\\scorer.py:127: DeprecationWarning: Scoring method log_loss was renamed to neg_log_loss in version 0.18 and will be removed in 0.20.\n",
      "  sample_weight=sample_weight)\n",
      "C:\\Users\\Takashi\\Miniconda3\\lib\\site-packages\\sklearn\\metrics\\scorer.py:127: DeprecationWarning: Scoring method log_loss was renamed to neg_log_loss in version 0.18 and will be removed in 0.20.\n",
      "  sample_weight=sample_weight)\n"
     ]
    },
    {
     "name": "stdout",
     "output_type": "stream",
     "text": [
      "[CV]  max_depth=4, colsample_bytree=0.885409944009, subsample=0.818930503812 -   0.0s\n",
      "[CV] max_depth=4, colsample_bytree=0.885409944009, subsample=0.818930503812 \n",
      "[CV]  max_depth=4, colsample_bytree=0.885409944009, subsample=0.818930503812 -   0.0s\n",
      "[CV] max_depth=4, colsample_bytree=0.885409944009, subsample=0.818930503812 \n",
      "[CV]  max_depth=4, colsample_bytree=0.885409944009, subsample=0.818930503812 -   0.0s\n",
      "[CV] max_depth=4, colsample_bytree=0.885409944009, subsample=0.818930503812 \n",
      "[CV]  max_depth=4, colsample_bytree=0.885409944009, subsample=0.818930503812 -   0.0s\n",
      "[CV] max_depth=4, colsample_bytree=0.885409944009, subsample=0.818930503812 \n"
     ]
    },
    {
     "name": "stderr",
     "output_type": "stream",
     "text": [
      "C:\\Users\\Takashi\\Miniconda3\\lib\\site-packages\\sklearn\\metrics\\scorer.py:127: DeprecationWarning: Scoring method log_loss was renamed to neg_log_loss in version 0.18 and will be removed in 0.20.\n",
      "  sample_weight=sample_weight)\n",
      "C:\\Users\\Takashi\\Miniconda3\\lib\\site-packages\\sklearn\\metrics\\scorer.py:127: DeprecationWarning: Scoring method log_loss was renamed to neg_log_loss in version 0.18 and will be removed in 0.20.\n",
      "  sample_weight=sample_weight)\n",
      "C:\\Users\\Takashi\\Miniconda3\\lib\\site-packages\\sklearn\\metrics\\scorer.py:127: DeprecationWarning: Scoring method log_loss was renamed to neg_log_loss in version 0.18 and will be removed in 0.20.\n",
      "  sample_weight=sample_weight)\n"
     ]
    },
    {
     "name": "stdout",
     "output_type": "stream",
     "text": [
      "[CV]  max_depth=4, colsample_bytree=0.885409944009, subsample=0.818930503812 -   0.0s\n",
      "[CV] max_depth=4, colsample_bytree=0.885409944009, subsample=0.818930503812 \n",
      "[CV]  max_depth=4, colsample_bytree=0.885409944009, subsample=0.818930503812 -   0.0s\n",
      "[CV] max_depth=4, colsample_bytree=0.885409944009, subsample=0.818930503812 \n",
      "[CV]  max_depth=4, colsample_bytree=0.885409944009, subsample=0.818930503812 -   0.0s\n",
      "[CV] max_depth=4, colsample_bytree=0.885409944009, subsample=0.818930503812 \n"
     ]
    },
    {
     "name": "stderr",
     "output_type": "stream",
     "text": [
      "C:\\Users\\Takashi\\Miniconda3\\lib\\site-packages\\sklearn\\metrics\\scorer.py:127: DeprecationWarning: Scoring method log_loss was renamed to neg_log_loss in version 0.18 and will be removed in 0.20.\n",
      "  sample_weight=sample_weight)\n",
      "C:\\Users\\Takashi\\Miniconda3\\lib\\site-packages\\sklearn\\metrics\\scorer.py:127: DeprecationWarning: Scoring method log_loss was renamed to neg_log_loss in version 0.18 and will be removed in 0.20.\n",
      "  sample_weight=sample_weight)\n",
      "C:\\Users\\Takashi\\Miniconda3\\lib\\site-packages\\sklearn\\metrics\\scorer.py:127: DeprecationWarning: Scoring method log_loss was renamed to neg_log_loss in version 0.18 and will be removed in 0.20.\n",
      "  sample_weight=sample_weight)\n"
     ]
    },
    {
     "name": "stdout",
     "output_type": "stream",
     "text": [
      "[CV]  max_depth=4, colsample_bytree=0.885409944009, subsample=0.818930503812 -   0.0s\n",
      "[CV] max_depth=4, colsample_bytree=0.885409944009, subsample=0.818930503812 \n",
      "[CV]  max_depth=4, colsample_bytree=0.885409944009, subsample=0.818930503812 -   0.0s\n",
      "[CV] max_depth=4, colsample_bytree=0.885409944009, subsample=0.818930503812 \n",
      "[CV]  max_depth=4, colsample_bytree=0.885409944009, subsample=0.818930503812 -   0.0s\n",
      "[CV] max_depth=7, colsample_bytree=0.768432020805, subsample=0.944217828341 \n"
     ]
    },
    {
     "name": "stderr",
     "output_type": "stream",
     "text": [
      "C:\\Users\\Takashi\\Miniconda3\\lib\\site-packages\\sklearn\\metrics\\scorer.py:127: DeprecationWarning: Scoring method log_loss was renamed to neg_log_loss in version 0.18 and will be removed in 0.20.\n",
      "  sample_weight=sample_weight)\n",
      "C:\\Users\\Takashi\\Miniconda3\\lib\\site-packages\\sklearn\\metrics\\scorer.py:127: DeprecationWarning: Scoring method log_loss was renamed to neg_log_loss in version 0.18 and will be removed in 0.20.\n",
      "  sample_weight=sample_weight)\n"
     ]
    },
    {
     "name": "stdout",
     "output_type": "stream",
     "text": [
      "[CV]  max_depth=7, colsample_bytree=0.768432020805, subsample=0.944217828341 -   0.0s\n",
      "[CV] max_depth=7, colsample_bytree=0.768432020805, subsample=0.944217828341 \n",
      "[CV]  max_depth=7, colsample_bytree=0.768432020805, subsample=0.944217828341 -   0.0s\n",
      "[CV] max_depth=7, colsample_bytree=0.768432020805, subsample=0.944217828341 \n"
     ]
    },
    {
     "name": "stderr",
     "output_type": "stream",
     "text": [
      "C:\\Users\\Takashi\\Miniconda3\\lib\\site-packages\\sklearn\\metrics\\scorer.py:127: DeprecationWarning: Scoring method log_loss was renamed to neg_log_loss in version 0.18 and will be removed in 0.20.\n",
      "  sample_weight=sample_weight)\n",
      "C:\\Users\\Takashi\\Miniconda3\\lib\\site-packages\\sklearn\\metrics\\scorer.py:127: DeprecationWarning: Scoring method log_loss was renamed to neg_log_loss in version 0.18 and will be removed in 0.20.\n",
      "  sample_weight=sample_weight)\n"
     ]
    },
    {
     "name": "stdout",
     "output_type": "stream",
     "text": [
      "[CV]  max_depth=7, colsample_bytree=0.768432020805, subsample=0.944217828341 -   0.0s\n",
      "[CV] max_depth=7, colsample_bytree=0.768432020805, subsample=0.944217828341 \n",
      "[CV]  max_depth=7, colsample_bytree=0.768432020805, subsample=0.944217828341 -   0.0s\n",
      "[CV] max_depth=7, colsample_bytree=0.768432020805, subsample=0.944217828341 \n"
     ]
    },
    {
     "name": "stderr",
     "output_type": "stream",
     "text": [
      "C:\\Users\\Takashi\\Miniconda3\\lib\\site-packages\\sklearn\\metrics\\scorer.py:127: DeprecationWarning: Scoring method log_loss was renamed to neg_log_loss in version 0.18 and will be removed in 0.20.\n",
      "  sample_weight=sample_weight)\n",
      "C:\\Users\\Takashi\\Miniconda3\\lib\\site-packages\\sklearn\\metrics\\scorer.py:127: DeprecationWarning: Scoring method log_loss was renamed to neg_log_loss in version 0.18 and will be removed in 0.20.\n",
      "  sample_weight=sample_weight)\n"
     ]
    },
    {
     "name": "stdout",
     "output_type": "stream",
     "text": [
      "[CV]  max_depth=7, colsample_bytree=0.768432020805, subsample=0.944217828341 -   0.0s\n",
      "[CV] max_depth=7, colsample_bytree=0.768432020805, subsample=0.944217828341 \n",
      "[CV]  max_depth=7, colsample_bytree=0.768432020805, subsample=0.944217828341 -   0.0s\n",
      "[CV] max_depth=7, colsample_bytree=0.768432020805, subsample=0.944217828341 \n"
     ]
    },
    {
     "name": "stderr",
     "output_type": "stream",
     "text": [
      "C:\\Users\\Takashi\\Miniconda3\\lib\\site-packages\\sklearn\\metrics\\scorer.py:127: DeprecationWarning: Scoring method log_loss was renamed to neg_log_loss in version 0.18 and will be removed in 0.20.\n",
      "  sample_weight=sample_weight)\n",
      "C:\\Users\\Takashi\\Miniconda3\\lib\\site-packages\\sklearn\\metrics\\scorer.py:127: DeprecationWarning: Scoring method log_loss was renamed to neg_log_loss in version 0.18 and will be removed in 0.20.\n",
      "  sample_weight=sample_weight)\n",
      "C:\\Users\\Takashi\\Miniconda3\\lib\\site-packages\\sklearn\\metrics\\scorer.py:127: DeprecationWarning: Scoring method log_loss was renamed to neg_log_loss in version 0.18 and will be removed in 0.20.\n",
      "  sample_weight=sample_weight)\n"
     ]
    },
    {
     "name": "stdout",
     "output_type": "stream",
     "text": [
      "[CV]  max_depth=7, colsample_bytree=0.768432020805, subsample=0.944217828341 -   0.0s\n",
      "[CV] max_depth=7, colsample_bytree=0.768432020805, subsample=0.944217828341 \n",
      "[CV]  max_depth=7, colsample_bytree=0.768432020805, subsample=0.944217828341 -   0.0s\n",
      "[CV] max_depth=7, colsample_bytree=0.768432020805, subsample=0.944217828341 \n",
      "[CV]  max_depth=7, colsample_bytree=0.768432020805, subsample=0.944217828341 -   0.0s\n",
      "[CV] max_depth=7, colsample_bytree=0.768432020805, subsample=0.944217828341 \n"
     ]
    },
    {
     "name": "stderr",
     "output_type": "stream",
     "text": [
      "C:\\Users\\Takashi\\Miniconda3\\lib\\site-packages\\sklearn\\metrics\\scorer.py:127: DeprecationWarning: Scoring method log_loss was renamed to neg_log_loss in version 0.18 and will be removed in 0.20.\n",
      "  sample_weight=sample_weight)\n",
      "C:\\Users\\Takashi\\Miniconda3\\lib\\site-packages\\sklearn\\metrics\\scorer.py:127: DeprecationWarning: Scoring method log_loss was renamed to neg_log_loss in version 0.18 and will be removed in 0.20.\n",
      "  sample_weight=sample_weight)\n",
      "C:\\Users\\Takashi\\Miniconda3\\lib\\site-packages\\sklearn\\metrics\\scorer.py:127: DeprecationWarning: Scoring method log_loss was renamed to neg_log_loss in version 0.18 and will be removed in 0.20.\n",
      "  sample_weight=sample_weight)\n"
     ]
    },
    {
     "name": "stdout",
     "output_type": "stream",
     "text": [
      "[CV]  max_depth=7, colsample_bytree=0.768432020805, subsample=0.944217828341 -   0.0s\n",
      "[CV] max_depth=8, colsample_bytree=0.542644575504, subsample=0.829360208131 \n",
      "[CV]  max_depth=8, colsample_bytree=0.542644575504, subsample=0.829360208131 -   0.0s\n",
      "[CV] max_depth=8, colsample_bytree=0.542644575504, subsample=0.829360208131 \n",
      "[CV]  max_depth=8, colsample_bytree=0.542644575504, subsample=0.829360208131 -   0.0s\n",
      "[CV] max_depth=8, colsample_bytree=0.542644575504, subsample=0.829360208131 \n"
     ]
    },
    {
     "name": "stderr",
     "output_type": "stream",
     "text": [
      "C:\\Users\\Takashi\\Miniconda3\\lib\\site-packages\\sklearn\\metrics\\scorer.py:127: DeprecationWarning: Scoring method log_loss was renamed to neg_log_loss in version 0.18 and will be removed in 0.20.\n",
      "  sample_weight=sample_weight)\n",
      "C:\\Users\\Takashi\\Miniconda3\\lib\\site-packages\\sklearn\\metrics\\scorer.py:127: DeprecationWarning: Scoring method log_loss was renamed to neg_log_loss in version 0.18 and will be removed in 0.20.\n",
      "  sample_weight=sample_weight)\n",
      "C:\\Users\\Takashi\\Miniconda3\\lib\\site-packages\\sklearn\\metrics\\scorer.py:127: DeprecationWarning: Scoring method log_loss was renamed to neg_log_loss in version 0.18 and will be removed in 0.20.\n",
      "  sample_weight=sample_weight)\n"
     ]
    },
    {
     "name": "stdout",
     "output_type": "stream",
     "text": [
      "[CV]  max_depth=8, colsample_bytree=0.542644575504, subsample=0.829360208131 -   0.0s\n",
      "[CV] max_depth=8, colsample_bytree=0.542644575504, subsample=0.829360208131 \n",
      "[CV]  max_depth=8, colsample_bytree=0.542644575504, subsample=0.829360208131 -   0.0s\n",
      "[CV] max_depth=8, colsample_bytree=0.542644575504, subsample=0.829360208131 \n",
      "[CV]  max_depth=8, colsample_bytree=0.542644575504, subsample=0.829360208131 -   0.0s\n",
      "[CV] max_depth=8, colsample_bytree=0.542644575504, subsample=0.829360208131 \n"
     ]
    },
    {
     "name": "stderr",
     "output_type": "stream",
     "text": [
      "C:\\Users\\Takashi\\Miniconda3\\lib\\site-packages\\sklearn\\metrics\\scorer.py:127: DeprecationWarning: Scoring method log_loss was renamed to neg_log_loss in version 0.18 and will be removed in 0.20.\n",
      "  sample_weight=sample_weight)\n",
      "C:\\Users\\Takashi\\Miniconda3\\lib\\site-packages\\sklearn\\metrics\\scorer.py:127: DeprecationWarning: Scoring method log_loss was renamed to neg_log_loss in version 0.18 and will be removed in 0.20.\n",
      "  sample_weight=sample_weight)\n",
      "C:\\Users\\Takashi\\Miniconda3\\lib\\site-packages\\sklearn\\metrics\\scorer.py:127: DeprecationWarning: Scoring method log_loss was renamed to neg_log_loss in version 0.18 and will be removed in 0.20.\n",
      "  sample_weight=sample_weight)\n"
     ]
    },
    {
     "name": "stdout",
     "output_type": "stream",
     "text": [
      "[CV]  max_depth=8, colsample_bytree=0.542644575504, subsample=0.829360208131 -   0.0s\n",
      "[CV] max_depth=8, colsample_bytree=0.542644575504, subsample=0.829360208131 \n",
      "[CV]  max_depth=8, colsample_bytree=0.542644575504, subsample=0.829360208131 -   0.0s\n",
      "[CV] max_depth=8, colsample_bytree=0.542644575504, subsample=0.829360208131 \n",
      "[CV]  max_depth=8, colsample_bytree=0.542644575504, subsample=0.829360208131 -   0.0s\n",
      "[CV] max_depth=8, colsample_bytree=0.542644575504, subsample=0.829360208131 \n"
     ]
    },
    {
     "name": "stderr",
     "output_type": "stream",
     "text": [
      "C:\\Users\\Takashi\\Miniconda3\\lib\\site-packages\\sklearn\\metrics\\scorer.py:127: DeprecationWarning: Scoring method log_loss was renamed to neg_log_loss in version 0.18 and will be removed in 0.20.\n",
      "  sample_weight=sample_weight)\n",
      "C:\\Users\\Takashi\\Miniconda3\\lib\\site-packages\\sklearn\\metrics\\scorer.py:127: DeprecationWarning: Scoring method log_loss was renamed to neg_log_loss in version 0.18 and will be removed in 0.20.\n",
      "  sample_weight=sample_weight)\n",
      "C:\\Users\\Takashi\\Miniconda3\\lib\\site-packages\\sklearn\\metrics\\scorer.py:127: DeprecationWarning: Scoring method log_loss was renamed to neg_log_loss in version 0.18 and will be removed in 0.20.\n",
      "  sample_weight=sample_weight)\n"
     ]
    },
    {
     "name": "stdout",
     "output_type": "stream",
     "text": [
      "[CV]  max_depth=8, colsample_bytree=0.542644575504, subsample=0.829360208131 -   0.0s\n",
      "[CV] max_depth=8, colsample_bytree=0.542644575504, subsample=0.829360208131 \n",
      "[CV]  max_depth=8, colsample_bytree=0.542644575504, subsample=0.829360208131 -   0.0s\n",
      "[CV] max_depth=6, colsample_bytree=0.74767061883, subsample=0.833878660749 \n",
      "[CV]  max_depth=6, colsample_bytree=0.74767061883, subsample=0.833878660749 -   0.0s\n",
      "[CV] max_depth=6, colsample_bytree=0.74767061883, subsample=0.833878660749 \n"
     ]
    },
    {
     "name": "stderr",
     "output_type": "stream",
     "text": [
      "C:\\Users\\Takashi\\Miniconda3\\lib\\site-packages\\sklearn\\metrics\\scorer.py:127: DeprecationWarning: Scoring method log_loss was renamed to neg_log_loss in version 0.18 and will be removed in 0.20.\n",
      "  sample_weight=sample_weight)\n",
      "C:\\Users\\Takashi\\Miniconda3\\lib\\site-packages\\sklearn\\metrics\\scorer.py:127: DeprecationWarning: Scoring method log_loss was renamed to neg_log_loss in version 0.18 and will be removed in 0.20.\n",
      "  sample_weight=sample_weight)\n",
      "C:\\Users\\Takashi\\Miniconda3\\lib\\site-packages\\sklearn\\metrics\\scorer.py:127: DeprecationWarning: Scoring method log_loss was renamed to neg_log_loss in version 0.18 and will be removed in 0.20.\n",
      "  sample_weight=sample_weight)\n"
     ]
    },
    {
     "name": "stdout",
     "output_type": "stream",
     "text": [
      "[CV]  max_depth=6, colsample_bytree=0.74767061883, subsample=0.833878660749 -   0.0s\n",
      "[CV] max_depth=6, colsample_bytree=0.74767061883, subsample=0.833878660749 \n",
      "[CV]  max_depth=6, colsample_bytree=0.74767061883, subsample=0.833878660749 -   0.0s\n",
      "[CV] max_depth=6, colsample_bytree=0.74767061883, subsample=0.833878660749 \n",
      "[CV]  max_depth=6, colsample_bytree=0.74767061883, subsample=0.833878660749 -   0.0s\n",
      "[CV] max_depth=6, colsample_bytree=0.74767061883, subsample=0.833878660749 \n"
     ]
    },
    {
     "name": "stderr",
     "output_type": "stream",
     "text": [
      "C:\\Users\\Takashi\\Miniconda3\\lib\\site-packages\\sklearn\\metrics\\scorer.py:127: DeprecationWarning: Scoring method log_loss was renamed to neg_log_loss in version 0.18 and will be removed in 0.20.\n",
      "  sample_weight=sample_weight)\n",
      "C:\\Users\\Takashi\\Miniconda3\\lib\\site-packages\\sklearn\\metrics\\scorer.py:127: DeprecationWarning: Scoring method log_loss was renamed to neg_log_loss in version 0.18 and will be removed in 0.20.\n",
      "  sample_weight=sample_weight)\n",
      "C:\\Users\\Takashi\\Miniconda3\\lib\\site-packages\\sklearn\\metrics\\scorer.py:127: DeprecationWarning: Scoring method log_loss was renamed to neg_log_loss in version 0.18 and will be removed in 0.20.\n",
      "  sample_weight=sample_weight)\n"
     ]
    },
    {
     "name": "stdout",
     "output_type": "stream",
     "text": [
      "[CV]  max_depth=6, colsample_bytree=0.74767061883, subsample=0.833878660749 -   0.0s\n",
      "[CV] max_depth=6, colsample_bytree=0.74767061883, subsample=0.833878660749 \n",
      "[CV]  max_depth=6, colsample_bytree=0.74767061883, subsample=0.833878660749 -   0.0s\n",
      "[CV] max_depth=6, colsample_bytree=0.74767061883, subsample=0.833878660749 \n",
      "[CV]  max_depth=6, colsample_bytree=0.74767061883, subsample=0.833878660749 -   0.0s\n",
      "[CV] max_depth=6, colsample_bytree=0.74767061883, subsample=0.833878660749 \n"
     ]
    },
    {
     "name": "stderr",
     "output_type": "stream",
     "text": [
      "C:\\Users\\Takashi\\Miniconda3\\lib\\site-packages\\sklearn\\metrics\\scorer.py:127: DeprecationWarning: Scoring method log_loss was renamed to neg_log_loss in version 0.18 and will be removed in 0.20.\n",
      "  sample_weight=sample_weight)\n",
      "C:\\Users\\Takashi\\Miniconda3\\lib\\site-packages\\sklearn\\metrics\\scorer.py:127: DeprecationWarning: Scoring method log_loss was renamed to neg_log_loss in version 0.18 and will be removed in 0.20.\n",
      "  sample_weight=sample_weight)\n",
      "C:\\Users\\Takashi\\Miniconda3\\lib\\site-packages\\sklearn\\metrics\\scorer.py:127: DeprecationWarning: Scoring method log_loss was renamed to neg_log_loss in version 0.18 and will be removed in 0.20.\n",
      "  sample_weight=sample_weight)\n"
     ]
    },
    {
     "name": "stdout",
     "output_type": "stream",
     "text": [
      "[CV]  max_depth=6, colsample_bytree=0.74767061883, subsample=0.833878660749 -   0.0s\n",
      "[CV] max_depth=6, colsample_bytree=0.74767061883, subsample=0.833878660749 \n",
      "[CV]  max_depth=6, colsample_bytree=0.74767061883, subsample=0.833878660749 -   0.0s\n",
      "[CV] max_depth=6, colsample_bytree=0.74767061883, subsample=0.833878660749 \n",
      "[CV]  max_depth=6, colsample_bytree=0.74767061883, subsample=0.833878660749 -   0.0s\n",
      "[CV] max_depth=2, colsample_bytree=0.778167901218, subsample=0.790961632585 \n"
     ]
    },
    {
     "name": "stderr",
     "output_type": "stream",
     "text": [
      "C:\\Users\\Takashi\\Miniconda3\\lib\\site-packages\\sklearn\\metrics\\scorer.py:127: DeprecationWarning: Scoring method log_loss was renamed to neg_log_loss in version 0.18 and will be removed in 0.20.\n",
      "  sample_weight=sample_weight)\n",
      "C:\\Users\\Takashi\\Miniconda3\\lib\\site-packages\\sklearn\\metrics\\scorer.py:127: DeprecationWarning: Scoring method log_loss was renamed to neg_log_loss in version 0.18 and will be removed in 0.20.\n",
      "  sample_weight=sample_weight)\n",
      "C:\\Users\\Takashi\\Miniconda3\\lib\\site-packages\\sklearn\\metrics\\scorer.py:127: DeprecationWarning: Scoring method log_loss was renamed to neg_log_loss in version 0.18 and will be removed in 0.20.\n",
      "  sample_weight=sample_weight)\n",
      "C:\\Users\\Takashi\\Miniconda3\\lib\\site-packages\\sklearn\\metrics\\scorer.py:127: DeprecationWarning: Scoring method log_loss was renamed to neg_log_loss in version 0.18 and will be removed in 0.20.\n",
      "  sample_weight=sample_weight)\n",
      "C:\\Users\\Takashi\\Miniconda3\\lib\\site-packages\\sklearn\\metrics\\scorer.py:127: DeprecationWarning: Scoring method log_loss was renamed to neg_log_loss in version 0.18 and will be removed in 0.20.\n",
      "  sample_weight=sample_weight)\n"
     ]
    },
    {
     "name": "stdout",
     "output_type": "stream",
     "text": [
      "[CV]  max_depth=2, colsample_bytree=0.778167901218, subsample=0.790961632585 -   0.0s\n",
      "[CV] max_depth=2, colsample_bytree=0.778167901218, subsample=0.790961632585 \n",
      "[CV]  max_depth=2, colsample_bytree=0.778167901218, subsample=0.790961632585 -   0.0s\n",
      "[CV] max_depth=2, colsample_bytree=0.778167901218, subsample=0.790961632585 \n",
      "[CV]  max_depth=2, colsample_bytree=0.778167901218, subsample=0.790961632585 -   0.0s\n",
      "[CV] max_depth=2, colsample_bytree=0.778167901218, subsample=0.790961632585 \n",
      "[CV]  max_depth=2, colsample_bytree=0.778167901218, subsample=0.790961632585 -   0.0s\n",
      "[CV] max_depth=2, colsample_bytree=0.778167901218, subsample=0.790961632585 \n",
      "[CV]  max_depth=2, colsample_bytree=0.778167901218, subsample=0.790961632585 -   0.0s\n",
      "[CV] max_depth=2, colsample_bytree=0.778167901218, subsample=0.790961632585 \n"
     ]
    },
    {
     "name": "stderr",
     "output_type": "stream",
     "text": [
      "C:\\Users\\Takashi\\Miniconda3\\lib\\site-packages\\sklearn\\metrics\\scorer.py:127: DeprecationWarning: Scoring method log_loss was renamed to neg_log_loss in version 0.18 and will be removed in 0.20.\n",
      "  sample_weight=sample_weight)\n",
      "C:\\Users\\Takashi\\Miniconda3\\lib\\site-packages\\sklearn\\metrics\\scorer.py:127: DeprecationWarning: Scoring method log_loss was renamed to neg_log_loss in version 0.18 and will be removed in 0.20.\n",
      "  sample_weight=sample_weight)\n",
      "C:\\Users\\Takashi\\Miniconda3\\lib\\site-packages\\sklearn\\metrics\\scorer.py:127: DeprecationWarning: Scoring method log_loss was renamed to neg_log_loss in version 0.18 and will be removed in 0.20.\n",
      "  sample_weight=sample_weight)\n",
      "C:\\Users\\Takashi\\Miniconda3\\lib\\site-packages\\sklearn\\metrics\\scorer.py:127: DeprecationWarning: Scoring method log_loss was renamed to neg_log_loss in version 0.18 and will be removed in 0.20.\n",
      "  sample_weight=sample_weight)\n",
      "C:\\Users\\Takashi\\Miniconda3\\lib\\site-packages\\sklearn\\metrics\\scorer.py:127: DeprecationWarning: Scoring method log_loss was renamed to neg_log_loss in version 0.18 and will be removed in 0.20.\n",
      "  sample_weight=sample_weight)\n"
     ]
    },
    {
     "name": "stdout",
     "output_type": "stream",
     "text": [
      "[CV]  max_depth=2, colsample_bytree=0.778167901218, subsample=0.790961632585 -   0.0s\n",
      "[CV] max_depth=2, colsample_bytree=0.778167901218, subsample=0.790961632585 \n",
      "[CV]  max_depth=2, colsample_bytree=0.778167901218, subsample=0.790961632585 -   0.0s\n",
      "[CV] max_depth=2, colsample_bytree=0.778167901218, subsample=0.790961632585 \n",
      "[CV]  max_depth=2, colsample_bytree=0.778167901218, subsample=0.790961632585 -   0.0s\n",
      "[CV] max_depth=2, colsample_bytree=0.778167901218, subsample=0.790961632585 \n",
      "[CV]  max_depth=2, colsample_bytree=0.778167901218, subsample=0.790961632585 -   0.0s\n",
      "[CV] max_depth=2, colsample_bytree=0.778167901218, subsample=0.790961632585 \n",
      "[CV]  max_depth=2, colsample_bytree=0.778167901218, subsample=0.790961632585 -   0.0s\n",
      "[CV] max_depth=7, colsample_bytree=0.865186878633, subsample=0.904672236841 \n"
     ]
    },
    {
     "name": "stderr",
     "output_type": "stream",
     "text": [
      "C:\\Users\\Takashi\\Miniconda3\\lib\\site-packages\\sklearn\\metrics\\scorer.py:127: DeprecationWarning: Scoring method log_loss was renamed to neg_log_loss in version 0.18 and will be removed in 0.20.\n",
      "  sample_weight=sample_weight)\n",
      "C:\\Users\\Takashi\\Miniconda3\\lib\\site-packages\\sklearn\\metrics\\scorer.py:127: DeprecationWarning: Scoring method log_loss was renamed to neg_log_loss in version 0.18 and will be removed in 0.20.\n",
      "  sample_weight=sample_weight)\n"
     ]
    },
    {
     "name": "stdout",
     "output_type": "stream",
     "text": [
      "[CV]  max_depth=7, colsample_bytree=0.865186878633, subsample=0.904672236841 -   0.0s\n",
      "[CV] max_depth=7, colsample_bytree=0.865186878633, subsample=0.904672236841 \n",
      "[CV]  max_depth=7, colsample_bytree=0.865186878633, subsample=0.904672236841 -   0.0s\n",
      "[CV] max_depth=7, colsample_bytree=0.865186878633, subsample=0.904672236841 \n"
     ]
    },
    {
     "name": "stderr",
     "output_type": "stream",
     "text": [
      "C:\\Users\\Takashi\\Miniconda3\\lib\\site-packages\\sklearn\\metrics\\scorer.py:127: DeprecationWarning: Scoring method log_loss was renamed to neg_log_loss in version 0.18 and will be removed in 0.20.\n",
      "  sample_weight=sample_weight)\n",
      "C:\\Users\\Takashi\\Miniconda3\\lib\\site-packages\\sklearn\\metrics\\scorer.py:127: DeprecationWarning: Scoring method log_loss was renamed to neg_log_loss in version 0.18 and will be removed in 0.20.\n",
      "  sample_weight=sample_weight)\n"
     ]
    },
    {
     "name": "stdout",
     "output_type": "stream",
     "text": [
      "[CV]  max_depth=7, colsample_bytree=0.865186878633, subsample=0.904672236841 -   0.0s\n",
      "[CV] max_depth=7, colsample_bytree=0.865186878633, subsample=0.904672236841 \n",
      "[CV]  max_depth=7, colsample_bytree=0.865186878633, subsample=0.904672236841 -   0.0s\n",
      "[CV] max_depth=7, colsample_bytree=0.865186878633, subsample=0.904672236841 \n"
     ]
    },
    {
     "name": "stderr",
     "output_type": "stream",
     "text": [
      "C:\\Users\\Takashi\\Miniconda3\\lib\\site-packages\\sklearn\\metrics\\scorer.py:127: DeprecationWarning: Scoring method log_loss was renamed to neg_log_loss in version 0.18 and will be removed in 0.20.\n",
      "  sample_weight=sample_weight)\n",
      "C:\\Users\\Takashi\\Miniconda3\\lib\\site-packages\\sklearn\\metrics\\scorer.py:127: DeprecationWarning: Scoring method log_loss was renamed to neg_log_loss in version 0.18 and will be removed in 0.20.\n",
      "  sample_weight=sample_weight)\n",
      "C:\\Users\\Takashi\\Miniconda3\\lib\\site-packages\\sklearn\\metrics\\scorer.py:127: DeprecationWarning: Scoring method log_loss was renamed to neg_log_loss in version 0.18 and will be removed in 0.20.\n",
      "  sample_weight=sample_weight)\n"
     ]
    },
    {
     "name": "stdout",
     "output_type": "stream",
     "text": [
      "[CV]  max_depth=7, colsample_bytree=0.865186878633, subsample=0.904672236841 -   0.0s\n",
      "[CV] max_depth=7, colsample_bytree=0.865186878633, subsample=0.904672236841 \n",
      "[CV]  max_depth=7, colsample_bytree=0.865186878633, subsample=0.904672236841 -   0.0s\n",
      "[CV] max_depth=7, colsample_bytree=0.865186878633, subsample=0.904672236841 \n",
      "[CV]  max_depth=7, colsample_bytree=0.865186878633, subsample=0.904672236841 -   0.0s\n",
      "[CV] max_depth=7, colsample_bytree=0.865186878633, subsample=0.904672236841 \n"
     ]
    },
    {
     "name": "stderr",
     "output_type": "stream",
     "text": [
      "C:\\Users\\Takashi\\Miniconda3\\lib\\site-packages\\sklearn\\metrics\\scorer.py:127: DeprecationWarning: Scoring method log_loss was renamed to neg_log_loss in version 0.18 and will be removed in 0.20.\n",
      "  sample_weight=sample_weight)\n",
      "C:\\Users\\Takashi\\Miniconda3\\lib\\site-packages\\sklearn\\metrics\\scorer.py:127: DeprecationWarning: Scoring method log_loss was renamed to neg_log_loss in version 0.18 and will be removed in 0.20.\n",
      "  sample_weight=sample_weight)\n",
      "C:\\Users\\Takashi\\Miniconda3\\lib\\site-packages\\sklearn\\metrics\\scorer.py:127: DeprecationWarning: Scoring method log_loss was renamed to neg_log_loss in version 0.18 and will be removed in 0.20.\n",
      "  sample_weight=sample_weight)\n"
     ]
    },
    {
     "name": "stdout",
     "output_type": "stream",
     "text": [
      "[CV]  max_depth=7, colsample_bytree=0.865186878633, subsample=0.904672236841 -   0.0s\n",
      "[CV] max_depth=7, colsample_bytree=0.865186878633, subsample=0.904672236841 \n",
      "[CV]  max_depth=7, colsample_bytree=0.865186878633, subsample=0.904672236841 -   0.0s\n",
      "[CV] max_depth=7, colsample_bytree=0.865186878633, subsample=0.904672236841 \n",
      "[CV]  max_depth=7, colsample_bytree=0.865186878633, subsample=0.904672236841 -   0.0s\n",
      "[CV] max_depth=1, colsample_bytree=0.629607183043, subsample=0.616300156423 \n"
     ]
    },
    {
     "name": "stderr",
     "output_type": "stream",
     "text": [
      "C:\\Users\\Takashi\\Miniconda3\\lib\\site-packages\\sklearn\\metrics\\scorer.py:127: DeprecationWarning: Scoring method log_loss was renamed to neg_log_loss in version 0.18 and will be removed in 0.20.\n",
      "  sample_weight=sample_weight)\n",
      "C:\\Users\\Takashi\\Miniconda3\\lib\\site-packages\\sklearn\\metrics\\scorer.py:127: DeprecationWarning: Scoring method log_loss was renamed to neg_log_loss in version 0.18 and will be removed in 0.20.\n",
      "  sample_weight=sample_weight)\n",
      "C:\\Users\\Takashi\\Miniconda3\\lib\\site-packages\\sklearn\\metrics\\scorer.py:127: DeprecationWarning: Scoring method log_loss was renamed to neg_log_loss in version 0.18 and will be removed in 0.20.\n",
      "  sample_weight=sample_weight)\n",
      "C:\\Users\\Takashi\\Miniconda3\\lib\\site-packages\\sklearn\\metrics\\scorer.py:127: DeprecationWarning: Scoring method log_loss was renamed to neg_log_loss in version 0.18 and will be removed in 0.20.\n",
      "  sample_weight=sample_weight)\n",
      "C:\\Users\\Takashi\\Miniconda3\\lib\\site-packages\\sklearn\\metrics\\scorer.py:127: DeprecationWarning: Scoring method log_loss was renamed to neg_log_loss in version 0.18 and will be removed in 0.20.\n",
      "  sample_weight=sample_weight)\n",
      "C:\\Users\\Takashi\\Miniconda3\\lib\\site-packages\\sklearn\\metrics\\scorer.py:127: DeprecationWarning: Scoring method log_loss was renamed to neg_log_loss in version 0.18 and will be removed in 0.20.\n",
      "  sample_weight=sample_weight)\n",
      "C:\\Users\\Takashi\\Miniconda3\\lib\\site-packages\\sklearn\\metrics\\scorer.py:127: DeprecationWarning: Scoring method log_loss was renamed to neg_log_loss in version 0.18 and will be removed in 0.20.\n",
      "  sample_weight=sample_weight)\n",
      "C:\\Users\\Takashi\\Miniconda3\\lib\\site-packages\\sklearn\\metrics\\scorer.py:127: DeprecationWarning: Scoring method log_loss was renamed to neg_log_loss in version 0.18 and will be removed in 0.20.\n",
      "  sample_weight=sample_weight)\n"
     ]
    },
    {
     "name": "stdout",
     "output_type": "stream",
     "text": [
      "[CV]  max_depth=1, colsample_bytree=0.629607183043, subsample=0.616300156423 -   0.0s\n",
      "[CV] max_depth=1, colsample_bytree=0.629607183043, subsample=0.616300156423 \n",
      "[CV]  max_depth=1, colsample_bytree=0.629607183043, subsample=0.616300156423 -   0.0s\n",
      "[CV] max_depth=1, colsample_bytree=0.629607183043, subsample=0.616300156423 \n",
      "[CV]  max_depth=1, colsample_bytree=0.629607183043, subsample=0.616300156423 -   0.0s\n",
      "[CV] max_depth=1, colsample_bytree=0.629607183043, subsample=0.616300156423 \n",
      "[CV]  max_depth=1, colsample_bytree=0.629607183043, subsample=0.616300156423 -   0.0s\n",
      "[CV] max_depth=1, colsample_bytree=0.629607183043, subsample=0.616300156423 \n",
      "[CV]  max_depth=1, colsample_bytree=0.629607183043, subsample=0.616300156423 -   0.0s\n",
      "[CV] max_depth=1, colsample_bytree=0.629607183043, subsample=0.616300156423 \n",
      "[CV]  max_depth=1, colsample_bytree=0.629607183043, subsample=0.616300156423 -   0.0s\n",
      "[CV] max_depth=1, colsample_bytree=0.629607183043, subsample=0.616300156423 \n",
      "[CV]  max_depth=1, colsample_bytree=0.629607183043, subsample=0.616300156423 -   0.0s\n",
      "[CV] max_depth=1, colsample_bytree=0.629607183043, subsample=0.616300156423 \n",
      "[CV]  max_depth=1, colsample_bytree=0.629607183043, subsample=0.616300156423 -   0.0s\n",
      "[CV] max_depth=1, colsample_bytree=0.629607183043, subsample=0.616300156423 \n"
     ]
    },
    {
     "name": "stderr",
     "output_type": "stream",
     "text": [
      "C:\\Users\\Takashi\\Miniconda3\\lib\\site-packages\\sklearn\\metrics\\scorer.py:127: DeprecationWarning: Scoring method log_loss was renamed to neg_log_loss in version 0.18 and will be removed in 0.20.\n",
      "  sample_weight=sample_weight)\n",
      "C:\\Users\\Takashi\\Miniconda3\\lib\\site-packages\\sklearn\\metrics\\scorer.py:127: DeprecationWarning: Scoring method log_loss was renamed to neg_log_loss in version 0.18 and will be removed in 0.20.\n",
      "  sample_weight=sample_weight)\n",
      "C:\\Users\\Takashi\\Miniconda3\\lib\\site-packages\\sklearn\\metrics\\scorer.py:127: DeprecationWarning: Scoring method log_loss was renamed to neg_log_loss in version 0.18 and will be removed in 0.20.\n",
      "  sample_weight=sample_weight)\n",
      "C:\\Users\\Takashi\\Miniconda3\\lib\\site-packages\\sklearn\\metrics\\scorer.py:127: DeprecationWarning: Scoring method log_loss was renamed to neg_log_loss in version 0.18 and will be removed in 0.20.\n",
      "  sample_weight=sample_weight)\n"
     ]
    },
    {
     "name": "stdout",
     "output_type": "stream",
     "text": [
      "[CV]  max_depth=1, colsample_bytree=0.629607183043, subsample=0.616300156423 -   0.0s\n",
      "[CV] max_depth=1, colsample_bytree=0.629607183043, subsample=0.616300156423 \n",
      "[CV]  max_depth=1, colsample_bytree=0.629607183043, subsample=0.616300156423 -   0.0s\n",
      "[CV] max_depth=5, colsample_bytree=0.521181275858, subsample=0.736050603789 \n",
      "[CV]  max_depth=5, colsample_bytree=0.521181275858, subsample=0.736050603789 -   0.0s\n",
      "[CV] max_depth=5, colsample_bytree=0.521181275858, subsample=0.736050603789 \n",
      "[CV]  max_depth=5, colsample_bytree=0.521181275858, subsample=0.736050603789 -   0.0s\n",
      "[CV] max_depth=5, colsample_bytree=0.521181275858, subsample=0.736050603789 \n"
     ]
    },
    {
     "name": "stderr",
     "output_type": "stream",
     "text": [
      "C:\\Users\\Takashi\\Miniconda3\\lib\\site-packages\\sklearn\\metrics\\scorer.py:127: DeprecationWarning: Scoring method log_loss was renamed to neg_log_loss in version 0.18 and will be removed in 0.20.\n",
      "  sample_weight=sample_weight)\n",
      "C:\\Users\\Takashi\\Miniconda3\\lib\\site-packages\\sklearn\\metrics\\scorer.py:127: DeprecationWarning: Scoring method log_loss was renamed to neg_log_loss in version 0.18 and will be removed in 0.20.\n",
      "  sample_weight=sample_weight)\n",
      "C:\\Users\\Takashi\\Miniconda3\\lib\\site-packages\\sklearn\\metrics\\scorer.py:127: DeprecationWarning: Scoring method log_loss was renamed to neg_log_loss in version 0.18 and will be removed in 0.20.\n",
      "  sample_weight=sample_weight)\n"
     ]
    },
    {
     "name": "stdout",
     "output_type": "stream",
     "text": [
      "[CV]  max_depth=5, colsample_bytree=0.521181275858, subsample=0.736050603789 -   0.0s\n",
      "[CV] max_depth=5, colsample_bytree=0.521181275858, subsample=0.736050603789 \n",
      "[CV]  max_depth=5, colsample_bytree=0.521181275858, subsample=0.736050603789 -   0.0s\n",
      "[CV] max_depth=5, colsample_bytree=0.521181275858, subsample=0.736050603789 \n",
      "[CV]  max_depth=5, colsample_bytree=0.521181275858, subsample=0.736050603789 -   0.0s\n",
      "[CV] max_depth=5, colsample_bytree=0.521181275858, subsample=0.736050603789 \n"
     ]
    },
    {
     "name": "stderr",
     "output_type": "stream",
     "text": [
      "C:\\Users\\Takashi\\Miniconda3\\lib\\site-packages\\sklearn\\metrics\\scorer.py:127: DeprecationWarning: Scoring method log_loss was renamed to neg_log_loss in version 0.18 and will be removed in 0.20.\n",
      "  sample_weight=sample_weight)\n",
      "C:\\Users\\Takashi\\Miniconda3\\lib\\site-packages\\sklearn\\metrics\\scorer.py:127: DeprecationWarning: Scoring method log_loss was renamed to neg_log_loss in version 0.18 and will be removed in 0.20.\n",
      "  sample_weight=sample_weight)\n",
      "C:\\Users\\Takashi\\Miniconda3\\lib\\site-packages\\sklearn\\metrics\\scorer.py:127: DeprecationWarning: Scoring method log_loss was renamed to neg_log_loss in version 0.18 and will be removed in 0.20.\n",
      "  sample_weight=sample_weight)\n",
      "C:\\Users\\Takashi\\Miniconda3\\lib\\site-packages\\sklearn\\metrics\\scorer.py:127: DeprecationWarning: Scoring method log_loss was renamed to neg_log_loss in version 0.18 and will be removed in 0.20.\n",
      "  sample_weight=sample_weight)\n"
     ]
    },
    {
     "name": "stdout",
     "output_type": "stream",
     "text": [
      "[CV]  max_depth=5, colsample_bytree=0.521181275858, subsample=0.736050603789 -   0.0s\n",
      "[CV] max_depth=5, colsample_bytree=0.521181275858, subsample=0.736050603789 \n",
      "[CV]  max_depth=5, colsample_bytree=0.521181275858, subsample=0.736050603789 -   0.0s\n",
      "[CV] max_depth=5, colsample_bytree=0.521181275858, subsample=0.736050603789 \n",
      "[CV]  max_depth=5, colsample_bytree=0.521181275858, subsample=0.736050603789 -   0.0s\n",
      "[CV] max_depth=5, colsample_bytree=0.521181275858, subsample=0.736050603789 \n",
      "[CV]  max_depth=5, colsample_bytree=0.521181275858, subsample=0.736050603789 -   0.0s\n",
      "[CV] max_depth=5, colsample_bytree=0.521181275858, subsample=0.736050603789 \n"
     ]
    },
    {
     "name": "stderr",
     "output_type": "stream",
     "text": [
      "C:\\Users\\Takashi\\Miniconda3\\lib\\site-packages\\sklearn\\metrics\\scorer.py:127: DeprecationWarning: Scoring method log_loss was renamed to neg_log_loss in version 0.18 and will be removed in 0.20.\n",
      "  sample_weight=sample_weight)\n",
      "C:\\Users\\Takashi\\Miniconda3\\lib\\site-packages\\sklearn\\metrics\\scorer.py:127: DeprecationWarning: Scoring method log_loss was renamed to neg_log_loss in version 0.18 and will be removed in 0.20.\n",
      "  sample_weight=sample_weight)\n",
      "C:\\Users\\Takashi\\Miniconda3\\lib\\site-packages\\sklearn\\metrics\\scorer.py:127: DeprecationWarning: Scoring method log_loss was renamed to neg_log_loss in version 0.18 and will be removed in 0.20.\n",
      "  sample_weight=sample_weight)\n"
     ]
    },
    {
     "name": "stdout",
     "output_type": "stream",
     "text": [
      "[CV]  max_depth=5, colsample_bytree=0.521181275858, subsample=0.736050603789 -   0.0s\n",
      "[CV] max_depth=6, colsample_bytree=0.948995687849, subsample=0.885516091358 \n",
      "[CV]  max_depth=6, colsample_bytree=0.948995687849, subsample=0.885516091358 -   0.0s\n",
      "[CV] max_depth=6, colsample_bytree=0.948995687849, subsample=0.885516091358 \n",
      "[CV]  max_depth=6, colsample_bytree=0.948995687849, subsample=0.885516091358 -   0.0s\n",
      "[CV] max_depth=6, colsample_bytree=0.948995687849, subsample=0.885516091358 \n"
     ]
    },
    {
     "name": "stderr",
     "output_type": "stream",
     "text": [
      "C:\\Users\\Takashi\\Miniconda3\\lib\\site-packages\\sklearn\\metrics\\scorer.py:127: DeprecationWarning: Scoring method log_loss was renamed to neg_log_loss in version 0.18 and will be removed in 0.20.\n",
      "  sample_weight=sample_weight)\n",
      "C:\\Users\\Takashi\\Miniconda3\\lib\\site-packages\\sklearn\\metrics\\scorer.py:127: DeprecationWarning: Scoring method log_loss was renamed to neg_log_loss in version 0.18 and will be removed in 0.20.\n",
      "  sample_weight=sample_weight)\n",
      "C:\\Users\\Takashi\\Miniconda3\\lib\\site-packages\\sklearn\\metrics\\scorer.py:127: DeprecationWarning: Scoring method log_loss was renamed to neg_log_loss in version 0.18 and will be removed in 0.20.\n",
      "  sample_weight=sample_weight)\n"
     ]
    },
    {
     "name": "stdout",
     "output_type": "stream",
     "text": [
      "[CV]  max_depth=6, colsample_bytree=0.948995687849, subsample=0.885516091358 -   0.0s\n",
      "[CV] max_depth=6, colsample_bytree=0.948995687849, subsample=0.885516091358 \n",
      "[CV]  max_depth=6, colsample_bytree=0.948995687849, subsample=0.885516091358 -   0.0s\n",
      "[CV] max_depth=6, colsample_bytree=0.948995687849, subsample=0.885516091358 \n",
      "[CV]  max_depth=6, colsample_bytree=0.948995687849, subsample=0.885516091358 -   0.0s\n",
      "[CV] max_depth=6, colsample_bytree=0.948995687849, subsample=0.885516091358 \n"
     ]
    },
    {
     "name": "stderr",
     "output_type": "stream",
     "text": [
      "C:\\Users\\Takashi\\Miniconda3\\lib\\site-packages\\sklearn\\metrics\\scorer.py:127: DeprecationWarning: Scoring method log_loss was renamed to neg_log_loss in version 0.18 and will be removed in 0.20.\n",
      "  sample_weight=sample_weight)\n",
      "C:\\Users\\Takashi\\Miniconda3\\lib\\site-packages\\sklearn\\metrics\\scorer.py:127: DeprecationWarning: Scoring method log_loss was renamed to neg_log_loss in version 0.18 and will be removed in 0.20.\n",
      "  sample_weight=sample_weight)\n",
      "C:\\Users\\Takashi\\Miniconda3\\lib\\site-packages\\sklearn\\metrics\\scorer.py:127: DeprecationWarning: Scoring method log_loss was renamed to neg_log_loss in version 0.18 and will be removed in 0.20.\n",
      "  sample_weight=sample_weight)\n"
     ]
    },
    {
     "name": "stdout",
     "output_type": "stream",
     "text": [
      "[CV]  max_depth=6, colsample_bytree=0.948995687849, subsample=0.885516091358 -   0.0s\n",
      "[CV] max_depth=6, colsample_bytree=0.948995687849, subsample=0.885516091358 \n",
      "[CV]  max_depth=6, colsample_bytree=0.948995687849, subsample=0.885516091358 -   0.0s\n",
      "[CV] max_depth=6, colsample_bytree=0.948995687849, subsample=0.885516091358 \n",
      "[CV]  max_depth=6, colsample_bytree=0.948995687849, subsample=0.885516091358 -   0.0s\n",
      "[CV] max_depth=6, colsample_bytree=0.948995687849, subsample=0.885516091358 \n"
     ]
    },
    {
     "name": "stderr",
     "output_type": "stream",
     "text": [
      "C:\\Users\\Takashi\\Miniconda3\\lib\\site-packages\\sklearn\\metrics\\scorer.py:127: DeprecationWarning: Scoring method log_loss was renamed to neg_log_loss in version 0.18 and will be removed in 0.20.\n",
      "  sample_weight=sample_weight)\n",
      "C:\\Users\\Takashi\\Miniconda3\\lib\\site-packages\\sklearn\\metrics\\scorer.py:127: DeprecationWarning: Scoring method log_loss was renamed to neg_log_loss in version 0.18 and will be removed in 0.20.\n",
      "  sample_weight=sample_weight)\n",
      "C:\\Users\\Takashi\\Miniconda3\\lib\\site-packages\\sklearn\\metrics\\scorer.py:127: DeprecationWarning: Scoring method log_loss was renamed to neg_log_loss in version 0.18 and will be removed in 0.20.\n",
      "  sample_weight=sample_weight)\n"
     ]
    },
    {
     "name": "stdout",
     "output_type": "stream",
     "text": [
      "[CV]  max_depth=6, colsample_bytree=0.948995687849, subsample=0.885516091358 -   0.0s\n",
      "[CV] max_depth=6, colsample_bytree=0.948995687849, subsample=0.885516091358 \n",
      "[CV]  max_depth=6, colsample_bytree=0.948995687849, subsample=0.885516091358 -   0.0s\n",
      "[CV] max_depth=7, colsample_bytree=0.51413189847, subsample=0.752060459711 \n",
      "[CV]  max_depth=7, colsample_bytree=0.51413189847, subsample=0.752060459711 -   0.0s\n",
      "[CV] max_depth=7, colsample_bytree=0.51413189847, subsample=0.752060459711 \n"
     ]
    },
    {
     "name": "stderr",
     "output_type": "stream",
     "text": [
      "C:\\Users\\Takashi\\Miniconda3\\lib\\site-packages\\sklearn\\metrics\\scorer.py:127: DeprecationWarning: Scoring method log_loss was renamed to neg_log_loss in version 0.18 and will be removed in 0.20.\n",
      "  sample_weight=sample_weight)\n",
      "C:\\Users\\Takashi\\Miniconda3\\lib\\site-packages\\sklearn\\metrics\\scorer.py:127: DeprecationWarning: Scoring method log_loss was renamed to neg_log_loss in version 0.18 and will be removed in 0.20.\n",
      "  sample_weight=sample_weight)\n",
      "C:\\Users\\Takashi\\Miniconda3\\lib\\site-packages\\sklearn\\metrics\\scorer.py:127: DeprecationWarning: Scoring method log_loss was renamed to neg_log_loss in version 0.18 and will be removed in 0.20.\n",
      "  sample_weight=sample_weight)\n"
     ]
    },
    {
     "name": "stdout",
     "output_type": "stream",
     "text": [
      "[CV]  max_depth=7, colsample_bytree=0.51413189847, subsample=0.752060459711 -   0.0s\n",
      "[CV] max_depth=7, colsample_bytree=0.51413189847, subsample=0.752060459711 \n",
      "[CV]  max_depth=7, colsample_bytree=0.51413189847, subsample=0.752060459711 -   0.0s\n",
      "[CV] max_depth=7, colsample_bytree=0.51413189847, subsample=0.752060459711 \n",
      "[CV]  max_depth=7, colsample_bytree=0.51413189847, subsample=0.752060459711 -   0.0s\n",
      "[CV] max_depth=7, colsample_bytree=0.51413189847, subsample=0.752060459711 \n"
     ]
    },
    {
     "name": "stderr",
     "output_type": "stream",
     "text": [
      "C:\\Users\\Takashi\\Miniconda3\\lib\\site-packages\\sklearn\\metrics\\scorer.py:127: DeprecationWarning: Scoring method log_loss was renamed to neg_log_loss in version 0.18 and will be removed in 0.20.\n",
      "  sample_weight=sample_weight)\n",
      "C:\\Users\\Takashi\\Miniconda3\\lib\\site-packages\\sklearn\\metrics\\scorer.py:127: DeprecationWarning: Scoring method log_loss was renamed to neg_log_loss in version 0.18 and will be removed in 0.20.\n",
      "  sample_weight=sample_weight)\n",
      "C:\\Users\\Takashi\\Miniconda3\\lib\\site-packages\\sklearn\\metrics\\scorer.py:127: DeprecationWarning: Scoring method log_loss was renamed to neg_log_loss in version 0.18 and will be removed in 0.20.\n",
      "  sample_weight=sample_weight)\n"
     ]
    },
    {
     "name": "stdout",
     "output_type": "stream",
     "text": [
      "[CV]  max_depth=7, colsample_bytree=0.51413189847, subsample=0.752060459711 -   0.0s\n",
      "[CV] max_depth=7, colsample_bytree=0.51413189847, subsample=0.752060459711 \n",
      "[CV]  max_depth=7, colsample_bytree=0.51413189847, subsample=0.752060459711 -   0.0s\n",
      "[CV] max_depth=7, colsample_bytree=0.51413189847, subsample=0.752060459711 \n",
      "[CV]  max_depth=7, colsample_bytree=0.51413189847, subsample=0.752060459711 -   0.0s\n",
      "[CV] max_depth=7, colsample_bytree=0.51413189847, subsample=0.752060459711 \n"
     ]
    },
    {
     "name": "stderr",
     "output_type": "stream",
     "text": [
      "C:\\Users\\Takashi\\Miniconda3\\lib\\site-packages\\sklearn\\metrics\\scorer.py:127: DeprecationWarning: Scoring method log_loss was renamed to neg_log_loss in version 0.18 and will be removed in 0.20.\n",
      "  sample_weight=sample_weight)\n",
      "C:\\Users\\Takashi\\Miniconda3\\lib\\site-packages\\sklearn\\metrics\\scorer.py:127: DeprecationWarning: Scoring method log_loss was renamed to neg_log_loss in version 0.18 and will be removed in 0.20.\n",
      "  sample_weight=sample_weight)\n",
      "C:\\Users\\Takashi\\Miniconda3\\lib\\site-packages\\sklearn\\metrics\\scorer.py:127: DeprecationWarning: Scoring method log_loss was renamed to neg_log_loss in version 0.18 and will be removed in 0.20.\n",
      "  sample_weight=sample_weight)\n"
     ]
    },
    {
     "name": "stdout",
     "output_type": "stream",
     "text": [
      "[CV]  max_depth=7, colsample_bytree=0.51413189847, subsample=0.752060459711 -   0.0s\n",
      "[CV] max_depth=7, colsample_bytree=0.51413189847, subsample=0.752060459711 \n",
      "[CV]  max_depth=7, colsample_bytree=0.51413189847, subsample=0.752060459711 -   0.0s\n",
      "[CV] max_depth=7, colsample_bytree=0.51413189847, subsample=0.752060459711 \n",
      "[CV]  max_depth=7, colsample_bytree=0.51413189847, subsample=0.752060459711 -   0.0s\n",
      "[CV] max_depth=5, colsample_bytree=0.540280711119, subsample=0.753974665667 \n"
     ]
    },
    {
     "name": "stderr",
     "output_type": "stream",
     "text": [
      "C:\\Users\\Takashi\\Miniconda3\\lib\\site-packages\\sklearn\\metrics\\scorer.py:127: DeprecationWarning: Scoring method log_loss was renamed to neg_log_loss in version 0.18 and will be removed in 0.20.\n",
      "  sample_weight=sample_weight)\n",
      "C:\\Users\\Takashi\\Miniconda3\\lib\\site-packages\\sklearn\\metrics\\scorer.py:127: DeprecationWarning: Scoring method log_loss was renamed to neg_log_loss in version 0.18 and will be removed in 0.20.\n",
      "  sample_weight=sample_weight)\n",
      "C:\\Users\\Takashi\\Miniconda3\\lib\\site-packages\\sklearn\\metrics\\scorer.py:127: DeprecationWarning: Scoring method log_loss was renamed to neg_log_loss in version 0.18 and will be removed in 0.20.\n",
      "  sample_weight=sample_weight)\n",
      "C:\\Users\\Takashi\\Miniconda3\\lib\\site-packages\\sklearn\\metrics\\scorer.py:127: DeprecationWarning: Scoring method log_loss was renamed to neg_log_loss in version 0.18 and will be removed in 0.20.\n",
      "  sample_weight=sample_weight)\n"
     ]
    },
    {
     "name": "stdout",
     "output_type": "stream",
     "text": [
      "[CV]  max_depth=5, colsample_bytree=0.540280711119, subsample=0.753974665667 -   0.0s\n",
      "[CV] max_depth=5, colsample_bytree=0.540280711119, subsample=0.753974665667 \n",
      "[CV]  max_depth=5, colsample_bytree=0.540280711119, subsample=0.753974665667 -   0.0s\n",
      "[CV] max_depth=5, colsample_bytree=0.540280711119, subsample=0.753974665667 \n",
      "[CV]  max_depth=5, colsample_bytree=0.540280711119, subsample=0.753974665667 -   0.0s\n",
      "[CV] max_depth=5, colsample_bytree=0.540280711119, subsample=0.753974665667 \n",
      "[CV]  max_depth=5, colsample_bytree=0.540280711119, subsample=0.753974665667 -   0.0s\n",
      "[CV] max_depth=5, colsample_bytree=0.540280711119, subsample=0.753974665667 \n"
     ]
    },
    {
     "name": "stderr",
     "output_type": "stream",
     "text": [
      "C:\\Users\\Takashi\\Miniconda3\\lib\\site-packages\\sklearn\\metrics\\scorer.py:127: DeprecationWarning: Scoring method log_loss was renamed to neg_log_loss in version 0.18 and will be removed in 0.20.\n",
      "  sample_weight=sample_weight)\n",
      "C:\\Users\\Takashi\\Miniconda3\\lib\\site-packages\\sklearn\\metrics\\scorer.py:127: DeprecationWarning: Scoring method log_loss was renamed to neg_log_loss in version 0.18 and will be removed in 0.20.\n",
      "  sample_weight=sample_weight)\n",
      "C:\\Users\\Takashi\\Miniconda3\\lib\\site-packages\\sklearn\\metrics\\scorer.py:127: DeprecationWarning: Scoring method log_loss was renamed to neg_log_loss in version 0.18 and will be removed in 0.20.\n",
      "  sample_weight=sample_weight)\n"
     ]
    },
    {
     "name": "stdout",
     "output_type": "stream",
     "text": [
      "[CV]  max_depth=5, colsample_bytree=0.540280711119, subsample=0.753974665667 -   0.0s\n",
      "[CV] max_depth=5, colsample_bytree=0.540280711119, subsample=0.753974665667 \n",
      "[CV]  max_depth=5, colsample_bytree=0.540280711119, subsample=0.753974665667 -   0.0s\n",
      "[CV] max_depth=5, colsample_bytree=0.540280711119, subsample=0.753974665667 \n",
      "[CV]  max_depth=5, colsample_bytree=0.540280711119, subsample=0.753974665667 -   0.0s\n",
      "[CV] max_depth=5, colsample_bytree=0.540280711119, subsample=0.753974665667 \n"
     ]
    },
    {
     "name": "stderr",
     "output_type": "stream",
     "text": [
      "C:\\Users\\Takashi\\Miniconda3\\lib\\site-packages\\sklearn\\metrics\\scorer.py:127: DeprecationWarning: Scoring method log_loss was renamed to neg_log_loss in version 0.18 and will be removed in 0.20.\n",
      "  sample_weight=sample_weight)\n",
      "C:\\Users\\Takashi\\Miniconda3\\lib\\site-packages\\sklearn\\metrics\\scorer.py:127: DeprecationWarning: Scoring method log_loss was renamed to neg_log_loss in version 0.18 and will be removed in 0.20.\n",
      "  sample_weight=sample_weight)\n",
      "C:\\Users\\Takashi\\Miniconda3\\lib\\site-packages\\sklearn\\metrics\\scorer.py:127: DeprecationWarning: Scoring method log_loss was renamed to neg_log_loss in version 0.18 and will be removed in 0.20.\n",
      "  sample_weight=sample_weight)\n",
      "C:\\Users\\Takashi\\Miniconda3\\lib\\site-packages\\sklearn\\metrics\\scorer.py:127: DeprecationWarning: Scoring method log_loss was renamed to neg_log_loss in version 0.18 and will be removed in 0.20.\n",
      "  sample_weight=sample_weight)\n"
     ]
    },
    {
     "name": "stdout",
     "output_type": "stream",
     "text": [
      "[CV]  max_depth=5, colsample_bytree=0.540280711119, subsample=0.753974665667 -   0.0s\n",
      "[CV] max_depth=5, colsample_bytree=0.540280711119, subsample=0.753974665667 \n",
      "[CV]  max_depth=5, colsample_bytree=0.540280711119, subsample=0.753974665667 -   0.0s\n",
      "[CV] max_depth=5, colsample_bytree=0.540280711119, subsample=0.753974665667 \n",
      "[CV]  max_depth=5, colsample_bytree=0.540280711119, subsample=0.753974665667 -   0.0s\n",
      "[CV] max_depth=4, colsample_bytree=0.737549286154, subsample=0.972454835498 \n",
      "[CV]  max_depth=4, colsample_bytree=0.737549286154, subsample=0.972454835498 -   0.0s\n",
      "[CV] max_depth=4, colsample_bytree=0.737549286154, subsample=0.972454835498 \n"
     ]
    },
    {
     "name": "stderr",
     "output_type": "stream",
     "text": [
      "C:\\Users\\Takashi\\Miniconda3\\lib\\site-packages\\sklearn\\metrics\\scorer.py:127: DeprecationWarning: Scoring method log_loss was renamed to neg_log_loss in version 0.18 and will be removed in 0.20.\n",
      "  sample_weight=sample_weight)\n",
      "C:\\Users\\Takashi\\Miniconda3\\lib\\site-packages\\sklearn\\metrics\\scorer.py:127: DeprecationWarning: Scoring method log_loss was renamed to neg_log_loss in version 0.18 and will be removed in 0.20.\n",
      "  sample_weight=sample_weight)\n",
      "C:\\Users\\Takashi\\Miniconda3\\lib\\site-packages\\sklearn\\metrics\\scorer.py:127: DeprecationWarning: Scoring method log_loss was renamed to neg_log_loss in version 0.18 and will be removed in 0.20.\n",
      "  sample_weight=sample_weight)\n",
      "C:\\Users\\Takashi\\Miniconda3\\lib\\site-packages\\sklearn\\metrics\\scorer.py:127: DeprecationWarning: Scoring method log_loss was renamed to neg_log_loss in version 0.18 and will be removed in 0.20.\n",
      "  sample_weight=sample_weight)\n"
     ]
    },
    {
     "name": "stdout",
     "output_type": "stream",
     "text": [
      "[CV]  max_depth=4, colsample_bytree=0.737549286154, subsample=0.972454835498 -   0.0s\n",
      "[CV] max_depth=4, colsample_bytree=0.737549286154, subsample=0.972454835498 \n",
      "[CV]  max_depth=4, colsample_bytree=0.737549286154, subsample=0.972454835498 -   0.0s\n",
      "[CV] max_depth=4, colsample_bytree=0.737549286154, subsample=0.972454835498 \n",
      "[CV]  max_depth=4, colsample_bytree=0.737549286154, subsample=0.972454835498 -   0.0s\n",
      "[CV] max_depth=4, colsample_bytree=0.737549286154, subsample=0.972454835498 \n",
      "[CV]  max_depth=4, colsample_bytree=0.737549286154, subsample=0.972454835498 -   0.0s\n",
      "[CV] max_depth=4, colsample_bytree=0.737549286154, subsample=0.972454835498 \n"
     ]
    },
    {
     "name": "stderr",
     "output_type": "stream",
     "text": [
      "C:\\Users\\Takashi\\Miniconda3\\lib\\site-packages\\sklearn\\metrics\\scorer.py:127: DeprecationWarning: Scoring method log_loss was renamed to neg_log_loss in version 0.18 and will be removed in 0.20.\n",
      "  sample_weight=sample_weight)\n",
      "C:\\Users\\Takashi\\Miniconda3\\lib\\site-packages\\sklearn\\metrics\\scorer.py:127: DeprecationWarning: Scoring method log_loss was renamed to neg_log_loss in version 0.18 and will be removed in 0.20.\n",
      "  sample_weight=sample_weight)\n",
      "C:\\Users\\Takashi\\Miniconda3\\lib\\site-packages\\sklearn\\metrics\\scorer.py:127: DeprecationWarning: Scoring method log_loss was renamed to neg_log_loss in version 0.18 and will be removed in 0.20.\n",
      "  sample_weight=sample_weight)\n",
      "C:\\Users\\Takashi\\Miniconda3\\lib\\site-packages\\sklearn\\metrics\\scorer.py:127: DeprecationWarning: Scoring method log_loss was renamed to neg_log_loss in version 0.18 and will be removed in 0.20.\n",
      "  sample_weight=sample_weight)\n"
     ]
    },
    {
     "name": "stdout",
     "output_type": "stream",
     "text": [
      "[CV]  max_depth=4, colsample_bytree=0.737549286154, subsample=0.972454835498 -   0.0s\n",
      "[CV] max_depth=4, colsample_bytree=0.737549286154, subsample=0.972454835498 \n",
      "[CV]  max_depth=4, colsample_bytree=0.737549286154, subsample=0.972454835498 -   0.0s\n",
      "[CV] max_depth=4, colsample_bytree=0.737549286154, subsample=0.972454835498 \n",
      "[CV]  max_depth=4, colsample_bytree=0.737549286154, subsample=0.972454835498 -   0.0s\n",
      "[CV] max_depth=4, colsample_bytree=0.737549286154, subsample=0.972454835498 \n",
      "[CV]  max_depth=4, colsample_bytree=0.737549286154, subsample=0.972454835498 -   0.0s\n",
      "[CV] max_depth=4, colsample_bytree=0.737549286154, subsample=0.972454835498 \n"
     ]
    },
    {
     "name": "stderr",
     "output_type": "stream",
     "text": [
      "C:\\Users\\Takashi\\Miniconda3\\lib\\site-packages\\sklearn\\metrics\\scorer.py:127: DeprecationWarning: Scoring method log_loss was renamed to neg_log_loss in version 0.18 and will be removed in 0.20.\n",
      "  sample_weight=sample_weight)\n",
      "C:\\Users\\Takashi\\Miniconda3\\lib\\site-packages\\sklearn\\metrics\\scorer.py:127: DeprecationWarning: Scoring method log_loss was renamed to neg_log_loss in version 0.18 and will be removed in 0.20.\n",
      "  sample_weight=sample_weight)\n",
      "C:\\Users\\Takashi\\Miniconda3\\lib\\site-packages\\sklearn\\metrics\\scorer.py:127: DeprecationWarning: Scoring method log_loss was renamed to neg_log_loss in version 0.18 and will be removed in 0.20.\n",
      "  sample_weight=sample_weight)\n"
     ]
    },
    {
     "name": "stdout",
     "output_type": "stream",
     "text": [
      "[CV]  max_depth=4, colsample_bytree=0.737549286154, subsample=0.972454835498 -   0.0s\n",
      "[CV] max_depth=5, colsample_bytree=0.922705931942, subsample=0.943037939198 \n",
      "[CV]  max_depth=5, colsample_bytree=0.922705931942, subsample=0.943037939198 -   0.0s\n",
      "[CV] max_depth=5, colsample_bytree=0.922705931942, subsample=0.943037939198 \n",
      "[CV]  max_depth=5, colsample_bytree=0.922705931942, subsample=0.943037939198 -   0.0s\n",
      "[CV] max_depth=5, colsample_bytree=0.922705931942, subsample=0.943037939198 \n"
     ]
    },
    {
     "name": "stderr",
     "output_type": "stream",
     "text": [
      "C:\\Users\\Takashi\\Miniconda3\\lib\\site-packages\\sklearn\\metrics\\scorer.py:127: DeprecationWarning: Scoring method log_loss was renamed to neg_log_loss in version 0.18 and will be removed in 0.20.\n",
      "  sample_weight=sample_weight)\n",
      "C:\\Users\\Takashi\\Miniconda3\\lib\\site-packages\\sklearn\\metrics\\scorer.py:127: DeprecationWarning: Scoring method log_loss was renamed to neg_log_loss in version 0.18 and will be removed in 0.20.\n",
      "  sample_weight=sample_weight)\n",
      "C:\\Users\\Takashi\\Miniconda3\\lib\\site-packages\\sklearn\\metrics\\scorer.py:127: DeprecationWarning: Scoring method log_loss was renamed to neg_log_loss in version 0.18 and will be removed in 0.20.\n",
      "  sample_weight=sample_weight)\n"
     ]
    },
    {
     "name": "stdout",
     "output_type": "stream",
     "text": [
      "[CV]  max_depth=5, colsample_bytree=0.922705931942, subsample=0.943037939198 -   0.0s\n",
      "[CV] max_depth=5, colsample_bytree=0.922705931942, subsample=0.943037939198 \n",
      "[CV]  max_depth=5, colsample_bytree=0.922705931942, subsample=0.943037939198 -   0.0s\n",
      "[CV] max_depth=5, colsample_bytree=0.922705931942, subsample=0.943037939198 \n",
      "[CV]  max_depth=5, colsample_bytree=0.922705931942, subsample=0.943037939198 -   0.0s\n",
      "[CV] max_depth=5, colsample_bytree=0.922705931942, subsample=0.943037939198 \n"
     ]
    },
    {
     "name": "stderr",
     "output_type": "stream",
     "text": [
      "C:\\Users\\Takashi\\Miniconda3\\lib\\site-packages\\sklearn\\metrics\\scorer.py:127: DeprecationWarning: Scoring method log_loss was renamed to neg_log_loss in version 0.18 and will be removed in 0.20.\n",
      "  sample_weight=sample_weight)\n",
      "C:\\Users\\Takashi\\Miniconda3\\lib\\site-packages\\sklearn\\metrics\\scorer.py:127: DeprecationWarning: Scoring method log_loss was renamed to neg_log_loss in version 0.18 and will be removed in 0.20.\n",
      "  sample_weight=sample_weight)\n",
      "C:\\Users\\Takashi\\Miniconda3\\lib\\site-packages\\sklearn\\metrics\\scorer.py:127: DeprecationWarning: Scoring method log_loss was renamed to neg_log_loss in version 0.18 and will be removed in 0.20.\n",
      "  sample_weight=sample_weight)\n"
     ]
    },
    {
     "name": "stdout",
     "output_type": "stream",
     "text": [
      "[CV]  max_depth=5, colsample_bytree=0.922705931942, subsample=0.943037939198 -   0.0s\n",
      "[CV] max_depth=5, colsample_bytree=0.922705931942, subsample=0.943037939198 \n",
      "[CV]  max_depth=5, colsample_bytree=0.922705931942, subsample=0.943037939198 -   0.0s\n",
      "[CV] max_depth=5, colsample_bytree=0.922705931942, subsample=0.943037939198 \n",
      "[CV]  max_depth=5, colsample_bytree=0.922705931942, subsample=0.943037939198 -   0.0s\n",
      "[CV] max_depth=5, colsample_bytree=0.922705931942, subsample=0.943037939198 \n"
     ]
    },
    {
     "name": "stderr",
     "output_type": "stream",
     "text": [
      "C:\\Users\\Takashi\\Miniconda3\\lib\\site-packages\\sklearn\\metrics\\scorer.py:127: DeprecationWarning: Scoring method log_loss was renamed to neg_log_loss in version 0.18 and will be removed in 0.20.\n",
      "  sample_weight=sample_weight)\n",
      "C:\\Users\\Takashi\\Miniconda3\\lib\\site-packages\\sklearn\\metrics\\scorer.py:127: DeprecationWarning: Scoring method log_loss was renamed to neg_log_loss in version 0.18 and will be removed in 0.20.\n",
      "  sample_weight=sample_weight)\n"
     ]
    },
    {
     "name": "stdout",
     "output_type": "stream",
     "text": [
      "[CV]  max_depth=5, colsample_bytree=0.922705931942, subsample=0.943037939198 -   0.0s\n",
      "[CV] max_depth=5, colsample_bytree=0.922705931942, subsample=0.943037939198 \n",
      "[CV]  max_depth=5, colsample_bytree=0.922705931942, subsample=0.943037939198 -   0.0s\n",
      "[CV] max_depth=10, colsample_bytree=0.945296579592, subsample=0.950524010826 \n"
     ]
    },
    {
     "name": "stderr",
     "output_type": "stream",
     "text": [
      "C:\\Users\\Takashi\\Miniconda3\\lib\\site-packages\\sklearn\\metrics\\scorer.py:127: DeprecationWarning: Scoring method log_loss was renamed to neg_log_loss in version 0.18 and will be removed in 0.20.\n",
      "  sample_weight=sample_weight)\n",
      "C:\\Users\\Takashi\\Miniconda3\\lib\\site-packages\\sklearn\\metrics\\scorer.py:127: DeprecationWarning: Scoring method log_loss was renamed to neg_log_loss in version 0.18 and will be removed in 0.20.\n",
      "  sample_weight=sample_weight)\n"
     ]
    },
    {
     "name": "stdout",
     "output_type": "stream",
     "text": [
      "[CV]  max_depth=10, colsample_bytree=0.945296579592, subsample=0.950524010826 -   0.0s\n",
      "[CV] max_depth=10, colsample_bytree=0.945296579592, subsample=0.950524010826 \n",
      "[CV]  max_depth=10, colsample_bytree=0.945296579592, subsample=0.950524010826 -   0.0s\n",
      "[CV] max_depth=10, colsample_bytree=0.945296579592, subsample=0.950524010826 \n"
     ]
    },
    {
     "name": "stderr",
     "output_type": "stream",
     "text": [
      "C:\\Users\\Takashi\\Miniconda3\\lib\\site-packages\\sklearn\\metrics\\scorer.py:127: DeprecationWarning: Scoring method log_loss was renamed to neg_log_loss in version 0.18 and will be removed in 0.20.\n",
      "  sample_weight=sample_weight)\n",
      "C:\\Users\\Takashi\\Miniconda3\\lib\\site-packages\\sklearn\\metrics\\scorer.py:127: DeprecationWarning: Scoring method log_loss was renamed to neg_log_loss in version 0.18 and will be removed in 0.20.\n",
      "  sample_weight=sample_weight)\n"
     ]
    },
    {
     "name": "stdout",
     "output_type": "stream",
     "text": [
      "[CV]  max_depth=10, colsample_bytree=0.945296579592, subsample=0.950524010826 -   0.0s\n",
      "[CV] max_depth=10, colsample_bytree=0.945296579592, subsample=0.950524010826 \n",
      "[CV]  max_depth=10, colsample_bytree=0.945296579592, subsample=0.950524010826 -   0.0s\n",
      "[CV] max_depth=10, colsample_bytree=0.945296579592, subsample=0.950524010826 \n"
     ]
    },
    {
     "name": "stderr",
     "output_type": "stream",
     "text": [
      "C:\\Users\\Takashi\\Miniconda3\\lib\\site-packages\\sklearn\\metrics\\scorer.py:127: DeprecationWarning: Scoring method log_loss was renamed to neg_log_loss in version 0.18 and will be removed in 0.20.\n",
      "  sample_weight=sample_weight)\n",
      "C:\\Users\\Takashi\\Miniconda3\\lib\\site-packages\\sklearn\\metrics\\scorer.py:127: DeprecationWarning: Scoring method log_loss was renamed to neg_log_loss in version 0.18 and will be removed in 0.20.\n",
      "  sample_weight=sample_weight)\n"
     ]
    },
    {
     "name": "stdout",
     "output_type": "stream",
     "text": [
      "[CV]  max_depth=10, colsample_bytree=0.945296579592, subsample=0.950524010826 -   0.0s\n",
      "[CV] max_depth=10, colsample_bytree=0.945296579592, subsample=0.950524010826 \n",
      "[CV]  max_depth=10, colsample_bytree=0.945296579592, subsample=0.950524010826 -   0.0s\n",
      "[CV] max_depth=10, colsample_bytree=0.945296579592, subsample=0.950524010826 \n"
     ]
    },
    {
     "name": "stderr",
     "output_type": "stream",
     "text": [
      "C:\\Users\\Takashi\\Miniconda3\\lib\\site-packages\\sklearn\\metrics\\scorer.py:127: DeprecationWarning: Scoring method log_loss was renamed to neg_log_loss in version 0.18 and will be removed in 0.20.\n",
      "  sample_weight=sample_weight)\n",
      "C:\\Users\\Takashi\\Miniconda3\\lib\\site-packages\\sklearn\\metrics\\scorer.py:127: DeprecationWarning: Scoring method log_loss was renamed to neg_log_loss in version 0.18 and will be removed in 0.20.\n",
      "  sample_weight=sample_weight)\n"
     ]
    },
    {
     "name": "stdout",
     "output_type": "stream",
     "text": [
      "[CV]  max_depth=10, colsample_bytree=0.945296579592, subsample=0.950524010826 -   0.0s\n",
      "[CV] max_depth=10, colsample_bytree=0.945296579592, subsample=0.950524010826 \n",
      "[CV]  max_depth=10, colsample_bytree=0.945296579592, subsample=0.950524010826 -   0.0s\n",
      "[CV] max_depth=10, colsample_bytree=0.945296579592, subsample=0.950524010826 \n"
     ]
    },
    {
     "name": "stderr",
     "output_type": "stream",
     "text": [
      "C:\\Users\\Takashi\\Miniconda3\\lib\\site-packages\\sklearn\\metrics\\scorer.py:127: DeprecationWarning: Scoring method log_loss was renamed to neg_log_loss in version 0.18 and will be removed in 0.20.\n",
      "  sample_weight=sample_weight)\n",
      "C:\\Users\\Takashi\\Miniconda3\\lib\\site-packages\\sklearn\\metrics\\scorer.py:127: DeprecationWarning: Scoring method log_loss was renamed to neg_log_loss in version 0.18 and will be removed in 0.20.\n",
      "  sample_weight=sample_weight)\n"
     ]
    },
    {
     "name": "stdout",
     "output_type": "stream",
     "text": [
      "[CV]  max_depth=10, colsample_bytree=0.945296579592, subsample=0.950524010826 -   0.0s\n",
      "[CV] max_depth=10, colsample_bytree=0.945296579592, subsample=0.950524010826 \n",
      "[CV]  max_depth=10, colsample_bytree=0.945296579592, subsample=0.950524010826 -   0.0s\n",
      "[CV] max_depth=8, colsample_bytree=0.673533585889, subsample=0.546439405482 \n"
     ]
    },
    {
     "name": "stderr",
     "output_type": "stream",
     "text": [
      "C:\\Users\\Takashi\\Miniconda3\\lib\\site-packages\\sklearn\\metrics\\scorer.py:127: DeprecationWarning: Scoring method log_loss was renamed to neg_log_loss in version 0.18 and will be removed in 0.20.\n",
      "  sample_weight=sample_weight)\n",
      "C:\\Users\\Takashi\\Miniconda3\\lib\\site-packages\\sklearn\\metrics\\scorer.py:127: DeprecationWarning: Scoring method log_loss was renamed to neg_log_loss in version 0.18 and will be removed in 0.20.\n",
      "  sample_weight=sample_weight)\n",
      "C:\\Users\\Takashi\\Miniconda3\\lib\\site-packages\\sklearn\\metrics\\scorer.py:127: DeprecationWarning: Scoring method log_loss was renamed to neg_log_loss in version 0.18 and will be removed in 0.20.\n",
      "  sample_weight=sample_weight)\n"
     ]
    },
    {
     "name": "stdout",
     "output_type": "stream",
     "text": [
      "[CV]  max_depth=8, colsample_bytree=0.673533585889, subsample=0.546439405482 -   0.0s\n",
      "[CV] max_depth=8, colsample_bytree=0.673533585889, subsample=0.546439405482 \n",
      "[CV]  max_depth=8, colsample_bytree=0.673533585889, subsample=0.546439405482 -   0.0s\n",
      "[CV] max_depth=8, colsample_bytree=0.673533585889, subsample=0.546439405482 \n",
      "[CV]  max_depth=8, colsample_bytree=0.673533585889, subsample=0.546439405482 -   0.0s\n",
      "[CV] max_depth=8, colsample_bytree=0.673533585889, subsample=0.546439405482 \n"
     ]
    },
    {
     "name": "stderr",
     "output_type": "stream",
     "text": [
      "C:\\Users\\Takashi\\Miniconda3\\lib\\site-packages\\sklearn\\metrics\\scorer.py:127: DeprecationWarning: Scoring method log_loss was renamed to neg_log_loss in version 0.18 and will be removed in 0.20.\n",
      "  sample_weight=sample_weight)\n",
      "C:\\Users\\Takashi\\Miniconda3\\lib\\site-packages\\sklearn\\metrics\\scorer.py:127: DeprecationWarning: Scoring method log_loss was renamed to neg_log_loss in version 0.18 and will be removed in 0.20.\n",
      "  sample_weight=sample_weight)\n",
      "C:\\Users\\Takashi\\Miniconda3\\lib\\site-packages\\sklearn\\metrics\\scorer.py:127: DeprecationWarning: Scoring method log_loss was renamed to neg_log_loss in version 0.18 and will be removed in 0.20.\n",
      "  sample_weight=sample_weight)\n"
     ]
    },
    {
     "name": "stdout",
     "output_type": "stream",
     "text": [
      "[CV]  max_depth=8, colsample_bytree=0.673533585889, subsample=0.546439405482 -   0.0s\n",
      "[CV] max_depth=8, colsample_bytree=0.673533585889, subsample=0.546439405482 \n",
      "[CV]  max_depth=8, colsample_bytree=0.673533585889, subsample=0.546439405482 -   0.0s\n",
      "[CV] max_depth=8, colsample_bytree=0.673533585889, subsample=0.546439405482 \n",
      "[CV]  max_depth=8, colsample_bytree=0.673533585889, subsample=0.546439405482 -   0.0s\n",
      "[CV] max_depth=8, colsample_bytree=0.673533585889, subsample=0.546439405482 \n"
     ]
    },
    {
     "name": "stderr",
     "output_type": "stream",
     "text": [
      "C:\\Users\\Takashi\\Miniconda3\\lib\\site-packages\\sklearn\\metrics\\scorer.py:127: DeprecationWarning: Scoring method log_loss was renamed to neg_log_loss in version 0.18 and will be removed in 0.20.\n",
      "  sample_weight=sample_weight)\n",
      "C:\\Users\\Takashi\\Miniconda3\\lib\\site-packages\\sklearn\\metrics\\scorer.py:127: DeprecationWarning: Scoring method log_loss was renamed to neg_log_loss in version 0.18 and will be removed in 0.20.\n",
      "  sample_weight=sample_weight)\n",
      "C:\\Users\\Takashi\\Miniconda3\\lib\\site-packages\\sklearn\\metrics\\scorer.py:127: DeprecationWarning: Scoring method log_loss was renamed to neg_log_loss in version 0.18 and will be removed in 0.20.\n",
      "  sample_weight=sample_weight)\n"
     ]
    },
    {
     "name": "stdout",
     "output_type": "stream",
     "text": [
      "[CV]  max_depth=8, colsample_bytree=0.673533585889, subsample=0.546439405482 -   0.0s\n",
      "[CV] max_depth=8, colsample_bytree=0.673533585889, subsample=0.546439405482 \n",
      "[CV]  max_depth=8, colsample_bytree=0.673533585889, subsample=0.546439405482 -   0.0s\n",
      "[CV] max_depth=8, colsample_bytree=0.673533585889, subsample=0.546439405482 \n",
      "[CV]  max_depth=8, colsample_bytree=0.673533585889, subsample=0.546439405482 -   0.0s\n",
      "[CV] max_depth=8, colsample_bytree=0.673533585889, subsample=0.546439405482 \n"
     ]
    },
    {
     "name": "stderr",
     "output_type": "stream",
     "text": [
      "C:\\Users\\Takashi\\Miniconda3\\lib\\site-packages\\sklearn\\metrics\\scorer.py:127: DeprecationWarning: Scoring method log_loss was renamed to neg_log_loss in version 0.18 and will be removed in 0.20.\n",
      "  sample_weight=sample_weight)\n",
      "C:\\Users\\Takashi\\Miniconda3\\lib\\site-packages\\sklearn\\metrics\\scorer.py:127: DeprecationWarning: Scoring method log_loss was renamed to neg_log_loss in version 0.18 and will be removed in 0.20.\n",
      "  sample_weight=sample_weight)\n",
      "C:\\Users\\Takashi\\Miniconda3\\lib\\site-packages\\sklearn\\metrics\\scorer.py:127: DeprecationWarning: Scoring method log_loss was renamed to neg_log_loss in version 0.18 and will be removed in 0.20.\n",
      "  sample_weight=sample_weight)\n"
     ]
    },
    {
     "name": "stdout",
     "output_type": "stream",
     "text": [
      "[CV]  max_depth=8, colsample_bytree=0.673533585889, subsample=0.546439405482 -   0.0s\n",
      "[CV] max_depth=8, colsample_bytree=0.65320586454, subsample=0.999274468447 \n",
      "[CV]  max_depth=8, colsample_bytree=0.65320586454, subsample=0.999274468447 -   0.0s\n",
      "[CV] max_depth=8, colsample_bytree=0.65320586454, subsample=0.999274468447 \n",
      "[CV]  max_depth=8, colsample_bytree=0.65320586454, subsample=0.999274468447 -   0.0s\n",
      "[CV] max_depth=8, colsample_bytree=0.65320586454, subsample=0.999274468447 \n"
     ]
    },
    {
     "name": "stderr",
     "output_type": "stream",
     "text": [
      "C:\\Users\\Takashi\\Miniconda3\\lib\\site-packages\\sklearn\\metrics\\scorer.py:127: DeprecationWarning: Scoring method log_loss was renamed to neg_log_loss in version 0.18 and will be removed in 0.20.\n",
      "  sample_weight=sample_weight)\n",
      "C:\\Users\\Takashi\\Miniconda3\\lib\\site-packages\\sklearn\\metrics\\scorer.py:127: DeprecationWarning: Scoring method log_loss was renamed to neg_log_loss in version 0.18 and will be removed in 0.20.\n",
      "  sample_weight=sample_weight)\n",
      "C:\\Users\\Takashi\\Miniconda3\\lib\\site-packages\\sklearn\\metrics\\scorer.py:127: DeprecationWarning: Scoring method log_loss was renamed to neg_log_loss in version 0.18 and will be removed in 0.20.\n",
      "  sample_weight=sample_weight)\n"
     ]
    },
    {
     "name": "stdout",
     "output_type": "stream",
     "text": [
      "[CV]  max_depth=8, colsample_bytree=0.65320586454, subsample=0.999274468447 -   0.0s\n",
      "[CV] max_depth=8, colsample_bytree=0.65320586454, subsample=0.999274468447 \n",
      "[CV]  max_depth=8, colsample_bytree=0.65320586454, subsample=0.999274468447 -   0.0s\n",
      "[CV] max_depth=8, colsample_bytree=0.65320586454, subsample=0.999274468447 \n",
      "[CV]  max_depth=8, colsample_bytree=0.65320586454, subsample=0.999274468447 -   0.0s\n",
      "[CV] max_depth=8, colsample_bytree=0.65320586454, subsample=0.999274468447 \n"
     ]
    },
    {
     "name": "stderr",
     "output_type": "stream",
     "text": [
      "C:\\Users\\Takashi\\Miniconda3\\lib\\site-packages\\sklearn\\metrics\\scorer.py:127: DeprecationWarning: Scoring method log_loss was renamed to neg_log_loss in version 0.18 and will be removed in 0.20.\n",
      "  sample_weight=sample_weight)\n",
      "C:\\Users\\Takashi\\Miniconda3\\lib\\site-packages\\sklearn\\metrics\\scorer.py:127: DeprecationWarning: Scoring method log_loss was renamed to neg_log_loss in version 0.18 and will be removed in 0.20.\n",
      "  sample_weight=sample_weight)\n",
      "C:\\Users\\Takashi\\Miniconda3\\lib\\site-packages\\sklearn\\metrics\\scorer.py:127: DeprecationWarning: Scoring method log_loss was renamed to neg_log_loss in version 0.18 and will be removed in 0.20.\n",
      "  sample_weight=sample_weight)\n"
     ]
    },
    {
     "name": "stdout",
     "output_type": "stream",
     "text": [
      "[CV]  max_depth=8, colsample_bytree=0.65320586454, subsample=0.999274468447 -   0.0s\n",
      "[CV] max_depth=8, colsample_bytree=0.65320586454, subsample=0.999274468447 \n",
      "[CV]  max_depth=8, colsample_bytree=0.65320586454, subsample=0.999274468447 -   0.0s\n",
      "[CV] max_depth=8, colsample_bytree=0.65320586454, subsample=0.999274468447 \n",
      "[CV]  max_depth=8, colsample_bytree=0.65320586454, subsample=0.999274468447 -   0.0s\n",
      "[CV] max_depth=8, colsample_bytree=0.65320586454, subsample=0.999274468447 \n"
     ]
    },
    {
     "name": "stderr",
     "output_type": "stream",
     "text": [
      "C:\\Users\\Takashi\\Miniconda3\\lib\\site-packages\\sklearn\\metrics\\scorer.py:127: DeprecationWarning: Scoring method log_loss was renamed to neg_log_loss in version 0.18 and will be removed in 0.20.\n",
      "  sample_weight=sample_weight)\n",
      "C:\\Users\\Takashi\\Miniconda3\\lib\\site-packages\\sklearn\\metrics\\scorer.py:127: DeprecationWarning: Scoring method log_loss was renamed to neg_log_loss in version 0.18 and will be removed in 0.20.\n",
      "  sample_weight=sample_weight)\n"
     ]
    },
    {
     "name": "stdout",
     "output_type": "stream",
     "text": [
      "[CV]  max_depth=8, colsample_bytree=0.65320586454, subsample=0.999274468447 -   0.0s\n",
      "[CV] max_depth=8, colsample_bytree=0.65320586454, subsample=0.999274468447 \n",
      "[CV]  max_depth=8, colsample_bytree=0.65320586454, subsample=0.999274468447 -   0.0s\n",
      "[CV] max_depth=8, colsample_bytree=0.961324750045, subsample=0.509979547275 \n"
     ]
    },
    {
     "name": "stderr",
     "output_type": "stream",
     "text": [
      "C:\\Users\\Takashi\\Miniconda3\\lib\\site-packages\\sklearn\\metrics\\scorer.py:127: DeprecationWarning: Scoring method log_loss was renamed to neg_log_loss in version 0.18 and will be removed in 0.20.\n",
      "  sample_weight=sample_weight)\n",
      "C:\\Users\\Takashi\\Miniconda3\\lib\\site-packages\\sklearn\\metrics\\scorer.py:127: DeprecationWarning: Scoring method log_loss was renamed to neg_log_loss in version 0.18 and will be removed in 0.20.\n",
      "  sample_weight=sample_weight)\n",
      "C:\\Users\\Takashi\\Miniconda3\\lib\\site-packages\\sklearn\\metrics\\scorer.py:127: DeprecationWarning: Scoring method log_loss was renamed to neg_log_loss in version 0.18 and will be removed in 0.20.\n",
      "  sample_weight=sample_weight)\n"
     ]
    },
    {
     "name": "stdout",
     "output_type": "stream",
     "text": [
      "[CV]  max_depth=8, colsample_bytree=0.961324750045, subsample=0.509979547275 -   0.0s\n",
      "[CV] max_depth=8, colsample_bytree=0.961324750045, subsample=0.509979547275 \n",
      "[CV]  max_depth=8, colsample_bytree=0.961324750045, subsample=0.509979547275 -   0.0s\n",
      "[CV] max_depth=8, colsample_bytree=0.961324750045, subsample=0.509979547275 \n",
      "[CV]  max_depth=8, colsample_bytree=0.961324750045, subsample=0.509979547275 -   0.0s\n",
      "[CV] max_depth=8, colsample_bytree=0.961324750045, subsample=0.509979547275 \n"
     ]
    },
    {
     "name": "stderr",
     "output_type": "stream",
     "text": [
      "C:\\Users\\Takashi\\Miniconda3\\lib\\site-packages\\sklearn\\metrics\\scorer.py:127: DeprecationWarning: Scoring method log_loss was renamed to neg_log_loss in version 0.18 and will be removed in 0.20.\n",
      "  sample_weight=sample_weight)\n",
      "C:\\Users\\Takashi\\Miniconda3\\lib\\site-packages\\sklearn\\metrics\\scorer.py:127: DeprecationWarning: Scoring method log_loss was renamed to neg_log_loss in version 0.18 and will be removed in 0.20.\n",
      "  sample_weight=sample_weight)\n",
      "C:\\Users\\Takashi\\Miniconda3\\lib\\site-packages\\sklearn\\metrics\\scorer.py:127: DeprecationWarning: Scoring method log_loss was renamed to neg_log_loss in version 0.18 and will be removed in 0.20.\n",
      "  sample_weight=sample_weight)\n"
     ]
    },
    {
     "name": "stdout",
     "output_type": "stream",
     "text": [
      "[CV]  max_depth=8, colsample_bytree=0.961324750045, subsample=0.509979547275 -   0.0s\n",
      "[CV] max_depth=8, colsample_bytree=0.961324750045, subsample=0.509979547275 \n",
      "[CV]  max_depth=8, colsample_bytree=0.961324750045, subsample=0.509979547275 -   0.0s\n",
      "[CV] max_depth=8, colsample_bytree=0.961324750045, subsample=0.509979547275 \n",
      "[CV]  max_depth=8, colsample_bytree=0.961324750045, subsample=0.509979547275 -   0.0s\n",
      "[CV] max_depth=8, colsample_bytree=0.961324750045, subsample=0.509979547275 \n"
     ]
    },
    {
     "name": "stderr",
     "output_type": "stream",
     "text": [
      "C:\\Users\\Takashi\\Miniconda3\\lib\\site-packages\\sklearn\\metrics\\scorer.py:127: DeprecationWarning: Scoring method log_loss was renamed to neg_log_loss in version 0.18 and will be removed in 0.20.\n",
      "  sample_weight=sample_weight)\n",
      "C:\\Users\\Takashi\\Miniconda3\\lib\\site-packages\\sklearn\\metrics\\scorer.py:127: DeprecationWarning: Scoring method log_loss was renamed to neg_log_loss in version 0.18 and will be removed in 0.20.\n",
      "  sample_weight=sample_weight)\n",
      "C:\\Users\\Takashi\\Miniconda3\\lib\\site-packages\\sklearn\\metrics\\scorer.py:127: DeprecationWarning: Scoring method log_loss was renamed to neg_log_loss in version 0.18 and will be removed in 0.20.\n",
      "  sample_weight=sample_weight)\n"
     ]
    },
    {
     "name": "stdout",
     "output_type": "stream",
     "text": [
      "[CV]  max_depth=8, colsample_bytree=0.961324750045, subsample=0.509979547275 -   0.0s\n",
      "[CV] max_depth=8, colsample_bytree=0.961324750045, subsample=0.509979547275 \n",
      "[CV]  max_depth=8, colsample_bytree=0.961324750045, subsample=0.509979547275 -   0.0s\n",
      "[CV] max_depth=8, colsample_bytree=0.961324750045, subsample=0.509979547275 \n",
      "[CV]  max_depth=8, colsample_bytree=0.961324750045, subsample=0.509979547275 -   0.0s\n",
      "[CV] max_depth=8, colsample_bytree=0.961324750045, subsample=0.509979547275 \n"
     ]
    },
    {
     "name": "stderr",
     "output_type": "stream",
     "text": [
      "C:\\Users\\Takashi\\Miniconda3\\lib\\site-packages\\sklearn\\metrics\\scorer.py:127: DeprecationWarning: Scoring method log_loss was renamed to neg_log_loss in version 0.18 and will be removed in 0.20.\n",
      "  sample_weight=sample_weight)\n",
      "C:\\Users\\Takashi\\Miniconda3\\lib\\site-packages\\sklearn\\metrics\\scorer.py:127: DeprecationWarning: Scoring method log_loss was renamed to neg_log_loss in version 0.18 and will be removed in 0.20.\n",
      "  sample_weight=sample_weight)\n"
     ]
    },
    {
     "name": "stdout",
     "output_type": "stream",
     "text": [
      "[CV]  max_depth=8, colsample_bytree=0.961324750045, subsample=0.509979547275 -   0.0s\n",
      "[CV] max_depth=9, colsample_bytree=0.882986384542, subsample=0.803181941807 \n",
      "[CV]  max_depth=9, colsample_bytree=0.882986384542, subsample=0.803181941807 -   0.0s\n",
      "[CV] max_depth=9, colsample_bytree=0.882986384542, subsample=0.803181941807 \n"
     ]
    },
    {
     "name": "stderr",
     "output_type": "stream",
     "text": [
      "C:\\Users\\Takashi\\Miniconda3\\lib\\site-packages\\sklearn\\metrics\\scorer.py:127: DeprecationWarning: Scoring method log_loss was renamed to neg_log_loss in version 0.18 and will be removed in 0.20.\n",
      "  sample_weight=sample_weight)\n",
      "C:\\Users\\Takashi\\Miniconda3\\lib\\site-packages\\sklearn\\metrics\\scorer.py:127: DeprecationWarning: Scoring method log_loss was renamed to neg_log_loss in version 0.18 and will be removed in 0.20.\n",
      "  sample_weight=sample_weight)\n"
     ]
    },
    {
     "name": "stdout",
     "output_type": "stream",
     "text": [
      "[CV]  max_depth=9, colsample_bytree=0.882986384542, subsample=0.803181941807 -   0.0s\n",
      "[CV] max_depth=9, colsample_bytree=0.882986384542, subsample=0.803181941807 \n",
      "[CV]  max_depth=9, colsample_bytree=0.882986384542, subsample=0.803181941807 -   0.0s\n",
      "[CV] max_depth=9, colsample_bytree=0.882986384542, subsample=0.803181941807 \n"
     ]
    },
    {
     "name": "stderr",
     "output_type": "stream",
     "text": [
      "C:\\Users\\Takashi\\Miniconda3\\lib\\site-packages\\sklearn\\metrics\\scorer.py:127: DeprecationWarning: Scoring method log_loss was renamed to neg_log_loss in version 0.18 and will be removed in 0.20.\n",
      "  sample_weight=sample_weight)\n",
      "C:\\Users\\Takashi\\Miniconda3\\lib\\site-packages\\sklearn\\metrics\\scorer.py:127: DeprecationWarning: Scoring method log_loss was renamed to neg_log_loss in version 0.18 and will be removed in 0.20.\n",
      "  sample_weight=sample_weight)\n"
     ]
    },
    {
     "name": "stdout",
     "output_type": "stream",
     "text": [
      "[CV]  max_depth=9, colsample_bytree=0.882986384542, subsample=0.803181941807 -   0.0s\n",
      "[CV] max_depth=9, colsample_bytree=0.882986384542, subsample=0.803181941807 \n",
      "[CV]  max_depth=9, colsample_bytree=0.882986384542, subsample=0.803181941807 -   0.0s\n",
      "[CV] max_depth=9, colsample_bytree=0.882986384542, subsample=0.803181941807 \n"
     ]
    },
    {
     "name": "stderr",
     "output_type": "stream",
     "text": [
      "C:\\Users\\Takashi\\Miniconda3\\lib\\site-packages\\sklearn\\metrics\\scorer.py:127: DeprecationWarning: Scoring method log_loss was renamed to neg_log_loss in version 0.18 and will be removed in 0.20.\n",
      "  sample_weight=sample_weight)\n",
      "C:\\Users\\Takashi\\Miniconda3\\lib\\site-packages\\sklearn\\metrics\\scorer.py:127: DeprecationWarning: Scoring method log_loss was renamed to neg_log_loss in version 0.18 and will be removed in 0.20.\n",
      "  sample_weight=sample_weight)\n"
     ]
    },
    {
     "name": "stdout",
     "output_type": "stream",
     "text": [
      "[CV]  max_depth=9, colsample_bytree=0.882986384542, subsample=0.803181941807 -   0.0s\n",
      "[CV] max_depth=9, colsample_bytree=0.882986384542, subsample=0.803181941807 \n",
      "[CV]  max_depth=9, colsample_bytree=0.882986384542, subsample=0.803181941807 -   0.0s\n",
      "[CV] max_depth=9, colsample_bytree=0.882986384542, subsample=0.803181941807 \n"
     ]
    },
    {
     "name": "stderr",
     "output_type": "stream",
     "text": [
      "C:\\Users\\Takashi\\Miniconda3\\lib\\site-packages\\sklearn\\metrics\\scorer.py:127: DeprecationWarning: Scoring method log_loss was renamed to neg_log_loss in version 0.18 and will be removed in 0.20.\n",
      "  sample_weight=sample_weight)\n",
      "C:\\Users\\Takashi\\Miniconda3\\lib\\site-packages\\sklearn\\metrics\\scorer.py:127: DeprecationWarning: Scoring method log_loss was renamed to neg_log_loss in version 0.18 and will be removed in 0.20.\n",
      "  sample_weight=sample_weight)\n"
     ]
    },
    {
     "name": "stdout",
     "output_type": "stream",
     "text": [
      "[CV]  max_depth=9, colsample_bytree=0.882986384542, subsample=0.803181941807 -   0.0s\n",
      "[CV] max_depth=9, colsample_bytree=0.882986384542, subsample=0.803181941807 \n",
      "[CV]  max_depth=9, colsample_bytree=0.882986384542, subsample=0.803181941807 -   0.0s\n",
      "[CV] max_depth=9, colsample_bytree=0.882986384542, subsample=0.803181941807 \n"
     ]
    },
    {
     "name": "stderr",
     "output_type": "stream",
     "text": [
      "C:\\Users\\Takashi\\Miniconda3\\lib\\site-packages\\sklearn\\metrics\\scorer.py:127: DeprecationWarning: Scoring method log_loss was renamed to neg_log_loss in version 0.18 and will be removed in 0.20.\n",
      "  sample_weight=sample_weight)\n",
      "C:\\Users\\Takashi\\Miniconda3\\lib\\site-packages\\sklearn\\metrics\\scorer.py:127: DeprecationWarning: Scoring method log_loss was renamed to neg_log_loss in version 0.18 and will be removed in 0.20.\n",
      "  sample_weight=sample_weight)\n",
      "C:\\Users\\Takashi\\Miniconda3\\lib\\site-packages\\sklearn\\metrics\\scorer.py:127: DeprecationWarning: Scoring method log_loss was renamed to neg_log_loss in version 0.18 and will be removed in 0.20.\n",
      "  sample_weight=sample_weight)\n"
     ]
    },
    {
     "name": "stdout",
     "output_type": "stream",
     "text": [
      "[CV]  max_depth=9, colsample_bytree=0.882986384542, subsample=0.803181941807 -   0.0s\n",
      "[CV] max_depth=4, colsample_bytree=0.991009195841, subsample=0.733001395136 \n",
      "[CV]  max_depth=4, colsample_bytree=0.991009195841, subsample=0.733001395136 -   0.0s\n",
      "[CV] max_depth=4, colsample_bytree=0.991009195841, subsample=0.733001395136 \n",
      "[CV]  max_depth=4, colsample_bytree=0.991009195841, subsample=0.733001395136 -   0.0s\n",
      "[CV] max_depth=4, colsample_bytree=0.991009195841, subsample=0.733001395136 \n"
     ]
    },
    {
     "name": "stderr",
     "output_type": "stream",
     "text": [
      "C:\\Users\\Takashi\\Miniconda3\\lib\\site-packages\\sklearn\\metrics\\scorer.py:127: DeprecationWarning: Scoring method log_loss was renamed to neg_log_loss in version 0.18 and will be removed in 0.20.\n",
      "  sample_weight=sample_weight)\n",
      "C:\\Users\\Takashi\\Miniconda3\\lib\\site-packages\\sklearn\\metrics\\scorer.py:127: DeprecationWarning: Scoring method log_loss was renamed to neg_log_loss in version 0.18 and will be removed in 0.20.\n",
      "  sample_weight=sample_weight)\n",
      "C:\\Users\\Takashi\\Miniconda3\\lib\\site-packages\\sklearn\\metrics\\scorer.py:127: DeprecationWarning: Scoring method log_loss was renamed to neg_log_loss in version 0.18 and will be removed in 0.20.\n",
      "  sample_weight=sample_weight)\n",
      "C:\\Users\\Takashi\\Miniconda3\\lib\\site-packages\\sklearn\\metrics\\scorer.py:127: DeprecationWarning: Scoring method log_loss was renamed to neg_log_loss in version 0.18 and will be removed in 0.20.\n",
      "  sample_weight=sample_weight)\n"
     ]
    },
    {
     "name": "stdout",
     "output_type": "stream",
     "text": [
      "[CV]  max_depth=4, colsample_bytree=0.991009195841, subsample=0.733001395136 -   0.0s\n",
      "[CV] max_depth=4, colsample_bytree=0.991009195841, subsample=0.733001395136 \n",
      "[CV]  max_depth=4, colsample_bytree=0.991009195841, subsample=0.733001395136 -   0.0s\n",
      "[CV] max_depth=4, colsample_bytree=0.991009195841, subsample=0.733001395136 \n",
      "[CV]  max_depth=4, colsample_bytree=0.991009195841, subsample=0.733001395136 -   0.0s\n",
      "[CV] max_depth=4, colsample_bytree=0.991009195841, subsample=0.733001395136 \n",
      "[CV]  max_depth=4, colsample_bytree=0.991009195841, subsample=0.733001395136 -   0.0s\n",
      "[CV] max_depth=4, colsample_bytree=0.991009195841, subsample=0.733001395136 \n"
     ]
    },
    {
     "name": "stderr",
     "output_type": "stream",
     "text": [
      "C:\\Users\\Takashi\\Miniconda3\\lib\\site-packages\\sklearn\\metrics\\scorer.py:127: DeprecationWarning: Scoring method log_loss was renamed to neg_log_loss in version 0.18 and will be removed in 0.20.\n",
      "  sample_weight=sample_weight)\n",
      "C:\\Users\\Takashi\\Miniconda3\\lib\\site-packages\\sklearn\\metrics\\scorer.py:127: DeprecationWarning: Scoring method log_loss was renamed to neg_log_loss in version 0.18 and will be removed in 0.20.\n",
      "  sample_weight=sample_weight)\n",
      "C:\\Users\\Takashi\\Miniconda3\\lib\\site-packages\\sklearn\\metrics\\scorer.py:127: DeprecationWarning: Scoring method log_loss was renamed to neg_log_loss in version 0.18 and will be removed in 0.20.\n",
      "  sample_weight=sample_weight)\n",
      "C:\\Users\\Takashi\\Miniconda3\\lib\\site-packages\\sklearn\\metrics\\scorer.py:127: DeprecationWarning: Scoring method log_loss was renamed to neg_log_loss in version 0.18 and will be removed in 0.20.\n",
      "  sample_weight=sample_weight)\n"
     ]
    },
    {
     "name": "stdout",
     "output_type": "stream",
     "text": [
      "[CV]  max_depth=4, colsample_bytree=0.991009195841, subsample=0.733001395136 -   0.0s\n",
      "[CV] max_depth=4, colsample_bytree=0.991009195841, subsample=0.733001395136 \n",
      "[CV]  max_depth=4, colsample_bytree=0.991009195841, subsample=0.733001395136 -   0.0s\n",
      "[CV] max_depth=4, colsample_bytree=0.991009195841, subsample=0.733001395136 \n",
      "[CV]  max_depth=4, colsample_bytree=0.991009195841, subsample=0.733001395136 -   0.0s\n",
      "[CV] max_depth=4, colsample_bytree=0.991009195841, subsample=0.733001395136 \n",
      "[CV]  max_depth=4, colsample_bytree=0.991009195841, subsample=0.733001395136 -   0.0s\n",
      "[CV] max_depth=5, colsample_bytree=0.77211452009, subsample=0.943017744504 \n"
     ]
    },
    {
     "name": "stderr",
     "output_type": "stream",
     "text": [
      "C:\\Users\\Takashi\\Miniconda3\\lib\\site-packages\\sklearn\\metrics\\scorer.py:127: DeprecationWarning: Scoring method log_loss was renamed to neg_log_loss in version 0.18 and will be removed in 0.20.\n",
      "  sample_weight=sample_weight)\n",
      "C:\\Users\\Takashi\\Miniconda3\\lib\\site-packages\\sklearn\\metrics\\scorer.py:127: DeprecationWarning: Scoring method log_loss was renamed to neg_log_loss in version 0.18 and will be removed in 0.20.\n",
      "  sample_weight=sample_weight)\n",
      "C:\\Users\\Takashi\\Miniconda3\\lib\\site-packages\\sklearn\\metrics\\scorer.py:127: DeprecationWarning: Scoring method log_loss was renamed to neg_log_loss in version 0.18 and will be removed in 0.20.\n",
      "  sample_weight=sample_weight)\n"
     ]
    },
    {
     "name": "stdout",
     "output_type": "stream",
     "text": [
      "[CV]  max_depth=5, colsample_bytree=0.77211452009, subsample=0.943017744504 -   0.0s\n",
      "[CV] max_depth=5, colsample_bytree=0.77211452009, subsample=0.943017744504 \n",
      "[CV]  max_depth=5, colsample_bytree=0.77211452009, subsample=0.943017744504 -   0.0s\n",
      "[CV] max_depth=5, colsample_bytree=0.77211452009, subsample=0.943017744504 \n",
      "[CV]  max_depth=5, colsample_bytree=0.77211452009, subsample=0.943017744504 -   0.0s\n",
      "[CV] max_depth=5, colsample_bytree=0.77211452009, subsample=0.943017744504 \n"
     ]
    },
    {
     "name": "stderr",
     "output_type": "stream",
     "text": [
      "C:\\Users\\Takashi\\Miniconda3\\lib\\site-packages\\sklearn\\metrics\\scorer.py:127: DeprecationWarning: Scoring method log_loss was renamed to neg_log_loss in version 0.18 and will be removed in 0.20.\n",
      "  sample_weight=sample_weight)\n",
      "C:\\Users\\Takashi\\Miniconda3\\lib\\site-packages\\sklearn\\metrics\\scorer.py:127: DeprecationWarning: Scoring method log_loss was renamed to neg_log_loss in version 0.18 and will be removed in 0.20.\n",
      "  sample_weight=sample_weight)\n",
      "C:\\Users\\Takashi\\Miniconda3\\lib\\site-packages\\sklearn\\metrics\\scorer.py:127: DeprecationWarning: Scoring method log_loss was renamed to neg_log_loss in version 0.18 and will be removed in 0.20.\n",
      "  sample_weight=sample_weight)\n"
     ]
    },
    {
     "name": "stdout",
     "output_type": "stream",
     "text": [
      "[CV]  max_depth=5, colsample_bytree=0.77211452009, subsample=0.943017744504 -   0.0s\n",
      "[CV] max_depth=5, colsample_bytree=0.77211452009, subsample=0.943017744504 \n",
      "[CV]  max_depth=5, colsample_bytree=0.77211452009, subsample=0.943017744504 -   0.0s\n",
      "[CV] max_depth=5, colsample_bytree=0.77211452009, subsample=0.943017744504 \n",
      "[CV]  max_depth=5, colsample_bytree=0.77211452009, subsample=0.943017744504 -   0.0s\n",
      "[CV] max_depth=5, colsample_bytree=0.77211452009, subsample=0.943017744504 \n"
     ]
    },
    {
     "name": "stderr",
     "output_type": "stream",
     "text": [
      "C:\\Users\\Takashi\\Miniconda3\\lib\\site-packages\\sklearn\\metrics\\scorer.py:127: DeprecationWarning: Scoring method log_loss was renamed to neg_log_loss in version 0.18 and will be removed in 0.20.\n",
      "  sample_weight=sample_weight)\n",
      "C:\\Users\\Takashi\\Miniconda3\\lib\\site-packages\\sklearn\\metrics\\scorer.py:127: DeprecationWarning: Scoring method log_loss was renamed to neg_log_loss in version 0.18 and will be removed in 0.20.\n",
      "  sample_weight=sample_weight)\n",
      "C:\\Users\\Takashi\\Miniconda3\\lib\\site-packages\\sklearn\\metrics\\scorer.py:127: DeprecationWarning: Scoring method log_loss was renamed to neg_log_loss in version 0.18 and will be removed in 0.20.\n",
      "  sample_weight=sample_weight)\n"
     ]
    },
    {
     "name": "stdout",
     "output_type": "stream",
     "text": [
      "[CV]  max_depth=5, colsample_bytree=0.77211452009, subsample=0.943017744504 -   0.0s\n",
      "[CV] max_depth=5, colsample_bytree=0.77211452009, subsample=0.943017744504 \n",
      "[CV]  max_depth=5, colsample_bytree=0.77211452009, subsample=0.943017744504 -   0.0s\n",
      "[CV] max_depth=5, colsample_bytree=0.77211452009, subsample=0.943017744504 \n",
      "[CV]  max_depth=5, colsample_bytree=0.77211452009, subsample=0.943017744504 -   0.0s\n",
      "[CV] max_depth=5, colsample_bytree=0.77211452009, subsample=0.943017744504 \n"
     ]
    },
    {
     "name": "stderr",
     "output_type": "stream",
     "text": [
      "C:\\Users\\Takashi\\Miniconda3\\lib\\site-packages\\sklearn\\metrics\\scorer.py:127: DeprecationWarning: Scoring method log_loss was renamed to neg_log_loss in version 0.18 and will be removed in 0.20.\n",
      "  sample_weight=sample_weight)\n",
      "C:\\Users\\Takashi\\Miniconda3\\lib\\site-packages\\sklearn\\metrics\\scorer.py:127: DeprecationWarning: Scoring method log_loss was renamed to neg_log_loss in version 0.18 and will be removed in 0.20.\n",
      "  sample_weight=sample_weight)\n"
     ]
    },
    {
     "name": "stdout",
     "output_type": "stream",
     "text": [
      "[CV]  max_depth=5, colsample_bytree=0.77211452009, subsample=0.943017744504 -   0.0s\n",
      "[CV] max_depth=10, colsample_bytree=0.543058807008, subsample=0.911890870333 \n",
      "[CV]  max_depth=10, colsample_bytree=0.543058807008, subsample=0.911890870333 -   0.0s\n",
      "[CV] max_depth=10, colsample_bytree=0.543058807008, subsample=0.911890870333 \n"
     ]
    },
    {
     "name": "stderr",
     "output_type": "stream",
     "text": [
      "C:\\Users\\Takashi\\Miniconda3\\lib\\site-packages\\sklearn\\metrics\\scorer.py:127: DeprecationWarning: Scoring method log_loss was renamed to neg_log_loss in version 0.18 and will be removed in 0.20.\n",
      "  sample_weight=sample_weight)\n",
      "C:\\Users\\Takashi\\Miniconda3\\lib\\site-packages\\sklearn\\metrics\\scorer.py:127: DeprecationWarning: Scoring method log_loss was renamed to neg_log_loss in version 0.18 and will be removed in 0.20.\n",
      "  sample_weight=sample_weight)\n"
     ]
    },
    {
     "name": "stdout",
     "output_type": "stream",
     "text": [
      "[CV]  max_depth=10, colsample_bytree=0.543058807008, subsample=0.911890870333 -   0.0s\n",
      "[CV] max_depth=10, colsample_bytree=0.543058807008, subsample=0.911890870333 \n",
      "[CV]  max_depth=10, colsample_bytree=0.543058807008, subsample=0.911890870333 -   0.0s\n",
      "[CV] max_depth=10, colsample_bytree=0.543058807008, subsample=0.911890870333 \n"
     ]
    },
    {
     "name": "stderr",
     "output_type": "stream",
     "text": [
      "C:\\Users\\Takashi\\Miniconda3\\lib\\site-packages\\sklearn\\metrics\\scorer.py:127: DeprecationWarning: Scoring method log_loss was renamed to neg_log_loss in version 0.18 and will be removed in 0.20.\n",
      "  sample_weight=sample_weight)\n",
      "C:\\Users\\Takashi\\Miniconda3\\lib\\site-packages\\sklearn\\metrics\\scorer.py:127: DeprecationWarning: Scoring method log_loss was renamed to neg_log_loss in version 0.18 and will be removed in 0.20.\n",
      "  sample_weight=sample_weight)\n"
     ]
    },
    {
     "name": "stdout",
     "output_type": "stream",
     "text": [
      "[CV]  max_depth=10, colsample_bytree=0.543058807008, subsample=0.911890870333 -   0.0s\n",
      "[CV] max_depth=10, colsample_bytree=0.543058807008, subsample=0.911890870333 \n",
      "[CV]  max_depth=10, colsample_bytree=0.543058807008, subsample=0.911890870333 -   0.0s\n",
      "[CV] max_depth=10, colsample_bytree=0.543058807008, subsample=0.911890870333 \n"
     ]
    },
    {
     "name": "stderr",
     "output_type": "stream",
     "text": [
      "C:\\Users\\Takashi\\Miniconda3\\lib\\site-packages\\sklearn\\metrics\\scorer.py:127: DeprecationWarning: Scoring method log_loss was renamed to neg_log_loss in version 0.18 and will be removed in 0.20.\n",
      "  sample_weight=sample_weight)\n",
      "C:\\Users\\Takashi\\Miniconda3\\lib\\site-packages\\sklearn\\metrics\\scorer.py:127: DeprecationWarning: Scoring method log_loss was renamed to neg_log_loss in version 0.18 and will be removed in 0.20.\n",
      "  sample_weight=sample_weight)\n"
     ]
    },
    {
     "name": "stdout",
     "output_type": "stream",
     "text": [
      "[CV]  max_depth=10, colsample_bytree=0.543058807008, subsample=0.911890870333 -   0.0s\n",
      "[CV] max_depth=10, colsample_bytree=0.543058807008, subsample=0.911890870333 \n",
      "[CV]  max_depth=10, colsample_bytree=0.543058807008, subsample=0.911890870333 -   0.0s\n",
      "[CV] max_depth=10, colsample_bytree=0.543058807008, subsample=0.911890870333 \n"
     ]
    },
    {
     "name": "stderr",
     "output_type": "stream",
     "text": [
      "C:\\Users\\Takashi\\Miniconda3\\lib\\site-packages\\sklearn\\metrics\\scorer.py:127: DeprecationWarning: Scoring method log_loss was renamed to neg_log_loss in version 0.18 and will be removed in 0.20.\n",
      "  sample_weight=sample_weight)\n",
      "C:\\Users\\Takashi\\Miniconda3\\lib\\site-packages\\sklearn\\metrics\\scorer.py:127: DeprecationWarning: Scoring method log_loss was renamed to neg_log_loss in version 0.18 and will be removed in 0.20.\n",
      "  sample_weight=sample_weight)\n"
     ]
    },
    {
     "name": "stdout",
     "output_type": "stream",
     "text": [
      "[CV]  max_depth=10, colsample_bytree=0.543058807008, subsample=0.911890870333 -   0.0s\n",
      "[CV] max_depth=10, colsample_bytree=0.543058807008, subsample=0.911890870333 \n",
      "[CV]  max_depth=10, colsample_bytree=0.543058807008, subsample=0.911890870333 -   0.0s\n",
      "[CV] max_depth=10, colsample_bytree=0.543058807008, subsample=0.911890870333 \n"
     ]
    },
    {
     "name": "stderr",
     "output_type": "stream",
     "text": [
      "C:\\Users\\Takashi\\Miniconda3\\lib\\site-packages\\sklearn\\metrics\\scorer.py:127: DeprecationWarning: Scoring method log_loss was renamed to neg_log_loss in version 0.18 and will be removed in 0.20.\n",
      "  sample_weight=sample_weight)\n",
      "C:\\Users\\Takashi\\Miniconda3\\lib\\site-packages\\sklearn\\metrics\\scorer.py:127: DeprecationWarning: Scoring method log_loss was renamed to neg_log_loss in version 0.18 and will be removed in 0.20.\n",
      "  sample_weight=sample_weight)\n"
     ]
    },
    {
     "name": "stdout",
     "output_type": "stream",
     "text": [
      "[CV]  max_depth=10, colsample_bytree=0.543058807008, subsample=0.911890870333 -   0.1s\n",
      "[CV] max_depth=10, colsample_bytree=0.818278712146, subsample=0.521254086005 \n",
      "[CV]  max_depth=10, colsample_bytree=0.818278712146, subsample=0.521254086005 -   0.0s\n",
      "[CV] max_depth=10, colsample_bytree=0.818278712146, subsample=0.521254086005 \n"
     ]
    },
    {
     "name": "stderr",
     "output_type": "stream",
     "text": [
      "C:\\Users\\Takashi\\Miniconda3\\lib\\site-packages\\sklearn\\metrics\\scorer.py:127: DeprecationWarning: Scoring method log_loss was renamed to neg_log_loss in version 0.18 and will be removed in 0.20.\n",
      "  sample_weight=sample_weight)\n",
      "C:\\Users\\Takashi\\Miniconda3\\lib\\site-packages\\sklearn\\metrics\\scorer.py:127: DeprecationWarning: Scoring method log_loss was renamed to neg_log_loss in version 0.18 and will be removed in 0.20.\n",
      "  sample_weight=sample_weight)\n"
     ]
    },
    {
     "name": "stdout",
     "output_type": "stream",
     "text": [
      "[CV]  max_depth=10, colsample_bytree=0.818278712146, subsample=0.521254086005 -   0.0s\n",
      "[CV] max_depth=10, colsample_bytree=0.818278712146, subsample=0.521254086005 \n",
      "[CV]  max_depth=10, colsample_bytree=0.818278712146, subsample=0.521254086005 -   0.0s\n",
      "[CV] max_depth=10, colsample_bytree=0.818278712146, subsample=0.521254086005 \n"
     ]
    },
    {
     "name": "stderr",
     "output_type": "stream",
     "text": [
      "C:\\Users\\Takashi\\Miniconda3\\lib\\site-packages\\sklearn\\metrics\\scorer.py:127: DeprecationWarning: Scoring method log_loss was renamed to neg_log_loss in version 0.18 and will be removed in 0.20.\n",
      "  sample_weight=sample_weight)\n",
      "C:\\Users\\Takashi\\Miniconda3\\lib\\site-packages\\sklearn\\metrics\\scorer.py:127: DeprecationWarning: Scoring method log_loss was renamed to neg_log_loss in version 0.18 and will be removed in 0.20.\n",
      "  sample_weight=sample_weight)\n"
     ]
    },
    {
     "name": "stdout",
     "output_type": "stream",
     "text": [
      "[CV]  max_depth=10, colsample_bytree=0.818278712146, subsample=0.521254086005 -   0.0s\n",
      "[CV] max_depth=10, colsample_bytree=0.818278712146, subsample=0.521254086005 \n",
      "[CV]  max_depth=10, colsample_bytree=0.818278712146, subsample=0.521254086005 -   0.0s\n",
      "[CV] max_depth=10, colsample_bytree=0.818278712146, subsample=0.521254086005 \n"
     ]
    },
    {
     "name": "stderr",
     "output_type": "stream",
     "text": [
      "C:\\Users\\Takashi\\Miniconda3\\lib\\site-packages\\sklearn\\metrics\\scorer.py:127: DeprecationWarning: Scoring method log_loss was renamed to neg_log_loss in version 0.18 and will be removed in 0.20.\n",
      "  sample_weight=sample_weight)\n",
      "C:\\Users\\Takashi\\Miniconda3\\lib\\site-packages\\sklearn\\metrics\\scorer.py:127: DeprecationWarning: Scoring method log_loss was renamed to neg_log_loss in version 0.18 and will be removed in 0.20.\n",
      "  sample_weight=sample_weight)\n"
     ]
    },
    {
     "name": "stdout",
     "output_type": "stream",
     "text": [
      "[CV]  max_depth=10, colsample_bytree=0.818278712146, subsample=0.521254086005 -   0.1s\n",
      "[CV] max_depth=10, colsample_bytree=0.818278712146, subsample=0.521254086005 \n",
      "[CV]  max_depth=10, colsample_bytree=0.818278712146, subsample=0.521254086005 -   0.0s\n",
      "[CV] max_depth=10, colsample_bytree=0.818278712146, subsample=0.521254086005 \n"
     ]
    },
    {
     "name": "stderr",
     "output_type": "stream",
     "text": [
      "C:\\Users\\Takashi\\Miniconda3\\lib\\site-packages\\sklearn\\metrics\\scorer.py:127: DeprecationWarning: Scoring method log_loss was renamed to neg_log_loss in version 0.18 and will be removed in 0.20.\n",
      "  sample_weight=sample_weight)\n",
      "C:\\Users\\Takashi\\Miniconda3\\lib\\site-packages\\sklearn\\metrics\\scorer.py:127: DeprecationWarning: Scoring method log_loss was renamed to neg_log_loss in version 0.18 and will be removed in 0.20.\n",
      "  sample_weight=sample_weight)\n"
     ]
    },
    {
     "name": "stdout",
     "output_type": "stream",
     "text": [
      "[CV]  max_depth=10, colsample_bytree=0.818278712146, subsample=0.521254086005 -   0.0s\n",
      "[CV] max_depth=10, colsample_bytree=0.818278712146, subsample=0.521254086005 \n",
      "[CV]  max_depth=10, colsample_bytree=0.818278712146, subsample=0.521254086005 -   0.0s\n",
      "[CV] max_depth=10, colsample_bytree=0.818278712146, subsample=0.521254086005 \n"
     ]
    },
    {
     "name": "stderr",
     "output_type": "stream",
     "text": [
      "C:\\Users\\Takashi\\Miniconda3\\lib\\site-packages\\sklearn\\metrics\\scorer.py:127: DeprecationWarning: Scoring method log_loss was renamed to neg_log_loss in version 0.18 and will be removed in 0.20.\n",
      "  sample_weight=sample_weight)\n",
      "C:\\Users\\Takashi\\Miniconda3\\lib\\site-packages\\sklearn\\metrics\\scorer.py:127: DeprecationWarning: Scoring method log_loss was renamed to neg_log_loss in version 0.18 and will be removed in 0.20.\n",
      "  sample_weight=sample_weight)\n"
     ]
    },
    {
     "name": "stdout",
     "output_type": "stream",
     "text": [
      "[CV]  max_depth=10, colsample_bytree=0.818278712146, subsample=0.521254086005 -   0.0s\n",
      "[CV] max_depth=8, colsample_bytree=0.758430545419, subsample=0.573731147981 \n",
      "[CV]  max_depth=8, colsample_bytree=0.758430545419, subsample=0.573731147981 -   0.0s\n",
      "[CV] max_depth=8, colsample_bytree=0.758430545419, subsample=0.573731147981 \n"
     ]
    },
    {
     "name": "stderr",
     "output_type": "stream",
     "text": [
      "C:\\Users\\Takashi\\Miniconda3\\lib\\site-packages\\sklearn\\metrics\\scorer.py:127: DeprecationWarning: Scoring method log_loss was renamed to neg_log_loss in version 0.18 and will be removed in 0.20.\n",
      "  sample_weight=sample_weight)\n",
      "C:\\Users\\Takashi\\Miniconda3\\lib\\site-packages\\sklearn\\metrics\\scorer.py:127: DeprecationWarning: Scoring method log_loss was renamed to neg_log_loss in version 0.18 and will be removed in 0.20.\n",
      "  sample_weight=sample_weight)\n"
     ]
    },
    {
     "name": "stdout",
     "output_type": "stream",
     "text": [
      "[CV]  max_depth=8, colsample_bytree=0.758430545419, subsample=0.573731147981 -   0.0s\n",
      "[CV] max_depth=8, colsample_bytree=0.758430545419, subsample=0.573731147981 \n",
      "[CV]  max_depth=8, colsample_bytree=0.758430545419, subsample=0.573731147981 -   0.0s\n",
      "[CV] max_depth=8, colsample_bytree=0.758430545419, subsample=0.573731147981 \n"
     ]
    },
    {
     "name": "stderr",
     "output_type": "stream",
     "text": [
      "C:\\Users\\Takashi\\Miniconda3\\lib\\site-packages\\sklearn\\metrics\\scorer.py:127: DeprecationWarning: Scoring method log_loss was renamed to neg_log_loss in version 0.18 and will be removed in 0.20.\n",
      "  sample_weight=sample_weight)\n",
      "C:\\Users\\Takashi\\Miniconda3\\lib\\site-packages\\sklearn\\metrics\\scorer.py:127: DeprecationWarning: Scoring method log_loss was renamed to neg_log_loss in version 0.18 and will be removed in 0.20.\n",
      "  sample_weight=sample_weight)\n"
     ]
    },
    {
     "name": "stdout",
     "output_type": "stream",
     "text": [
      "[CV]  max_depth=8, colsample_bytree=0.758430545419, subsample=0.573731147981 -   0.0s\n",
      "[CV] max_depth=8, colsample_bytree=0.758430545419, subsample=0.573731147981 \n",
      "[CV]  max_depth=8, colsample_bytree=0.758430545419, subsample=0.573731147981 -   0.0s\n",
      "[CV] max_depth=8, colsample_bytree=0.758430545419, subsample=0.573731147981 \n"
     ]
    },
    {
     "name": "stderr",
     "output_type": "stream",
     "text": [
      "C:\\Users\\Takashi\\Miniconda3\\lib\\site-packages\\sklearn\\metrics\\scorer.py:127: DeprecationWarning: Scoring method log_loss was renamed to neg_log_loss in version 0.18 and will be removed in 0.20.\n",
      "  sample_weight=sample_weight)\n",
      "C:\\Users\\Takashi\\Miniconda3\\lib\\site-packages\\sklearn\\metrics\\scorer.py:127: DeprecationWarning: Scoring method log_loss was renamed to neg_log_loss in version 0.18 and will be removed in 0.20.\n",
      "  sample_weight=sample_weight)\n"
     ]
    },
    {
     "name": "stdout",
     "output_type": "stream",
     "text": [
      "[CV]  max_depth=8, colsample_bytree=0.758430545419, subsample=0.573731147981 -   0.0s\n",
      "[CV] max_depth=8, colsample_bytree=0.758430545419, subsample=0.573731147981 \n",
      "[CV]  max_depth=8, colsample_bytree=0.758430545419, subsample=0.573731147981 -   0.0s\n",
      "[CV] max_depth=8, colsample_bytree=0.758430545419, subsample=0.573731147981 \n"
     ]
    },
    {
     "name": "stderr",
     "output_type": "stream",
     "text": [
      "C:\\Users\\Takashi\\Miniconda3\\lib\\site-packages\\sklearn\\metrics\\scorer.py:127: DeprecationWarning: Scoring method log_loss was renamed to neg_log_loss in version 0.18 and will be removed in 0.20.\n",
      "  sample_weight=sample_weight)\n",
      "C:\\Users\\Takashi\\Miniconda3\\lib\\site-packages\\sklearn\\metrics\\scorer.py:127: DeprecationWarning: Scoring method log_loss was renamed to neg_log_loss in version 0.18 and will be removed in 0.20.\n",
      "  sample_weight=sample_weight)\n"
     ]
    },
    {
     "name": "stdout",
     "output_type": "stream",
     "text": [
      "[CV]  max_depth=8, colsample_bytree=0.758430545419, subsample=0.573731147981 -   0.0s\n",
      "[CV] max_depth=8, colsample_bytree=0.758430545419, subsample=0.573731147981 \n",
      "[CV]  max_depth=8, colsample_bytree=0.758430545419, subsample=0.573731147981 -   0.0s\n",
      "[CV] max_depth=8, colsample_bytree=0.758430545419, subsample=0.573731147981 \n"
     ]
    },
    {
     "name": "stderr",
     "output_type": "stream",
     "text": [
      "C:\\Users\\Takashi\\Miniconda3\\lib\\site-packages\\sklearn\\metrics\\scorer.py:127: DeprecationWarning: Scoring method log_loss was renamed to neg_log_loss in version 0.18 and will be removed in 0.20.\n",
      "  sample_weight=sample_weight)\n",
      "C:\\Users\\Takashi\\Miniconda3\\lib\\site-packages\\sklearn\\metrics\\scorer.py:127: DeprecationWarning: Scoring method log_loss was renamed to neg_log_loss in version 0.18 and will be removed in 0.20.\n",
      "  sample_weight=sample_weight)\n"
     ]
    },
    {
     "name": "stdout",
     "output_type": "stream",
     "text": [
      "[CV]  max_depth=8, colsample_bytree=0.758430545419, subsample=0.573731147981 -   0.0s\n",
      "[CV] max_depth=8, colsample_bytree=0.977945607225, subsample=0.932069094682 \n",
      "[CV]  max_depth=8, colsample_bytree=0.977945607225, subsample=0.932069094682 -   0.0s\n",
      "[CV] max_depth=8, colsample_bytree=0.977945607225, subsample=0.932069094682 \n"
     ]
    },
    {
     "name": "stderr",
     "output_type": "stream",
     "text": [
      "C:\\Users\\Takashi\\Miniconda3\\lib\\site-packages\\sklearn\\metrics\\scorer.py:127: DeprecationWarning: Scoring method log_loss was renamed to neg_log_loss in version 0.18 and will be removed in 0.20.\n",
      "  sample_weight=sample_weight)\n",
      "C:\\Users\\Takashi\\Miniconda3\\lib\\site-packages\\sklearn\\metrics\\scorer.py:127: DeprecationWarning: Scoring method log_loss was renamed to neg_log_loss in version 0.18 and will be removed in 0.20.\n",
      "  sample_weight=sample_weight)\n"
     ]
    },
    {
     "name": "stdout",
     "output_type": "stream",
     "text": [
      "[CV]  max_depth=8, colsample_bytree=0.977945607225, subsample=0.932069094682 -   0.0s\n",
      "[CV] max_depth=8, colsample_bytree=0.977945607225, subsample=0.932069094682 \n",
      "[CV]  max_depth=8, colsample_bytree=0.977945607225, subsample=0.932069094682 -   0.0s\n",
      "[CV] max_depth=8, colsample_bytree=0.977945607225, subsample=0.932069094682 \n"
     ]
    },
    {
     "name": "stderr",
     "output_type": "stream",
     "text": [
      "C:\\Users\\Takashi\\Miniconda3\\lib\\site-packages\\sklearn\\metrics\\scorer.py:127: DeprecationWarning: Scoring method log_loss was renamed to neg_log_loss in version 0.18 and will be removed in 0.20.\n",
      "  sample_weight=sample_weight)\n",
      "C:\\Users\\Takashi\\Miniconda3\\lib\\site-packages\\sklearn\\metrics\\scorer.py:127: DeprecationWarning: Scoring method log_loss was renamed to neg_log_loss in version 0.18 and will be removed in 0.20.\n",
      "  sample_weight=sample_weight)\n"
     ]
    },
    {
     "name": "stdout",
     "output_type": "stream",
     "text": [
      "[CV]  max_depth=8, colsample_bytree=0.977945607225, subsample=0.932069094682 -   0.0s\n",
      "[CV] max_depth=8, colsample_bytree=0.977945607225, subsample=0.932069094682 \n",
      "[CV]  max_depth=8, colsample_bytree=0.977945607225, subsample=0.932069094682 -   0.0s\n",
      "[CV] max_depth=8, colsample_bytree=0.977945607225, subsample=0.932069094682 \n"
     ]
    },
    {
     "name": "stderr",
     "output_type": "stream",
     "text": [
      "C:\\Users\\Takashi\\Miniconda3\\lib\\site-packages\\sklearn\\metrics\\scorer.py:127: DeprecationWarning: Scoring method log_loss was renamed to neg_log_loss in version 0.18 and will be removed in 0.20.\n",
      "  sample_weight=sample_weight)\n",
      "C:\\Users\\Takashi\\Miniconda3\\lib\\site-packages\\sklearn\\metrics\\scorer.py:127: DeprecationWarning: Scoring method log_loss was renamed to neg_log_loss in version 0.18 and will be removed in 0.20.\n",
      "  sample_weight=sample_weight)\n"
     ]
    },
    {
     "name": "stdout",
     "output_type": "stream",
     "text": [
      "[CV]  max_depth=8, colsample_bytree=0.977945607225, subsample=0.932069094682 -   0.0s\n",
      "[CV] max_depth=8, colsample_bytree=0.977945607225, subsample=0.932069094682 \n",
      "[CV]  max_depth=8, colsample_bytree=0.977945607225, subsample=0.932069094682 -   0.0s\n",
      "[CV] max_depth=8, colsample_bytree=0.977945607225, subsample=0.932069094682 \n"
     ]
    },
    {
     "name": "stderr",
     "output_type": "stream",
     "text": [
      "C:\\Users\\Takashi\\Miniconda3\\lib\\site-packages\\sklearn\\metrics\\scorer.py:127: DeprecationWarning: Scoring method log_loss was renamed to neg_log_loss in version 0.18 and will be removed in 0.20.\n",
      "  sample_weight=sample_weight)\n",
      "C:\\Users\\Takashi\\Miniconda3\\lib\\site-packages\\sklearn\\metrics\\scorer.py:127: DeprecationWarning: Scoring method log_loss was renamed to neg_log_loss in version 0.18 and will be removed in 0.20.\n",
      "  sample_weight=sample_weight)\n"
     ]
    },
    {
     "name": "stdout",
     "output_type": "stream",
     "text": [
      "[CV]  max_depth=8, colsample_bytree=0.977945607225, subsample=0.932069094682 -   0.0s\n",
      "[CV] max_depth=8, colsample_bytree=0.977945607225, subsample=0.932069094682 \n",
      "[CV]  max_depth=8, colsample_bytree=0.977945607225, subsample=0.932069094682 -   0.0s\n",
      "[CV] max_depth=8, colsample_bytree=0.977945607225, subsample=0.932069094682 \n"
     ]
    },
    {
     "name": "stderr",
     "output_type": "stream",
     "text": [
      "C:\\Users\\Takashi\\Miniconda3\\lib\\site-packages\\sklearn\\metrics\\scorer.py:127: DeprecationWarning: Scoring method log_loss was renamed to neg_log_loss in version 0.18 and will be removed in 0.20.\n",
      "  sample_weight=sample_weight)\n",
      "C:\\Users\\Takashi\\Miniconda3\\lib\\site-packages\\sklearn\\metrics\\scorer.py:127: DeprecationWarning: Scoring method log_loss was renamed to neg_log_loss in version 0.18 and will be removed in 0.20.\n",
      "  sample_weight=sample_weight)\n",
      "C:\\Users\\Takashi\\Miniconda3\\lib\\site-packages\\sklearn\\metrics\\scorer.py:127: DeprecationWarning: Scoring method log_loss was renamed to neg_log_loss in version 0.18 and will be removed in 0.20.\n",
      "  sample_weight=sample_weight)\n"
     ]
    },
    {
     "name": "stdout",
     "output_type": "stream",
     "text": [
      "[CV]  max_depth=8, colsample_bytree=0.977945607225, subsample=0.932069094682 -   0.0s\n",
      "[CV] max_depth=6, colsample_bytree=0.669340939744, subsample=0.756425890902 \n",
      "[CV]  max_depth=6, colsample_bytree=0.669340939744, subsample=0.756425890902 -   0.0s\n",
      "[CV] max_depth=6, colsample_bytree=0.669340939744, subsample=0.756425890902 \n",
      "[CV]  max_depth=6, colsample_bytree=0.669340939744, subsample=0.756425890902 -   0.0s\n",
      "[CV] max_depth=6, colsample_bytree=0.669340939744, subsample=0.756425890902 \n"
     ]
    },
    {
     "name": "stderr",
     "output_type": "stream",
     "text": [
      "C:\\Users\\Takashi\\Miniconda3\\lib\\site-packages\\sklearn\\metrics\\scorer.py:127: DeprecationWarning: Scoring method log_loss was renamed to neg_log_loss in version 0.18 and will be removed in 0.20.\n",
      "  sample_weight=sample_weight)\n",
      "C:\\Users\\Takashi\\Miniconda3\\lib\\site-packages\\sklearn\\metrics\\scorer.py:127: DeprecationWarning: Scoring method log_loss was renamed to neg_log_loss in version 0.18 and will be removed in 0.20.\n",
      "  sample_weight=sample_weight)\n",
      "C:\\Users\\Takashi\\Miniconda3\\lib\\site-packages\\sklearn\\metrics\\scorer.py:127: DeprecationWarning: Scoring method log_loss was renamed to neg_log_loss in version 0.18 and will be removed in 0.20.\n",
      "  sample_weight=sample_weight)\n"
     ]
    },
    {
     "name": "stdout",
     "output_type": "stream",
     "text": [
      "[CV]  max_depth=6, colsample_bytree=0.669340939744, subsample=0.756425890902 -   0.0s\n",
      "[CV] max_depth=6, colsample_bytree=0.669340939744, subsample=0.756425890902 \n",
      "[CV]  max_depth=6, colsample_bytree=0.669340939744, subsample=0.756425890902 -   0.0s\n",
      "[CV] max_depth=6, colsample_bytree=0.669340939744, subsample=0.756425890902 \n",
      "[CV]  max_depth=6, colsample_bytree=0.669340939744, subsample=0.756425890902 -   0.0s\n",
      "[CV] max_depth=6, colsample_bytree=0.669340939744, subsample=0.756425890902 \n"
     ]
    },
    {
     "name": "stderr",
     "output_type": "stream",
     "text": [
      "C:\\Users\\Takashi\\Miniconda3\\lib\\site-packages\\sklearn\\metrics\\scorer.py:127: DeprecationWarning: Scoring method log_loss was renamed to neg_log_loss in version 0.18 and will be removed in 0.20.\n",
      "  sample_weight=sample_weight)\n",
      "C:\\Users\\Takashi\\Miniconda3\\lib\\site-packages\\sklearn\\metrics\\scorer.py:127: DeprecationWarning: Scoring method log_loss was renamed to neg_log_loss in version 0.18 and will be removed in 0.20.\n",
      "  sample_weight=sample_weight)\n",
      "C:\\Users\\Takashi\\Miniconda3\\lib\\site-packages\\sklearn\\metrics\\scorer.py:127: DeprecationWarning: Scoring method log_loss was renamed to neg_log_loss in version 0.18 and will be removed in 0.20.\n",
      "  sample_weight=sample_weight)\n"
     ]
    },
    {
     "name": "stdout",
     "output_type": "stream",
     "text": [
      "[CV]  max_depth=6, colsample_bytree=0.669340939744, subsample=0.756425890902 -   0.0s\n",
      "[CV] max_depth=6, colsample_bytree=0.669340939744, subsample=0.756425890902 \n",
      "[CV]  max_depth=6, colsample_bytree=0.669340939744, subsample=0.756425890902 -   0.0s\n",
      "[CV] max_depth=6, colsample_bytree=0.669340939744, subsample=0.756425890902 \n",
      "[CV]  max_depth=6, colsample_bytree=0.669340939744, subsample=0.756425890902 -   0.0s\n",
      "[CV] max_depth=6, colsample_bytree=0.669340939744, subsample=0.756425890902 \n"
     ]
    },
    {
     "name": "stderr",
     "output_type": "stream",
     "text": [
      "C:\\Users\\Takashi\\Miniconda3\\lib\\site-packages\\sklearn\\metrics\\scorer.py:127: DeprecationWarning: Scoring method log_loss was renamed to neg_log_loss in version 0.18 and will be removed in 0.20.\n",
      "  sample_weight=sample_weight)\n",
      "C:\\Users\\Takashi\\Miniconda3\\lib\\site-packages\\sklearn\\metrics\\scorer.py:127: DeprecationWarning: Scoring method log_loss was renamed to neg_log_loss in version 0.18 and will be removed in 0.20.\n",
      "  sample_weight=sample_weight)\n",
      "C:\\Users\\Takashi\\Miniconda3\\lib\\site-packages\\sklearn\\metrics\\scorer.py:127: DeprecationWarning: Scoring method log_loss was renamed to neg_log_loss in version 0.18 and will be removed in 0.20.\n",
      "  sample_weight=sample_weight)\n",
      "C:\\Users\\Takashi\\Miniconda3\\lib\\site-packages\\sklearn\\metrics\\scorer.py:127: DeprecationWarning: Scoring method log_loss was renamed to neg_log_loss in version 0.18 and will be removed in 0.20.\n",
      "  sample_weight=sample_weight)\n",
      "C:\\Users\\Takashi\\Miniconda3\\lib\\site-packages\\sklearn\\metrics\\scorer.py:127: DeprecationWarning: Scoring method log_loss was renamed to neg_log_loss in version 0.18 and will be removed in 0.20.\n",
      "  sample_weight=sample_weight)\n",
      "C:\\Users\\Takashi\\Miniconda3\\lib\\site-packages\\sklearn\\metrics\\scorer.py:127: DeprecationWarning: Scoring method log_loss was renamed to neg_log_loss in version 0.18 and will be removed in 0.20.\n",
      "  sample_weight=sample_weight)\n"
     ]
    },
    {
     "name": "stdout",
     "output_type": "stream",
     "text": [
      "[CV]  max_depth=6, colsample_bytree=0.669340939744, subsample=0.756425890902 -   0.0s\n",
      "[CV] max_depth=6, colsample_bytree=0.669340939744, subsample=0.756425890902 \n",
      "[CV]  max_depth=6, colsample_bytree=0.669340939744, subsample=0.756425890902 -   0.0s\n",
      "[CV] max_depth=1, colsample_bytree=0.926635487354, subsample=0.59959914202 \n",
      "[CV]  max_depth=1, colsample_bytree=0.926635487354, subsample=0.59959914202 -   0.0s\n",
      "[CV] max_depth=1, colsample_bytree=0.926635487354, subsample=0.59959914202 \n",
      "[CV]  max_depth=1, colsample_bytree=0.926635487354, subsample=0.59959914202 -   0.0s\n",
      "[CV] max_depth=1, colsample_bytree=0.926635487354, subsample=0.59959914202 \n",
      "[CV]  max_depth=1, colsample_bytree=0.926635487354, subsample=0.59959914202 -   0.0s\n",
      "[CV] max_depth=1, colsample_bytree=0.926635487354, subsample=0.59959914202 \n",
      "[CV]  max_depth=1, colsample_bytree=0.926635487354, subsample=0.59959914202 -   0.0s\n",
      "[CV] max_depth=1, colsample_bytree=0.926635487354, subsample=0.59959914202 \n"
     ]
    },
    {
     "name": "stderr",
     "output_type": "stream",
     "text": [
      "C:\\Users\\Takashi\\Miniconda3\\lib\\site-packages\\sklearn\\metrics\\scorer.py:127: DeprecationWarning: Scoring method log_loss was renamed to neg_log_loss in version 0.18 and will be removed in 0.20.\n",
      "  sample_weight=sample_weight)\n",
      "C:\\Users\\Takashi\\Miniconda3\\lib\\site-packages\\sklearn\\metrics\\scorer.py:127: DeprecationWarning: Scoring method log_loss was renamed to neg_log_loss in version 0.18 and will be removed in 0.20.\n",
      "  sample_weight=sample_weight)\n",
      "C:\\Users\\Takashi\\Miniconda3\\lib\\site-packages\\sklearn\\metrics\\scorer.py:127: DeprecationWarning: Scoring method log_loss was renamed to neg_log_loss in version 0.18 and will be removed in 0.20.\n",
      "  sample_weight=sample_weight)\n",
      "C:\\Users\\Takashi\\Miniconda3\\lib\\site-packages\\sklearn\\metrics\\scorer.py:127: DeprecationWarning: Scoring method log_loss was renamed to neg_log_loss in version 0.18 and will be removed in 0.20.\n",
      "  sample_weight=sample_weight)\n",
      "C:\\Users\\Takashi\\Miniconda3\\lib\\site-packages\\sklearn\\metrics\\scorer.py:127: DeprecationWarning: Scoring method log_loss was renamed to neg_log_loss in version 0.18 and will be removed in 0.20.\n",
      "  sample_weight=sample_weight)\n",
      "C:\\Users\\Takashi\\Miniconda3\\lib\\site-packages\\sklearn\\metrics\\scorer.py:127: DeprecationWarning: Scoring method log_loss was renamed to neg_log_loss in version 0.18 and will be removed in 0.20.\n",
      "  sample_weight=sample_weight)\n"
     ]
    },
    {
     "name": "stdout",
     "output_type": "stream",
     "text": [
      "[CV]  max_depth=1, colsample_bytree=0.926635487354, subsample=0.59959914202 -   0.0s\n",
      "[CV] max_depth=1, colsample_bytree=0.926635487354, subsample=0.59959914202 \n",
      "[CV]  max_depth=1, colsample_bytree=0.926635487354, subsample=0.59959914202 -   0.0s\n",
      "[CV] max_depth=1, colsample_bytree=0.926635487354, subsample=0.59959914202 \n",
      "[CV]  max_depth=1, colsample_bytree=0.926635487354, subsample=0.59959914202 -   0.0s\n",
      "[CV] max_depth=1, colsample_bytree=0.926635487354, subsample=0.59959914202 \n",
      "[CV]  max_depth=1, colsample_bytree=0.926635487354, subsample=0.59959914202 -   0.0s\n",
      "[CV] max_depth=1, colsample_bytree=0.926635487354, subsample=0.59959914202 \n",
      "[CV]  max_depth=1, colsample_bytree=0.926635487354, subsample=0.59959914202 -   0.0s\n",
      "[CV] max_depth=1, colsample_bytree=0.926635487354, subsample=0.59959914202 \n",
      "[CV]  max_depth=1, colsample_bytree=0.926635487354, subsample=0.59959914202 -   0.0s\n",
      "[CV] max_depth=7, colsample_bytree=0.994114113959, subsample=0.829747679615 \n"
     ]
    },
    {
     "name": "stderr",
     "output_type": "stream",
     "text": [
      "C:\\Users\\Takashi\\Miniconda3\\lib\\site-packages\\sklearn\\metrics\\scorer.py:127: DeprecationWarning: Scoring method log_loss was renamed to neg_log_loss in version 0.18 and will be removed in 0.20.\n",
      "  sample_weight=sample_weight)\n",
      "C:\\Users\\Takashi\\Miniconda3\\lib\\site-packages\\sklearn\\metrics\\scorer.py:127: DeprecationWarning: Scoring method log_loss was renamed to neg_log_loss in version 0.18 and will be removed in 0.20.\n",
      "  sample_weight=sample_weight)\n",
      "C:\\Users\\Takashi\\Miniconda3\\lib\\site-packages\\sklearn\\metrics\\scorer.py:127: DeprecationWarning: Scoring method log_loss was renamed to neg_log_loss in version 0.18 and will be removed in 0.20.\n",
      "  sample_weight=sample_weight)\n"
     ]
    },
    {
     "name": "stdout",
     "output_type": "stream",
     "text": [
      "[CV]  max_depth=7, colsample_bytree=0.994114113959, subsample=0.829747679615 -   0.0s\n",
      "[CV] max_depth=7, colsample_bytree=0.994114113959, subsample=0.829747679615 \n",
      "[CV]  max_depth=7, colsample_bytree=0.994114113959, subsample=0.829747679615 -   0.0s\n",
      "[CV] max_depth=7, colsample_bytree=0.994114113959, subsample=0.829747679615 \n",
      "[CV]  max_depth=7, colsample_bytree=0.994114113959, subsample=0.829747679615 -   0.0s\n",
      "[CV] max_depth=7, colsample_bytree=0.994114113959, subsample=0.829747679615 \n"
     ]
    },
    {
     "name": "stderr",
     "output_type": "stream",
     "text": [
      "C:\\Users\\Takashi\\Miniconda3\\lib\\site-packages\\sklearn\\metrics\\scorer.py:127: DeprecationWarning: Scoring method log_loss was renamed to neg_log_loss in version 0.18 and will be removed in 0.20.\n",
      "  sample_weight=sample_weight)\n",
      "C:\\Users\\Takashi\\Miniconda3\\lib\\site-packages\\sklearn\\metrics\\scorer.py:127: DeprecationWarning: Scoring method log_loss was renamed to neg_log_loss in version 0.18 and will be removed in 0.20.\n",
      "  sample_weight=sample_weight)\n",
      "C:\\Users\\Takashi\\Miniconda3\\lib\\site-packages\\sklearn\\metrics\\scorer.py:127: DeprecationWarning: Scoring method log_loss was renamed to neg_log_loss in version 0.18 and will be removed in 0.20.\n",
      "  sample_weight=sample_weight)\n"
     ]
    },
    {
     "name": "stdout",
     "output_type": "stream",
     "text": [
      "[CV]  max_depth=7, colsample_bytree=0.994114113959, subsample=0.829747679615 -   0.0s\n",
      "[CV] max_depth=7, colsample_bytree=0.994114113959, subsample=0.829747679615 \n",
      "[CV]  max_depth=7, colsample_bytree=0.994114113959, subsample=0.829747679615 -   0.0s\n",
      "[CV] max_depth=7, colsample_bytree=0.994114113959, subsample=0.829747679615 \n",
      "[CV]  max_depth=7, colsample_bytree=0.994114113959, subsample=0.829747679615 -   0.0s\n",
      "[CV] max_depth=7, colsample_bytree=0.994114113959, subsample=0.829747679615 \n"
     ]
    },
    {
     "name": "stderr",
     "output_type": "stream",
     "text": [
      "C:\\Users\\Takashi\\Miniconda3\\lib\\site-packages\\sklearn\\metrics\\scorer.py:127: DeprecationWarning: Scoring method log_loss was renamed to neg_log_loss in version 0.18 and will be removed in 0.20.\n",
      "  sample_weight=sample_weight)\n",
      "C:\\Users\\Takashi\\Miniconda3\\lib\\site-packages\\sklearn\\metrics\\scorer.py:127: DeprecationWarning: Scoring method log_loss was renamed to neg_log_loss in version 0.18 and will be removed in 0.20.\n",
      "  sample_weight=sample_weight)\n",
      "C:\\Users\\Takashi\\Miniconda3\\lib\\site-packages\\sklearn\\metrics\\scorer.py:127: DeprecationWarning: Scoring method log_loss was renamed to neg_log_loss in version 0.18 and will be removed in 0.20.\n",
      "  sample_weight=sample_weight)\n"
     ]
    },
    {
     "name": "stdout",
     "output_type": "stream",
     "text": [
      "[CV]  max_depth=7, colsample_bytree=0.994114113959, subsample=0.829747679615 -   0.0s\n",
      "[CV] max_depth=7, colsample_bytree=0.994114113959, subsample=0.829747679615 \n",
      "[CV]  max_depth=7, colsample_bytree=0.994114113959, subsample=0.829747679615 -   0.0s\n",
      "[CV] max_depth=7, colsample_bytree=0.994114113959, subsample=0.829747679615 \n",
      "[CV]  max_depth=7, colsample_bytree=0.994114113959, subsample=0.829747679615 -   0.0s\n",
      "[CV] max_depth=7, colsample_bytree=0.994114113959, subsample=0.829747679615 \n"
     ]
    },
    {
     "name": "stderr",
     "output_type": "stream",
     "text": [
      "C:\\Users\\Takashi\\Miniconda3\\lib\\site-packages\\sklearn\\metrics\\scorer.py:127: DeprecationWarning: Scoring method log_loss was renamed to neg_log_loss in version 0.18 and will be removed in 0.20.\n",
      "  sample_weight=sample_weight)\n",
      "C:\\Users\\Takashi\\Miniconda3\\lib\\site-packages\\sklearn\\metrics\\scorer.py:127: DeprecationWarning: Scoring method log_loss was renamed to neg_log_loss in version 0.18 and will be removed in 0.20.\n",
      "  sample_weight=sample_weight)\n",
      "C:\\Users\\Takashi\\Miniconda3\\lib\\site-packages\\sklearn\\metrics\\scorer.py:127: DeprecationWarning: Scoring method log_loss was renamed to neg_log_loss in version 0.18 and will be removed in 0.20.\n",
      "  sample_weight=sample_weight)\n"
     ]
    },
    {
     "name": "stdout",
     "output_type": "stream",
     "text": [
      "[CV]  max_depth=7, colsample_bytree=0.994114113959, subsample=0.829747679615 -   0.0s\n",
      "[CV] max_depth=7, colsample_bytree=0.693262351349, subsample=0.519111742586 \n",
      "[CV]  max_depth=7, colsample_bytree=0.693262351349, subsample=0.519111742586 -   0.0s\n",
      "[CV] max_depth=7, colsample_bytree=0.693262351349, subsample=0.519111742586 \n",
      "[CV]  max_depth=7, colsample_bytree=0.693262351349, subsample=0.519111742586 -   0.0s\n",
      "[CV] max_depth=7, colsample_bytree=0.693262351349, subsample=0.519111742586 \n"
     ]
    },
    {
     "name": "stderr",
     "output_type": "stream",
     "text": [
      "C:\\Users\\Takashi\\Miniconda3\\lib\\site-packages\\sklearn\\metrics\\scorer.py:127: DeprecationWarning: Scoring method log_loss was renamed to neg_log_loss in version 0.18 and will be removed in 0.20.\n",
      "  sample_weight=sample_weight)\n",
      "C:\\Users\\Takashi\\Miniconda3\\lib\\site-packages\\sklearn\\metrics\\scorer.py:127: DeprecationWarning: Scoring method log_loss was renamed to neg_log_loss in version 0.18 and will be removed in 0.20.\n",
      "  sample_weight=sample_weight)\n",
      "C:\\Users\\Takashi\\Miniconda3\\lib\\site-packages\\sklearn\\metrics\\scorer.py:127: DeprecationWarning: Scoring method log_loss was renamed to neg_log_loss in version 0.18 and will be removed in 0.20.\n",
      "  sample_weight=sample_weight)\n"
     ]
    },
    {
     "name": "stdout",
     "output_type": "stream",
     "text": [
      "[CV]  max_depth=7, colsample_bytree=0.693262351349, subsample=0.519111742586 -   0.0s\n",
      "[CV] max_depth=7, colsample_bytree=0.693262351349, subsample=0.519111742586 \n",
      "[CV]  max_depth=7, colsample_bytree=0.693262351349, subsample=0.519111742586 -   0.0s\n",
      "[CV] max_depth=7, colsample_bytree=0.693262351349, subsample=0.519111742586 \n",
      "[CV]  max_depth=7, colsample_bytree=0.693262351349, subsample=0.519111742586 -   0.0s\n",
      "[CV] max_depth=7, colsample_bytree=0.693262351349, subsample=0.519111742586 \n"
     ]
    },
    {
     "name": "stderr",
     "output_type": "stream",
     "text": [
      "C:\\Users\\Takashi\\Miniconda3\\lib\\site-packages\\sklearn\\metrics\\scorer.py:127: DeprecationWarning: Scoring method log_loss was renamed to neg_log_loss in version 0.18 and will be removed in 0.20.\n",
      "  sample_weight=sample_weight)\n",
      "C:\\Users\\Takashi\\Miniconda3\\lib\\site-packages\\sklearn\\metrics\\scorer.py:127: DeprecationWarning: Scoring method log_loss was renamed to neg_log_loss in version 0.18 and will be removed in 0.20.\n",
      "  sample_weight=sample_weight)\n",
      "C:\\Users\\Takashi\\Miniconda3\\lib\\site-packages\\sklearn\\metrics\\scorer.py:127: DeprecationWarning: Scoring method log_loss was renamed to neg_log_loss in version 0.18 and will be removed in 0.20.\n",
      "  sample_weight=sample_weight)\n"
     ]
    },
    {
     "name": "stdout",
     "output_type": "stream",
     "text": [
      "[CV]  max_depth=7, colsample_bytree=0.693262351349, subsample=0.519111742586 -   0.0s\n",
      "[CV] max_depth=7, colsample_bytree=0.693262351349, subsample=0.519111742586 \n",
      "[CV]  max_depth=7, colsample_bytree=0.693262351349, subsample=0.519111742586 -   0.0s\n",
      "[CV] max_depth=7, colsample_bytree=0.693262351349, subsample=0.519111742586 \n",
      "[CV]  max_depth=7, colsample_bytree=0.693262351349, subsample=0.519111742586 -   0.0s\n",
      "[CV] max_depth=7, colsample_bytree=0.693262351349, subsample=0.519111742586 \n"
     ]
    },
    {
     "name": "stderr",
     "output_type": "stream",
     "text": [
      "C:\\Users\\Takashi\\Miniconda3\\lib\\site-packages\\sklearn\\metrics\\scorer.py:127: DeprecationWarning: Scoring method log_loss was renamed to neg_log_loss in version 0.18 and will be removed in 0.20.\n",
      "  sample_weight=sample_weight)\n",
      "C:\\Users\\Takashi\\Miniconda3\\lib\\site-packages\\sklearn\\metrics\\scorer.py:127: DeprecationWarning: Scoring method log_loss was renamed to neg_log_loss in version 0.18 and will be removed in 0.20.\n",
      "  sample_weight=sample_weight)\n",
      "C:\\Users\\Takashi\\Miniconda3\\lib\\site-packages\\sklearn\\metrics\\scorer.py:127: DeprecationWarning: Scoring method log_loss was renamed to neg_log_loss in version 0.18 and will be removed in 0.20.\n",
      "  sample_weight=sample_weight)\n",
      "C:\\Users\\Takashi\\Miniconda3\\lib\\site-packages\\sklearn\\metrics\\scorer.py:127: DeprecationWarning: Scoring method log_loss was renamed to neg_log_loss in version 0.18 and will be removed in 0.20.\n",
      "  sample_weight=sample_weight)\n"
     ]
    },
    {
     "name": "stdout",
     "output_type": "stream",
     "text": [
      "[CV]  max_depth=7, colsample_bytree=0.693262351349, subsample=0.519111742586 -   0.0s\n",
      "[CV] max_depth=7, colsample_bytree=0.693262351349, subsample=0.519111742586 \n",
      "[CV]  max_depth=7, colsample_bytree=0.693262351349, subsample=0.519111742586 -   0.0s\n",
      "[CV] max_depth=3, colsample_bytree=0.944184630161, subsample=0.9650443203 \n",
      "[CV]  max_depth=3, colsample_bytree=0.944184630161, subsample=0.9650443203 -   0.0s\n",
      "[CV] max_depth=3, colsample_bytree=0.944184630161, subsample=0.9650443203 \n",
      "[CV]  max_depth=3, colsample_bytree=0.944184630161, subsample=0.9650443203 -   0.0s\n",
      "[CV] max_depth=3, colsample_bytree=0.944184630161, subsample=0.9650443203 \n"
     ]
    },
    {
     "name": "stderr",
     "output_type": "stream",
     "text": [
      "C:\\Users\\Takashi\\Miniconda3\\lib\\site-packages\\sklearn\\metrics\\scorer.py:127: DeprecationWarning: Scoring method log_loss was renamed to neg_log_loss in version 0.18 and will be removed in 0.20.\n",
      "  sample_weight=sample_weight)\n",
      "C:\\Users\\Takashi\\Miniconda3\\lib\\site-packages\\sklearn\\metrics\\scorer.py:127: DeprecationWarning: Scoring method log_loss was renamed to neg_log_loss in version 0.18 and will be removed in 0.20.\n",
      "  sample_weight=sample_weight)\n",
      "C:\\Users\\Takashi\\Miniconda3\\lib\\site-packages\\sklearn\\metrics\\scorer.py:127: DeprecationWarning: Scoring method log_loss was renamed to neg_log_loss in version 0.18 and will be removed in 0.20.\n",
      "  sample_weight=sample_weight)\n",
      "C:\\Users\\Takashi\\Miniconda3\\lib\\site-packages\\sklearn\\metrics\\scorer.py:127: DeprecationWarning: Scoring method log_loss was renamed to neg_log_loss in version 0.18 and will be removed in 0.20.\n",
      "  sample_weight=sample_weight)\n",
      "C:\\Users\\Takashi\\Miniconda3\\lib\\site-packages\\sklearn\\metrics\\scorer.py:127: DeprecationWarning: Scoring method log_loss was renamed to neg_log_loss in version 0.18 and will be removed in 0.20.\n",
      "  sample_weight=sample_weight)\n"
     ]
    },
    {
     "name": "stdout",
     "output_type": "stream",
     "text": [
      "[CV]  max_depth=3, colsample_bytree=0.944184630161, subsample=0.9650443203 -   0.0s\n",
      "[CV] max_depth=3, colsample_bytree=0.944184630161, subsample=0.9650443203 \n",
      "[CV]  max_depth=3, colsample_bytree=0.944184630161, subsample=0.9650443203 -   0.0s\n",
      "[CV] max_depth=3, colsample_bytree=0.944184630161, subsample=0.9650443203 \n",
      "[CV]  max_depth=3, colsample_bytree=0.944184630161, subsample=0.9650443203 -   0.0s\n",
      "[CV] max_depth=3, colsample_bytree=0.944184630161, subsample=0.9650443203 \n",
      "[CV]  max_depth=3, colsample_bytree=0.944184630161, subsample=0.9650443203 -   0.0s\n",
      "[CV] max_depth=3, colsample_bytree=0.944184630161, subsample=0.9650443203 \n",
      "[CV]  max_depth=3, colsample_bytree=0.944184630161, subsample=0.9650443203 -   0.0s\n",
      "[CV] max_depth=3, colsample_bytree=0.944184630161, subsample=0.9650443203 \n"
     ]
    },
    {
     "name": "stderr",
     "output_type": "stream",
     "text": [
      "C:\\Users\\Takashi\\Miniconda3\\lib\\site-packages\\sklearn\\metrics\\scorer.py:127: DeprecationWarning: Scoring method log_loss was renamed to neg_log_loss in version 0.18 and will be removed in 0.20.\n",
      "  sample_weight=sample_weight)\n",
      "C:\\Users\\Takashi\\Miniconda3\\lib\\site-packages\\sklearn\\metrics\\scorer.py:127: DeprecationWarning: Scoring method log_loss was renamed to neg_log_loss in version 0.18 and will be removed in 0.20.\n",
      "  sample_weight=sample_weight)\n",
      "C:\\Users\\Takashi\\Miniconda3\\lib\\site-packages\\sklearn\\metrics\\scorer.py:127: DeprecationWarning: Scoring method log_loss was renamed to neg_log_loss in version 0.18 and will be removed in 0.20.\n",
      "  sample_weight=sample_weight)\n",
      "C:\\Users\\Takashi\\Miniconda3\\lib\\site-packages\\sklearn\\metrics\\scorer.py:127: DeprecationWarning: Scoring method log_loss was renamed to neg_log_loss in version 0.18 and will be removed in 0.20.\n",
      "  sample_weight=sample_weight)\n"
     ]
    },
    {
     "name": "stdout",
     "output_type": "stream",
     "text": [
      "[CV]  max_depth=3, colsample_bytree=0.944184630161, subsample=0.9650443203 -   0.0s\n",
      "[CV] max_depth=3, colsample_bytree=0.944184630161, subsample=0.9650443203 \n",
      "[CV]  max_depth=3, colsample_bytree=0.944184630161, subsample=0.9650443203 -   0.0s\n",
      "[CV] max_depth=3, colsample_bytree=0.944184630161, subsample=0.9650443203 \n",
      "[CV]  max_depth=3, colsample_bytree=0.944184630161, subsample=0.9650443203 -   0.0s\n",
      "[CV] max_depth=6, colsample_bytree=0.797940332171, subsample=0.789932169197 \n",
      "[CV]  max_depth=6, colsample_bytree=0.797940332171, subsample=0.789932169197 -   0.0s\n",
      "[CV] max_depth=6, colsample_bytree=0.797940332171, subsample=0.789932169197 \n"
     ]
    },
    {
     "name": "stderr",
     "output_type": "stream",
     "text": [
      "C:\\Users\\Takashi\\Miniconda3\\lib\\site-packages\\sklearn\\metrics\\scorer.py:127: DeprecationWarning: Scoring method log_loss was renamed to neg_log_loss in version 0.18 and will be removed in 0.20.\n",
      "  sample_weight=sample_weight)\n",
      "C:\\Users\\Takashi\\Miniconda3\\lib\\site-packages\\sklearn\\metrics\\scorer.py:127: DeprecationWarning: Scoring method log_loss was renamed to neg_log_loss in version 0.18 and will be removed in 0.20.\n",
      "  sample_weight=sample_weight)\n",
      "C:\\Users\\Takashi\\Miniconda3\\lib\\site-packages\\sklearn\\metrics\\scorer.py:127: DeprecationWarning: Scoring method log_loss was renamed to neg_log_loss in version 0.18 and will be removed in 0.20.\n",
      "  sample_weight=sample_weight)\n"
     ]
    },
    {
     "name": "stdout",
     "output_type": "stream",
     "text": [
      "[CV]  max_depth=6, colsample_bytree=0.797940332171, subsample=0.789932169197 -   0.0s\n",
      "[CV] max_depth=6, colsample_bytree=0.797940332171, subsample=0.789932169197 \n",
      "[CV]  max_depth=6, colsample_bytree=0.797940332171, subsample=0.789932169197 -   0.0s\n",
      "[CV] max_depth=6, colsample_bytree=0.797940332171, subsample=0.789932169197 \n",
      "[CV]  max_depth=6, colsample_bytree=0.797940332171, subsample=0.789932169197 -   0.0s\n",
      "[CV] max_depth=6, colsample_bytree=0.797940332171, subsample=0.789932169197 \n"
     ]
    },
    {
     "name": "stderr",
     "output_type": "stream",
     "text": [
      "C:\\Users\\Takashi\\Miniconda3\\lib\\site-packages\\sklearn\\metrics\\scorer.py:127: DeprecationWarning: Scoring method log_loss was renamed to neg_log_loss in version 0.18 and will be removed in 0.20.\n",
      "  sample_weight=sample_weight)\n",
      "C:\\Users\\Takashi\\Miniconda3\\lib\\site-packages\\sklearn\\metrics\\scorer.py:127: DeprecationWarning: Scoring method log_loss was renamed to neg_log_loss in version 0.18 and will be removed in 0.20.\n",
      "  sample_weight=sample_weight)\n",
      "C:\\Users\\Takashi\\Miniconda3\\lib\\site-packages\\sklearn\\metrics\\scorer.py:127: DeprecationWarning: Scoring method log_loss was renamed to neg_log_loss in version 0.18 and will be removed in 0.20.\n",
      "  sample_weight=sample_weight)\n"
     ]
    },
    {
     "name": "stdout",
     "output_type": "stream",
     "text": [
      "[CV]  max_depth=6, colsample_bytree=0.797940332171, subsample=0.789932169197 -   0.0s\n",
      "[CV] max_depth=6, colsample_bytree=0.797940332171, subsample=0.789932169197 \n",
      "[CV]  max_depth=6, colsample_bytree=0.797940332171, subsample=0.789932169197 -   0.0s\n",
      "[CV] max_depth=6, colsample_bytree=0.797940332171, subsample=0.789932169197 \n",
      "[CV]  max_depth=6, colsample_bytree=0.797940332171, subsample=0.789932169197 -   0.0s\n",
      "[CV] max_depth=6, colsample_bytree=0.797940332171, subsample=0.789932169197 \n"
     ]
    },
    {
     "name": "stderr",
     "output_type": "stream",
     "text": [
      "C:\\Users\\Takashi\\Miniconda3\\lib\\site-packages\\sklearn\\metrics\\scorer.py:127: DeprecationWarning: Scoring method log_loss was renamed to neg_log_loss in version 0.18 and will be removed in 0.20.\n",
      "  sample_weight=sample_weight)\n",
      "C:\\Users\\Takashi\\Miniconda3\\lib\\site-packages\\sklearn\\metrics\\scorer.py:127: DeprecationWarning: Scoring method log_loss was renamed to neg_log_loss in version 0.18 and will be removed in 0.20.\n",
      "  sample_weight=sample_weight)\n",
      "C:\\Users\\Takashi\\Miniconda3\\lib\\site-packages\\sklearn\\metrics\\scorer.py:127: DeprecationWarning: Scoring method log_loss was renamed to neg_log_loss in version 0.18 and will be removed in 0.20.\n",
      "  sample_weight=sample_weight)\n"
     ]
    },
    {
     "name": "stdout",
     "output_type": "stream",
     "text": [
      "[CV]  max_depth=6, colsample_bytree=0.797940332171, subsample=0.789932169197 -   0.0s\n",
      "[CV] max_depth=6, colsample_bytree=0.797940332171, subsample=0.789932169197 \n",
      "[CV]  max_depth=6, colsample_bytree=0.797940332171, subsample=0.789932169197 -   0.0s\n",
      "[CV] max_depth=6, colsample_bytree=0.797940332171, subsample=0.789932169197 \n",
      "[CV]  max_depth=6, colsample_bytree=0.797940332171, subsample=0.789932169197 -   0.0s\n",
      "[CV] max_depth=3, colsample_bytree=0.809620042748, subsample=0.682458825569 \n"
     ]
    },
    {
     "name": "stderr",
     "output_type": "stream",
     "text": [
      "C:\\Users\\Takashi\\Miniconda3\\lib\\site-packages\\sklearn\\metrics\\scorer.py:127: DeprecationWarning: Scoring method log_loss was renamed to neg_log_loss in version 0.18 and will be removed in 0.20.\n",
      "  sample_weight=sample_weight)\n",
      "C:\\Users\\Takashi\\Miniconda3\\lib\\site-packages\\sklearn\\metrics\\scorer.py:127: DeprecationWarning: Scoring method log_loss was renamed to neg_log_loss in version 0.18 and will be removed in 0.20.\n",
      "  sample_weight=sample_weight)\n",
      "C:\\Users\\Takashi\\Miniconda3\\lib\\site-packages\\sklearn\\metrics\\scorer.py:127: DeprecationWarning: Scoring method log_loss was renamed to neg_log_loss in version 0.18 and will be removed in 0.20.\n",
      "  sample_weight=sample_weight)\n",
      "C:\\Users\\Takashi\\Miniconda3\\lib\\site-packages\\sklearn\\metrics\\scorer.py:127: DeprecationWarning: Scoring method log_loss was renamed to neg_log_loss in version 0.18 and will be removed in 0.20.\n",
      "  sample_weight=sample_weight)\n",
      "C:\\Users\\Takashi\\Miniconda3\\lib\\site-packages\\sklearn\\metrics\\scorer.py:127: DeprecationWarning: Scoring method log_loss was renamed to neg_log_loss in version 0.18 and will be removed in 0.20.\n",
      "  sample_weight=sample_weight)\n"
     ]
    },
    {
     "name": "stdout",
     "output_type": "stream",
     "text": [
      "[CV]  max_depth=3, colsample_bytree=0.809620042748, subsample=0.682458825569 -   0.0s\n",
      "[CV] max_depth=3, colsample_bytree=0.809620042748, subsample=0.682458825569 \n",
      "[CV]  max_depth=3, colsample_bytree=0.809620042748, subsample=0.682458825569 -   0.0s\n",
      "[CV] max_depth=3, colsample_bytree=0.809620042748, subsample=0.682458825569 \n",
      "[CV]  max_depth=3, colsample_bytree=0.809620042748, subsample=0.682458825569 -   0.0s\n",
      "[CV] max_depth=3, colsample_bytree=0.809620042748, subsample=0.682458825569 \n",
      "[CV]  max_depth=3, colsample_bytree=0.809620042748, subsample=0.682458825569 -   0.0s\n",
      "[CV] max_depth=3, colsample_bytree=0.809620042748, subsample=0.682458825569 \n",
      "[CV]  max_depth=3, colsample_bytree=0.809620042748, subsample=0.682458825569 -   0.0s\n",
      "[CV] max_depth=3, colsample_bytree=0.809620042748, subsample=0.682458825569 \n"
     ]
    },
    {
     "name": "stderr",
     "output_type": "stream",
     "text": [
      "C:\\Users\\Takashi\\Miniconda3\\lib\\site-packages\\sklearn\\metrics\\scorer.py:127: DeprecationWarning: Scoring method log_loss was renamed to neg_log_loss in version 0.18 and will be removed in 0.20.\n",
      "  sample_weight=sample_weight)\n",
      "C:\\Users\\Takashi\\Miniconda3\\lib\\site-packages\\sklearn\\metrics\\scorer.py:127: DeprecationWarning: Scoring method log_loss was renamed to neg_log_loss in version 0.18 and will be removed in 0.20.\n",
      "  sample_weight=sample_weight)\n",
      "C:\\Users\\Takashi\\Miniconda3\\lib\\site-packages\\sklearn\\metrics\\scorer.py:127: DeprecationWarning: Scoring method log_loss was renamed to neg_log_loss in version 0.18 and will be removed in 0.20.\n",
      "  sample_weight=sample_weight)\n",
      "C:\\Users\\Takashi\\Miniconda3\\lib\\site-packages\\sklearn\\metrics\\scorer.py:127: DeprecationWarning: Scoring method log_loss was renamed to neg_log_loss in version 0.18 and will be removed in 0.20.\n",
      "  sample_weight=sample_weight)\n",
      "C:\\Users\\Takashi\\Miniconda3\\lib\\site-packages\\sklearn\\metrics\\scorer.py:127: DeprecationWarning: Scoring method log_loss was renamed to neg_log_loss in version 0.18 and will be removed in 0.20.\n",
      "  sample_weight=sample_weight)\n"
     ]
    },
    {
     "name": "stdout",
     "output_type": "stream",
     "text": [
      "[CV]  max_depth=3, colsample_bytree=0.809620042748, subsample=0.682458825569 -   0.0s\n",
      "[CV] max_depth=3, colsample_bytree=0.809620042748, subsample=0.682458825569 \n",
      "[CV]  max_depth=3, colsample_bytree=0.809620042748, subsample=0.682458825569 -   0.0s\n",
      "[CV] max_depth=3, colsample_bytree=0.809620042748, subsample=0.682458825569 \n",
      "[CV]  max_depth=3, colsample_bytree=0.809620042748, subsample=0.682458825569 -   0.0s\n",
      "[CV] max_depth=3, colsample_bytree=0.809620042748, subsample=0.682458825569 \n",
      "[CV]  max_depth=3, colsample_bytree=0.809620042748, subsample=0.682458825569 -   0.0s\n",
      "[CV] max_depth=3, colsample_bytree=0.809620042748, subsample=0.682458825569 \n",
      "[CV]  max_depth=3, colsample_bytree=0.809620042748, subsample=0.682458825569 -   0.0s\n",
      "[CV] max_depth=7, colsample_bytree=0.984151401389, subsample=0.84019964556 \n"
     ]
    },
    {
     "name": "stderr",
     "output_type": "stream",
     "text": [
      "C:\\Users\\Takashi\\Miniconda3\\lib\\site-packages\\sklearn\\metrics\\scorer.py:127: DeprecationWarning: Scoring method log_loss was renamed to neg_log_loss in version 0.18 and will be removed in 0.20.\n",
      "  sample_weight=sample_weight)\n",
      "C:\\Users\\Takashi\\Miniconda3\\lib\\site-packages\\sklearn\\metrics\\scorer.py:127: DeprecationWarning: Scoring method log_loss was renamed to neg_log_loss in version 0.18 and will be removed in 0.20.\n",
      "  sample_weight=sample_weight)\n"
     ]
    },
    {
     "name": "stdout",
     "output_type": "stream",
     "text": [
      "[CV]  max_depth=7, colsample_bytree=0.984151401389, subsample=0.84019964556 -   0.0s\n",
      "[CV] max_depth=7, colsample_bytree=0.984151401389, subsample=0.84019964556 \n",
      "[CV]  max_depth=7, colsample_bytree=0.984151401389, subsample=0.84019964556 -   0.0s\n",
      "[CV] max_depth=7, colsample_bytree=0.984151401389, subsample=0.84019964556 \n"
     ]
    },
    {
     "name": "stderr",
     "output_type": "stream",
     "text": [
      "C:\\Users\\Takashi\\Miniconda3\\lib\\site-packages\\sklearn\\metrics\\scorer.py:127: DeprecationWarning: Scoring method log_loss was renamed to neg_log_loss in version 0.18 and will be removed in 0.20.\n",
      "  sample_weight=sample_weight)\n",
      "C:\\Users\\Takashi\\Miniconda3\\lib\\site-packages\\sklearn\\metrics\\scorer.py:127: DeprecationWarning: Scoring method log_loss was renamed to neg_log_loss in version 0.18 and will be removed in 0.20.\n",
      "  sample_weight=sample_weight)\n"
     ]
    },
    {
     "name": "stdout",
     "output_type": "stream",
     "text": [
      "[CV]  max_depth=7, colsample_bytree=0.984151401389, subsample=0.84019964556 -   0.0s\n",
      "[CV] max_depth=7, colsample_bytree=0.984151401389, subsample=0.84019964556 \n",
      "[CV]  max_depth=7, colsample_bytree=0.984151401389, subsample=0.84019964556 -   0.0s\n",
      "[CV] max_depth=7, colsample_bytree=0.984151401389, subsample=0.84019964556 \n"
     ]
    },
    {
     "name": "stderr",
     "output_type": "stream",
     "text": [
      "C:\\Users\\Takashi\\Miniconda3\\lib\\site-packages\\sklearn\\metrics\\scorer.py:127: DeprecationWarning: Scoring method log_loss was renamed to neg_log_loss in version 0.18 and will be removed in 0.20.\n",
      "  sample_weight=sample_weight)\n",
      "C:\\Users\\Takashi\\Miniconda3\\lib\\site-packages\\sklearn\\metrics\\scorer.py:127: DeprecationWarning: Scoring method log_loss was renamed to neg_log_loss in version 0.18 and will be removed in 0.20.\n",
      "  sample_weight=sample_weight)\n",
      "C:\\Users\\Takashi\\Miniconda3\\lib\\site-packages\\sklearn\\metrics\\scorer.py:127: DeprecationWarning: Scoring method log_loss was renamed to neg_log_loss in version 0.18 and will be removed in 0.20.\n",
      "  sample_weight=sample_weight)\n"
     ]
    },
    {
     "name": "stdout",
     "output_type": "stream",
     "text": [
      "[CV]  max_depth=7, colsample_bytree=0.984151401389, subsample=0.84019964556 -   0.0s\n",
      "[CV] max_depth=7, colsample_bytree=0.984151401389, subsample=0.84019964556 \n",
      "[CV]  max_depth=7, colsample_bytree=0.984151401389, subsample=0.84019964556 -   0.0s\n",
      "[CV] max_depth=7, colsample_bytree=0.984151401389, subsample=0.84019964556 \n",
      "[CV]  max_depth=7, colsample_bytree=0.984151401389, subsample=0.84019964556 -   0.0s\n",
      "[CV] max_depth=7, colsample_bytree=0.984151401389, subsample=0.84019964556 \n"
     ]
    },
    {
     "name": "stderr",
     "output_type": "stream",
     "text": [
      "C:\\Users\\Takashi\\Miniconda3\\lib\\site-packages\\sklearn\\metrics\\scorer.py:127: DeprecationWarning: Scoring method log_loss was renamed to neg_log_loss in version 0.18 and will be removed in 0.20.\n",
      "  sample_weight=sample_weight)\n",
      "C:\\Users\\Takashi\\Miniconda3\\lib\\site-packages\\sklearn\\metrics\\scorer.py:127: DeprecationWarning: Scoring method log_loss was renamed to neg_log_loss in version 0.18 and will be removed in 0.20.\n",
      "  sample_weight=sample_weight)\n"
     ]
    },
    {
     "name": "stdout",
     "output_type": "stream",
     "text": [
      "[CV]  max_depth=7, colsample_bytree=0.984151401389, subsample=0.84019964556 -   0.0s\n",
      "[CV] max_depth=7, colsample_bytree=0.984151401389, subsample=0.84019964556 \n",
      "[CV]  max_depth=7, colsample_bytree=0.984151401389, subsample=0.84019964556 -   0.0s\n",
      "[CV] max_depth=7, colsample_bytree=0.984151401389, subsample=0.84019964556 \n"
     ]
    },
    {
     "name": "stderr",
     "output_type": "stream",
     "text": [
      "C:\\Users\\Takashi\\Miniconda3\\lib\\site-packages\\sklearn\\metrics\\scorer.py:127: DeprecationWarning: Scoring method log_loss was renamed to neg_log_loss in version 0.18 and will be removed in 0.20.\n",
      "  sample_weight=sample_weight)\n",
      "C:\\Users\\Takashi\\Miniconda3\\lib\\site-packages\\sklearn\\metrics\\scorer.py:127: DeprecationWarning: Scoring method log_loss was renamed to neg_log_loss in version 0.18 and will be removed in 0.20.\n",
      "  sample_weight=sample_weight)\n",
      "C:\\Users\\Takashi\\Miniconda3\\lib\\site-packages\\sklearn\\metrics\\scorer.py:127: DeprecationWarning: Scoring method log_loss was renamed to neg_log_loss in version 0.18 and will be removed in 0.20.\n",
      "  sample_weight=sample_weight)\n"
     ]
    },
    {
     "name": "stdout",
     "output_type": "stream",
     "text": [
      "[CV]  max_depth=7, colsample_bytree=0.984151401389, subsample=0.84019964556 -   0.0s\n",
      "[CV] max_depth=7, colsample_bytree=0.55894037856, subsample=0.975827710479 \n",
      "[CV]  max_depth=7, colsample_bytree=0.55894037856, subsample=0.975827710479 -   0.0s\n",
      "[CV] max_depth=7, colsample_bytree=0.55894037856, subsample=0.975827710479 \n",
      "[CV]  max_depth=7, colsample_bytree=0.55894037856, subsample=0.975827710479 -   0.0s\n",
      "[CV] max_depth=7, colsample_bytree=0.55894037856, subsample=0.975827710479 \n"
     ]
    },
    {
     "name": "stderr",
     "output_type": "stream",
     "text": [
      "C:\\Users\\Takashi\\Miniconda3\\lib\\site-packages\\sklearn\\metrics\\scorer.py:127: DeprecationWarning: Scoring method log_loss was renamed to neg_log_loss in version 0.18 and will be removed in 0.20.\n",
      "  sample_weight=sample_weight)\n",
      "C:\\Users\\Takashi\\Miniconda3\\lib\\site-packages\\sklearn\\metrics\\scorer.py:127: DeprecationWarning: Scoring method log_loss was renamed to neg_log_loss in version 0.18 and will be removed in 0.20.\n",
      "  sample_weight=sample_weight)\n",
      "C:\\Users\\Takashi\\Miniconda3\\lib\\site-packages\\sklearn\\metrics\\scorer.py:127: DeprecationWarning: Scoring method log_loss was renamed to neg_log_loss in version 0.18 and will be removed in 0.20.\n",
      "  sample_weight=sample_weight)\n"
     ]
    },
    {
     "name": "stdout",
     "output_type": "stream",
     "text": [
      "[CV]  max_depth=7, colsample_bytree=0.55894037856, subsample=0.975827710479 -   0.0s\n",
      "[CV] max_depth=7, colsample_bytree=0.55894037856, subsample=0.975827710479 \n",
      "[CV]  max_depth=7, colsample_bytree=0.55894037856, subsample=0.975827710479 -   0.0s\n",
      "[CV] max_depth=7, colsample_bytree=0.55894037856, subsample=0.975827710479 \n",
      "[CV]  max_depth=7, colsample_bytree=0.55894037856, subsample=0.975827710479 -   0.0s\n",
      "[CV] max_depth=7, colsample_bytree=0.55894037856, subsample=0.975827710479 \n"
     ]
    },
    {
     "name": "stderr",
     "output_type": "stream",
     "text": [
      "C:\\Users\\Takashi\\Miniconda3\\lib\\site-packages\\sklearn\\metrics\\scorer.py:127: DeprecationWarning: Scoring method log_loss was renamed to neg_log_loss in version 0.18 and will be removed in 0.20.\n",
      "  sample_weight=sample_weight)\n",
      "C:\\Users\\Takashi\\Miniconda3\\lib\\site-packages\\sklearn\\metrics\\scorer.py:127: DeprecationWarning: Scoring method log_loss was renamed to neg_log_loss in version 0.18 and will be removed in 0.20.\n",
      "  sample_weight=sample_weight)\n",
      "C:\\Users\\Takashi\\Miniconda3\\lib\\site-packages\\sklearn\\metrics\\scorer.py:127: DeprecationWarning: Scoring method log_loss was renamed to neg_log_loss in version 0.18 and will be removed in 0.20.\n",
      "  sample_weight=sample_weight)\n"
     ]
    },
    {
     "name": "stdout",
     "output_type": "stream",
     "text": [
      "[CV]  max_depth=7, colsample_bytree=0.55894037856, subsample=0.975827710479 -   0.0s\n",
      "[CV] max_depth=7, colsample_bytree=0.55894037856, subsample=0.975827710479 \n",
      "[CV]  max_depth=7, colsample_bytree=0.55894037856, subsample=0.975827710479 -   0.0s\n",
      "[CV] max_depth=7, colsample_bytree=0.55894037856, subsample=0.975827710479 \n",
      "[CV]  max_depth=7, colsample_bytree=0.55894037856, subsample=0.975827710479 -   0.0s\n",
      "[CV] max_depth=7, colsample_bytree=0.55894037856, subsample=0.975827710479 \n",
      "[CV]  max_depth=7, colsample_bytree=0.55894037856, subsample=0.975827710479 -   0.0s\n",
      "[CV] max_depth=7, colsample_bytree=0.55894037856, subsample=0.975827710479 \n",
      "[CV]  max_depth=7, colsample_bytree=0.55894037856, subsample=0.975827710479 -   0.0s\n",
      "-0.42778240618733976\n",
      "{'max_depth': 2, 'colsample_bytree': 0.95110852205642438, 'subsample': 0.84657026355091891}\n"
     ]
    },
    {
     "name": "stderr",
     "output_type": "stream",
     "text": [
      "C:\\Users\\Takashi\\Miniconda3\\lib\\site-packages\\sklearn\\metrics\\scorer.py:127: DeprecationWarning: Scoring method log_loss was renamed to neg_log_loss in version 0.18 and will be removed in 0.20.\n",
      "  sample_weight=sample_weight)\n",
      "C:\\Users\\Takashi\\Miniconda3\\lib\\site-packages\\sklearn\\metrics\\scorer.py:127: DeprecationWarning: Scoring method log_loss was renamed to neg_log_loss in version 0.18 and will be removed in 0.20.\n",
      "  sample_weight=sample_weight)\n",
      "[Parallel(n_jobs=1)]: Done 2000 out of 2000 | elapsed:  2.4min finished\n"
     ]
    }
   ],
   "source": [
    "rs = rs.fit(X_train, y_train)\n",
    "print(rs.best_score_)\n",
    "print(rs.best_params_)"
   ]
  },
  {
   "cell_type": "code",
   "execution_count": 11,
   "metadata": {
    "collapsed": false
   },
   "outputs": [
    {
     "name": "stdout",
     "output_type": "stream",
     "text": [
      "Test accuracy: 0.817\n"
     ]
    }
   ],
   "source": [
    "clf = rs.best_estimator_\n",
    "clf.fit(X_train, y_train)\n",
    "print('Test accuracy: %.3f' % clf.score(X_test, y_test))"
   ]
  },
  {
   "cell_type": "code",
   "execution_count": null,
   "metadata": {
    "collapsed": true
   },
   "outputs": [],
   "source": []
  }
 ],
 "metadata": {
  "anaconda-cloud": {},
  "kernelspec": {
   "display_name": "Python [Root]",
   "language": "python",
   "name": "Python [Root]"
  },
  "language_info": {
   "codemirror_mode": {
    "name": "ipython",
    "version": 3
   },
   "file_extension": ".py",
   "mimetype": "text/x-python",
   "name": "python",
   "nbconvert_exporter": "python",
   "pygments_lexer": "ipython3",
   "version": "3.5.2"
  }
 },
 "nbformat": 4,
 "nbformat_minor": 1
}
