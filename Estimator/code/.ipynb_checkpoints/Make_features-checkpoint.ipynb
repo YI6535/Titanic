{
 "cells": [
  {
   "cell_type": "code",
   "execution_count": 1,
   "metadata": {
    "collapsed": true
   },
   "outputs": [],
   "source": [
    "import pandas as pd\n",
    "from matplotlib import pyplot as plt\n",
    "import matplotlib\n",
    "import numpy as np"
   ]
  },
  {
   "cell_type": "code",
   "execution_count": 4,
   "metadata": {
    "collapsed": true
   },
   "outputs": [],
   "source": [
    "RF_features=np.load(\"../data/RF_features.npy\")\n",
    "lr_features=np.load(\"../data/lr_features.npy\")\n",
    "svm_features=np.load(\"../data/svm_features.npy\")\n",
    "knn_features=np.load(\"../data/knn_features.npy\")\n",
    "\n",
    "y_train_2 = np.load(\"../../前処理/data/y_train_2.npy\")\n",
    "RF_features_test=np.load(\"../data/RF_features_test.npy\")\n",
    "lr_features_test=np.load(\"../data/lr_features_test.npy\")\n",
    "svm_features_test=np.load(\"../data/svm_features_test.npy\")\n",
    "knn_features_test=np.load(\"../data/knn_features_test.npy\")\n",
    "\n",
    "RF_features_real_test=np.load(\"../data/RF_features_real_test.npy\")\n",
    "lr_features_real_test=np.load(\"../data/lr_features_real_test.npy\")\n",
    "svm_features_real_test=np.load(\"../data/svm_features_real_test.npy\")\n",
    "knn_features_real_test=np.load(\"../data/knn_features_real_test.npy\")"
   ]
  },
  {
   "cell_type": "code",
   "execution_count": 5,
   "metadata": {
    "collapsed": false
   },
   "outputs": [],
   "source": [
    "new_features = np.array([RF_features, lr_features, svm_features, knn_features])\n",
    "new_features = new_features.T\n",
    "new_features.shape\n",
    "np.save(\"../data/new_features.npy\", new_features)\n",
    "\n",
    "new_features_test = np.array([RF_features_test, lr_features_test, svm_features_test, knn_features_test])\n",
    "new_features_test = new_features_test.T\n",
    "new_features_test.shape\n",
    "np.save(\"../data/new_features_test.npy\", new_features_test)\n",
    "\n",
    "new_features_real_test = np.array([RF_features_real_test, lr_features_real_test, svm_features_real_test, knn_features_real_test])\n",
    "new_features_real_test = new_features_real_test.T\n",
    "new_features_real_test.shape\n",
    "np.save(\"../data/new_features_real_test.npy\", new_features_real_test)"
   ]
  },
  {
   "cell_type": "code",
   "execution_count": null,
   "metadata": {
    "collapsed": true
   },
   "outputs": [],
   "source": []
  },
  {
   "cell_type": "code",
   "execution_count": null,
   "metadata": {
    "collapsed": true
   },
   "outputs": [],
   "source": []
  }
 ],
 "metadata": {
  "anaconda-cloud": {},
  "kernelspec": {
   "display_name": "Python [Root]",
   "language": "python",
   "name": "Python [Root]"
  },
  "language_info": {
   "codemirror_mode": {
    "name": "ipython",
    "version": 3
   },
   "file_extension": ".py",
   "mimetype": "text/x-python",
   "name": "python",
   "nbconvert_exporter": "python",
   "pygments_lexer": "ipython3",
   "version": "3.5.2"
  }
 },
 "nbformat": 4,
 "nbformat_minor": 0
}
