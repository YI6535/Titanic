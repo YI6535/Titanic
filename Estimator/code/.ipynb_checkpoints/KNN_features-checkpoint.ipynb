{
 "cells": [
  {
   "cell_type": "code",
   "execution_count": 54,
   "metadata": {
    "collapsed": true
   },
   "outputs": [],
   "source": [
    "import pandas as pd\n",
    "from matplotlib import pyplot as plt\n",
    "import matplotlib\n",
    "import numpy as np"
   ]
  },
  {
   "cell_type": "code",
   "execution_count": 55,
   "metadata": {
    "collapsed": true
   },
   "outputs": [],
   "source": [
    "X_train_1 = np.load(\"../../前処理/data/X_train_1.npy\")\n",
    "y_train_1 = np.load(\"../../前処理/data/y_train_1.npy\")\n",
    "X_train_2 = np.load(\"../../前処理/data/X_train_2.npy\")\n",
    "y_train_2 = np.load(\"../../前処理/data/y_train_2.npy\")\n",
    "X_test_1 = np.load(\"../../前処理/data/X_test_1.npy\")\n",
    "real_test = np.load(\"../../前処理/data/real_test.npy\")"
   ]
  },
  {
   "cell_type": "code",
   "execution_count": 56,
   "metadata": {
    "collapsed": false
   },
   "outputs": [],
   "source": [
    "from sklearn.neighbors import KNeighborsRegressor\n",
    "from sklearn.grid_search import GridSearchCV\n",
    "from sklearn.cross_validation import StratifiedKFold\n",
    "parameter_grid ={\n",
    "                 \"n_neighbors\":[1, 2, 3, 4, 5]\n",
    "                 }\n",
    "cross_validation = StratifiedKFold(y_train_1, n_folds=5)\n",
    "\n",
    "clf = GridSearchCV(estimator = KNeighborsRegressor(p=2, metric='minkowski'),\n",
    "                   param_grid = parameter_grid,\n",
    "                  cv=cross_validation)"
   ]
  },
  {
   "cell_type": "code",
   "execution_count": 57,
   "metadata": {
    "collapsed": false
   },
   "outputs": [
    {
     "name": "stdout",
     "output_type": "stream",
     "text": [
      "0.335599415205\n"
     ]
    }
   ],
   "source": [
    "clf = clf.fit(X_train_1, y_train_1)\n",
    "print(clf.score(X_train_1, y_train_1))"
   ]
  },
  {
   "cell_type": "code",
   "execution_count": 58,
   "metadata": {
    "collapsed": false
   },
   "outputs": [],
   "source": [
    "output = clf.predict(X_train_2)\n",
    "np.save(\"../data/knn_features.npy\", output)"
   ]
  },
  {
   "cell_type": "code",
   "execution_count": 59,
   "metadata": {
    "collapsed": false
   },
   "outputs": [],
   "source": [
    "output = clf.predict(X_test_1)\n",
    "np.save(\"../data/knn_features_test.npy\", output)"
   ]
  },
  {
   "cell_type": "code",
   "execution_count": 60,
   "metadata": {
    "collapsed": false
   },
   "outputs": [],
   "source": [
    "output = clf.predict(real_test)\n",
    "np.save(\"../data/knn_features_real_test.npy\", output)"
   ]
  },
  {
   "cell_type": "code",
   "execution_count": 61,
   "metadata": {
    "collapsed": false
   },
   "outputs": [
    {
     "data": {
      "text/plain": [
       "array([ 0.  ,  0.  ,  0.  ,  0.  ,  0.  ,  0.  ,  0.  ,  0.25,  0.  ,\n",
       "        0.25,  0.  ,  0.  ,  0.5 ,  0.  ,  0.5 ,  0.25,  0.  ,  0.  ,\n",
       "        0.  ,  0.  ,  0.25,  0.  ,  0.  ,  0.5 ,  0.75,  0.  ,  0.5 ,\n",
       "        0.  ,  0.  ,  0.  ,  0.25,  0.25,  0.  ,  0.  ,  0.25,  0.25,\n",
       "        0.25,  0.25,  0.25,  0.25,  0.25,  0.25,  0.5 ,  0.5 ,  0.5 ,\n",
       "        0.5 ,  0.25,  0.5 ,  0.25,  0.5 ,  0.25,  0.5 ,  0.5 ,  0.75,\n",
       "        0.5 ,  0.25,  0.5 ,  0.5 ,  0.5 ,  0.75,  0.5 ,  0.5 ,  0.5 ,\n",
       "        0.5 ,  0.75,  0.5 ,  0.5 ,  0.5 ,  0.5 ,  0.75,  0.5 ,  0.5 ,\n",
       "        0.5 ,  0.5 ,  0.75,  0.75,  0.5 ,  0.5 ,  0.75,  0.5 ,  0.25,\n",
       "        0.75,  0.5 ,  0.5 ,  0.5 ,  0.75,  0.5 ,  0.5 ,  0.5 ,  0.75,\n",
       "        0.75,  0.5 ,  0.5 ,  0.5 ,  0.5 ,  0.5 ,  0.5 ,  0.5 ,  0.25,\n",
       "        0.25,  0.5 ,  0.5 ,  0.25,  0.25,  0.25,  0.25,  0.25,  0.  ,\n",
       "        0.  ,  0.25,  0.  ,  0.25,  0.  ,  0.25,  0.75,  0.25,  0.25,\n",
       "        0.5 ,  1.  ,  0.25,  0.25,  0.25,  0.5 ,  0.25,  0.25,  0.5 ,\n",
       "        0.25,  0.25,  0.  ,  0.5 ,  0.25,  0.25,  0.25,  0.5 ,  0.5 ,\n",
       "        0.5 ,  0.5 ,  0.5 ,  0.5 ,  0.75,  0.5 ,  0.75,  0.5 ,  0.75,\n",
       "        0.5 ,  0.75,  0.75,  0.5 ,  0.5 ,  0.75,  1.  ,  0.5 ,  0.5 ,\n",
       "        0.5 ,  0.5 ,  0.25,  0.75,  0.25,  0.75,  0.25,  0.25,  0.75,\n",
       "        0.25,  0.25,  0.5 ,  0.25,  0.5 ,  0.5 ,  0.5 ,  0.  ,  0.  ,\n",
       "        0.  ,  0.  ,  0.  ,  0.25,  0.5 ,  0.5 ,  0.5 ,  0.25,  1.  ,\n",
       "        0.  ,  1.  ,  0.25,  0.  ,  0.25,  0.  ,  0.25,  0.  ,  0.5 ,\n",
       "        0.  ,  0.5 ,  0.5 ,  0.  ,  0.25,  0.5 ,  0.  ,  0.75,  0.25,\n",
       "        0.25,  0.5 ,  0.25,  0.25,  0.5 ,  0.75,  0.5 ,  0.75,  0.5 ,\n",
       "        0.5 ,  0.75,  0.25,  0.75,  0.5 ,  0.5 ,  0.25,  0.5 ,  0.25,\n",
       "        0.25,  0.75,  0.5 ,  0.25,  0.25,  0.  ,  0.  ,  0.  ,  0.25,\n",
       "        0.  ,  0.  ,  0.  ,  0.  ,  0.  ,  0.5 ,  0.25,  0.25,  0.25,\n",
       "        0.75,  0.25,  0.25,  0.25,  0.25,  1.  ,  0.  ,  0.  ,  0.75,\n",
       "        0.25,  0.5 ,  0.25,  0.25,  0.  ,  0.25,  0.25,  0.5 ,  0.25,\n",
       "        0.75,  0.25,  0.  ,  0.25,  0.25,  0.25,  0.5 ,  0.25,  0.25,\n",
       "        0.25,  0.5 ,  0.25,  0.25,  0.25,  0.25,  0.25,  0.25,  0.25,\n",
       "        0.75,  0.  ,  0.75,  0.5 ,  0.  ,  0.5 ,  0.5 ,  0.75,  0.5 ,\n",
       "        0.25,  0.25,  0.25,  0.25,  0.25,  0.5 ,  0.25,  0.25,  1.  ,\n",
       "        0.25,  0.25,  0.75,  0.25,  0.25,  1.  ,  0.25,  0.25,  0.75,\n",
       "        0.5 ,  0.75,  0.25,  0.25,  0.25,  0.75,  0.5 ,  0.5 ,  0.75,\n",
       "        0.75,  0.5 ,  1.  ,  0.5 ,  0.5 ,  0.5 ,  0.5 ,  0.5 ,  1.  ,\n",
       "        0.5 ,  0.75,  0.5 ,  0.5 ,  0.5 ,  0.5 ,  0.5 ,  0.5 ,  0.5 ,\n",
       "        0.5 ,  0.5 ,  0.5 ,  1.  ,  0.25,  0.5 ,  0.5 ,  0.5 ,  0.25,\n",
       "        0.25,  0.25,  0.25,  0.25,  0.25,  0.25,  0.  ,  0.25,  0.25,\n",
       "        0.75,  0.5 ,  0.25,  0.25,  0.25,  0.25,  0.  ,  0.  ,  0.75,\n",
       "        0.  ,  0.75,  0.75,  0.  ,  0.  ,  0.25,  0.  ,  0.  ,  0.  ,\n",
       "        0.75,  0.  ,  0.  ,  0.  ,  0.5 ,  0.75,  0.  ,  0.25,  0.25,\n",
       "        0.  ,  0.  ,  1.  ,  0.  ,  0.  ,  0.75,  0.75,  0.  ,  0.  ,\n",
       "        0.25,  0.5 ,  0.  ,  0.  ,  0.  ,  0.25,  0.  ,  0.5 ,  0.  ,\n",
       "        0.25,  0.25,  0.25,  0.75,  0.25,  0.25,  0.  ,  0.  ,  0.5 ,\n",
       "        0.  ,  0.25,  0.  ,  0.  ,  0.75,  0.  ,  0.5 ,  0.5 ,  0.  ,\n",
       "        0.25,  0.25,  0.75,  0.25,  0.25,  0.25,  0.75,  0.25,  0.25,\n",
       "        0.75,  0.  ,  0.25,  0.5 ])"
      ]
     },
     "execution_count": 61,
     "metadata": {},
     "output_type": "execute_result"
    }
   ],
   "source": [
    "output"
   ]
  },
  {
   "cell_type": "code",
   "execution_count": null,
   "metadata": {
    "collapsed": true
   },
   "outputs": [],
   "source": []
  },
  {
   "cell_type": "code",
   "execution_count": null,
   "metadata": {
    "collapsed": true
   },
   "outputs": [],
   "source": []
  }
 ],
 "metadata": {
  "anaconda-cloud": {},
  "kernelspec": {
   "display_name": "Python [Root]",
   "language": "python",
   "name": "Python [Root]"
  },
  "language_info": {
   "codemirror_mode": {
    "name": "ipython",
    "version": 3
   },
   "file_extension": ".py",
   "mimetype": "text/x-python",
   "name": "python",
   "nbconvert_exporter": "python",
   "pygments_lexer": "ipython3",
   "version": "3.5.2"
  }
 },
 "nbformat": 4,
 "nbformat_minor": 0
}
