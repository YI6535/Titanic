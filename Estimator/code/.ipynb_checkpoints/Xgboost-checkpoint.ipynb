{
 "cells": [
  {
   "cell_type": "code",
   "execution_count": 1,
   "metadata": {
    "collapsed": true
   },
   "outputs": [],
   "source": [
    "import pandas as pd\n",
    "from matplotlib import pyplot as plt\n",
    "import matplotlib\n",
    "import numpy as np"
   ]
  },
  {
   "cell_type": "code",
   "execution_count": 2,
   "metadata": {
    "collapsed": true
   },
   "outputs": [],
   "source": [
    "X_train = np.load(\"../../前処理/data/X_train.npy\")\n",
    "y_train = np.load(\"../../前処理/data/y_train.npy\")\n",
    "X_test = np.load(\"../../前処理/data/X_test.npy\")\n",
    "y_test = np.load(\"../../前処理/data/y_test.npy\")\n",
    "real_test = np.load(\"../../前処理/data/real_test.npy\")\n",
    "targets = np.load(\"../../前処理/data/targets.npy\")\n",
    "all_train = np.load(\"../../前処理/data/all_train.npy\")"
   ]
  },
  {
   "cell_type": "code",
   "execution_count": null,
   "metadata": {
    "collapsed": true
   },
   "outputs": [],
   "source": [
    "from sklearn.grid_search import GridSearchCV\n",
    "import xgboost as xgb\n",
    "from sklearn.cross_validation import StratifiedKFold\n",
    "parameter_grid={'max_depth': [5],\n",
    "                'subsample': [0.95],\n",
    "                'colsample_bytree': [1.0]\n",
    "                }\n",
    "\n",
    "cross_validation = StratifiedKFold(y_train, n_folds=5)\n",
    "\n",
    "gs = GridSearchCV(estimator = xgb.XGBClassifier(),\n",
    "                  param_grid=parameter_grid,\n",
    "                  cv = cross_validation)"
   ]
  }
 ],
 "metadata": {
  "kernelspec": {
   "display_name": "Python 3",
   "language": "python",
   "name": "python3"
  },
  "language_info": {
   "codemirror_mode": {
    "name": "ipython",
    "version": 3
   },
   "file_extension": ".py",
   "mimetype": "text/x-python",
   "name": "python",
   "nbconvert_exporter": "python",
   "pygments_lexer": "ipython3",
   "version": "3.5.2"
  }
 },
 "nbformat": 4,
 "nbformat_minor": 1
}
