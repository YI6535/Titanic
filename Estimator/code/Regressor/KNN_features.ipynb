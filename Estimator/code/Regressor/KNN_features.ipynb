{
 "cells": [
  {
   "cell_type": "code",
   "execution_count": 6,
   "metadata": {
    "collapsed": true
   },
   "outputs": [],
   "source": [
    "import pandas as pd\n",
    "from matplotlib import pyplot as plt\n",
    "import matplotlib\n",
    "import numpy as np"
   ]
  },
  {
   "cell_type": "code",
   "execution_count": 7,
   "metadata": {
    "collapsed": true
   },
   "outputs": [],
   "source": [
    "X_train_1 = np.load(\"../../../Processing/data/X_train_1.npy\")\n",
    "y_train_1 = np.load(\"../../../Processing/data/y_train_1.npy\")\n",
    "X_train_2 = np.load(\"../../../Processing/data/X_train_2.npy\")\n",
    "y_train_2 = np.load(\"../../../Processing/data/y_train_2.npy\")\n",
    "X_test_1 = np.load(\"../../../Processing/data/X_test_1.npy\")\n",
    "real_test = np.load(\"../../../Processing/data/real_test.npy\")"
   ]
  },
  {
   "cell_type": "code",
   "execution_count": 8,
   "metadata": {
    "collapsed": false
   },
   "outputs": [],
   "source": [
    "from sklearn.neighbors import KNeighborsRegressor\n",
    "from sklearn.grid_search import GridSearchCV\n",
    "from sklearn.cross_validation import StratifiedKFold\n",
    "parameter_grid ={\n",
    "                 \"n_neighbors\":[1, 2, 3, 4, 5]\n",
    "                 }\n",
    "cross_validation = StratifiedKFold(y_train_1, n_folds=5)\n",
    "\n",
    "clf = GridSearchCV(estimator = KNeighborsRegressor(p=2, metric='minkowski'),\n",
    "                   param_grid = parameter_grid,\n",
    "                  cv=cross_validation)"
   ]
  },
  {
   "cell_type": "code",
   "execution_count": 9,
   "metadata": {
    "collapsed": false
   },
   "outputs": [],
   "source": [
    "clf.fit(X_train_1,y_train_1)\n",
    "output = clf.predict(X_train_2)\n",
    "np.save(\"../../data/knn_features.npy\", output)"
   ]
  },
  {
   "cell_type": "code",
   "execution_count": 10,
   "metadata": {
    "collapsed": false
   },
   "outputs": [],
   "source": [
    "output = clf.predict(X_test_1)\n",
    "np.save(\"../../data/knn_features_test.npy\", output)"
   ]
  },
  {
   "cell_type": "code",
   "execution_count": 11,
   "metadata": {
    "collapsed": false
   },
   "outputs": [],
   "source": [
    "output = clf.predict(real_test)\n",
    "np.save(\"../../data/knn_features_real_test.npy\", output)"
   ]
  },
  {
   "cell_type": "code",
   "execution_count": 12,
   "metadata": {
    "collapsed": false
   },
   "outputs": [
    {
     "data": {
      "text/plain": [
       "array([ 0.  ,  0.25,  0.25,  0.5 ,  0.5 ,  0.5 ,  0.25,  0.5 ,  0.5 ,\n",
       "        0.25,  0.25,  0.5 ,  0.5 ,  0.5 ,  0.75,  0.25,  0.25,  0.25,\n",
       "        0.25,  0.25,  0.75,  0.5 ,  0.25,  0.25,  0.75,  0.25,  0.25,\n",
       "        0.25,  0.25,  0.25,  0.25,  0.25,  0.25,  0.25,  0.5 ,  0.25,\n",
       "        0.25,  0.25,  0.25,  0.5 ,  0.25,  0.25,  0.25,  0.25,  0.5 ,\n",
       "        0.25,  0.25,  0.25,  0.75,  0.25,  0.5 ,  0.25,  0.25,  0.5 ,\n",
       "        0.25,  0.25,  0.25,  0.25,  0.25,  0.5 ,  0.25,  0.25,  0.25,\n",
       "        0.25,  0.5 ,  0.25,  0.25,  0.25,  0.25,  0.75,  0.25,  0.25,\n",
       "        0.25,  0.25,  0.75,  0.75,  0.25,  0.25,  0.25,  0.25,  0.25,\n",
       "        0.75,  0.25,  0.25,  0.25,  0.25,  0.25,  0.25,  0.25,  0.25,\n",
       "        0.25,  0.25,  0.25,  0.25,  0.25,  0.25,  0.75,  0.25,  0.25,\n",
       "        0.25,  0.5 ,  0.25,  0.25,  0.25,  0.25,  0.25,  0.25,  0.25,\n",
       "        0.25,  0.25,  0.25,  0.25,  0.25,  0.25,  0.75,  0.25,  0.25,\n",
       "        0.25,  0.5 ,  0.25,  0.25,  0.25,  0.5 ,  0.25,  0.25,  0.25,\n",
       "        0.25,  0.25,  0.25,  0.25,  0.25,  0.25,  0.25,  0.25,  0.25,\n",
       "        0.25,  0.25,  0.25,  0.25,  0.25,  0.25,  0.75,  0.75,  0.25,\n",
       "        0.25,  0.25,  0.25,  0.25,  0.25,  0.25,  0.5 ,  0.25,  0.25,\n",
       "        0.25,  0.25,  0.25,  0.75,  0.25,  0.25,  0.25,  0.25,  0.25,\n",
       "        0.25,  0.25,  0.25,  0.25,  0.25,  0.25,  0.25,  0.25,  0.25,\n",
       "        0.25,  0.25,  0.25,  0.25,  0.25,  0.25,  0.5 ,  0.25,  0.5 ,\n",
       "        0.25,  0.5 ,  0.25,  0.25,  0.75,  0.25,  0.25,  0.25,  0.5 ,\n",
       "        0.25,  0.25,  0.25,  0.25,  0.25,  0.25,  0.25,  0.5 ,  0.25,\n",
       "        0.25,  0.25,  0.25,  0.25,  0.75,  0.25,  0.25,  0.25,  0.25,\n",
       "        0.25,  0.25,  0.25,  0.25,  0.25,  0.5 ,  0.25,  0.25,  0.25,\n",
       "        0.25,  0.75,  0.75,  0.25,  0.25,  0.25,  0.25,  0.25,  0.25,\n",
       "        0.25,  0.25,  0.25,  0.25,  0.25,  0.25,  0.25,  0.25,  0.25,\n",
       "        0.5 ,  0.25,  0.5 ,  0.25,  0.25,  0.5 ,  0.25,  0.25,  0.5 ,\n",
       "        0.25,  0.25,  0.25,  0.25,  0.25,  0.25,  0.25,  0.25,  0.25,\n",
       "        0.5 ,  0.25,  0.25,  0.25,  0.25,  0.25,  0.25,  0.25,  0.25,\n",
       "        0.25,  0.25,  0.25,  0.25,  0.25,  0.25,  0.25,  0.25,  0.25,\n",
       "        0.5 ,  0.25,  0.5 ,  0.25,  0.25,  0.25,  0.25,  0.25,  0.25,\n",
       "        0.25,  0.25,  0.25,  0.25,  0.25,  0.25,  0.25,  0.25,  0.5 ,\n",
       "        0.25,  0.25,  0.25,  0.25,  0.25,  0.5 ,  0.25,  0.25,  0.25,\n",
       "        0.25,  0.25,  0.25,  0.25,  0.25,  0.25,  0.25,  0.25,  0.25,\n",
       "        0.5 ,  0.25,  0.5 ,  0.25,  0.25,  0.25,  0.25,  0.25,  0.5 ,\n",
       "        0.25,  0.5 ,  0.25,  0.25,  0.25,  0.25,  0.25,  0.25,  0.25,\n",
       "        0.5 ,  0.25,  0.25,  0.5 ,  0.25,  0.25,  0.25,  0.25,  0.25,\n",
       "        0.25,  0.25,  0.25,  0.25,  0.25,  0.25,  0.25,  0.25,  0.25,\n",
       "        0.25,  0.75,  0.25,  0.25,  0.25,  0.25,  0.25,  0.25,  0.25,\n",
       "        0.25,  0.25,  0.25,  0.25,  0.25,  0.25,  0.25,  0.25,  0.25,\n",
       "        0.25,  0.25,  0.25,  0.25,  0.25,  0.25,  0.25,  0.25,  0.25,\n",
       "        0.25,  0.25,  0.5 ,  0.25,  0.25,  0.5 ,  0.75,  0.25,  0.25,\n",
       "        0.25,  0.25,  0.25,  0.25,  0.25,  0.25,  0.25,  0.25,  0.25,\n",
       "        0.25,  0.25,  0.25,  0.5 ,  0.25,  0.25,  0.25,  0.25,  0.25,\n",
       "        0.25,  0.5 ,  0.25,  0.25,  0.5 ,  0.25,  0.25,  0.25,  0.25,\n",
       "        0.25,  0.25,  0.5 ,  0.25,  0.25,  0.25,  0.5 ,  0.25,  0.25,\n",
       "        0.5 ,  0.25,  0.25,  0.25])"
      ]
     },
     "execution_count": 12,
     "metadata": {},
     "output_type": "execute_result"
    }
   ],
   "source": [
    "output"
   ]
  },
  {
   "cell_type": "code",
   "execution_count": null,
   "metadata": {
    "collapsed": true
   },
   "outputs": [],
   "source": []
  },
  {
   "cell_type": "code",
   "execution_count": null,
   "metadata": {
    "collapsed": true
   },
   "outputs": [],
   "source": []
  }
 ],
 "metadata": {
  "anaconda-cloud": {},
  "kernelspec": {
   "display_name": "Python [Root]",
   "language": "python",
   "name": "Python [Root]"
  },
  "language_info": {
   "codemirror_mode": {
    "name": "ipython",
    "version": 3
   },
   "file_extension": ".py",
   "mimetype": "text/x-python",
   "name": "python",
   "nbconvert_exporter": "python",
   "pygments_lexer": "ipython3",
   "version": "3.5.2"
  }
 },
 "nbformat": 4,
 "nbformat_minor": 0
}
