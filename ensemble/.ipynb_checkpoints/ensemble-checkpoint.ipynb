{
 "cells": [
  {
   "cell_type": "code",
   "execution_count": 23,
   "metadata": {
    "collapsed": true
   },
   "outputs": [],
   "source": [
    "import pandas as pd\n",
    "from matplotlib import pyplot as plt\n",
    "import matplotlib\n",
    "import numpy as np"
   ]
  },
  {
   "cell_type": "code",
   "execution_count": 24,
   "metadata": {
    "collapsed": false
   },
   "outputs": [],
   "source": [
    "X_train = np.load(\"../Processing/data/X_train.npy\")\n",
    "y_train = np.load(\"../Processing/data/y_train.npy\")\n",
    "X_test = np.load(\"../Processing/data/X_test.npy\")\n",
    "y_test = np.load(\"../Processing/data/y_test.npy\")\n",
    "real_test = np.load(\"../Processing/data/real_test.npy\")\n",
    "targets = np.load(\"../Processing/data/targets.npy\")\n",
    "all_train = np.load(\"../Processing/data/all_train.npy\")"
   ]
  },
  {
   "cell_type": "code",
   "execution_count": 25,
   "metadata": {
    "collapsed": false
   },
   "outputs": [],
   "source": [
    "from sklearn.linear_model import LogisticRegression\n",
    "from sklearn.neighbors import KNeighborsClassifier \n",
    "from sklearn.svm import SVC\n",
    "from sklearn.ensemble import RandomForestClassifier\n",
    "from sklearn.neural_network import MLPClassifier\n",
    "import xgboost as xgb\n",
    "from sklearn.naive_bayes import GaussianNB\n",
    "from sklearn.naive_bayes import BernoulliNB\n",
    "\n",
    "clf1 = RandomForestClassifier(max_features=\"sqrt\",\n",
    "                              n_estimators=200, \n",
    "                              max_depth=4, \n",
    "                              criterion=\"entropy\",) \n",
    "            \n",
    "clf2 = SVC(kernel='linear', C = 1)\n",
    "\n",
    "clf3 = LogisticRegression(C = 1.9, penalty='l2')\n",
    "\n",
    "clf4 = KNeighborsClassifier(p = 2, metric='minkowski', n_neighbors = 2)\n",
    "\n",
    "clf5 = SVC(kernel='rbf', gamma=0.06,C=1.01)\n",
    "\n",
    "clf6 = MLPClassifier(activation = 'logistic',solver = 'lbgfs', alpha=2.4)\n",
    "\n",
    "clf7 = xgb.XGBClassifier(max_depth=8, subsample=0.3,colsample_bytree=0.4)\n",
    "\n",
    "clf8 = GaussianNB()\n",
    "\n",
    "clf9 = BernoulliNB(alpha=0.1, binarize=0.1)"
   ]
  },
  {
   "cell_type": "code",
   "execution_count": 26,
   "metadata": {
    "collapsed": false
   },
   "outputs": [
    {
     "name": "stdout",
     "output_type": "stream",
     "text": [
      "0.820895522388\n",
      "0.776119402985\n",
      "0.805970149254\n",
      "0.798507462687\n",
      "0.828358208955\n",
      "0.798507462687\n",
      "0.820895522388\n",
      "0.828358208955\n",
      "0.783582089552\n"
     ]
    }
   ],
   "source": [
    "for clf in [clf1, clf2, clf3, clf4, clf5, clf6, clf7, clf8, clf9]:\n",
    "    clf_instance = clf.fit(X_train, y_train)\n",
    "    print(clf_instance.score(X_test, y_test))"
   ]
  },
  {
   "cell_type": "code",
   "execution_count": 36,
   "metadata": {
    "collapsed": false
   },
   "outputs": [
    {
     "name": "stdout",
     "output_type": "stream",
     "text": [
      "0.805970149254\n",
      "elapsed_time:0.656977653503418\n"
     ]
    }
   ],
   "source": [
    "\n",
    "import numpy \n",
    "from sklearn.ensemble import VotingClassifier\n",
    "mv_clf = VotingClassifier(estimators=[(\"RF\", clf1), (\"SVM\", clf2), (\"lr\", clf3), \n",
    "                                      (\"knn\", clf4), (\"kernel-SVM\", clf5), (\"MLP\", clf6), \n",
    "                                      (\"XGB\", clf7), (\"GNB\", clf8), (\"BNB\", clf9)], \n",
    "                          weights=[1, 1, 1, 1, 1, 1, 1, 1, 1]\n",
    "                          ,voting=\"hard\")\n",
    "mv_clf = mv_clf.fit(X_train, y_train)\n",
    "print(mv_clf.score(X_test, y_test))"
   ]
  },
  {
   "cell_type": "code",
   "execution_count": 22,
   "metadata": {
    "collapsed": false
   },
   "outputs": [],
   "source": [
    "mv_clf.fit(all_train, targets)\n",
    "test = pd.read_csv(\"../Training_test_data/test.csv\")\n",
    "output = mv_clf.predict(real_test).astype(int)\n",
    "df_output = pd.DataFrame()\n",
    "df_output['PassengerId'] = test['PassengerId']\n",
    "df_output['Survived'] = output\n",
    "df_output[['PassengerId','Survived']].to_csv('../Submission/ensemble_output.csv',index=False)"
   ]
  },
  {
   "cell_type": "code",
   "execution_count": null,
   "metadata": {
    "collapsed": true
   },
   "outputs": [],
   "source": []
  },
  {
   "cell_type": "code",
   "execution_count": null,
   "metadata": {
    "collapsed": true
   },
   "outputs": [],
   "source": []
  },
  {
   "cell_type": "code",
   "execution_count": null,
   "metadata": {
    "collapsed": true
   },
   "outputs": [],
   "source": []
  }
 ],
 "metadata": {
  "anaconda-cloud": {},
  "kernelspec": {
   "display_name": "Python [Root]",
   "language": "python",
   "name": "Python [Root]"
  },
  "language_info": {
   "codemirror_mode": {
    "name": "ipython",
    "version": 3
   },
   "file_extension": ".py",
   "mimetype": "text/x-python",
   "name": "python",
   "nbconvert_exporter": "python",
   "pygments_lexer": "ipython3",
   "version": "3.5.2"
  }
 },
 "nbformat": 4,
 "nbformat_minor": 1
}
